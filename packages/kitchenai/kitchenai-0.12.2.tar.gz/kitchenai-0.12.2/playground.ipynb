{
 "cells": [
  {
   "cell_type": "code",
   "execution_count": 1,
   "metadata": {},
   "outputs": [
    {
     "data": {
      "application/vnd.jupyter.widget-view+json": {
       "model_id": "fcf5eba960de4aeba6039127b3f8e049",
       "version_major": 2,
       "version_minor": 0
      },
      "text/plain": [
       "Output()"
      ]
     },
     "metadata": {},
     "output_type": "display_data"
    },
    {
     "data": {
      "text/html": [
       "<pre style=\"white-space:pre;overflow-x:auto;line-height:normal;font-family:Menlo,'DejaVu Sans Mono',consolas,'Courier New',monospace\">INFO:chromadb.telemetry.product.posthog:Anonymized telemetry enabled. See                     \n",
       "https://docs.trychroma.com/telemetry for more information.\n",
       "</pre>\n"
      ],
      "text/plain": [
       "INFO:chromadb.telemetry.product.posthog:Anonymized telemetry enabled. See                     \n",
       "https://docs.trychroma.com/telemetry for more information.\n"
      ]
     },
     "metadata": {},
     "output_type": "display_data"
    },
    {
     "data": {
      "text/html": [
       "<pre style=\"white-space:pre;overflow-x:auto;line-height:normal;font-family:Menlo,'DejaVu Sans Mono',consolas,'Courier New',monospace\">DEBUG:chromadb.config:Starting component System\n",
       "</pre>\n"
      ],
      "text/plain": [
       "DEBUG:chromadb.config:Starting component System\n"
      ]
     },
     "metadata": {},
     "output_type": "display_data"
    },
    {
     "data": {
      "text/html": [
       "<pre style=\"white-space:pre;overflow-x:auto;line-height:normal;font-family:Menlo,'DejaVu Sans Mono',consolas,'Courier New',monospace\">DEBUG:chromadb.config:Starting component Posthog\n",
       "</pre>\n"
      ],
      "text/plain": [
       "DEBUG:chromadb.config:Starting component Posthog\n"
      ]
     },
     "metadata": {},
     "output_type": "display_data"
    },
    {
     "data": {
      "text/html": [
       "<pre style=\"white-space:pre;overflow-x:auto;line-height:normal;font-family:Menlo,'DejaVu Sans Mono',consolas,'Courier New',monospace\">DEBUG:chromadb.config:Starting component OpenTelemetryClient\n",
       "</pre>\n"
      ],
      "text/plain": [
       "DEBUG:chromadb.config:Starting component OpenTelemetryClient\n"
      ]
     },
     "metadata": {},
     "output_type": "display_data"
    },
    {
     "data": {
      "text/html": [
       "<pre style=\"white-space:pre;overflow-x:auto;line-height:normal;font-family:Menlo,'DejaVu Sans Mono',consolas,'Courier New',monospace\">DEBUG:chromadb.config:Starting component SqliteDB\n",
       "</pre>\n"
      ],
      "text/plain": [
       "DEBUG:chromadb.config:Starting component SqliteDB\n"
      ]
     },
     "metadata": {},
     "output_type": "display_data"
    },
    {
     "data": {
      "text/html": [
       "<pre style=\"white-space:pre;overflow-x:auto;line-height:normal;font-family:Menlo,'DejaVu Sans Mono',consolas,'Courier New',monospace\">DEBUG:chromadb.config:Starting component QuotaEnforcer\n",
       "</pre>\n"
      ],
      "text/plain": [
       "DEBUG:chromadb.config:Starting component QuotaEnforcer\n"
      ]
     },
     "metadata": {},
     "output_type": "display_data"
    },
    {
     "data": {
      "text/html": [
       "<pre style=\"white-space:pre;overflow-x:auto;line-height:normal;font-family:Menlo,'DejaVu Sans Mono',consolas,'Courier New',monospace\">DEBUG:chromadb.config:Starting component SimpleRateLimitEnforcer\n",
       "</pre>\n"
      ],
      "text/plain": [
       "DEBUG:chromadb.config:Starting component SimpleRateLimitEnforcer\n"
      ]
     },
     "metadata": {},
     "output_type": "display_data"
    },
    {
     "data": {
      "text/html": [
       "<pre style=\"white-space:pre;overflow-x:auto;line-height:normal;font-family:Menlo,'DejaVu Sans Mono',consolas,'Courier New',monospace\">DEBUG:chromadb.config:Starting component LocalSegmentManager\n",
       "</pre>\n"
      ],
      "text/plain": [
       "DEBUG:chromadb.config:Starting component LocalSegmentManager\n"
      ]
     },
     "metadata": {},
     "output_type": "display_data"
    },
    {
     "data": {
      "text/html": [
       "<pre style=\"white-space:pre;overflow-x:auto;line-height:normal;font-family:Menlo,'DejaVu Sans Mono',consolas,'Courier New',monospace\">DEBUG:chromadb.config:Starting component LocalExecutor\n",
       "</pre>\n"
      ],
      "text/plain": [
       "DEBUG:chromadb.config:Starting component LocalExecutor\n"
      ]
     },
     "metadata": {},
     "output_type": "display_data"
    },
    {
     "data": {
      "text/html": [
       "<pre style=\"white-space:pre;overflow-x:auto;line-height:normal;font-family:Menlo,'DejaVu Sans Mono',consolas,'Courier New',monospace\">DEBUG:chromadb.config:Starting component SegmentAPI\n",
       "</pre>\n"
      ],
      "text/plain": [
       "DEBUG:chromadb.config:Starting component SegmentAPI\n"
      ]
     },
     "metadata": {},
     "output_type": "display_data"
    },
    {
     "data": {
      "text/html": [
       "<pre style=\"white-space:pre;overflow-x:auto;line-height:normal;font-family:Menlo,'DejaVu Sans Mono',consolas,'Courier New',monospace\">/home/epuerta/.local/share/hatch/env/pip-compile/kitchenai/H8pmQr2m/dev/lib/python3.11/site-packages/dj_notebook/__\n",
       "init__.py:76: UserWarning: Django is running in production mode with dj-notebook.\n",
       "  warnings.warn(\"Django is running in production mode with dj-notebook.\")\n",
       "</pre>\n"
      ],
      "text/plain": [
       "/home/epuerta/.local/share/hatch/env/pip-compile/kitchenai/H8pmQr2m/dev/lib/python3.11/site-packages/dj_notebook/__\n",
       "init__.py:76: UserWarning: Django is running in production mode with dj-notebook.\n",
       "  warnings.warn(\"Django is running in production mode with dj-notebook.\")\n"
      ]
     },
     "metadata": {},
     "output_type": "display_data"
    },
    {
     "data": {
      "text/html": [
       "<pre style=\"white-space:pre;overflow-x:auto;line-height:normal;font-family:Menlo,'DejaVu Sans Mono',consolas,'Courier New',monospace\"></pre>\n"
      ],
      "text/plain": []
     },
     "metadata": {},
     "output_type": "display_data"
    }
   ],
   "source": [
    "from dj_notebook import activate\n",
    "\n",
    "plus = activate()"
   ]
  },
  {
   "cell_type": "code",
   "execution_count": 3,
   "metadata": {},
   "outputs": [],
   "source": [
    "from kitchenai.core.models import KitchenAIManagement\n",
    "\n",
    "mgmt = KitchenAIManagement.objects.first()\n",
    "\n"
   ]
  },
  {
   "cell_type": "code",
   "execution_count": null,
   "metadata": {},
   "outputs": [],
   "source": [
    "from kitchenai.core.models import FileObject\n",
    "\n",
    "file = FileObject.objects.first()\n",
    "file.file\n",
    "\n"
   ]
  },
  {
   "cell_type": "code",
   "execution_count": null,
   "metadata": {},
   "outputs": [],
   "source": [
    "from kitchenai.core.models import KitchenAIRootModule\n",
    "\n",
    "KitchenAIRootModule.objects.first()"
   ]
  },
  {
   "cell_type": "code",
   "execution_count": null,
   "metadata": {},
   "outputs": [],
   "source": [
    "from kitchenai.core.utils import get_first_root_module\n",
    "\n",
    "root_module = get_first_root_module()\n",
    "root_module.name\n"
   ]
  }
 ],
 "metadata": {
  "kernelspec": {
   "display_name": "Python 3 (ipykernel)",
   "language": "python",
   "name": "python3"
  },
  "language_info": {
   "codemirror_mode": {
    "name": "ipython",
    "version": 3
   },
   "file_extension": ".py",
   "mimetype": "text/x-python",
   "name": "python",
   "nbconvert_exporter": "python",
   "pygments_lexer": "ipython3",
   "version": "3.11.8"
  }
 },
 "nbformat": 4,
 "nbformat_minor": 4
}
