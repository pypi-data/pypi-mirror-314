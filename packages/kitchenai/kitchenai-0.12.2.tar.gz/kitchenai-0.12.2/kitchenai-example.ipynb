{
 "cells": [
  {
   "cell_type": "code",
   "execution_count": 1,
   "id": "e6b0dd7f-6455-43e1-b0d6-6e50a8d0ac8a",
   "metadata": {},
   "outputs": [],
   "source": [
    "import os"
   ]
  },
  {
   "cell_type": "code",
   "execution_count": 3,
   "id": "3e2ad8e5-1851-4aa9-aaa8-8ea5cd3f9b0d",
   "metadata": {},
   "outputs": [],
   "source": [
    "%load_ext kitchenai.contrib.cook"
   ]
  },
  {
   "cell_type": "code",
   "execution_count": 5,
   "id": "d3e3dd54-690c-4bd7-bd95-b7c1697effa2",
   "metadata": {},
   "outputs": [
    {
     "data": {
      "text/plain": [
       "'Registered new CodeImport with hash c839b8b275beec7f1067bcc2f6731b59490f069192a91d705d46e40f1f8fbe74.'"
      ]
     },
     "execution_count": 5,
     "metadata": {},
     "output_type": "execute_result"
    }
   ],
   "source": [
    "%%kitchen_import \n",
    "\n",
    "import uuid\n"
   ]
  },
  {
   "cell_type": "code",
   "execution_count": 6,
   "id": "469ea383-d817-4b50-99cf-acf253947815",
   "metadata": {},
   "outputs": [
    {
     "data": {
      "text/plain": [
       "UUID('58ccfcd2-57be-4e81-b88b-35a93224e2d4')"
      ]
     },
     "execution_count": 6,
     "metadata": {},
     "output_type": "execute_result"
    }
   ],
   "source": [
    "uuid.uuid4()"
   ]
  },
  {
   "cell_type": "code",
   "execution_count": null,
   "id": "11dd3d5c-dc16-4764-bb11-e027a0a97b47",
   "metadata": {},
   "outputs": [],
   "source": []
  }
 ],
 "metadata": {
  "kernelspec": {
   "display_name": "Python 3 (ipykernel)",
   "language": "python",
   "name": "python3"
  },
  "language_info": {
   "codemirror_mode": {
    "name": "ipython",
    "version": 3
   },
   "file_extension": ".py",
   "mimetype": "text/x-python",
   "name": "python",
   "nbconvert_exporter": "python",
   "pygments_lexer": "ipython3",
   "version": "3.11.8"
  }
 },
 "nbformat": 4,
 "nbformat_minor": 5
}
