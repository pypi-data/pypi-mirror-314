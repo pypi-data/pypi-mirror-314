{
 "cells": [
  {
   "cell_type": "markdown",
   "metadata": {},
   "source": [
    "# Pension contributions\n",
    "\n",
    "We take pension contributions from the FRS data where available. This includes:\n",
    "\n",
    "* Employee contributions (~£30 billion in FY2022)\n",
    "* Personal contributions (~£5 billion in FY2022)\n",
    "\n",
    "We do not have data on employer contributions, but from aggregate data this is around [250% of employee contributions](https://www.gov.uk/government/statistics/workplace-pension-participation-and-savings-trends-2009-to-2022/workplace-pension-participation-and-savings-trends-of-eligible-employees-2009-to-2022). We apply this as a multiplier to estimate employer contributions for each worker."
   ]
  }
 ],
 "metadata": {
  "language_info": {
   "name": "python"
  }
 },
 "nbformat": 4,
 "nbformat_minor": 2
}
