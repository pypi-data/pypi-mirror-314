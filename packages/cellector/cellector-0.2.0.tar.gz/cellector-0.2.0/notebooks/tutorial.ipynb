{
 "cells": [
  {
   "cell_type": "code",
   "execution_count": null,
   "metadata": {},
   "outputs": [],
   "source": [
    "from pathlib import Path\n",
    "from cellector.io import create_from_suite2p, propagate_criteria\n",
    "from cellector.io import create_from_mask_volume, create_from_pixel_data\n",
    "from cellector.gui import SelectionGUI"
   ]
  },
  {
   "cell_type": "code",
   "execution_count": null,
   "metadata": {},
   "outputs": [],
   "source": [
    "suite2p_dir = Path(r\"C:\\Path\\to\\suite2p\") # this is the one that contains folders for each plane!!!\n",
    "use_redcell = True # will load the redcell.npy files from each plane folder and use those as a \"feature\"\n",
    "clear_existing = False # if True, will delete any existing cellector files in the suite2p folder\n",
    "autocompute = True # if True, will automatically compute all the features and save them to the cellector files (this takes ~10 seconds depending on your number of ROIs)\n",
    "\n",
    "# build the roi_processor object\n",
    "# will load all mask and reference data, and will load saved features from the cellector folder if they exist instead of recomputing them \n",
    "# the save directory will be suite2p_dir / cellector\n",
    "roi_processor = create_from_suite2p(suite2p_dir, use_redcell=use_redcell, clear_existing=clear_existing, autocompute=autocompute)\n",
    "\n",
    "# if you want to recompute the features, you can either set clear_existing to True (which will remove all existing cellector files...)\n",
    "# or you can call the compute_features method with use_saved=False like follows\n",
    "# roi_processor.compute_features(use_saved=False)"
   ]
  },
  {
   "cell_type": "code",
   "execution_count": null,
   "metadata": {},
   "outputs": [],
   "source": [
    "# Alternative to above, if you have mask data independent from suite2p, use one of the following\n",
    "save_dir = Path(r\"C:\\Path\\to\\save_direcotry\") # this is where results will be saved\n",
    "\n",
    "stats = # List of dictionaries containing mask data (lam, ypix, xpix, for each ROI)\n",
    "reference_images = # 3D array of reference images - one for each plane\n",
    "plane_idx = # 1D array relating each mask to the apppropriate reference image\n",
    "\n",
    "# if you have stats already, use:\n",
    "roi_processor = create_from_pixel_data(save_dir, stats, reference_images, plane_idx)\n",
    "\n",
    "\n",
    "# if you have a mask volume but not stats, use:\n",
    "mask_volume = # 3D array, where each slice is an image of the mask for your ROIs\n",
    "roi_processor = create_from_mask_volume(save_dir, mask_volume, reference_images, plane_idx)"
   ]
  },
  {
   "cell_type": "code",
   "execution_count": null,
   "metadata": {},
   "outputs": [],
   "source": [
    "# Open the GUI\n",
    "gui = SelectionGUI(roi_processor)"
   ]
  },
  {
   "cell_type": "code",
   "execution_count": null,
   "metadata": {},
   "outputs": [],
   "source": [
    "# If you want to use the criteria selected in the GUI for other sessions, you can propagate them like this:\n",
    "other_directories = [Path(r\"C:\\Path\\to\\other\\suite2p\"), Path(r\"C:\\Path\\to\\another\\suite2\"), ...]\n",
    "success, failure = propagate_criteria(suite2p_dir, *other_directories)\n",
    "\n",
    "# Success is a dictionary with keys equal to successful target directories and values set to the names of criteria that were propagated\n",
    "# Failure is a dictionary with keys equal to failed target directories and values set to the error message for each one"
   ]
  }
 ],
 "metadata": {
  "kernelspec": {
   "display_name": "cellector",
   "language": "python",
   "name": "python3"
  },
  "language_info": {
   "name": "python",
   "version": "3.11.10"
  }
 },
 "nbformat": 4,
 "nbformat_minor": 2
}
