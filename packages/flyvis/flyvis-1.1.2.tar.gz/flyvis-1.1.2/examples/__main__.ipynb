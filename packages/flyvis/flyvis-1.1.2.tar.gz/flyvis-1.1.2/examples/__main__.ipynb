{
 "cells": [
  {
   "cell_type": "markdown",
   "metadata": {},
   "source": [
    "Main notebook containing relevant analysis steps, run for each ensemble. \n",
    "\n",
    "The script `notebook_per_ensemble.py' automatically copies this notebook to an ensemble directory and executes it for newly trained ensembles using papermill.\n",
    "\n",
    "**Warning:** You can loose your work! Don't edit automatically created copies of this notebook within an ensemble directory. Those will be overwritten at a rerun. Create a copy instead.\n",
    "\n",
    "**Warning:** This notebook is not intended for standalone use. It is automatically copied to an ensemble directory and executed for newly trained ensembles using papermill. Adapt mindfully.\n"
   ]
  },
  {
   "cell_type": "code",
   "execution_count": null,
   "metadata": {
    "execution": {
     "iopub.execute_input": "2024-12-08T18:48:01.731383Z",
     "iopub.status.busy": "2024-12-08T18:48:01.730925Z",
     "iopub.status.idle": "2024-12-08T18:48:06.169629Z",
     "shell.execute_reply": "2024-12-08T18:48:06.168498Z"
    }
   },
   "outputs": [],
   "source": [
    "import logging\n",
    "\n",
    "import matplotlib as mpl\n",
    "import matplotlib.pyplot as plt\n",
    "\n",
    "from flyvis import EnsembleView\n",
    "from flyvis.analysis.moving_bar_responses import plot_angular_tuning\n",
    "from flyvis.analysis.visualization.plt_utils import add_cluster_marker, get_marker\n",
    "\n",
    "logging.disable()\n",
    "\n",
    "\n",
    "mpl.rcParams[\"figure.dpi\"] = 300\n",
    "\n",
    "%load_ext autoreload\n",
    "%autoreload 2"
   ]
  },
  {
   "cell_type": "code",
   "execution_count": null,
   "metadata": {
    "execution": {
     "iopub.execute_input": "2024-12-08T18:48:06.173699Z",
     "iopub.status.busy": "2024-12-08T18:48:06.173517Z",
     "iopub.status.idle": "2024-12-08T18:48:06.199622Z",
     "shell.execute_reply": "2024-12-08T18:48:06.198817Z"
    },
    "tags": [
     "parameters"
    ]
   },
   "outputs": [],
   "source": [
    "ensemble_name = \"flow/0001\"  # type: str"
   ]
  },
  {
   "cell_type": "code",
   "execution_count": null,
   "metadata": {
    "execution": {
     "iopub.execute_input": "2024-12-08T18:48:06.203613Z",
     "iopub.status.busy": "2024-12-08T18:48:06.203319Z",
     "iopub.status.idle": "2024-12-08T18:48:06.229394Z",
     "shell.execute_reply": "2024-12-08T18:48:06.228395Z"
    }
   },
   "outputs": [],
   "source": [
    "validation_subdir = \"validation\"\n",
    "loss_file_name = \"epe\""
   ]
  },
  {
   "cell_type": "code",
   "execution_count": null,
   "metadata": {
    "execution": {
     "iopub.execute_input": "2024-12-08T18:48:06.233395Z",
     "iopub.status.busy": "2024-12-08T18:48:06.233250Z",
     "iopub.status.idle": "2024-12-08T18:48:19.448295Z",
     "shell.execute_reply": "2024-12-08T18:48:19.446729Z"
    }
   },
   "outputs": [],
   "source": [
    "ensemble = EnsembleView(\n",
    "    ensemble_name,\n",
    "    best_checkpoint_fn_kwargs={\n",
    "        \"validation_subdir\": validation_subdir,\n",
    "        \"loss_file_name\": loss_file_name,\n",
    "    },\n",
    ")"
   ]
  },
  {
   "cell_type": "code",
   "execution_count": null,
   "metadata": {
    "execution": {
     "iopub.execute_input": "2024-12-08T18:48:19.454770Z",
     "iopub.status.busy": "2024-12-08T18:48:19.454495Z",
     "iopub.status.idle": "2024-12-08T18:48:19.535599Z",
     "shell.execute_reply": "2024-12-08T18:48:19.534345Z"
    }
   },
   "outputs": [],
   "source": [
    "print(f\"Description of experiment: {getattr(ensemble[0].dir.config, 'description', '')}\")"
   ]
  },
  {
   "cell_type": "markdown",
   "metadata": {},
   "source": [
    "# Task performance"
   ]
  },
  {
   "cell_type": "markdown",
   "metadata": {},
   "source": [
    "## Training and validation losses"
   ]
  },
  {
   "cell_type": "code",
   "execution_count": null,
   "metadata": {
    "execution": {
     "iopub.execute_input": "2024-12-08T18:48:19.541251Z",
     "iopub.status.busy": "2024-12-08T18:48:19.541005Z",
     "iopub.status.idle": "2024-12-08T18:48:24.470711Z",
     "shell.execute_reply": "2024-12-08T18:48:24.469689Z"
    },
    "tags": [
     "raises-exception"
    ]
   },
   "outputs": [],
   "source": [
    "fig, ax = ensemble.training_loss()"
   ]
  },
  {
   "cell_type": "code",
   "execution_count": null,
   "metadata": {
    "execution": {
     "iopub.execute_input": "2024-12-08T18:48:24.477773Z",
     "iopub.status.busy": "2024-12-08T18:48:24.477489Z",
     "iopub.status.idle": "2024-12-08T18:48:24.833204Z",
     "shell.execute_reply": "2024-12-08T18:48:24.832158Z"
    }
   },
   "outputs": [],
   "source": [
    "fig, ax = ensemble.validation_loss()"
   ]
  },
  {
   "cell_type": "code",
   "execution_count": null,
   "metadata": {
    "execution": {
     "iopub.execute_input": "2024-12-08T18:48:24.840557Z",
     "iopub.status.busy": "2024-12-08T18:48:24.840169Z",
     "iopub.status.idle": "2024-12-08T18:48:25.034208Z",
     "shell.execute_reply": "2024-12-08T18:48:25.033246Z"
    }
   },
   "outputs": [],
   "source": [
    "fig, ax = ensemble.task_error_histogram()"
   ]
  },
  {
   "cell_type": "markdown",
   "metadata": {},
   "source": [
    "## Learned parameter marginals"
   ]
  },
  {
   "cell_type": "code",
   "execution_count": null,
   "metadata": {
    "execution": {
     "iopub.execute_input": "2024-12-08T18:48:25.038743Z",
     "iopub.status.busy": "2024-12-08T18:48:25.038446Z",
     "iopub.status.idle": "2024-12-08T18:48:47.201376Z",
     "shell.execute_reply": "2024-12-08T18:48:47.200145Z"
    }
   },
   "outputs": [],
   "source": [
    "fig, axes = ensemble.node_parameters(\"bias\")"
   ]
  },
  {
   "cell_type": "code",
   "execution_count": null,
   "metadata": {
    "execution": {
     "iopub.execute_input": "2024-12-08T18:48:47.219684Z",
     "iopub.status.busy": "2024-12-08T18:48:47.219272Z",
     "iopub.status.idle": "2024-12-08T18:49:03.493562Z",
     "shell.execute_reply": "2024-12-08T18:49:03.492483Z"
    },
    "tags": [
     "raises-exception"
    ]
   },
   "outputs": [],
   "source": [
    "fig, axes = ensemble.node_parameters(\"time_const\")"
   ]
  },
  {
   "cell_type": "code",
   "execution_count": null,
   "metadata": {
    "execution": {
     "iopub.execute_input": "2024-12-08T18:49:03.513309Z",
     "iopub.status.busy": "2024-12-08T18:49:03.513117Z",
     "iopub.status.idle": "2024-12-08T18:49:29.329107Z",
     "shell.execute_reply": "2024-12-08T18:49:29.327828Z"
    }
   },
   "outputs": [],
   "source": [
    "fig, axes = ensemble.edge_parameters(\"syn_strength\")"
   ]
  },
  {
   "cell_type": "markdown",
   "metadata": {},
   "source": [
    "## Dead or alive"
   ]
  },
  {
   "cell_type": "code",
   "execution_count": null,
   "metadata": {
    "execution": {
     "iopub.execute_input": "2024-12-08T18:49:29.377525Z",
     "iopub.status.busy": "2024-12-08T18:49:29.377241Z",
     "iopub.status.idle": "2024-12-08T18:49:42.593043Z",
     "shell.execute_reply": "2024-12-08T18:49:42.591726Z"
    },
    "tags": [
     "raises-exception"
    ]
   },
   "outputs": [],
   "source": [
    "fig, ax, cbar, matrix = ensemble.dead_or_alive()"
   ]
  },
  {
   "cell_type": "markdown",
   "metadata": {},
   "source": [
    "## Contrast selectivity and flash response indices (FRI)"
   ]
  },
  {
   "cell_type": "markdown",
   "metadata": {},
   "source": [
    "#### 20% best task-performing models"
   ]
  },
  {
   "cell_type": "code",
   "execution_count": null,
   "metadata": {
    "execution": {
     "iopub.execute_input": "2024-12-08T18:49:42.601547Z",
     "iopub.status.busy": "2024-12-08T18:49:42.601252Z",
     "iopub.status.idle": "2024-12-08T18:49:46.150190Z",
     "shell.execute_reply": "2024-12-08T18:49:46.149077Z"
    }
   },
   "outputs": [],
   "source": [
    "with ensemble.ratio(best=0.2):\n",
    "    ensemble.flash_response_index()"
   ]
  },
  {
   "cell_type": "markdown",
   "metadata": {},
   "source": [
    "#### 100% models"
   ]
  },
  {
   "cell_type": "code",
   "execution_count": null,
   "metadata": {
    "execution": {
     "iopub.execute_input": "2024-12-08T18:49:46.161616Z",
     "iopub.status.busy": "2024-12-08T18:49:46.161279Z",
     "iopub.status.idle": "2024-12-08T18:49:56.801159Z",
     "shell.execute_reply": "2024-12-08T18:49:56.799971Z"
    }
   },
   "outputs": [],
   "source": [
    "fig, ax = ensemble.flash_response_index()"
   ]
  },
  {
   "cell_type": "markdown",
   "metadata": {},
   "source": [
    "## Motion selectivity and direction selectivity index (DSI)"
   ]
  },
  {
   "cell_type": "markdown",
   "metadata": {},
   "source": [
    "#### 20% best task-performing models"
   ]
  },
  {
   "cell_type": "code",
   "execution_count": null,
   "metadata": {
    "execution": {
     "iopub.execute_input": "2024-12-08T18:49:56.815491Z",
     "iopub.status.busy": "2024-12-08T18:49:56.815169Z",
     "iopub.status.idle": "2024-12-08T18:50:01.575937Z",
     "shell.execute_reply": "2024-12-08T18:50:01.575104Z"
    },
    "tags": [
     "raises-exception"
    ]
   },
   "outputs": [],
   "source": [
    "with ensemble.ratio(best=0.2):\n",
    "    ensemble.direction_selectivity_index()"
   ]
  },
  {
   "cell_type": "markdown",
   "metadata": {},
   "source": [
    "#### 100% models"
   ]
  },
  {
   "cell_type": "code",
   "execution_count": null,
   "metadata": {
    "execution": {
     "iopub.execute_input": "2024-12-08T18:50:01.590108Z",
     "iopub.status.busy": "2024-12-08T18:50:01.589859Z",
     "iopub.status.idle": "2024-12-08T18:50:18.766432Z",
     "shell.execute_reply": "2024-12-08T18:50:18.765586Z"
    }
   },
   "outputs": [],
   "source": [
    "ensemble.direction_selectivity_index()"
   ]
  },
  {
   "cell_type": "markdown",
   "metadata": {},
   "source": [
    "## Clustering of models based on responses to naturalistic stimuli"
   ]
  },
  {
   "cell_type": "markdown",
   "metadata": {},
   "source": [
    "#### T4c"
   ]
  },
  {
   "cell_type": "code",
   "execution_count": null,
   "metadata": {
    "execution": {
     "iopub.execute_input": "2024-12-08T18:50:18.782174Z",
     "iopub.status.busy": "2024-12-08T18:50:18.781853Z",
     "iopub.status.idle": "2024-12-08T18:50:46.583512Z",
     "shell.execute_reply": "2024-12-08T18:50:46.582791Z"
    }
   },
   "outputs": [],
   "source": [
    "task_error = ensemble.task_error()\n",
    "embeddingplot = ensemble.clustering(\"T4c\").plot(\n",
    "    task_error=task_error.values, colors=task_error.colors\n",
    ")"
   ]
  },
  {
   "cell_type": "code",
   "execution_count": null,
   "metadata": {
    "execution": {
     "iopub.execute_input": "2024-12-08T18:50:46.591601Z",
     "iopub.status.busy": "2024-12-08T18:50:46.591409Z",
     "iopub.status.idle": "2024-12-08T18:50:46.694686Z",
     "shell.execute_reply": "2024-12-08T18:50:46.693990Z"
    }
   },
   "outputs": [],
   "source": [
    "r = ensemble.moving_edge_responses()"
   ]
  },
  {
   "cell_type": "code",
   "execution_count": null,
   "metadata": {
    "execution": {
     "iopub.execute_input": "2024-12-08T18:50:46.697947Z",
     "iopub.status.busy": "2024-12-08T18:50:46.697741Z",
     "iopub.status.idle": "2024-12-08T18:50:46.726137Z",
     "shell.execute_reply": "2024-12-08T18:50:46.725466Z"
    }
   },
   "outputs": [],
   "source": [
    "cluster_indices = ensemble.cluster_indices(\"T4c\")"
   ]
  },
  {
   "cell_type": "code",
   "execution_count": null,
   "metadata": {
    "execution": {
     "iopub.execute_input": "2024-12-08T18:50:46.730235Z",
     "iopub.status.busy": "2024-12-08T18:50:46.730038Z",
     "iopub.status.idle": "2024-12-08T18:50:46.754616Z",
     "shell.execute_reply": "2024-12-08T18:50:46.753921Z"
    }
   },
   "outputs": [],
   "source": [
    "colors = ensemble.task_error().colors"
   ]
  },
  {
   "cell_type": "code",
   "execution_count": null,
   "metadata": {
    "execution": {
     "iopub.execute_input": "2024-12-08T18:50:46.758817Z",
     "iopub.status.busy": "2024-12-08T18:50:46.758674Z",
     "iopub.status.idle": "2024-12-08T18:50:53.163028Z",
     "shell.execute_reply": "2024-12-08T18:50:53.162239Z"
    }
   },
   "outputs": [],
   "source": [
    "fig, axes = plt.subplots(\n",
    "    1, len(cluster_indices), subplot_kw={\"projection\": \"polar\"}, figsize=[2, 1]\n",
    ")\n",
    "for cluster_id, indices in cluster_indices.items():\n",
    "    plot_angular_tuning(\n",
    "        r.sel(network_id=indices),\n",
    "        \"T4c\",\n",
    "        intensity=1,\n",
    "        colors=colors[indices],\n",
    "        zorder=ensemble.zorder()[indices],\n",
    "        groundtruth=True if cluster_id == 0 else False,\n",
    "        fig=fig,\n",
    "        ax=axes[cluster_id],\n",
    "    )\n",
    "    add_cluster_marker(fig, axes[cluster_id], marker=get_marker(cluster_id))"
   ]
  },
  {
   "cell_type": "code",
   "execution_count": null,
   "metadata": {},
   "outputs": [],
   "source": []
  }
 ],
 "metadata": {
  "celltoolbar": "Tags",
  "kernelspec": {
   "display_name": "Python 3 (ipykernel)",
   "language": "python",
   "name": "python3"
  },
  "language_info": {
   "codemirror_mode": {
    "name": "ipython",
    "version": 3
   },
   "file_extension": ".py",
   "mimetype": "text/x-python",
   "name": "python",
   "nbconvert_exporter": "python",
   "pygments_lexer": "ipython3",
   "version": "3.9.16"
  },
  "toc": {
   "base_numbering": 1,
   "nav_menu": {},
   "number_sections": true,
   "sideBar": true,
   "skip_h1_title": false,
   "title_cell": "contents",
   "title_sidebar": "Contents",
   "toc_cell": true,
   "toc_position": {
    "height": "calc(100% - 180px)",
    "left": "10px",
    "top": "150px",
    "width": "231.75px"
   },
   "toc_section_display": true,
   "toc_window_display": true
  },
  "widgets": {
   "application/vnd.jupyter.widget-state+json": {
    "state": {
     "27e50affd6aa429ba2db81322d2d1445": {
      "model_module": "@jupyter-widgets/controls",
      "model_module_version": "2.0.0",
      "model_name": "FloatProgressModel",
      "state": {
       "_dom_classes": [],
       "_model_module": "@jupyter-widgets/controls",
       "_model_module_version": "2.0.0",
       "_model_name": "FloatProgressModel",
       "_view_count": null,
       "_view_module": "@jupyter-widgets/controls",
       "_view_module_version": "2.0.0",
       "_view_name": "ProgressView",
       "bar_style": "success",
       "description": "",
       "description_allow_html": false,
       "layout": "IPY_MODEL_961c79aefbbc4e418beec5589d1d2dac",
       "max": 50.0,
       "min": 0.0,
       "orientation": "horizontal",
       "style": "IPY_MODEL_7b5145673b7c4af3ae945b257aa412df",
       "tabbable": null,
       "tooltip": null,
       "value": 50.0
      }
     },
     "2ce663b67d574a5085e384c077bd0ae9": {
      "model_module": "@jupyter-widgets/controls",
      "model_module_version": "2.0.0",
      "model_name": "HTMLStyleModel",
      "state": {
       "_model_module": "@jupyter-widgets/controls",
       "_model_module_version": "2.0.0",
       "_model_name": "HTMLStyleModel",
       "_view_count": null,
       "_view_module": "@jupyter-widgets/base",
       "_view_module_version": "2.0.0",
       "_view_name": "StyleView",
       "background": null,
       "description_width": "",
       "font_size": null,
       "text_color": null
      }
     },
     "2ffda1070b9f4338923299545260da7b": {
      "model_module": "@jupyter-widgets/base",
      "model_module_version": "2.0.0",
      "model_name": "LayoutModel",
      "state": {
       "_model_module": "@jupyter-widgets/base",
       "_model_module_version": "2.0.0",
       "_model_name": "LayoutModel",
       "_view_count": null,
       "_view_module": "@jupyter-widgets/base",
       "_view_module_version": "2.0.0",
       "_view_name": "LayoutView",
       "align_content": null,
       "align_items": null,
       "align_self": null,
       "border_bottom": null,
       "border_left": null,
       "border_right": null,
       "border_top": null,
       "bottom": null,
       "display": null,
       "flex": null,
       "flex_flow": null,
       "grid_area": null,
       "grid_auto_columns": null,
       "grid_auto_flow": null,
       "grid_auto_rows": null,
       "grid_column": null,
       "grid_gap": null,
       "grid_row": null,
       "grid_template_areas": null,
       "grid_template_columns": null,
       "grid_template_rows": null,
       "height": null,
       "justify_content": null,
       "justify_items": null,
       "left": null,
       "margin": null,
       "max_height": null,
       "max_width": null,
       "min_height": null,
       "min_width": null,
       "object_fit": null,
       "object_position": null,
       "order": null,
       "overflow": null,
       "padding": null,
       "right": null,
       "top": null,
       "visibility": null,
       "width": null
      }
     },
     "5ce099a0af2b4d5b8a2992b4fd19f5aa": {
      "model_module": "@jupyter-widgets/controls",
      "model_module_version": "2.0.0",
      "model_name": "HTMLStyleModel",
      "state": {
       "_model_module": "@jupyter-widgets/controls",
       "_model_module_version": "2.0.0",
       "_model_name": "HTMLStyleModel",
       "_view_count": null,
       "_view_module": "@jupyter-widgets/base",
       "_view_module_version": "2.0.0",
       "_view_name": "StyleView",
       "background": null,
       "description_width": "",
       "font_size": null,
       "text_color": null
      }
     },
     "666d1cd8cb3d41abb4999ca854bb993a": {
      "model_module": "@jupyter-widgets/base",
      "model_module_version": "2.0.0",
      "model_name": "LayoutModel",
      "state": {
       "_model_module": "@jupyter-widgets/base",
       "_model_module_version": "2.0.0",
       "_model_name": "LayoutModel",
       "_view_count": null,
       "_view_module": "@jupyter-widgets/base",
       "_view_module_version": "2.0.0",
       "_view_name": "LayoutView",
       "align_content": null,
       "align_items": null,
       "align_self": null,
       "border_bottom": null,
       "border_left": null,
       "border_right": null,
       "border_top": null,
       "bottom": null,
       "display": null,
       "flex": null,
       "flex_flow": null,
       "grid_area": null,
       "grid_auto_columns": null,
       "grid_auto_flow": null,
       "grid_auto_rows": null,
       "grid_column": null,
       "grid_gap": null,
       "grid_row": null,
       "grid_template_areas": null,
       "grid_template_columns": null,
       "grid_template_rows": null,
       "height": null,
       "justify_content": null,
       "justify_items": null,
       "left": null,
       "margin": null,
       "max_height": null,
       "max_width": null,
       "min_height": null,
       "min_width": null,
       "object_fit": null,
       "object_position": null,
       "order": null,
       "overflow": null,
       "padding": null,
       "right": null,
       "top": null,
       "visibility": null,
       "width": null
      }
     },
     "7918309963434a8da237df7652990616": {
      "model_module": "@jupyter-widgets/controls",
      "model_module_version": "2.0.0",
      "model_name": "HTMLModel",
      "state": {
       "_dom_classes": [],
       "_model_module": "@jupyter-widgets/controls",
       "_model_module_version": "2.0.0",
       "_model_name": "HTMLModel",
       "_view_count": null,
       "_view_module": "@jupyter-widgets/controls",
       "_view_module_version": "2.0.0",
       "_view_name": "HTMLView",
       "description": "",
       "description_allow_html": false,
       "layout": "IPY_MODEL_2ffda1070b9f4338923299545260da7b",
       "placeholder": "​",
       "style": "IPY_MODEL_5ce099a0af2b4d5b8a2992b4fd19f5aa",
       "tabbable": null,
       "tooltip": null,
       "value": "Loading ensemble: 100%"
      }
     },
     "7b5145673b7c4af3ae945b257aa412df": {
      "model_module": "@jupyter-widgets/controls",
      "model_module_version": "2.0.0",
      "model_name": "ProgressStyleModel",
      "state": {
       "_model_module": "@jupyter-widgets/controls",
       "_model_module_version": "2.0.0",
       "_model_name": "ProgressStyleModel",
       "_view_count": null,
       "_view_module": "@jupyter-widgets/base",
       "_view_module_version": "2.0.0",
       "_view_name": "StyleView",
       "bar_color": null,
       "description_width": ""
      }
     },
     "80fb7a36a98f452f978d6a4d521b3468": {
      "model_module": "@jupyter-widgets/controls",
      "model_module_version": "2.0.0",
      "model_name": "HTMLModel",
      "state": {
       "_dom_classes": [],
       "_model_module": "@jupyter-widgets/controls",
       "_model_module_version": "2.0.0",
       "_model_name": "HTMLModel",
       "_view_count": null,
       "_view_module": "@jupyter-widgets/controls",
       "_view_module_version": "2.0.0",
       "_view_name": "HTMLView",
       "description": "",
       "description_allow_html": false,
       "layout": "IPY_MODEL_dfeac10f91f641b285163a68772ec9e7",
       "placeholder": "​",
       "style": "IPY_MODEL_2ce663b67d574a5085e384c077bd0ae9",
       "tabbable": null,
       "tooltip": null,
       "value": " 50/50 [00:13&lt;00:00,  3.60it/s]"
      }
     },
     "961c79aefbbc4e418beec5589d1d2dac": {
      "model_module": "@jupyter-widgets/base",
      "model_module_version": "2.0.0",
      "model_name": "LayoutModel",
      "state": {
       "_model_module": "@jupyter-widgets/base",
       "_model_module_version": "2.0.0",
       "_model_name": "LayoutModel",
       "_view_count": null,
       "_view_module": "@jupyter-widgets/base",
       "_view_module_version": "2.0.0",
       "_view_name": "LayoutView",
       "align_content": null,
       "align_items": null,
       "align_self": null,
       "border_bottom": null,
       "border_left": null,
       "border_right": null,
       "border_top": null,
       "bottom": null,
       "display": null,
       "flex": null,
       "flex_flow": null,
       "grid_area": null,
       "grid_auto_columns": null,
       "grid_auto_flow": null,
       "grid_auto_rows": null,
       "grid_column": null,
       "grid_gap": null,
       "grid_row": null,
       "grid_template_areas": null,
       "grid_template_columns": null,
       "grid_template_rows": null,
       "height": null,
       "justify_content": null,
       "justify_items": null,
       "left": null,
       "margin": null,
       "max_height": null,
       "max_width": null,
       "min_height": null,
       "min_width": null,
       "object_fit": null,
       "object_position": null,
       "order": null,
       "overflow": null,
       "padding": null,
       "right": null,
       "top": null,
       "visibility": null,
       "width": null
      }
     },
     "cfbc5dba01774796a6b957565359f6c3": {
      "model_module": "@jupyter-widgets/controls",
      "model_module_version": "2.0.0",
      "model_name": "HBoxModel",
      "state": {
       "_dom_classes": [],
       "_model_module": "@jupyter-widgets/controls",
       "_model_module_version": "2.0.0",
       "_model_name": "HBoxModel",
       "_view_count": null,
       "_view_module": "@jupyter-widgets/controls",
       "_view_module_version": "2.0.0",
       "_view_name": "HBoxView",
       "box_style": "",
       "children": [
        "IPY_MODEL_7918309963434a8da237df7652990616",
        "IPY_MODEL_27e50affd6aa429ba2db81322d2d1445",
        "IPY_MODEL_80fb7a36a98f452f978d6a4d521b3468"
       ],
       "layout": "IPY_MODEL_666d1cd8cb3d41abb4999ca854bb993a",
       "tabbable": null,
       "tooltip": null
      }
     },
     "dfeac10f91f641b285163a68772ec9e7": {
      "model_module": "@jupyter-widgets/base",
      "model_module_version": "2.0.0",
      "model_name": "LayoutModel",
      "state": {
       "_model_module": "@jupyter-widgets/base",
       "_model_module_version": "2.0.0",
       "_model_name": "LayoutModel",
       "_view_count": null,
       "_view_module": "@jupyter-widgets/base",
       "_view_module_version": "2.0.0",
       "_view_name": "LayoutView",
       "align_content": null,
       "align_items": null,
       "align_self": null,
       "border_bottom": null,
       "border_left": null,
       "border_right": null,
       "border_top": null,
       "bottom": null,
       "display": null,
       "flex": null,
       "flex_flow": null,
       "grid_area": null,
       "grid_auto_columns": null,
       "grid_auto_flow": null,
       "grid_auto_rows": null,
       "grid_column": null,
       "grid_gap": null,
       "grid_row": null,
       "grid_template_areas": null,
       "grid_template_columns": null,
       "grid_template_rows": null,
       "height": null,
       "justify_content": null,
       "justify_items": null,
       "left": null,
       "margin": null,
       "max_height": null,
       "max_width": null,
       "min_height": null,
       "min_width": null,
       "object_fit": null,
       "object_position": null,
       "order": null,
       "overflow": null,
       "padding": null,
       "right": null,
       "top": null,
       "visibility": null,
       "width": null
      }
     }
    },
    "version_major": 2,
    "version_minor": 0
   }
  }
 },
 "nbformat": 4,
 "nbformat_minor": 4
}
