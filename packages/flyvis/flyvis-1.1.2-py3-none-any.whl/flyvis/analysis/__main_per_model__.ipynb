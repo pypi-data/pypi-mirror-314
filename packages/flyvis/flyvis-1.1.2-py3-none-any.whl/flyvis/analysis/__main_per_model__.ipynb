{
 "cells": [
  {
   "cell_type": "markdown",
   "metadata": {},
   "source": [
    "Main notebook containing relevant analysis steps, run for each model. \n",
    "\n",
    "The script `notebook_per_model.py' automatically copies this notebook to an ensemble directory and executes it for newly trained ensembles using papermill.\n",
    "\n",
    "**Warning:** You can loose your work! Don't edit automatically created copies of this notebook within a model directory. Those will be overwritten at a rerun. Create a copy instead.\n",
    "\n",
    "**Warning:** This notebook is not intended for standalone use. It is automatically copied to an ensemble directory and executed for newly trained models using papermill. Adapt mindfully.\n"
   ]
  },
  {
   "cell_type": "code",
   "execution_count": null,
   "metadata": {
    "execution": {
     "iopub.execute_input": "2024-10-15T06:34:27.069435Z",
     "iopub.status.busy": "2024-10-15T06:34:27.068948Z",
     "iopub.status.idle": "2024-10-15T06:34:30.500209Z",
     "shell.execute_reply": "2024-10-15T06:34:30.498771Z"
    }
   },
   "outputs": [],
   "source": [
    "import flyvis"
   ]
  },
  {
   "cell_type": "code",
   "execution_count": null,
   "metadata": {
    "execution": {
     "iopub.execute_input": "2024-10-15T06:34:30.506255Z",
     "iopub.status.busy": "2024-10-15T06:34:30.505592Z",
     "iopub.status.idle": "2024-10-15T06:34:30.511520Z",
     "shell.execute_reply": "2024-10-15T06:34:30.510260Z"
    },
    "tags": [
     "parameters"
    ]
   },
   "outputs": [],
   "source": [
    "ensemble_and_network_id = \"0000/000\"  # type: str\n",
    "task_name = \"flow\"  # type: str"
   ]
  },
  {
   "cell_type": "code",
   "execution_count": null,
   "metadata": {
    "execution": {
     "iopub.execute_input": "2024-10-15T06:34:30.515437Z",
     "iopub.status.busy": "2024-10-15T06:34:30.515175Z",
     "iopub.status.idle": "2024-10-15T06:34:30.860276Z",
     "shell.execute_reply": "2024-10-15T06:34:30.858957Z"
    }
   },
   "outputs": [],
   "source": [
    "network_view = flyvis.NetworkView(f\"{task_name}/{ensemble_and_network_id}\")"
   ]
  }
 ],
 "metadata": {
  "kernelspec": {
   "display_name": "flyvis",
   "language": "python",
   "name": "python3"
  },
  "language_info": {
   "codemirror_mode": {
    "name": "ipython",
    "version": 3
   },
   "file_extension": ".py",
   "mimetype": "text/x-python",
   "name": "python",
   "nbconvert_exporter": "python",
   "pygments_lexer": "ipython3",
   "version": "3.9.16"
  }
 },
 "nbformat": 4,
 "nbformat_minor": 2
}
