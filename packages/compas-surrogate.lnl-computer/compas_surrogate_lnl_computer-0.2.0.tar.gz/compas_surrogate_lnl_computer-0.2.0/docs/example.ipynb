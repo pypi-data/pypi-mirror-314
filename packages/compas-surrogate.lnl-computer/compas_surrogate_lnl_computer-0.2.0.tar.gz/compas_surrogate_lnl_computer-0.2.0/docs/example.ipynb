{
 "cells": [
  {
   "metadata": {},
   "cell_type": "markdown",
   "source": "# Example LnL Computation\n",
   "id": "21e66b92f7ba5f86"
  },
  {
   "metadata": {},
   "cell_type": "code",
   "source": [
    "from lnl_computer.cosmic_integration.mcz_grid import McZGrid\n",
    "from lnl_computer.cosmic_integration.star_formation_paramters import (\n",
    "    DEFAULT_DICT,\n",
    "    draw_star_formation_samples\n",
    ")\n",
    "from lnl_computer.observation.mock_observation import MockObservation\n",
    "from compas_python_utils.cosmic_integration.binned_cosmic_integrator.bbh_population import \\\n",
    "    generate_mock_bbh_population_file\n",
    "from collections import namedtuple\n",
    "import os\n",
    "import warnings\n",
    "\n",
    "import matplotlib.pyplot as plt\n",
    "\n",
    "warnings.filterwarnings(\"ignore\")\n",
    "\n",
    "MOCK_DATA_TYPE = namedtuple('MockData', ['compas_h5_path', 'obs', 'sf_sample'])\n",
    "\n",
    "TMPDIR = 'out_temp'\n",
    "DURATION = 5\n",
    "\n",
    "\n",
    "def generate_mock_data(tmpdir=TMPDIR, n_systems=2000):\n",
    "    os.makedirs(tmpdir, exist_ok=True)\n",
    "    mock_compas_h5 = generate_mock_bbh_population_file(\n",
    "        n_systems=int(n_systems), \n",
    "        filename=f\"{tmpdir}/mock_compas.h5\",\n",
    "    )\n",
    "    mock_obs = MockObservation.from_compas_h5(\n",
    "        mock_compas_h5, \n",
    "        duration=DURATION, \n",
    "        cosmological_parameters=DEFAULT_DICT\n",
    "    )\n",
    "    return MOCK_DATA_TYPE(mock_compas_h5, mock_obs, DEFAULT_DICT)\n",
    "\n",
    "\n",
    "\n",
    "\n",
    "def compute_lnls_for_param(obs, param='mu_z', n_samples=10, ):\n",
    "    lnls = []\n",
    "    lnl_kwgs = dict(\n",
    "        mcz_obs=obs,\n",
    "        compas_h5_path=MOCK_DATA.compas_h5_path,\n",
    "        save_plots=True,\n",
    "        outdir=TMPDIR,\n",
    "    )\n",
    "    samples = draw_star_formation_samples(n_samples, parameters=param, grid=True, as_list=True)\n",
    "    for sf_sample in samples:\n",
    "        lnl, _ = McZGrid.lnl(sf_sample=sf_sample, **lnl_kwgs)\n",
    "        lnls.append(lnl)\n",
    "    s = [list(sf_sample.values())[0] for sf_sample in samples]\n",
    "    return s, lnls\n",
    "\n",
    "\n",
    "MOCK_DATA = generate_mock_data()"
   ],
   "id": "f93ad43daa98a933",
   "outputs": [],
   "execution_count": null
  },
  {
   "metadata": {},
   "cell_type": "markdown",
   "source": "## Mock Observations",
   "id": "cc0e392bf485b56d"
  },
  {
   "metadata": {},
   "cell_type": "code",
   "source": [
    "N = 10\n",
    "sigma0s, sigma0_lnls = compute_lnls_for_param(MOCK_DATA.obs, 'sigma_0', N)\n",
    "muzs, muz_lnls = compute_lnls_for_param(MOCK_DATA.obs, 'mu_z', N)\n",
    "aSFs, aSF_lnls = compute_lnls_for_param(MOCK_DATA.obs, 'aSF', N)\n",
    "dSFs, dSF_lnls = compute_lnls_for_param(MOCK_DATA.obs, 'dSF', N)"
   ],
   "id": "9d99bb17a4d8436d",
   "outputs": [],
   "execution_count": null
  },
  {
   "metadata": {},
   "cell_type": "code",
   "source": [
    "\n",
    "def plot_lnls(param, values, lnls, ax, show_trues=False):\n",
    "    ax.plot(values, lnls)\n",
    "    ylim = ax.get_ylim()\n",
    "    if show_trues:\n",
    "        ax.vlines(MOCK_DATA.sf_sample[param], *ylim, colors='red', linestyles='dashed')\n",
    "    ax.set_ylim(ylim)\n",
    "    ax.set_xlabel(param)\n",
    "    ax.set_yticks([])\n",
    "\n",
    "fig, axs = plt.subplots(1, 4, figsize=(12, 2))\n",
    "plot_lnls('sigma_0', sigma0s, sigma0_lnls, axs[0], show_trues=True)\n",
    "plot_lnls('mu_z', muzs, muz_lnls, axs[1], show_trues=True)\n",
    "plot_lnls('aSF', aSFs, aSF_lnls, axs[2], show_trues=True)\n",
    "plot_lnls('dSF', dSFs, dSF_lnls, axs[3], show_trues=True)\n",
    "axs[0].set_ylabel('lnL')\n",
    "plt.tight_layout()\n",
    "fig.savefig(f\"{TMPDIR}/mockobs_lnls.png\")"
   ],
   "id": "46d4d5e2bad98871",
   "outputs": [],
   "execution_count": null
  },
  {
   "metadata": {},
   "cell_type": "markdown",
   "source": "![](out_temp/mockobs_lnls.png)",
   "id": "e817fb99b1d9e6d4"
  },
  {
   "metadata": {},
   "cell_type": "markdown",
   "source": "## Using LVK Observations",
   "id": "94b4264e1d168d69"
  },
  {
   "metadata": {},
   "cell_type": "code",
   "source": [
    "from lnl_computer.observation import load_observation\n",
    "\n",
    "lvk_obs = load_observation(\n",
    "    'LVK',\n",
    "    pastro_threshold=0.95,\n",
    "    observing_runs=[\"O3a\", \"O3b\"],\n",
    "    filter_valid_mcz=True,\n",
    ")\n",
    "\n",
    "N = 10\n",
    "sigma0s, lvk_sigma0_lnls = compute_lnls_for_param(lvk_obs, 'sigma_0', N)\n",
    "muzs, lvk_muz_lnls = compute_lnls_for_param(lvk_obs, 'mu_z', N)\n",
    "aSFs, lvk_aSF_lnls = compute_lnls_for_param(lvk_obs, 'aSF', N)\n",
    "dSFs, lvk_dSF_lnls = compute_lnls_for_param(lvk_obs, 'dSF', N)"
   ],
   "id": "e9e6b32db7717da2",
   "outputs": [],
   "execution_count": null
  },
  {
   "metadata": {},
   "cell_type": "code",
   "source": [
    "fig, axs = plt.subplots(1, 4, figsize=(12, 2))\n",
    "plot_lnls('sigma_0', sigma0s, lvk_sigma0_lnls, axs[0])\n",
    "plot_lnls('mu_z', muzs, lvk_muz_lnls, axs[1])\n",
    "plot_lnls('aSF', aSFs, lvk_aSF_lnls, axs[2])\n",
    "plot_lnls('dSF', dSFs, lvk_dSF_lnls, axs[3])\n",
    "axs[0].set_ylabel('lnL')\n",
    "plt.tight_layout()\n",
    "fig.savefig(f\"{TMPDIR}/lvk_lnls.png\")"
   ],
   "id": "9352a353e818ed3d",
   "outputs": [],
   "execution_count": null
  },
  {
   "metadata": {},
   "cell_type": "markdown",
   "source": "![](out_temp/lvk_lnls.png)",
   "id": "1c100eded40da6a0"
  }
 ],
 "metadata": {
  "kernelspec": {
   "display_name": "Python 3",
   "language": "python",
   "name": "python3"
  },
  "language_info": {
   "codemirror_mode": {
    "name": "ipython",
    "version": 2
   },
   "file_extension": ".py",
   "mimetype": "text/x-python",
   "name": "python",
   "nbconvert_exporter": "python",
   "pygments_lexer": "ipython2",
   "version": "2.7.6"
  }
 },
 "nbformat": 4,
 "nbformat_minor": 5
}
