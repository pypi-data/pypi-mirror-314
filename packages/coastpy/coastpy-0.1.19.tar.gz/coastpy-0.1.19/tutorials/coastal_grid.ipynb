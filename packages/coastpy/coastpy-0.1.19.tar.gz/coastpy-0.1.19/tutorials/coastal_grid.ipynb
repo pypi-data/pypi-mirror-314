{
 "cells": [
  {
   "cell_type": "markdown",
   "id": "0",
   "metadata": {},
   "source": [
    "# Coastal Zone\n",
    "\n",
    "The Coastal Grid dataset provides a global tiling system for geospatial analytics in coastal areas.\n",
    "It supports scalable data processing workflows by offering structured grids at varying zoom levels\n",
    "(5, 6, 7) and buffer sizes (500m, 1000m, 2000m, 5000m, 10000m, 15000m).\n",
    "\n",
    "Each tile contains information on intersecting countries, continents, and Sentinel-2 MGRS tiles\n",
    "as nested JSON lists. The dataset is particularly suited for applications requiring global coastal\n",
    "coverage, such as satellite-based coastal monitoring, spatial analytics, and large-scale data processing.\n",
    "\n",
    "Key Features:\n",
    "- Global coverage of the coastal zone, derived from OpenStreetMap's generalized coastline (2023-02).\n",
    "- Precomputed intersections with countries, continents, and MGRS tiles.\n",
    "- Designed for use in scalable geospatial workflows.\n",
    "\n",
    "This dataset is structured as a STAC collection, with individual items for each zoom level and buffer\n",
    "size combination. Users can filter items by the `zoom` and `buffer_size` fields in the STAC metadata.\n",
    "\n",
    "Please consider the following citation when using this dataset:\n",
    "\n",
    "Floris Reinier Calkoen, Arjen Pieter Luijendijk, Kilian Vos, Etiënne Kras, Fedor Baart,\n",
    "Enabling coastal analytics at planetary scale, Environmental Modelling & Software, 2024,\n",
    "106257, ISSN 1364-8152, https://doi.org/10.1016/j.envsoft.2024.106257."
   ]
  },
  {
   "cell_type": "code",
   "execution_count": null,
   "id": "1",
   "metadata": {},
   "outputs": [],
   "source": [
    "import os\n",
    "\n",
    "import dask\n",
    "\n",
    "dask.config.set({\"dataframe.query-planning\": False})\n",
    "\n",
    "import geopandas as gpd\n",
    "import hvplot.pandas\n",
    "import pandas as pd\n",
    "import pystac\n",
    "import shapely\n",
    "from ipyleaflet import Map, basemaps\n",
    "\n",
    "storage_options = {\"account_name\": \"coclico\"}"
   ]
  },
  {
   "cell_type": "markdown",
   "id": "2",
   "metadata": {},
   "source": [
    "### Connect to the CoCliCo STAC "
   ]
  },
  {
   "cell_type": "code",
   "execution_count": null,
   "id": "3",
   "metadata": {},
   "outputs": [],
   "source": [
    "coclico_catalog = pystac.Catalog.from_file(\n",
    "    \"https://coclico.blob.core.windows.net/stac/v1/catalog.json\"\n",
    ")\n",
    "coastal_zone_collection = coclico_catalog.get_child(\"coastal-grid\")\n",
    "coastal_zone_collection"
   ]
  },
  {
   "cell_type": "markdown",
   "id": "4",
   "metadata": {},
   "source": [
    "### The collection includes multiple buffer distances"
   ]
  },
  {
   "cell_type": "code",
   "execution_count": null,
   "id": "5",
   "metadata": {},
   "outputs": [],
   "source": [
    "list(coastal_zone_collection.get_all_items())"
   ]
  },
  {
   "cell_type": "code",
   "execution_count": null,
   "id": "6",
   "metadata": {},
   "outputs": [],
   "source": [
    "item = coastal_zone_collection.get_item(\"coastal_grid_z6_10000m\")\n",
    "item"
   ]
  },
  {
   "cell_type": "markdown",
   "id": "7",
   "metadata": {},
   "source": [
    "## The data is stored here"
   ]
  },
  {
   "cell_type": "code",
   "execution_count": null,
   "id": "8",
   "metadata": {},
   "outputs": [],
   "source": [
    "href = item.assets[\"data\"].href\n",
    "href"
   ]
  },
  {
   "cell_type": "markdown",
   "id": "9",
   "metadata": {},
   "source": [
    "## Read it into GeoPandas"
   ]
  },
  {
   "cell_type": "code",
   "execution_count": null,
   "id": "10",
   "metadata": {},
   "outputs": [],
   "source": [
    "import fsspec\n",
    "with fsspec.open(href, mode=\"rb\", **storage_options) as f:\n",
    "    coastal_zone = gpd.read_parquet(f)"
   ]
  },
  {
   "cell_type": "code",
   "execution_count": null,
   "id": "11",
   "metadata": {},
   "outputs": [],
   "source": [
    "print(coastal_zone.shape)\n",
    "coastal_zone.head()"
   ]
  },
  {
   "cell_type": "markdown",
   "id": "12",
   "metadata": {},
   "source": [
    "## Show the data on an interactive map"
   ]
  },
  {
   "cell_type": "code",
   "execution_count": null,
   "id": "13",
   "metadata": {},
   "outputs": [],
   "source": [
    "coastal_zone.hvplot.polygons(\n",
    "    geo=True,\n",
    "    tiles=\"ESRI\",\n",
    "    color=\"coastal_grid:id\",  \n",
    "    cmap=\"Category10\", \n",
    "    line_color=\"orange\",  \n",
    "    alpha=0.8,  \n",
    "    width=600, \n",
    "    legend=False\n",
    ")"
   ]
  },
  {
   "cell_type": "code",
   "execution_count": null,
   "id": "14",
   "metadata": {},
   "outputs": [],
   "source": []
  }
 ],
 "metadata": {
  "kernelspec": {
   "display_name": "Python [conda env:coastal]",
   "language": "python",
   "name": "conda-env-coastal-py"
  },
  "language_info": {
   "codemirror_mode": {
    "name": "ipython",
    "version": 3
   },
   "file_extension": ".py",
   "mimetype": "text/x-python",
   "name": "python",
   "nbconvert_exporter": "python",
   "pygments_lexer": "ipython3",
   "version": "3.12.4"
  }
 },
 "nbformat": 4,
 "nbformat_minor": 5
}
