{
 "cells": [
  {
   "cell_type": "code",
   "execution_count": 1,
   "metadata": {},
   "outputs": [],
   "source": [
    "import io\n",
    "import subprocess\n",
    "from os.path import join, dirname, abspath\n",
    "import pandas as pd\n",
    "import numpy as np\n",
    "import matplotlib.pyplot as plt\n",
    "\n",
    "from cns import data_utils as cdu\n",
    "import cns\n",
    "\n",
    "# auto reload modules\n",
    "%load_ext autoreload\n",
    "%autoreload 2"
   ]
  },
  {
   "cell_type": "code",
   "execution_count": 2,
   "metadata": {},
   "outputs": [],
   "source": [
    "cns_file_data = \"\"\"sample_id, chrom, start, end, CN1, CN2\n",
    "s1, chr19, 1000000, 3000000, 1,\n",
    "s1, chr19, 3000000, 12000000, 1, 1\n",
    "s1, chr19, 12000000, 14000000, , 1\n",
    "s1, chr19, 14000000, 21000000, 3, 1\n",
    "s1, chr19, 21000000, 25000000, 3, \n",
    "s1, chr19, 28000000, 58500000, 3,\n",
    "s2, chr19, 1000000, 24000000, 2,\n",
    "s2, chr19, 29000000, 58000000, 0,\n",
    "\"\"\"\n",
    "\n",
    "cns_df = pd.read_csv(io.StringIO(cns_file_data.strip()), sep=',\\s*', engine='python')\n",
    "cns_df\n",
    "chr19_segs={\"chr19\": cns.genome_to_segments()[\"chr19\"]}"
   ]
  },
  {
   "cell_type": "code",
   "execution_count": 3,
   "metadata": {},
   "outputs": [],
   "source": [
    "def create_Latex_fig(code, name):\n",
    "    full_latex = r\"\"\"\n",
    "\\documentclass{standalone}\n",
    "\\usepackage{booktabs}\n",
    "\\usepackage{multirow}\n",
    "\\begin{document}\n",
    "%s\n",
    "\\end{document}\"\"\" % code\n",
    "    file_path = abspath(join(cdu.docs_path, f\"{name}.tex\"))\n",
    "    with open(file_path, \"w\") as f:\n",
    "        f.write(full_latex)\n",
    "    print(f\"Saved {file_path}\")\n",
    "    parent_dir = dirname(file_path)\n",
    "    res = subprocess.run([\"pdflatex\", \"-output-directory\", parent_dir, file_path], timeout=2)\n",
    "    print(res)\n",
    "    print(f\"Compiled {file_path.replace('.tex', '.pdf')}\")"
   ]
  },
  {
   "cell_type": "code",
   "execution_count": 4,
   "metadata": {},
   "outputs": [],
   "source": [
    "def latex_cns_table(cns_df, name, column_format=None, index=False, title=None):\n",
    "    # Convert to LaTeX and render\n",
    "    latex_table = cns_df.to_latex(index=index, float_format=\"%.2f\", bold_rows=False, column_format=column_format)\\\n",
    "        .replace(\"sample_id\", \"sample\")\\\n",
    "        .replace(r\"_\", r\" \")\\\n",
    "        .replace(\"cn\", \"CN\")    \n",
    "    if title is not None:\n",
    "        c_count = len(cns_df.columns) if not index else len(cns_df.columns) + 1\n",
    "        title_tex = \"\\\\hline\\n\\\\multicolumn{%i}{|c|}{\\\\textbf{%s}}\\\\\\\\\\n\\\\hline \\n\" % (c_count, title)\n",
    "        latex_table = latex_table.replace(\"\\\\toprule\", title_tex).replace(\"\\\\midrule\", \"\\\\hline\").replace(\"\\\\bottomrule\", \"\\\\hline\")\n",
    "    create_Latex_fig(latex_table, name)"
   ]
  },
  {
   "cell_type": "code",
   "execution_count": 5,
   "metadata": {},
   "outputs": [
    {
     "name": "stdout",
     "output_type": "stream",
     "text": [
      "Saved D:\\Ubuntu\\CNSistent\\docs\\files\\cns_raw_df.tex\n",
      "CompletedProcess(args=['pdflatex', '-output-directory', 'D:\\\\Ubuntu\\\\CNSistent\\\\docs\\\\files', 'D:\\\\Ubuntu\\\\CNSistent\\\\docs\\\\files\\\\cns_raw_df.tex'], returncode=0)\n",
      "Compiled D:\\Ubuntu\\CNSistent\\docs\\files\\cns_raw_df.pdf\n"
     ]
    }
   ],
   "source": [
    "latex_cns_table(cns_df, \"cns_raw_df\", \"|l|c|c|c|c|c|\", title=\"raw copy number segments\")"
   ]
  },
  {
   "cell_type": "code",
   "execution_count": 6,
   "metadata": {},
   "outputs": [],
   "source": [
    "def plot_bars(ax, cns_df, column, color, height, offset, label, alpha=1):\n",
    "    sel_df = cns_df[~cns_df[column].isna()]\n",
    "    y = sel_df[column].values + offset\n",
    "    x = sel_df[\"start\"].values\n",
    "    width = (sel_df[\"end\"] - sel_df[\"start\"]).values\n",
    "    ax.barh(y, width, height=height, left=x, color=color, label=label, alpha=alpha)\n",
    "\n",
    "def cns_sid(cns_df, sample_id):\n",
    "    return cns_df[cns_df[\"sample_id\"] == sample_id]\n",
    "\n",
    "def plot_util(ax):\n",
    "    max_x = cns.hg19.chr_lens[\"chr19\"]\n",
    "    pad_x = 60000000 - max_x\n",
    "    ax.set_xlim(-pad_x, max_x+pad_x)\n",
    "    ax.set_yticks(np.arange(-1, 5))   \n",
    "    ax.set_ylim(-1, 4)\n",
    "    ax.set_ylabel('copy number')\n",
    "    # set tick labels to 0 Mb, 10 Mb, ..., 60 Mb\n",
    "    ax.set_xticks(np.arange(0, 70000000, 10000000))\n",
    "    ax.set_xticklabels([f\"{i//1000000} Mb\" for i in np.arange(0, 70000000, 10000000)]) \n"
   ]
  },
  {
   "cell_type": "code",
   "execution_count": 7,
   "metadata": {},
   "outputs": [
    {
     "data": {
      "image/png": "[encoded data removed]",
      "text/plain": [
       "<Figure size 600x100 with 1 Axes>"
      ]
     },
     "metadata": {},
     "output_type": "display_data"
    }
   ],
   "source": [
    "fig, ax = plt.subplots(1, 1, figsize=(6, 1), dpi=100)\n",
    "colors = [\"maroon\", \"sienna\", \"darkgreen\", \"olive\"]\n",
    "plot_util(ax)\n",
    "ax.set_title('raw CNS (chromosome 19)')\n",
    "plot_bars(ax, cns_sid(cns_df, \"s1\"), \"CN1\", colors[0], .3, .15, \"s1: CN1\")\n",
    "plot_bars(ax, cns_sid(cns_df, \"s1\"), \"CN2\", colors[1], .3, -.15, \"s1: CN2\")\n",
    "plot_bars(ax, cns_sid(cns_df, \"s2\"), \"CN1\", colors[2], .3, .15, \"s2: CN1\")\n",
    "dummy = cns_sid(cns_df, \"s2\").copy()\n",
    "dummy[\"end\"] = dummy[\"start\"]\n",
    "plot_bars(ax, dummy, \"CN1\", colors[3], .3, .15, \"s2: CN2\")\n",
    "# dummy here to make sure color is correct,\n",
    "ax.legend(ncols=4, loc='upper center', bbox_to_anchor=(0.5, 2), columnspacing=.85)\n",
    "cdu.save_doc_fig(\"cns_raw\")"
   ]
  },
  {
   "cell_type": "code",
   "execution_count": 8,
   "metadata": {},
   "outputs": [
    {
     "name": "stdout",
     "output_type": "stream",
     "text": [
      "Saved D:\\Ubuntu\\CNSistent\\docs\\files\\coverage_df.tex\n",
      "CompletedProcess(args=['pdflatex', '-output-directory', 'D:\\\\Ubuntu\\\\CNSistent\\\\docs\\\\files', 'D:\\\\Ubuntu\\\\CNSistent\\\\docs\\\\files\\\\coverage_df.tex'], returncode=0)\n",
      "Compiled D:\\Ubuntu\\CNSistent\\docs\\files\\coverage_df.pdf\n"
     ]
    },
    {
     "data": {
      "text/html": [
       "<div>\n",
       "<style scoped>\n",
       "    .dataframe tbody tr th:only-of-type {\n",
       "        vertical-align: middle;\n",
       "    }\n",
       "\n",
       "    .dataframe tbody tr th {\n",
       "        vertical-align: top;\n",
       "    }\n",
       "\n",
       "    .dataframe thead th {\n",
       "        text-align: right;\n",
       "    }\n",
       "</style>\n",
       "<table border=\"1\" class=\"dataframe\">\n",
       "  <thead>\n",
       "    <tr style=\"text-align: right;\">\n",
       "      <th>feature</th>\n",
       "      <th>s1</th>\n",
       "      <th>s2</th>\n",
       "    </tr>\n",
       "  </thead>\n",
       "  <tbody>\n",
       "    <tr>\n",
       "      <th>coverage (any)</th>\n",
       "      <td>0.921714</td>\n",
       "      <td>0.879433</td>\n",
       "    </tr>\n",
       "    <tr>\n",
       "      <th>coverage (both)</th>\n",
       "      <td>0.270595</td>\n",
       "      <td>0.0</td>\n",
       "    </tr>\n",
       "  </tbody>\n",
       "</table>\n",
       "</div>"
      ],
      "text/plain": [
       "feature                s1        s2\n",
       "coverage (any)   0.921714  0.879433\n",
       "coverage (both)  0.270595       0.0"
      ]
     },
     "execution_count": 8,
     "metadata": {},
     "output_type": "execute_result"
    }
   ],
   "source": [
    "cov_df = cns.main_coverage(cns_df, segs=chr19_segs).T.reset_index().rename(columns={\"index\": \"feature\"}).set_index(\"feature\")\t\n",
    "cov_df.columns.name = r\"feature\"\n",
    "cov_df = cov_df.loc[[\"cover_any_aut\", \"cover_both_aut\"]]\n",
    "cov_df.index = [\"coverage (any)\", \"coverage (both)\"]\n",
    "latex_cns_table(cov_df, \"coverage_df\", \"|l|c|c|\", True, \"coverage of raw segments\")\n",
    "cov_df"
   ]
  },
  {
   "cell_type": "code",
   "execution_count": 9,
   "metadata": {},
   "outputs": [
    {
     "data": {
      "text/html": [
       "<div>\n",
       "<style scoped>\n",
       "    .dataframe tbody tr th:only-of-type {\n",
       "        vertical-align: middle;\n",
       "    }\n",
       "\n",
       "    .dataframe tbody tr th {\n",
       "        vertical-align: top;\n",
       "    }\n",
       "\n",
       "    .dataframe thead th {\n",
       "        text-align: right;\n",
       "    }\n",
       "</style>\n",
       "<table border=\"1\" class=\"dataframe\">\n",
       "  <thead>\n",
       "    <tr style=\"text-align: right;\">\n",
       "      <th></th>\n",
       "      <th>sample_id</th>\n",
       "      <th>chrom</th>\n",
       "      <th>start</th>\n",
       "      <th>end</th>\n",
       "      <th>CN1</th>\n",
       "      <th>CN2</th>\n",
       "    </tr>\n",
       "  </thead>\n",
       "  <tbody>\n",
       "    <tr>\n",
       "      <th>0</th>\n",
       "      <td>s1</td>\n",
       "      <td>chr19</td>\n",
       "      <td>0</td>\n",
       "      <td>1000000</td>\n",
       "      <td>NaN</td>\n",
       "      <td>NaN</td>\n",
       "    </tr>\n",
       "    <tr>\n",
       "      <th>1</th>\n",
       "      <td>s1</td>\n",
       "      <td>chr19</td>\n",
       "      <td>1000000</td>\n",
       "      <td>3000000</td>\n",
       "      <td>1.0</td>\n",
       "      <td>NaN</td>\n",
       "    </tr>\n",
       "    <tr>\n",
       "      <th>2</th>\n",
       "      <td>s1</td>\n",
       "      <td>chr19</td>\n",
       "      <td>3000000</td>\n",
       "      <td>12000000</td>\n",
       "      <td>1.0</td>\n",
       "      <td>1.0</td>\n",
       "    </tr>\n",
       "    <tr>\n",
       "      <th>3</th>\n",
       "      <td>s1</td>\n",
       "      <td>chr19</td>\n",
       "      <td>12000000</td>\n",
       "      <td>14000000</td>\n",
       "      <td>NaN</td>\n",
       "      <td>1.0</td>\n",
       "    </tr>\n",
       "    <tr>\n",
       "      <th>4</th>\n",
       "      <td>s1</td>\n",
       "      <td>chr19</td>\n",
       "      <td>14000000</td>\n",
       "      <td>21000000</td>\n",
       "      <td>3.0</td>\n",
       "      <td>1.0</td>\n",
       "    </tr>\n",
       "    <tr>\n",
       "      <th>5</th>\n",
       "      <td>s1</td>\n",
       "      <td>chr19</td>\n",
       "      <td>21000000</td>\n",
       "      <td>25000000</td>\n",
       "      <td>3.0</td>\n",
       "      <td>NaN</td>\n",
       "    </tr>\n",
       "    <tr>\n",
       "      <th>6</th>\n",
       "      <td>s1</td>\n",
       "      <td>chr19</td>\n",
       "      <td>25000000</td>\n",
       "      <td>28000000</td>\n",
       "      <td>NaN</td>\n",
       "      <td>NaN</td>\n",
       "    </tr>\n",
       "    <tr>\n",
       "      <th>7</th>\n",
       "      <td>s1</td>\n",
       "      <td>chr19</td>\n",
       "      <td>28000000</td>\n",
       "      <td>58500000</td>\n",
       "      <td>3.0</td>\n",
       "      <td>NaN</td>\n",
       "    </tr>\n",
       "    <tr>\n",
       "      <th>8</th>\n",
       "      <td>s1</td>\n",
       "      <td>chr19</td>\n",
       "      <td>58500000</td>\n",
       "      <td>59128983</td>\n",
       "      <td>NaN</td>\n",
       "      <td>NaN</td>\n",
       "    </tr>\n",
       "    <tr>\n",
       "      <th>9</th>\n",
       "      <td>s2</td>\n",
       "      <td>chr19</td>\n",
       "      <td>0</td>\n",
       "      <td>1000000</td>\n",
       "      <td>NaN</td>\n",
       "      <td>NaN</td>\n",
       "    </tr>\n",
       "    <tr>\n",
       "      <th>10</th>\n",
       "      <td>s2</td>\n",
       "      <td>chr19</td>\n",
       "      <td>1000000</td>\n",
       "      <td>24000000</td>\n",
       "      <td>2.0</td>\n",
       "      <td>NaN</td>\n",
       "    </tr>\n",
       "    <tr>\n",
       "      <th>11</th>\n",
       "      <td>s2</td>\n",
       "      <td>chr19</td>\n",
       "      <td>24000000</td>\n",
       "      <td>29000000</td>\n",
       "      <td>NaN</td>\n",
       "      <td>NaN</td>\n",
       "    </tr>\n",
       "    <tr>\n",
       "      <th>12</th>\n",
       "      <td>s2</td>\n",
       "      <td>chr19</td>\n",
       "      <td>29000000</td>\n",
       "      <td>58000000</td>\n",
       "      <td>0.0</td>\n",
       "      <td>NaN</td>\n",
       "    </tr>\n",
       "    <tr>\n",
       "      <th>13</th>\n",
       "      <td>s2</td>\n",
       "      <td>chr19</td>\n",
       "      <td>58000000</td>\n",
       "      <td>59128983</td>\n",
       "      <td>NaN</td>\n",
       "      <td>NaN</td>\n",
       "    </tr>\n",
       "  </tbody>\n",
       "</table>\n",
       "</div>"
      ],
      "text/plain": [
       "   sample_id  chrom     start       end  CN1  CN2\n",
       "0         s1  chr19         0   1000000  NaN  NaN\n",
       "1         s1  chr19   1000000   3000000  1.0  NaN\n",
       "2         s1  chr19   3000000  12000000  1.0  1.0\n",
       "3         s1  chr19  12000000  14000000  NaN  1.0\n",
       "4         s1  chr19  14000000  21000000  3.0  1.0\n",
       "5         s1  chr19  21000000  25000000  3.0  NaN\n",
       "6         s1  chr19  25000000  28000000  NaN  NaN\n",
       "7         s1  chr19  28000000  58500000  3.0  NaN\n",
       "8         s1  chr19  58500000  59128983  NaN  NaN\n",
       "9         s2  chr19         0   1000000  NaN  NaN\n",
       "10        s2  chr19   1000000  24000000  2.0  NaN\n",
       "11        s2  chr19  24000000  29000000  NaN  NaN\n",
       "12        s2  chr19  29000000  58000000  0.0  NaN\n",
       "13        s2  chr19  58000000  59128983  NaN  NaN"
      ]
     },
     "execution_count": 9,
     "metadata": {},
     "output_type": "execute_result"
    }
   ],
   "source": [
    "cns_fill_df = cns.main_fill(cns_df, add_missing_chromosomes=False)\n",
    "cns_fill_df"
   ]
  },
  {
   "cell_type": "code",
   "execution_count": 10,
   "metadata": {},
   "outputs": [
    {
     "name": "stdout",
     "output_type": "stream",
     "text": [
      "Saved D:\\Ubuntu\\CNSistent\\docs\\files\\cns_imp_df.tex\n",
      "CompletedProcess(args=['pdflatex', '-output-directory', 'D:\\\\Ubuntu\\\\CNSistent\\\\docs\\\\files', 'D:\\\\Ubuntu\\\\CNSistent\\\\docs\\\\files\\\\cns_imp_df.tex'], returncode=0)\n",
      "Compiled D:\\Ubuntu\\CNSistent\\docs\\files\\cns_imp_df.pdf\n"
     ]
    },
    {
     "data": {
      "text/html": [
       "<div>\n",
       "<style scoped>\n",
       "    .dataframe tbody tr th:only-of-type {\n",
       "        vertical-align: middle;\n",
       "    }\n",
       "\n",
       "    .dataframe tbody tr th {\n",
       "        vertical-align: top;\n",
       "    }\n",
       "\n",
       "    .dataframe thead th {\n",
       "        text-align: right;\n",
       "    }\n",
       "</style>\n",
       "<table border=\"1\" class=\"dataframe\">\n",
       "  <thead>\n",
       "    <tr style=\"text-align: right;\">\n",
       "      <th></th>\n",
       "      <th>sample_id</th>\n",
       "      <th>chrom</th>\n",
       "      <th>start</th>\n",
       "      <th>end</th>\n",
       "      <th>CN1</th>\n",
       "      <th>CN2</th>\n",
       "    </tr>\n",
       "  </thead>\n",
       "  <tbody>\n",
       "    <tr>\n",
       "      <th>0</th>\n",
       "      <td>s1</td>\n",
       "      <td>chr19</td>\n",
       "      <td>0</td>\n",
       "      <td>13000000</td>\n",
       "      <td>1</td>\n",
       "      <td>1</td>\n",
       "    </tr>\n",
       "    <tr>\n",
       "      <th>1</th>\n",
       "      <td>s1</td>\n",
       "      <td>chr19</td>\n",
       "      <td>13000000</td>\n",
       "      <td>59128983</td>\n",
       "      <td>3</td>\n",
       "      <td>1</td>\n",
       "    </tr>\n",
       "    <tr>\n",
       "      <th>2</th>\n",
       "      <td>s2</td>\n",
       "      <td>chr19</td>\n",
       "      <td>0</td>\n",
       "      <td>26500000</td>\n",
       "      <td>2</td>\n",
       "      <td>0</td>\n",
       "    </tr>\n",
       "    <tr>\n",
       "      <th>3</th>\n",
       "      <td>s2</td>\n",
       "      <td>chr19</td>\n",
       "      <td>26500000</td>\n",
       "      <td>59128983</td>\n",
       "      <td>0</td>\n",
       "      <td>0</td>\n",
       "    </tr>\n",
       "  </tbody>\n",
       "</table>\n",
       "</div>"
      ],
      "text/plain": [
       "  sample_id  chrom     start       end  CN1  CN2\n",
       "0        s1  chr19         0  13000000    1    1\n",
       "1        s1  chr19  13000000  59128983    3    1\n",
       "2        s2  chr19         0  26500000    2    0\n",
       "3        s2  chr19  26500000  59128983    0    0"
      ]
     },
     "execution_count": 10,
     "metadata": {},
     "output_type": "execute_result"
    }
   ],
   "source": [
    "cns_imp_df = cns.main_impute(cns_fill_df)\n",
    "latex_cns_table(cns_imp_df, \"cns_imp_df\", \"|l|c|c|c|c|c|\", title=\"imputed copy number segments\")\n",
    "cns_imp_df"
   ]
  },
  {
   "cell_type": "code",
   "execution_count": 11,
   "metadata": {},
   "outputs": [
    {
     "data": {
      "image/png": "[encoded data removed]",
      "text/plain": [
       "<Figure size 600x100 with 1 Axes>"
      ]
     },
     "metadata": {},
     "output_type": "display_data"
    }
   ],
   "source": [
    "fig, ax = plt.subplots(1, 1, figsize=(6, 1), dpi=100)\n",
    "plot_util(ax)\n",
    "ax.set_title('imputed CNS')\n",
    "plot_bars(ax, cns_sid(cns_imp_df, \"s1\"), \"CN1\", colors[0], .3, .15, \"s1: CN1\", alpha=.35)\n",
    "plot_bars(ax, cns_sid(cns_imp_df, \"s1\"), \"CN2\", colors[1], .3, -.15, \"s1: CN2\", alpha=.35)\n",
    "plot_bars(ax, cns_sid(cns_imp_df, \"s2\"), \"CN1\", colors[2], .3, .15, \"s2: CN1\", alpha=.35)\n",
    "plot_bars(ax, cns_sid(cns_imp_df, \"s2\"), \"CN2\", colors[3], .3, -.15, \"s2: CN2\", alpha=.35)\n",
    "plot_bars(ax, cns_sid(cns_df, \"s1\"), \"CN1\", colors[0], .3, .15, \"s1: CN1\")\n",
    "plot_bars(ax, cns_sid(cns_df, \"s1\"), \"CN2\", colors[1], .3, -.15, \"s1: CN2\")\n",
    "plot_bars(ax, cns_sid(cns_df, \"s2\"), \"CN1\", colors[2], .3, .15, \"s2: CN1\")\n",
    "plot_bars(ax, cns_sid(cns_df, \"s2\"), \"CN2\", colors[3], .3, -.15, \"s2: CN2\")\n",
    "ax.axvline(13000000, color='k', linestyle='--', alpha=.5)\n",
    "ax.text(13000000, 3, '  13 Mb  ', color='k', fontsize=8, ha='right', va='center')\n",
    "ax.axvline(26500000, color='k', linestyle='--', alpha=.5)\n",
    "ax.text(26500000, 2, '  26.5 Mb  ', color='k', fontsize=8, ha='left', va='center')\n",
    "cdu.save_doc_fig(\"cns_imputed\")"
   ]
  },
  {
   "cell_type": "code",
   "execution_count": 12,
   "metadata": {},
   "outputs": [
    {
     "name": "stdout",
     "output_type": "stream",
     "text": [
      "Saved D:\\Ubuntu\\CNSistent\\docs\\files\\chr19_gaps_df.tex\n",
      "CompletedProcess(args=['pdflatex', '-output-directory', 'D:\\\\Ubuntu\\\\CNSistent\\\\docs\\\\files', 'D:\\\\Ubuntu\\\\CNSistent\\\\docs\\\\files\\\\chr19_gaps_df.tex'], returncode=0)\n",
      "Compiled D:\\Ubuntu\\CNSistent\\docs\\files\\chr19_gaps_df.pdf\n"
     ]
    },
    {
     "data": {
      "text/html": [
       "<div>\n",
       "<style scoped>\n",
       "    .dataframe tbody tr th:only-of-type {\n",
       "        vertical-align: middle;\n",
       "    }\n",
       "\n",
       "    .dataframe tbody tr th {\n",
       "        vertical-align: top;\n",
       "    }\n",
       "\n",
       "    .dataframe thead th {\n",
       "        text-align: right;\n",
       "    }\n",
       "</style>\n",
       "<table border=\"1\" class=\"dataframe\">\n",
       "  <thead>\n",
       "    <tr style=\"text-align: right;\">\n",
       "      <th></th>\n",
       "      <th>chrom</th>\n",
       "      <th>start</th>\n",
       "      <th>end</th>\n",
       "    </tr>\n",
       "  </thead>\n",
       "  <tbody>\n",
       "    <tr>\n",
       "      <th>0</th>\n",
       "      <td>chr19</td>\n",
       "      <td>0</td>\n",
       "      <td>60000</td>\n",
       "    </tr>\n",
       "    <tr>\n",
       "      <th>1</th>\n",
       "      <td>chr19</td>\n",
       "      <td>7346004</td>\n",
       "      <td>7396004</td>\n",
       "    </tr>\n",
       "    <tr>\n",
       "      <th>2</th>\n",
       "      <td>chr19</td>\n",
       "      <td>8687198</td>\n",
       "      <td>8737198</td>\n",
       "    </tr>\n",
       "    <tr>\n",
       "      <th>3</th>\n",
       "      <td>chr19</td>\n",
       "      <td>20523415</td>\n",
       "      <td>20573415</td>\n",
       "    </tr>\n",
       "    <tr>\n",
       "      <th>4</th>\n",
       "      <td>chr19</td>\n",
       "      <td>24631782</td>\n",
       "      <td>27731782</td>\n",
       "    </tr>\n",
       "    <tr>\n",
       "      <th>5</th>\n",
       "      <td>chr19</td>\n",
       "      <td>59118983</td>\n",
       "      <td>59128983</td>\n",
       "    </tr>\n",
       "  </tbody>\n",
       "</table>\n",
       "</div>"
      ],
      "text/plain": [
       "   chrom     start       end\n",
       "0  chr19         0     60000\n",
       "1  chr19   7346004   7396004\n",
       "2  chr19   8687198   8737198\n",
       "3  chr19  20523415  20573415\n",
       "4  chr19  24631782  27731782\n",
       "5  chr19  59118983  59128983"
      ]
     },
     "execution_count": 12,
     "metadata": {},
     "output_type": "execute_result"
    }
   ],
   "source": [
    "chr19_gaps = {\"chr19\": cns.tuples_to_segments(cns.hg19_gaps)[\"chr19\"]}\n",
    "merged_chr19_gaps = cns.merge_segments(chr19_gaps)\n",
    "chr19_gaps_df = cns.segments_to_cns_df(merged_chr19_gaps)[[\"chrom\", \"start\", \"end\"]]\n",
    "latex_cns_table(chr19_gaps_df, \"chr19_gaps_df\", \"|l|c|c|c|c|\", False, \"known gaps in chr19\")\n",
    "chr19_gaps_df"
   ]
  },
  {
   "cell_type": "code",
   "execution_count": 13,
   "metadata": {},
   "outputs": [],
   "source": [
    "def segs_to_mask(ax, segs_df):\n",
    "\tfor i, row in segs_df.iterrows():\n",
    "\t\tax.fill_between([row[\"start\"], row[\"end\"]], -1, 5, color='#EEEEAA')\n",
    "\t\tax.axvline(x=row[\"start\"], color='k', linestyle='--', linewidth=.5)\n",
    "\t\tax.axvline(x=row[\"end\"], color='k', linestyle='--', linewidth=.5)"
   ]
  },
  {
   "cell_type": "code",
   "execution_count": 14,
   "metadata": {},
   "outputs": [
    {
     "data": {
      "image/png": "[encoded data removed]",
      "text/plain": [
       "<Figure size 600x100 with 1 Axes>"
      ]
     },
     "metadata": {},
     "output_type": "display_data"
    }
   ],
   "source": [
    "fig, ax = plt.subplots(1, 1, figsize=(6, 1), dpi=100)\n",
    "plot_util(ax)\n",
    "ax.set_title('raw CNS with gap mask')\n",
    "plot_bars(ax, cns_sid(cns_df, \"s1\"), \"CN1\", colors[0], .3, .15, \"s1: CN1\")\n",
    "plot_bars(ax, cns_sid(cns_df, \"s1\"), \"CN2\", colors[1], .3, -.15, \"s1: CN2\")\n",
    "plot_bars(ax, cns_sid(cns_df, \"s2\"), \"CN1\", colors[2], .3, .15, \"s2: CN1\")\n",
    "segs_to_mask(ax, chr19_gaps_df)\n",
    "cdu.save_doc_fig(\"cns_raw_mask\")"
   ]
  },
  {
   "cell_type": "code",
   "execution_count": 15,
   "metadata": {},
   "outputs": [
    {
     "name": "stdout",
     "output_type": "stream",
     "text": [
      "Saved D:\\Ubuntu\\CNSistent\\docs\\files\\segs_with_gaps_filter_df.tex\n",
      "CompletedProcess(args=['pdflatex', '-output-directory', 'D:\\\\Ubuntu\\\\CNSistent\\\\docs\\\\files', 'D:\\\\Ubuntu\\\\CNSistent\\\\docs\\\\files\\\\segs_with_gaps_filter_df.tex'], returncode=0)\n",
      "Compiled D:\\Ubuntu\\CNSistent\\docs\\files\\segs_with_gaps_filter_df.pdf\n"
     ]
    },
    {
     "data": {
      "text/html": [
       "<div>\n",
       "<style scoped>\n",
       "    .dataframe tbody tr th:only-of-type {\n",
       "        vertical-align: middle;\n",
       "    }\n",
       "\n",
       "    .dataframe tbody tr th {\n",
       "        vertical-align: top;\n",
       "    }\n",
       "\n",
       "    .dataframe thead th {\n",
       "        text-align: right;\n",
       "    }\n",
       "</style>\n",
       "<table border=\"1\" class=\"dataframe\">\n",
       "  <thead>\n",
       "    <tr style=\"text-align: right;\">\n",
       "      <th></th>\n",
       "      <th>chrom</th>\n",
       "      <th>start</th>\n",
       "      <th>end</th>\n",
       "    </tr>\n",
       "  </thead>\n",
       "  <tbody>\n",
       "    <tr>\n",
       "      <th>0</th>\n",
       "      <td>chr19</td>\n",
       "      <td>0</td>\n",
       "      <td>24631782</td>\n",
       "    </tr>\n",
       "    <tr>\n",
       "      <th>1</th>\n",
       "      <td>chr19</td>\n",
       "      <td>27731782</td>\n",
       "      <td>59128983</td>\n",
       "    </tr>\n",
       "  </tbody>\n",
       "</table>\n",
       "</div>"
      ],
      "text/plain": [
       "   chrom     start       end\n",
       "0  chr19         0  24631782\n",
       "1  chr19  27731782  59128983"
      ]
     },
     "execution_count": 15,
     "metadata": {},
     "output_type": "execute_result"
    }
   ],
   "source": [
    "segs_with_gaps = cns.main_segment(chr19_segs, chr19_gaps, filter_size=100000)\n",
    "segs_with_gaps_df = cns.segments_to_cns_df(segs_with_gaps)[[\"chrom\", \"start\", \"end\"]]\n",
    "latex_cns_table(segs_with_gaps_df, \"segs_with_gaps_filter_df\", \"|l|c|c|\", False, \"segments with filtered gaps\")\n",
    "segs_with_gaps_df"
   ]
  },
  {
   "cell_type": "code",
   "execution_count": 16,
   "metadata": {},
   "outputs": [
    {
     "name": "stdout",
     "output_type": "stream",
     "text": [
      "Saved D:\\Ubuntu\\CNSistent\\docs\\files\\coverage_gaps_df.tex\n",
      "CompletedProcess(args=['pdflatex', '-output-directory', 'D:\\\\Ubuntu\\\\CNSistent\\\\docs\\\\files', 'D:\\\\Ubuntu\\\\CNSistent\\\\docs\\\\files\\\\coverage_gaps_df.tex'], returncode=0)\n",
      "Compiled D:\\Ubuntu\\CNSistent\\docs\\files\\coverage_gaps_df.pdf\n"
     ]
    },
    {
     "data": {
      "text/html": [
       "<div>\n",
       "<style scoped>\n",
       "    .dataframe tbody tr th:only-of-type {\n",
       "        vertical-align: middle;\n",
       "    }\n",
       "\n",
       "    .dataframe tbody tr th {\n",
       "        vertical-align: top;\n",
       "    }\n",
       "\n",
       "    .dataframe thead th {\n",
       "        text-align: right;\n",
       "    }\n",
       "</style>\n",
       "<table border=\"1\" class=\"dataframe\">\n",
       "  <thead>\n",
       "    <tr style=\"text-align: right;\">\n",
       "      <th>\\textbf{feature}</th>\n",
       "      <th>s1</th>\n",
       "      <th>s2</th>\n",
       "    </tr>\n",
       "  </thead>\n",
       "  <tbody>\n",
       "    <tr>\n",
       "      <th>coverage (any)</th>\n",
       "      <td>0.966139</td>\n",
       "      <td>0.928091</td>\n",
       "    </tr>\n",
       "    <tr>\n",
       "      <th>coverage (both)</th>\n",
       "      <td>0.285566</td>\n",
       "      <td>0.0</td>\n",
       "    </tr>\n",
       "  </tbody>\n",
       "</table>\n",
       "</div>"
      ],
      "text/plain": [
       "\\textbf{feature}        s1        s2\n",
       "coverage (any)    0.966139  0.928091\n",
       "coverage (both)   0.285566       0.0"
      ]
     },
     "execution_count": 16,
     "metadata": {},
     "output_type": "execute_result"
    }
   ],
   "source": [
    "cov_df = cns.main_coverage(cns_df, segs=segs_with_gaps).T.reset_index().rename(columns={\"index\": \"feature\"}).set_index(\"feature\")\t\n",
    "cov_df.columns.name = r\"\\textbf{feature}\"\n",
    "cov_df = cov_df.loc[[\"cover_any_aut\", \"cover_both_aut\"]]\n",
    "cov_df.index = [\"coverage (any)\", \"coverage (both)\"]\n",
    "latex_cns_table(cov_df, \"coverage_gaps_df\", \"|l|c|c|\", True, \"coverage with gaps\")\n",
    "cov_df"
   ]
  },
  {
   "cell_type": "code",
   "execution_count": 17,
   "metadata": {},
   "outputs": [
    {
     "data": {
      "image/png": "[encoded data removed]",
      "text/plain": [
       "<Figure size 600x100 with 1 Axes>"
      ]
     },
     "metadata": {},
     "output_type": "display_data"
    }
   ],
   "source": [
    "fig, ax = plt.subplots(1, 1, figsize=(6, 1), dpi=100)\n",
    "plot_util(ax)\n",
    "ax.set_title('imputed CNS with gap mask')\n",
    "plot_bars(ax, cns_sid(cns_imp_df, \"s1\"), \"CN1\", colors[0], .3, .15, \"s1: CN1\")\n",
    "plot_bars(ax, cns_sid(cns_imp_df, \"s1\"), \"CN2\", colors[1], .3, -.15, \"s1: CN2\")\n",
    "plot_bars(ax, cns_sid(cns_imp_df, \"s2\"), \"CN1\", colors[2], .3, .15, \"s2: CN1\")\n",
    "plot_bars(ax, cns_sid(cns_imp_df, \"s2\"), \"CN2\", colors[3], .3, -.15, \"s2: CN2\")\n",
    "\n",
    "segs_to_mask(ax, chr19_gaps_df)\n",
    "cdu.save_doc_fig(\"cns_imputed_mask\")"
   ]
  },
  {
   "cell_type": "code",
   "execution_count": 24,
   "metadata": {},
   "outputs": [
    {
     "name": "stdout",
     "output_type": "stream",
     "text": [
      "Saved D:\\Ubuntu\\CNSistent\\docs\\files\\ploidy_df.tex\n",
      "CompletedProcess(args=['pdflatex', '-output-directory', 'D:\\\\Ubuntu\\\\CNSistent\\\\docs\\\\files', 'D:\\\\Ubuntu\\\\CNSistent\\\\docs\\\\files\\\\ploidy_df.tex'], returncode=0)\n",
      "Compiled D:\\Ubuntu\\CNSistent\\docs\\files\\ploidy_df.pdf\n"
     ]
    },
    {
     "data": {
      "text/html": [
       "<div>\n",
       "<style scoped>\n",
       "    .dataframe tbody tr th:only-of-type {\n",
       "        vertical-align: middle;\n",
       "    }\n",
       "\n",
       "    .dataframe tbody tr th {\n",
       "        vertical-align: top;\n",
       "    }\n",
       "\n",
       "    .dataframe thead th {\n",
       "        text-align: right;\n",
       "    }\n",
       "</style>\n",
       "<table border=\"1\" class=\"dataframe\">\n",
       "  <thead>\n",
       "    <tr style=\"text-align: right;\">\n",
       "      <th>feature</th>\n",
       "      <th>s1</th>\n",
       "      <th>s2</th>\n",
       "    </tr>\n",
       "  </thead>\n",
       "  <tbody>\n",
       "    <tr>\n",
       "      <th>GnD (both)</th>\n",
       "      <td>0.0</td>\n",
       "      <td>1.0</td>\n",
       "    </tr>\n",
       "    <tr>\n",
       "      <th>GnD (any)</th>\n",
       "      <td>0.767977</td>\n",
       "      <td>1.0</td>\n",
       "    </tr>\n",
       "    <tr>\n",
       "      <th>LoH (both)</th>\n",
       "      <td>0.0</td>\n",
       "      <td>0.560374</td>\n",
       "    </tr>\n",
       "    <tr>\n",
       "      <th>LoH (any)</th>\n",
       "      <td>0.0</td>\n",
       "      <td>1.0</td>\n",
       "    </tr>\n",
       "    <tr>\n",
       "      <th>AI (CN1)</th>\n",
       "      <td>0.767977</td>\n",
       "      <td>0.439626</td>\n",
       "    </tr>\n",
       "    <tr>\n",
       "      <th>AI (CN2)</th>\n",
       "      <td>0.0</td>\n",
       "      <td>0.0</td>\n",
       "    </tr>\n",
       "  </tbody>\n",
       "</table>\n",
       "</div>"
      ],
      "text/plain": [
       "feature           s1        s2\n",
       "GnD (both)       0.0       1.0\n",
       "GnD (any)   0.767977       1.0\n",
       "LoH (both)       0.0  0.560374\n",
       "LoH (any)        0.0       1.0\n",
       "AI (CN1)    0.767977  0.439626\n",
       "AI (CN2)         0.0       0.0"
      ]
     },
     "execution_count": 24,
     "metadata": {},
     "output_type": "execute_result"
    }
   ],
   "source": [
    "cov_df = cns.main_ploidy(cns_imp_df, segs=segs_with_gaps).T.reset_index().rename(columns={\"index\": \"feature\"}).set_index(\"feature\")\t\n",
    "cov_df.columns.name = r\"feature\"\n",
    "cov_df = cov_df.loc[[\"ane_both_aut\", \"ane_any_aut\", \"loh_both_aut\", \"loh_any_aut\", \"imb_CN1_aut\", \"imb_CN2_aut\"]]\n",
    "cov_df.index = [\"GnD (both)\", \"GnD (any)\", \"LoH (both)\", \"LoH (any)\", \"AI (CN1)\",  \"AI (CN2)\"]\n",
    "latex_cns_table(cov_df, \"ploidy_df\", \"|l|c|c|\", True, \"aneuploidies and imbalances\")\n",
    "cov_df"
   ]
  },
  {
   "cell_type": "code",
   "execution_count": 19,
   "metadata": {},
   "outputs": [
    {
     "name": "stdout",
     "output_type": "stream",
     "text": [
      "Saved D:\\Ubuntu\\CNSistent\\docs\\files\\signatures.tex\n",
      "CompletedProcess(args=['pdflatex', '-output-directory', 'D:\\\\Ubuntu\\\\CNSistent\\\\docs\\\\files', 'D:\\\\Ubuntu\\\\CNSistent\\\\docs\\\\files\\\\signatures.tex'], returncode=0)\n",
      "Compiled D:\\Ubuntu\\CNSistent\\docs\\files\\signatures.pdf\n"
     ]
    },
    {
     "data": {
      "text/html": [
       "<div>\n",
       "<style scoped>\n",
       "    .dataframe tbody tr th:only-of-type {\n",
       "        vertical-align: middle;\n",
       "    }\n",
       "\n",
       "    .dataframe tbody tr th {\n",
       "        vertical-align: top;\n",
       "    }\n",
       "\n",
       "    .dataframe thead th {\n",
       "        text-align: right;\n",
       "    }\n",
       "</style>\n",
       "<table border=\"1\" class=\"dataframe\">\n",
       "  <thead>\n",
       "    <tr style=\"text-align: right;\">\n",
       "      <th>feature</th>\n",
       "      <th>s1</th>\n",
       "      <th>s2</th>\n",
       "    </tr>\n",
       "  </thead>\n",
       "  <tbody>\n",
       "    <tr>\n",
       "      <th>breaks (CN1)</th>\n",
       "      <td>1</td>\n",
       "      <td>1</td>\n",
       "    </tr>\n",
       "    <tr>\n",
       "      <th>step (CN1)</th>\n",
       "      <td>2.0</td>\n",
       "      <td>2.0</td>\n",
       "    </tr>\n",
       "    <tr>\n",
       "      <th>breaks (CN2)</th>\n",
       "      <td>0</td>\n",
       "      <td>0</td>\n",
       "    </tr>\n",
       "    <tr>\n",
       "      <th>step (CN2)</th>\n",
       "      <td>0</td>\n",
       "      <td>0</td>\n",
       "    </tr>\n",
       "    <tr>\n",
       "      <th>breaks (total)</th>\n",
       "      <td>1</td>\n",
       "      <td>1</td>\n",
       "    </tr>\n",
       "    <tr>\n",
       "      <th>step (total)</th>\n",
       "      <td>2.0</td>\n",
       "      <td>2.0</td>\n",
       "    </tr>\n",
       "  </tbody>\n",
       "</table>\n",
       "</div>"
      ],
      "text/plain": [
       "feature          s1   s2\n",
       "breaks (CN1)      1    1\n",
       "step (CN1)      2.0  2.0\n",
       "breaks (CN2)      0    0\n",
       "step (CN2)        0    0\n",
       "breaks (total)    1    1\n",
       "step (total)    2.0  2.0"
      ]
     },
     "execution_count": 19,
     "metadata": {},
     "output_type": "execute_result"
    }
   ],
   "source": [
    "cov_df = cns.main_breakage(cns_imp_df).T.reset_index().rename(columns={\"index\": \"feature\"}).set_index(\"feature\")\t\n",
    "cov_df.columns.name = r\"feature\"\n",
    "# index where ends with _aut\n",
    "cov_df = cov_df.loc[[x for x in cov_df.index if x.endswith(\"_aut\")]]\n",
    "cov_df.index = [x.replace(\"_aut\", \"\") for x in cov_df.index]\n",
    "# replace _CN1 with (major), _CN2 with (CN2), _total_cn with (total)\n",
    "cov_df.index = [x.replace(\"_CN1\", \" (CN1)\") for x in cov_df.index]\n",
    "cov_df.index = [x.replace(\"_CN2\", \" (CN2)\") for x in cov_df.index]\n",
    "cov_df.index = [x.replace(\"_total_cn\", \" (total)\") for x in cov_df.index]\n",
    "\n",
    "# divide segsize by 1e6\n",
    "latex_cns_table(cov_df, \"signatures\", \"|l|c|c|\", True, \"CN breakpoints\")\n",
    "cov_df"
   ]
  },
  {
   "cell_type": "code",
   "execution_count": 20,
   "metadata": {},
   "outputs": [
    {
     "name": "stdout",
     "output_type": "stream",
     "text": [
      "breaks [0, 4926356, 9852713, 14779069, 19705426, 24631782, 27731782, 32964649, 38197516, 43430383, 48663249, 53896116, 59128983]\n",
      "Left size 4926356\n",
      "Right size 5232867\n"
     ]
    }
   ],
   "source": [
    "binned_segs = cns.main_segment(segs_with_gaps, split_size=5000000)\n",
    "breaks = cns.segments_to_breaks(binned_segs)[\"chr19\"]\n",
    "print(\"breaks\", breaks)\n",
    "print(\"Left size\", breaks[1] - breaks[0])\n",
    "print(\"Right size\", breaks[-1] - breaks[-2])\n"
   ]
  },
  {
   "cell_type": "code",
   "execution_count": 21,
   "metadata": {},
   "outputs": [
    {
     "data": {
      "image/png": "[encoded data removed]",
      "text/plain": [
       "<Figure size 600x100 with 1 Axes>"
      ]
     },
     "metadata": {},
     "output_type": "display_data"
    }
   ],
   "source": [
    "bin_none_df = cns.main_aggregate(cns_imp_df, binned_segs, \"none\", cn_columns=[\"CN1\", \"CN2\"])\n",
    "fig, ax = plt.subplots(1, 1, figsize=(6, 1), dpi=100)\n",
    "ax.set_title('segmentation, 5 Mb scaled bins & filtered gaps')\n",
    "plot_util(ax)\n",
    "plot_bars(ax, cns_sid(bin_none_df, \"s1\"), \"CN1\", colors[0], .3, .15, \"s1: CN1\")\n",
    "plot_bars(ax, cns_sid(bin_none_df, \"s1\"), \"CN2\", colors[1], .3, -.15, \"s1: CN2\")\n",
    "plot_bars(ax, cns_sid(bin_none_df, \"s2\"), \"CN1\", colors[2], .3, .15, \"s2: CN1\")\n",
    "plot_bars(ax, cns_sid(bin_none_df, \"s2\"), \"CN2\", colors[3], .3, -.15, \"s2: CN2\")\n",
    "\n",
    "for brekapoint in breaks:\n",
    "    ax.axvline(x=brekapoint, color='k', linestyle='--', alpha=.75)\n",
    "cdu.save_doc_fig(\"cns_segmented\")"
   ]
  },
  {
   "cell_type": "code",
   "execution_count": 22,
   "metadata": {},
   "outputs": [
    {
     "data": {
      "image/png": "[encoded data removed]",
      "text/plain": [
       "<Figure size 600x100 with 1 Axes>"
      ]
     },
     "metadata": {},
     "output_type": "display_data"
    }
   ],
   "source": [
    "bin_res_df = cns.main_aggregate(cns_imp_df, binned_segs, cn_columns=[\"CN1\", \"CN2\"])\n",
    "fig, ax = plt.subplots(1, 1, figsize=(6, 1), dpi=100)\n",
    "ax.set_title('aggregation, 5 Mb scaled bins & filtered gaps')\n",
    "plot_util(ax)\n",
    "plot_bars(ax, cns_sid(bin_res_df, \"s1\"), \"CN1\", colors[0], .3, .15, \"s1: CN1\")\n",
    "plot_bars(ax, cns_sid(bin_res_df, \"s1\"), \"CN2\", colors[1], .3, -.15, \"s1: CN2\")\n",
    "plot_bars(ax, cns_sid(bin_res_df, \"s2\"), \"CN1\", colors[2], .3, .15, \"s2: CN1\")\n",
    "plot_bars(ax, cns_sid(bin_res_df, \"s2\"), \"CN2\", colors[3], .3, -.15, \"s2: CN2\")\n",
    "\n",
    "for brekapoint in breaks:\n",
    "    ax.axvline(x=brekapoint, color='k', linestyle='--', alpha=.75)\n",
    "cdu.save_doc_fig(\"cns_aggregated\")"
   ]
  },
  {
   "cell_type": "code",
   "execution_count": 23,
   "metadata": {},
   "outputs": [
    {
     "name": "stdout",
     "output_type": "stream",
     "text": [
      "Saved D:\\Ubuntu\\CNSistent\\docs\\files\\features_df.tex\n",
      "CompletedProcess(args=['pdflatex', '-output-directory', 'D:\\\\Ubuntu\\\\CNSistent\\\\docs\\\\files', 'D:\\\\Ubuntu\\\\CNSistent\\\\docs\\\\files\\\\features_df.tex'], returncode=0)\n",
      "Compiled D:\\Ubuntu\\CNSistent\\docs\\files\\features_df.pdf\n"
     ]
    },
    {
     "data": {
      "text/html": [
       "<div>\n",
       "<style scoped>\n",
       "    .dataframe tbody tr th:only-of-type {\n",
       "        vertical-align: middle;\n",
       "    }\n",
       "\n",
       "    .dataframe tbody tr th {\n",
       "        vertical-align: top;\n",
       "    }\n",
       "\n",
       "    .dataframe thead th {\n",
       "        text-align: right;\n",
       "    }\n",
       "</style>\n",
       "<table border=\"1\" class=\"dataframe\">\n",
       "  <thead>\n",
       "    <tr style=\"text-align: right;\">\n",
       "      <th></th>\n",
       "      <th>layer</th>\n",
       "      <th>I0</th>\n",
       "      <th>I1</th>\n",
       "      <th>I2</th>\n",
       "      <th>I3</th>\n",
       "      <th>I4</th>\n",
       "      <th>I5</th>\n",
       "      <th>I6</th>\n",
       "      <th>I7</th>\n",
       "      <th>I8</th>\n",
       "      <th>I9</th>\n",
       "      <th>I10</th>\n",
       "    </tr>\n",
       "  </thead>\n",
       "  <tbody>\n",
       "    <tr>\n",
       "      <th>0</th>\n",
       "      <td>s1-CN1</td>\n",
       "      <td>1.0</td>\n",
       "      <td>1.0</td>\n",
       "      <td>1.722266</td>\n",
       "      <td>3.0</td>\n",
       "      <td>3.0</td>\n",
       "      <td>3.0</td>\n",
       "      <td>3.0</td>\n",
       "      <td>3.0</td>\n",
       "      <td>3.0</td>\n",
       "      <td>3.0</td>\n",
       "      <td>3.0</td>\n",
       "    </tr>\n",
       "    <tr>\n",
       "      <th>1</th>\n",
       "      <td>s1-CN2</td>\n",
       "      <td>1.0</td>\n",
       "      <td>1.0</td>\n",
       "      <td>1.000000</td>\n",
       "      <td>1.0</td>\n",
       "      <td>1.0</td>\n",
       "      <td>1.0</td>\n",
       "      <td>1.0</td>\n",
       "      <td>1.0</td>\n",
       "      <td>1.0</td>\n",
       "      <td>1.0</td>\n",
       "      <td>1.0</td>\n",
       "    </tr>\n",
       "    <tr>\n",
       "      <th>2</th>\n",
       "      <td>s2-CN1</td>\n",
       "      <td>2.0</td>\n",
       "      <td>2.0</td>\n",
       "      <td>2.000000</td>\n",
       "      <td>2.0</td>\n",
       "      <td>2.0</td>\n",
       "      <td>0.0</td>\n",
       "      <td>0.0</td>\n",
       "      <td>0.0</td>\n",
       "      <td>0.0</td>\n",
       "      <td>0.0</td>\n",
       "      <td>0.0</td>\n",
       "    </tr>\n",
       "    <tr>\n",
       "      <th>3</th>\n",
       "      <td>s2-CN2</td>\n",
       "      <td>0.0</td>\n",
       "      <td>0.0</td>\n",
       "      <td>0.000000</td>\n",
       "      <td>0.0</td>\n",
       "      <td>0.0</td>\n",
       "      <td>0.0</td>\n",
       "      <td>0.0</td>\n",
       "      <td>0.0</td>\n",
       "      <td>0.0</td>\n",
       "      <td>0.0</td>\n",
       "      <td>0.0</td>\n",
       "    </tr>\n",
       "  </tbody>\n",
       "</table>\n",
       "</div>"
      ],
      "text/plain": [
       "    layer   I0   I1        I2   I3   I4   I5   I6   I7   I8   I9  I10\n",
       "0  s1-CN1  1.0  1.0  1.722266  3.0  3.0  3.0  3.0  3.0  3.0  3.0  3.0\n",
       "1  s1-CN2  1.0  1.0  1.000000  1.0  1.0  1.0  1.0  1.0  1.0  1.0  1.0\n",
       "2  s2-CN1  2.0  2.0  2.000000  2.0  2.0  0.0  0.0  0.0  0.0  0.0  0.0\n",
       "3  s2-CN2  0.0  0.0  0.000000  0.0  0.0  0.0  0.0  0.0  0.0  0.0  0.0"
      ]
     },
     "execution_count": 23,
     "metadata": {},
     "output_type": "execute_result"
    }
   ],
   "source": [
    "s1_table = (\n",
    "    bin_res_df.query(\"sample_id == 's1'\")[[\"CN1\", \"CN2\"]].reset_index(drop=True)\n",
    "    .rename(columns={\"CN2\": \"s1-CN2\", \"CN1\": \"s1-CN1\"})\n",
    "    .T\n",
    ")\n",
    "s2_table = (\n",
    "    bin_res_df.query(\"sample_id == 's2'\")[[\"CN1\", \"CN2\"]].reset_index(drop=True)\n",
    "    .rename(columns={\"CN2\": \"s2-CN2\", \"CN1\": \"s2-CN1\"})\n",
    "    .T\n",
    ")\n",
    "feat_table = pd.concat([s1_table, s2_table], axis=0)\n",
    "feat_table.columns = [f\"I{i}\" for i, x in enumerate(feat_table.columns)]\n",
    "feat_table = feat_table.reset_index().rename(columns={\"index\": \"layer\"})\n",
    "columns = \"|l|\" + \"c|\" * len(feat_table.columns)\n",
    "latex_cns_table(feat_table, \"features_df\", columns, False, \"input layers for deep learning on 5 Mb masked segments\")\n",
    "feat_table"
   ]
  }
 ],
 "metadata": {
  "kernelspec": {
   "display_name": "Python 3",
   "language": "python",
   "name": "python3"
  },
  "language_info": {
   "codemirror_mode": {
    "name": "ipython",
    "version": 3
   },
   "file_extension": ".py",
   "mimetype": "text/x-python",
   "name": "python",
   "nbconvert_exporter": "python",
   "pygments_lexer": "ipython3",
   "version": "3.11.7"
  }
 },
 "nbformat": 4,
 "nbformat_minor": 2
}
