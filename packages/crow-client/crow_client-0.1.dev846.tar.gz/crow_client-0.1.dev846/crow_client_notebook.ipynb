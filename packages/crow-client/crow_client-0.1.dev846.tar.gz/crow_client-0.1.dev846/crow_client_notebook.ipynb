{
 "cells": [
  {
   "cell_type": "code",
   "execution_count": null,
   "metadata": {},
   "outputs": [],
   "source": [
    "import time\n",
    "\n",
    "from crow_client import CrowClient"
   ]
  },
  {
   "cell_type": "code",
   "execution_count": null,
   "metadata": {},
   "outputs": [],
   "source": [
    "# CONFIG\n",
    "\n",
    "ENV = \"data-analysis\"\n",
    "if ENV == \"data-analysis\":\n",
    "    query = \"Using the dataset: Year | Avg_Flock_Size | Nests_Built | Avg_Lifespan | Tools_Used: 2019 | 15 | 50 | 6.2 | 120, 2020 | 17 | 54 | 6.5 | 135, 2021 | 16 | 49 | 6.4 | 130, 2022 | 18 | 58 | 6.8 | 140, 2023 | 19 | 60 | 7.0 | 145, calculate the average number of tools used per nest built for each year.\"\n",
    "    job_data = {\"name\": \"crow-job-data-analysis-dev\", \"query\": query}\n",
    "elif ENV == \"gsm8k\":\n",
    "    query = \"A store offers a 20% discount on an item priced at $250. After applying the discount, a 10% sales tax is applied to the discounted price. What is the final price the customer has to pay?\"\n",
    "    job_data = {\"name\": \"crow-job-gsm8k-dev\", \"query\": query}\n",
    "else:\n",
    "    raise (ValueError(\"ENV not recognised\"))"
   ]
  },
  {
   "cell_type": "code",
   "execution_count": null,
   "metadata": {},
   "outputs": [
    {
     "name": "stdout",
     "output_type": "stream",
     "text": [
      "RESULT OF JOB\n"
     ]
    },
    {
     "data": {
      "text/plain": [
       "{'deepcopy': True,\n",
       " 'state': {'last_action': {'role': 'assistant',\n",
       "   'content': None,\n",
       "   'function_call': None,\n",
       "   'tool_calls': [{'id': 'call_u4BK8kRXjlV0yx8S6XpHZF4d',\n",
       "     'type': 'function',\n",
       "     'function': {'arguments': '{\"answer\": \"{2019: 2.4, 2020: 2.5, 2021: 2.6530612244897958, 2022: 2.413793103448276, 2023: 2.4166666666666665}\"}',\n",
       "      'name': 'submit_answer'}}]},\n",
       "  'answer': '{2019: 2.4, 2020: 2.5, 2021: 2.6530612244897958, 2022: 2.413793103448276, 2023: 2.4166666666666665}',\n",
       "  'cells': [{'cell_type': 'code',\n",
       "    'execution_count': None,\n",
       "    'id': '2b36ef51',\n",
       "    'metadata': {},\n",
       "    'outputs': [],\n",
       "    'source': \"# Let's calculate the average number of tools used per nest built for each year.\\n\\ndata = {\\n    2019: {'Avg_Flock_Size': 15, 'Nests_Built': 50, 'Avg_Lifespan': 6.2, 'Tools_Used': 120},\\n    2020: {'Avg_Flock_Size': 17, 'Nests_Built': 54, 'Avg_Lifespan': 6.5, 'Tools_Used': 135},\\n    2021: {'Avg_Flock_Size': 16, 'Nests_Built': 49, 'Avg_Lifespan': 6.4, 'Tools_Used': 130},\\n    2022: {'Avg_Flock_Size': 18, 'Nests_Built': 58, 'Avg_Lifespan': 6.8, 'Tools_Used': 140},\\n    2023: {'Avg_Flock_Size': 19, 'Nests_Built': 60, 'Avg_Lifespan': 7.0, 'Tools_Used': 145},\\n}\\n\\naverage_tools_per_nest = {}\\n\\nfor year, metrics in data.items():\\n    average_tools_per_nest[year] = metrics['Tools_Used'] / metrics['Nests_Built']\\n\\naverage_tools_per_nest\"}],\n",
       "  'done': True,\n",
       "  'total_reward': 0.0},\n",
       " 'info': {'image': None,\n",
       "  'eval_mode': 'exact',\n",
       "  'correct_reward': 1.0,\n",
       "  'language': 'python',\n",
       "  'nb': {'cells': [{'cell_type': 'code',\n",
       "     'execution_count': None,\n",
       "     'id': '2b36ef51',\n",
       "     'metadata': {},\n",
       "     'outputs': [],\n",
       "     'source': \"# Let's calculate the average number of tools used per nest built for each year.\\n\\ndata = {\\n    2019: {'Avg_Flock_Size': 15, 'Nests_Built': 50, 'Avg_Lifespan': 6.2, 'Tools_Used': 120},\\n    2020: {'Avg_Flock_Size': 17, 'Nests_Built': 54, 'Avg_Lifespan': 6.5, 'Tools_Used': 135},\\n    2021: {'Avg_Flock_Size': 16, 'Nests_Built': 49, 'Avg_Lifespan': 6.4, 'Tools_Used': 130},\\n    2022: {'Avg_Flock_Size': 18, 'Nests_Built': 58, 'Avg_Lifespan': 6.8, 'Tools_Used': 140},\\n    2023: {'Avg_Flock_Size': 19, 'Nests_Built': 60, 'Avg_Lifespan': 7.0, 'Tools_Used': 145},\\n}\\n\\naverage_tools_per_nest = {}\\n\\nfor year, metrics in data.items():\\n    average_tools_per_nest[year] = metrics['Tools_Used'] / metrics['Nests_Built']\\n\\naverage_tools_per_nest\"}],\n",
       "   'metadata': {'kernelspec': {'display_name': 'Python 3 (ipykernel)',\n",
       "     'language': 'python',\n",
       "     'name': 'python'}},\n",
       "   'nbformat': 4,\n",
       "   'nbformat_minor': 5},\n",
       "  'nb_path': '/tmp/tmpcuao90oh/notebook.ipynb',\n",
       "  'problem': 'Using the dataset: Year | Avg_Flock_Size | Nests_Built | Avg_Lifespan | Tools_Used: 2019 | 15 | 50 | 6.2 | 120, 2020 | 17 | 54 | 6.5 | 135, 2021 | 16 | 49 | 6.4 | 130, 2022 | 18 | 58 | 6.8 | 140, 2023 | 19 | 60 | 7.0 | 145, calculate the average number of tools used per nest built for each year.',\n",
       "  'problem_id': 'data-analysis-task',\n",
       "  'work_dir': '/tmp/tmpcuao90oh'}}"
      ]
     },
     "execution_count": null,
     "metadata": {},
     "output_type": "execute_result"
    }
   ],
   "source": [
    "client = CrowClient()\n",
    "client.create_job(job_data)\n",
    "client.get_job()\n",
    "while (job := client.get_job()[\"data\"][\"status\"]) == \"in progress\":\n",
    "    time.sleep(5)\n",
    "job_res = client.get_job()\n",
    "\n",
    "print(\"RESULT OF JOB\")\n",
    "job_res[\"data\"][\"environment_frame\"]"
   ]
  }
 ],
 "metadata": {
  "kernelspec": {
   "display_name": ".venv",
   "language": "python",
   "name": "python3"
  },
  "language_info": {
   "codemirror_mode": {
    "name": "ipython",
    "version": 3
   },
   "file_extension": ".py",
   "mimetype": "text/x-python",
   "name": "python",
   "nbconvert_exporter": "python",
   "pygments_lexer": "ipython3"
  }
 },
 "nbformat": 4,
 "nbformat_minor": 4
}
