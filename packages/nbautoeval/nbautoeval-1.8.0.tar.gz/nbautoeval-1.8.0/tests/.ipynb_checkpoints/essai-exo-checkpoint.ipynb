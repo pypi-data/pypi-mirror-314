{
 "cells": [
  {
   "cell_type": "code",
   "execution_count": null,
   "metadata": {},
   "outputs": [],
   "source": [
    "import sys\n",
    "sys.path.append(\"..\")"
   ]
  },
  {
   "cell_type": "code",
   "execution_count": null,
   "metadata": {},
   "outputs": [],
   "source": [
    "%load_ext autoreload\n",
    "%autoreload 2"
   ]
  },
  {
   "cell_type": "code",
   "execution_count": null,
   "metadata": {},
   "outputs": [],
   "source": [
    "from ipywidgets import Layout, GridBox, HTML"
   ]
  },
  {
   "cell_type": "code",
   "execution_count": null,
   "metadata": {},
   "outputs": [],
   "source": [
    "from nbautoeval.area import Area, CodeArea, PythonArea"
   ]
  },
  {
   "cell_type": "code",
   "execution_count": null,
   "metadata": {},
   "outputs": [],
   "source": [
    "css = \"\"\"\n",
    ".green, .green code {\n",
    "    background-color: #d6e9ce;\n",
    "} \n",
    ".red, .red code {\n",
    "    background-color: #efd6d6;\n",
    "}\n",
    ".center {\n",
    "    justify-self: center;\n",
    "}\n",
    ".right {\n",
    "    justify-self: right;\n",
    "}\n",
    ".row-separator {\n",
    "    row-gap: 10px;\n",
    "}\n",
    ".span2 {\n",
    "    grid-column: 3 / span 2;\n",
    "}\n",
    "\"\"\""
   ]
  },
  {
   "cell_type": "code",
   "execution_count": null,
   "metadata": {},
   "outputs": [],
   "source": [
    "HTML(f\"<style>{css}</style>\")"
   ]
  },
  {
   "cell_type": "code",
   "execution_count": null,
   "metadata": {},
   "outputs": [],
   "source": [
    "h = HTML(\"Hey\", style=dict(font_weight='bold'))\n",
    "h"
   ]
  },
  {
   "cell_type": "code",
   "execution_count": null,
   "metadata": {
    "cell_style": "split"
   },
   "outputs": [],
   "source": [
    "type(h.style)"
   ]
  },
  {
   "cell_type": "code",
   "execution_count": null,
   "metadata": {
    "cell_style": "split"
   },
   "outputs": [],
   "source": [
    "h.style.keys"
   ]
  },
  {
   "cell_type": "code",
   "execution_count": null,
   "metadata": {},
   "outputs": [],
   "source": [
    "l1, l2, l3 = Area(\"<b>Appel</b>\"), Area(\"<b>Attendu</b>\"), Area(\"<b>Obtenu</b>\", classes=['span2'])\n",
    "l4 = Area(\"\")"
   ]
  },
  {
   "cell_type": "code",
   "execution_count": null,
   "metadata": {},
   "outputs": [],
   "source": [
    "r11 = CodeArea(\"percentages('ACGTACGA')\")\n",
    "r12 = CodeArea(\"\"\"{ 'A': 37.5,\n",
    "  'C': 25.0,\n",
    "  'G': 25.0,\n",
    "  'T': 12.5}\"\"\")\n",
    "r13 = CodeArea(\"\"\"'your code'\"\"\")\n",
    "r14 = Area(\"<b>KO</b>\", layout_dict=dict(padding=\"8px\"))"
   ]
  },
  {
   "cell_type": "code",
   "execution_count": null,
   "metadata": {},
   "outputs": [],
   "source": [
    "r21 = CodeArea(\"\"\"percentages(\n",
    "'ACGTACGATCGATCGATGCTCGTTGCTCGTAGCGCT')\"\"\")\n",
    "r22 = CodeArea(\"\"\"{ 'A': 16.666666666666668,\n",
    "  'C': 27.77777777777778,\n",
    "  'G': 27.77777777777778,\n",
    "  'T': 27.77777777777778}\"\"\")\n",
    "r23 = CodeArea(r22.text)\n",
    "r24 = Area(\"<b>OK</b>\", layout_dict=dict(padding=\"3px\"))"
   ]
  },
  {
   "cell_type": "code",
   "execution_count": null,
   "metadata": {},
   "outputs": [],
   "source": [
    "layout = Layout(grid_template_columns='repeat(4, max-content)')\n",
    "\n",
    "grid_widgets = [x.widget() for x in (l1, l2, l3, r11, r12, r13, r14, r21, r22, r23, r24)]\n",
    "\n",
    "r12.widget().style = dict(font_weight='bold')\n",
    "\n",
    "GridBox(grid_widgets, layout=layout).add_class(\"row-separator\")"
   ]
  },
  {
   "cell_type": "code",
   "execution_count": null,
   "metadata": {},
   "outputs": [],
   "source": [
    "layout = Layout(grid_template_columns='repeat(4, max-content)')\n",
    "\n",
    "grid_widgets = [x.widget() for x in (l1, l2, l3, l4, r11, r12, r13, r14, r21, r22, r23, r24)]\n",
    "\n",
    "r12.widget().style = dict(font_weight='bold')\n",
    "\n",
    "GridBox(grid_widgets, layout=layout).add_class(\"row-separator\")"
   ]
  },
  {
   "cell_type": "code",
   "execution_count": null,
   "metadata": {},
   "outputs": [],
   "source": [
    "for chunk in (r11, r12, r13, r14): chunk.add_class(\"red\")"
   ]
  },
  {
   "cell_type": "code",
   "execution_count": null,
   "metadata": {},
   "outputs": [],
   "source": [
    "for chunk in (r21, r22, r23, r24): chunk.add_class(\"green\")"
   ]
  },
  {
   "cell_type": "code",
   "execution_count": null,
   "metadata": {},
   "outputs": [],
   "source": [
    "for chunk in (l1, r11, r21): chunk.add_class(\"center\")"
   ]
  },
  {
   "cell_type": "markdown",
   "metadata": {},
   "source": [
    "********\n",
    "********\n",
    "********"
   ]
  },
  {
   "cell_type": "code",
   "execution_count": null,
   "metadata": {},
   "outputs": [],
   "source": [
    "#from nbautoeval.multiple_choice_test import *\n",
    "#from nbautoeval.renderer import *"
   ]
  },
  {
   "cell_type": "code",
   "execution_count": null,
   "metadata": {},
   "outputs": [],
   "source": [
    "from nbautoeval import Renderer, PPrintRenderer\n",
    "default_renderer = Renderer()\n",
    "\n",
    "PythonArea(list(range(5)), default_renderer).widget()"
   ]
  },
  {
   "cell_type": "code",
   "execution_count": null,
   "metadata": {},
   "outputs": [],
   "source": [
    "str_renderer = Renderer()\n",
    "\n",
    "PythonArea(list(range(5)), str_renderer).widget()"
   ]
  },
  {
   "cell_type": "code",
   "execution_count": null,
   "metadata": {},
   "outputs": [],
   "source": [
    "r22bis = Area(\"$$\\exists x \\in \\mathbb{R}$$\"); r22bis.widget()"
   ]
  },
  {
   "cell_type": "code",
   "execution_count": null,
   "metadata": {},
   "outputs": [],
   "source": [
    "pretty_renderer = PPrintRenderer(width=40)\n",
    "r23bis = PythonArea(list(range(20)), pretty_renderer); r23bis.widget()"
   ]
  },
  {
   "cell_type": "code",
   "execution_count": null,
   "metadata": {},
   "outputs": [],
   "source": [
    "layout = Layout(grid_template_columns='repeat(4, max-content)')\n",
    "\n",
    "grid_widgets = [x.widget() for x in (l1, l2, l3, l4, r11, r12, r13, r14, r21, r22bis, r23bis, r24)]\n",
    "\n",
    "r12.widget().style = dict(font_weight='bold')\n",
    "\n",
    "g = GridBox(grid_widgets, layout=layout).add_class(\"row-separator\"); g"
   ]
  },
  {
   "cell_type": "code",
   "execution_count": null,
   "metadata": {},
   "outputs": [],
   "source": [
    "for w in g.children[8:]: w.add_class('green')"
   ]
  },
  {
   "cell_type": "code",
   "execution_count": null,
   "metadata": {},
   "outputs": [],
   "source": [
    "import pprint"
   ]
  },
  {
   "cell_type": "code",
   "execution_count": null,
   "metadata": {},
   "outputs": [],
   "source": [
    "pprint.pprint({'a': 1, 'b': 2, 'c': 3, 'd': 4}, width=20, compact=True, indent=2)"
   ]
  },
  {
   "cell_type": "code",
   "execution_count": null,
   "metadata": {},
   "outputs": [],
   "source": [
    "HTML(\"<span class=red style='font-size:50px;'>Hey there</span>\")"
   ]
  },
  {
   "cell_type": "code",
   "execution_count": null,
   "metadata": {},
   "outputs": [],
   "source": [
    "HTML(\"<span style='font-size:50px;'><span class='red'>Hey there</span></span>\")"
   ]
  },
  {
   "cell_type": "code",
   "execution_count": null,
   "metadata": {},
   "outputs": [],
   "source": [
    "Area"
   ]
  },
  {
   "cell_type": "code",
   "execution_count": null,
   "metadata": {},
   "outputs": [],
   "source": [
    "Area(\"hey\").widget()"
   ]
  },
  {
   "cell_type": "code",
   "execution_count": null,
   "metadata": {},
   "outputs": [],
   "source": [
    "obj = {'C': 27.77777777777778, 'A': 16.666666666666668, 'G': 27.77777777777778, 'T': 27.77777777777778}\n",
    "from nbautoeval import PPrintRenderer"
   ]
  },
  {
   "cell_type": "code",
   "execution_count": null,
   "metadata": {},
   "outputs": [],
   "source": [
    "PPrintRenderer(width=30).render(obj)"
   ]
  },
  {
   "cell_type": "code",
   "execution_count": null,
   "metadata": {},
   "outputs": [],
   "source": [
    "import numpy as np\n",
    "from matplotlib.pyplot import imshow"
   ]
  },
  {
   "cell_type": "code",
   "execution_count": null,
   "metadata": {},
   "outputs": [],
   "source": [
    "a = np.zeros(9).reshape((3,3))\n",
    "a[0,0] = 1"
   ]
  },
  {
   "cell_type": "code",
   "execution_count": null,
   "metadata": {},
   "outputs": [],
   "source": [
    "w=imshow(a)"
   ]
  },
  {
   "cell_type": "code",
   "execution_count": null,
   "metadata": {},
   "outputs": [],
   "source": [
    "from ipywidgets import HBox, Image, Output"
   ]
  },
  {
   "cell_type": "code",
   "execution_count": null,
   "metadata": {},
   "outputs": [],
   "source": [
    "# HBox([Image(value=w)])"
   ]
  },
  {
   "cell_type": "code",
   "execution_count": null,
   "metadata": {},
   "outputs": [],
   "source": [
    "display(w)"
   ]
  },
  {
   "cell_type": "code",
   "execution_count": null,
   "metadata": {},
   "outputs": [],
   "source": [
    "display?"
   ]
  },
  {
   "cell_type": "code",
   "execution_count": null,
   "metadata": {},
   "outputs": [],
   "source": [
    "hasattr(w, '_repr_html_')"
   ]
  },
  {
   "cell_type": "code",
   "execution_count": null,
   "metadata": {},
   "outputs": [],
   "source": [
    "Image?"
   ]
  },
  {
   "cell_type": "code",
   "execution_count": null,
   "metadata": {},
   "outputs": [],
   "source": [
    "[x for x in dir(w) if 'url' in x.lower()]"
   ]
  },
  {
   "cell_type": "code",
   "execution_count": null,
   "metadata": {},
   "outputs": [],
   "source": [
    "w._url"
   ]
  },
  {
   "cell_type": "code",
   "execution_count": null,
   "metadata": {},
   "outputs": [],
   "source": [
    "display(w)"
   ]
  },
  {
   "cell_type": "code",
   "execution_count": null,
   "metadata": {},
   "outputs": [],
   "source": [
    "o = Output(); o"
   ]
  },
  {
   "cell_type": "code",
   "execution_count": null,
   "metadata": {},
   "outputs": [],
   "source": [
    "with o:\n",
    "    imshow(a)"
   ]
  },
  {
   "cell_type": "code",
   "execution_count": null,
   "metadata": {},
   "outputs": [],
   "source": [
    "h = HTML('<span style=\"display: flex\">foo</span>')\n",
    "h.style.display\n",
    "GridBox([h,h,h,h], layout={'grid_template_columns': 'repeat(4, 1fr)'})"
   ]
  },
  {
   "cell_type": "code",
   "execution_count": null,
   "metadata": {
    "lines_to_next_cell": 2
   },
   "outputs": [],
   "source": [
    "import html3"
   ]
  },
  {
   "cell_type": "code",
   "execution_count": null,
   "metadata": {},
   "outputs": [],
   "source": [
    "dir(html3)"
   ]
  },
  {
   "cell_type": "code",
   "execution_count": null,
   "metadata": {},
   "outputs": [],
   "source": [
    "help(html3)"
   ]
  },
  {
   "cell_type": "code",
   "execution_count": null,
   "metadata": {},
   "outputs": [],
   "source": [
    "import dominate"
   ]
  },
  {
   "cell_type": "code",
   "execution_count": null,
   "metadata": {},
   "outputs": [],
   "source": [
    "from dominate.tags import div, span"
   ]
  },
  {
   "cell_type": "code",
   "execution_count": null,
   "metadata": {
    "lines_to_next_cell": 2
   },
   "outputs": [],
   "source": [
    "box = div(cls=\"correction\")\n",
    "with box:\n",
    "    for i in range(4):\n",
    "        with span(f\"item {i+1}\"):\n",
    "            pass"
   ]
  },
  {
   "cell_type": "code",
   "execution_count": null,
   "metadata": {},
   "outputs": [],
   "source": [
    "box.render(pretty=False)"
   ]
  },
  {
   "cell_type": "code",
   "execution_count": 1,
   "metadata": {},
   "outputs": [],
   "source": [
    "from ipywidgets import HTML, HTMLMath\n",
    "from myst_parser.main import to_html"
   ]
  },
  {
   "cell_type": "code",
   "execution_count": 26,
   "metadata": {},
   "outputs": [
    {
     "data": {
      "text/plain": [
       "'**bold** and $\\\\forall$'"
      ]
     },
     "execution_count": 26,
     "metadata": {},
     "output_type": "execute_result"
    }
   ],
   "source": [
    "raw = r\"**bold** and $\\forall$\"; raw"
   ]
  },
  {
   "cell_type": "code",
   "execution_count": 27,
   "metadata": {
    "cell_style": "split"
   },
   "outputs": [
    {
     "data": {
      "application/vnd.jupyter.widget-view+json": {
       "model_id": "93535b356e374c729b7cec5f777e6c83",
       "version_major": 2,
       "version_minor": 0
      },
      "text/plain": [
       "HTML(value='**bold** and $\\\\forall$')"
      ]
     },
     "metadata": {},
     "output_type": "display_data"
    }
   ],
   "source": [
    "HTML(raw)"
   ]
  },
  {
   "cell_type": "code",
   "execution_count": 28,
   "metadata": {
    "cell_style": "split"
   },
   "outputs": [
    {
     "data": {
      "application/vnd.jupyter.widget-view+json": {
       "model_id": "f61a3774b8984576b38fcde56f1ddc80",
       "version_major": 2,
       "version_minor": 0
      },
      "text/plain": [
       "HTMLMath(value='**bold** and $\\\\forall$')"
      ]
     },
     "metadata": {},
     "output_type": "display_data"
    }
   ],
   "source": [
    "HTMLMath(raw)"
   ]
  },
  {
   "cell_type": "code",
   "execution_count": 29,
   "metadata": {},
   "outputs": [
    {
     "data": {
      "text/plain": [
       "'<p><strong>bold</strong> and <eq>\\\\forall</eq></p>\\n'"
      ]
     },
     "execution_count": 29,
     "metadata": {},
     "output_type": "execute_result"
    }
   ],
   "source": [
    "aftermd = to_html(raw); aftermd"
   ]
  },
  {
   "cell_type": "code",
   "execution_count": 30,
   "metadata": {
    "cell_style": "split"
   },
   "outputs": [
    {
     "data": {
      "application/vnd.jupyter.widget-view+json": {
       "model_id": "",
       "version_major": 2,
       "version_minor": 0
      },
      "text/plain": [
       "HTML(value='<p><strong>bold</strong> and <eq>\\\\forall</eq></p>\\n')"
      ]
     },
     "metadata": {},
     "output_type": "display_data"
    }
   ],
   "source": [
    "HTML(aftermd)"
   ]
  },
  {
   "cell_type": "code",
   "execution_count": 32,
   "metadata": {
    "cell_style": "split"
   },
   "outputs": [
    {
     "data": {
      "application/vnd.jupyter.widget-view+json": {
       "model_id": "",
       "version_major": 2,
       "version_minor": 0
      },
      "text/plain": [
       "HTMLMath(value='<p><strong>bold</strong> and <eq>\\\\forall</eq></p>\\n')"
      ]
     },
     "metadata": {},
     "output_type": "display_data"
    }
   ],
   "source": [
    "HTMLMath(aftermd)"
   ]
  },
  {
   "cell_type": "code",
   "execution_count": 33,
   "metadata": {},
   "outputs": [],
   "source": [
    "to_html?"
   ]
  },
  {
   "cell_type": "code",
   "execution_count": 35,
   "metadata": {},
   "outputs": [
    {
     "data": {
      "text/plain": [
       "{'core': ['normalize', 'block', 'inline'],\n",
       " 'block': ['front_matter',\n",
       "  'table',\n",
       "  'code',\n",
       "  'math_block_eqno',\n",
       "  'math_block',\n",
       "  'fence',\n",
       "  'myst_line_comment',\n",
       "  'blockquote',\n",
       "  'myst_block_break',\n",
       "  'myst_target',\n",
       "  'hr',\n",
       "  'list',\n",
       "  'footnote_def',\n",
       "  'reference',\n",
       "  'heading',\n",
       "  'lheading',\n",
       "  'html_block',\n",
       "  'paragraph'],\n",
       " 'inline': ['text',\n",
       "  'newline',\n",
       "  'escape',\n",
       "  'myst_role',\n",
       "  'backticks',\n",
       "  'emphasis',\n",
       "  'link',\n",
       "  'image',\n",
       "  'footnote_ref',\n",
       "  'autolink',\n",
       "  'html_inline',\n",
       "  'entity'],\n",
       " 'inline2': ['balance_pairs', 'emphasis', 'text_collapse']}"
      ]
     },
     "execution_count": 35,
     "metadata": {},
     "output_type": "execute_result"
    }
   ],
   "source": [
    "from myst_parser.main import default_parser\n",
    "parser = default_parser(\"html\")\n",
    "parser.disable(\"math_single\").disable(\"math_inline\")\n",
    "parser.get_active_rules()"
   ]
  },
  {
   "cell_type": "code",
   "execution_count": 36,
   "metadata": {},
   "outputs": [
    {
     "data": {
      "text/plain": [
       "'<p><strong>bold</strong> and $\\\\forall$</p>\\n'"
      ]
     },
     "execution_count": 36,
     "metadata": {},
     "output_type": "execute_result"
    }
   ],
   "source": [
    "aftermd2 = parser.render(raw); aftermd2"
   ]
  },
  {
   "cell_type": "code",
   "execution_count": 37,
   "metadata": {
    "cell_style": "split"
   },
   "outputs": [
    {
     "data": {
      "application/vnd.jupyter.widget-view+json": {
       "model_id": "22dd85a7eaf540039782e7f47bc94bdb",
       "version_major": 2,
       "version_minor": 0
      },
      "text/plain": [
       "HTML(value='<p><strong>bold</strong> and $\\\\forall$</p>\\n')"
      ]
     },
     "metadata": {},
     "output_type": "display_data"
    }
   ],
   "source": [
    "HTML(aftermd2)"
   ]
  },
  {
   "cell_type": "code",
   "execution_count": 38,
   "metadata": {
    "cell_style": "split"
   },
   "outputs": [
    {
     "data": {
      "application/vnd.jupyter.widget-view+json": {
       "model_id": "0d1520de26e84e0094c79c2e9d637a34",
       "version_major": 2,
       "version_minor": 0
      },
      "text/plain": [
       "HTMLMath(value='<p><strong>bold</strong> and $\\\\forall$</p>\\n')"
      ]
     },
     "metadata": {},
     "output_type": "display_data"
    }
   ],
   "source": [
    "HTMLMath(aftermd2)"
   ]
  },
  {
   "cell_type": "code",
   "execution_count": null,
   "metadata": {},
   "outputs": [],
   "source": []
  }
 ],
 "metadata": {
  "jupytext": {
   "cell_metadata_filter": "all",
   "notebook_metadata_filter": "all,-language_info,-jupytext.text_representation.jupytext_version",
   "text_representation": {
    "extension": ".py",
    "format_name": "percent",
    "format_version": "1.3"
   }
  },
  "kernelspec": {
   "display_name": "Python 3",
   "language": "python",
   "name": "python3"
  },
  "language_info": {
   "codemirror_mode": {
    "name": "ipython",
    "version": 3
   },
   "file_extension": ".py",
   "mimetype": "text/x-python",
   "name": "python",
   "nbconvert_exporter": "python",
   "pygments_lexer": "ipython3",
   "version": "3.6.10"
  },
  "toc": {
   "base_numbering": 1,
   "nav_menu": {},
   "number_sections": true,
   "sideBar": true,
   "skip_h1_title": false,
   "title_cell": "Table of Contents",
   "title_sidebar": "Contents",
   "toc_cell": false,
   "toc_position": {},
   "toc_section_display": true,
   "toc_window_display": false
  }
 },
 "nbformat": 4,
 "nbformat_minor": 4
}
