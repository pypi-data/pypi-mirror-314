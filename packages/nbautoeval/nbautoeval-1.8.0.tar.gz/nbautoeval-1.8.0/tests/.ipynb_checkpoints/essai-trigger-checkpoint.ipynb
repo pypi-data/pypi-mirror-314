{
 "cells": [
  {
   "cell_type": "code",
   "execution_count": 1,
   "metadata": {},
   "outputs": [],
   "source": [
    "import sys\n",
    "sys.path.append(\"..\")"
   ]
  },
  {
   "cell_type": "code",
   "execution_count": 2,
   "metadata": {},
   "outputs": [
    {
     "name": "stdout",
     "output_type": "stream",
     "text": [
      "The autoreload extension is already loaded. To reload it, use:\n",
      "  %reload_ext autoreload\n"
     ]
    }
   ],
   "source": [
    "%load_ext autoreload\n",
    "%autoreload 2"
   ]
  },
  {
   "cell_type": "code",
   "execution_count": 3,
   "metadata": {},
   "outputs": [],
   "source": [
    "from ipywidgets import Layout, GridBox, HTML"
   ]
  },
  {
   "cell_type": "code",
   "execution_count": 4,
   "metadata": {},
   "outputs": [],
   "source": [
    "from ipywidgets import Text, Textarea, GridBox, Button"
   ]
  },
  {
   "cell_type": "code",
   "execution_count": 5,
   "metadata": {},
   "outputs": [],
   "source": [
    "t = Textarea(value=\"# template\\n\", layout=dict(width='auto'))\n",
    "\n",
    "def spy(event):\n",
    "    if event['type'] not in ('change', ):\n",
    "        return\n",
    "    if event['name'] not in ('value', ):\n",
    "        return\n",
    "    print(event)\n",
    "        \n",
    "\n",
    "t.observe(spy)"
   ]
  },
  {
   "cell_type": "code",
   "execution_count": 6,
   "metadata": {},
   "outputs": [
    {
     "data": {
      "application/vnd.jupyter.widget-view+json": {
       "model_id": "cedfe061a73c42f1946c78d01d30aa92",
       "version_major": 2,
       "version_minor": 0
      },
      "text/plain": [
       "Textarea(value='# template\\n', layout=Layout(width='auto'))"
      ]
     },
     "metadata": {},
     "output_type": "display_data"
    },
    {
     "name": "stdout",
     "output_type": "stream",
     "text": [
      "{'name': 'value', 'old': '# template\\n', 'new': '# templates\\n', 'owner': Textarea(value='# templates\\n', layout=Layout(width='auto')), 'type': 'change'}\n",
      "{'name': 'value', 'old': '# templates\\n', 'new': '# templatesd\\n', 'owner': Textarea(value='# templatesd\\n', layout=Layout(width='auto')), 'type': 'change'}\n",
      "{'name': 'value', 'old': '# templatesd\\n', 'new': '# templatesdf\\n', 'owner': Textarea(value='# templatesdf\\n', layout=Layout(width='auto')), 'type': 'change'}\n",
      "{'name': 'value', 'old': '# templatesdf\\n', 'new': '# templatesdfs\\n', 'owner': Textarea(value='# templatesdfs\\n', layout=Layout(width='auto')), 'type': 'change'}\n",
      "{'name': 'value', 'old': '# templatesdfs\\n', 'new': '# templatesdfsd\\n', 'owner': Textarea(value='# templatesdfsd\\n', layout=Layout(width='auto')), 'type': 'change'}\n",
      "{'name': 'value', 'old': '# templatesdfsd\\n', 'new': '# templatesdfsdf\\n', 'owner': Textarea(value='# templatesdfsdf\\n', layout=Layout(width='auto')), 'type': 'change'}\n",
      "{'name': 'value', 'old': '# templatesdfsdf\\n', 'new': '# templatesdfsdfd\\n', 'owner': Textarea(value='# templatesdfsdfd\\n', layout=Layout(width='auto')), 'type': 'change'}\n",
      "{'name': 'value', 'old': '# templatesdfsdfd\\n', 'new': '# templatesdfsdf\\n', 'owner': Textarea(value='# templatesdfsdf\\n', layout=Layout(width='auto')), 'type': 'change'}\n",
      "{'name': 'value', 'old': '# templatesdfsdf\\n', 'new': '# templatesdfsd\\n', 'owner': Textarea(value='# templatesdfsd\\n', layout=Layout(width='auto')), 'type': 'change'}\n",
      "{'name': 'value', 'old': '# templatesdfsd\\n', 'new': '# templatesdfs\\n', 'owner': Textarea(value='# templatesdfs\\n', layout=Layout(width='auto')), 'type': 'change'}\n",
      "{'name': 'value', 'old': '# templatesdfs\\n', 'new': '# templatesdf\\n', 'owner': Textarea(value='# templatesdf\\n', layout=Layout(width='auto')), 'type': 'change'}\n",
      "{'name': 'value', 'old': '# templatesdf\\n', 'new': '# templatesd\\n', 'owner': Textarea(value='# templatesd\\n', layout=Layout(width='auto')), 'type': 'change'}\n",
      "{'name': 'value', 'old': '# templatesd\\n', 'new': '# templates\\n', 'owner': Textarea(value='# templates\\n', layout=Layout(width='auto')), 'type': 'change'}\n",
      "{'name': 'value', 'old': '# templates\\n', 'new': '# template\\n', 'owner': Textarea(value='# template\\n', layout=Layout(width='auto')), 'type': 'change'}\n"
     ]
    }
   ],
   "source": [
    "t"
   ]
  },
  {
   "cell_type": "markdown",
   "metadata": {},
   "source": [
    "********\n",
    "********\n",
    "********"
   ]
  },
  {
   "cell_type": "code",
   "execution_count": 7,
   "metadata": {},
   "outputs": [
    {
     "data": {
      "application/vnd.jupyter.widget-view+json": {
       "model_id": "7648e88df2524cc88afaf15a4ae2e4dd",
       "version_major": 2,
       "version_minor": 0
      },
      "text/plain": [
       "GridBox(children=(Textarea(value='', layout=Layout(width='auto')), Button(description='click me', style=Button…"
      ]
     },
     "metadata": {},
     "output_type": "display_data"
    }
   ],
   "source": [
    "GridBox([Textarea(layout=dict(width='auto')), Button(description=\"click me\")])"
   ]
  },
  {
   "cell_type": "code",
   "execution_count": 9,
   "metadata": {
    "lines_to_next_cell": 2
   },
   "outputs": [
    {
     "data": {
      "application/vnd.jupyter.widget-view+json": {
       "model_id": "e164fcd01439406ebc2171e05f1dd403",
       "version_major": 2,
       "version_minor": 0
      },
      "text/plain": [
       "GridBox(children=(Textarea(value=\"# template\\ndef fact(n):\\n    return 'your-code'\", layout=Layout(width='auto…"
      ]
     },
     "metadata": {},
     "output_type": "display_data"
    }
   ],
   "source": [
    "ta = Textarea(value=\"# template\\ndef fact(n):\\n    return 'your-code'\", layout=dict(width='auto'))\n",
    "button = Button(description=\"click me\")\n",
    "def clicked(*args):\n",
    "    print(args)\n",
    "button.on_click = clicked\n",
    "GridBox([ta, button])"
   ]
  },
  {
   "cell_type": "code",
   "execution_count": 11,
   "metadata": {},
   "outputs": [],
   "source": [
    "from ipywidgets import Checkbox"
   ]
  },
  {
   "cell_type": "code",
   "execution_count": 13,
   "metadata": {},
   "outputs": [
    {
     "data": {
      "application/vnd.jupyter.widget-view+json": {
       "model_id": "1de8298529a94656802ae1dab5dd66f3",
       "version_major": 2,
       "version_minor": 0
      },
      "text/plain": [
       "Checkbox(value=False, description='c')"
      ]
     },
     "metadata": {},
     "output_type": "display_data"
    }
   ],
   "source": [
    "c = Checkbox(description='c')\n",
    "def changed(event):\n",
    "    if event['name'] != 'value':\n",
    "        return\n",
    "    print(f\"event={event}, value={event['owner'].value}\")\n",
    "\n",
    "c.observe(changed)\n",
    "c"
   ]
  },
  {
   "cell_type": "code",
   "execution_count": 28,
   "metadata": {},
   "outputs": [],
   "source": [
    "c.value = True"
   ]
  },
  {
   "cell_type": "code",
   "execution_count": 35,
   "metadata": {},
   "outputs": [
    {
     "data": {
      "application/vnd.jupyter.widget-view+json": {
       "model_id": "e1cb2f693970461f868737c39a70b351",
       "version_major": 2,
       "version_minor": 0
      },
      "text/plain": [
       "Button(description='o', style=ButtonStyle())"
      ]
     },
     "metadata": {},
     "output_type": "display_data"
    },
    {
     "name": "stdout",
     "output_type": "stream",
     "text": [
      "event={'name': 'value', 'old': True, 'new': False, 'owner': Checkbox(value=False, description='c'), 'type': 'change'}, value=False\n",
      "event={'name': 'value', 'old': False, 'new': True, 'owner': Checkbox(value=True, description='c'), 'type': 'change'}, value=True\n",
      "event={'name': 'value', 'old': True, 'new': False, 'owner': Checkbox(value=False, description='c'), 'type': 'change'}, value=False\n"
     ]
    }
   ],
   "source": [
    "def click2(*_):\n",
    "    c.value = not c.value\n",
    "    \n",
    "#b = HTML(value=\"<span style='font-size:6px'>b</span>\")\n",
    "b = Button(\n",
    "    description=\"o\")\n",
    "b.on_click(click2)\n",
    "b"
   ]
  },
  {
   "cell_type": "code",
   "execution_count": 33,
   "metadata": {},
   "outputs": [],
   "source": [
    "b.style.button_colortton_color = 'blue'"
   ]
  },
  {
   "cell_type": "code",
   "execution_count": 36,
   "metadata": {},
   "outputs": [],
   "source": [
    "from nbautoeval.content import MarkdownContent"
   ]
  },
  {
   "cell_type": "code",
   "execution_count": 40,
   "metadata": {},
   "outputs": [
    {
     "data": {
      "application/vnd.jupyter.widget-view+json": {
       "model_id": "5a69344d2ed344819778fb10137cdfa8",
       "version_major": 2,
       "version_minor": 0
      },
      "text/plain": [
       "HTML(value='<h1>a title</h1>\\n', layout=Layout(display='none'))"
      ]
     },
     "metadata": {},
     "output_type": "display_data"
    }
   ],
   "source": [
    "c = MarkdownContent(\"\"\"# a title\"\"\").add_layout(dict(display=\"none\"))\n",
    "w = c.widget(); w"
   ]
  },
  {
   "cell_type": "code",
   "execution_count": 51,
   "metadata": {},
   "outputs": [],
   "source": [
    "w.layout.display = \"block\""
   ]
  },
  {
   "cell_type": "code",
   "execution_count": null,
   "metadata": {},
   "outputs": [],
   "source": []
  },
  {
   "cell_type": "code",
   "execution_count": 57,
   "metadata": {},
   "outputs": [],
   "source": [
    "css = \"\"\"\n",
    "--global-var: red;\n",
    "\n",
    ".foo {\n",
    "   background-color: var(--global-var);\n",
    "}\"\"\"\n"
   ]
  },
  {
   "cell_type": "code",
   "execution_count": 58,
   "metadata": {},
   "outputs": [
    {
     "data": {
      "application/vnd.jupyter.widget-view+json": {
       "model_id": "b68864f9e95b4103877e93eb670e50db",
       "version_major": 2,
       "version_minor": 0
      },
      "text/plain": [
       "HTML(value='<style>\\n--global-var: red;\\n\\n.foo {\\n   background-color: var(--global-var);\\n}</style>')"
      ]
     },
     "metadata": {},
     "output_type": "display_data"
    }
   ],
   "source": [
    "HTML(f\"<style>{css}</style>\")"
   ]
  },
  {
   "cell_type": "code",
   "execution_count": 59,
   "metadata": {},
   "outputs": [
    {
     "data": {
      "application/vnd.jupyter.widget-view+json": {
       "model_id": "e75f457fbbce4f14b6dd5e17142f631d",
       "version_major": 2,
       "version_minor": 0
      },
      "text/plain": [
       "HTML(value='<h1>a title</h1>\\n', _dom_classes=('foo',))"
      ]
     },
     "metadata": {},
     "output_type": "display_data"
    }
   ],
   "source": [
    "c2 = MarkdownContent(\"\"\"# a title\"\"\").add_class(\"foo\")\n",
    "c2.widget()"
   ]
  }
 ],
 "metadata": {
  "jupytext": {
   "cell_metadata_filter": "all",
   "notebook_metadata_filter": "all,-language_info,-jupytext.text_representation.jupytext_version",
   "text_representation": {
    "extension": ".py",
    "format_name": "percent",
    "format_version": "1.3"
   }
  },
  "kernelspec": {
   "display_name": "Python 3",
   "language": "python",
   "name": "python3"
  },
  "language_info": {
   "codemirror_mode": {
    "name": "ipython",
    "version": 3
   },
   "file_extension": ".py",
   "mimetype": "text/x-python",
   "name": "python",
   "nbconvert_exporter": "python",
   "pygments_lexer": "ipython3",
   "version": "3.6.10"
  },
  "toc": {
   "base_numbering": 1,
   "nav_menu": {},
   "number_sections": true,
   "sideBar": true,
   "skip_h1_title": false,
   "title_cell": "Table of Contents",
   "title_sidebar": "Contents",
   "toc_cell": false,
   "toc_position": {},
   "toc_section_display": true,
   "toc_window_display": false
  }
 },
 "nbformat": 4,
 "nbformat_minor": 4
}
