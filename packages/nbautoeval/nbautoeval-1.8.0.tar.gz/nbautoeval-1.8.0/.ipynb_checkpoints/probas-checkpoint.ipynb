{
 "cells": [
  {
   "cell_type": "code",
   "execution_count": 38,
   "metadata": {},
   "outputs": [],
   "source": [
    "def score(problem, answer, n):\n",
    "    \"\"\"\n",
    "    count how many good answers you get if you give this answer for that problem\n",
    "    \"\"\"\n",
    "    full = set(range(1, n+1))\n",
    "    must_be_checked = set(problem)\n",
    "    are_checked = set(answer)\n",
    "    must_be_unchecked = full - must_be_checked\n",
    "    are_unchecked = full - are_checked\n",
    "    \n",
    "    return len(must_be_checked & are_checked) + len(must_be_unchecked & are_unchecked)\n",
    "    "
   ]
  },
  {
   "cell_type": "code",
   "execution_count": 39,
   "metadata": {},
   "outputs": [],
   "source": [
    "from itertools import product\n",
    "def transform(bitset, n):\n",
    "    \"\"\"\n",
    "    transform e.g. (0,0,1,0,0) into a set that contains 3\n",
    "    \"\"\"\n",
    "    result = list()\n",
    "    for belongs, index in zip(bitset, range(1, n+1)):\n",
    "        if belongs:\n",
    "            result.append(index)\n",
    "    return frozenset(result)\n",
    "    \n",
    "def enumerate_problems(n):\n",
    "    \"\"\"\n",
    "    basically 2ˆn parts of (range(1, n+1)) except that the empty set is not relevant\n",
    "    \"\"\"\n",
    "    for bitset in product((0, 1), repeat=n):\n",
    "        if sum(bitset):\n",
    "            print(bitset, sum(bitset))\n",
    "            yield transform(bitset, n)"
   ]
  },
  {
   "cell_type": "markdown",
   "metadata": {},
   "source": [
    "### N = 2"
   ]
  },
  {
   "cell_type": "code",
   "execution_count": 44,
   "metadata": {},
   "outputs": [
    {
     "name": "stdout",
     "output_type": "stream",
     "text": [
      "(0, 1) 1\n",
      "(1, 0) 1\n",
      "(1, 1) 2\n",
      "0 happens 2/9 times\n",
      "1 happens 4/9 times\n",
      "2 happens 3/9 times\n"
     ]
    }
   ],
   "source": [
    "from collections import defaultdict\n",
    "\n",
    "def investigate(N):\n",
    "\n",
    "    space = set(enumerate_problems(N))\n",
    "    total = len(space)\n",
    "    print(f\"{total=} shoud be equal to {N**2 - 1}\")\n",
    "    total2 = total**2\n",
    "\n",
    "\n",
    "    counts = defaultdict(int)\n",
    "\n",
    "    for answer, problem in product(space, repeat=2):\n",
    "        s = score(answer, problem, N)\n",
    "        counts[s] += 1\n",
    "    for s, occurrences in sorted(counts.items()):\n",
    "        print(f\"{s} happens {occurrences}/{total2} times\")\n",
    "\n",
    "        \n",
    "investigate(2)        "
   ]
  },
  {
   "cell_type": "markdown",
   "metadata": {},
   "source": [
    "### N = 3"
   ]
  },
  {
   "cell_type": "code",
   "execution_count": 45,
   "metadata": {},
   "outputs": [
    {
     "name": "stdout",
     "output_type": "stream",
     "text": [
      "(0, 0, 1) 1\n",
      "(0, 1, 0) 1\n",
      "(0, 1, 1) 2\n",
      "(1, 0, 0) 1\n",
      "(1, 0, 1) 2\n",
      "(1, 1, 0) 2\n",
      "(1, 1, 1) 3\n"
     ]
    },
    {
     "ename": "AssertionError",
     "evalue": "",
     "output_type": "error",
     "traceback": [
      "\u001b[0;31m---------------------------------------------------------------------------\u001b[0m",
      "\u001b[0;31mAssertionError\u001b[0m                            Traceback (most recent call last)",
      "\u001b[0;32m<ipython-input-45-1c620220241c>\u001b[0m in \u001b[0;36m<module>\u001b[0;34m\u001b[0m\n\u001b[0;32m----> 1\u001b[0;31m \u001b[0minvestigate\u001b[0m\u001b[0;34m(\u001b[0m\u001b[0;36m3\u001b[0m\u001b[0;34m)\u001b[0m\u001b[0;34m\u001b[0m\u001b[0;34m\u001b[0m\u001b[0m\n\u001b[0m",
      "\u001b[0;32m<ipython-input-44-cf2d05fe1072>\u001b[0m in \u001b[0;36minvestigate\u001b[0;34m(N)\u001b[0m\n\u001b[1;32m      5\u001b[0m     \u001b[0mspace\u001b[0m \u001b[0;34m=\u001b[0m \u001b[0mset\u001b[0m\u001b[0;34m(\u001b[0m\u001b[0menumerate_problems\u001b[0m\u001b[0;34m(\u001b[0m\u001b[0mN\u001b[0m\u001b[0;34m)\u001b[0m\u001b[0;34m)\u001b[0m\u001b[0;34m\u001b[0m\u001b[0;34m\u001b[0m\u001b[0m\n\u001b[1;32m      6\u001b[0m     \u001b[0mtotal\u001b[0m \u001b[0;34m=\u001b[0m \u001b[0mlen\u001b[0m\u001b[0;34m(\u001b[0m\u001b[0mspace\u001b[0m\u001b[0;34m)\u001b[0m\u001b[0;34m\u001b[0m\u001b[0;34m\u001b[0m\u001b[0m\n\u001b[0;32m----> 7\u001b[0;31m     \u001b[0;32massert\u001b[0m \u001b[0mtotal\u001b[0m \u001b[0;34m==\u001b[0m \u001b[0mN\u001b[0m\u001b[0;34m**\u001b[0m\u001b[0;36m2\u001b[0m \u001b[0;34m-\u001b[0m \u001b[0;36m1\u001b[0m\u001b[0;34m\u001b[0m\u001b[0;34m\u001b[0m\u001b[0m\n\u001b[0m\u001b[1;32m      8\u001b[0m     \u001b[0mtotal2\u001b[0m \u001b[0;34m=\u001b[0m \u001b[0mtotal\u001b[0m\u001b[0;34m**\u001b[0m\u001b[0;36m2\u001b[0m\u001b[0;34m\u001b[0m\u001b[0;34m\u001b[0m\u001b[0m\n\u001b[1;32m      9\u001b[0m \u001b[0;34m\u001b[0m\u001b[0m\n",
      "\u001b[0;31mAssertionError\u001b[0m: "
     ]
    }
   ],
   "source": [
    "investigate(3)"
   ]
  },
  {
   "cell_type": "code",
   "execution_count": null,
   "metadata": {},
   "outputs": [],
   "source": []
  }
 ],
 "metadata": {
  "kernelspec": {
   "display_name": "Python 3",
   "language": "python",
   "name": "python3"
  },
  "language_info": {
   "codemirror_mode": {
    "name": "ipython",
    "version": 3
   },
   "file_extension": ".py",
   "mimetype": "text/x-python",
   "name": "python",
   "nbconvert_exporter": "python",
   "pygments_lexer": "ipython3",
   "version": "3.6.10"
  },
  "toc": {
   "base_numbering": 1,
   "nav_menu": {},
   "number_sections": true,
   "sideBar": true,
   "skip_h1_title": false,
   "title_cell": "Table of Contents",
   "title_sidebar": "Contents",
   "toc_cell": false,
   "toc_position": {},
   "toc_section_display": true,
   "toc_window_display": false
  }
 },
 "nbformat": 4,
 "nbformat_minor": 4
}
