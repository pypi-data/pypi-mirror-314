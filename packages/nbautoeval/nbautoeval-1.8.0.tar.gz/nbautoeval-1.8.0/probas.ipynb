{
 "cells": [
  {
   "cell_type": "code",
   "execution_count": 38,
   "metadata": {},
   "outputs": [],
   "source": [
    "def score(problem, answer, n):\n",
    "    \"\"\"\n",
    "    count how many good answers you get if you give this answer for that problem\n",
    "    \"\"\"\n",
    "    full = set(range(1, n+1))\n",
    "    must_be_checked = set(problem)\n",
    "    are_checked = set(answer)\n",
    "    must_be_unchecked = full - must_be_checked\n",
    "    are_unchecked = full - are_checked\n",
    "    \n",
    "    return len(must_be_checked & are_checked) + len(must_be_unchecked & are_unchecked)\n",
    "    "
   ]
  },
  {
   "cell_type": "code",
   "execution_count": 55,
   "metadata": {},
   "outputs": [],
   "source": [
    "from itertools import product\n",
    "def transform(bitset, n):\n",
    "    \"\"\"\n",
    "    transform e.g. (0,0,1,0,0) into a set that contains 3\n",
    "    \"\"\"\n",
    "    result = list()\n",
    "    for belongs, index in zip(bitset, range(1, n+1)):\n",
    "        if belongs:\n",
    "            result.append(index)\n",
    "    return frozenset(result)\n",
    "    \n",
    "def enumerate_problems(n):\n",
    "    \"\"\"\n",
    "    basically 2ˆn parts of (range(1, n+1)) except that the empty set is not relevant\n",
    "    \"\"\"\n",
    "    for bitset in product((0, 1), repeat=n):\n",
    "        if sum(bitset):\n",
    "            # print(bitset, sum(bitset))\n",
    "            yield transform(bitset, n)"
   ]
  },
  {
   "cell_type": "markdown",
   "metadata": {},
   "source": [
    "### N = 2"
   ]
  },
  {
   "cell_type": "code",
   "execution_count": 64,
   "metadata": {},
   "outputs": [
    {
     "name": "stdout",
     "output_type": "stream",
     "text": [
      "total=3 shoud be equal to 3\n",
      "0 happens 2/9 times\n",
      "1 happens 4/9 times\n",
      "2 happens 3/9 times\n",
      "expect = (W*8) + (R*10) / 9\n"
     ]
    }
   ],
   "source": [
    "from collections import defaultdict\n",
    "\n",
    "def investigate(N):\n",
    "\n",
    "    space = set(enumerate_problems(N))\n",
    "    total = len(space)\n",
    "    print(f\"total={total} shoud be equal to {2**N - 1}\")\n",
    "    total2 = total**2\n",
    "\n",
    "\n",
    "    counts = defaultdict(int)\n",
    "\n",
    "    for answer, problem in product(space, repeat=2):\n",
    "        s = score(answer, problem, N)\n",
    "        counts[s] += 1\n",
    "    for s, occ in sorted(counts.items()):\n",
    "        print(f\"{s} happens {occ}/{total2} times\")\n",
    "    e_w, e_r = 0, 0\n",
    "    for s, occ in sorted(counts.items()):\n",
    "        e_w += occ*(N-s)\n",
    "        e_r += occ*s\n",
    "    print(f\"expect = (W*{e_w}) + (R*{e_r}) / {total2}\")\n",
    "\n",
    "        \n",
    "investigate(2)        "
   ]
  },
  {
   "cell_type": "markdown",
   "metadata": {},
   "source": [
    "### N = 3"
   ]
  },
  {
   "cell_type": "code",
   "execution_count": 65,
   "metadata": {},
   "outputs": [
    {
     "name": "stdout",
     "output_type": "stream",
     "text": [
      "total=7 shoud be equal to 7\n",
      "0 happens 6/49 times\n",
      "1 happens 18/49 times\n",
      "2 happens 18/49 times\n",
      "3 happens 7/49 times\n",
      "expect = (W*72) + (R*75) / 49\n"
     ]
    }
   ],
   "source": [
    "investigate(3)"
   ]
  },
  {
   "cell_type": "markdown",
   "metadata": {},
   "source": [
    "### N = 4"
   ]
  },
  {
   "cell_type": "code",
   "execution_count": 58,
   "metadata": {},
   "outputs": [
    {
     "name": "stdout",
     "output_type": "stream",
     "text": [
      "total=15 shoud be equal to 15\n",
      "0 happens 14/225 times\n",
      "1 happens 56/225 times\n",
      "2 happens 84/225 times\n",
      "3 happens 56/225 times\n",
      "4 happens 15/225 times\n"
     ]
    }
   ],
   "source": [
    "investigate(4)"
   ]
  },
  {
   "cell_type": "markdown",
   "metadata": {},
   "source": [
    "### N = 4"
   ]
  },
  {
   "cell_type": "code",
   "execution_count": 59,
   "metadata": {},
   "outputs": [
    {
     "name": "stdout",
     "output_type": "stream",
     "text": [
      "total=15 shoud be equal to 15\n",
      "0 happens 14/225 times\n",
      "1 happens 56/225 times\n",
      "2 happens 84/225 times\n",
      "3 happens 56/225 times\n",
      "4 happens 15/225 times\n"
     ]
    }
   ],
   "source": [
    "investigate(4)"
   ]
  },
  {
   "cell_type": "markdown",
   "metadata": {},
   "source": [
    "### N = 5"
   ]
  },
  {
   "cell_type": "code",
   "execution_count": 60,
   "metadata": {},
   "outputs": [
    {
     "name": "stdout",
     "output_type": "stream",
     "text": [
      "total=31 shoud be equal to 31\n",
      "0 happens 30/961 times\n",
      "1 happens 150/961 times\n",
      "2 happens 300/961 times\n",
      "3 happens 300/961 times\n",
      "4 happens 150/961 times\n",
      "5 happens 31/961 times\n"
     ]
    }
   ],
   "source": [
    "investigate(5)"
   ]
  },
  {
   "cell_type": "markdown",
   "metadata": {},
   "source": [
    "### N = 6"
   ]
  },
  {
   "cell_type": "code",
   "execution_count": 61,
   "metadata": {},
   "outputs": [
    {
     "name": "stdout",
     "output_type": "stream",
     "text": [
      "total=63 shoud be equal to 63\n",
      "0 happens 62/3969 times\n",
      "1 happens 372/3969 times\n",
      "2 happens 930/3969 times\n",
      "3 happens 1240/3969 times\n",
      "4 happens 930/3969 times\n",
      "5 happens 372/3969 times\n",
      "6 happens 63/3969 times\n"
     ]
    }
   ],
   "source": [
    "investigate(6)"
   ]
  },
  {
   "cell_type": "code",
   "execution_count": null,
   "metadata": {},
   "outputs": [],
   "source": []
  }
 ],
 "metadata": {
  "kernelspec": {
   "display_name": "Python 3",
   "language": "python",
   "name": "python3"
  },
  "language_info": {
   "codemirror_mode": {
    "name": "ipython",
    "version": 3
   },
   "file_extension": ".py",
   "mimetype": "text/x-python",
   "name": "python",
   "nbconvert_exporter": "python",
   "pygments_lexer": "ipython3",
   "version": "3.6.10"
  },
  "toc": {
   "base_numbering": 1,
   "nav_menu": {},
   "number_sections": true,
   "sideBar": true,
   "skip_h1_title": false,
   "title_cell": "Table of Contents",
   "title_sidebar": "Contents",
   "toc_cell": false,
   "toc_position": {},
   "toc_section_display": true,
   "toc_window_display": false
  }
 },
 "nbformat": 4,
 "nbformat_minor": 4
}
