{
 "cells": [
  {
   "cell_type": "code",
   "execution_count": 1,
   "metadata": {},
   "outputs": [],
   "source": [
    "import sys\n",
    "sys.path.append(\"..\")"
   ]
  },
  {
   "cell_type": "code",
   "execution_count": 2,
   "metadata": {},
   "outputs": [],
   "source": [
    "%load_ext autoreload\n",
    "%autoreload 2"
   ]
  },
  {
   "cell_type": "code",
   "execution_count": 3,
   "metadata": {},
   "outputs": [],
   "source": [
    "from ipywidgets import Layout, GridBox, HTML"
   ]
  },
  {
   "cell_type": "code",
   "execution_count": 4,
   "metadata": {},
   "outputs": [],
   "source": [
    "from nbautoeval.area import Area, CodeArea, PythonArea"
   ]
  },
  {
   "cell_type": "code",
   "execution_count": 5,
   "metadata": {},
   "outputs": [],
   "source": [
    "css = \"\"\"\n",
    ".green, .green code {\n",
    "    background-color: #d6e9ce;\n",
    "} \n",
    ".red, .red code {\n",
    "    background-color: #efd6d6;\n",
    "}\n",
    ".center {\n",
    "    justify-self: center;\n",
    "}\n",
    ".right {\n",
    "    justify-self: right;\n",
    "}\n",
    ".row-separator {\n",
    "    row-gap: 10px;\n",
    "}\n",
    ".span2 {\n",
    "    grid-column: 3 / span 2;\n",
    "}\n",
    "\"\"\""
   ]
  },
  {
   "cell_type": "code",
   "execution_count": 6,
   "metadata": {},
   "outputs": [
    {
     "data": {
      "application/vnd.jupyter.widget-view+json": {
       "model_id": "897a5791a3d04e84b3282d3ac06c6dc0",
       "version_major": 2,
       "version_minor": 0
      },
      "text/plain": [
       "HTML(value='<style>\\n.green, .green code {\\n    background-color: #d6e9ce;\\n} \\n.red, .red code {\\n    backgro…"
      ]
     },
     "metadata": {},
     "output_type": "display_data"
    }
   ],
   "source": [
    "HTML(f\"<style>{css}</style>\")"
   ]
  },
  {
   "cell_type": "code",
   "execution_count": 7,
   "metadata": {},
   "outputs": [
    {
     "data": {
      "application/vnd.jupyter.widget-view+json": {
       "model_id": "963bad6d3c524f3a9c07b77b23e0bfcf",
       "version_major": 2,
       "version_minor": 0
      },
      "text/plain": [
       "HTML(value='Hey')"
      ]
     },
     "metadata": {},
     "output_type": "display_data"
    }
   ],
   "source": [
    "h = HTML(\"Hey\", style=dict(font_weight='bold'))\n",
    "h"
   ]
  },
  {
   "cell_type": "code",
   "execution_count": 8,
   "metadata": {
    "cell_style": "split"
   },
   "outputs": [
    {
     "data": {
      "text/plain": [
       "ipywidgets.widgets.widget_description.DescriptionStyle"
      ]
     },
     "execution_count": 8,
     "metadata": {},
     "output_type": "execute_result"
    }
   ],
   "source": [
    "type(h.style)"
   ]
  },
  {
   "cell_type": "code",
   "execution_count": 9,
   "metadata": {
    "cell_style": "split"
   },
   "outputs": [
    {
     "data": {
      "text/plain": [
       "['_model_module',\n",
       " '_model_module_version',\n",
       " '_model_name',\n",
       " '_view_count',\n",
       " '_view_module',\n",
       " '_view_module_version',\n",
       " '_view_name',\n",
       " 'description_width']"
      ]
     },
     "execution_count": 9,
     "metadata": {},
     "output_type": "execute_result"
    }
   ],
   "source": [
    "h.style.keys"
   ]
  },
  {
   "cell_type": "code",
   "execution_count": 10,
   "metadata": {},
   "outputs": [],
   "source": [
    "l1, l2, l3 = Area(\"<b>Appel</b>\"), Area(\"<b>Attendu</b>\"), Area(\"<b>Obtenu</b>\", classes=['span2'])\n",
    "l4 = Area(\"\")"
   ]
  },
  {
   "cell_type": "code",
   "execution_count": 11,
   "metadata": {},
   "outputs": [],
   "source": [
    "r11 = CodeArea(\"percentages('ACGTACGA')\")\n",
    "r12 = CodeArea(\"\"\"{ 'A': 37.5,\n",
    "  'C': 25.0,\n",
    "  'G': 25.0,\n",
    "  'T': 12.5}\"\"\")\n",
    "r13 = CodeArea(\"\"\"'your code'\"\"\")\n",
    "r14 = Area(\"<b>KO</b>\", layout_dict=dict(padding=\"8px\"))"
   ]
  },
  {
   "cell_type": "code",
   "execution_count": 12,
   "metadata": {},
   "outputs": [],
   "source": [
    "r21 = CodeArea(\"\"\"percentages(\n",
    "'ACGTACGATCGATCGATGCTCGTTGCTCGTAGCGCT')\"\"\")\n",
    "r22 = CodeArea(\"\"\"{ 'A': 16.666666666666668,\n",
    "  'C': 27.77777777777778,\n",
    "  'G': 27.77777777777778,\n",
    "  'T': 27.77777777777778}\"\"\")\n",
    "r23 = CodeArea(r22.text)\n",
    "r24 = Area(\"<b>OK</b>\", layout_dict=dict(padding=\"3px\"))"
   ]
  },
  {
   "cell_type": "code",
   "execution_count": 13,
   "metadata": {},
   "outputs": [
    {
     "data": {
      "application/vnd.jupyter.widget-view+json": {
       "model_id": "119d5bc8ea0b474e8241ec10ec456c74",
       "version_major": 2,
       "version_minor": 0
      },
      "text/plain": [
       "GridBox(children=(HTMLMath(value='<b>Appel</b>'), HTMLMath(value='<b>Attendu</b>'), HTMLMath(value='<b>Obtenu<…"
      ]
     },
     "metadata": {},
     "output_type": "display_data"
    }
   ],
   "source": [
    "layout = Layout(grid_template_columns='repeat(4, max-content)')\n",
    "\n",
    "grid_widgets = [x.widget() for x in (l1, l2, l3, r11, r12, r13, r14, r21, r22, r23, r24)]\n",
    "\n",
    "r12.widget().style = dict(font_weight='bold')\n",
    "\n",
    "GridBox(grid_widgets, layout=layout).add_class(\"row-separator\")"
   ]
  },
  {
   "cell_type": "code",
   "execution_count": 14,
   "metadata": {},
   "outputs": [
    {
     "data": {
      "application/vnd.jupyter.widget-view+json": {
       "model_id": "feb4887889b64e5790316adde7935369",
       "version_major": 2,
       "version_minor": 0
      },
      "text/plain": [
       "GridBox(children=(HTMLMath(value='<b>Appel</b>'), HTMLMath(value='<b>Attendu</b>'), HTMLMath(value='<b>Obtenu<…"
      ]
     },
     "metadata": {},
     "output_type": "display_data"
    }
   ],
   "source": [
    "layout = Layout(grid_template_columns='repeat(4, max-content)')\n",
    "\n",
    "grid_widgets = [x.widget() for x in (l1, l2, l3, l4, r11, r12, r13, r14, r21, r22, r23, r24)]\n",
    "\n",
    "r12.widget().style = dict(font_weight='bold')\n",
    "\n",
    "GridBox(grid_widgets, layout=layout).add_class(\"row-separator\")"
   ]
  },
  {
   "cell_type": "code",
   "execution_count": 15,
   "metadata": {},
   "outputs": [],
   "source": [
    "for chunk in (r11, r12, r13, r14): chunk.add_class(\"red\")"
   ]
  },
  {
   "cell_type": "code",
   "execution_count": 16,
   "metadata": {},
   "outputs": [],
   "source": [
    "for chunk in (r21, r22, r23, r24): chunk.add_class(\"green\")"
   ]
  },
  {
   "cell_type": "code",
   "execution_count": 17,
   "metadata": {},
   "outputs": [],
   "source": [
    "for chunk in (l1, r11, r21): chunk.add_class(\"center\")"
   ]
  },
  {
   "cell_type": "markdown",
   "metadata": {},
   "source": [
    "********\n",
    "********\n",
    "********"
   ]
  },
  {
   "cell_type": "code",
   "execution_count": 18,
   "metadata": {},
   "outputs": [],
   "source": [
    "#from nbautoeval.multiple_choice_test import *\n",
    "#from nbautoeval.renderer import *"
   ]
  },
  {
   "cell_type": "code",
   "execution_count": 19,
   "metadata": {},
   "outputs": [
    {
     "data": {
      "application/vnd.jupyter.widget-view+json": {
       "model_id": "6dee02de196449338c3b00409d5c2b8d",
       "version_major": 2,
       "version_minor": 0
      },
      "text/plain": [
       "HTMLMath(value='<pre>[0, 1, 2, 3, 4]</pre>')"
      ]
     },
     "metadata": {},
     "output_type": "display_data"
    }
   ],
   "source": [
    "from nbautoeval import Renderer, PPrintRenderer\n",
    "default_renderer = Renderer()\n",
    "\n",
    "PythonArea(list(range(5)), default_renderer).widget()"
   ]
  },
  {
   "cell_type": "code",
   "execution_count": 20,
   "metadata": {},
   "outputs": [
    {
     "data": {
      "application/vnd.jupyter.widget-view+json": {
       "model_id": "bc87a355fd6142d5a10d08414befb6bb",
       "version_major": 2,
       "version_minor": 0
      },
      "text/plain": [
       "HTMLMath(value='<pre>[0, 1, 2, 3, 4]</pre>')"
      ]
     },
     "metadata": {},
     "output_type": "display_data"
    }
   ],
   "source": [
    "str_renderer = Renderer()\n",
    "\n",
    "PythonArea(list(range(5)), str_renderer).widget()"
   ]
  },
  {
   "cell_type": "code",
   "execution_count": 21,
   "metadata": {},
   "outputs": [
    {
     "data": {
      "application/vnd.jupyter.widget-view+json": {
       "model_id": "a57fa937b63f475d9dad8d80d0c39ee7",
       "version_major": 2,
       "version_minor": 0
      },
      "text/plain": [
       "HTMLMath(value='$$\\\\exists x \\\\in \\\\mathbb{R}$$')"
      ]
     },
     "metadata": {},
     "output_type": "display_data"
    }
   ],
   "source": [
    "r22bis = Area(\"$$\\exists x \\in \\mathbb{R}$$\"); r22bis.widget()"
   ]
  },
  {
   "cell_type": "code",
   "execution_count": 22,
   "metadata": {},
   "outputs": [
    {
     "data": {
      "application/vnd.jupyter.widget-view+json": {
       "model_id": "870b7148a663435e8db4f5d3e03abea8",
       "version_major": 2,
       "version_minor": 0
      },
      "text/plain": [
       "HTMLMath(value='<pre>[ 0, 1, 2, 3, 4, 5, 6, 7, 8, 9, 10, 11,\\n  12, 13, 14, 15, 16, 17, 18, 19]</pre>')"
      ]
     },
     "metadata": {},
     "output_type": "display_data"
    }
   ],
   "source": [
    "pretty_renderer = PPrintRenderer(width=40)\n",
    "r23bis = PythonArea(list(range(20)), pretty_renderer); r23bis.widget()"
   ]
  },
  {
   "cell_type": "code",
   "execution_count": 23,
   "metadata": {},
   "outputs": [
    {
     "data": {
      "application/vnd.jupyter.widget-view+json": {
       "model_id": "7c42af00245a472d983613a414f6af0a",
       "version_major": 2,
       "version_minor": 0
      },
      "text/plain": [
       "GridBox(children=(HTMLMath(value='<b>Appel</b>', _dom_classes=('center',)), HTMLMath(value='<b>Attendu</b>'), …"
      ]
     },
     "metadata": {},
     "output_type": "display_data"
    }
   ],
   "source": [
    "layout = Layout(grid_template_columns='repeat(4, max-content)')\n",
    "\n",
    "grid_widgets = [x.widget() for x in (l1, l2, l3, l4, r11, r12, r13, r14, r21, r22bis, r23bis, r24)]\n",
    "\n",
    "r12.widget().style = dict(font_weight='bold')\n",
    "\n",
    "g = GridBox(grid_widgets, layout=layout).add_class(\"row-separator\"); g"
   ]
  },
  {
   "cell_type": "code",
   "execution_count": 26,
   "metadata": {},
   "outputs": [],
   "source": [
    "for w in g.children[8:]: w.add_class('green')"
   ]
  },
  {
   "cell_type": "code",
   "execution_count": 27,
   "metadata": {},
   "outputs": [],
   "source": [
    "import pprint"
   ]
  },
  {
   "cell_type": "code",
   "execution_count": 28,
   "metadata": {},
   "outputs": [
    {
     "name": "stdout",
     "output_type": "stream",
     "text": [
      "{ 'a': 1,\n",
      "  'b': 2,\n",
      "  'c': 3,\n",
      "  'd': 4}\n"
     ]
    }
   ],
   "source": [
    "pprint.pprint({'a': 1, 'b': 2, 'c': 3, 'd': 4}, width=20, compact=True, indent=2)"
   ]
  },
  {
   "cell_type": "code",
   "execution_count": 29,
   "metadata": {},
   "outputs": [
    {
     "data": {
      "application/vnd.jupyter.widget-view+json": {
       "model_id": "62cd55e7c027437fb9e2c47a7be11296",
       "version_major": 2,
       "version_minor": 0
      },
      "text/plain": [
       "HTML(value=\"<span class=red style='font-size:50px;'>Hey there</span>\")"
      ]
     },
     "metadata": {},
     "output_type": "display_data"
    }
   ],
   "source": [
    "HTML(\"<span class=red style='font-size:50px;'>Hey there</span>\")"
   ]
  },
  {
   "cell_type": "code",
   "execution_count": 30,
   "metadata": {},
   "outputs": [
    {
     "data": {
      "application/vnd.jupyter.widget-view+json": {
       "model_id": "e08a58bddba8469eb2d87ae009f59114",
       "version_major": 2,
       "version_minor": 0
      },
      "text/plain": [
       "HTML(value=\"<span style='font-size:50px;'><span class='red'>Hey there</span></span>\")"
      ]
     },
     "metadata": {},
     "output_type": "display_data"
    }
   ],
   "source": [
    "HTML(\"<span style='font-size:50px;'><span class='red'>Hey there</span></span>\")"
   ]
  },
  {
   "cell_type": "code",
   "execution_count": 31,
   "metadata": {},
   "outputs": [
    {
     "data": {
      "text/plain": [
       "nbautoeval.area.Area"
      ]
     },
     "execution_count": 31,
     "metadata": {},
     "output_type": "execute_result"
    }
   ],
   "source": [
    "Area"
   ]
  },
  {
   "cell_type": "code",
   "execution_count": 32,
   "metadata": {},
   "outputs": [
    {
     "data": {
      "application/vnd.jupyter.widget-view+json": {
       "model_id": "ff87914a389d4ef0804ffedce7680c61",
       "version_major": 2,
       "version_minor": 0
      },
      "text/plain": [
       "HTMLMath(value='hey')"
      ]
     },
     "metadata": {},
     "output_type": "display_data"
    }
   ],
   "source": [
    "Area(\"hey\").widget()"
   ]
  },
  {
   "cell_type": "code",
   "execution_count": 33,
   "metadata": {},
   "outputs": [],
   "source": [
    "obj = {'C': 27.77777777777778, 'A': 16.666666666666668, 'G': 27.77777777777778, 'T': 27.77777777777778}\n",
    "from nbautoeval import PPrintRenderer"
   ]
  },
  {
   "cell_type": "code",
   "execution_count": 34,
   "metadata": {},
   "outputs": [
    {
     "data": {
      "text/plain": [
       "<Rendered '{ 'A': 16.666666666666668,\n",
       "  'C': 27.77777777777778,\n",
       "  'G': 27.77777777777778,\n",
       "  'T': 27.77777777777778}'>"
      ]
     },
     "execution_count": 34,
     "metadata": {},
     "output_type": "execute_result"
    }
   ],
   "source": [
    "PPrintRenderer(width=30).render(obj)"
   ]
  },
  {
   "cell_type": "code",
   "execution_count": 37,
   "metadata": {},
   "outputs": [],
   "source": [
    "import numpy as np\n",
    "from matplotlib.pyplot import imshow"
   ]
  },
  {
   "cell_type": "code",
   "execution_count": 38,
   "metadata": {},
   "outputs": [],
   "source": [
    "a = np.ones(9).reshape((3,3))"
   ]
  },
  {
   "cell_type": "code",
   "execution_count": null,
   "metadata": {},
   "outputs": [],
   "source": []
  }
 ],
 "metadata": {
  "jupytext": {
   "cell_metadata_filter": "all",
   "notebook_metadata_filter": "all,-language_info,-jupytext.text_representation.jupytext_version",
   "text_representation": {
    "extension": ".py",
    "format_name": "percent",
    "format_version": "1.3"
   }
  },
  "kernelspec": {
   "display_name": "Python 3",
   "language": "python",
   "name": "python3"
  },
  "language_info": {
   "codemirror_mode": {
    "name": "ipython",
    "version": 3
   },
   "file_extension": ".py",
   "mimetype": "text/x-python",
   "name": "python",
   "nbconvert_exporter": "python",
   "pygments_lexer": "ipython3",
   "version": "3.8.1"
  },
  "toc": {
   "base_numbering": 1,
   "nav_menu": {},
   "number_sections": true,
   "sideBar": true,
   "skip_h1_title": false,
   "title_cell": "Table of Contents",
   "title_sidebar": "Contents",
   "toc_cell": false,
   "toc_position": {},
   "toc_section_display": true,
   "toc_window_display": false
  }
 },
 "nbformat": 4,
 "nbformat_minor": 4
}
