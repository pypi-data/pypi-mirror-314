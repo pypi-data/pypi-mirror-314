{
 "cells": [
  {
   "cell_type": "markdown",
   "metadata": {},
   "source": [
    "Je simule un exercice débile, on demande aux étudiants d'écrire une fonction\n",
    "\n",
    "$ curve (a,b) \\Longrightarrow a^2 + 3ab + 12 $"
   ]
  },
  {
   "cell_type": "markdown",
   "metadata": {},
   "source": [
    "L'étudiant est invité à écrire son code dans la fonction `curve`;\n",
    "\n",
    "On lui propose en arrivant une cellule vide comme ceci"
   ]
  },
  {
   "cell_type": "code",
   "execution_count": null,
   "metadata": {
    "collapsed": false
   },
   "outputs": [],
   "source": [
    "# write your soultion here\n",
    "def curve (a, b):\n",
    "    \"<...>\""
   ]
  },
  {
   "cell_type": "markdown",
   "metadata": {},
   "source": [
    "Il la modifie, imaginons que ça donne cela"
   ]
  },
  {
   "cell_type": "code",
   "execution_count": null,
   "metadata": {
    "collapsed": false
   },
   "outputs": [],
   "source": [
    "# cette fonction est cassée exprès ...\n",
    "def curve (a, b):\n",
    "    return a ** 2 + 3 * a * b + 12 if (a+b)%4 != 0 else False"
   ]
  },
  {
   "cell_type": "markdown",
   "metadata": {},
   "source": [
    "Et voici la cellule pour corriger "
   ]
  },
  {
   "cell_type": "code",
   "execution_count": null,
   "metadata": {
    "collapsed": false
   },
   "outputs": [],
   "source": [
    "from corrections.ww_function import exo_curve\n",
    "exo_curve.correction (curve)"
   ]
  },
  {
   "cell_type": "markdown",
   "metadata": {},
   "source": [
    "On peut aussi montrer d'abord un exemple"
   ]
  },
  {
   "cell_type": "code",
   "execution_count": null,
   "metadata": {
    "collapsed": false
   },
   "outputs": [],
   "source": [
    "exo_curve.exemple()"
   ]
  },
  {
   "cell_type": "markdown",
   "metadata": {},
   "source": [
    "******"
   ]
  },
  {
   "cell_type": "markdown",
   "metadata": {},
   "source": [
    "On peut affiner pas mal de trucs, par exemple la présentation de la première colonne avec `render_name=True`\n"
   ]
  },
  {
   "cell_type": "code",
   "execution_count": null,
   "metadata": {
    "collapsed": false
   },
   "outputs": [],
   "source": [
    "from corrections.ww_function import exo_curve_name\n",
    "exo_curve_name.correction(curve)"
   ]
  },
  {
   "cell_type": "markdown",
   "metadata": {},
   "source": [
    "*********"
   ]
  },
  {
   "cell_type": "markdown",
   "metadata": {},
   "source": [
    "Voir le fichier `ww_function.py` voir voir comment la correction est écrite"
   ]
  },
  {
   "cell_type": "markdown",
   "metadata": {},
   "source": [
    "Remarquez \n",
    "Les lignes depuis `# @BEG@ 0 0 curve` à `# @END@` servent à l'outil qui extrait les corrigés. \n",
    "\n",
    "Voir `tools/corriges.py`\n"
   ]
  },
  {
   "cell_type": "markdown",
   "metadata": {},
   "source": [
    "******"
   ]
  },
  {
   "cell_type": "markdown",
   "metadata": {},
   "source": [
    "# rawnbconvert"
   ]
  },
  {
   "cell_type": "markdown",
   "metadata": {},
   "source": [
    "Voici à présent une section sur le rendu des cellules de type rawnbconvert. Au début j'ai beaucoup utilisé ça pour les indications de texte sur une ou plusieurs lignes séparées, car le rendu sous le notebook était sympa. Mais à l'usage ce type de cellules est très pénible. Notamment le jour où on a voulu publier les notebooks au format PDF à l'intention des étudiants qui ne pouvaient pas utiliser les notebooks en ligne. "
   ]
  },
  {
   "cell_type": "markdown",
   "metadata": {},
   "source": [
    "Aussi dans un deuxième temps j'ai complètement enlevé toute utilisation de `rawnbconvert` et je les ai remplacées par du markdown en mode *code*, ce qui donne avec des backquotes `par exemple ceci`, ou encore \n",
    "\n",
    "    dans un bloc à part indenté avec 4 espaces"
   ]
  },
  {
   "cell_type": "markdown",
   "metadata": {},
   "source": [
    "Pour retrouver le même rendu html qu'avec rawnbconvert j'ai simplement eu besoin d'écrire un tout petit css `custom.css` qui es trouve sous git dans le répertoire `html/custom.css`"
   ]
  },
  {
   "cell_type": "markdown",
   "metadata": {},
   "source": [
    "Si on adopte cette convention, on peut alors facilement générer pour chaque notebook un html qui peut être lu localement (sans possibilité d'évaluation naturellement) comme ceci\n",
    "\n",
    "    ipython nbconvert --to html foo.ipynb\n",
    "\n",
    "Il faut juste penser à publier aussi `custom.css`. "
   ]
  },
  {
   "cell_type": "markdown",
   "metadata": {},
   "source": [
    "******"
   ]
  }
 ],
 "metadata": {
  "kernelspec": {
   "display_name": "Python 3",
   "language": "python",
   "name": "python3"
  },
  "language_info": {
   "codemirror_mode": {
    "name": "ipython",
    "version": 3
   },
   "file_extension": ".py",
   "mimetype": "text/x-python",
   "name": "python",
   "nbconvert_exporter": "python",
   "pygments_lexer": "ipython3",
   "version": "3.4.4"
  },
  "notebookname": "NO HEADING 1 found",
  "version": "1.0"
 },
 "nbformat": 4,
 "nbformat_minor": 0
}
