{
 "cells": [
  {
   "cell_type": "markdown",
   "metadata": {
    "slideshow": {
     "slide_type": "slide"
    }
   },
   "source": [
    "## A sample generator exercise"
   ]
  },
  {
   "cell_type": "code",
   "execution_count": 1,
   "metadata": {},
   "outputs": [
    {
     "name": "stdout",
     "output_type": "stream",
     "text": [
      "The autoreload extension is already loaded. To reload it, use:\n",
      "  %reload_ext autoreload\n"
     ]
    }
   ],
   "source": [
    "%load_ext autoreload\n",
    "%autoreload 2"
   ]
  },
  {
   "cell_type": "code",
   "execution_count": 2,
   "metadata": {},
   "outputs": [],
   "source": [
    "# just so that it runs smoothly under binder\n",
    "import sys\n",
    "sys.path.insert(0, '..')"
   ]
  },
  {
   "cell_type": "markdown",
   "metadata": {},
   "source": [
    "## usual generator"
   ]
  },
  {
   "cell_type": "code",
   "execution_count": 3,
   "metadata": {},
   "outputs": [
    {
     "data": {
      "text/html": [
       "<table style='font-family:monospace;font-size:small;'><tr style='font-family:monospace;font-size:medium;'><th style='text-align: center;'><pre>Appel</pre></th><th style='text-align: center;'><pre>Resultat Attendu</pre></th></tr><tr><td><pre>squares(2)</pre></td><td style='text-align: left;border-left:3px solid gray;'><pre>\n",
       "[0, 1]</pre></td></tr><tr><td><pre><pre>\n",
       "squares(3)\n",
       "iters → 4\n",
       "</pre></pre></td><td style='text-align: left;border-left:3px solid gray;'><pre>\n",
       "[0, 1, 4]</pre></td></tr><tr><td><pre><pre>\n",
       "squares(4)\n",
       "iters → 4\n",
       "</pre></pre></td><td style='text-align: left;border-left:3px solid gray;'><pre>\n",
       "[0, 1, 4, 9]</pre></td></tr></table>"
      ],
      "text/plain": [
       "<IPython.core.display.HTML object>"
      ]
     },
     "execution_count": 3,
     "metadata": {},
     "output_type": "execute_result"
    }
   ],
   "source": [
    "from exercises.squares import exo_squares\n",
    "exo_squares.example()"
   ]
  },
  {
   "cell_type": "code",
   "execution_count": 4,
   "metadata": {},
   "outputs": [],
   "source": [
    "def squares(n):\n",
    "    return (i**2 for i in range(n))"
   ]
  },
  {
   "cell_type": "code",
   "execution_count": 5,
   "metadata": {},
   "outputs": [
    {
     "data": {
      "text/html": [
       "<table style='font-family:monospace;font-size:small;'><tr style='font-family:monospace;font-size:medium;'><th style='text-align: center;'><pre>Appel</pre></th><th style='text-align: center;'><pre>Attendu</pre></th><th style='text-align: center;'><pre>Obtenu</pre></th><th style='text-align: center;'><pre></pre></th></tr><tr style='background-color:#d6e9ce;border-bottom:2px solid gray;'><td><pre>squares(2)</pre></td><td style='text-align: left;border-left:3px solid gray;'><pre>\n",
       "[0, 1]</pre></td><td style='text-align: left;border-left:1px solid gray;'><pre>\n",
       "[0, 1]</pre></td><td style='border-left:3px solid gray;'><pre>OK</pre></td></tr><tr style='background-color:#d6e9ce;border-bottom:2px solid gray;'><td><pre><pre>\n",
       "squares(3)\n",
       "iters → 4\n",
       "</pre></pre></td><td style='text-align: left;border-left:3px solid gray;'><pre>\n",
       "[0, 1, 4]</pre></td><td style='text-align: left;border-left:1px solid gray;'><pre>\n",
       "[0, 1, 4]</pre></td><td style='border-left:3px solid gray;'><pre>OK</pre></td></tr><tr style='background-color:#d6e9ce;border-bottom:2px solid gray;'><td><pre><pre>\n",
       "squares(4)\n",
       "iters → 4\n",
       "</pre></pre></td><td style='text-align: left;border-left:3px solid gray;'><pre>\n",
       "[0, 1, 4, 9]</pre></td><td style='text-align: left;border-left:1px solid gray;'><pre>\n",
       "[0, 1, 4, 9]</pre></td><td style='border-left:3px solid gray;'><pre>OK</pre></td></tr><tr style='background-color:#d6e9ce;border-bottom:2px solid gray;'><td><pre><pre>\n",
       "squares(5)\n",
       "iters → 4\n",
       "</pre></pre></td><td style='text-align: left;border-left:3px solid gray;'><pre>\n",
       "[0, 1, 4, 9]</pre></td><td style='text-align: left;border-left:1px solid gray;'><pre>\n",
       "[0, 1, 4, 9]</pre></td><td style='border-left:3px solid gray;'><pre>OK</pre></td></tr><tr style='background-color:#d6e9ce;border-bottom:2px solid gray;'><td><pre><pre>\n",
       "squares(10)\n",
       "iters 0 → 10\n",
       "</pre></pre></td><td style='text-align: left;border-left:3px solid gray;'><pre>\n",
       "[ 0,\n",
       "  1,\n",
       "  4,\n",
       "  9,\n",
       "  16,\n",
       "  25,\n",
       "  36,\n",
       "  49,\n",
       "  64,\n",
       "  81]</pre></td><td style='text-align: left;border-left:1px solid gray;'><pre>\n",
       "[ 0,\n",
       "  1,\n",
       "  4,\n",
       "  9,\n",
       "  16,\n",
       "  25,\n",
       "  36,\n",
       "  49,\n",
       "  64,\n",
       "  81]</pre></td><td style='border-left:3px solid gray;'><pre>OK</pre></td></tr><tr style='background-color:#d6e9ce;border-bottom:2px solid gray;'><td><pre><pre>\n",
       "squares(10)\n",
       "iters 5 → 10\n",
       "</pre></pre></td><td style='text-align: left;border-left:3px solid gray;'><pre>\n",
       "[25, 36, 49, 64, 81]</pre></td><td style='text-align: left;border-left:1px solid gray;'><pre>\n",
       "[25, 36, 49, 64, 81]</pre></td><td style='border-left:3px solid gray;'><pre>OK</pre></td></tr><tr style='background-color:#d6e9ce;border-bottom:2px solid gray;'><td><pre><pre>\n",
       "squares(10)\n",
       "iters 0 → 5\n",
       "</pre></pre></td><td style='text-align: left;border-left:3px solid gray;'><pre>\n",
       "[0, 1, 4, 9, 16]</pre></td><td style='text-align: left;border-left:1px solid gray;'><pre>\n",
       "[0, 1, 4, 9, 16]</pre></td><td style='border-left:3px solid gray;'><pre>OK</pre></td></tr><tr style='background-color:#d6e9ce;border-bottom:2px solid gray;'><td><pre><pre>\n",
       "squares(10)\n",
       "iters 0 → 15\n",
       "</pre></pre></td><td style='text-align: left;border-left:3px solid gray;'><pre>\n",
       "[ 0,\n",
       "  1,\n",
       "  4,\n",
       "  9,\n",
       "  16,\n",
       "  25,\n",
       "  36,\n",
       "  49,\n",
       "  64,\n",
       "  81]</pre></td><td style='text-align: left;border-left:1px solid gray;'><pre>\n",
       "[ 0,\n",
       "  1,\n",
       "  4,\n",
       "  9,\n",
       "  16,\n",
       "  25,\n",
       "  36,\n",
       "  49,\n",
       "  64,\n",
       "  81]</pre></td><td style='border-left:3px solid gray;'><pre>OK</pre></td></tr><tr style='background-color:#d6e9ce;border-bottom:2px solid gray;'><td><pre><pre>\n",
       "squares(10)\n",
       "iters 5 → 15\n",
       "</pre></pre></td><td style='text-align: left;border-left:3px solid gray;'><pre>\n",
       "[25, 36, 49, 64, 81]</pre></td><td style='text-align: left;border-left:1px solid gray;'><pre>\n",
       "[25, 36, 49, 64, 81]</pre></td><td style='border-left:3px solid gray;'><pre>OK</pre></td></tr><tr style='background-color:#d6e9ce;border-bottom:2px solid gray;'><td><pre><pre>\n",
       "squares(10)\n",
       "iters 4 → 10 / 4\n",
       "</pre></pre></td><td style='text-align: left;border-left:3px solid gray;'><pre>\n",
       "[16, 64]</pre></td><td style='text-align: left;border-left:1px solid gray;'><pre>\n",
       "[16, 64]</pre></td><td style='border-left:3px solid gray;'><pre>OK</pre></td></tr><tr style='background-color:#d6e9ce;border-bottom:2px solid gray;'><td><pre><pre>\n",
       "squares(10)\n",
       "iters 4 → 20 / 4\n",
       "</pre></pre></td><td style='text-align: left;border-left:3px solid gray;'><pre>\n",
       "[16, 64]</pre></td><td style='text-align: left;border-left:1px solid gray;'><pre>\n",
       "[16, 64]</pre></td><td style='border-left:3px solid gray;'><pre>OK</pre></td></tr><tr style='background-color:#d6e9ce;border-bottom:2px solid gray;'><td><pre><pre>\n",
       "squares(10)\n",
       "iters 5 → 15 / 5\n",
       "</pre></pre></td><td style='text-align: left;border-left:3px solid gray;'><pre>\n",
       "[25]</pre></td><td style='text-align: left;border-left:1px solid gray;'><pre>\n",
       "[25]</pre></td><td style='border-left:3px solid gray;'><pre>OK</pre></td></tr><tr style='background-color:#d6e9ce;border-bottom:2px solid gray;'><td><pre><pre>\n",
       "squares(10)\n",
       "iters 5 → 15 / 3\n",
       "</pre></pre></td><td style='text-align: left;border-left:3px solid gray;'><pre>\n",
       "[25, 64]</pre></td><td style='text-align: left;border-left:1px solid gray;'><pre>\n",
       "[25, 64]</pre></td><td style='border-left:3px solid gray;'><pre>OK</pre></td></tr><tr style='background-color:#d6e9ce;border-bottom:2px solid gray;'><td><pre><pre>\n",
       "squares(10)\n",
       "iters 15 → 20\n",
       "</pre></pre></td><td style='text-align: left;border-left:3px solid gray;'><pre>\n",
       "[]</pre></td><td style='text-align: left;border-left:1px solid gray;'><pre>\n",
       "[]</pre></td><td style='border-left:3px solid gray;'><pre>OK</pre></td></tr></table>"
      ],
      "text/plain": [
       "<IPython.core.display.HTML object>"
      ]
     },
     "execution_count": 5,
     "metadata": {},
     "output_type": "execute_result"
    }
   ],
   "source": [
    "exo_squares.correction(squares)"
   ]
  },
  {
   "cell_type": "markdown",
   "metadata": {},
   "source": [
    "****"
   ]
  },
  {
   "cell_type": "markdown",
   "metadata": {},
   "source": [
    "## same with a limit\n",
    "\n",
    "the exercise instance is here created with `max_iterations = 5`"
   ]
  },
  {
   "cell_type": "code",
   "execution_count": 6,
   "metadata": {},
   "outputs": [
    {
     "data": {
      "text/html": [
       "<table style='font-family:monospace;font-size:small;'><tr style='font-family:monospace;font-size:medium;'><th style='text-align: center;'><pre>Appel</pre></th><th style='text-align: center;'><pre>Resultat Attendu</pre></th></tr><tr><td><pre>squares(2)</pre></td><td style='text-align: left;border-left:3px solid gray;'><pre>\n",
       "[0, 1]</pre></td></tr><tr><td><pre><pre>\n",
       "squares(3)\n",
       "iters → 4\n",
       "</pre></pre></td><td style='text-align: left;border-left:3px solid gray;'><pre>\n",
       "[0, 1, 4]</pre></td></tr><tr><td><pre><pre>\n",
       "squares(4)\n",
       "iters → 4\n",
       "</pre></pre></td><td style='text-align: left;border-left:3px solid gray;'><pre>\n",
       "[0, 1, 4, 9]</pre></td></tr><tr><td><pre><pre>\n",
       "squares(5)\n",
       "iters → 4\n",
       "</pre></pre></td><td style='text-align: left;border-left:3px solid gray;'><pre>\n",
       "[0, 1, 4, 9]</pre></td></tr><tr><td><pre><pre>\n",
       "squares(10)\n",
       "iters 0 → 10\n",
       "</pre></pre></td><td style='text-align: left;border-left:3px solid gray;'><pre>\n",
       "[0, 1, 4, 9, 16, '...']</pre></td></tr><tr><td><pre><pre>\n",
       "squares(10)\n",
       "iters 5 → 10\n",
       "</pre></pre></td><td style='text-align: left;border-left:3px solid gray;'><pre>\n",
       "['...']</pre></td></tr><tr><td><pre><pre>\n",
       "squares(10)\n",
       "iters 0 → 5\n",
       "</pre></pre></td><td style='text-align: left;border-left:3px solid gray;'><pre>\n",
       "[0, 1, 4, 9, 16]</pre></td></tr><tr><td><pre><pre>\n",
       "squares(10)\n",
       "iters 0 → 15\n",
       "</pre></pre></td><td style='text-align: left;border-left:3px solid gray;'><pre>\n",
       "[0, 1, 4, 9, 16, '...']</pre></td></tr><tr><td><pre><pre>\n",
       "squares(10)\n",
       "iters 5 → 15\n",
       "</pre></pre></td><td style='text-align: left;border-left:3px solid gray;'><pre>\n",
       "['...']</pre></td></tr><tr><td><pre><pre>\n",
       "squares(10)\n",
       "iters 4 → 10 / 4\n",
       "</pre></pre></td><td style='text-align: left;border-left:3px solid gray;'><pre>\n",
       "[16]</pre></td></tr><tr><td><pre><pre>\n",
       "squares(10)\n",
       "iters 4 → 20 / 4\n",
       "</pre></pre></td><td style='text-align: left;border-left:3px solid gray;'><pre>\n",
       "[16]</pre></td></tr><tr><td><pre><pre>\n",
       "squares(10)\n",
       "iters 5 → 15 / 5\n",
       "</pre></pre></td><td style='text-align: left;border-left:3px solid gray;'><pre>\n",
       "['...']</pre></td></tr><tr><td><pre><pre>\n",
       "squares(10)\n",
       "iters 5 → 15 / 3\n",
       "</pre></pre></td><td style='text-align: left;border-left:3px solid gray;'><pre>\n",
       "['...']</pre></td></tr><tr><td><pre><pre>\n",
       "squares(10)\n",
       "iters 15 → 20\n",
       "</pre></pre></td><td style='text-align: left;border-left:3px solid gray;'><pre>\n",
       "[]</pre></td></tr></table>"
      ],
      "text/plain": [
       "<IPython.core.display.HTML object>"
      ]
     },
     "execution_count": 6,
     "metadata": {},
     "output_type": "execute_result"
    }
   ],
   "source": [
    "from exercises.squares import exo_squares_maxed\n",
    "exo_squares_maxed.example()"
   ]
  },
  {
   "cell_type": "code",
   "execution_count": 7,
   "metadata": {},
   "outputs": [],
   "source": [
    "def squares(n):\n",
    "    return (i**2 for i in range(n))"
   ]
  },
  {
   "cell_type": "code",
   "execution_count": 8,
   "metadata": {},
   "outputs": [
    {
     "data": {
      "text/html": [
       "<table style='font-family:monospace;font-size:small;'><tr style='font-family:monospace;font-size:medium;'><th style='text-align: center;'><pre>Appel</pre></th><th style='text-align: center;'><pre>Attendu</pre></th><th style='text-align: center;'><pre>Obtenu</pre></th><th style='text-align: center;'><pre></pre></th></tr><tr style='background-color:#d6e9ce;border-bottom:2px solid gray;'><td><pre>squares(2)</pre></td><td style='text-align: left;border-left:3px solid gray;'><pre>\n",
       "[0, 1]</pre></td><td style='text-align: left;border-left:1px solid gray;'><pre>\n",
       "[0, 1]</pre></td><td style='border-left:3px solid gray;'><pre>OK</pre></td></tr><tr style='background-color:#d6e9ce;border-bottom:2px solid gray;'><td><pre><pre>\n",
       "squares(3)\n",
       "iters → 4\n",
       "</pre></pre></td><td style='text-align: left;border-left:3px solid gray;'><pre>\n",
       "[0, 1, 4]</pre></td><td style='text-align: left;border-left:1px solid gray;'><pre>\n",
       "[0, 1, 4]</pre></td><td style='border-left:3px solid gray;'><pre>OK</pre></td></tr><tr style='background-color:#d6e9ce;border-bottom:2px solid gray;'><td><pre><pre>\n",
       "squares(4)\n",
       "iters → 4\n",
       "</pre></pre></td><td style='text-align: left;border-left:3px solid gray;'><pre>\n",
       "[0, 1, 4, 9]</pre></td><td style='text-align: left;border-left:1px solid gray;'><pre>\n",
       "[0, 1, 4, 9]</pre></td><td style='border-left:3px solid gray;'><pre>OK</pre></td></tr><tr style='background-color:#d6e9ce;border-bottom:2px solid gray;'><td><pre><pre>\n",
       "squares(5)\n",
       "iters → 4\n",
       "</pre></pre></td><td style='text-align: left;border-left:3px solid gray;'><pre>\n",
       "[0, 1, 4, 9]</pre></td><td style='text-align: left;border-left:1px solid gray;'><pre>\n",
       "[0, 1, 4, 9]</pre></td><td style='border-left:3px solid gray;'><pre>OK</pre></td></tr><tr style='background-color:#d6e9ce;border-bottom:2px solid gray;'><td><pre><pre>\n",
       "squares(10)\n",
       "iters 0 → 10\n",
       "</pre></pre></td><td style='text-align: left;border-left:3px solid gray;'><pre>\n",
       "[0, 1, 4, 9, 16, '...']</pre></td><td style='text-align: left;border-left:1px solid gray;'><pre>\n",
       "[0, 1, 4, 9, 16, '...']</pre></td><td style='border-left:3px solid gray;'><pre>OK</pre></td></tr><tr style='background-color:#d6e9ce;border-bottom:2px solid gray;'><td><pre><pre>\n",
       "squares(10)\n",
       "iters 5 → 10\n",
       "</pre></pre></td><td style='text-align: left;border-left:3px solid gray;'><pre>\n",
       "['...']</pre></td><td style='text-align: left;border-left:1px solid gray;'><pre>\n",
       "['...']</pre></td><td style='border-left:3px solid gray;'><pre>OK</pre></td></tr><tr style='background-color:#d6e9ce;border-bottom:2px solid gray;'><td><pre><pre>\n",
       "squares(10)\n",
       "iters 0 → 5\n",
       "</pre></pre></td><td style='text-align: left;border-left:3px solid gray;'><pre>\n",
       "[0, 1, 4, 9, 16]</pre></td><td style='text-align: left;border-left:1px solid gray;'><pre>\n",
       "[0, 1, 4, 9, 16]</pre></td><td style='border-left:3px solid gray;'><pre>OK</pre></td></tr><tr style='background-color:#d6e9ce;border-bottom:2px solid gray;'><td><pre><pre>\n",
       "squares(10)\n",
       "iters 0 → 15\n",
       "</pre></pre></td><td style='text-align: left;border-left:3px solid gray;'><pre>\n",
       "[0, 1, 4, 9, 16, '...']</pre></td><td style='text-align: left;border-left:1px solid gray;'><pre>\n",
       "[0, 1, 4, 9, 16, '...']</pre></td><td style='border-left:3px solid gray;'><pre>OK</pre></td></tr><tr style='background-color:#d6e9ce;border-bottom:2px solid gray;'><td><pre><pre>\n",
       "squares(10)\n",
       "iters 5 → 15\n",
       "</pre></pre></td><td style='text-align: left;border-left:3px solid gray;'><pre>\n",
       "['...']</pre></td><td style='text-align: left;border-left:1px solid gray;'><pre>\n",
       "['...']</pre></td><td style='border-left:3px solid gray;'><pre>OK</pre></td></tr><tr style='background-color:#d6e9ce;border-bottom:2px solid gray;'><td><pre><pre>\n",
       "squares(10)\n",
       "iters 4 → 10 / 4\n",
       "</pre></pre></td><td style='text-align: left;border-left:3px solid gray;'><pre>\n",
       "[16]</pre></td><td style='text-align: left;border-left:1px solid gray;'><pre>\n",
       "[16]</pre></td><td style='border-left:3px solid gray;'><pre>OK</pre></td></tr><tr style='background-color:#d6e9ce;border-bottom:2px solid gray;'><td><pre><pre>\n",
       "squares(10)\n",
       "iters 4 → 20 / 4\n",
       "</pre></pre></td><td style='text-align: left;border-left:3px solid gray;'><pre>\n",
       "[16]</pre></td><td style='text-align: left;border-left:1px solid gray;'><pre>\n",
       "[16]</pre></td><td style='border-left:3px solid gray;'><pre>OK</pre></td></tr><tr style='background-color:#d6e9ce;border-bottom:2px solid gray;'><td><pre><pre>\n",
       "squares(10)\n",
       "iters 5 → 15 / 5\n",
       "</pre></pre></td><td style='text-align: left;border-left:3px solid gray;'><pre>\n",
       "['...']</pre></td><td style='text-align: left;border-left:1px solid gray;'><pre>\n",
       "['...']</pre></td><td style='border-left:3px solid gray;'><pre>OK</pre></td></tr><tr style='background-color:#d6e9ce;border-bottom:2px solid gray;'><td><pre><pre>\n",
       "squares(10)\n",
       "iters 5 → 15 / 3\n",
       "</pre></pre></td><td style='text-align: left;border-left:3px solid gray;'><pre>\n",
       "['...']</pre></td><td style='text-align: left;border-left:1px solid gray;'><pre>\n",
       "['...']</pre></td><td style='border-left:3px solid gray;'><pre>OK</pre></td></tr><tr style='background-color:#d6e9ce;border-bottom:2px solid gray;'><td><pre><pre>\n",
       "squares(10)\n",
       "iters 15 → 20\n",
       "</pre></pre></td><td style='text-align: left;border-left:3px solid gray;'><pre>\n",
       "[]</pre></td><td style='text-align: left;border-left:1px solid gray;'><pre>\n",
       "[]</pre></td><td style='border-left:3px solid gray;'><pre>OK</pre></td></tr></table>"
      ],
      "text/plain": [
       "<IPython.core.display.HTML object>"
      ]
     },
     "execution_count": 8,
     "metadata": {},
     "output_type": "execute_result"
    }
   ],
   "source": [
    "exo_squares_maxed.correction(squares)"
   ]
  },
  {
   "cell_type": "markdown",
   "metadata": {},
   "source": [
    "****"
   ]
  },
  {
   "cell_type": "markdown",
   "metadata": {},
   "source": [
    "## checking for types w/ an infinite iterator"
   ]
  },
  {
   "cell_type": "markdown",
   "metadata": {},
   "source": [
    "standard `count()` with a limit on the number of iterations (max_iterations = 5)"
   ]
  },
  {
   "cell_type": "code",
   "execution_count": 9,
   "metadata": {},
   "outputs": [
    {
     "data": {
      "text/html": [
       "<table style='font-family:monospace;font-size:small;'><tr style='font-family:monospace;font-size:medium;'><th style='text-align: center;'><pre>Appel</pre></th><th style='text-align: center;'><pre>Resultat Attendu</pre></th></tr><tr><td><pre>count()</pre></td><td style='text-align: left;border-left:3px solid gray;'><pre>\n",
       "[0, 1, 2, 3, 4, '...']</pre></td></tr><tr><td><pre><pre>\n",
       "count()\n",
       "iters 10 → 12\n",
       "</pre></pre></td><td style='text-align: left;border-left:3px solid gray;'><pre>\n",
       "[]</pre></td></tr></table>"
      ],
      "text/plain": [
       "<IPython.core.display.HTML object>"
      ]
     },
     "execution_count": 9,
     "metadata": {},
     "output_type": "execute_result"
    }
   ],
   "source": [
    "from exercises.squares import exo_count_maxed\n",
    "\n",
    "exo_count_maxed.example()"
   ]
  },
  {
   "cell_type": "code",
   "execution_count": 10,
   "metadata": {},
   "outputs": [],
   "source": [
    "def mycount1():\n",
    "    return range(1000)"
   ]
  },
  {
   "cell_type": "code",
   "execution_count": 11,
   "metadata": {},
   "outputs": [
    {
     "data": {
      "text/html": [
       "<table style='font-family:monospace;font-size:small;'><tr style='font-family:monospace;font-size:medium;'><th style='text-align: center;'><pre>Appel</pre></th><th style='text-align: center;'><pre>Attendu</pre></th><th style='text-align: center;'><pre>Obtenu</pre></th><th style='text-align: center;'><pre></pre></th></tr><tr style='background-color:#d6e9ce;border-bottom:2px solid gray;'><td><pre>count()</pre></td><td style='text-align: left;border-left:3px solid gray;'><pre>\n",
       "[0, 1, 2, 3, 4, '...']</pre></td><td style='text-align: left;border-left:1px solid gray;'><pre>\n",
       "[0, 1, 2, 3, 4, '...']</pre></td><td style='border-left:3px solid gray;'><pre>OK</pre></td></tr><tr style='background-color:#d6e9ce;border-bottom:2px solid gray;'><td><pre><pre>\n",
       "count()\n",
       "iters 10 → 12\n",
       "</pre></pre></td><td style='text-align: left;border-left:3px solid gray;'><pre>\n",
       "[]</pre></td><td style='text-align: left;border-left:1px solid gray;'><pre>\n",
       "[]</pre></td><td style='border-left:3px solid gray;'><pre>OK</pre></td></tr></table>"
      ],
      "text/plain": [
       "<IPython.core.display.HTML object>"
      ]
     },
     "execution_count": 11,
     "metadata": {},
     "output_type": "execute_result"
    }
   ],
   "source": [
    "exo_count_maxed.correction(mycount1)"
   ]
  },
  {
   "cell_type": "code",
   "execution_count": 12,
   "metadata": {},
   "outputs": [],
   "source": [
    "import itertools\n",
    "\n",
    "def mycount2():\n",
    "    return itertools.count()"
   ]
  },
  {
   "cell_type": "code",
   "execution_count": 13,
   "metadata": {},
   "outputs": [
    {
     "data": {
      "text/html": [
       "<table style='font-family:monospace;font-size:small;'><tr style='font-family:monospace;font-size:medium;'><th style='text-align: center;'><pre>Appel</pre></th><th style='text-align: center;'><pre>Attendu</pre></th><th style='text-align: center;'><pre>Obtenu</pre></th><th style='text-align: center;'><pre></pre></th></tr><tr style='background-color:#d6e9ce;border-bottom:2px solid gray;'><td><pre>count()</pre></td><td style='text-align: left;border-left:3px solid gray;'><pre>\n",
       "[0, 1, 2, 3, 4, '...']</pre></td><td style='text-align: left;border-left:1px solid gray;'><pre>\n",
       "[0, 1, 2, 3, 4, '...']</pre></td><td style='border-left:3px solid gray;'><pre>OK</pre></td></tr><tr style='background-color:#d6e9ce;border-bottom:2px solid gray;'><td><pre><pre>\n",
       "count()\n",
       "iters 10 → 12\n",
       "</pre></pre></td><td style='text-align: left;border-left:3px solid gray;'><pre>\n",
       "[]</pre></td><td style='text-align: left;border-left:1px solid gray;'><pre>\n",
       "[]</pre></td><td style='border-left:3px solid gray;'><pre>OK</pre></td></tr></table>"
      ],
      "text/plain": [
       "<IPython.core.display.HTML object>"
      ]
     },
     "execution_count": 13,
     "metadata": {},
     "output_type": "execute_result"
    }
   ],
   "source": [
    "exo_count_maxed.correction(mycount2)"
   ]
  },
  {
   "cell_type": "code",
   "execution_count": 14,
   "metadata": {},
   "outputs": [],
   "source": [
    "def mycount3():\n",
    "    return list(range(10))"
   ]
  },
  {
   "cell_type": "code",
   "execution_count": 15,
   "metadata": {},
   "outputs": [
    {
     "data": {
      "text/html": [
       "<table style='font-family:monospace;font-size:small;'><tr style='font-family:monospace;font-size:medium;'><th style='text-align: center;'><pre>Appel</pre></th><th style='text-align: center;'><pre>Attendu</pre></th><th style='text-align: center;'><pre>Obtenu</pre></th><th style='text-align: center;'><pre></pre></th></tr><tr style='background-color:#efd6d6;border-bottom:2px solid gray;'><td><pre>count()</pre></td><td style='text-align: left;border-left:3px solid gray;'><pre>\n",
       "[0, 1, 2, 3, 4, '...']</pre></td><td style='text-align: left;border-left:1px solid gray;'><pre>\n",
       "TypeError('not an iterator! received a list instance: [0, 1, 2, 3, 4, 5, 6, 7, 8, 9] ')</pre></td><td style='border-left:3px solid gray;'><pre>KO</pre></td></tr><tr style='background-color:#efd6d6;border-bottom:2px solid gray;'><td><pre><pre>\n",
       "count()\n",
       "iters 10 → 12\n",
       "</pre></pre></td><td style='text-align: left;border-left:3px solid gray;'><pre>\n",
       "[]</pre></td><td style='text-align: left;border-left:1px solid gray;'><pre>\n",
       "TypeError('not an iterator! received a list instance: [0, 1, 2, 3, 4, 5, 6, 7, 8, 9] ')</pre></td><td style='border-left:3px solid gray;'><pre>KO</pre></td></tr></table>"
      ],
      "text/plain": [
       "<IPython.core.display.HTML object>"
      ]
     },
     "execution_count": 15,
     "metadata": {},
     "output_type": "execute_result"
    }
   ],
   "source": [
    "exo_count_maxed.correction(mycount3)"
   ]
  },
  {
   "cell_type": "markdown",
   "metadata": {},
   "source": [
    "****"
   ]
  },
  {
   "cell_type": "markdown",
   "metadata": {},
   "source": [
    "## infinite iterators"
   ]
  },
  {
   "cell_type": "code",
   "execution_count": 16,
   "metadata": {},
   "outputs": [],
   "source": [
    "from exercises.squares import exo_squares_count_maxed"
   ]
  },
  {
   "cell_type": "code",
   "execution_count": 17,
   "metadata": {},
   "outputs": [
    {
     "data": {
      "text/html": [
       "<table style='font-family:monospace;font-size:small;'><tr style='font-family:monospace;font-size:medium;'><th style='text-align: center;'><pre>Appel</pre></th><th style='text-align: center;'><pre>Resultat Attendu</pre></th></tr><tr><td><pre>squares_count()</pre></td><td style='text-align: left;border-left:3px solid gray;'><pre>\n",
       "[0, 1, 4, 9, 16, '...']</pre></td></tr></table>"
      ],
      "text/plain": [
       "<IPython.core.display.HTML object>"
      ]
     },
     "execution_count": 17,
     "metadata": {},
     "output_type": "execute_result"
    }
   ],
   "source": [
    "exo_squares_count_maxed.example()"
   ]
  },
  {
   "cell_type": "code",
   "execution_count": 18,
   "metadata": {},
   "outputs": [],
   "source": [
    "def squares_count1():\n",
    "    for n in itertools.count():\n",
    "        yield n**2"
   ]
  },
  {
   "cell_type": "code",
   "execution_count": 19,
   "metadata": {},
   "outputs": [
    {
     "data": {
      "text/html": [
       "<table style='font-family:monospace;font-size:small;'><tr style='font-family:monospace;font-size:medium;'><th style='text-align: center;'><pre>Appel</pre></th><th style='text-align: center;'><pre>Attendu</pre></th><th style='text-align: center;'><pre>Obtenu</pre></th><th style='text-align: center;'><pre></pre></th></tr><tr style='background-color:#d6e9ce;border-bottom:2px solid gray;'><td><pre>squares_count()</pre></td><td style='text-align: left;border-left:3px solid gray;'><pre>\n",
       "[0, 1, 4, 9, 16, '...']</pre></td><td style='text-align: left;border-left:1px solid gray;'><pre>\n",
       "[0, 1, 4, 9, 16, '...']</pre></td><td style='border-left:3px solid gray;'><pre>OK</pre></td></tr></table>"
      ],
      "text/plain": [
       "<IPython.core.display.HTML object>"
      ]
     },
     "execution_count": 19,
     "metadata": {},
     "output_type": "execute_result"
    }
   ],
   "source": [
    "exo_squares_count_maxed.correction(squares_count1)"
   ]
  },
  {
   "cell_type": "code",
   "execution_count": 20,
   "metadata": {},
   "outputs": [],
   "source": [
    "def squares_count2():\n",
    "    return (n**2 for n in itertools.count())"
   ]
  },
  {
   "cell_type": "code",
   "execution_count": 21,
   "metadata": {},
   "outputs": [
    {
     "data": {
      "text/html": [
       "<table style='font-family:monospace;font-size:small;'><tr style='font-family:monospace;font-size:medium;'><th style='text-align: center;'><pre>Appel</pre></th><th style='text-align: center;'><pre>Attendu</pre></th><th style='text-align: center;'><pre>Obtenu</pre></th><th style='text-align: center;'><pre></pre></th></tr><tr style='background-color:#d6e9ce;border-bottom:2px solid gray;'><td><pre>squares_count()</pre></td><td style='text-align: left;border-left:3px solid gray;'><pre>\n",
       "[0, 1, 4, 9, 16, '...']</pre></td><td style='text-align: left;border-left:1px solid gray;'><pre>\n",
       "[0, 1, 4, 9, 16, '...']</pre></td><td style='border-left:3px solid gray;'><pre>OK</pre></td></tr></table>"
      ],
      "text/plain": [
       "<IPython.core.display.HTML object>"
      ]
     },
     "execution_count": 21,
     "metadata": {},
     "output_type": "execute_result"
    }
   ],
   "source": [
    "exo_squares_count_maxed.correction(squares_count2)"
   ]
  },
  {
   "cell_type": "markdown",
   "metadata": {},
   "source": [
    "***"
   ]
  },
  {
   "cell_type": "code",
   "execution_count": 22,
   "metadata": {},
   "outputs": [
    {
     "name": "stdout",
     "output_type": "stream",
     "text": [
      "from nbautoeval import ExerciseGenerator, Args, GeneratorArgs\r\n",
      "\r\n",
      "\r\n",
      "# usual function that returns a generator\r\n",
      "def squares(n):\r\n",
      "    for i in range(n):\r\n",
      "        yield i**2\r\n",
      "        \r\n",
      "squares_inputs = [\r\n",
      "    GeneratorArgs(2),\r\n",
      "    GeneratorArgs(3, islice=(4,)),\r\n",
      "    GeneratorArgs(4, islice=(4,)),\r\n",
      "    GeneratorArgs(5, islice=(4,)),\r\n",
      "    GeneratorArgs(10, islice=(0, 10)),\r\n",
      "    GeneratorArgs(10, islice=(5, 10)),\r\n",
      "    GeneratorArgs(10, islice=(0, 5)),\r\n",
      "    GeneratorArgs(10, islice=(0, 15)),\r\n",
      "    GeneratorArgs(10, islice=(5, 15)),\r\n",
      "    GeneratorArgs(10, islice=(4, 10, 4)),\r\n",
      "    GeneratorArgs(10, islice=(4, 20, 4)),\r\n",
      "    GeneratorArgs(10, islice=(5, 15, 5)),\r\n",
      "    GeneratorArgs(10, islice=(5, 15, 3)),\r\n",
      "    GeneratorArgs(10, islice=(15, 20)),\r\n",
      "]\r\n",
      "\r\n",
      "\r\n",
      "exo_squares = ExerciseGenerator(\r\n",
      "    squares, squares_inputs, nb_examples=3)\r\n",
      "\r\n",
      "\r\n",
      "### same with max_iterations\r\n",
      "exo_squares_maxed = ExerciseGenerator(\r\n",
      "    squares, squares_inputs, nb_examples=0, max_iterations=5)\r\n",
      "\r\n",
      "\r\n",
      "###\r\n",
      "from itertools import count\r\n",
      "\r\n",
      "simple_inputs = [\r\n",
      "    GeneratorArgs(),\r\n",
      "    GeneratorArgs(islice=(10, 12)),\r\n",
      "]\r\n",
      "\r\n",
      "exo_count_maxed = ExerciseGenerator(\r\n",
      "    count, simple_inputs,\r\n",
      "    nb_examples=0, max_iterations=5)\r\n",
      "\r\n",
      "\r\n",
      "###\r\n",
      "def squares_count():\r\n",
      "    return (x**2 for x in count())\r\n",
      "\r\n",
      "exo_squares_count_maxed = ExerciseGenerator(\r\n",
      "    squares_count, [GeneratorArgs()], nb_examples=0, max_iterations=5)"
     ]
    }
   ],
   "source": [
    "!cat ../exercises/squares.py"
   ]
  },
  {
   "cell_type": "markdown",
   "metadata": {},
   "source": [
    "***\n",
    "***\n",
    "***\n"
   ]
  },
  {
   "cell_type": "markdown",
   "metadata": {},
   "source": [
    "# iterating on prime numbers"
   ]
  },
  {
   "cell_type": "markdown",
   "metadata": {},
   "source": [
    "### with `max_iterations`"
   ]
  },
  {
   "cell_type": "markdown",
   "metadata": {},
   "source": [
    "It may be prudent to set a `max_iterations` on the exercise instance to avoid endless loops."
   ]
  },
  {
   "cell_type": "code",
   "execution_count": 23,
   "metadata": {},
   "outputs": [
    {
     "data": {
      "text/html": [
       "<table style='font-family:monospace;font-size:small;'><tr style='font-family:monospace;font-size:medium;'><th style='text-align: center;'><pre>Appel</pre></th><th style='text-align: center;'><pre>Resultat Attendu</pre></th></tr><tr><td><pre><pre>\n",
       "primes()\n",
       "iters → 20\n",
       "</pre></pre></td><td style='text-align: left;border-left:3px solid gray;'><pre>\n",
       "[ 2,\n",
       "  3,\n",
       "  5,\n",
       "  7,\n",
       "  11,\n",
       "  13,\n",
       "  17,\n",
       "  19,\n",
       "  23,\n",
       "  29,\n",
       "  31,\n",
       "  37,\n",
       "  41,\n",
       "  43,\n",
       "  47,\n",
       "  53,\n",
       "  59,\n",
       "  61,\n",
       "  67,\n",
       "  71]</pre></td></tr><tr><td><pre><pre>\n",
       "primes()\n",
       "iters None → 20 / 2\n",
       "</pre></pre></td><td style='text-align: left;border-left:3px solid gray;'><pre>\n",
       "[ 2,\n",
       "  5,\n",
       "  11,\n",
       "  17,\n",
       "  23,\n",
       "  31,\n",
       "  41,\n",
       "  47,\n",
       "  59,\n",
       "  67]</pre></td></tr><tr><td><pre><pre>\n",
       "primes()\n",
       "iters 100 → 101\n",
       "</pre></pre></td><td style='text-align: left;border-left:3px solid gray;'><pre>\n",
       "[547]</pre></td></tr><tr><td><pre><pre>\n",
       "primes()\n",
       "iters 101 → 102\n",
       "</pre></pre></td><td style='text-align: left;border-left:3px solid gray;'><pre>\n",
       "['...']</pre></td></tr><tr><td><pre><pre>\n",
       "primes()\n",
       "iters 1001 → 1002\n",
       "</pre></pre></td><td style='text-align: left;border-left:3px solid gray;'><pre>\n",
       "[]</pre></td></tr></table>"
      ],
      "text/plain": [
       "<IPython.core.display.HTML object>"
      ]
     },
     "execution_count": 23,
     "metadata": {},
     "output_type": "execute_result"
    }
   ],
   "source": [
    "from exercises.primes import exo_primes\n",
    "exo_primes.example()"
   ]
  },
  {
   "cell_type": "markdown",
   "metadata": {},
   "source": [
    "### without `max_iterations`"
   ]
  },
  {
   "cell_type": "markdown",
   "metadata": {},
   "source": [
    "**this is not working** \n",
    "see issue #4"
   ]
  },
  {
   "cell_type": "code",
   "execution_count": null,
   "metadata": {},
   "outputs": [],
   "source": [
    "#from exercises.primes import exo_primes_no_limit\n",
    "#exo_primes_no_limit.example()"
   ]
  },
  {
   "cell_type": "code",
   "execution_count": 24,
   "metadata": {},
   "outputs": [
    {
     "name": "stdout",
     "output_type": "stream",
     "text": [
      "from itertools import count\r\n",
      "\r\n",
      "from nbautoeval import ExerciseGenerator, GeneratorArgs\r\n",
      "\r\n",
      "def primes():\r\n",
      "    cache_primes = set()\r\n",
      "    \r\n",
      "    # print(f\"primes()\")\r\n",
      "    for n in count(2):\r\n",
      "        # print(f\"n={n}\")\r\n",
      "        for i in range(2, n):\r\n",
      "            if i not in cache_primes:\r\n",
      "                continue\r\n",
      "            if n % i == 0:\r\n",
      "                break\r\n",
      "        else:\r\n",
      "            cache_primes.add(n)\r\n",
      "            yield n\r\n",
      "            \r\n",
      "\r\n",
      "primes_inputs = [\r\n",
      "    GeneratorArgs(islice=(20,)),\r\n",
      "    GeneratorArgs(islice=(None, 20, 2)),\r\n",
      "    GeneratorArgs(islice=(100, 101)),\r\n",
      "    GeneratorArgs(islice=(101, 102)),\r\n",
      "    GeneratorArgs(islice=(1001, 1002)),\r\n",
      "]\r\n",
      "\r\n",
      "# max_iterations is mostly a provision to avoid endless loops\r\n",
      "# as of 0.6 it seems like setting it to a big value like 10_000\r\n",
      "# causes trouble, so ..\r\n",
      "exo_primes = ExerciseGenerator(\r\n",
      "    primes, primes_inputs, max_iterations=101,\r\n",
      "    nb_examples=0,\r\n",
      ")\r\n",
      "\r\n",
      "exo_primes_no_limit = ExerciseGenerator(\r\n",
      "    primes, primes_inputs, \r\n",
      "    nb_examples=0,\r\n",
      ")"
     ]
    }
   ],
   "source": [
    "!cat ../exercises/primes.py"
   ]
  },
  {
   "cell_type": "markdown",
   "metadata": {},
   "source": [
    "***"
   ]
  },
  {
   "cell_type": "markdown",
   "metadata": {},
   "source": [
    "### passing iterators as arguments to iterators"
   ]
  },
  {
   "cell_type": "markdown",
   "metadata": {},
   "source": [
    "**BEWARE** that this feature is experimental; in 0.6.2 we had to explicitly tag the exercise with `copy_mode=\"tee\"` for it to work properly; setting this flag on other gen-based exos, including `primes` above, tends to break things."
   ]
  },
  {
   "cell_type": "markdown",
   "metadata": {},
   "source": [
    "Objective here is to write an iterator that takes an iterator as argument, and iterates its derivative, i.e. the difference between consecutive terms."
   ]
  },
  {
   "cell_type": "markdown",
   "metadata": {},
   "source": [
    "This is currently very patchy and could use a second pass; the logic is kind of OK, including for cloning iterators\n",
    "\n",
    "However rendering an argument iterator in the 'Appel' column remains to be done, right now it is still totally unedible ;)"
   ]
  },
  {
   "cell_type": "code",
   "execution_count": 32,
   "metadata": {},
   "outputs": [
    {
     "data": {
      "text/html": [
       "<table style='font-family:monospace;font-size:small;'><tr style='font-family:monospace;font-size:medium;'><th style='text-align: center;'><pre>Appel</pre></th><th style='text-align: center;'><pre>Resultat Attendu</pre></th></tr><tr><td><pre><pre>differential(\n",
       "  <itertools._tee object at 0x11e69c690>)\n",
       "</pre></pre></td><td style='text-align: left;border-left:3px solid gray;'><pre>\n",
       "[ 1,\n",
       "  1,\n",
       "  1,\n",
       "  1,\n",
       "  1,\n",
       "  1,\n",
       "  1,\n",
       "  1,\n",
       "  1,\n",
       "  1,\n",
       "  1,\n",
       "  1,\n",
       "  1,\n",
       "  1,\n",
       "  1,\n",
       "  1,\n",
       "  1,\n",
       "  1,\n",
       "  1,\n",
       "  1,\n",
       "  '...']</pre></td></tr></table>"
      ],
      "text/plain": [
       "<IPython.core.display.HTML object>"
      ]
     },
     "execution_count": 32,
     "metadata": {},
     "output_type": "execute_result"
    }
   ],
   "source": [
    "from exercises.differential import exo_differential\n",
    "\n",
    "exo_differential.example()"
   ]
  },
  {
   "cell_type": "code",
   "execution_count": 33,
   "metadata": {},
   "outputs": [
    {
     "data": {
      "text/html": [
       "<table style='font-family:monospace;font-size:small;'><tr style='font-family:monospace;font-size:medium;'><th style='text-align: center;'><pre>Appel</pre></th><th style='text-align: center;'><pre>Attendu</pre></th><th style='text-align: center;'><pre>Obtenu</pre></th><th style='text-align: center;'><pre></pre></th></tr><tr style='background-color:#d6e9ce;border-bottom:2px solid gray;'><td><pre><pre>\n",
       "differential(count(44))\n",
       "iters → 10\n",
       "</pre></pre></td><td style='text-align: left;border-left:3px solid gray;'><pre>\n",
       "[ 1,\n",
       "  1,\n",
       "  1,\n",
       "  1,\n",
       "  1,\n",
       "  1,\n",
       "  1,\n",
       "  1,\n",
       "  1,\n",
       "  1,\n",
       "  1,\n",
       "  1,\n",
       "  1,\n",
       "  1,\n",
       "  1,\n",
       "  1,\n",
       "  1,\n",
       "  1,\n",
       "  1,\n",
       "  1,\n",
       "  '...']</pre></td><td style='text-align: left;border-left:1px solid gray;'><pre>\n",
       "[ 1,\n",
       "  1,\n",
       "  1,\n",
       "  1,\n",
       "  1,\n",
       "  1,\n",
       "  1,\n",
       "  1,\n",
       "  1,\n",
       "  1,\n",
       "  1,\n",
       "  1,\n",
       "  1,\n",
       "  1,\n",
       "  1,\n",
       "  1,\n",
       "  1,\n",
       "  1,\n",
       "  1,\n",
       "  1,\n",
       "  '...']</pre></td><td style='border-left:3px solid gray;'><pre>OK</pre></td></tr><tr style='background-color:#d6e9ce;border-bottom:2px solid gray;'><td><pre><pre> iters → 10\n",
       "differential(\n",
       "  <generator object squares.<locals>.<genexpr> at 0x11e6949d0>)\n",
       "</pre></pre></td><td style='text-align: left;border-left:3px solid gray;'><pre>\n",
       "[ 1,\n",
       "  3,\n",
       "  5,\n",
       "  7,\n",
       "  9,\n",
       "  11,\n",
       "  13,\n",
       "  15,\n",
       "  17,\n",
       "  19,\n",
       "  21,\n",
       "  23,\n",
       "  25,\n",
       "  27,\n",
       "  29,\n",
       "  31,\n",
       "  33,\n",
       "  35,\n",
       "  37,\n",
       "  39,\n",
       "  '...']</pre></td><td style='text-align: left;border-left:1px solid gray;'><pre>\n",
       "[ 1,\n",
       "  3,\n",
       "  5,\n",
       "  7,\n",
       "  9,\n",
       "  11,\n",
       "  13,\n",
       "  15,\n",
       "  17,\n",
       "  19,\n",
       "  21,\n",
       "  23,\n",
       "  25,\n",
       "  27,\n",
       "  29,\n",
       "  31,\n",
       "  33,\n",
       "  35,\n",
       "  37,\n",
       "  39,\n",
       "  '...']</pre></td><td style='border-left:3px solid gray;'><pre>OK</pre></td></tr></table>"
      ],
      "text/plain": [
       "<IPython.core.display.HTML object>"
      ]
     },
     "execution_count": 33,
     "metadata": {},
     "output_type": "execute_result"
    }
   ],
   "source": [
    "# it's far from clear from this table, but we run differential on \n",
    "# (*) itertools.count() so the expected output is a constant 1\n",
    "# (*) squares() that iterates 0, 1, 4, 9, 16 ... \n",
    "#     so the expected outcome of differential is 1, 3, 5, 7, ..\n",
    "\n",
    "from exercises.differential import differential\n",
    "exo_differential.correction(differential)"
   ]
  },
  {
   "cell_type": "code",
   "execution_count": 34,
   "metadata": {},
   "outputs": [
    {
     "name": "stdout",
     "output_type": "stream",
     "text": [
      "import itertools\r\n",
      "\r\n",
      "from nbautoeval import ExerciseGenerator, GeneratorArgs\r\n",
      "\r\n",
      "def differential(iterator):\r\n",
      "    previous = next(iterator)\r\n",
      "    while True:\r\n",
      "        current = next(iterator)\r\n",
      "        yield current - previous\r\n",
      "        previous = current\r\n",
      "\r\n",
      "\r\n",
      "def squares():\r\n",
      "    return (i**2 for i in itertools.count())\r\n",
      "\r\n",
      "differential_args = [\r\n",
      "    GeneratorArgs(itertools.count(), islice=(10,)),\r\n",
      "    GeneratorArgs(squares(), islice=(10,)),\r\n",
      "]\r\n",
      "\r\n",
      "exo_differential = ExerciseGenerator(\r\n",
      "    differential, differential_args,\r\n",
      "    copy_mode='tee',  # this is the broken piece in 0.6.1\r\n",
      "    max_iterations=20,\r\n",
      ")\r\n"
     ]
    }
   ],
   "source": [
    "!cat ../exercises/differential.py"
   ]
  }
 ],
 "metadata": {
  "jupytext": {
   "cell_metadata_filter": "all",
   "notebook_metadata_filter": "all,-language_info",
   "text_representation": {
    "extension": ".py",
    "format_name": "percent",
    "format_version": "1.2",
    "jupytext_version": "1.1.7"
   }
  },
  "kernelspec": {
   "display_name": "Python 3",
   "language": "python",
   "name": "python3"
  },
  "language_info": {
   "codemirror_mode": {
    "name": "ipython",
    "version": 3
   },
   "file_extension": ".py",
   "mimetype": "text/x-python",
   "name": "python",
   "nbconvert_exporter": "python",
   "pygments_lexer": "ipython3",
   "version": "3.7.4"
  }
 },
 "nbformat": 4,
 "nbformat_minor": 2
}
