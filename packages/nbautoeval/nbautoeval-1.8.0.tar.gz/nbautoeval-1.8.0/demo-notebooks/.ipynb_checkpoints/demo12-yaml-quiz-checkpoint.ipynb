{
 "cells": [
  {
   "cell_type": "code",
   "execution_count": 63,
   "metadata": {},
   "outputs": [],
   "source": [
    "# this is for testing purposes only, it allows to 'reset' the history\n",
    "# about this particular exercise\n",
    "from nbautoeval.storage import storage_clear\n",
    "storage_clear(\"yaml-sample-one\")"
   ]
  },
  {
   "cell_type": "code",
   "execution_count": 66,
   "metadata": {
    "scrolled": true
   },
   "outputs": [
    {
     "data": {
      "application/vnd.jupyter.widget-view+json": {
       "model_id": "757830dcbfb24267845e55d1d088bf27",
       "version_major": 2,
       "version_minor": 0
      },
      "text/plain": [
       "VBox(children=(VBox(children=(VBox(children=(HBox(children=(HTML(value='Question # 1', _dom_classes=('index',)…"
      ]
     },
     "metadata": {},
     "output_type": "display_data"
    }
   ],
   "source": [
    "from nbautoeval import run_yaml_quiz\n",
    "run_yaml_quiz(\"../yaml/quiz-sample.yaml\", \"quiz1\")"
   ]
  },
  {
   "cell_type": "code",
   "execution_count": 78,
   "metadata": {},
   "outputs": [],
   "source": [
    "# dittofrom nbautoeval.storage import storage_clear\n",
    "storage_clear(\"yaml-sample-two\")"
   ]
  },
  {
   "cell_type": "code",
   "execution_count": 81,
   "metadata": {
    "scrolled": false
   },
   "outputs": [
    {
     "name": "stdout",
     "output_type": "stream",
     "text": [
      "OOPS - something wrong with quiz <class 'AttributeError'>, 'QuizQuestion' object has no attribute 'teacher_options'\n",
      "Traceback (most recent call last):\n",
      "  File \"/Users/tparment/git/nbautoeval/nbautoeval/quiz_loader.py\", line 119, in run_yaml_quiz\n",
      "    return loader.build_quiz(exoname, debug).widget()\n",
      "  File \"/Users/tparment/git/nbautoeval/nbautoeval/quiz.py\", line 508, in widget\n",
      "    self.post_init()\n",
      "  File \"/Users/tparment/git/nbautoeval/nbautoeval/quiz.py\", line 500, in post_init\n",
      "    self.restore(preserved)\n",
      "  File \"/Users/tparment/git/nbautoeval/nbautoeval/quiz.py\", line 538, in restore\n",
      "    question.restore(list_of_bools)\n",
      "  File \"/Users/tparment/git/nbautoeval/nbautoeval/quiz.py\", line 456, in restore\n",
      "    for option, boolean in zip(self.teacher_options, bools):\n",
      "AttributeError: 'QuizQuestion' object has no attribute 'teacher_options'\n",
      "\n"
     ]
    },
    {
     "data": {
      "text/plain": [
       "AttributeError(\"'QuizQuestion' object has no attribute 'teacher_options'\")"
      ]
     },
     "execution_count": 81,
     "metadata": {},
     "output_type": "execute_result"
    }
   ],
   "source": [
    "from nbautoeval import run_yaml_quiz\n",
    "run_yaml_quiz(\"../yaml/quiz-sample.yaml\", \"quiz2\")"
   ]
  }
 ],
 "metadata": {
  "jupytext": {
   "cell_metadata_filter": "all",
   "notebook_metadata_filter": "all,-language_info,-jupytext.text_representation.jupytext_version",
   "text_representation": {
    "extension": ".py",
    "format_name": "percent",
    "format_version": "1.3"
   }
  },
  "kernelspec": {
   "display_name": "Python 3",
   "language": "python",
   "name": "python3"
  },
  "language_info": {
   "codemirror_mode": {
    "name": "ipython",
    "version": 3
   },
   "file_extension": ".py",
   "mimetype": "text/x-python",
   "name": "python",
   "nbconvert_exporter": "python",
   "pygments_lexer": "ipython3",
   "version": "3.6.10"
  },
  "toc": {
   "base_numbering": 1,
   "nav_menu": {},
   "number_sections": true,
   "sideBar": true,
   "skip_h1_title": false,
   "title_cell": "Table of Contents",
   "title_sidebar": "Contents",
   "toc_cell": false,
   "toc_position": {},
   "toc_section_display": true,
   "toc_window_display": false
  }
 },
 "nbformat": 4,
 "nbformat_minor": 4
}
