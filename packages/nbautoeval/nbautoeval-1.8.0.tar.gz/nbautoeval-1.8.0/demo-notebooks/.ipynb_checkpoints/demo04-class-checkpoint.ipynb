{
 "cells": [
  {
   "cell_type": "markdown",
   "metadata": {},
   "source": [
    "<span style=\"float:left;\">Licence CC BY-NC-ND</span><span style=\"float:right;\">Thierry Parmentelat&nbsp;<img src=\"../media/inria-25.png\" style=\"display:inline\"></span><br/>"
   ]
  },
  {
   "cell_type": "markdown",
   "metadata": {},
   "source": [
    "# class-based exercises"
   ]
  },
  {
   "cell_type": "code",
   "execution_count": 1,
   "metadata": {},
   "outputs": [],
   "source": [
    "%load_ext autoreload\n",
    "%autoreload 2"
   ]
  },
  {
   "cell_type": "code",
   "execution_count": 2,
   "metadata": {},
   "outputs": [],
   "source": [
    "# just so that it runs smoothly under binder\n",
    "import sys\n",
    "sys.path.append(\"..\")"
   ]
  },
  {
   "cell_type": "markdown",
   "metadata": {},
   "source": [
    "## intro"
   ]
  },
  {
   "cell_type": "markdown",
   "metadata": {},
   "source": [
    "creating a class-based exercise currently means:\n",
    "\n",
    "* writing a reference class\n",
    "* defining a suite of *Scenarios*\n",
    "\n",
    "each Scenario in turn means\n",
    "* creating one witness instance, from one `Args` object\n",
    "* run several expressions and/or statements in a context where\n",
    "  * `INSTANCE` is replaced with the witness object, and\n",
    "  * `CLASS` is replaced with the class object under test"
   ]
  },
  {
   "cell_type": "markdown",
   "metadata": {},
   "source": [
    "*****"
   ]
  },
  {
   "cell_type": "markdown",
   "metadata": {},
   "source": [
    "## comparing objects"
   ]
  },
  {
   "cell_type": "markdown",
   "metadata": {},
   "source": [
    "### using `repr()` in constructor and statements\n",
    "\n",
    "for the first step of a class scenario (calling the constructor), as well as for statement steps, the actual result that we get from code evaluation is `None`.  \n",
    "so in these case, in order to check for correctness we **compare both objects `repr()`s**"
   ]
  },
  {
   "cell_type": "markdown",
   "metadata": {},
   "source": [
    "### using `repr()` when expression returns an object\n",
    "\n",
    "similarly, when the scenario expression returns an object (think of the addition of two objects), we cannot compare results using `==` because the two objects (one under reference implementation and one under student implementation) are of different classes and thus would not be considered equal by `==`\n",
    "\n",
    "so in these situations again, the two objects are compared through their `repr()` textual representation."
   ]
  },
  {
   "cell_type": "markdown",
   "metadata": {},
   "source": [
    "### bottom line\n",
    "\n",
    "this all means that students need to pay extra attention to have their `__repr__()` method work exactly as requested, otherwise they get a lot of false negative."
   ]
  },
  {
   "cell_type": "markdown",
   "metadata": {},
   "source": [
    "*****"
   ]
  },
  {
   "cell_type": "markdown",
   "metadata": {},
   "source": [
    "## a FIFO"
   ]
  },
  {
   "cell_type": "markdown",
   "metadata": {},
   "source": [
    "This section demonstrates how to run a simple (expressions-only) class scenario.\n",
    "Next section introduces the notion of statements-oriented scenariis, useful typically to deal with properties."
   ]
  },
  {
   "cell_type": "markdown",
   "metadata": {},
   "source": [
    "### Assignment"
   ]
  },
  {
   "cell_type": "markdown",
   "metadata": {},
   "source": [
    "Students are requested to write a `Fifo` class, that implements\n",
    "* a constructor `Fifo()`\n",
    "* an `incoming(obj)` method\n",
    "* an `outgoing()` method\n",
    "\n",
    "that just returns the elements in the same order as they were stored."
   ]
  },
  {
   "cell_type": "markdown",
   "metadata": {},
   "source": [
    "### Workflow"
   ]
  },
  {
   "cell_type": "code",
   "execution_count": 36,
   "metadata": {},
   "outputs": [
    {
     "data": {
      "text/html": [
       "<table style='font-family:monospace;font-size:small;margin: 10px;'><tr style='font-family:monospace;font-size:medium;border-top:2px double black; '><th colspan='4' style='text-align: center;'><pre>Scénario 1</pre></th></tr><tr style='border-top:1px solid gray; border-bottom:2px solid gray;'><th><pre>Appel</pre></th><th><pre>Attendu</pre></th></tr><tr style='border-bottom:1px solid gray;'><td><pre>X = Fifo(); X</pre></td><td style='border-left:3px solid gray;text-align: left;'><pre 'style=font-size:0;'>&lt;exercises.fifoclass.Fifo object at 0x1160556a0&gt;</pre></td></tr><tr style='border-bottom:1px dotted gray;'><td><pre 'style=font-size:50;'>X.incoming(1)</pre></td><td style='border-left:3px solid gray;text-align: left;'><pre>\n",
       "None</pre></td></tr><tr style='border-bottom:1px dotted gray;'><td><pre 'style=font-size:50;'>X.incoming(2)</pre></td><td style='border-left:3px solid gray;text-align: left;'><pre>\n",
       "None</pre></td></tr><tr style='border-bottom:1px dotted gray;'><td><pre 'style=font-size:50;'>X</pre></td><td style='border-left:3px solid gray;text-align: left;'><pre>\n",
       "<exercises.fifoclass.Fifo object at 0x1160556a0></pre></td></tr><tr style='border-bottom:1px dotted gray;'><td><pre 'style=font-size:50;'>X.outgoing()</pre></td><td style='border-left:3px solid gray;text-align: left;'><pre>\n",
       "1</pre></td></tr><tr style='border-bottom:1px dotted gray;'><td><pre 'style=font-size:50;'>X.incoming(3)</pre></td><td style='border-left:3px solid gray;text-align: left;'><pre>\n",
       "None</pre></td></tr><tr style='border-bottom:1px dotted gray;'><td><pre 'style=font-size:50;'>X.incoming(4)</pre></td><td style='border-left:3px solid gray;text-align: left;'><pre>\n",
       "None</pre></td></tr><tr style='border-bottom:1px dotted gray;'><td><pre 'style=font-size:50;'>X.outgoing()</pre></td><td style='border-left:3px solid gray;text-align: left;'><pre>\n",
       "2</pre></td></tr><tr style='border-bottom:1px dotted gray;'><td><pre 'style=font-size:50;'>len(X)</pre></td><td style='border-left:3px solid gray;text-align: left;'><pre>\n",
       "2</pre></td></tr></table>"
      ],
      "text/plain": [
       "<IPython.core.display.HTML object>"
      ]
     },
     "execution_count": 36,
     "metadata": {},
     "output_type": "execute_result"
    }
   ],
   "source": [
    "from exercises.fifoclass import exo_fifo\n",
    "exo_fifo.example()"
   ]
  },
  {
   "cell_type": "markdown",
   "metadata": {},
   "source": [
    "Students are then invited to write their code in a cell that initially could look like this&nbsp;:"
   ]
  },
  {
   "cell_type": "code",
   "execution_count": 37,
   "metadata": {},
   "outputs": [],
   "source": [
    "# write your code in this cell\n",
    "class Fifo:\n",
    "    def __init__(self):\n",
    "        pass\n",
    "    def __len__(self):\n",
    "        pass\n",
    "    def incoming(self, obj):\n",
    "        pass\n",
    "    def outgoing(self):\n",
    "        pass"
   ]
  },
  {
   "cell_type": "markdown",
   "metadata": {},
   "source": [
    "Then she changes it, let's imagine the outcome is this attempt - which is broken on purpose&nbsp;:"
   ]
  },
  {
   "cell_type": "code",
   "execution_count": 38,
   "metadata": {},
   "outputs": [],
   "source": [
    "# code is BROKEN ON PURPOSE\n",
    "\n",
    "# write your code in this cell\n",
    "class Fifo:\n",
    "    def __init__(self):\n",
    "        self.items = []\n",
    "    def incoming(self, obj):\n",
    "        self.items.append(obj)\n",
    "    def outgoing(self):\n",
    "        if len(self.items)%2 == 0:\n",
    "            raise Exception(f\"even length ->{self.items.pop()}\")\n",
    "        return self.items.pop()"
   ]
  },
  {
   "cell_type": "markdown",
   "metadata": {},
   "source": [
    "Then she can evaluate this correction cell"
   ]
  },
  {
   "cell_type": "code",
   "execution_count": 40,
   "metadata": {},
   "outputs": [
    {
     "data": {
      "text/html": [
       "<table style='font-family:monospace;font-size:small;margin: 10px;'><tr style='font-family:monospace;font-size:medium;border-top:2px double black; '><th colspan='4' style='text-align:center'><pre>Scénario 1</pre></th></tr><tr style='border-top:1px solid gray; border-bottom:2px solid gray;'><th style='text-align: left;'><pre>Appel</pre></th><th style='text-align: left;'><pre>Attendu</pre></th><th style='text-align: left;'><pre>Obtenu</pre></th><th style='text-align: left;'><pre></pre></th></tr><tr style='background-color:#efd6d6;border-bottom:1px solid gray;'><td><pre>X = Fifo(); X</pre></td><td style='border-left:3px solid gray;text-align: left;'><pre 'style=font-size:0;'>&lt;exercises.fifoclass.Fifo object at 0x1162272e8&gt;</pre></td><td style='border-left:1px solid gray;text-align: left;'><pre 'style=font-size:0;'>&lt;__main__.Fifo object at 0x116227a90&gt;</pre></td><td style='border-left:3px solid gray;'><pre>KO</pre></td></tr><tr style='background-color:#d6e9ce;border-bottom:1px dotted gray;'><td><pre 'style=font-size:50;'>X.incoming(1)</pre></td><td style='border-left:3px solid gray;text-align: left;'><pre>\n",
       "None</pre></td><td style='border-left:1px solid gray;text-align: left;'><pre>\n",
       "None</pre></td><td style='border-left:3px solid gray;'><pre>OK</pre></td></tr><tr style='background-color:#d6e9ce;border-bottom:1px dotted gray;'><td><pre 'style=font-size:50;'>X.incoming(2)</pre></td><td style='border-left:3px solid gray;text-align: left;'><pre>\n",
       "None</pre></td><td style='border-left:1px solid gray;text-align: left;'><pre>\n",
       "None</pre></td><td style='border-left:3px solid gray;'><pre>OK</pre></td></tr><tr style='background-color:#efd6d6;border-bottom:1px dotted gray;'><td><pre 'style=font-size:50;'>X</pre></td><td style='border-left:3px solid gray;text-align: left;'><pre>\n",
       "<exercises.fifoclass.Fifo object at 0x1162272e8></pre></td><td style='border-left:1px solid gray;text-align: left;'><pre>\n",
       "<__main__.Fifo object at 0x116227a90></pre></td><td style='border-left:3px solid gray;'><pre>KO</pre></td></tr><tr style='background-color:#efd6d6;border-bottom:1px dotted gray;'><td><pre 'style=font-size:50;'>X.outgoing()</pre></td><td style='border-left:3px solid gray;text-align: left;'><pre>\n",
       "1</pre></td><td style='border-left:1px solid gray;text-align: left;'><pre>\n",
       "('Exception even length '\n",
       " '->2')</pre></td><td style='border-left:3px solid gray;'><pre>KO</pre></td></tr><tr style='background-color:#d6e9ce;border-bottom:1px dotted gray;'><td><pre 'style=font-size:50;'>X.incoming(3)</pre></td><td style='border-left:3px solid gray;text-align: left;'><pre>\n",
       "None</pre></td><td style='border-left:1px solid gray;text-align: left;'><pre>\n",
       "None</pre></td><td style='border-left:3px solid gray;'><pre>OK</pre></td></tr><tr style='background-color:#d6e9ce;border-bottom:1px dotted gray;'><td><pre 'style=font-size:50;'>X.incoming(4)</pre></td><td style='border-left:3px solid gray;text-align: left;'><pre>\n",
       "None</pre></td><td style='border-left:1px solid gray;text-align: left;'><pre>\n",
       "None</pre></td><td style='border-left:3px solid gray;'><pre>OK</pre></td></tr><tr style='background-color:#efd6d6;border-bottom:1px dotted gray;'><td><pre 'style=font-size:50;'>X.outgoing()</pre></td><td style='border-left:3px solid gray;text-align: left;'><pre>\n",
       "2</pre></td><td style='border-left:1px solid gray;text-align: left;'><pre>\n",
       "4</pre></td><td style='border-left:3px solid gray;'><pre>KO</pre></td></tr><tr style='background-color:#efd6d6;border-bottom:1px dotted gray;'><td><pre 'style=font-size:50;'>len(X)</pre></td><td style='border-left:3px solid gray;text-align: left;'><pre>\n",
       "2</pre></td><td style='border-left:1px solid gray;text-align: left;'><pre>\n",
       "('Exception object of '\n",
       " \"type 'Fifo' has no \"\n",
       " 'len()')</pre></td><td style='border-left:3px solid gray;'><pre>KO</pre></td></tr><tr style='font-family:monospace;font-size:medium;border-top:2px double black; '><th colspan='4' style='text-align:center'><pre>Scénario 2</pre></th></tr><tr style='border-top:1px solid gray; border-bottom:2px solid gray;'><th style='text-align: left;'><pre>Appel</pre></th><th style='text-align: left;'><pre>Attendu</pre></th><th style='text-align: left;'><pre>Obtenu</pre></th><th style='text-align: left;'><pre></pre></th></tr><tr style='background-color:#efd6d6;border-bottom:1px solid gray;'><td><pre>X = Fifo(); X</pre></td><td style='border-left:3px solid gray;text-align: left;'><pre 'style=font-size:0;'>&lt;exercises.fifoclass.Fifo object at 0x116223320&gt;</pre></td><td style='border-left:1px solid gray;text-align: left;'><pre 'style=font-size:0;'>&lt;__main__.Fifo object at 0x1162235c0&gt;</pre></td><td style='border-left:3px solid gray;'><pre>KO</pre></td></tr><tr style='background-color:#efd6d6;border-bottom:1px dotted gray;'><td><pre 'style=font-size:50;'>X.outgoing()</pre></td><td style='border-left:3px solid gray;text-align: left;'><pre>\n",
       "None</pre></td><td style='border-left:1px solid gray;text-align: left;'><pre>\n",
       "('Exception pop from '\n",
       " 'empty list')</pre></td><td style='border-left:3px solid gray;'><pre>KO</pre></td></tr><tr style='background-color:#d6e9ce;border-bottom:1px dotted gray;'><td><pre 'style=font-size:50;'>X.incoming(1)</pre></td><td style='border-left:3px solid gray;text-align: left;'><pre>\n",
       "None</pre></td><td style='border-left:1px solid gray;text-align: left;'><pre>\n",
       "None</pre></td><td style='border-left:3px solid gray;'><pre>OK</pre></td></tr><tr style='background-color:#d6e9ce;border-bottom:1px dotted gray;'><td><pre 'style=font-size:50;'>X.incoming(2)</pre></td><td style='border-left:3px solid gray;text-align: left;'><pre>\n",
       "None</pre></td><td style='border-left:1px solid gray;text-align: left;'><pre>\n",
       "None</pre></td><td style='border-left:3px solid gray;'><pre>OK</pre></td></tr><tr style='background-color:#d6e9ce;border-bottom:1px dotted gray;'><td><pre 'style=font-size:50;'>X.incoming(3)</pre></td><td style='border-left:3px solid gray;text-align: left;'><pre>\n",
       "None</pre></td><td style='border-left:1px solid gray;text-align: left;'><pre>\n",
       "None</pre></td><td style='border-left:3px solid gray;'><pre>OK</pre></td></tr><tr style='background-color:#d6e9ce;border-bottom:1px dotted gray;'><td><pre 'style=font-size:50;'>X.incoming(4)</pre></td><td style='border-left:3px solid gray;text-align: left;'><pre>\n",
       "None</pre></td><td style='border-left:1px solid gray;text-align: left;'><pre>\n",
       "None</pre></td><td style='border-left:3px solid gray;'><pre>OK</pre></td></tr><tr style='background-color:#efd6d6;border-bottom:1px dotted gray;'><td><pre 'style=font-size:50;'>X.outgoing()</pre></td><td style='border-left:3px solid gray;text-align: left;'><pre>\n",
       "1</pre></td><td style='border-left:1px solid gray;text-align: left;'><pre>\n",
       "('Exception even length '\n",
       " '->4')</pre></td><td style='border-left:3px solid gray;'><pre>KO</pre></td></tr></table>"
      ],
      "text/plain": [
       "<IPython.core.display.HTML object>"
      ]
     },
     "execution_count": 40,
     "metadata": {},
     "output_type": "execute_result"
    }
   ],
   "source": [
    "exo_fifo.correction(Fifo)"
   ]
  },
  {
   "cell_type": "markdown",
   "metadata": {},
   "source": [
    "*********"
   ]
  },
  {
   "cell_type": "markdown",
   "metadata": {},
   "source": [
    "### Under the hood"
   ]
  },
  {
   "cell_type": "markdown",
   "metadata": {},
   "source": [
    "as always, the python code here can be seen below:"
   ]
  },
  {
   "cell_type": "code",
   "execution_count": 7,
   "metadata": {},
   "outputs": [
    {
     "name": "stdout",
     "output_type": "stream",
     "text": [
      "# -*- coding: utf-8 -*-\r\n",
      "\r\n",
      "\r\n",
      "# provide a workable class\r\n",
      "\r\n",
      "####################\r\n",
      "class Fifo:\r\n",
      "\r\n",
      "    def __init__(self):\r\n",
      "        self.items = []\r\n",
      "\r\n",
      "    def __repr__(self):\r\n",
      "        contents = \", \".join(f\"{i}\" for i in self.items)\r\n",
      "        return f\"<Fifo [{contents}]>\"\r\n",
      "\r\n",
      "    def incoming(self, incoming):\r\n",
      "        self.items.append(incoming)\r\n",
      "\r\n",
      "    def outgoing(self):\r\n",
      "        if len(self.items) == 0:\r\n",
      "            return None\r\n",
      "        return self.items.pop(0)\r\n",
      "    \r\n",
      "    def __len__(self):\r\n",
      "        return len(self.items)\r\n",
      "\r\n",
      "\r\n",
      "\r\n",
      "# create an exercise instance\r\n",
      "\r\n",
      "from nbautoeval.exercise_class import ExerciseClass, ClassScenario, ClassExpression\r\n",
      "from nbautoeval.args import Args\r\n",
      "\r\n",
      "scenario1 = ClassScenario(\r\n",
      "    # arguments to the constructor\r\n",
      "    Args(),\r\n",
      "    # a list of expressions, with \r\n",
      "    # INSTANCE and CLASS replaced as appropriate\r\n",
      "    ClassExpression(\"INSTANCE.incoming(1)\"),\r\n",
      "    ClassExpression(\"INSTANCE.incoming(2)\"),\r\n",
      "    ClassExpression(\"INSTANCE.outgoing()\"),\r\n",
      "    ClassExpression(\"INSTANCE.incoming(3)\"),\r\n",
      "    ClassExpression(\"INSTANCE.incoming(4)\"),\r\n",
      "    ClassExpression(\"INSTANCE.outgoing()\"),\r\n",
      "    ClassExpression(\"len(INSTANCE)\"),\r\n",
      ")\r\n",
      "\r\n",
      "scenario2 = ClassScenario(\r\n",
      "    Args(),\r\n",
      "    \"INSTANCE.outgoing()\",\r\n",
      "    \"INSTANCE.incoming(1)\",\r\n",
      "    \"INSTANCE.incoming(2)\",\r\n",
      "    \"INSTANCE.incoming(3)\",\r\n",
      "    \"INSTANCE.incoming(4)\",\r\n",
      "    \"INSTANCE.outgoing()\",\r\n",
      ")    \r\n",
      "\r\n",
      "exo_fifo = ExerciseClass (Fifo, [scenario1, scenario2],\r\n",
      "                          layout='pprint')\r\n",
      "\r\n",
      "if __name__ == '__main__':\r\n",
      "    exo_fifo.correction(Fifo)\r\n",
      "\r\n"
     ]
    }
   ],
   "source": [
    "%cat ../exercises/fifoclass.py"
   ]
  },
  {
   "cell_type": "markdown",
   "metadata": {},
   "source": [
    "*****"
   ]
  },
  {
   "cell_type": "markdown",
   "metadata": {},
   "source": [
    "## a property-based class"
   ]
  },
  {
   "cell_type": "markdown",
   "metadata": {},
   "source": [
    "### assignment"
   ]
  },
  {
   "cell_type": "markdown",
   "metadata": {},
   "source": [
    "students are requested to write a `Gauge` class that has a single `x` attribute that is guaranteed to be **between 0 and 100**; any attempt to set it otherwise should result in the attribute being set to 0 or 100, whichever is closest to the intended value."
   ]
  },
  {
   "cell_type": "markdown",
   "metadata": {},
   "source": [
    "### workflow"
   ]
  },
  {
   "cell_type": "markdown",
   "metadata": {},
   "source": [
    "this is quite similar but we need to write **statements** instead of just expressions\n",
    "\n",
    "* statements can be specified by creating a `ClassStep` object with the `statement=True` parameter\n",
    "* statements are run with `exec()` instead of `eval()`, and so it does not make sense to compare the behaviour of the student's class with the reference class; a following expression should be used to check for compliance"
   ]
  },
  {
   "cell_type": "code",
   "execution_count": 13,
   "metadata": {},
   "outputs": [
    {
     "data": {
      "text/html": [
       "<table style='font-family:monospace;font-size:small;margin: 10px;'><tr style='font-family:monospace;font-size:medium;border-top:2px double black; '><th colspan='4' style='text-align: center;'><pre>Scénario 1</pre></th></tr><tr style='border-top:1px solid gray; border-bottom:2px solid gray;'><th><pre>Appel</pre></th><th><pre>Attendu</pre></th></tr><tr style='border-bottom:1px solid gray;'><td><pre>gauge = Gauge(10); gauge</pre></td><td style='border-left:3px solid gray;text-align: left;'><pre>10</pre></td></tr><tr style='border-bottom:1px dotted gray;'><td><pre 'style=font-size:50;'>gauge.x = 50; gauge</pre></td><td style='border-left:3px solid gray;text-align: left;'><pre 'style=font-size:25;'>50</pre></td></tr><tr style='border-bottom:1px dotted gray;'><td><pre 'style=font-size:50;'>gauge.x = 2000; gauge</pre></td><td style='border-left:3px solid gray;text-align: left;'><pre 'style=font-size:25;'>100</pre></td></tr></table>"
      ],
      "text/plain": [
       "<IPython.core.display.HTML object>"
      ]
     },
     "execution_count": 13,
     "metadata": {},
     "output_type": "execute_result"
    }
   ],
   "source": [
    "from exercises.gaugeclass import exo_gauge\n",
    "exo_gauge.example()"
   ]
  },
  {
   "cell_type": "code",
   "execution_count": 14,
   "metadata": {},
   "outputs": [],
   "source": [
    "# this class is broken too\n",
    "class Gauge:\n",
    "    \n",
    "    def __init__(self, x):\n",
    "        self.x = x\n",
    "        \n",
    "    def __repr__(self):\n",
    "        return f\"{self.x}\""
   ]
  },
  {
   "cell_type": "code",
   "execution_count": 15,
   "metadata": {},
   "outputs": [
    {
     "data": {
      "text/html": [
       "<table style='font-family:monospace;font-size:small;margin: 10px;'><tr style='font-family:monospace;font-size:medium;border-top:2px double black; '><th colspan='4' style='text-align:center'><pre>Scénario 1</pre></th></tr><tr style='border-top:1px solid gray; border-bottom:2px solid gray;'><th style='text-align: left;'><pre>Appel</pre></th><th style='text-align: left;'><pre>Attendu</pre></th><th style='text-align: left;'><pre>Obtenu</pre></th><th style='text-align: left;'><pre></pre></th></tr><tr style='background-color:#d6e9ce;border-bottom:1px solid gray;'><td><pre>gauge = Gauge(10); gauge</pre></td><td style='border-left:3px solid gray;text-align: left;'><pre>10</pre></td><td style='border-left:1px solid gray;text-align: left;'><pre>10</pre></td><td style='border-left:3px solid gray;'><pre>OK</pre></td></tr><tr style='background-color:#d6e9ce;border-bottom:1px dotted gray;'><td><pre 'style=font-size:50;'>gauge.x = 50; gauge</pre></td><td style='border-left:3px solid gray;text-align: left;'><pre 'style=font-size:25;'>50</pre></td><td style='border-left:1px solid gray;text-align: left;'><pre 'style=font-size:25;'>50</pre></td><td style='border-left:3px solid gray;'><pre>OK</pre></td></tr><tr style='background-color:#efd6d6;border-bottom:1px dotted gray;'><td><pre 'style=font-size:50;'>gauge.x = 2000; gauge</pre></td><td style='border-left:3px solid gray;text-align: left;'><pre 'style=font-size:25;'>100</pre></td><td style='border-left:1px solid gray;text-align: left;'><pre 'style=font-size:25;'>2000</pre></td><td style='border-left:3px solid gray;'><pre>KO</pre></td></tr><tr style='font-family:monospace;font-size:medium;border-top:2px double black; '><th colspan='4' style='text-align:center'><pre>Scénario 2</pre></th></tr><tr style='border-top:1px solid gray; border-bottom:2px solid gray;'><th style='text-align: left;'><pre>Appel</pre></th><th style='text-align: left;'><pre>Attendu</pre></th><th style='text-align: left;'><pre>Obtenu</pre></th><th style='text-align: left;'><pre></pre></th></tr><tr style='background-color:#efd6d6;border-bottom:1px solid gray;'><td><pre>gauge = Gauge(1000); gauge</pre></td><td style='border-left:3px solid gray;text-align: left;'><pre>100</pre></td><td style='border-left:1px solid gray;text-align: left;'><pre>1000</pre></td><td style='border-left:3px solid gray;'><pre>KO</pre></td></tr><tr style='background-color:#efd6d6;border-bottom:1px dotted gray;'><td><pre 'style=font-size:50;'>gauge.x = -1000; gauge</pre></td><td style='border-left:3px solid gray;text-align: left;'><pre 'style=font-size:25;'>0</pre></td><td style='border-left:1px solid gray;text-align: left;'><pre 'style=font-size:25;'>-1000</pre></td><td style='border-left:3px solid gray;'><pre>KO</pre></td></tr></table>"
      ],
      "text/plain": [
       "<IPython.core.display.HTML object>"
      ]
     },
     "execution_count": 15,
     "metadata": {},
     "output_type": "execute_result"
    }
   ],
   "source": [
    "exo_gauge.correction(Gauge)"
   ]
  },
  {
   "cell_type": "markdown",
   "metadata": {},
   "source": [
    "### under the hood"
   ]
  },
  {
   "cell_type": "code",
   "execution_count": 11,
   "metadata": {},
   "outputs": [
    {
     "name": "stdout",
     "output_type": "stream",
     "text": [
      "# -*- coding: utf-8 -*-\r\n",
      "# \r\n",
      "# a very small class with a property\r\n",
      "# \r\n",
      "\r\n",
      "MIN = 0\r\n",
      "MAX = 100\r\n",
      "\r\n",
      "class Gauge:\r\n",
      "    \r\n",
      "    def __init__(self, x):\r\n",
      "        self.x = x\r\n",
      "        \r\n",
      "    def _get_x(self):\r\n",
      "        return self._x\r\n",
      "    \r\n",
      "    def _set_x(self, x):\r\n",
      "        self._x = min(MAX, max(MIN, x))\r\n",
      "        \r\n",
      "    x = property(_get_x, _set_x)\r\n",
      "    \r\n",
      "    def __repr__(self):\r\n",
      "        return f\"{self._x}\"\r\n",
      "\r\n",
      "\r\n",
      "# create an exercise instance\r\n",
      "\r\n",
      "from nbautoeval.exercise_class import (\r\n",
      "    ExerciseClass, ClassScenario, ClassExpression, ClassStatement)\r\n",
      "from nbautoeval.args import Args\r\n",
      "\r\n",
      "scenario1 = ClassScenario(\r\n",
      "    # arguments to the constructor\r\n",
      "    Args(10),\r\n",
      "    # statements need to be tagged as such \r\n",
      "    ClassStatement(\"INSTANCE.x = 50\"),\r\n",
      "    ClassStatement(\"INSTANCE.x = 2000\"),\r\n",
      ")\r\n",
      "\r\n",
      "scenario2 = ClassScenario(\r\n",
      "    # arguments to the constructor\r\n",
      "    Args(1000),\r\n",
      "    # note that a str object passed here is actually\r\n",
      "    # used to create a ClassExpression object\r\n",
      "    ClassStatement(\"INSTANCE.x = -1000\"),\r\n",
      ")\r\n",
      "\r\n",
      "\r\n",
      "exo_gauge = ExerciseClass(\r\n",
      "    Gauge, [scenario1, scenario2],\r\n",
      "    obj_name = \"gauge\",\r\n",
      "    )\r\n",
      "\r\n",
      "if __name__ == '__main__':\r\n",
      "    exo_gauge.example()\r\n",
      "    exo_gauge.correction(Gauge)\r\n",
      "\r\n"
     ]
    }
   ],
   "source": [
    "!cat ../exercises/gaugeclass.py"
   ]
  }
 ],
 "metadata": {
  "kernelspec": {
   "display_name": "Python 3",
   "language": "python",
   "name": "python3"
  },
  "language_info": {
   "codemirror_mode": {
    "name": "ipython",
    "version": 3
   },
   "file_extension": ".py",
   "mimetype": "text/x-python",
   "name": "python",
   "nbconvert_exporter": "python",
   "pygments_lexer": "ipython3",
   "version": "3.7.3"
  },
  "notebookname": "NO HEADING 1 found",
  "version": "1.0"
 },
 "nbformat": 4,
 "nbformat_minor": 1
}
