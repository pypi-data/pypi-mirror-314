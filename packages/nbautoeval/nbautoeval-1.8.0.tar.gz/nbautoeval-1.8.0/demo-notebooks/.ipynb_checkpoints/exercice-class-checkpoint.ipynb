{
 "cells": [
  {
   "cell_type": "markdown",
   "metadata": {},
   "source": [
    "Je simule un exercice débile, on demande aux étudiants d'écrire une classe `Fifo`\n",
    "    \n",
    "qui implémente \n",
    "* un constructeur `Fifo()`\n",
    "* une méthode `incoming(obj)`\n",
    "* une méthode `outgoing()`\n",
    "\n",
    "qui rende simplement les objets dans le même ordre où ils ont été rangés"
   ]
  },
  {
   "cell_type": "markdown",
   "metadata": {},
   "source": [
    "L'étudiant est invité à écrire son code dans la class `Fifo`;\n",
    "\n",
    "On lui propose en arrivant une cellule vide comme ceci"
   ]
  },
  {
   "cell_type": "code",
   "execution_count": 1,
   "metadata": {
    "collapsed": false
   },
   "outputs": [],
   "source": [
    "class Fifo(object):\n",
    "    def __init__(self):\n",
    "        pass\n",
    "    def incoming(self, obj):\n",
    "        pass\n",
    "    def outgoing(self):\n",
    "        pass"
   ]
  },
  {
   "cell_type": "markdown",
   "metadata": {},
   "source": [
    "Il la modifie, imaginons que ça donne cela"
   ]
  },
  {
   "cell_type": "code",
   "execution_count": 2,
   "metadata": {
    "collapsed": false
   },
   "outputs": [],
   "source": [
    "# cette classe est cassée exprès ...\n",
    "class Fifo(object):\n",
    "    def __init__(self):\n",
    "        self.items = []\n",
    "    def incoming(self, obj):\n",
    "        self.items.append(obj)\n",
    "    def outgoing(self):\n",
    "        if len(self.items)%2 == 0:\n",
    "            raise Exception(\"even length ->{}\".format(self.items.pop()))\n",
    "        return self.items.pop()\n",
    "    # et en option pour le debug\n",
    "    def __repr__(self):\n",
    "        return \"<StudentFifo [{}]>\".format(\" \".join([\"{}\".format(i) for i in self.items]))"
   ]
  },
  {
   "cell_type": "markdown",
   "metadata": {},
   "source": [
    "Et voici la cellule pour corriger "
   ]
  },
  {
   "cell_type": "code",
   "execution_count": 3,
   "metadata": {
    "collapsed": false
   },
   "outputs": [
    {
     "data": {
      "text/html": [
       "<table style='font-family:monospace;font-size:small;'><tr style='font-family:monospace;font-size:medium;'><th colspan='4' style='text-align:center'>Scénario 1</th></tr><tr><th>Appel</th><th>Attendu</th><th>Obtenu</th><th></th></tr><tr style='background-color:#d6e9ce;'><td>o=Fifo()</td><td>-</td><td>-</td><td>OK</td></tr><tr style='background-color:#d6e9ce;'><td>o.incoming(1)</td><td><pre>\n",
       "None</pre></td><td><pre>\n",
       "None</pre></td><td>OK</td></tr><tr style='background-color:#d6e9ce;'><td>o.incoming(2)</td><td><pre>\n",
       "None</pre></td><td><pre>\n",
       "None</pre></td><td>OK</td></tr><tr style='background-color:#efd6d6;'><td>o.outgoing()</td><td><pre>\n",
       "1</pre></td><td><pre>\n",
       "'Exception even length ->2'</pre></td><td>KO</td></tr><tr style='background-color:#d6e9ce;'><td>o.incoming(3)</td><td><pre>\n",
       "None</pre></td><td><pre>\n",
       "None</pre></td><td>OK</td></tr><tr style='background-color:#d6e9ce;'><td>o.incoming(4)</td><td><pre>\n",
       "None</pre></td><td><pre>\n",
       "None</pre></td><td>OK</td></tr><tr style='background-color:#efd6d6;'><td>o.outgoing()</td><td><pre>\n",
       "2</pre></td><td><pre>\n",
       "4</pre></td><td>KO</td></tr><tr style='background-color:#efd6d6;'><td>o.outgoing()</td><td><pre>\n",
       "3</pre></td><td><pre>\n",
       "'Exception even length ->3'</pre></td><td>KO</td></tr><tr style='font-family:monospace;font-size:medium;'><th colspan='4' style='text-align:center'>Scénario 2</th></tr><tr><th>Appel</th><th>Attendu</th><th>Obtenu</th><th></th></tr><tr style='background-color:#d6e9ce;'><td>o=Fifo()</td><td>-</td><td>-</td><td>OK</td></tr><tr style='background-color:#d6e9ce;'><td>o.incoming(1)</td><td><pre>\n",
       "None</pre></td><td><pre>\n",
       "None</pre></td><td>OK</td></tr><tr style='background-color:#d6e9ce;'><td>o.incoming(2)</td><td><pre>\n",
       "None</pre></td><td><pre>\n",
       "None</pre></td><td>OK</td></tr><tr style='background-color:#d6e9ce;'><td>o.incoming(3)</td><td><pre>\n",
       "None</pre></td><td><pre>\n",
       "None</pre></td><td>OK</td></tr><tr style='background-color:#d6e9ce;'><td>o.incoming(4)</td><td><pre>\n",
       "None</pre></td><td><pre>\n",
       "None</pre></td><td>OK</td></tr><tr style='background-color:#efd6d6;'><td>o.outgoing()</td><td><pre>\n",
       "1</pre></td><td><pre>\n",
       "'Exception even length ->4'</pre></td><td>KO</td></tr></table>"
      ],
      "text/plain": [
       "<IPython.core.display.HTML object>"
      ]
     },
     "execution_count": 3,
     "metadata": {},
     "output_type": "execute_result"
    }
   ],
   "source": [
    "from exercises.fifoclass import exo_fifo\n",
    "exo_fifo.correction(Fifo)"
   ]
  },
  {
   "cell_type": "code",
   "execution_count": 5,
   "metadata": {
    "collapsed": false
   },
   "outputs": [
    {
     "data": {
      "text/html": [
       "<table style='font-family:monospace;font-size:small;'><tr style='font-family:monospace;font-size:medium;'><th colspan='4' style='text-align:center'>Scénario 1</th></tr><tr><th>Appel</th><th>Attendu</th></tr><tr><td>o=Fifo()</td><td>-</td></tr><tr><td>o.incoming(1)</td><td><pre>\n",
       "None</pre></td></tr><tr><td>o.incoming(2)</td><td><pre>\n",
       "None</pre></td></tr><tr><td>o.outgoing()</td><td><pre>\n",
       "1</pre></td></tr><tr><td>o.incoming(3)</td><td><pre>\n",
       "None</pre></td></tr><tr><td>o.incoming(4)</td><td><pre>\n",
       "None</pre></td></tr><tr><td>o.outgoing()</td><td><pre>\n",
       "2</pre></td></tr><tr><td>o.outgoing()</td><td><pre>\n",
       "3</pre></td></tr></table>"
      ],
      "text/plain": [
       "<IPython.core.display.HTML object>"
      ]
     },
     "execution_count": 5,
     "metadata": {},
     "output_type": "execute_result"
    }
   ],
   "source": [
    "exo_fifo.example()"
   ]
  },
  {
   "cell_type": "markdown",
   "metadata": {},
   "source": [
    "*********"
   ]
  }
 ],
 "metadata": {
  "kernelspec": {
   "display_name": "Python 3",
   "language": "python",
   "name": "python3"
  },
  "language_info": {
   "codemirror_mode": {
    "name": "ipython",
    "version": 3
   },
   "file_extension": ".py",
   "mimetype": "text/x-python",
   "name": "python",
   "nbconvert_exporter": "python",
   "pygments_lexer": "ipython3",
   "version": "3.4.4"
  },
  "notebookname": "NO HEADING 1 found",
  "version": "1.0"
 },
 "nbformat": 4,
 "nbformat_minor": 0
}
