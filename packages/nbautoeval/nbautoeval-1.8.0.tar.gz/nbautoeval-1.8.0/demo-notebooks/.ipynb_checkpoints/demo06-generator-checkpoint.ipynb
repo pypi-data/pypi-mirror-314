{
 "cells": [
  {
   "cell_type": "markdown",
   "metadata": {
    "slideshow": {
     "slide_type": "slide"
    }
   },
   "source": [
    "## A sample generator exercise"
   ]
  },
  {
   "cell_type": "code",
   "execution_count": 16,
   "metadata": {},
   "outputs": [],
   "source": [
    "%load_ext autoreload\n",
    "%autoreload 2"
   ]
  },
  {
   "cell_type": "code",
   "execution_count": 17,
   "metadata": {},
   "outputs": [],
   "source": [
    "# just so that it runs smoothly under binder\n",
    "import sys\n",
    "sys.path.insert(0, '..')"
   ]
  },
  {
   "cell_type": "code",
   "execution_count": 18,
   "metadata": {},
   "outputs": [
    {
     "data": {
      "text/plain": [
       "['..',\n",
       " '..',\n",
       " '/Users/tparment/git/nbautoeval/demo-notebooks',\n",
       " '/Users/tparment/git/flotpython-course/modules',\n",
       " '/Users/tparment/git/flotpython-slides/modules',\n",
       " '/Users/tparment/miniconda3/lib/python37.zip',\n",
       " '/Users/tparment/miniconda3/lib/python3.7',\n",
       " '/Users/tparment/miniconda3/lib/python3.7/lib-dynload',\n",
       " '',\n",
       " '/Users/tparment/.local/lib/python3.7/site-packages',\n",
       " '/Users/tparment/miniconda3/lib/python3.7/site-packages',\n",
       " '/Users/tparment/miniconda3/lib/python3.7/site-packages/IPython/extensions',\n",
       " '/Users/tparment/.ipython',\n",
       " '..',\n",
       " '..']"
      ]
     },
     "execution_count": 18,
     "metadata": {},
     "output_type": "execute_result"
    }
   ],
   "source": [
    "sys.path"
   ]
  },
  {
   "cell_type": "code",
   "execution_count": 19,
   "metadata": {},
   "outputs": [],
   "source": [
    "from exercises.generator import squares"
   ]
  },
  {
   "cell_type": "code",
   "execution_count": 20,
   "metadata": {},
   "outputs": [],
   "source": [
    "from nbautoeval import ExerciseGenerator"
   ]
  },
  {
   "cell_type": "code",
   "execution_count": 21,
   "metadata": {},
   "outputs": [
    {
     "data": {
      "text/html": [
       "<table style='font-family:monospace;font-size:small;'><tr style='font-family:monospace;font-size:medium;'><th style='text-align: center;'><pre>Appel</pre></th><th style='text-align: center;'><pre>Resultat Attendu</pre></th></tr><tr><td><pre>solution(2)</pre></td><td style='text-align: left;border-left:3px solid gray;'><pre>\n",
       "TypeError('islice expected at least 2 arguments, got 1')</pre></td></tr></table>"
      ],
      "text/plain": [
       "<IPython.core.display.HTML object>"
      ]
     },
     "execution_count": 21,
     "metadata": {},
     "output_type": "execute_result"
    }
   ],
   "source": [
    "squares.example()"
   ]
  },
  {
   "cell_type": "code",
   "execution_count": null,
   "metadata": {},
   "outputs": [],
   "source": []
  }
 ],
 "metadata": {
  "jupytext": {
   "cell_metadata_filter": "all",
   "notebook_metadata_filter": "all,-language_info",
   "text_representation": {
    "extension": ".py",
    "format_name": "percent",
    "format_version": "1.2",
    "jupytext_version": "1.1.7"
   }
  },
  "kernelspec": {
   "display_name": "Python 3",
   "language": "python",
   "name": "python3"
  },
  "language_info": {
   "codemirror_mode": {
    "name": "ipython",
    "version": 3
   },
   "file_extension": ".py",
   "mimetype": "text/x-python",
   "name": "python",
   "nbconvert_exporter": "python",
   "pygments_lexer": "ipython3",
   "version": "3.7.3"
  }
 },
 "nbformat": 4,
 "nbformat_minor": 2
}
