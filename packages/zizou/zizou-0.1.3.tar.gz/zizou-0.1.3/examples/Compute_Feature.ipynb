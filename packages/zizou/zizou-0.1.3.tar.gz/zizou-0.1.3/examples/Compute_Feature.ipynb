{
 "cells": [
  {
   "cell_type": "markdown",
   "metadata": {},
   "source": [
    "# Compute and Request Features with VUMT"
   ]
  },
  {
   "cell_type": "markdown",
   "metadata": {},
   "source": [
    "## 1. Compute features "
   ]
  },
  {
   "cell_type": "code",
   "execution_count": null,
   "metadata": {},
   "outputs": [],
   "source": [
    "from zizou.dsar import DSAR\n",
    "from zizou.rsam import RSAM, EnergyExplainedByRSAM\n",
    "from zizou.ssam import SSAM\n",
    "from zizou.spectral_features import SpectralFeatures\n",
    "from zizou.data import DataSource, MockSDSWaveforms\n",
    "from obspy import UTCDateTime\n",
    "\n",
    "import numpy as np\n",
    "import os \n",
    "from tonik import Storage"
   ]
  },
  {
   "cell_type": "markdown",
   "metadata": {},
   "source": [
    "In this notebook, we will still be using our *mock* **DataSource** to generate data and compute **RSAM**. Once computed these features will be saved in a *hdf5* format to be queried later."
   ]
  },
  {
   "cell_type": "code",
   "execution_count": null,
   "metadata": {},
   "outputs": [],
   "source": [
    "\n",
    "# Instantiate DataSource \n",
    "mc = MockSDSWaveforms(sds_dir=\"/tmp/sds/seismic\")\n",
    "ds = DataSource(clients=[mc], chunk_size=86400)\n",
    "sg = Storage(\"Whakaari\", rootdir=\"/tmp/vumt/features\")\n",
    "site = \"WIZ\"\n",
    "sensor = \"10\"\n",
    "channel = \"HHZ\"\n",
    "store = sg.get_substore(site=site, sensor=sensor, channel=channel)\n",
    "\n",
    "# Instantiate Features \n",
    "rsam = RSAM(filtertype='bandpass', filterfreq=(1, 4.9))\n",
    "rsam_energy_prop = EnergyExplainedByRSAM(filterfreq_wb=(0.5, 4.99))\n",
    "ssam = SSAM(\n",
    "    frequencies=np.linspace(0, 4.99, 10),\n",
    "    timestamp=\"start\", \n",
    "    resample_int=(None, \"10min\")\n",
    ")\n",
    "dsar = DSAR(lowerfreqband=(0.1, 2.5), higherfreqband=(2.5, 4.99))\n",
    "spec = SpectralFeatures()\n",
    "\n",
    "feature_dir = \"/tmp/vumt/features/Whakaari/WIZ/HHZ\"\n",
    "if not os.path.isdir(feature_dir):\n",
    "    os.makedirs(feature_dir)\n",
    "    \n",
    "for tr in ds.get_waveforms(net=\"NZ\", site=site, loc=sensor, comp=channel, start=UTCDateTime(\"2024-05-01\"), end=UTCDateTime(\"2024-06-01\")):\n",
    "    print(tr)\n",
    "    for feat in (rsam, rsam_energy_prop, ssam, dsar, spec):\n",
    "        store.save(feat.compute(trace=tr))\n"
   ]
  },
  {
   "cell_type": "markdown",
   "metadata": {},
   "source": [
    "## 2. Request feature once computed"
   ]
  },
  {
   "cell_type": "code",
   "execution_count": null,
   "metadata": {},
   "outputs": [],
   "source": [
    "import datetime"
   ]
  },
  {
   "cell_type": "code",
   "execution_count": null,
   "metadata": {},
   "outputs": [],
   "source": [
    "starttime = datetime.datetime(2024, 5, 10)\n",
    "endtime = datetime.datetime(2024, 6, 1)\n",
    "\n",
    "sg.starttime = starttime\n",
    "sg.endtime = endtime\n",
    "store = sg.get_substore(site=site, sensor=sensor, channel=channel)\n",
    "rsam = store(\"rsam\")\n",
    "ssam = store(\"ssam\")\n",
    "print(rsam)"
   ]
  },
  {
   "cell_type": "markdown",
   "metadata": {},
   "source": [
    "## Plot requested data"
   ]
  },
  {
   "cell_type": "code",
   "execution_count": null,
   "metadata": {},
   "outputs": [],
   "source": [
    "import matplotlib.pyplot as plt \n",
    "fig, (ax1, ax2) = plt.subplots(2, 1, figsize=(12, 5), sharex=True)\n",
    "ax1.plot(rsam.coords[\"datetime\"], rsam.data)\n",
    "ax1.set_ylabel(\"RSAM\")\n",
    "ax2.imshow(ssam.data, extent=[rsam.coords[\"datetime\"][0].values, rsam.coords[\"datetime\"][-1].values, 0, 5])\n",
    "ax2.set_aspect(\"auto\")\n",
    "ax2.set_ylabel(\"SSAM\")"
   ]
  }
 ],
 "metadata": {
  "kernelspec": {
   "display_name": "vumt",
   "language": "python",
   "name": "python3"
  },
  "language_info": {
   "codemirror_mode": {
    "name": "ipython",
    "version": 3
   },
   "file_extension": ".py",
   "mimetype": "text/x-python",
   "name": "python",
   "nbconvert_exporter": "python",
   "pygments_lexer": "ipython3",
   "version": "3.9.19"
  }
 },
 "nbformat": 4,
 "nbformat_minor": 2
}
