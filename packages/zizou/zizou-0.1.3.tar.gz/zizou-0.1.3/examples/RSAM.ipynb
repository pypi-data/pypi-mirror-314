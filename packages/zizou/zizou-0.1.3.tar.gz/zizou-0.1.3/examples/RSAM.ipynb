{
 "cells": [
  {
   "cell_type": "code",
   "execution_count": null,
   "metadata": {},
   "outputs": [],
   "source": [
    "%matplotlib inline\n",
    "import logging\n",
    "import os\n",
    "\n",
    "import numpy as np\n",
    "from obspy import UTCDateTime\n",
    "import pandas as pd\n",
    "import xarray as xr\n",
    "\n",
    "from vumt.data import DataSource\n",
    "from vumt.rsam import rsam\n",
    "from ipywidgets import FloatProgress\n",
    "from IPython.display import display"
   ]
  },
  {
   "cell_type": "code",
   "execution_count": null,
   "metadata": {},
   "outputs": [],
   "source": [
    "def save_rsam(df, filename, tr):\n",
    "    xdf = df.to_xarray()\n",
    "    xdf = xdf.rename(dict(index='datetime'))\n",
    "    xdf.attrs['starttime'] = tr.stats.starttime.isoformat()\n",
    "    xdf.attrs['endtime'] = tr.stats.endtime.isoformat()\n",
    "    xdf.to_netcdf(filename)"
   ]
  },
  {
   "cell_type": "markdown",
   "metadata": {},
   "source": [
    "## Test RSAM on a single day"
   ]
  },
  {
   "cell_type": "code",
   "execution_count": null,
   "metadata": {},
   "outputs": [],
   "source": [
    "starttime = UTCDateTime(year=2013, julday=240)\n",
    "endtime = starttime + 86400.\n",
    "ds = DataSource(test=True)\n",
    "stream = 'WIZ.10.HHZ.NZ'\n",
    "outdir = '/scratch/VUMT/features/RSAM'\n",
    "\n",
    "site, loc, comp, net = stream.split('.')\n",
    "for tr in ds.get_waveforms(net, site, loc, comp,\n",
    "                      starttime, endtime):\n",
    "    start_dt = tr.stats.starttime.strftime('%Y%m%d%H%M%S')\n",
    "    end_dt = tr.stats.endtime.strftime('%Y%m%d%H%M%S')\n",
    "    fout = \"{}_{}_{}_rsam.nc\".format(start_dt,end_dt,stream.replace('.', '_'))\n",
    "    fout = os.path.join(outdir, fout)\n",
    "    df = rsam(tr, filtertype='bp', filterfreq=(2,5))\n",
    "    save_rsam(df, fout)"
   ]
  },
  {
   "cell_type": "code",
   "execution_count": null,
   "metadata": {},
   "outputs": [],
   "source": [
    "foo = xr.open_dataarray(fout)\n",
    "foo.to_pandas().plot()"
   ]
  },
  {
   "cell_type": "markdown",
   "metadata": {},
   "source": [
    "### Test on single days with gaps"
   ]
  },
  {
   "cell_type": "code",
   "execution_count": null,
   "metadata": {},
   "outputs": [],
   "source": [
    "starttime = UTCDateTime(2010, 8, 9, 0, 0, 0)\n",
    "endtime = starttime + 86400.\n",
    "stream = 'NZ.WIZ.10.HHZ'\n",
    "ds1 = DataSource()\n",
    "net, site, loc, comp = stream.split('.')\n",
    "for tr1 in ds1.get_waveforms(net, site, loc, comp, starttime, endtime):\n",
    "    df = rsam(tr1, filtertype='bp', filterfreq=(2,5))\n",
    "df.plot()"
   ]
  },
  {
   "cell_type": "code",
   "execution_count": null,
   "metadata": {},
   "outputs": [],
   "source": [
    "starttime = UTCDateTime(2010, 11, 26, 0, 0, 0)\n",
    "endtime = starttime + 86400.\n",
    "for tr2 in ds1.get_waveforms(net, site, loc, comp, starttime, endtime):\n",
    "    df = rsam(tr2, filtertype='bp', filterfreq=(2,5), interval=3600.)\n",
    "df.plot()"
   ]
  },
  {
   "cell_type": "markdown",
   "metadata": {},
   "source": [
    "## Computer RSAM for 39 days"
   ]
  },
  {
   "cell_type": "code",
   "execution_count": null,
   "metadata": {},
   "outputs": [],
   "source": [
    "ds1 = DataSource(test=True)\n",
    "starttime = UTCDateTime(year=2013, julday=240)\n",
    "endtime = UTCDateTime(year=2013, julday=279)\n",
    "chunk_size = 86400.\n",
    "rs = []\n",
    "max_value = (endtime - starttime)/chunk_size\n",
    "f = FloatProgress(min=0, max=max_value)\n",
    "display(f)\n",
    "\n",
    "i = 0\n",
    "for tr in ds1.get_waveforms('NZ', 'WIZ', '10', 'HHZ', starttime, endtime,\n",
    "                            chunk_size=chunk_size):\n",
    "    rs.append(rsam(tr, filtertype='bp', filterfreq=(2,5)))\n",
    "    i += 1\n",
    "    f.value = i"
   ]
  },
  {
   "cell_type": "code",
   "execution_count": null,
   "metadata": {},
   "outputs": [],
   "source": [
    "rs_df = pd.concat(rs)\n",
    "rs_df.plot()"
   ]
  },
  {
   "cell_type": "markdown",
   "metadata": {},
   "source": [
    "## The whole dataset"
   ]
  },
  {
   "cell_type": "code",
   "execution_count": null,
   "metadata": {},
   "outputs": [],
   "source": [
    "ds2 = DataSource(test=False)\n",
    "starttime = UTCDateTime(year=2001, julday=1)\n",
    "endtime = UTCDateTime(year=2019, julday=248)\n",
    "chunk_size = 86400.\n",
    "streams = ['WIZ.10.HHZ.NZ', 'WSRZ.10.HHZ.NZ', 'KRVZ.10.EHZ.NZ']\n",
    "outdir = '/scratch/VUMT/features/RSAM'\n",
    "\n",
    "for stream in streams[2:]:\n",
    "    site, loc, comp, net = stream.split('.')\n",
    "    max_value = (endtime - starttime)/chunk_size\n",
    "    logging.basicConfig(filename=site+'_rsam.log', level=logging.DEBUG)\n",
    "    f = FloatProgress(min=0, max=max_value)\n",
    "    display(f)\n",
    "    i = 0\n",
    "    st = starttime\n",
    "    try:\n",
    "        for tr in ds2.get_waveforms(net, site, loc, comp, starttime, endtime,\n",
    "                                    chunk_size=chunk_size):\n",
    "            try:\n",
    "                startdate = st.strftime('%Y%m%d')\n",
    "                fout = \"{}_{}.nc\".format(startdate, site)\n",
    "                fout = os.path.join(outdir, site, fout)\n",
    "                df = rsam(tr, filtertype='bp', filterfreq=(2,5))\n",
    "                save_rsam(df, fout)\n",
    "            except Exception as e:\n",
    "                logging.debug(e)\n",
    "                logging.debug(starttime)\n",
    "            st += chunk_size\n",
    "            i += 1\n",
    "            f.value = i\n",
    "    except Exception as e:\n",
    "        logging.debug(st)\n",
    "        logging.debug(e)"
   ]
  },
  {
   "cell_type": "code",
   "execution_count": null,
   "metadata": {},
   "outputs": [],
   "source": []
  }
 ],
 "metadata": {
  "kernelspec": {
   "display_name": "vumt",
   "language": "python",
   "name": "vumt"
  },
  "language_info": {
   "codemirror_mode": {
    "name": "ipython",
    "version": 3
   },
   "file_extension": ".py",
   "mimetype": "text/x-python",
   "name": "python",
   "nbconvert_exporter": "python",
   "pygments_lexer": "ipython3",
   "version": "3.6.7"
  }
 },
 "nbformat": 4,
 "nbformat_minor": 4
}
