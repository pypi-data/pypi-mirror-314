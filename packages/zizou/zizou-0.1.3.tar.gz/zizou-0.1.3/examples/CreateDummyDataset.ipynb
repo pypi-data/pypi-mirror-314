{
 "cells": [
  {
   "cell_type": "code",
   "execution_count": null,
   "metadata": {},
   "outputs": [],
   "source": [
    "from zizou.data import MockSDSWaveforms"
   ]
  },
  {
   "cell_type": "code",
   "execution_count": null,
   "metadata": {},
   "outputs": [],
   "source": [
    "sds_dir = \"/tmp/sds/seismic\"\n",
    "waveform_gen = MockSDSWaveforms(sds_dir=sds_dir)"
   ]
  },
  {
   "cell_type": "code",
   "execution_count": null,
   "metadata": {},
   "outputs": [],
   "source": [
    "#waveform_gen.generate_dataset(\n",
    "#    rootdir=sds_dir, net=\"NZ\", site=\"WIZ\", loc=\"10\", comp=\"HHZ\", start=\"2024-05-01\", end=\"2024-05-20\"\n",
    "#)\n",
    "from obspy import UTCDateTime\n",
    "st = waveform_gen.get_waveforms(net=\"NZ\", site=\"WIZ\", loc=\"10\", comp=\"HHZ\", startdate=UTCDateTime(\"2024-05-01\"), enddate=UTCDateTime(\"2024-06-01\"))\n",
    "print(st)"
   ]
  },
  {
   "cell_type": "code",
   "execution_count": null,
   "metadata": {},
   "outputs": [],
   "source": [
    "from obspy.clients.filesystem.sds import Client as SDS_Client\n",
    "from obspy import UTCDateTime\n",
    "client = SDS_Client(sds_dir)\n",
    "st = client.get_waveforms(\"NZ\", \"WIZ\", \"10\", \"HHZ\", UTCDateTime(\"2024-05-01\"), UTCDateTime(\"2024-06-01\"))\n",
    "_ = st.plot()"
   ]
  }
 ],
 "metadata": {
  "kernelspec": {
   "display_name": "vumt",
   "language": "python",
   "name": "python3"
  },
  "language_info": {
   "codemirror_mode": {
    "name": "ipython",
    "version": 3
   },
   "file_extension": ".py",
   "mimetype": "text/x-python",
   "name": "python",
   "nbconvert_exporter": "python",
   "pygments_lexer": "ipython3",
   "version": "3.9.19"
  }
 },
 "nbformat": 4,
 "nbformat_minor": 2
}
