{
 "cells": [
  {
   "cell_type": "code",
   "execution_count": 2,
   "metadata": {},
   "outputs": [
    {
     "name": "stderr",
     "output_type": "stream",
     "text": [
      "2024-06-07 17:15:35.750152: I tensorflow/core/platform/cpu_feature_guard.cc:210] This TensorFlow binary is optimized to use available CPU instructions in performance-critical operations.\n",
      "To enable the following instructions: AVX2 AVX512F FMA, in other operations, rebuild TensorFlow with the appropriate compiler flags.\n",
      "2024-06-07 17:15:40.279248: W tensorflow/compiler/tf2tensorrt/utils/py_utils.cc:38] TF-TRT Warning: Could not find TensorRT\n",
      "/home/sapthala/miniforge/envs/vumt/lib/python3.9/site-packages/tqdm/auto.py:21: TqdmWarning: IProgress not found. Please update jupyter and ipywidgets. See https://ipywidgets.readthedocs.io/en/stable/user_install.html\n",
      "  from .autonotebook import tqdm as notebook_tqdm\n"
     ]
    }
   ],
   "source": [
    "from vumt.data import DataSource, FeatureRequest\n",
    "import os\n",
    "from vumt import rsam\n",
    "from obspy import UTCDateTime, Trace\n",
    "import xarray as xr\n",
    "import pandas as pd\n",
    "\n",
    "#Test: for developing autoencoder and encoding space for classification using RF\n",
    "import numpy as np\n",
    "import pandas as pd\n",
    "import tensorflow as tf\n",
    "from tensorflow.keras.models import Model\n",
    "from tensorflow.keras.layers import Input, Dense\n",
    "from sklearn.ensemble import RandomForestClassifier\n",
    "from sklearn.model_selection import train_test_split\n",
    "from sklearn.metrics import accuracy_score\n",
    "import shap\n",
    "import matplotlib.pyplot as plt\n",
    "\n",
    "#for running the autoencoder and fussy clustering from VUMPT (pytorch develoment): \n",
    "from vumt import autoencoder\n"
   ]
  },
  {
   "cell_type": "markdown",
   "metadata": {},
   "source": [
    "###Just testing data but not using WIZ data with the autoencoder "
   ]
  },
  {
   "cell_type": "code",
   "execution_count": 2,
   "metadata": {},
   "outputs": [],
   "source": [
    "#To access features via API (RC1 container is running): \n",
    "#at the moment only WIZ data available via RC1\n",
    "#example of accessing rsam data via APIendpoint\n",
    "#diffrent available features: \n",
    "# features = ('dsar', 'rsam', 'ssam', 'rsam_energy_prop',\n",
    "#                 'central_freq', 'bandwidth', 'predom_freq',\n",
    "#                 'sonogram', 'filterbank')\n",
    "#example a data request:\n",
    "feature=\"rsam\"\n",
    "starttime=\"2019-12-01T00:00:00\"\n",
    "endtime=\"2019-12-31T00:00:00\"\n",
    "volcano=\"Whakaari\"\n",
    "site=\"WIZ\"\n",
    "url = f\"http://kaizen.gns.cri.nz:9157/feature?name={feature}&starttime={starttime}&endtime={endtime}&volcano={volcano}&site={site}\"\n",
    "rsamDF = pd.read_csv(url, parse_dates=True, index_col=0)"
   ]
  },
  {
   "cell_type": "code",
   "execution_count": 9,
   "metadata": {},
   "outputs": [],
   "source": [
    "#get few feature data\n",
    "starttime=\"2019-12-01T00:00:00\"\n",
    "endtime=\"2019-12-31T00:00:00\"\n",
    "volcano=\"Whakaari\"\n",
    "site=\"WIZ\"\n",
    "#rsam\n",
    "rsam=\"rsam\"\n",
    "url1 = f\"http://kaizen.gns.cri.nz:9157/feature?name={rsam}&starttime={starttime}&endtime={endtime}&volcano={volcano}&site={site}\"\n",
    "rsamDF = pd.read_csv(url1, parse_dates=True, index_col=0)\n",
    "# #ssam\n",
    "# ssam=\"ssam\"\n",
    "# url2 = f\"http://kaizen.gns.cri.nz:9158/feature?name={ssam}&starttime={starttime}&endtime={endtime}&volcano={volcano}&site={site}\"\n",
    "# ssamDF = pd.read_csv(url2, parse_dates=True, index_col=0)\n",
    "#predom_freq\n",
    "predom_freq=\"predom_freq\"\n",
    "url3 = f\"http://kaizen.gns.cri.nz:9157/feature?name={predom_freq}&starttime={starttime}&endtime={endtime}&volcano={volcano}&site={site}\"\n",
    "predom_freqDF = pd.read_csv(url3, parse_dates=True, index_col=0)"
   ]
  },
  {
   "cell_type": "code",
   "execution_count": 56,
   "metadata": {},
   "outputs": [],
   "source": [
    "#Getting data from Erebus as Erubus API is currenlty running with the autoencoder and the clusturing algorithm developed by ......\n",
    "#erub_rsam = \"http://kaizen.gns.cri.nz:32771/feature?name={rsam}&starttime={2022-12-13T00:00:00}&endtime={2023-04-13T00:00:00}&volcano={Erebus}&site={HOO}&channel={BHZ}\"\n",
    "#autoencoder input features: \n",
    "features = ['rsam',\n",
    "            'dsar',\n",
    "            'central_freq',\n",
    "            'predom_freq',\n",
    "            'bandwidth',\n",
    "            'rsam_energy_prop',\n",
    "            'sonogram']\n",
    "\n",
    "\n",
    "\n",
    "# read Erebus features\n",
    "#get few feature data from Erebus\n",
    "starttime=\"2022-12-13T00:00:00\"\n",
    "endtime=\"2023-04-13T00:00:00\"\n",
    "volcano=\"Erebus\"\n",
    "site=\"HOO\"\n",
    "channel=\"BHZ\"\n",
    "fname=\"rsam\"\n",
    "url1 = f\"http://kaizen.gns.cri.nz:32771/feature?name={fname}&starttime={starttime}&endtime={endtime}&volcano={volcano}&site={site}&channel={channel}\"\n",
    "rsamDF = pd.read_csv(url1, parse_dates=True, index_col=0)\n",
    "\n",
    "fname=\"predom_freq\"\n",
    "url1 = f\"http://kaizen.gns.cri.nz:32771/feature?name={fname}&starttime={starttime}&endtime={endtime}&volcano={volcano}&site={site}&channel={channel}\"\n",
    "pfreqDF = pd.read_csv(url1, parse_dates=True, index_col=0)\n",
    "\n",
    "fname=\"dsar\"\n",
    "url1 = f\"http://kaizen.gns.cri.nz:32771/feature?name={fname}&starttime={starttime}&endtime={endtime}&volcano={volcano}&site={site}&channel={channel}\"\n",
    "dsarDF = pd.read_csv(url1, parse_dates=True, index_col=0)\n",
    "\n",
    "fname=\"central_freq\"\n",
    "url1 = f\"http://kaizen.gns.cri.nz:32771/feature?name={fname}&starttime={starttime}&endtime={endtime}&volcano={volcano}&site={site}&channel={channel}\"\n",
    "cfreqDF = pd.read_csv(url1, parse_dates=True, index_col=0)\n",
    "\n",
    "fname=\"bandwidth\"\n",
    "url1 = f\"http://kaizen.gns.cri.nz:32771/feature?name={fname}&starttime={starttime}&endtime={endtime}&volcano={volcano}&site={site}&channel={channel}\"\n",
    "bandwidthDF = pd.read_csv(url1, parse_dates=True, index_col=0)\n",
    "\n",
    "fname=\"rsam_energy_prop\"\n",
    "url1 = f\"http://kaizen.gns.cri.nz:32771/feature?name={fname}&starttime={starttime}&endtime={endtime}&volcano={volcano}&site={site}&channel={channel}\"\n",
    "rsamenergypDF = pd.read_csv(url1, parse_dates=True, index_col=0)\n"
   ]
  },
  {
   "cell_type": "code",
   "execution_count": 57,
   "metadata": {},
   "outputs": [
    {
     "name": "stdout",
     "output_type": "stream",
     "text": [
      "(16192, 6)\n"
     ]
    }
   ],
   "source": [
    "# #dataframe cleaning and merging \n",
    "# rsamDF.index = pd.to_datetime(rsamDF.index)\n",
    "# rsamDF.columns = ['rsam']\n",
    "# predom_freqDF.index = pd.to_datetime(predom_freqDF.index)\n",
    "# predom_freqDF.columns = ['predom_freq']\n",
    "# rsam_prefreq_df = pd.merge(rsamDF, predom_freqDF, left_index=True, right_index=True)\n",
    "#change index_name and reset \n",
    "featureDF = pd.concat([rsamDF, pfreqDF, dsarDF, cfreqDF, bandwidthDF, rsamenergypDF], axis=1)\n",
    "featureDF.columns = ['rsam','dsar','central_freq','predom_freq','bandwidth','rsam_energy_prop']\n",
    "featureDF.index.name = 'datetime'\n",
    "featureDF.reset_index(inplace=True)\n",
    "\n",
    "#for now we can drop the NANs, maybe later use interpolation?\n",
    "featureDF.dropna(axis=0, inplace=True)\n",
    "\n",
    "#rename data frame for MSDA:\n",
    "df = featureDF\n",
    "\n",
    "#process data\n",
    "# Ensure the data is sorted by datetime (if needed)\n",
    "df = df.sort_values(by='datetime')\n",
    "\n",
    "# Drop the 'datetime' column for the autoencoder input\n",
    "df = df.drop(columns=['datetime'])\n",
    "\n",
    "# Step 3: Convert the dataframe to a numpy array\n",
    "time_series_data = df.values\n",
    "\n",
    "# Print the shape to ensure it loaded correctly\n",
    "print(time_series_data.shape)\n",
    "\n",
    "\n"
   ]
  },
  {
   "cell_type": "code",
   "execution_count": null,
   "metadata": {},
   "outputs": [],
   "source": [
    "#from vumt testing \n",
    "def setup(tmp_path_factory):\n",
    "    features1D = ['rsam',\n",
    "                  'dsar',\n",
    "                  'central_freq',\n",
    "                  'predom_freq',\n",
    "                  'bandwidth',\n",
    "                  'rsam_energy_prop']\n",
    "    features2D = [('sonogram', 'sonofrequency'),\n",
    "                  ('ssam', 'frequency'),\n",
    "                  ('filterbank', 'fbfrequency')]\n",
    "\n",
    "    savedir = tmp_path_factory.mktemp('vumt_test_tmp', numbered=True)\n",
    "    widir = os.path.join(savedir,\n",
    "                         'features',\n",
    "                         'Whakaari',\n",
    "                         'WIZ',\n",
    "                         'HHZ')\n",
    "    doomdir = os.path.join(savedir,\n",
    "                           'features',\n",
    "                           'Mt_Doom',\n",
    "                           'MDR',\n",
    "                           'HHZ')\n",
    "    ruadir = os.path.join(savedir,\n",
    "                         'features',\n",
    "                         'Ruapehu',\n",
    "                         'MAVZ',\n",
    "                         'EHZ')\n",
    "    for _dir in [widir, doomdir, ruadir]:\n",
    "        os.makedirs(_dir)\n",
    "   # Generate some fake data\n",
    "    for _f in features1D:\n",
    "        feat = generate_test_data(tstart=tstart,\n",
    "                                    feature_name=_f,\n",
    "                                    ndays=ndays)\n",
    "        for _dir in [widir, doomdir, ruadir]:\n",
    "            xarray2hdf5(feat, _dir)\n",
    "    for _n, _f in features2D:\n",
    "        feat = generate_test_data(tstart=tstart,\n",
    "                                  feature_name=_n,\n",
    "                                  ndays=ndays,\n",
    "                                  nfreqs=8,\n",
    "                                  freq_name=_f,\n",
    "                                  dim=2)\n",
    "        for _dir in [widir, doomdir, ruadir]:\n",
    "            xarray2hdf5(feat, _dir)\n",
    "    cfg = configparser.ConfigParser()\n",
    "    cfg['DEFAULT'] = {'outdir': os.path.join(savedir, 'features')}\n",
    "    fn_cfg = os.path.join(savedir, 'tmp.cfg')\n",
    "    with open(fn_cfg, 'w') as configfile:\n",
    "        cfg.write(configfile)\n",
    "    return savedir\n",
    "\n",
    "\n",
    "def setup_ac(setup):\n",
    "    savedir = setup\n",
    "    fq = FeatureRequest(rootdir=os.path.join(savedir, 'features'),\n",
    "                        volcano='Whakaari',\n",
    "                        site='WIZ',\n",
    "                        channel='HHZ',\n",
    "                        starttime=tstart,\n",
    "                        endtime=tstart + timedelta(days=ndays))\n",
    "    return savedir, fq"
   ]
  },
  {
   "cell_type": "code",
   "execution_count": 4,
   "metadata": {},
   "outputs": [
    {
     "ename": "TypeError",
     "evalue": "fit_transform() missing 2 required positional arguments: 'self' and 'fq'",
     "output_type": "error",
     "traceback": [
      "\u001b[0;31m---------------------------------------------------------------------------\u001b[0m",
      "\u001b[0;31mTypeError\u001b[0m                                 Traceback (most recent call last)",
      "Cell \u001b[0;32mIn[4], line 2\u001b[0m\n\u001b[1;32m      1\u001b[0m \u001b[38;5;66;03m#vumt way:\u001b[39;00m\n\u001b[0;32m----> 2\u001b[0m autoE \u001b[38;5;241m=\u001b[39m \u001b[43mautoencoder\u001b[49m\u001b[38;5;241;43m.\u001b[39;49m\u001b[43mAutoEncoder\u001b[49m\u001b[38;5;241;43m.\u001b[39;49m\u001b[43mfit_transform\u001b[49m\u001b[43m(\u001b[49m\u001b[43m)\u001b[49m\n",
      "\u001b[0;31mTypeError\u001b[0m: fit_transform() missing 2 required positional arguments: 'self' and 'fq'"
     ]
    }
   ],
   "source": [
    "#vumt way:\n",
    "st=\"2022-12-13T00:00:00\"\n",
    "et=\"2023-04-13T00:00:00\"\n",
    "volcano=\"Erebus\"\n",
    "site=\"HOO\"\n",
    "channel=\"BHZ\"\n",
    "fname=\"rsam\"\n",
    "fq = FeatureRequest(rootdir=FEATUREDIR, volcano=volcano, site=site, channel=channel, starttime=st, endtime=et)\n",
    "autoE = autoencoder.AutoEncoder.fit_transform()\n",
    "\n",
    "\n"
   ]
  },
  {
   "cell_type": "code",
   "execution_count": 68,
   "metadata": {},
   "outputs": [],
   "source": [
    "#Tensorflow way\n",
    "# Define the autoencoder ( we need to replace this with Yanniks model)\n",
    "input_dim = time_series_data.shape[1]  # Number of features (rsam and predom_freq)\n",
    "encoding_dim = 4 # Dimension of the encoded representation\n",
    "\n",
    "input_layer = Input(shape=(input_dim,))\n",
    "encoded = Dense(encoding_dim, activation='relu')(input_layer)\n",
    "decoded = Dense(input_dim, activation='sigmoid')(encoded)\n",
    "\n",
    "autoencoder = Model(input_layer, decoded)\n",
    "encoder = Model(input_layer, encoded)\n",
    "\n",
    "# Compile the autoencoder\n",
    "autoencoder.compile(optimizer='adam', loss='mse')"
   ]
  },
  {
   "cell_type": "code",
   "execution_count": 69,
   "metadata": {},
   "outputs": [
    {
     "name": "stdout",
     "output_type": "stream",
     "text": [
      "Epoch 1/50\n",
      "\u001b[1m506/506\u001b[0m \u001b[32m━━━━━━━━━━━━━━━━━━━━\u001b[0m\u001b[37m\u001b[0m \u001b[1m1s\u001b[0m 2ms/step - loss: 17.9008\n",
      "Epoch 2/50\n",
      "\u001b[1m506/506\u001b[0m \u001b[32m━━━━━━━━━━━━━━━━━━━━\u001b[0m\u001b[37m\u001b[0m \u001b[1m1s\u001b[0m 1ms/step - loss: 20.2887\n",
      "Epoch 3/50\n",
      "\u001b[1m506/506\u001b[0m \u001b[32m━━━━━━━━━━━━━━━━━━━━\u001b[0m\u001b[37m\u001b[0m \u001b[1m1s\u001b[0m 2ms/step - loss: 15.6986\n",
      "Epoch 4/50\n",
      "\u001b[1m506/506\u001b[0m \u001b[32m━━━━━━━━━━━━━━━━━━━━\u001b[0m\u001b[37m\u001b[0m \u001b[1m1s\u001b[0m 2ms/step - loss: 15.4718\n",
      "Epoch 5/50\n",
      "\u001b[1m506/506\u001b[0m \u001b[32m━━━━━━━━━━━━━━━━━━━━\u001b[0m\u001b[37m\u001b[0m \u001b[1m1s\u001b[0m 2ms/step - loss: 15.1614\n",
      "Epoch 6/50\n",
      "\u001b[1m506/506\u001b[0m \u001b[32m━━━━━━━━━━━━━━━━━━━━\u001b[0m\u001b[37m\u001b[0m \u001b[1m1s\u001b[0m 2ms/step - loss: 15.2959\n",
      "Epoch 7/50\n",
      "\u001b[1m506/506\u001b[0m \u001b[32m━━━━━━━━━━━━━━━━━━━━\u001b[0m\u001b[37m\u001b[0m \u001b[1m1s\u001b[0m 2ms/step - loss: 15.6803\n",
      "Epoch 8/50\n",
      "\u001b[1m506/506\u001b[0m \u001b[32m━━━━━━━━━━━━━━━━━━━━\u001b[0m\u001b[37m\u001b[0m \u001b[1m1s\u001b[0m 2ms/step - loss: 18.3104\n",
      "Epoch 9/50\n",
      "\u001b[1m506/506\u001b[0m \u001b[32m━━━━━━━━━━━━━━━━━━━━\u001b[0m\u001b[37m\u001b[0m \u001b[1m1s\u001b[0m 2ms/step - loss: 16.9869\n",
      "Epoch 10/50\n",
      "\u001b[1m506/506\u001b[0m \u001b[32m━━━━━━━━━━━━━━━━━━━━\u001b[0m\u001b[37m\u001b[0m \u001b[1m1s\u001b[0m 2ms/step - loss: 16.5174\n",
      "Epoch 11/50\n",
      "\u001b[1m506/506\u001b[0m \u001b[32m━━━━━━━━━━━━━━━━━━━━\u001b[0m\u001b[37m\u001b[0m \u001b[1m1s\u001b[0m 2ms/step - loss: 15.8877\n",
      "Epoch 12/50\n",
      "\u001b[1m506/506\u001b[0m \u001b[32m━━━━━━━━━━━━━━━━━━━━\u001b[0m\u001b[37m\u001b[0m \u001b[1m1s\u001b[0m 2ms/step - loss: 15.0687\n",
      "Epoch 13/50\n",
      "\u001b[1m506/506\u001b[0m \u001b[32m━━━━━━━━━━━━━━━━━━━━\u001b[0m\u001b[37m\u001b[0m \u001b[1m1s\u001b[0m 2ms/step - loss: 16.3263\n",
      "Epoch 14/50\n",
      "\u001b[1m506/506\u001b[0m \u001b[32m━━━━━━━━━━━━━━━━━━━━\u001b[0m\u001b[37m\u001b[0m \u001b[1m1s\u001b[0m 2ms/step - loss: 20.3210\n",
      "Epoch 15/50\n",
      "\u001b[1m506/506\u001b[0m \u001b[32m━━━━━━━━━━━━━━━━━━━━\u001b[0m\u001b[37m\u001b[0m \u001b[1m1s\u001b[0m 2ms/step - loss: 16.7286\n",
      "Epoch 16/50\n",
      "\u001b[1m506/506\u001b[0m \u001b[32m━━━━━━━━━━━━━━━━━━━━\u001b[0m\u001b[37m\u001b[0m \u001b[1m1s\u001b[0m 1ms/step - loss: 15.1797\n",
      "Epoch 17/50\n",
      "\u001b[1m506/506\u001b[0m \u001b[32m━━━━━━━━━━━━━━━━━━━━\u001b[0m\u001b[37m\u001b[0m \u001b[1m1s\u001b[0m 2ms/step - loss: 14.6385\n",
      "Epoch 18/50\n",
      "\u001b[1m506/506\u001b[0m \u001b[32m━━━━━━━━━━━━━━━━━━━━\u001b[0m\u001b[37m\u001b[0m \u001b[1m1s\u001b[0m 2ms/step - loss: 19.1908\n",
      "Epoch 19/50\n",
      "\u001b[1m506/506\u001b[0m \u001b[32m━━━━━━━━━━━━━━━━━━━━\u001b[0m\u001b[37m\u001b[0m \u001b[1m1s\u001b[0m 2ms/step - loss: 15.9661\n",
      "Epoch 20/50\n",
      "\u001b[1m506/506\u001b[0m \u001b[32m━━━━━━━━━━━━━━━━━━━━\u001b[0m\u001b[37m\u001b[0m \u001b[1m1s\u001b[0m 2ms/step - loss: 15.4783\n",
      "Epoch 21/50\n",
      "\u001b[1m506/506\u001b[0m \u001b[32m━━━━━━━━━━━━━━━━━━━━\u001b[0m\u001b[37m\u001b[0m \u001b[1m1s\u001b[0m 2ms/step - loss: 15.9912\n",
      "Epoch 22/50\n",
      "\u001b[1m506/506\u001b[0m \u001b[32m━━━━━━━━━━━━━━━━━━━━\u001b[0m\u001b[37m\u001b[0m \u001b[1m1s\u001b[0m 2ms/step - loss: 16.6817\n",
      "Epoch 23/50\n",
      "\u001b[1m506/506\u001b[0m \u001b[32m━━━━━━━━━━━━━━━━━━━━\u001b[0m\u001b[37m\u001b[0m \u001b[1m1s\u001b[0m 2ms/step - loss: 14.5704\n",
      "Epoch 24/50\n",
      "\u001b[1m506/506\u001b[0m \u001b[32m━━━━━━━━━━━━━━━━━━━━\u001b[0m\u001b[37m\u001b[0m \u001b[1m1s\u001b[0m 2ms/step - loss: 18.8718\n",
      "Epoch 25/50\n",
      "\u001b[1m506/506\u001b[0m \u001b[32m━━━━━━━━━━━━━━━━━━━━\u001b[0m\u001b[37m\u001b[0m \u001b[1m1s\u001b[0m 2ms/step - loss: 18.2689\n",
      "Epoch 26/50\n",
      "\u001b[1m506/506\u001b[0m \u001b[32m━━━━━━━━━━━━━━━━━━━━\u001b[0m\u001b[37m\u001b[0m \u001b[1m1s\u001b[0m 1ms/step - loss: 14.7813\n",
      "Epoch 27/50\n",
      "\u001b[1m506/506\u001b[0m \u001b[32m━━━━━━━━━━━━━━━━━━━━\u001b[0m\u001b[37m\u001b[0m \u001b[1m1s\u001b[0m 2ms/step - loss: 15.3114\n",
      "Epoch 28/50\n",
      "\u001b[1m506/506\u001b[0m \u001b[32m━━━━━━━━━━━━━━━━━━━━\u001b[0m\u001b[37m\u001b[0m \u001b[1m1s\u001b[0m 2ms/step - loss: 15.6452\n",
      "Epoch 29/50\n",
      "\u001b[1m506/506\u001b[0m \u001b[32m━━━━━━━━━━━━━━━━━━━━\u001b[0m\u001b[37m\u001b[0m \u001b[1m1s\u001b[0m 2ms/step - loss: 15.5341\n",
      "Epoch 30/50\n",
      "\u001b[1m506/506\u001b[0m \u001b[32m━━━━━━━━━━━━━━━━━━━━\u001b[0m\u001b[37m\u001b[0m \u001b[1m1s\u001b[0m 2ms/step - loss: 14.8799\n",
      "Epoch 31/50\n",
      "\u001b[1m506/506\u001b[0m \u001b[32m━━━━━━━━━━━━━━━━━━━━\u001b[0m\u001b[37m\u001b[0m \u001b[1m1s\u001b[0m 2ms/step - loss: 20.8704\n",
      "Epoch 32/50\n",
      "\u001b[1m506/506\u001b[0m \u001b[32m━━━━━━━━━━━━━━━━━━━━\u001b[0m\u001b[37m\u001b[0m \u001b[1m1s\u001b[0m 2ms/step - loss: 16.9377\n",
      "Epoch 33/50\n",
      "\u001b[1m506/506\u001b[0m \u001b[32m━━━━━━━━━━━━━━━━━━━━\u001b[0m\u001b[37m\u001b[0m \u001b[1m1s\u001b[0m 2ms/step - loss: 16.6510\n",
      "Epoch 34/50\n",
      "\u001b[1m506/506\u001b[0m \u001b[32m━━━━━━━━━━━━━━━━━━━━\u001b[0m\u001b[37m\u001b[0m \u001b[1m1s\u001b[0m 2ms/step - loss: 18.6666\n",
      "Epoch 35/50\n",
      "\u001b[1m506/506\u001b[0m \u001b[32m━━━━━━━━━━━━━━━━━━━━\u001b[0m\u001b[37m\u001b[0m \u001b[1m1s\u001b[0m 1ms/step - loss: 17.7150\n",
      "Epoch 36/50\n",
      "\u001b[1m506/506\u001b[0m \u001b[32m━━━━━━━━━━━━━━━━━━━━\u001b[0m\u001b[37m\u001b[0m \u001b[1m1s\u001b[0m 2ms/step - loss: 16.2440\n",
      "Epoch 37/50\n",
      "\u001b[1m506/506\u001b[0m \u001b[32m━━━━━━━━━━━━━━━━━━━━\u001b[0m\u001b[37m\u001b[0m \u001b[1m1s\u001b[0m 2ms/step - loss: 15.6557\n",
      "Epoch 38/50\n",
      "\u001b[1m506/506\u001b[0m \u001b[32m━━━━━━━━━━━━━━━━━━━━\u001b[0m\u001b[37m\u001b[0m \u001b[1m1s\u001b[0m 2ms/step - loss: 16.3920\n",
      "Epoch 39/50\n",
      "\u001b[1m506/506\u001b[0m \u001b[32m━━━━━━━━━━━━━━━━━━━━\u001b[0m\u001b[37m\u001b[0m \u001b[1m1s\u001b[0m 2ms/step - loss: 17.7681\n",
      "Epoch 40/50\n",
      "\u001b[1m506/506\u001b[0m \u001b[32m━━━━━━━━━━━━━━━━━━━━\u001b[0m\u001b[37m\u001b[0m \u001b[1m1s\u001b[0m 2ms/step - loss: 17.7598\n",
      "Epoch 41/50\n",
      "\u001b[1m506/506\u001b[0m \u001b[32m━━━━━━━━━━━━━━━━━━━━\u001b[0m\u001b[37m\u001b[0m \u001b[1m1s\u001b[0m 2ms/step - loss: 20.2732\n",
      "Epoch 42/50\n",
      "\u001b[1m506/506\u001b[0m \u001b[32m━━━━━━━━━━━━━━━━━━━━\u001b[0m\u001b[37m\u001b[0m \u001b[1m1s\u001b[0m 2ms/step - loss: 19.7075\n",
      "Epoch 43/50\n",
      "\u001b[1m506/506\u001b[0m \u001b[32m━━━━━━━━━━━━━━━━━━━━\u001b[0m\u001b[37m\u001b[0m \u001b[1m1s\u001b[0m 1ms/step - loss: 15.7376\n",
      "Epoch 44/50\n",
      "\u001b[1m506/506\u001b[0m \u001b[32m━━━━━━━━━━━━━━━━━━━━\u001b[0m\u001b[37m\u001b[0m \u001b[1m1s\u001b[0m 2ms/step - loss: 16.0362\n",
      "Epoch 45/50\n",
      "\u001b[1m506/506\u001b[0m \u001b[32m━━━━━━━━━━━━━━━━━━━━\u001b[0m\u001b[37m\u001b[0m \u001b[1m1s\u001b[0m 1ms/step - loss: 15.7968\n",
      "Epoch 46/50\n",
      "\u001b[1m506/506\u001b[0m \u001b[32m━━━━━━━━━━━━━━━━━━━━\u001b[0m\u001b[37m\u001b[0m \u001b[1m1s\u001b[0m 2ms/step - loss: 16.5342\n",
      "Epoch 47/50\n",
      "\u001b[1m506/506\u001b[0m \u001b[32m━━━━━━━━━━━━━━━━━━━━\u001b[0m\u001b[37m\u001b[0m \u001b[1m1s\u001b[0m 2ms/step - loss: 16.7843\n",
      "Epoch 48/50\n",
      "\u001b[1m506/506\u001b[0m \u001b[32m━━━━━━━━━━━━━━━━━━━━\u001b[0m\u001b[37m\u001b[0m \u001b[1m1s\u001b[0m 2ms/step - loss: 15.3814\n",
      "Epoch 49/50\n",
      "\u001b[1m506/506\u001b[0m \u001b[32m━━━━━━━━━━━━━━━━━━━━\u001b[0m\u001b[37m\u001b[0m \u001b[1m1s\u001b[0m 2ms/step - loss: 16.6930\n",
      "Epoch 50/50\n",
      "\u001b[1m506/506\u001b[0m \u001b[32m━━━━━━━━━━━━━━━━━━━━\u001b[0m\u001b[37m\u001b[0m \u001b[1m1s\u001b[0m 2ms/step - loss: 17.1198\n"
     ]
    },
    {
     "data": {
      "image/png": "[encoded data removed]",
      "text/plain": [
       "<Figure size 640x480 with 1 Axes>"
      ]
     },
     "metadata": {},
     "output_type": "display_data"
    }
   ],
   "source": [
    "# Train the autoencoder\n",
    "history = autoencoder.fit(time_series_data, time_series_data, epochs=50, batch_size=32, shuffle=True)\n",
    "\n",
    "\n",
    "\n",
    "# Plot the training loss\n",
    "plt.plot(history.history['loss'])\n",
    "plt.title('Autoencoder Training Loss')\n",
    "plt.xlabel('Epoch')\n",
    "plt.ylabel('Loss')\n",
    "plt.show()\n",
    "\n"
   ]
  },
  {
   "cell_type": "code",
   "execution_count": 70,
   "metadata": {},
   "outputs": [
    {
     "name": "stdout",
     "output_type": "stream",
     "text": [
      "\u001b[1m506/506\u001b[0m \u001b[32m━━━━━━━━━━━━━━━━━━━━\u001b[0m\u001b[37m\u001b[0m \u001b[1m0s\u001b[0m 842us/step\n"
     ]
    }
   ],
   "source": [
    "# Encode the time series data\n",
    "encoded_data = encoder.predict(time_series_data)\n",
    "\n",
    "# Example target labels for classification\n",
    "# Assuming binary classification with labels 0 and 1 ( in our case it's not binery and could be more.....labels depending on the # of clusturs?)\n",
    "labels = np.random.randint(4, size=time_series_data.shape[0]) \n",
    "\n",
    "# Split the data into training and testing sets\n",
    "X_train, X_test, y_train, y_test = train_test_split(encoded_data, labels, test_size=0.2, random_state=42)\n",
    "\n",
    "# Train the RandomForest classifier\n",
    "classifier = RandomForestClassifier(n_estimators=100, random_state=42)\n",
    "history2 = classifier.fit(X_train, y_train)\n"
   ]
  },
  {
   "cell_type": "code",
   "execution_count": 71,
   "metadata": {},
   "outputs": [
    {
     "name": "stdout",
     "output_type": "stream",
     "text": [
      "Accuracy: 0.25439950602037664\n"
     ]
    }
   ],
   "source": [
    "# Predict on the test set\n",
    "y_pred = classifier.predict(X_test)\n",
    "\n",
    "# Evaluate the classifier\n",
    "accuracy = accuracy_score(y_test, y_pred)\n",
    "print(f'Accuracy: {accuracy}')\n",
    "\n"
   ]
  },
  {
   "cell_type": "code",
   "execution_count": 72,
   "metadata": {},
   "outputs": [],
   "source": [
    "# Initialize the SHAP explainer\n",
    "explainer = shap.TreeExplainer(classifier)\n",
    "\n",
    "\n",
    "# Calculate SHAP values\n",
    "shap_values = explainer.shap_values(X_test)\n",
    "\n",
    "# Visualize the SHAP values\n",
    "shap.summary_plot(shap_values, X_test)\n",
    "#shap.force_plot(explainer.expected_value[1], shap_values[1], X_test[0])"
   ]
  },
  {
   "cell_type": "markdown",
   "metadata": {},
   "source": [
    "Old stuff..........\n",
    "MSDA analysis - implementation \n",
    "You need to have MSDA pakage installed from git repo (https://pypi.org/project/msda) in your VUMT vitual environment before running MSDA commands. MSDA is an open source low-code Multi-Sensor Data Analysis library in Python. It has: \n",
    "\n",
    "Unsupervised time-series anomaly detector workflow\n",
    "** Deep Convolutional Neural Network **\n",
    "\n",
    "inspiration from this IEEE paper - https://ieeexplore.ieee.org/document/8581424\n",
    "\n",
    "** LSTM Autoencoder **\n",
    "\n",
    "inspiration from here - https://arxiv.org/pdf/1809.10717.pdf"
   ]
  },
  {
   "cell_type": "code",
   "execution_count": 12,
   "metadata": {},
   "outputs": [],
   "source": [
    "\n",
    "import numpy as np\n",
    "import operator, statistics\n",
    "from statistics import mean\n",
    "import matplotlib.pyplot as plt\n",
    "import matplotlib.patches as mpatches\n",
    "from msda.msda import *\n",
    "from msda.anamoly import *\n",
    "%matplotlib inline"
   ]
  },
  {
   "cell_type": "code",
   "execution_count": 28,
   "metadata": {},
   "outputs": [],
   "source": [
    "anamoly_data, anamoly_df = Anamoly.read_data(data=df, column_index_to_drop=0, timestamp_column_index=0)"
   ]
  },
  {
   "cell_type": "code",
   "execution_count": 29,
   "metadata": {},
   "outputs": [],
   "source": [
    "#Data Preprocessing with user-input time window size\n",
    "X,Y,timesteps,X_data = Anamoly.data_pre_processing(df=anamoly_df, LOOKBACK_SIZE=10)"
   ]
  }
 ],
 "metadata": {
  "kernelspec": {
   "display_name": "vumt",
   "language": "python",
   "name": "python3"
  },
  "language_info": {
   "codemirror_mode": {
    "name": "ipython",
    "version": 3
   },
   "file_extension": ".py",
   "mimetype": "text/x-python",
   "name": "python",
   "nbconvert_exporter": "python",
   "pygments_lexer": "ipython3",
   "version": "3.9.18"
  },
  "orig_nbformat": 4
 },
 "nbformat": 4,
 "nbformat_minor": 2
}
