{
    "cells": [
        {
            "cell_type": "code",
            "execution_count": 1,
            "metadata": {},
            "outputs": [],
            "source": [
                "import fev"
            ]
        },
        {
            "cell_type": "code",
            "execution_count": 2,
            "metadata": {},
            "outputs": [],
            "source": [
                "# Create a task from a dataset stored on Hugging Face Hub\n",
                "task = fev.Task(\n",
                "    dataset_path=\"autogluon/chronos_datasets\",\n",
                "    dataset_config=\"monash_kdd_cup_2018\",\n",
                "    horizon=12,\n",
                ")"
            ]
        },
        {
            "cell_type": "code",
            "execution_count": 3,
            "metadata": {},
            "outputs": [
                {
                    "data": {
                        "application/vnd.jupyter.widget-view+json": {
                            "model_id": "a40711a842534ca8933f9e53096cd448",
                            "version_major": 2,
                            "version_minor": 0
                        },
                        "text/plain": [
                            "Validating dataset format (num_proc=10):   0%|          | 0/270 [00:00<?, ? examples/s]"
                        ]
                    },
                    "metadata": {},
                    "output_type": "display_data"
                }
            ],
            "source": [
                "# Load data available as input to the forecasting model\n",
                "past_data, future_data = task.get_input_data()"
            ]
        },
        {
            "cell_type": "code",
            "execution_count": 4,
            "metadata": {},
            "outputs": [
                {
                    "data": {
                        "text/plain": [
                            "Dataset({\n",
                            "    features: ['id', 'timestamp', 'target', 'city', 'station', 'measurement'],\n",
                            "    num_rows: 270\n",
                            "})"
                        ]
                    },
                    "execution_count": 4,
                    "metadata": {},
                    "output_type": "execute_result"
                }
            ],
            "source": [
                "# past data before the forecast horizon.\n",
                "past_data"
            ]
        },
        {
            "cell_type": "code",
            "execution_count": 5,
            "metadata": {},
            "outputs": [
                {
                    "data": {
                        "text/plain": [
                            "{'id': 'T000000',\n",
                            " 'timestamp': array(['2017-01-01T14:00:00.000', '2017-01-01T15:00:00.000',\n",
                            "        '2017-01-01T16:00:00.000', ..., '2018-03-31T01:00:00.000',\n",
                            "        '2018-03-31T02:00:00.000', '2018-03-31T03:00:00.000'],\n",
                            "       dtype='datetime64[ms]'),\n",
                            " 'target': array([453., 417., 395., ...,  99., 102.,  97.], dtype=float32),\n",
                            " 'city': 'Beijing',\n",
                            " 'station': 'aotizhongxin_aq',\n",
                            " 'measurement': 'PM2.5'}"
                        ]
                    },
                    "execution_count": 5,
                    "metadata": {},
                    "output_type": "execute_result"
                }
            ],
            "source": [
                "past_data[0]"
            ]
        },
        {
            "cell_type": "code",
            "execution_count": 6,
            "metadata": {},
            "outputs": [
                {
                    "data": {
                        "text/plain": [
                            "Dataset({\n",
                            "    features: ['id', 'timestamp', 'city', 'station', 'measurement'],\n",
                            "    num_rows: 270\n",
                            "})"
                        ]
                    },
                    "execution_count": 6,
                    "metadata": {},
                    "output_type": "execute_result"
                }
            ],
            "source": [
                "# future data that is known at prediction time (item ID, future timestamps, and known covariates)\n",
                "future_data"
            ]
        },
        {
            "cell_type": "code",
            "execution_count": 7,
            "metadata": {},
            "outputs": [
                {
                    "data": {
                        "text/plain": [
                            "{'id': 'T000000',\n",
                            " 'timestamp': array(['2018-03-31T04:00:00.000', '2018-03-31T05:00:00.000',\n",
                            "        '2018-03-31T06:00:00.000', '2018-03-31T07:00:00.000',\n",
                            "        '2018-03-31T08:00:00.000', '2018-03-31T09:00:00.000',\n",
                            "        '2018-03-31T10:00:00.000', '2018-03-31T11:00:00.000',\n",
                            "        '2018-03-31T12:00:00.000', '2018-03-31T13:00:00.000',\n",
                            "        '2018-03-31T14:00:00.000', '2018-03-31T15:00:00.000'],\n",
                            "       dtype='datetime64[ms]'),\n",
                            " 'city': 'Beijing',\n",
                            " 'station': 'aotizhongxin_aq',\n",
                            " 'measurement': 'PM2.5'}"
                        ]
                    },
                    "execution_count": 7,
                    "metadata": {},
                    "output_type": "execute_result"
                }
            ],
            "source": [
                "future_data[0]"
            ]
        },
        {
            "cell_type": "code",
            "execution_count": 8,
            "metadata": {},
            "outputs": [],
            "source": [
                "import numpy as np\n",
                "\n",
                "\n",
                "# Make predictions\n",
                "def naive_forecast(y: list, horizon: int) -> list:\n",
                "    return [y[np.isfinite(y)][-1] for _ in range(horizon)]\n",
                "\n",
                "predictions = []\n",
                "for ts in past_data:\n",
                "    predictions.append(\n",
                "        {\"predictions\": naive_forecast(y=ts[task.target_column], horizon=task.horizon)}\n",
                "    )"
            ]
        },
        {
            "cell_type": "code",
            "execution_count": 9,
            "metadata": {},
            "outputs": [
                {
                    "data": {
                        "application/vnd.jupyter.widget-view+json": {
                            "model_id": "4e8e01cfebd9488db958c6be29bbb4d6",
                            "version_major": 2,
                            "version_minor": 0
                        },
                        "text/plain": [
                            "Casting the dataset:   0%|          | 0/270 [00:00<?, ? examples/s]"
                        ]
                    },
                    "metadata": {},
                    "output_type": "display_data"
                },
                {
                    "data": {
                        "text/plain": [
                            "{'model_name': 'naive',\n",
                            " 'dataset_name': 'chronos_datasets_monash_kdd_cup_2018',\n",
                            " 'dataset_fingerprint': 'e91f446bd0b05d16',\n",
                            " 'dataset_path': 'autogluon/chronos_datasets',\n",
                            " 'dataset_config': 'monash_kdd_cup_2018',\n",
                            " 'horizon': 12,\n",
                            " 'cutoff': -12,\n",
                            " 'lead_time': 1,\n",
                            " 'min_ts_length': 13,\n",
                            " 'max_context_length': None,\n",
                            " 'seasonality': 1,\n",
                            " 'eval_metric': 'MASE',\n",
                            " 'extra_metrics': [],\n",
                            " 'quantile_levels': None,\n",
                            " 'id_column': 'id',\n",
                            " 'timestamp_column': 'timestamp',\n",
                            " 'target_column': 'target',\n",
                            " 'multiple_target_columns': None,\n",
                            " 'past_dynamic_columns': [],\n",
                            " 'excluded_columns': [],\n",
                            " 'test_error': 3.3784518866750513,\n",
                            " 'training_time_s': None,\n",
                            " 'inference_time_s': None,\n",
                            " 'fev_version': '0.1.0',\n",
                            " 'MASE': 3.3784518866750513}"
                        ]
                    },
                    "execution_count": 9,
                    "metadata": {},
                    "output_type": "execute_result"
                }
            ],
            "source": [
                "eval_summary = task.evaluation_summary(predictions, model_name=\"naive\")\n",
                "eval_summary"
            ]
        }
    ],
    "metadata": {
        "kernelspec": {
            "display_name": "fev",
            "language": "python",
            "name": "python3"
        },
        "language_info": {
            "codemirror_mode": {
                "name": "ipython",
                "version": 3
            },
            "file_extension": ".py",
            "mimetype": "text/x-python",
            "name": "python",
            "nbconvert_exporter": "python",
            "pygments_lexer": "ipython3",
            "version": "3.11.10"
        }
    },
    "nbformat": 4,
    "nbformat_minor": 2
}
