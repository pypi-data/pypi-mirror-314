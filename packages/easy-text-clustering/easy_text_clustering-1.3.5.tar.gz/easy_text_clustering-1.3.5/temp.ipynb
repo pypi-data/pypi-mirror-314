{
 "cells": [
  {
   "cell_type": "code",
   "execution_count": null,
   "metadata": {},
   "outputs": [],
   "source": [
    "from datasets import load_dataset\n",
    "from src.easy_text_clustering.optimizer import Optimizer\n",
    "\n",
    "texts = load_dataset('billingsmoore/text-clustering-example-data', split=\"train\")['text']\n",
    "\n",
    "opt = Optimizer(min_clusters=10, max_clusters=13)\n",
    "\n",
    "umap_args, hdbscan_args = opt.fit(texts, 5)"
   ]
  },
  {
   "cell_type": "code",
   "execution_count": null,
   "metadata": {},
   "outputs": [],
   "source": [
    "from src.easy_text_clustering.clusterer import ClusterClassifier\n",
    "\n",
    "cc = ClusterClassifier()\n",
    "\n",
    "cc.optimize_fit(texts, optimization_trials=5)"
   ]
  },
  {
   "cell_type": "code",
   "execution_count": null,
   "metadata": {},
   "outputs": [],
   "source": [
    "cc.show(interactive=True)"
   ]
  },
  {
   "cell_type": "code",
   "execution_count": null,
   "metadata": {},
   "outputs": [],
   "source": []
  }
 ],
 "metadata": {
  "kernelspec": {
   "display_name": ".venv",
   "language": "python",
   "name": "python3"
  },
  "language_info": {
   "codemirror_mode": {
    "name": "ipython",
    "version": 3
   },
   "file_extension": ".py",
   "mimetype": "text/x-python",
   "name": "python",
   "nbconvert_exporter": "python",
   "pygments_lexer": "ipython3",
   "version": "3.10.15"
  }
 },
 "nbformat": 4,
 "nbformat_minor": 2
}
