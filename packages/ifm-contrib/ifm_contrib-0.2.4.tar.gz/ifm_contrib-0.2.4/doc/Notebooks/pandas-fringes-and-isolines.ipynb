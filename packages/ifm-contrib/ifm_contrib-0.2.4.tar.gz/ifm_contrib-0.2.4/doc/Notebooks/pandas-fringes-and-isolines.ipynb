{
 "cells": [
  {
   "cell_type": "markdown",
   "metadata": {},
   "source": [
    "# doc.c.plot.gdf - Plots to GeoDataFrames\n",
    "\n",
    "The `doc.c.plot.gdf` object provides methods to obtain GeoDataFrame objects for lines and fringes similar to the plotting options of FEFLOWs *View Components Panel*.\n",
    "\n",
    "GeoDataFrames are objects similar to shapefiles. They can be processed using GeoPANDAS, a Python library with usefull features for 2D Geometry operations including export to shp-files and basic GIS operations. See the project website [geopandas.org](https://www.geopandas.org) for further information.\n",
    "\n"
   ]
  },
  {
   "cell_type": "code",
   "execution_count": 1,
   "metadata": {
    "collapsed": true
   },
   "outputs": [],
   "source": [
    "import ifm_contrib as ifm \n",
    "from ifm import Enum\n",
    "ifm.forceLicense(\"Viewer\")\n",
    "\n",
    "%matplotlib inline\n",
    "import matplotlib.pyplot as plt"
   ]
  },
  {
   "cell_type": "code",
   "execution_count": 2,
   "metadata": {
    "collapsed": true
   },
   "outputs": [],
   "source": [
    "doc = ifm.loadDocument(\"./../../unittests/models/example_2D.dac\")"
   ]
  },
  {
   "cell_type": "markdown",
   "metadata": {},
   "source": [
    "`doc.c.plot.gdf.fringes()` and `doc.c.plot.gdf.isolines()` returns a GeoDataFrame with contents similar to a shp-file exported from FEFLOWs View Components Panel."
   ]
  },
  {
   "cell_type": "code",
   "execution_count": 3,
   "metadata": {},
   "outputs": [
    {
     "data": {
      "text/html": [
       "<div>\n",
       "<style scoped>\n",
       "    .dataframe tbody tr th:only-of-type {\n",
       "        vertical-align: middle;\n",
       "    }\n",
       "\n",
       "    .dataframe tbody tr th {\n",
       "        vertical-align: top;\n",
       "    }\n",
       "\n",
       "    .dataframe thead th {\n",
       "        text-align: right;\n",
       "    }\n",
       "</style>\n",
       "<table border=\"1\" class=\"dataframe\">\n",
       "  <thead>\n",
       "    <tr style=\"text-align: right;\">\n",
       "      <th></th>\n",
       "      <th>geometry</th>\n",
       "      <th>400</th>\n",
       "    </tr>\n",
       "  </thead>\n",
       "  <tbody>\n",
       "    <tr>\n",
       "      <th>0</th>\n",
       "      <td>LINESTRING (188.3245572314825 1026.20658660085...</td>\n",
       "      <td>1.5</td>\n",
       "    </tr>\n",
       "    <tr>\n",
       "      <th>1</th>\n",
       "      <td>LINESTRING (-37.30918270491934 764.56407844861...</td>\n",
       "      <td>1.5</td>\n",
       "    </tr>\n",
       "    <tr>\n",
       "      <th>2</th>\n",
       "      <td>LINESTRING (231.037851030846 1020.635287409629...</td>\n",
       "      <td>3.0</td>\n",
       "    </tr>\n",
       "    <tr>\n",
       "      <th>3</th>\n",
       "      <td>LINESTRING (43.23223606661666 780.664581646379...</td>\n",
       "      <td>3.0</td>\n",
       "    </tr>\n",
       "    <tr>\n",
       "      <th>4</th>\n",
       "      <td>LINESTRING (405.6454231951439 785.954735137164...</td>\n",
       "      <td>3.0</td>\n",
       "    </tr>\n",
       "    <tr>\n",
       "      <th>5</th>\n",
       "      <td>LINESTRING (261.3224954348043 553.996116264474...</td>\n",
       "      <td>3.0</td>\n",
       "    </tr>\n",
       "    <tr>\n",
       "      <th>6</th>\n",
       "      <td>LINESTRING (729.5927787830391 945.823352407373...</td>\n",
       "      <td>4.5</td>\n",
       "    </tr>\n",
       "    <tr>\n",
       "      <th>7</th>\n",
       "      <td>LINESTRING (301.5369241680925 747.809045401091...</td>\n",
       "      <td>4.5</td>\n",
       "    </tr>\n",
       "    <tr>\n",
       "      <th>8</th>\n",
       "      <td>LINESTRING (875.2498624876275 837.432550400162...</td>\n",
       "      <td>6.0</td>\n",
       "    </tr>\n",
       "    <tr>\n",
       "      <th>9</th>\n",
       "      <td>LINESTRING (926.7729170669338 753.212172722450...</td>\n",
       "      <td>7.5</td>\n",
       "    </tr>\n",
       "    <tr>\n",
       "      <th>10</th>\n",
       "      <td>LINESTRING (962.0692084209941 695.516311855236...</td>\n",
       "      <td>9.0</td>\n",
       "    </tr>\n",
       "  </tbody>\n",
       "</table>\n",
       "</div>"
      ],
      "text/plain": [
       "                                             geometry  400\n",
       "0   LINESTRING (188.3245572314825 1026.20658660085...  1.5\n",
       "1   LINESTRING (-37.30918270491934 764.56407844861...  1.5\n",
       "2   LINESTRING (231.037851030846 1020.635287409629...  3.0\n",
       "3   LINESTRING (43.23223606661666 780.664581646379...  3.0\n",
       "4   LINESTRING (405.6454231951439 785.954735137164...  3.0\n",
       "5   LINESTRING (261.3224954348043 553.996116264474...  3.0\n",
       "6   LINESTRING (729.5927787830391 945.823352407373...  4.5\n",
       "7   LINESTRING (301.5369241680925 747.809045401091...  4.5\n",
       "8   LINESTRING (875.2498624876275 837.432550400162...  6.0\n",
       "9   LINESTRING (926.7729170669338 753.212172722450...  7.5\n",
       "10  LINESTRING (962.0692084209941 695.516311855236...  9.0"
      ]
     },
     "execution_count": 3,
     "metadata": {},
     "output_type": "execute_result"
    },
    {
     "data": {
      "image/png": "[encoded data removed]",
      "text/plain": [
       "<Figure size 432x288 with 1 Axes>"
      ]
     },
     "metadata": {},
     "output_type": "display_data"
    }
   ],
   "source": [
    "# get isocontourlines of head as geodataframe \n",
    "gdf_isolines = doc.c.plot.gdf.isolines(par=Enum.P_HEAD)\n",
    "gdf_isolines.plot()\n",
    "gdf_isolines"
   ]
  },
  {
   "cell_type": "code",
   "execution_count": 4,
   "metadata": {},
   "outputs": [
    {
     "data": {
      "text/html": [
       "<div>\n",
       "<style scoped>\n",
       "    .dataframe tbody tr th:only-of-type {\n",
       "        vertical-align: middle;\n",
       "    }\n",
       "\n",
       "    .dataframe tbody tr th {\n",
       "        vertical-align: top;\n",
       "    }\n",
       "\n",
       "    .dataframe thead th {\n",
       "        text-align: right;\n",
       "    }\n",
       "</style>\n",
       "<table border=\"1\" class=\"dataframe\">\n",
       "  <thead>\n",
       "    <tr style=\"text-align: right;\">\n",
       "      <th></th>\n",
       "      <th>geometry</th>\n",
       "      <th>layer</th>\n",
       "      <th>400_min</th>\n",
       "      <th>400_max</th>\n",
       "    </tr>\n",
       "  </thead>\n",
       "  <tbody>\n",
       "    <tr>\n",
       "      <th>0</th>\n",
       "      <td>(POLYGON ((-100.8588619187983 383.768660969906...</td>\n",
       "      <td>0.75</td>\n",
       "      <td>0.0</td>\n",
       "      <td>1.5</td>\n",
       "    </tr>\n",
       "    <tr>\n",
       "      <th>1</th>\n",
       "      <td>(POLYGON ((-42.78495883232162 354.731709426668...</td>\n",
       "      <td>2.25</td>\n",
       "      <td>1.5</td>\n",
       "      <td>3.0</td>\n",
       "    </tr>\n",
       "    <tr>\n",
       "      <th>2</th>\n",
       "      <td>(POLYGON ((50.4702507737302 308.1041046236427,...</td>\n",
       "      <td>3.75</td>\n",
       "      <td>3.0</td>\n",
       "      <td>4.5</td>\n",
       "    </tr>\n",
       "    <tr>\n",
       "      <th>3</th>\n",
       "      <td>(POLYGON ((548.6255599421172 249.4560963709533...</td>\n",
       "      <td>5.25</td>\n",
       "      <td>4.5</td>\n",
       "      <td>6.0</td>\n",
       "    </tr>\n",
       "    <tr>\n",
       "      <th>4</th>\n",
       "      <td>(POLYGON ((690.4848719795064 257.8418685110945...</td>\n",
       "      <td>6.75</td>\n",
       "      <td>6.0</td>\n",
       "      <td>7.5</td>\n",
       "    </tr>\n",
       "    <tr>\n",
       "      <th>5</th>\n",
       "      <td>(POLYGON ((784.0299254609258 263.371625367139,...</td>\n",
       "      <td>8.25</td>\n",
       "      <td>7.5</td>\n",
       "      <td>9.0</td>\n",
       "    </tr>\n",
       "    <tr>\n",
       "      <th>6</th>\n",
       "      <td>(POLYGON ((962.0692084209941 695.5163118552366...</td>\n",
       "      <td>9.75</td>\n",
       "      <td>9.0</td>\n",
       "      <td>10.5</td>\n",
       "    </tr>\n",
       "  </tbody>\n",
       "</table>\n",
       "</div>"
      ],
      "text/plain": [
       "                                            geometry  layer  400_min  400_max\n",
       "0  (POLYGON ((-100.8588619187983 383.768660969906...   0.75      0.0      1.5\n",
       "1  (POLYGON ((-42.78495883232162 354.731709426668...   2.25      1.5      3.0\n",
       "2  (POLYGON ((50.4702507737302 308.1041046236427,...   3.75      3.0      4.5\n",
       "3  (POLYGON ((548.6255599421172 249.4560963709533...   5.25      4.5      6.0\n",
       "4  (POLYGON ((690.4848719795064 257.8418685110945...   6.75      6.0      7.5\n",
       "5  (POLYGON ((784.0299254609258 263.371625367139,...   8.25      7.5      9.0\n",
       "6  (POLYGON ((962.0692084209941 695.5163118552366...   9.75      9.0     10.5"
      ]
     },
     "execution_count": 4,
     "metadata": {},
     "output_type": "execute_result"
    },
    {
     "data": {
      "image/png": "[encoded data removed]",
      "text/plain": [
       "<Figure size 432x288 with 1 Axes>"
      ]
     },
     "metadata": {},
     "output_type": "display_data"
    }
   ],
   "source": [
    "# get fringes polygons \n",
    "gdf_fringes = doc.c.plot.gdf.fringes(Enum.P_HEAD)\n",
    "gdf_fringes.plot()\n",
    "gdf_fringes"
   ]
  },
  {
   "cell_type": "markdown",
   "metadata": {},
   "source": [
    "For usages of the GeoDataFrame see the relevant documentation on [geopandas.org](\"https://geopandas.org\"). Below is a simple example for saving the dataframe to a shape file.\n",
    "\n",
    "Plotting is most usefull when combined with other GeoPandas objects of the model. **Note** that the `doc.c.plot` module provides easier accessible functions plotting (and not processing) is the single puporse."
   ]
  },
  {
   "cell_type": "code",
   "execution_count": 5,
   "metadata": {
    "collapsed": true
   },
   "outputs": [],
   "source": [
    "gdf_fringes.to_file(\"fringes.shp\")"
   ]
  }
 ],
 "metadata": {
  "hide_input": false,
  "kernelspec": {
   "display_name": "Python 2.7",
   "language": "python",
   "name": "python_27"
  },
  "language_info": {
   "codemirror_mode": {
    "name": "ipython",
    "version": 2
   },
   "file_extension": ".py",
   "mimetype": "text/x-python",
   "name": "python",
   "nbconvert_exporter": "python",
   "pygments_lexer": "ipython2",
   "version": "2.7.14"
  },
  "toc": {
   "nav_menu": {},
   "number_sections": true,
   "sideBar": true,
   "skip_h1_title": true,
   "toc_cell": false,
   "toc_position": {},
   "toc_section_display": "block",
   "toc_window_display": false
  },
  "varInspector": {
   "cols": {
    "lenName": 16,
    "lenType": 16,
    "lenVar": 40
   },
   "kernels_config": {
    "python": {
     "delete_cmd_postfix": "",
     "delete_cmd_prefix": "del ",
     "library": "var_list.py",
     "varRefreshCmd": "print(var_dic_list())"
    },
    "r": {
     "delete_cmd_postfix": ") ",
     "delete_cmd_prefix": "rm(",
     "library": "var_list.r",
     "varRefreshCmd": "cat(var_dic_list()) "
    }
   },
   "types_to_exclude": [
    "module",
    "function",
    "builtin_function_or_method",
    "instance",
    "_Feature"
   ],
   "window_display": false
  }
 },
 "nbformat": 4,
 "nbformat_minor": 2
}
