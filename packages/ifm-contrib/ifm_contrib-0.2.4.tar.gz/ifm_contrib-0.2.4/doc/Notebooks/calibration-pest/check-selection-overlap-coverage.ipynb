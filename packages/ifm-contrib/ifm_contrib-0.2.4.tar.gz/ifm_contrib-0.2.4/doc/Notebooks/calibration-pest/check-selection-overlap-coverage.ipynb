{
 "cells": [
  {
   "cell_type": "markdown",
   "metadata": {},
   "source": [
    "## Intersection Selections\n",
    "\n",
    "This code can be used to check if the selections of a specifist list are all mutually non-overlapping, and to check if the set of selections covers the complete model.\n",
    "\n",
    "This is useful if these selections are used as parameter zones in a PEST run."
   ]
  },
  {
   "cell_type": "code",
   "execution_count": 1,
   "metadata": {},
   "outputs": [],
   "source": [
    "import ifm_contrib as ifm\n",
    "import pandas as pd"
   ]
  },
  {
   "cell_type": "code",
   "execution_count": 2,
   "metadata": {},
   "outputs": [],
   "source": [
    "selections = ['Kiesseen',\n",
    " 'Seitenentnahmen Nord',\n",
    " 'Seitenentnahmen Sued',\n",
    " 'Qa',\n",
    " 'Qb',\n",
    " 'Tertiaer_Stauer',\n",
    " 'Tertiaer_Leiter',\n",
    " 'Tertiaer_Sande_inQ',\n",
    " ]"
   ]
  },
  {
   "cell_type": "code",
   "execution_count": 3,
   "metadata": {},
   "outputs": [],
   "source": [
    "doc = ifm.loadDocument(\"../../../model/feflow_calib/femdata/FHMUC_135_MW_ARE_prior.fem\")"
   ]
  },
  {
   "cell_type": "markdown",
   "metadata": {},
   "source": [
    "### Check for Overlaps\n",
    "\n",
    "Create a matrix with the number of overlapping elements:"
   ]
  },
  {
   "cell_type": "code",
   "execution_count": 4,
   "metadata": {},
   "outputs": [],
   "source": [
    "df = pd.DataFrame(index=selections, columns=selections)\n",
    "for i in selections:\n",
    "    for j in selections:\n",
    "        if i==j:\n",
    "            continue\n",
    "        df.loc[i,j] = len(set(doc.c.sel.list(i)) & set(doc.c.sel.list(j)))"
   ]
  },
  {
   "cell_type": "code",
   "execution_count": 5,
   "metadata": {},
   "outputs": [
    {
     "data": {
      "text/html": [
       "<div>\n",
       "<style scoped>\n",
       "    .dataframe tbody tr th:only-of-type {\n",
       "        vertical-align: middle;\n",
       "    }\n",
       "\n",
       "    .dataframe tbody tr th {\n",
       "        vertical-align: top;\n",
       "    }\n",
       "\n",
       "    .dataframe thead th {\n",
       "        text-align: right;\n",
       "    }\n",
       "</style>\n",
       "<table border=\"1\" class=\"dataframe\">\n",
       "  <thead>\n",
       "    <tr style=\"text-align: right;\">\n",
       "      <th></th>\n",
       "      <th>Kiesseen</th>\n",
       "      <th>Seitenentnahmen Nord</th>\n",
       "      <th>Seitenentnahmen Sued</th>\n",
       "      <th>Qa</th>\n",
       "      <th>Qb</th>\n",
       "      <th>Tertiaer_Stauer</th>\n",
       "      <th>Tertiaer_Leiter</th>\n",
       "      <th>Tertiaer_Sande_inQ</th>\n",
       "    </tr>\n",
       "  </thead>\n",
       "  <tbody>\n",
       "    <tr>\n",
       "      <th>Kiesseen</th>\n",
       "      <td>NaN</td>\n",
       "      <td>0</td>\n",
       "      <td>0</td>\n",
       "      <td>0</td>\n",
       "      <td>0</td>\n",
       "      <td>0</td>\n",
       "      <td>0</td>\n",
       "      <td>0</td>\n",
       "    </tr>\n",
       "    <tr>\n",
       "      <th>Seitenentnahmen Nord</th>\n",
       "      <td>0</td>\n",
       "      <td>NaN</td>\n",
       "      <td>0</td>\n",
       "      <td>0</td>\n",
       "      <td>0</td>\n",
       "      <td>0</td>\n",
       "      <td>0</td>\n",
       "      <td>0</td>\n",
       "    </tr>\n",
       "    <tr>\n",
       "      <th>Seitenentnahmen Sued</th>\n",
       "      <td>0</td>\n",
       "      <td>0</td>\n",
       "      <td>NaN</td>\n",
       "      <td>0</td>\n",
       "      <td>0</td>\n",
       "      <td>0</td>\n",
       "      <td>0</td>\n",
       "      <td>0</td>\n",
       "    </tr>\n",
       "    <tr>\n",
       "      <th>Qa</th>\n",
       "      <td>0</td>\n",
       "      <td>0</td>\n",
       "      <td>0</td>\n",
       "      <td>NaN</td>\n",
       "      <td>0</td>\n",
       "      <td>0</td>\n",
       "      <td>0</td>\n",
       "      <td>0</td>\n",
       "    </tr>\n",
       "    <tr>\n",
       "      <th>Qb</th>\n",
       "      <td>0</td>\n",
       "      <td>0</td>\n",
       "      <td>0</td>\n",
       "      <td>0</td>\n",
       "      <td>NaN</td>\n",
       "      <td>0</td>\n",
       "      <td>0</td>\n",
       "      <td>0</td>\n",
       "    </tr>\n",
       "    <tr>\n",
       "      <th>Tertiaer_Stauer</th>\n",
       "      <td>0</td>\n",
       "      <td>0</td>\n",
       "      <td>0</td>\n",
       "      <td>0</td>\n",
       "      <td>0</td>\n",
       "      <td>NaN</td>\n",
       "      <td>0</td>\n",
       "      <td>0</td>\n",
       "    </tr>\n",
       "    <tr>\n",
       "      <th>Tertiaer_Leiter</th>\n",
       "      <td>0</td>\n",
       "      <td>0</td>\n",
       "      <td>0</td>\n",
       "      <td>0</td>\n",
       "      <td>0</td>\n",
       "      <td>0</td>\n",
       "      <td>NaN</td>\n",
       "      <td>0</td>\n",
       "    </tr>\n",
       "    <tr>\n",
       "      <th>Tertiaer_Sande_inQ</th>\n",
       "      <td>0</td>\n",
       "      <td>0</td>\n",
       "      <td>0</td>\n",
       "      <td>0</td>\n",
       "      <td>0</td>\n",
       "      <td>0</td>\n",
       "      <td>0</td>\n",
       "      <td>NaN</td>\n",
       "    </tr>\n",
       "  </tbody>\n",
       "</table>\n",
       "</div>"
      ],
      "text/plain": [
       "                     Kiesseen Seitenentnahmen Nord Seitenentnahmen Sued   Qa  \\\n",
       "Kiesseen                  NaN                    0                    0    0   \n",
       "Seitenentnahmen Nord        0                  NaN                    0    0   \n",
       "Seitenentnahmen Sued        0                    0                  NaN    0   \n",
       "Qa                          0                    0                    0  NaN   \n",
       "Qb                          0                    0                    0    0   \n",
       "Tertiaer_Stauer             0                    0                    0    0   \n",
       "Tertiaer_Leiter             0                    0                    0    0   \n",
       "Tertiaer_Sande_inQ          0                    0                    0    0   \n",
       "\n",
       "                       Qb Tertiaer_Stauer Tertiaer_Leiter Tertiaer_Sande_inQ  \n",
       "Kiesseen                0               0               0                  0  \n",
       "Seitenentnahmen Nord    0               0               0                  0  \n",
       "Seitenentnahmen Sued    0               0               0                  0  \n",
       "Qa                      0               0               0                  0  \n",
       "Qb                    NaN               0               0                  0  \n",
       "Tertiaer_Stauer         0             NaN               0                  0  \n",
       "Tertiaer_Leiter         0               0             NaN                  0  \n",
       "Tertiaer_Sande_inQ      0               0               0                NaN  "
      ]
     },
     "execution_count": 5,
     "metadata": {},
     "output_type": "execute_result"
    }
   ],
   "source": [
    "df"
   ]
  },
  {
   "cell_type": "markdown",
   "metadata": {},
   "source": [
    "### check for model coverage\n",
    "\n",
    "Check how many elements in the model are not covered by the set of selections."
   ]
  },
  {
   "cell_type": "code",
   "execution_count": 6,
   "metadata": {},
   "outputs": [],
   "source": [
    "all_elements = set(range(doc.getNumberOfElements()))\n",
    "for i in selections:\n",
    "    all_elements -= doc.c.sel.set(i)\n"
   ]
  },
  {
   "cell_type": "code",
   "execution_count": 7,
   "metadata": {},
   "outputs": [
    {
     "data": {
      "text/plain": [
       "31970"
      ]
     },
     "execution_count": 7,
     "metadata": {},
     "output_type": "execute_result"
    }
   ],
   "source": [
    "len(all_elements)"
   ]
  },
  {
   "cell_type": "markdown",
   "metadata": {},
   "source": [
    "save the remaining elements into a new selection"
   ]
  },
  {
   "cell_type": "code",
   "execution_count": null,
   "metadata": {},
   "outputs": [],
   "source": [
    "doc.c.sel.create(ifm.Enum.SEL_ELEMENTAL, \"uncalibrated_k\", list(all_elements), overwrite_existing=True)"
   ]
  },
  {
   "cell_type": "code",
   "execution_count": null,
   "metadata": {},
   "outputs": [],
   "source": [
    "doc.saveDocument(\"../../../model/feflow_calib/femdata/FHMUC_135_MW_ARE_prior.fem\")"
   ]
  }
 ],
 "metadata": {
  "hide_input": false,
  "kernelspec": {
   "display_name": "py36_dhi",
   "language": "python",
   "name": "py36_dhi"
  },
  "language_info": {
   "codemirror_mode": {
    "name": "ipython",
    "version": 3
   },
   "file_extension": ".py",
   "mimetype": "text/x-python",
   "name": "python",
   "nbconvert_exporter": "python",
   "pygments_lexer": "ipython3",
   "version": "3.6.10"
  },
  "toc": {
   "nav_menu": {},
   "number_sections": true,
   "sideBar": true,
   "skip_h1_title": true,
   "toc_cell": false,
   "toc_position": {},
   "toc_section_display": "block",
   "toc_window_display": false
  },
  "varInspector": {
   "cols": {
    "lenName": 16,
    "lenType": 16,
    "lenVar": 40
   },
   "kernels_config": {
    "python": {
     "delete_cmd_postfix": "",
     "delete_cmd_prefix": "del ",
     "library": "var_list.py",
     "varRefreshCmd": "print(var_dic_list())"
    },
    "r": {
     "delete_cmd_postfix": ") ",
     "delete_cmd_prefix": "rm(",
     "library": "var_list.r",
     "varRefreshCmd": "cat(var_dic_list()) "
    }
   },
   "types_to_exclude": [
    "module",
    "function",
    "builtin_function_or_method",
    "instance",
    "_Feature"
   ],
   "window_display": false
  }
 },
 "nbformat": 4,
 "nbformat_minor": 2
}
