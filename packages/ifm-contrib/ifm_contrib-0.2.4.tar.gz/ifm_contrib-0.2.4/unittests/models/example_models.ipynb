{
 "cells": [
  {
   "cell_type": "markdown",
   "metadata": {},
   "source": [
    "## Test Models for Boundary Conditions\n",
    "\n",
    "The following Modells are for demonstrating / testing boundary condition applications.\n",
    "\n",
    "| Description                                 | file                         | comment |\n",
    "|--------------------------------------------:|:-----------------------------|---------|\n",
    "|  Base Model                                 | box_3D_base.fem              |         |\n",
    "|  Example of Cauchy Type BC (standard)       | box_3D_cauchy_areal.fem      |         |\n",
    "|  Example of Cauchy Type BC (nodal via IFM)  | box_3D_cauchy_nodal.fem      | do not use (see below)  |\n",
    "|  Example of Neumann Type BC                 | box_3D_neumann.fem           |         |\n",
    "|  Example of Well Type BC                    | box_3D_wellBC.fem            |         |"
   ]
  },
  {
   "cell_type": "markdown",
   "metadata": {},
   "source": [
    "### Example of Cauchy Type BC (nodal via IFM)\n",
    "\n",
    "This type of boundary condition cannot be set through FEFLOWs GUI but only using the IFM API.\n",
    "Code below generates the example model from the base model:\n",
    "+ western border: \n",
    "  + Fixed head: 0 m\n",
    "+ river (chain of nodes on top slice): \n",
    "  + reference head: 10 m\n",
    "  + transfer rate: 1e10\n",
    "\n",
    "**Note: The Cauchy BC does currently not work correctly**"
   ]
  },
  {
   "cell_type": "code",
   "execution_count": 1,
   "metadata": {},
   "outputs": [
    {
     "data": {
      "text/plain": [
       "True"
      ]
     },
     "execution_count": 1,
     "metadata": {},
     "output_type": "execute_result"
    }
   ],
   "source": [
    "import ifm_contrib as ifm\n",
    "import numpy as np\n",
    "\n",
    "# create the test model with nodal type Cauchy BC\n",
    "doc = ifm.loadDocument(\"box_3D_base.fem\")\n",
    "\n",
    "# set fixed head to western border\n",
    "h_border = 1.  # m\n",
    "for n in doc.c.sel.list(\"west\"):\n",
    "    doc.setBcFlowTypeAndValueAtCurrentTime(n, ifm.Enum.BC_DIRICHLET, 0, h_border)\n",
    "\n",
    "# set nodal Cauchy BC to \"small_river\" selection\n",
    "h_ref = 10.  # m\n",
    "phi = 1e6  # m²/d\n",
    "doc.setCoupledRiverBndNodes(\n",
    "    doc.c.sel.list(\"small_river\"),  # list of nodes\n",
    "    list(np.ones_like(doc.c.sel.list(\"small_river\")) * h_ref),  # list of reference heads\n",
    "    list(np.ones_like(doc.c.sel.list(\"small_river\")) * phi)  # list of transfer rates\n",
    ")\n",
    "\n",
    "# create file\n",
    "doc.saveDocument(\"box_3D_cauchy_nodal.fem\")"
   ]
  },
  {
   "cell_type": "code",
   "execution_count": 2,
   "metadata": {},
   "outputs": [
    {
     "data": {
      "text/plain": [
       "[(262, 10.0, 1000000.0),\n",
       " (263, 10.0, 1000000.0),\n",
       " (264, 10.0, 1000000.0),\n",
       " (265, 10.0, 1000000.0),\n",
       " (266, 10.0, 1000000.0),\n",
       " (267, 10.0, 1000000.0),\n",
       " (268, 10.0, 1000000.0),\n",
       " (269, 10.0, 1000000.0),\n",
       " (270, 10.0, 1000000.0),\n",
       " (271, 10.0, 1000000.0),\n",
       " (272, 10.0, 1000000.0),\n",
       " (273, 10.0, 1000000.0),\n",
       " (274, 10.0, 1000000.0),\n",
       " (275, 10.0, 1000000.0),\n",
       " (276, 10.0, 1000000.0),\n",
       " (277, 10.0, 1000000.0),\n",
       " (278, 10.0, 1000000.0),\n",
       " (279, 10.0, 1000000.0),\n",
       " (280, 10.0, 1000000.0),\n",
       " (281, 10.0, 1000000.0),\n",
       " (282, 10.0, 1000000.0),\n",
       " (283, 10.0, 1000000.0),\n",
       " (284, 10.0, 1000000.0),\n",
       " (285, 10.0, 1000000.0)]"
      ]
     },
     "execution_count": 2,
     "metadata": {},
     "output_type": "execute_result"
    }
   ],
   "source": [
    "# error check - check node numbers, head vector, phi vector\n",
    "list(zip(doc.c.sel.list(\"small_river\"), list(np.ones_like(doc.c.sel.list(\"small_river\")) * h_ref), list(np.ones_like(doc.c.sel.list(\"small_river\")) * phi)))"
   ]
  }
 ],
 "metadata": {
  "interpreter": {
   "hash": "a1841ca704164b0fe4b12cf1bfb775bc9e0bf4f8d09c136519021cc27fbe23b4"
  },
  "kernelspec": {
   "display_name": "Python 3.10.2 ('py38_gis')",
   "language": "python",
   "name": "python3"
  },
  "language_info": {
   "codemirror_mode": {
    "name": "ipython",
    "version": 3
   },
   "file_extension": ".py",
   "mimetype": "text/x-python",
   "name": "python",
   "nbconvert_exporter": "python",
   "pygments_lexer": "ipython3",
   "version": "3.10.2"
  },
  "orig_nbformat": 4
 },
 "nbformat": 4,
 "nbformat_minor": 2
}
