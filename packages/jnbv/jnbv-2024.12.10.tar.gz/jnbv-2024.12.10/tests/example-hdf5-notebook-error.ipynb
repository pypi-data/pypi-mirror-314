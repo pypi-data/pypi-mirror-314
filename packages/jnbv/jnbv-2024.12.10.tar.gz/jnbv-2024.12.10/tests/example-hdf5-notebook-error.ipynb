{
 "cells": [
  {
   "cell_type": "markdown",
   "id": "379467ba",
   "metadata": {
    "tags": [
     "papermill-error-cell-tag"
    ]
   },
   "source": [
    "<span style=\"color:red; font-family:Helvetica Neue, Helvetica, Arial, sans-serif; font-size:2em;\">An Exception was encountered at '<a href=\"#papermill-error-cell\">In [1]</a>'.</span>"
   ]
  },
  {
   "cell_type": "markdown",
   "id": "e2f864f8",
   "metadata": {
    "papermill": {
     "duration": 0.019404,
     "end_time": "2021-07-30T08:46:53.119762",
     "exception": false,
     "start_time": "2021-07-30T08:46:53.100358",
     "status": "completed"
    },
    "tags": []
   },
   "source": [
    "# Simple HDF5 dataset plot"
   ]
  },
  {
   "cell_type": "markdown",
   "id": "bdfd000f",
   "metadata": {
    "papermill": {
     "duration": 0.007038,
     "end_time": "2021-07-30T08:46:53.140570",
     "exception": false,
     "start_time": "2021-07-30T08:46:53.133532",
     "status": "completed"
    },
    "tags": []
   },
   "source": [
    "### Import libraries"
   ]
  },
  {
   "cell_type": "markdown",
   "id": "d6d50699",
   "metadata": {
    "tags": [
     "papermill-error-cell-tag"
    ]
   },
   "source": [
    "<span id=\"papermill-error-cell\" style=\"color:red; font-family:Helvetica Neue, Helvetica, Arial, sans-serif; font-size:2em;\">Execution using papermill encountered an exception here and stopped:</span>"
   ]
  },
  {
   "cell_type": "code",
   "execution_count": 1,
   "id": "00c599e9",
   "metadata": {
    "execution": {
     "iopub.execute_input": "2021-07-30T08:46:53.158083Z",
     "iopub.status.busy": "2021-07-30T08:46:53.157645Z",
     "iopub.status.idle": "2021-07-30T08:46:53.160451Z",
     "shell.execute_reply": "2021-07-30T08:46:53.159881Z"
    },
    "papermill": {
     "duration": 0.01467,
     "end_time": "2021-07-30T08:46:53.160628",
     "exception": true,
     "start_time": "2021-07-30T08:46:53.145958",
     "status": "failed"
    },
    "tags": []
   },
   "outputs": [
    {
     "ename": "SyntaxError",
     "evalue": "invalid syntax (3182001171.py, line 2)",
     "output_type": "error",
     "traceback": [
      "\u001b[0;36m  File \u001b[0;32m\"/tmp/ipykernel_1562799/3182001171.py\"\u001b[0;36m, line \u001b[0;32m2\u001b[0m\n\u001b[0;31m    blimport h5py\u001b[0m\n\u001b[0m             ^\u001b[0m\n\u001b[0;31mSyntaxError\u001b[0m\u001b[0;31m:\u001b[0m invalid syntax\n"
     ]
    }
   ],
   "source": [
    "%matplotlib inline\n",
    "blimport h5py\n",
    "import matplotlib.pyplot as plt\n",
    "from matplotlib.colors import LogNorm\n",
    "\n",
    "print('If no errors, then everything was imported!')"
   ]
  },
  {
   "cell_type": "markdown",
   "id": "7322493a",
   "metadata": {
    "papermill": {
     "duration": null,
     "end_time": null,
     "exception": null,
     "start_time": null,
     "status": "pending"
    },
    "tags": []
   },
   "source": [
    "### Open data file, look at file structure"
   ]
  },
  {
   "cell_type": "code",
   "execution_count": null,
   "id": "1ab061a8",
   "metadata": {
    "papermill": {
     "duration": null,
     "end_time": null,
     "exception": null,
     "start_time": null,
     "status": "pending"
    },
    "tags": []
   },
   "outputs": [],
   "source": [
    "f = h5py.File('development/example-data.h5', 'r')"
   ]
  },
  {
   "cell_type": "markdown",
   "id": "41b75ac4",
   "metadata": {
    "papermill": {
     "duration": null,
     "end_time": null,
     "exception": null,
     "start_time": null,
     "status": "pending"
    },
    "tags": []
   },
   "source": [
    "### Specify a dataset to investigate"
   ]
  },
  {
   "cell_type": "code",
   "execution_count": null,
   "id": "46916198",
   "metadata": {
    "papermill": {
     "duration": null,
     "end_time": null,
     "exception": null,
     "start_time": null,
     "status": "pending"
    },
    "tags": []
   },
   "outputs": [],
   "source": [
    "dset = f['/scan_1/data_1/image']\n",
    "print('Got the dataset!')"
   ]
  },
  {
   "cell_type": "markdown",
   "id": "fcc367d3",
   "metadata": {
    "papermill": {
     "duration": null,
     "end_time": null,
     "exception": null,
     "start_time": null,
     "status": "pending"
    },
    "tags": []
   },
   "source": [
    "### Plot the image"
   ]
  },
  {
   "cell_type": "code",
   "execution_count": null,
   "id": "6cf8ab54",
   "metadata": {
    "papermill": {
     "duration": null,
     "end_time": null,
     "exception": null,
     "start_time": null,
     "status": "pending"
    },
    "tags": []
   },
   "outputs": [],
   "source": [
    "dset.shape\n",
    "dset.chunks\n",
    "nparr = dset[...]\n",
    "plt.imshow(nparr, norm=LogNorm())\n",
    "print('Ooh, pretty!')"
   ]
  },
  {
   "cell_type": "code",
   "execution_count": null,
   "id": "8f982b05",
   "metadata": {
    "papermill": {
     "duration": null,
     "end_time": null,
     "exception": null,
     "start_time": null,
     "status": "pending"
    },
    "tags": []
   },
   "outputs": [],
   "source": []
  }
 ],
 "metadata": {
  "kernelspec": {
   "display_name": "Example HDF5 Kernel",
   "language": "python",
   "name": "example_hdf5_kernel"
  },
  "language_info": {
   "codemirror_mode": {
    "name": "ipython",
    "version": 3
   },
   "file_extension": ".py",
   "mimetype": "text/x-python",
   "name": "python",
   "nbconvert_exporter": "python",
   "pygments_lexer": "ipython3",
   "version": "3.9.6"
  },
  "papermill": {
   "default_parameters": {},
   "duration": 1.13596,
   "end_time": "2021-07-30T08:46:53.269444",
   "environment_variables": {},
   "exception": true,
   "input_path": "tests/example-hdf5-notebook-invalid-syntax.ipynb",
   "output_path": "output.ipynb",
   "parameters": {},
   "start_time": "2021-07-30T08:46:52.133484",
   "version": "2.3.3"
  }
 },
 "nbformat": 4,
 "nbformat_minor": 5
}