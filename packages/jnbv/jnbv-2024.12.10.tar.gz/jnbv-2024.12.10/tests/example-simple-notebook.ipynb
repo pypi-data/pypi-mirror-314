{
 "cells": [
  {
   "cell_type": "code",
   "execution_count": 1,
   "id": "d85a528d",
   "metadata": {
    "execution": {
     "iopub.execute_input": "2021-08-02T08:27:55.486388Z",
     "iopub.status.busy": "2021-08-02T08:27:55.484768Z",
     "iopub.status.idle": "2021-08-02T08:27:55.493231Z",
     "shell.execute_reply": "2021-08-02T08:27:55.492669Z"
    },
    "papermill": {
     "duration": 0.032854,
     "end_time": "2021-08-02T08:27:55.493362",
     "exception": false,
     "start_time": "2021-08-02T08:27:55.460508",
     "status": "completed"
    },
    "tags": []
   },
   "outputs": [
    {
     "name": "stdout",
     "output_type": "stream",
     "text": [
      "42\n"
     ]
    }
   ],
   "source": [
    "the_answer = 6 * 7\n",
    "print(the_answer)"
   ]
  },
  {
   "cell_type": "code",
   "execution_count": null,
   "id": "3c69a006",
   "metadata": {
    "papermill": {
     "duration": 0.002067,
     "end_time": "2021-08-02T08:27:55.497845",
     "exception": false,
     "start_time": "2021-08-02T08:27:55.495778",
     "status": "completed"
    },
    "tags": []
   },
   "outputs": [],
   "source": []
  }
 ],
 "metadata": {
  "kernelspec": {
   "display_name": "HDF5 / Simple Analysis / GPU / Validation",
   "language": "python",
   "name": "maxiv-jhub-hpc-kernel-hdf5_validation"
  },
  "language_info": {
   "codemirror_mode": {
    "name": "ipython",
    "version": 3
   },
   "file_extension": ".py",
   "mimetype": "text/x-python",
   "name": "python",
   "nbconvert_exporter": "python",
   "pygments_lexer": "ipython3",
   "version": "3.9.6"
  },
  "papermill": {
   "default_parameters": {},
   "duration": 1.100275,
   "end_time": "2021-08-02T08:27:55.604609",
   "environment_variables": {},
   "exception": null,
   "input_path": "development/the-meaning-of-life.ipynb",
   "output_path": "output.ipynb",
   "parameters": {},
   "start_time": "2021-08-02T08:27:54.504334",
   "version": "2.3.3"
  }
 },
 "nbformat": 4,
 "nbformat_minor": 5
}