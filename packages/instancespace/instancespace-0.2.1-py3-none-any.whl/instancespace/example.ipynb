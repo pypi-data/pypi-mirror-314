{
 "cells": [
  {
   "cell_type": "code",
   "execution_count": 2,
   "metadata": {},
   "outputs": [
    {
     "ename": "ModuleNotFoundError",
     "evalue": "No module named 'build'",
     "output_type": "error",
     "traceback": [
      "\u001B[1;31m---------------------------------------------------------------------------\u001B[0m",
      "\u001B[1;31mModuleNotFoundError\u001B[0m                       Traceback (most recent call last)",
      "\u001B[1;32m~\\AppData\\Local\\Temp\\ipykernel_25972\\776100302.py\u001B[0m in \u001B[0;36m<module>\u001B[1;34m\u001B[0m\n\u001B[0;32m      1\u001B[0m \u001B[1;32mimport\u001B[0m \u001B[0mjson\u001B[0m\u001B[1;33m\u001B[0m\u001B[1;33m\u001B[0m\u001B[0m\n\u001B[0;32m      2\u001B[0m \u001B[1;33m\u001B[0m\u001B[0m\n\u001B[1;32m----> 3\u001B[1;33m \u001B[1;32mimport\u001B[0m \u001B[0mbuild\u001B[0m\u001B[1;33m\u001B[0m\u001B[1;33m\u001B[0m\u001B[0m\n\u001B[0m\u001B[0;32m      4\u001B[0m \u001B[1;33m\u001B[0m\u001B[0m\n\u001B[0;32m      5\u001B[0m \u001B[0mrootdir\u001B[0m \u001B[1;33m=\u001B[0m \u001B[1;34m\"./trial/\"\u001B[0m\u001B[1;33m\u001B[0m\u001B[1;33m\u001B[0m\u001B[0m\n",
      "\u001B[1;31mModuleNotFoundError\u001B[0m: No module named 'build'"
     ]
    }
   ],
   "source": [
    "import json\n",
    "\n",
    "import build\n",
    "\n",
    "rootdir = \"./trial/\"\n",
    "\n",
    "opts = {\n",
    "    \"parallel\": {\n",
    "        \"flag\": False,\n",
    "        \"ncores\": 2,\n",
    "    },\n",
    "    \"perf\": {\n",
    "        \"MaxPerf\": False,  # True if Y is a performance measure to maximize, False if it is a cost measure to minimise.\n",
    "        \"AbsPerf\": True,  # True if an absolute performance measure, False if a relative performance measure\n",
    "        \"epsilon\": 0.20,  # Threshold of good performance\n",
    "        \"betaThreshold\": 0.55,  # Beta-easy threshold\n",
    "    },\n",
    "    \"auto\": {\n",
    "        \"preproc\": True,  # Automatic preprocessing on. Set to false if you don't want any preprocessing\n",
    "    },\n",
    "    \"bound\": {\n",
    "        \"flag\": True,  # Bound the outliers. True if you want to bound the outliers, false if you don't\n",
    "    },\n",
    "    \"norm\": {\n",
    "        \"flag\": True,  # Normalize/Standarize the data. True if you want to apply Box-Cox and Z transformations to stabilize the variance and scale N(0,1)\n",
    "    },\n",
    "    \"selvars\": {\n",
    "        \"smallscaleflag\": False,  # True if you want to do a small scale experiment with a percentage of the available instances\n",
    "        \"smallscale\": 0.50,  # Percentage of instances to be kept for a small scale experiment\n",
    "        # You can also provide a file with the indexes of the instances to be used.\n",
    "        # This should be a csvfile with a single column of integer numbers that\n",
    "        # should be lower than the number of instances\n",
    "        \"fileidxflag\": False,\n",
    "        \"fileidx\": \"\",\n",
    "        \"densityflag\": False,\n",
    "        \"mindistance\": 0.1,\n",
    "        \"type\": \"Ftr&Good\",\n",
    "    },\n",
    "    \"sifted\": {\n",
    "        \"flag\": True,  # Automatic feature selectio on. Set to false if you don't want any feature selection.\n",
    "        \"rho\": 0.1,  # Minimum correlation value acceptable between performance and a feature. Between 0 and 1\n",
    "        \"K\": 10,  # Number of final features. Ideally less than 10.\n",
    "        \"NTREES\": 50,  # Number of trees for the Random Forest (to determine highest separability in the 2-d projection)\n",
    "        \"MaxIter\": 1000,\n",
    "        \"Replicates\": 100,\n",
    "    },\n",
    "    \"pilot\": {\n",
    "        \"analytic\": False,  # Calculate the analytical or numerical solution\n",
    "        \"ntries\": 5,  # Number of attempts carried out by PBLDR\n",
    "    },\n",
    "    \"cloister\": {\n",
    "        \"pval\": 0.05,\n",
    "        \"cthres\": 0.7,\n",
    "    },\n",
    "    \"pythia\": {\n",
    "        \"cvfolds\": 5,\n",
    "        \"ispolykrnl\": False,\n",
    "        \"useweights\": False,\n",
    "        \"uselibsvm\": False,\n",
    "    },\n",
    "    \"trace\": {\n",
    "        \"usesim\": True,  # Use the actual or simulated data to calculate the footprints\n",
    "        \"PI\": 0.55,  # Purity threshold\n",
    "    },\n",
    "    \"outputs\": {\n",
    "        \"csv\": True,\n",
    "        \"web\": False,  # NOTE: MAKE THIS FALSE IF YOU ARE USING THIS CODE LOCALY - This flag is only useful if the system is being used 'online' through instancespace.unimelb.edu.au\n",
    "        \"png\": True,\n",
    "    },\n",
    "}\n",
    "\n",
    "with open(f\"{rootdir}options.json\", \"w+\") as fid:\n",
    "    json.dump(opts, fid, indent=4)"
   ]
  },
  {
   "cell_type": "code",
   "execution_count": null,
   "metadata": {},
   "outputs": [],
   "source": [
    "model = build.build_instance_space(rootdir)"
   ]
  }
 ],
 "metadata": {
  "kernelspec": {
   "display_name": "Python 3 (ipykernel)",
   "language": "python",
   "name": "python3"
  },
  "language_info": {
   "codemirror_mode": {
    "name": "ipython",
    "version": 3
   },
   "file_extension": ".py",
   "mimetype": "text/x-python",
   "name": "python",
   "nbconvert_exporter": "python",
   "pygments_lexer": "ipython3",
   "version": "3.9.13"
  }
 },
 "nbformat": 4,
 "nbformat_minor": 2
}
