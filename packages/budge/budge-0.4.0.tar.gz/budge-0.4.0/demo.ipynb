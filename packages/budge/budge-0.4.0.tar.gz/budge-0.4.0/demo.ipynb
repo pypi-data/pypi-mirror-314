{
 "cells": [
  {
   "cell_type": "code",
   "execution_count": 1,
   "metadata": {},
   "outputs": [
    {
     "data": {
      "text/plain": [
       "<stockholm.Money: \"1.00\">"
      ]
     },
     "execution_count": 1,
     "metadata": {},
     "output_type": "execute_result"
    }
   ],
   "source": [
    "from budge import Account, Transaction, RepeatingTransaction\n",
    "from datetime import date\n",
    "from dateutil.rrule import rrule, MONTHLY\n",
    "from stockholm import Money\n",
    "\n",
    "today = date(2022, 12, 6)\n",
    "\n",
    "rt1 = RepeatingTransaction(Money(1), \"test 1\", schedule=rrule(freq=MONTHLY, bymonthday=1, dtstart=today))\n",
    "rt2 = RepeatingTransaction(Money(2), \"test 2\", schedule=rrule(freq=MONTHLY, bymonthday=15, dtstart=today))\n",
    "t1 = Transaction(Money(1), \"test 1\", date(2022, 12, 1))\n",
    "acct = Account(\"test\", set([t1]), set([rt1, rt2]))\n",
    "acct.balance(today)"
   ]
  },
  {
   "cell_type": "code",
   "execution_count": 2,
   "metadata": {},
   "outputs": [
    {
     "data": {
      "text/plain": [
       "<stockholm.Money: \"37.00\">"
      ]
     },
     "execution_count": 2,
     "metadata": {},
     "output_type": "execute_result"
    }
   ],
   "source": [
    "from dateutil.relativedelta import relativedelta\n",
    "\n",
    "as_of = today + relativedelta(years=1)\n",
    "\n",
    "acct.balance(as_of)"
   ]
  },
  {
   "cell_type": "code",
   "execution_count": 3,
   "metadata": {},
   "outputs": [
    {
     "name": "stdout",
     "output_type": "stream",
     "text": [
      "-9.00\n",
      "10.00\n"
     ]
    }
   ],
   "source": [
    "from budge.transfer import Transfer\n",
    "\n",
    "\n",
    "acct2 = Account(\"test 2\")\n",
    "transfer = Transfer(Money(10), \"test transfer\", today, from_account=acct, to_account=acct2)\n",
    "print(acct.balance(today))\n",
    "print(acct2.balance(today))"
   ]
  }
 ],
 "metadata": {
  "kernelspec": {
   "display_name": ".venv",
   "language": "python",
   "name": "python3"
  },
  "language_info": {
   "codemirror_mode": {
    "name": "ipython",
    "version": 3
   },
   "file_extension": ".py",
   "mimetype": "text/x-python",
   "name": "python",
   "nbconvert_exporter": "python",
   "pygments_lexer": "ipython3",
   "version": "3.13.1"
  }
 },
 "nbformat": 4,
 "nbformat_minor": 2
}
