{
 "cells": [
  {
   "cell_type": "code",
   "execution_count": 1,
   "metadata": {},
   "outputs": [
    {
     "data": {
      "text/plain": [
       "<stockholm.Money: \"1.00\">"
      ]
     },
     "execution_count": 1,
     "metadata": {},
     "output_type": "execute_result"
    }
   ],
   "source": [
    "from budge import Account, Transaction, RecurringTransaction\n",
    "from datetime import date\n",
    "from dateutil.rrule import rrule, MONTHLY\n",
    "from stockholm import Money\n",
    "\n",
    "today = date(2022, 12, 6)\n",
    "\n",
    "rt1 = RecurringTransaction(Money(1), \"test 1\", schedule=rrule(freq=MONTHLY, bymonthday=1, dtstart=today))\n",
    "rt2 = RecurringTransaction(Money(2), \"test 2\", schedule=rrule(freq=MONTHLY, bymonthday=15, dtstart=today))\n",
    "t1 = Transaction(Money(1), \"test 1\", date(2022, 12, 1))\n",
    "acct = Account(\"test\", [t1], [rt1, rt2])\n",
    "acct.balance(today)"
   ]
  },
  {
   "cell_type": "code",
   "execution_count": 2,
   "metadata": {},
   "outputs": [
    {
     "name": "stdout",
     "output_type": "stream",
     "text": [
      "Transaction(amount=<stockholm.Money: \"2.00\">, description='test 2', date=datetime.date(2022, 12, 15), parent=RecurringTransaction(amount=<stockholm.Money: \"2.00\">, description='test 2', date=datetime.date(2024, 12, 8), parent=None, schedule=<dateutil.rrule.rrule object at 0x1070eaad0>))\n",
      "Transaction(amount=<stockholm.Money: \"1.00\">, description='test 1', date=datetime.date(2023, 1, 1), parent=RecurringTransaction(amount=<stockholm.Money: \"1.00\">, description='test 1', date=datetime.date(2024, 12, 8), parent=None, schedule=<dateutil.rrule.rrule object at 0x107498c20>))\n",
      "Transaction(amount=<stockholm.Money: \"2.00\">, description='test 2', date=datetime.date(2023, 1, 15), parent=RecurringTransaction(amount=<stockholm.Money: \"2.00\">, description='test 2', date=datetime.date(2024, 12, 8), parent=None, schedule=<dateutil.rrule.rrule object at 0x1070eaad0>))\n",
      "Transaction(amount=<stockholm.Money: \"1.00\">, description='test 1', date=datetime.date(2023, 2, 1), parent=RecurringTransaction(amount=<stockholm.Money: \"1.00\">, description='test 1', date=datetime.date(2024, 12, 8), parent=None, schedule=<dateutil.rrule.rrule object at 0x107498c20>))\n",
      "Transaction(amount=<stockholm.Money: \"2.00\">, description='test 2', date=datetime.date(2023, 2, 15), parent=RecurringTransaction(amount=<stockholm.Money: \"2.00\">, description='test 2', date=datetime.date(2024, 12, 8), parent=None, schedule=<dateutil.rrule.rrule object at 0x1070eaad0>))\n",
      "Transaction(amount=<stockholm.Money: \"1.00\">, description='test 1', date=datetime.date(2023, 3, 1), parent=RecurringTransaction(amount=<stockholm.Money: \"1.00\">, description='test 1', date=datetime.date(2024, 12, 8), parent=None, schedule=<dateutil.rrule.rrule object at 0x107498c20>))\n",
      "Transaction(amount=<stockholm.Money: \"2.00\">, description='test 2', date=datetime.date(2023, 3, 15), parent=RecurringTransaction(amount=<stockholm.Money: \"2.00\">, description='test 2', date=datetime.date(2024, 12, 8), parent=None, schedule=<dateutil.rrule.rrule object at 0x1070eaad0>))\n",
      "Transaction(amount=<stockholm.Money: \"1.00\">, description='test 1', date=datetime.date(2023, 4, 1), parent=RecurringTransaction(amount=<stockholm.Money: \"1.00\">, description='test 1', date=datetime.date(2024, 12, 8), parent=None, schedule=<dateutil.rrule.rrule object at 0x107498c20>))\n",
      "Transaction(amount=<stockholm.Money: \"2.00\">, description='test 2', date=datetime.date(2023, 4, 15), parent=RecurringTransaction(amount=<stockholm.Money: \"2.00\">, description='test 2', date=datetime.date(2024, 12, 8), parent=None, schedule=<dateutil.rrule.rrule object at 0x1070eaad0>))\n",
      "Transaction(amount=<stockholm.Money: \"1.00\">, description='test 1', date=datetime.date(2023, 5, 1), parent=RecurringTransaction(amount=<stockholm.Money: \"1.00\">, description='test 1', date=datetime.date(2024, 12, 8), parent=None, schedule=<dateutil.rrule.rrule object at 0x107498c20>))\n",
      "Transaction(amount=<stockholm.Money: \"2.00\">, description='test 2', date=datetime.date(2023, 5, 15), parent=RecurringTransaction(amount=<stockholm.Money: \"2.00\">, description='test 2', date=datetime.date(2024, 12, 8), parent=None, schedule=<dateutil.rrule.rrule object at 0x1070eaad0>))\n",
      "Transaction(amount=<stockholm.Money: \"1.00\">, description='test 1', date=datetime.date(2023, 6, 1), parent=RecurringTransaction(amount=<stockholm.Money: \"1.00\">, description='test 1', date=datetime.date(2024, 12, 8), parent=None, schedule=<dateutil.rrule.rrule object at 0x107498c20>))\n",
      "Transaction(amount=<stockholm.Money: \"2.00\">, description='test 2', date=datetime.date(2023, 6, 15), parent=RecurringTransaction(amount=<stockholm.Money: \"2.00\">, description='test 2', date=datetime.date(2024, 12, 8), parent=None, schedule=<dateutil.rrule.rrule object at 0x1070eaad0>))\n",
      "Transaction(amount=<stockholm.Money: \"1.00\">, description='test 1', date=datetime.date(2023, 7, 1), parent=RecurringTransaction(amount=<stockholm.Money: \"1.00\">, description='test 1', date=datetime.date(2024, 12, 8), parent=None, schedule=<dateutil.rrule.rrule object at 0x107498c20>))\n",
      "Transaction(amount=<stockholm.Money: \"2.00\">, description='test 2', date=datetime.date(2023, 7, 15), parent=RecurringTransaction(amount=<stockholm.Money: \"2.00\">, description='test 2', date=datetime.date(2024, 12, 8), parent=None, schedule=<dateutil.rrule.rrule object at 0x1070eaad0>))\n",
      "Transaction(amount=<stockholm.Money: \"1.00\">, description='test 1', date=datetime.date(2023, 8, 1), parent=RecurringTransaction(amount=<stockholm.Money: \"1.00\">, description='test 1', date=datetime.date(2024, 12, 8), parent=None, schedule=<dateutil.rrule.rrule object at 0x107498c20>))\n",
      "Transaction(amount=<stockholm.Money: \"2.00\">, description='test 2', date=datetime.date(2023, 8, 15), parent=RecurringTransaction(amount=<stockholm.Money: \"2.00\">, description='test 2', date=datetime.date(2024, 12, 8), parent=None, schedule=<dateutil.rrule.rrule object at 0x1070eaad0>))\n",
      "Transaction(amount=<stockholm.Money: \"1.00\">, description='test 1', date=datetime.date(2023, 9, 1), parent=RecurringTransaction(amount=<stockholm.Money: \"1.00\">, description='test 1', date=datetime.date(2024, 12, 8), parent=None, schedule=<dateutil.rrule.rrule object at 0x107498c20>))\n",
      "Transaction(amount=<stockholm.Money: \"2.00\">, description='test 2', date=datetime.date(2023, 9, 15), parent=RecurringTransaction(amount=<stockholm.Money: \"2.00\">, description='test 2', date=datetime.date(2024, 12, 8), parent=None, schedule=<dateutil.rrule.rrule object at 0x1070eaad0>))\n",
      "Transaction(amount=<stockholm.Money: \"1.00\">, description='test 1', date=datetime.date(2023, 10, 1), parent=RecurringTransaction(amount=<stockholm.Money: \"1.00\">, description='test 1', date=datetime.date(2024, 12, 8), parent=None, schedule=<dateutil.rrule.rrule object at 0x107498c20>))\n",
      "Transaction(amount=<stockholm.Money: \"2.00\">, description='test 2', date=datetime.date(2023, 10, 15), parent=RecurringTransaction(amount=<stockholm.Money: \"2.00\">, description='test 2', date=datetime.date(2024, 12, 8), parent=None, schedule=<dateutil.rrule.rrule object at 0x1070eaad0>))\n",
      "Transaction(amount=<stockholm.Money: \"1.00\">, description='test 1', date=datetime.date(2023, 11, 1), parent=RecurringTransaction(amount=<stockholm.Money: \"1.00\">, description='test 1', date=datetime.date(2024, 12, 8), parent=None, schedule=<dateutil.rrule.rrule object at 0x107498c20>))\n",
      "Transaction(amount=<stockholm.Money: \"2.00\">, description='test 2', date=datetime.date(2023, 11, 15), parent=RecurringTransaction(amount=<stockholm.Money: \"2.00\">, description='test 2', date=datetime.date(2024, 12, 8), parent=None, schedule=<dateutil.rrule.rrule object at 0x1070eaad0>))\n",
      "Transaction(amount=<stockholm.Money: \"1.00\">, description='test 1', date=datetime.date(2023, 12, 1), parent=RecurringTransaction(amount=<stockholm.Money: \"1.00\">, description='test 1', date=datetime.date(2024, 12, 8), parent=None, schedule=<dateutil.rrule.rrule object at 0x107498c20>))\n"
     ]
    },
    {
     "data": {
      "text/plain": [
       "<stockholm.Money: \"37.00\">"
      ]
     },
     "execution_count": 2,
     "metadata": {},
     "output_type": "execute_result"
    }
   ],
   "source": [
    "from dateutil.relativedelta import relativedelta\n",
    "\n",
    "as_of = today + relativedelta(years=1)\n",
    "\n",
    "for t in acct.transactions_range(start_date=today, end_date=as_of):\n",
    "    print(t)\n",
    "\n",
    "acct.balance(as_of)"
   ]
  },
  {
   "cell_type": "code",
   "execution_count": null,
   "metadata": {},
   "outputs": [],
   "source": [
    "from budge.transfer import Transfer\n",
    "\n",
    "\n",
    "acct2 = Account(\"test 2\")\n",
    "transfer = Transfer(Money(10), \"test transfer\", today, from_account=acct, to_account=acct2)\n",
    "print(acct.balance(today))\n",
    "print(acct2.balance(today))"
   ]
  }
 ],
 "metadata": {
  "kernelspec": {
   "display_name": ".venv",
   "language": "python",
   "name": "python3"
  },
  "language_info": {
   "codemirror_mode": {
    "name": "ipython",
    "version": 3
   },
   "file_extension": ".py",
   "mimetype": "text/x-python",
   "name": "python",
   "nbconvert_exporter": "python",
   "pygments_lexer": "ipython3",
   "version": "3.13.1"
  }
 },
 "nbformat": 4,
 "nbformat_minor": 2
}
