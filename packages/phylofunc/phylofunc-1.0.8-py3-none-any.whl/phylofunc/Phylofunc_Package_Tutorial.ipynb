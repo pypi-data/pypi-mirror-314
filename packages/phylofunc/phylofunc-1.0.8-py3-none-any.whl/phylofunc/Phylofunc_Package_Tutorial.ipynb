{
 "cells": [
  {
   "cell_type": "code",
   "execution_count": null,
   "id": "20d87a82",
   "metadata": {},
   "outputs": [],
   "source": [
    "## This notebook provides a tutorial to calculate PhyloFunc distance using PhyloFunc package\n",
    "## Users can use pip to install PhyloFunc: \n",
    "!pip install PhyloFunc "
   ]
  },
  {
   "cell_type": "code",
   "execution_count": 1,
   "id": "e4285cbc",
   "metadata": {},
   "outputs": [],
   "source": [
    "import pandas as pd"
   ]
  },
  {
   "cell_type": "code",
   "execution_count": null,
   "id": "33f775c5",
   "metadata": {},
   "outputs": [],
   "source": [
    "# Step1: Prepare a phylogeny-informed Taxon-Function table in CSV format. \n",
    "## Table Instructions:\n",
    "### Include Taxa IDs, functional accessions, and protein intensity.\n",
    "### Column names are: Taxon, Function, and sample names for the metaproteomic intensity data.\n",
    "\n",
    "## The example dataset shows an in vitro human gut microbiome cultured in a RapidAIM assay,\n",
    "## with or without the presence different concentrations of diclofenac (DCLF).\n",
    "Taxon_Function = pd.read_csv(\"Taxon_Function_distance.csv\", sep = ',')\n",
    "\n",
    "# Additional notes\n",
    "## \"Taxon\" in the example data refers to Genome IDs in the MGYG (UHGG) database.\n",
    "## To use the embedded UHGG tree file, users can search with MetaLab-MAG or their own UHGG database.\n",
    "## Genome ids can be extracted from the protein groups."
   ]
  },
  {
   "cell_type": "code",
   "execution_count": 13,
   "id": "fb539a11",
   "metadata": {},
   "outputs": [
    {
     "name": "stdout",
     "output_type": "stream",
     "text": [
      "All 'MGYG' taxa in the sample data are present as leaf nodes in the tree.\n",
      "The optimized PhyloFunc distance between \"DC.M.48.1\" and \"DC.H.48.1\" is 0.8321142921985824.\n",
      "Finish, time consumed: 67.42 seconds\n"
     ]
    }
   ],
   "source": [
    "# Step2.1: import PhyloFunc package and calculate the PhyloFunc distance \n",
    "## The PhyloFunc_distance function takes a CSV file as input\n",
    "from PhyloFunc import PhyloFunc_distance\n",
    "## UHGG-based tree is automatically called within the function\n",
    "## If user use self-defined tree, use the tree_file='user_tree_file.nwk' option.\n",
    "PhyloFunc_distance(sample_file=\"Taxon_Function_distance.csv\")"
   ]
  },
  {
   "cell_type": "code",
   "execution_count": 15,
   "id": "e7dc408f",
   "metadata": {
    "scrolled": true
   },
   "outputs": [
    {
     "name": "stdout",
     "output_type": "stream",
     "text": [
      "All 'MGYG' taxa in the sample data are present as leaf nodes in the tree.\n",
      "The PhyloFunc distance between \"DC.M.48.1\" and \"DC.H.48.1\" is 0.8321142921985824.\n",
      "The PhyloFunc distance between \"DC.M.48.1\" and \"DC.M.48.2\" is 0.2394535190584824.\n",
      "The PhyloFunc distance between \"DC.M.48.1\" and \"NC.1D.48.1\" is 0.43678643420648283.\n",
      "The PhyloFunc distance between \"DC.M.48.1\" and \"DC.H.48.2\" is 0.8123061121497435.\n",
      "The PhyloFunc distance between \"DC.M.48.1\" and \"DC.L.48.1\" is 0.42088500449121574.\n",
      "The PhyloFunc distance between \"DC.M.48.1\" and \"NC.1D.48.2\" is 0.48320670447482517.\n",
      "The PhyloFunc distance between \"DC.M.48.1\" and \"DC.L.48.2\" is 0.37603616054554106.\n",
      "The PhyloFunc distance between \"DC.M.48.1\" and \"DC.L.48.3\" is 0.4044582725811166.\n",
      "The PhyloFunc distance between \"DC.M.48.1\" and \"DC.H.48.3\" is 0.8241333657248588.\n",
      "The PhyloFunc distance between \"DC.M.48.1\" and \"DC.M.48.3\" is 0.2727916696176611.\n",
      "The PhyloFunc distance between \"DC.M.48.1\" and \"NC.1D.48.3\" is 0.42575166157275796.\n",
      "The PhyloFunc distance between \"DC.H.48.1\" and \"DC.M.48.2\" is 0.8599182656990201.\n",
      "The PhyloFunc distance between \"DC.H.48.1\" and \"NC.1D.48.1\" is 0.9485782621197548.\n",
      "The PhyloFunc distance between \"DC.H.48.1\" and \"DC.H.48.2\" is 0.49854790727378945.\n",
      "The PhyloFunc distance between \"DC.H.48.1\" and \"DC.L.48.1\" is 0.9205015190788938.\n",
      "The PhyloFunc distance between \"DC.H.48.1\" and \"NC.1D.48.2\" is 0.9649170133747995.\n",
      "The PhyloFunc distance between \"DC.H.48.1\" and \"DC.L.48.2\" is 0.901389811851876.\n",
      "The PhyloFunc distance between \"DC.H.48.1\" and \"DC.L.48.3\" is 0.9378268532656852.\n",
      "The PhyloFunc distance between \"DC.H.48.1\" and \"DC.H.48.3\" is 0.37531251472815336.\n",
      "The PhyloFunc distance between \"DC.H.48.1\" and \"DC.M.48.3\" is 0.8453262071666665.\n",
      "The PhyloFunc distance between \"DC.H.48.1\" and \"NC.1D.48.3\" is 0.9224080326531557.\n",
      "The PhyloFunc distance between \"DC.M.48.2\" and \"NC.1D.48.1\" is 0.4127660236180103.\n",
      "The PhyloFunc distance between \"DC.M.48.2\" and \"DC.H.48.2\" is 0.8244732097349514.\n",
      "The PhyloFunc distance between \"DC.M.48.2\" and \"DC.L.48.1\" is 0.39455594557439044.\n",
      "The PhyloFunc distance between \"DC.M.48.2\" and \"NC.1D.48.2\" is 0.4607942026258133.\n",
      "The PhyloFunc distance between \"DC.M.48.2\" and \"DC.L.48.2\" is 0.3294248045023521.\n",
      "The PhyloFunc distance between \"DC.M.48.2\" and \"DC.L.48.3\" is 0.38702414214558367.\n",
      "The PhyloFunc distance between \"DC.M.48.2\" and \"DC.H.48.3\" is 0.8406852948100809.\n",
      "The PhyloFunc distance between \"DC.M.48.2\" and \"DC.M.48.3\" is 0.3063569523940118.\n",
      "The PhyloFunc distance between \"DC.M.48.2\" and \"NC.1D.48.3\" is 0.4099938500885798.\n",
      "The PhyloFunc distance between \"NC.1D.48.1\" and \"DC.H.48.2\" is 0.9154503176156229.\n",
      "The PhyloFunc distance between \"NC.1D.48.1\" and \"DC.L.48.1\" is 0.39911325773185197.\n",
      "The PhyloFunc distance between \"NC.1D.48.1\" and \"NC.1D.48.2\" is 0.3517356353789157.\n",
      "The PhyloFunc distance between \"NC.1D.48.1\" and \"DC.L.48.2\" is 0.32389461252596957.\n",
      "The PhyloFunc distance between \"NC.1D.48.1\" and \"DC.L.48.3\" is 0.31046219140713815.\n",
      "The PhyloFunc distance between \"NC.1D.48.1\" and \"DC.H.48.3\" is 0.9372719621535147.\n",
      "The PhyloFunc distance between \"NC.1D.48.1\" and \"DC.M.48.3\" is 0.4411209459917161.\n",
      "The PhyloFunc distance between \"NC.1D.48.1\" and \"NC.1D.48.3\" is 0.3581105584359236.\n",
      "The PhyloFunc distance between \"DC.H.48.2\" and \"DC.L.48.1\" is 0.9071391851242511.\n",
      "The PhyloFunc distance between \"DC.H.48.2\" and \"NC.1D.48.2\" is 0.9417035186302033.\n",
      "The PhyloFunc distance between \"DC.H.48.2\" and \"DC.L.48.2\" is 0.8778174776088377.\n",
      "The PhyloFunc distance between \"DC.H.48.2\" and \"DC.L.48.3\" is 0.9127097861815219.\n",
      "The PhyloFunc distance between \"DC.H.48.2\" and \"DC.H.48.3\" is 0.3849091928204622.\n",
      "The PhyloFunc distance between \"DC.H.48.2\" and \"DC.M.48.3\" is 0.8207637190397448.\n",
      "The PhyloFunc distance between \"DC.H.48.2\" and \"NC.1D.48.3\" is 0.8977486669044601.\n",
      "The PhyloFunc distance between \"DC.L.48.1\" and \"NC.1D.48.2\" is 0.3599336822333258.\n",
      "The PhyloFunc distance between \"DC.L.48.1\" and \"DC.L.48.2\" is 0.37575454378709366.\n",
      "The PhyloFunc distance between \"DC.L.48.1\" and \"DC.L.48.3\" is 0.4105147663500811.\n",
      "The PhyloFunc distance between \"DC.L.48.1\" and \"DC.H.48.3\" is 0.913000847787634.\n",
      "The PhyloFunc distance between \"DC.L.48.1\" and \"DC.M.48.3\" is 0.41785731567934253.\n",
      "The PhyloFunc distance between \"DC.L.48.1\" and \"NC.1D.48.3\" is 0.3205464142494441.\n",
      "The PhyloFunc distance between \"NC.1D.48.2\" and \"DC.L.48.2\" is 0.3363650934832767.\n",
      "The PhyloFunc distance between \"NC.1D.48.2\" and \"DC.L.48.3\" is 0.37123289351672584.\n",
      "The PhyloFunc distance between \"NC.1D.48.2\" and \"DC.H.48.3\" is 0.9580222255707881.\n",
      "The PhyloFunc distance between \"NC.1D.48.2\" and \"DC.M.48.3\" is 0.46485538794081227.\n",
      "The PhyloFunc distance between \"NC.1D.48.2\" and \"NC.1D.48.3\" is 0.33582452650982747.\n",
      "The PhyloFunc distance between \"DC.L.48.2\" and \"DC.L.48.3\" is 0.3477622557761169.\n",
      "The PhyloFunc distance between \"DC.L.48.2\" and \"DC.H.48.3\" is 0.8889751949305492.\n",
      "The PhyloFunc distance between \"DC.L.48.2\" and \"DC.M.48.3\" is 0.36875657330025485.\n",
      "The PhyloFunc distance between \"DC.L.48.2\" and \"NC.1D.48.3\" is 0.31913406107547576.\n",
      "The PhyloFunc distance between \"DC.L.48.3\" and \"DC.H.48.3\" is 0.9327105064654554.\n",
      "The PhyloFunc distance between \"DC.L.48.3\" and \"DC.M.48.3\" is 0.4283702760374314.\n",
      "The PhyloFunc distance between \"DC.L.48.3\" and \"NC.1D.48.3\" is 0.3978496585766662.\n",
      "The PhyloFunc distance between \"DC.H.48.3\" and \"DC.M.48.3\" is 0.8320497595807278.\n",
      "The PhyloFunc distance between \"DC.H.48.3\" and \"NC.1D.48.3\" is 0.9107187318606954.\n",
      "The PhyloFunc distance between \"DC.M.48.3\" and \"NC.1D.48.3\" is 0.4081472518521747.\n",
      "Finish, time consumed: 3154.74 seconds\n"
     ]
    }
   ],
   "source": [
    "# Step2.2: calculate PhyloFunc distance matrix across all samples\n",
    "## This may take around an hour for the example dataset.\n",
    "\n",
    "from PhyloFunc import PhyloFunc_matrix\n",
    "\n",
    "PhyloFunc_distance_matrix=PhyloFunc_matrix(sample_file=\"Taxon_Function_matrix.csv\")"
   ]
  },
  {
   "cell_type": "code",
   "execution_count": 16,
   "id": "f51f789d",
   "metadata": {},
   "outputs": [
    {
     "data": {
      "image/png": "[encoded data removed]",
      "text/plain": [
       "<Figure size 800x500 with 1 Axes>"
      ]
     },
     "metadata": {},
     "output_type": "display_data"
    }
   ],
   "source": [
    "# Step3: Draw a hierarchical clustering plot based on the resulting PhyloFunc distance matrix\n",
    "import matplotlib.pyplot as plt\n",
    "from scipy.cluster.hierarchy import dendrogram, linkage\n",
    "from scipy.spatial.distance import squareform\n",
    "import pandas as pd\n",
    "\n",
    "# Generate distance \n",
    "data_PhyloFunc = PhyloFunc_distance_matrix.T\n",
    "data_PhyloFunc_array = squareform(data_PhyloFunc)\n",
    "linkage_PhyloFunc = linkage(data_PhyloFunc_array, method='average')\n",
    "\n",
    "# Create a single subplot\n",
    "fig, ax = plt.subplots(figsize=(8, 5))\n",
    "\n",
    "dendrogram_kwargs = dict(leaf_rotation=90, color_threshold=0, above_threshold_color='black')\n",
    "\n",
    "# Plot bierarchical clustering\n",
    "dendrogram(linkage_PhyloFunc, ax=ax, labels=data_PhyloFunc.index, **dendrogram_kwargs)\n",
    "ax.set_title('PhyloFunc Distance (Average Linkage)')\n",
    "ax.set_ylabel('Height')\n",
    "\n",
    "# Add annotation text\n",
    "ax.text(0.5, -0.4, \"Sample IDs\",\n",
    "        ha='center', va='center', transform=ax.transAxes, fontsize=10)\n",
    "\n",
    "# Adjust axis style\n",
    "def style_axes(ax):\n",
    "    ax.spines['top'].set_visible(False)\n",
    "    ax.spines['right'].set_visible(False)\n",
    "    ax.spines['bottom'].set_visible(False)\n",
    "style_axes(ax)\n",
    "plt.show()"
   ]
  }
 ],
 "metadata": {
  "kernelspec": {
   "display_name": "Python 3 (ipykernel)",
   "language": "python",
   "name": "python3"
  },
  "language_info": {
   "codemirror_mode": {
    "name": "ipython",
    "version": 3
   },
   "file_extension": ".py",
   "mimetype": "text/x-python",
   "name": "python",
   "nbconvert_exporter": "python",
   "pygments_lexer": "ipython3",
   "version": "3.12.3"
  }
 },
 "nbformat": 4,
 "nbformat_minor": 5
}
