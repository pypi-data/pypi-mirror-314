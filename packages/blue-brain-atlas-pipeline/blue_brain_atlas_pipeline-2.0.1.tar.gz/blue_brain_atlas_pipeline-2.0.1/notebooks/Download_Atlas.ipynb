{
 "cells": [
  {
   "cell_type": "markdown",
   "metadata": {},
   "source": [
    "# Download Atlas Datasets"
   ]
  },
  {
   "cell_type": "markdown",
   "metadata": {},
   "source": [
    "## Imports"
   ]
  },
  {
   "cell_type": "code",
   "execution_count": null,
   "metadata": {
    "ExecuteTime": {
     "end_time": "2024-10-07T11:19:49.334472Z",
     "start_time": "2024-10-07T11:19:42.927789Z"
    }
   },
   "outputs": [],
   "source": [
    "import os\n",
    "import shutil\n",
    "import urllib.parse\n",
    "\n",
    "from kgforge.core import KnowledgeGraphForge"
   ]
  },
  {
   "cell_type": "markdown",
   "metadata": {},
   "source": [
    "## Setup\n",
    "Set `download_path` and get a Nexus authentication token"
   ]
  },
  {
   "cell_type": "code",
   "execution_count": null,
   "metadata": {},
   "outputs": [],
   "source": [
    "download_path = \"/gpfs/bbp.cscs.ch/project/proj162/Model_Data/Brain_atlas/Mouse\""
   ]
  },
  {
   "cell_type": "markdown",
   "metadata": {},
   "source": [
    "The [Nexus web application](https://bbp.epfl.ch/nexus/web) can be used to get a token.\n",
    "\n",
    "- Step 1: From the opened web page, click on the login button on the right corner and follow the instructions.\n",
    "\n",
    "![login-ui](./login-ui.png)\n",
    "\n",
    "- Step 2: At the end you’ll see a token button on the right corner. Click on it to copy the token.\n",
    "\n",
    "![login-ui](./copy-token.png)\n"
   ]
  },
  {
   "cell_type": "code",
   "execution_count": null,
   "metadata": {
    "ExecuteTime": {
     "end_time": "2024-10-07T11:25:11.001622Z",
     "start_time": "2024-10-07T11:25:10.946819Z"
    }
   },
   "outputs": [],
   "source": [
    "TOKEN = \"\""
   ]
  },
  {
   "cell_type": "code",
   "execution_count": null,
   "metadata": {
    "ExecuteTime": {
     "end_time": "2024-10-07T11:25:16.634666Z",
     "start_time": "2024-10-07T11:25:14.498698Z"
    }
   },
   "outputs": [],
   "source": [
    "endpoint_prod = \"https://bbp.epfl.ch/nexus/v1\"\n",
    "endpoint_staging = \"https://staging.nise.bbp.epfl.ch/nexus/v1\"\n",
    "\n",
    "# Choose the Nexus environment to target (prod or staging)\n",
    "endpoint = endpoint_prod\n",
    "#endpoint = endpoint_staging\n",
    "\n",
    "forge = KnowledgeGraphForge(\"../forge-config.yml\",\n",
    "                            token=TOKEN,\n",
    "                            endpoint=endpoint, \n",
    "                            bucket=\"bbp/atlas\")"
   ]
  },
  {
   "cell_type": "markdown",
   "metadata": {},
   "source": [
    "## Set the Atlas release id\n",
    "These atlas releases can be explored through the atlas web app:\n",
    "\n",
    "* dev: https://bluebrainatlas.kcpdev.bbp.epfl.ch/atlas\n",
    "* prod: https://bbp.epfl.ch/atlas\n"
   ]
  },
  {
   "cell_type": "code",
   "execution_count": null,
   "metadata": {
    "ExecuteTime": {
     "end_time": "2024-10-07T11:25:19.704451Z",
     "start_time": "2024-10-07T11:25:19.510720Z"
    }
   },
   "outputs": [],
   "source": [
    "Staging_BBP_Mouse_Brain_Atlas_Release = \"https://bbp.epfl.ch/neurosciencegraph/data/brainatlasrelease/c96c71a8-4c0d-4bc1-8a1a-141d9ed6693d\"\n",
    "Staging_Cell_Composition = \"https://bbp.epfl.ch/neurosciencegraph/data/cellcompositions/54818e46-cf8c-4bd6-9b68-34dffbc8a68c\"\n",
    "staging_tag = \"v1.0.1\"\n",
    "\n",
    "Prod_BBP_Mouse_Brain_Atlas_Release = \"https://bbp.epfl.ch/neurosciencegraph/data/4906ab85-694f-469d-962f-c0174e901885\"\n",
    "Prod_Cell_Composition = \"https://bbp.epfl.ch/neurosciencegraph/data/cellcompositions/54818e46-cf8c-4bd6-9b68-34dffbc8a68c\"\n",
    "prod_tag = \"v1.1.0\"\n",
    "\n",
    "if endpoint == endpoint_staging:\n",
    "    atlas_release_id = Staging_BBP_Mouse_Brain_Atlas_Release\n",
    "    cell_composition_id = Staging_Cell_Composition\n",
    "    resources_tag = staging_tag\n",
    "elif endpoint == endpoint_prod:\n",
    "    atlas_release_id = Prod_BBP_Mouse_Brain_Atlas_Release\n",
    "    cell_composition_id = Prod_Cell_Composition\n",
    "    resources_tag = prod_tag\n",
    "    \n",
    "version_dir = resources_tag.replace('v', 'version_')"
   ]
  },
  {
   "cell_type": "markdown",
   "metadata": {},
   "source": [
    "## Get the Atlas release high level metadata"
   ]
  },
  {
   "cell_type": "code",
   "execution_count": null,
   "metadata": {
    "ExecuteTime": {
     "end_time": "2024-10-07T11:25:23.958462Z",
     "start_time": "2024-10-07T11:25:23.617236Z"
    }
   },
   "outputs": [],
   "source": [
    "atlas_release = forge.retrieve(atlas_release_id, version=resources_tag)\n",
    "print(atlas_release)"
   ]
  },
  {
   "cell_type": "code",
   "execution_count": null,
   "metadata": {},
   "outputs": [],
   "source": [
    "# Get the resolution of the Atlas release\n",
    "brain_template = forge.retrieve(atlas_release.brainTemplateDataLayer.id, version=resources_tag)\n",
    "resolution = brain_template.resolution.value\n",
    "resolution_dir = f\"resolution_{resolution}_um\""
   ]
  },
  {
   "cell_type": "code",
   "execution_count": null,
   "metadata": {},
   "outputs": [],
   "source": [
    "atlas_path = os.path.join(download_path, resolution_dir, version_dir)\n",
    "os.makedirs(atlas_path, exist_ok = True)"
   ]
  },
  {
   "cell_type": "markdown",
   "metadata": {},
   "source": [
    "## Get the distributions files corresponding to the AtlasRelease properties"
   ]
  },
  {
   "cell_type": "code",
   "execution_count": null,
   "metadata": {},
   "outputs": [],
   "source": [
    "def get_gpfs_path(nexus_location):\n",
    "    nexus_location_decoded = urllib.parse.unquote(nexus_location)\n",
    "    return nexus_location_decoded.replace(\"file:///\", \"/\")"
   ]
  },
  {
   "cell_type": "code",
   "execution_count": null,
   "metadata": {},
   "outputs": [],
   "source": [
    "def get_res_distributions(res_id, res_tag, dir_label):\n",
    "    prop_res = forge.retrieve(res_id, version=res_tag, cross_bucket=True)\n",
    "    if not prop_res:\n",
    "        print(f\"No Resource found with id {res_id} at version {res_tag}\")\n",
    "        return 0\n",
    "\n",
    "    prop_distr_list = prop_res.distribution if isinstance(prop_res.distribution, list) else [prop_res.distribution]\n",
    "    prop_path = os.path.join(atlas_path, dir_label)\n",
    "    for prop_distr in prop_distr_list:\n",
    "        prop_distr_path = os.path.join(prop_path, prop_distr.name)\n",
    "        if os.path.isfile(prop_distr_path):\n",
    "            print(f\"Distribution file '{prop_distr_path}' already exists, skipping it!\")\n",
    "            # ToDo: don't skip if checksum is different\n",
    "            continue\n",
    "            \n",
    "        location = getattr(getattr(prop_distr, 'atLocation'), 'location', None)\n",
    "        if location:\n",
    "            shutil.copy2(get_gpfs_path(location), prop_distr_path)\n",
    "        else:\n",
    "            print(f\"No location for Resource '{prop}'\")\n",
    "            \n",
    "    return 1"
   ]
  },
  {
   "cell_type": "code",
   "execution_count": null,
   "metadata": {},
   "outputs": [],
   "source": [
    "def get_res_properties(res, props_list, res_tag):\n",
    "    n_props = len(props_list)\n",
    "    i_prop = 0\n",
    "    for prop, prop_label in props_list.items():\n",
    "        i_prop += 1\n",
    "        print(f\"\\nGetting prop {i_prop} of {n_props}: {prop}\")\n",
    "        prop_id = getattr(res, prop).id\n",
    "        get_res_distributions(prop_id, res_tag, prop_label)"
   ]
  },
  {
   "cell_type": "code",
   "execution_count": null,
   "metadata": {},
   "outputs": [],
   "source": [
    "ph_dir = 'Placement_hints'\n",
    "atlas_props = {'brainTemplateDataLayer': 'Brain_template',\n",
    "               'cellOrientationField': 'Cell_orientation_field',\n",
    "               'directionVector': 'Direction_vector',\n",
    "               'hemisphereVolume': 'Hemisphere_volume',\n",
    "               'parcellationOntology': 'Parcellation_ontology',\n",
    "               'parcellationVolume': 'Annotation_volume',\n",
    "               'placementHintsDataCatalog': ph_dir\n",
    "}\n",
    "\n",
    "get_res_properties(atlas_release, atlas_props, resources_tag)"
   ]
  },
  {
   "cell_type": "markdown",
   "metadata": {},
   "source": [
    "### Get the Placement Hints"
   ]
  },
  {
   "cell_type": "code",
   "execution_count": null,
   "metadata": {},
   "outputs": [],
   "source": [
    "os.makedirs(os.path.join(atlas_path, ph_dir), exist_ok = True)\n",
    "\n",
    "ph_catalog_res = forge.retrieve(id=atlas_release.placementHintsDataCatalog.id, version=resources_tag)\n",
    "with open(get_gpfs_path(ph_catalog_res.distribution.atLocation.location), \"r\") as f:\n",
    "    ph_catalog = json.load(f)\n",
    "    \n",
    "ph_id_rev = []\n",
    "for ph_type in ph_catalog.values():\n",
    "    ph_list = ph_type if isinstance(ph_type, list) else [ph_type]\n",
    "    for ph in ph_list:\n",
    "        ph_id_rev.append((ph['@id'], ph['_rev']))"
   ]
  },
  {
   "cell_type": "code",
   "execution_count": null,
   "metadata": {},
   "outputs": [],
   "source": [
    "n_phs = len(ph_id_rev)\n",
    "for i_ph, ph in enumerate(ph_id_rev):\n",
    "    ph_id = ph[0]\n",
    "    ph_version = ph[1]\n",
    "    print(f\"\\nGetting PH {i_ph +1} of {n_phs}: {ph_id}\")\n",
    "    get_res_distributions(ph_id, ph_version, ph_dir)"
   ]
  },
  {
   "cell_type": "markdown",
   "metadata": {},
   "source": [
    "### Get the Meshes"
   ]
  },
  {
   "cell_type": "code",
   "execution_count": null,
   "metadata": {},
   "outputs": [],
   "source": [
    "mesh_dir = os.path.join(atlas_path, 'Brain_meshes')\n",
    "os.makedirs(os.path.join(atlas_path, mesh_dir), exist_ok = True)"
   ]
  },
  {
   "cell_type": "code",
   "execution_count": null,
   "metadata": {},
   "outputs": [],
   "source": [
    "filters = {\"type\": 'BrainParcellationMesh',\n",
    "           \"atlasRelease\": {\"id\": atlas_release_id},\n",
    "           \"subject\": {\"species\": {\"id\": atlas_release.subject.species.get_identifier()}}\n",
    "}\n",
    "atlas_meshes = forge.search(filters, debug=False, limit=10000)"
   ]
  },
  {
   "cell_type": "code",
   "execution_count": null,
   "metadata": {},
   "outputs": [],
   "source": [
    "n_meshes = len(atlas_meshes)\n",
    "downloaded_meshes = 0\n",
    "for i_mesh, mesh in enumerate(atlas_meshes):\n",
    "    mesh_id = mesh.id\n",
    "    print(f\"\\nGetting mesh {i_mesh +1} of {n_meshes}: {mesh_id}\")\n",
    "    downloaded_meshes += get_res_distributions(mesh_id, resources_tag, mesh_dir)\n",
    "    \n",
    "print(f\"\\nDownloaded {downloaded_meshes} versioned meshes out of {n_meshes} total meshes\")"
   ]
  },
  {
   "cell_type": "markdown",
   "metadata": {},
   "source": [
    "## Get the CellComposition distributions\n"
   ]
  },
  {
   "cell_type": "code",
   "execution_count": null,
   "metadata": {
    "ExecuteTime": {
     "end_time": "2024-06-23T20:21:11.585077Z",
     "start_time": "2024-06-23T20:21:07.907071Z"
    }
   },
   "outputs": [],
   "source": [
    "cell_comp_dir = 'Cell_composition'\n",
    "cell_comp_props_list = {'cellCompositionSummary': cell_comp_dir,\n",
    "                        'cellCompositionVolume': cell_comp_dir}\n",
    "cell_composition = forge.retrieve(id=cell_composition_id, version=resources_tag, cross_bucket=True)\n",
    "\n",
    "get_res_properties(cell_composition, cell_comp_props_list, resources_tag)"
   ]
  },
  {
   "cell_type": "markdown",
   "metadata": {},
   "source": [
    "### Get the released M-E type densities\n",
    "Each M-E type is registered in Nexus with its corresponding metadata. The list of the M-E type densities annotated in the parcellation volume is provided in the `CellCompositionVolume` property of the CellComposition:"
   ]
  },
  {
   "cell_type": "code",
   "execution_count": null,
   "metadata": {
    "ExecuteTime": {
     "end_time": "2024-06-23T20:21:12.477973Z",
     "start_time": "2024-06-23T20:21:11.582251Z"
    }
   },
   "outputs": [],
   "source": [
    "me_dir = os.path.join(cell_comp_dir, 'Morphological-electrical_neuron_type_Densities')\n",
    "os.makedirs(os.path.join(atlas_path, me_dir), exist_ok = True)\n",
    "\n",
    "cell_composition_volume = forge.retrieve(id=cell_composition.cellCompositionVolume.id, version=resources_tag, cross_bucket=True)\n",
    "with open(get_gpfs_path(cell_composition_volume.distribution.atLocation.location), \"r\") as f:\n",
    "    metype_density_release_json = json.load(f)"
   ]
  },
  {
   "cell_type": "code",
   "execution_count": null,
   "metadata": {
    "ExecuteTime": {
     "end_time": "2024-06-23T20:21:14.548174Z",
     "start_time": "2024-06-23T20:21:12.510884Z"
    }
   },
   "outputs": [],
   "source": [
    "# Install extra dependencies\n",
    "!pip install jsonpath_ng"
   ]
  },
  {
   "cell_type": "code",
   "execution_count": null,
   "metadata": {},
   "outputs": [],
   "source": [
    "from jsonpath_ng import parse\n",
    "\n",
    "jsonpath_expr = parse('hasPart[*].hasPart[*].hasPart[*].@id')\n",
    "me_ids = [(match.value, match.context.value[\"_rev\"]) for match in jsonpath_expr.find(metype_density_release_json)] # yields [(metype volume id, revision)]"
   ]
  },
  {
   "cell_type": "code",
   "execution_count": null,
   "metadata": {},
   "outputs": [],
   "source": [
    "n_mes = len(me_ids)\n",
    "for i_me, me_rev in enumerate(me_ids):\n",
    "    me_id = me_rev[0]\n",
    "    me_version = me_rev[1]\n",
    "    print(f\"\\nGetting M-E density {i_me +1} of {n_mes}: {me_id}\")\n",
    "    get_res_distributions(me_id, me_version, me_dir)"
   ]
  }
 ],
 "metadata": {
  "kernelspec": {
   "display_name": "Python 3 (ipykernel)",
   "language": "python",
   "name": "python3"
  },
  "language_info": {
   "codemirror_mode": {
    "name": "ipython",
    "version": 3
   },
   "file_extension": ".py",
   "mimetype": "text/x-python",
   "name": "python",
   "nbconvert_exporter": "python",
   "pygments_lexer": "ipython3",
   "version": "3.8.10"
  }
 },
 "nbformat": 4,
 "nbformat_minor": 4
}
