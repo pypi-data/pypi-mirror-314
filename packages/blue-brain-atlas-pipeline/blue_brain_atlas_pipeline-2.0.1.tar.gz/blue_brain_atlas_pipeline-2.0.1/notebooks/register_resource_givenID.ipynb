{
 "cells": [
  {
   "cell_type": "markdown",
   "metadata": {},
   "source": [
    "# Context"
   ]
  },
  {
   "cell_type": "markdown",
   "metadata": {},
   "source": [
    "This notebook shows how to register a file in Nexus with a given ID.\n",
    "Use case: the very same resource needs to be available in both Necus prod and staging."
   ]
  },
  {
   "cell_type": "markdown",
   "metadata": {},
   "source": [
    "# Imports"
   ]
  },
  {
   "cell_type": "code",
   "execution_count": null,
   "metadata": {},
   "outputs": [],
   "source": [
    "import getpass\n",
    "from kgforge.core import KnowledgeGraphForge\n",
    "import nexussdk as nexus # need a forge session to be properly configured\n",
    "from pathlib import Path\n",
    "import os.path"
   ]
  },
  {
   "cell_type": "markdown",
   "metadata": {},
   "source": [
    "# Setup"
   ]
  },
  {
   "cell_type": "markdown",
   "metadata": {},
   "source": [
    "Get your TOKEN from Nexus Web: https://bbp.epfl.ch/nexus/web:\n",
    "* log in using your Gaspar user name and password\n",
    "* click on \"Copy token\" in the top right corner\n",
    "* paste copied token into the cell below"
   ]
  },
  {
   "cell_type": "code",
   "execution_count": null,
   "metadata": {},
   "outputs": [],
   "source": [
    "TOKEN = getpass.getpass()"
   ]
  },
  {
   "cell_type": "code",
   "execution_count": null,
   "metadata": {},
   "outputs": [],
   "source": [
    "CONFIG = \"https://raw.githubusercontent.com/BlueBrain/nexus-forge/master/examples/notebooks/use-cases/prod-forge-nexus.yml\""
   ]
  },
  {
   "cell_type": "code",
   "execution_count": null,
   "metadata": {},
   "outputs": [],
   "source": [
    "organisation = \"bbp\"\n",
    "project = \"atlas\"\n",
    "BUCKET = \"/\".join([organisation, project])"
   ]
  },
  {
   "cell_type": "code",
   "execution_count": null,
   "metadata": {},
   "outputs": [],
   "source": [
    "forge_staging = KnowledgeGraphForge(CONFIG,\n",
    "                    endpoint=\"https://staging.nise.bbp.epfl.ch/nexus/v1\",\n",
    "                    bucket=BUCKET,\n",
    "                    token=TOKEN)"
   ]
  },
  {
   "cell_type": "code",
   "execution_count": null,
   "metadata": {},
   "outputs": [],
   "source": [
    "forge_prod = KnowledgeGraphForge(CONFIG,\n",
    "                    bucket=BUCKET,\n",
    "                    token=TOKEN)"
   ]
  },
  {
   "cell_type": "markdown",
   "metadata": {},
   "source": [
    "# Register file"
   ]
  },
  {
   "cell_type": "code",
   "execution_count": null,
   "metadata": {},
   "outputs": [],
   "source": [
    "forge = forge_staging"
   ]
  },
  {
   "cell_type": "code",
   "execution_count": null,
   "metadata": {},
   "outputs": [],
   "source": [
    "# Make sure these two lines are in sync!\n",
    "file_id = \"https://bbp.epfl.ch/neurosciencegraph/data/66c631b4-bd43-4752-b55b-85619d1b05bb\"\n",
    "path = Path(\"../../gene_gad67_correctednissl.nrrd\")"
   ]
  },
  {
   "cell_type": "code",
   "execution_count": null,
   "metadata": {},
   "outputs": [],
   "source": [
    "file = str(path.absolute())\n",
    "os.path.isfile(file)"
   ]
  },
  {
   "cell_type": "code",
   "execution_count": null,
   "metadata": {},
   "outputs": [],
   "source": [
    "content_type = \"application/nrrd\"\n",
    "mime_type = content_type or mimetypes.guess_type(file, True)[0]\n",
    "if mime_type is None:\n",
    "    mime_type = \"application/octet-stream\""
   ]
  },
  {
   "cell_type": "code",
   "execution_count": null,
   "metadata": {},
   "outputs": [],
   "source": [
    "nexus.files.create(organisation, project, file, file_id=file_id, content_type=mime_type)"
   ]
  }
 ],
 "metadata": {
  "kernelspec": {
   "display_name": "Python 3 (ipykernel)",
   "language": "python",
   "name": "python3"
  },
  "language_info": {
   "codemirror_mode": {
    "name": "ipython",
    "version": 3
   },
   "file_extension": ".py",
   "mimetype": "text/x-python",
   "name": "python",
   "nbconvert_exporter": "python",
   "pygments_lexer": "ipython3",
   "version": "3.7.13"
  }
 },
 "nbformat": 4,
 "nbformat_minor": 4
}
