{
 "cells": [
  {
   "cell_type": "markdown",
   "metadata": {},
   "source": [
    "# Update Cell Composition"
   ]
  },
  {
   "cell_type": "markdown",
   "metadata": {},
   "source": [
    "## Imports"
   ]
  },
  {
   "cell_type": "code",
   "execution_count": null,
   "metadata": {},
   "outputs": [],
   "source": [
    "from kgforge.core import KnowledgeGraphForge"
   ]
  },
  {
   "cell_type": "markdown",
   "metadata": {},
   "source": [
    "## Setup\n",
    "Get an authentication token"
   ]
  },
  {
   "cell_type": "markdown",
   "metadata": {},
   "source": [
    "For now, the [Nexus web application](https://bbp.epfl.ch/nexus/web) can be used to get a token. We are looking for other simpler alternatives.\n",
    "\n",
    "- Step 1: From the opened web page, click on the login button on the right corner and follow the instructions.\n",
    "\n",
    "![login-ui](./login-ui.png)\n",
    "\n",
    "- Step 2: At the end you’ll see a token button on the right corner. Click on it to copy the token.\n",
    "\n",
    "![login-ui](./copy-token.png)\n"
   ]
  },
  {
   "cell_type": "code",
   "execution_count": null,
   "metadata": {},
   "outputs": [],
   "source": [
    "TOKEN = \"\""
   ]
  },
  {
   "cell_type": "code",
   "execution_count": null,
   "metadata": {},
   "outputs": [],
   "source": [
    "endpoint_staging = \"https://staging.nise.bbp.epfl.ch/nexus/v1\"\n",
    "endpoint_prod = \"https://bbp.epfl.ch/nexus/v1\"\n",
    "endpoint=endpoint_prod\n",
    "\n",
    "forge = KnowledgeGraphForge(\"../forge-config.yml\",\n",
    "                            token=TOKEN,\n",
    "                            endpoint=endpoint, \n",
    "                            bucket=\"bbp/atlasdatasetrelease\")"
   ]
  },
  {
   "cell_type": "markdown",
   "metadata": {},
   "source": [
    "## Retrieve CellComposition"
   ]
  },
  {
   "cell_type": "code",
   "execution_count": null,
   "metadata": {},
   "outputs": [],
   "source": [
    "# Enter the id of the CellComposition to update\n",
    "cell_composition_id = \"https://bbp.epfl.ch/neurosciencegraph/data/compositions/54818e46-cf8c-4bd6-9b68-34dffbc8a68c\"\n",
    "cell_composition = forge.retrieve(cell_composition_id)\n",
    "#print(cell_composition)"
   ]
  },
  {
   "cell_type": "code",
   "execution_count": null,
   "metadata": {},
   "outputs": [],
   "source": [
    "# Get the current revision of the CellComposition\n",
    "rev = cell_composition._store_metadata[\"_rev\"]\n",
    "print(f\"Current CellComposition version: {rev}\")"
   ]
  },
  {
   "cell_type": "code",
   "execution_count": null,
   "metadata": {},
   "outputs": [],
   "source": [
    "schemas = [\"CellCompositionVolume\", \"CellCompositionSummary\"]\n",
    "parts = {}\n",
    "for ipart in range(len(cell_composition.hasPart)):\n",
    "    part = cell_composition.hasPart[ipart]\n",
    "    if part.type in schemas:\n",
    "        parts[part.type] = {\"id\": part.id, \"index\": ipart}\n",
    "if not parts:\n",
    "    print(f\"The CellComposition provided ({cell_composition_id}) has no part with type in the allowed list: {schemas}.\")"
   ]
  },
  {
   "cell_type": "markdown",
   "metadata": {},
   "source": [
    "## Update CellCompositionVolume/Summary"
   ]
  },
  {
   "cell_type": "code",
   "execution_count": null,
   "metadata": {},
   "outputs": [],
   "source": [
    "def check_part(parts, part_type, part_id):\n",
    "    if not part_id:\n",
    "        print(f\"No id provided for {part_type}\")\n",
    "        return False\n",
    "    part_type_id = f\"{part_type} with id {part_id}\"\n",
    "    if part_type in parts:\n",
    "        if part_id == parts[part_type][\"id\"]:\n",
    "            print(f\"The {part_type} id provided ({part_id}) corresponds to the id of the current {part_type} in the CellComposition. Nothing to do.\")\n",
    "            return False\n",
    "        else:\n",
    "            print(f\"Updating {part_type_id}\")\n",
    "    else:\n",
    "        print(f\"Adding {part_type_id}\")\n",
    "    return True"
   ]
  },
  {
   "cell_type": "code",
   "execution_count": null,
   "metadata": {},
   "outputs": [],
   "source": [
    "def update_cell_composition(cell_composition, parts, part_type, part_id):\n",
    "    new_part = forge.retrieve(part_id)\n",
    "    error = f\"The {part_type} in the CellComposition will not be updated.\"\n",
    "    if not new_part:\n",
    "        print(f\"No resource found with id {part_id}. {error}\")\n",
    "        return None\n",
    "    new_part = new_part\n",
    "    if part_type != new_part.type:\n",
    "        print(f\"The id provided ({part_id}) does not correspond to a resource of type {part_type}. {error}\")\n",
    "        return None\n",
    "              \n",
    "    cell_composition.hasPart.pop( parts[part_type][\"index\"] )\n",
    "    cell_composition.add_parts(new_part)\n",
    "    return cell_composition"
   ]
  },
  {
   "cell_type": "code",
   "execution_count": null,
   "metadata": {},
   "outputs": [],
   "source": [
    "# Uncomment the part_type that you want to update\n",
    "part_type = \"CellCompositionVolume\"\n",
    "#part_type = \"CellCompositionSummary\"\n",
    "\n",
    "# Enter the id of the new CellCompositionVolume/Summary to link\n",
    "part_id = \"\"\n",
    "\n",
    "check = check_part(parts, part_type, part_id)\n",
    "if check:\n",
    "    new_cell_composition = update_cell_composition(cell_composition, parts, part_type, part_id)\n",
    "    forge.update(new_cell_composition)"
   ]
  },
  {
   "cell_type": "code",
   "execution_count": null,
   "metadata": {},
   "outputs": [],
   "source": []
  }
 ],
 "metadata": {
  "kernelspec": {
   "display_name": "Python 3 (ipykernel)",
   "language": "python",
   "name": "python3"
  },
  "language_info": {
   "codemirror_mode": {
    "name": "ipython",
    "version": 3
   },
   "file_extension": ".py",
   "mimetype": "text/x-python",
   "name": "python",
   "nbconvert_exporter": "python",
   "pygments_lexer": "ipython3",
   "version": "3.7.13"
  }
 },
 "nbformat": 4,
 "nbformat_minor": 4
}
