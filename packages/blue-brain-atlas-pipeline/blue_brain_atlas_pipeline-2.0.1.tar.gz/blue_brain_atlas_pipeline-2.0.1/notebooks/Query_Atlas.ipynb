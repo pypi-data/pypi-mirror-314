{
 "cells": [
  {
   "cell_type": "markdown",
   "metadata": {},
   "source": [
    "# Get Atlas Release Dataset"
   ]
  },
  {
   "cell_type": "markdown",
   "metadata": {},
   "source": [
    "## Imports"
   ]
  },
  {
   "cell_type": "code",
   "execution_count": 1,
   "metadata": {},
   "outputs": [],
   "source": [
    "import json\n",
    "from kgforge.core import KnowledgeGraphForge\n",
    "from kgforge.specializations.resources import Dataset\n",
    "from kgforge.core.commons.strategies import ResolvingStrategy"
   ]
  },
  {
   "cell_type": "markdown",
   "metadata": {},
   "source": [
    "## Setup\n",
    "Get an authentication token"
   ]
  },
  {
   "cell_type": "markdown",
   "metadata": {},
   "source": [
    "The [Nexus web application](https://bbp.epfl.ch/nexus/web) can be used to get a token.\n",
    "\n",
    "- Step 1: From the opened web page, click on the login button on the right corner and follow the instructions.\n",
    "\n",
    "![login-ui](./login-ui.png)\n",
    "\n",
    "- Step 2: At the end you’ll see a token button on the right corner. Click on it to copy the token.\n",
    "\n",
    "![login-ui](./copy-token.png)\n"
   ]
  },
  {
   "cell_type": "code",
   "execution_count": 2,
   "metadata": {},
   "outputs": [],
   "source": [
    "TOKEN = \"\""
   ]
  },
  {
   "cell_type": "code",
   "execution_count": 3,
   "metadata": {},
   "outputs": [],
   "source": [
    "endpoint_prod = \"https://bbp.epfl.ch/nexus/v1\"\n",
    "endpoint_staging = \"https://staging.nise.bbp.epfl.ch/nexus/v1\"\n",
    "\n",
    "# Choose the Nexus environment to target (prod or staging)\n",
    "endpoint = endpoint_prod\n",
    "#endpoint = endpoint_staging\n",
    "\n",
    "forge = KnowledgeGraphForge(\"../forge-config.yml\",\n",
    "                            token=TOKEN,\n",
    "                            endpoint=endpoint, \n",
    "                            bucket=\"bbp/atlas\")"
   ]
  },
  {
   "cell_type": "markdown",
   "metadata": {},
   "source": [
    "## Set the atlas release id\n",
    "These atlas releases can be explored through the atlas web app:\n",
    "\n",
    "* dev: https://bluebrainatlas.kcpdev.bbp.epfl.ch/atlas\n",
    "* prod: https://bbp.epfl.ch/atlas\n"
   ]
  },
  {
   "cell_type": "code",
   "execution_count": 5,
   "metadata": {},
   "outputs": [],
   "source": [
    "Staging_BBP_Mouse_Brain_Atlas_Release = \"https://bbp.epfl.ch/neurosciencegraph/data/brainatlasrelease/c96c71a8-4c0d-4bc1-8a1a-141d9ed6693d\"\n",
    "Staging_Cell_Composition = \"https://bbp.epfl.ch/neurosciencegraph/data/cellcompositions/54818e46-cf8c-4bd6-9b68-34dffbc8a68c\"\n",
    "staging_tag = \"v1.0.1\"\n",
    "\n",
    "Prod_BBP_Mouse_Brain_Atlas_Release = \"https://bbp.epfl.ch/neurosciencegraph/data/4906ab85-694f-469d-962f-c0174e901885\"\n",
    "Prod_Cell_Composition = \"https://bbp.epfl.ch/neurosciencegraph/data/cellcompositions/54818e46-cf8c-4bd6-9b68-34dffbc8a68c\"\n",
    "prod_tag = \"v0.6.0\"\n",
    "\n",
    "if endpoint == endpoint_staging:\n",
    "    atlas_release_id = Staging_BBP_Mouse_Brain_Atlas_Release\n",
    "    cell_composition_id = Staging_Cell_Composition\n",
    "    resources_tag = staging_tag\n",
    "elif endpoint == endpoint_prod:\n",
    "    atlas_release_id = Prod_BBP_Mouse_Brain_Atlas_Release\n",
    "    cell_composition_id = Prod_Cell_Composition\n",
    "    resources_tag = prod_tag"
   ]
  },
  {
   "cell_type": "markdown",
   "metadata": {},
   "source": [
    "## Get the atlas release high level metadata"
   ]
  },
  {
   "cell_type": "code",
   "execution_count": 6,
   "metadata": {},
   "outputs": [],
   "source": [
    "atlas_release = forge.retrieve(atlas_release_id, version=resources_tag)"
   ]
  },
  {
   "cell_type": "code",
   "execution_count": 7,
   "metadata": {},
   "outputs": [
    {
     "name": "stdout",
     "output_type": "stream",
     "text": [
      "{\n",
      "    context: https://bbp.neuroshapes.org\n",
      "    id: https://bbp.epfl.ch/neurosciencegraph/data/4906ab85-694f-469d-962f-c0174e901885\n",
      "    type:\n",
      "    [\n",
      "        BrainAtlasRelease\n",
      "        AtlasRelease\n",
      "        Entity\n",
      "    ]\n",
      "    atlasReleaseSpatialReferenceSystem:\n",
      "    {\n",
      "        id: https://bbp.epfl.ch/neurosciencegraph/data/allen_ccfv3_spatial_reference_system\n",
      "        type:\n",
      "        [\n",
      "            AtlasSpatialReferenceSystem\n",
      "            BrainAtlasSpatialReferenceSystem\n",
      "        ]\n",
      "    }\n",
      "    brainLocation:\n",
      "    {\n",
      "        atlasSpatialReferenceSystem:\n",
      "        {\n",
      "            id: https://bbp.epfl.ch/neurosciencegraph/data/allen_ccfv3_spatial_reference_system\n",
      "            type:\n",
      "            [\n",
      "                AtlasSpatialReferenceSystem\n",
      "                BrainAtlasSpatialReferenceSystem\n",
      "            ]\n",
      "        }\n",
      "        brainRegion:\n",
      "        {\n",
      "            id: http://api.brain-map.org/api/v2/data/Structure/997\n",
      "            label: root\n",
      "        }\n",
      "    }\n",
      "    brainTemplateDataLayer:\n",
      "    {\n",
      "        id: https://bbp.epfl.ch/neurosciencegraph/data/dca40f99-b494-4d2c-9a2f-c407180138b7\n",
      "        type: BrainTemplateDataLayer\n",
      "    }\n",
      "    cellOrientationField:\n",
      "    {\n",
      "        id: https://bbp.epfl.ch/neurosciencegraph/data/a8591b0b-e03f-4566-a69c-829ca78f51bb\n",
      "        type: CellOrientationField\n",
      "    }\n",
      "    contribution:\n",
      "    [\n",
      "        {\n",
      "            type: Contribution\n",
      "            agent:\n",
      "            {\n",
      "                id: https://bbp.epfl.ch/nexus/v1/realms/bbp/users/lcristel\n",
      "                type:\n",
      "                [\n",
      "                    Agent\n",
      "                    Person\n",
      "                ]\n",
      "            }\n",
      "            hadRole:\n",
      "            {\n",
      "                id: https://neuroshapes.org/BrainAtlasPipelineExecutionRole\n",
      "                label: Brain Atlas Pipeline Executor role\n",
      "            }\n",
      "        }\n",
      "        {\n",
      "            type: Contribution\n",
      "            agent:\n",
      "            {\n",
      "                id: https://www.grid.ac/institutes/grid.5333.6\n",
      "                type:\n",
      "                [\n",
      "                    Agent\n",
      "                    Organization\n",
      "                ]\n",
      "            }\n",
      "        }\n",
      "    ]\n",
      "    description: The official Atlas of the Blue Brain Project\n",
      "    directionVector:\n",
      "    {\n",
      "        id: https://bbp.epfl.ch/neurosciencegraph/data/a6b1f799-7b2c-470e-8668-3f15148965db\n",
      "        type: DirectionVectorsField\n",
      "    }\n",
      "    hemisphereVolume:\n",
      "    {\n",
      "        id: https://bbp.epfl.ch/neurosciencegraph/data/392ce23b-19de-471b-a5ef-c7744d7e450e\n",
      "        type: HemisphereAnnotationDataLayer\n",
      "    }\n",
      "    name: Blue Brain Atlas\n",
      "    parcellationOntology:\n",
      "    {\n",
      "        id: https://bbp.epfl.ch/neurosciencegraph/data/0518dd0b-cbc7-43ef-a75f-45631059c8c5\n",
      "        type: ParcellationOntology\n",
      "    }\n",
      "    parcellationVolume:\n",
      "    {\n",
      "        id: https://bbp.epfl.ch/neurosciencegraph/data/231f6e2e-6366-4ddc-94b6-35ab50c076c0\n",
      "        type: BrainParcellationDataLayer\n",
      "    }\n",
      "    placementHintsDataCatalog:\n",
      "    {\n",
      "        id: https://bbp.epfl.ch/data/bbp/atlas/d963cd5a-393b-46eb-b72c-bbf92a65c42e\n",
      "        type: PlacementHintsDataLayerCatalog\n",
      "    }\n",
      "    releaseDate:\n",
      "    {\n",
      "        type: xsd:date\n",
      "        @value: 2023-11-15\n",
      "    }\n",
      "    spatialReferenceSystem:\n",
      "    {\n",
      "        id: https://bbp.epfl.ch/neurosciencegraph/data/allen_ccfv3_spatial_reference_system\n",
      "        type:\n",
      "        [\n",
      "            AtlasSpatialReferenceSystem\n",
      "            BrainAtlasSpatialReferenceSystem\n",
      "        ]\n",
      "    }\n",
      "    subject:\n",
      "    {\n",
      "        type: Subject\n",
      "        species:\n",
      "        {\n",
      "            id: http://purl.obolibrary.org/obo/NCBITaxon_10090\n",
      "            label: Mus musculus\n",
      "        }\n",
      "    }\n",
      "}\n"
     ]
    }
   ],
   "source": [
    "print(atlas_release)"
   ]
  },
  {
   "cell_type": "code",
   "execution_count": 8,
   "metadata": {},
   "outputs": [
    {
     "data": {
      "text/plain": "8"
     },
     "execution_count": 8,
     "metadata": {},
     "output_type": "execute_result"
    }
   ],
   "source": [
    "# Get the current revision of the Atlas release\n",
    "atlas_release._store_metadata[\"_rev\"]"
   ]
  },
  {
   "cell_type": "markdown",
   "metadata": {},
   "source": [
    "## Get the atlas hierarchy"
   ]
  },
  {
   "cell_type": "code",
   "execution_count": 9,
   "metadata": {},
   "outputs": [],
   "source": [
    "parcellation_ontology = forge.retrieve(atlas_release.parcellationOntology.id, version=resources_tag, cross_bucket=True)"
   ]
  },
  {
   "cell_type": "code",
   "execution_count": 10,
   "metadata": {},
   "outputs": [
    {
     "name": "stdout",
     "output_type": "stream",
     "text": [
      "{\n",
      "    context: https://bbp.neuroshapes.org\n",
      "    id: https://bbp.epfl.ch/neurosciencegraph/data/0518dd0b-cbc7-43ef-a75f-45631059c8c5\n",
      "    type:\n",
      "    [\n",
      "        ParcellationOntology\n",
      "        Ontology\n",
      "        Entity\n",
      "    ]\n",
      "    label: BBP Mouse Brain region ontology\n",
      "    atlasRelease:\n",
      "    {\n",
      "        id: https://bbp.epfl.ch/neurosciencegraph/data/4906ab85-694f-469d-962f-c0174e901885\n",
      "        type:\n",
      "        [\n",
      "            BrainAtlasRelease\n",
      "            AtlasRelease\n",
      "            Entity\n",
      "        ]\n",
      "        _rev: 8\n",
      "    }\n",
      "    atlasReleaseSpatialReferenceSystem:\n",
      "    {\n",
      "        id: https://bbp.epfl.ch/neurosciencegraph/data/allen_ccfv3_spatial_reference_system\n",
      "        type:\n",
      "        [\n",
      "            AtlasSpatialReferenceSystem\n",
      "            BrainAtlasSpatialReferenceSystem\n",
      "        ]\n",
      "    }\n",
      "    brainLocation:\n",
      "    {\n",
      "        atlasSpatialReferenceSystem:\n",
      "        {\n",
      "            id: https://bbp.epfl.ch/neurosciencegraph/data/allen_ccfv3_spatial_reference_system\n",
      "            type:\n",
      "            [\n",
      "                AtlasSpatialReferenceSystem\n",
      "                BrainAtlasSpatialReferenceSystem\n",
      "            ]\n",
      "        }\n",
      "        brainRegion:\n",
      "        {\n",
      "            id: http://api.brain-map.org/api/v2/data/Structure/997\n",
      "            label: root\n",
      "        }\n",
      "    }\n",
      "    contribution:\n",
      "    [\n",
      "        {\n",
      "            type: Contribution\n",
      "            agent:\n",
      "            {\n",
      "                id: https://bbp.epfl.ch/nexus/v1/realms/bbp/users/lcristel\n",
      "                type:\n",
      "                [\n",
      "                    Agent\n",
      "                    Person\n",
      "                ]\n",
      "            }\n",
      "            hadRole:\n",
      "            {\n",
      "                id: https://neuroshapes.org/BrainAtlasPipelineExecutionRole\n",
      "                label: Brain Atlas Pipeline Executor role\n",
      "            }\n",
      "        }\n",
      "        {\n",
      "            type: Contribution\n",
      "            agent:\n",
      "            {\n",
      "                id: https://www.grid.ac/institutes/grid.5333.6\n",
      "                type:\n",
      "                [\n",
      "                    Agent\n",
      "                    Organization\n",
      "                ]\n",
      "            }\n",
      "        }\n",
      "    ]\n",
      "    distribution:\n",
      "    [\n",
      "        {\n",
      "            type: DataDownload\n",
      "            atLocation:\n",
      "            {\n",
      "                type: Location\n",
      "                location: file:///gpfs/bbp.cscs.ch/data/project/proj39/nexus/bbp/atlas/b/a/3/e/4/4/2/d/mba_hierarchy.json\n",
      "                store:\n",
      "                {\n",
      "                    id: https://bbp.epfl.ch/neurosciencegraph/data/3806a8d9-0130-4535-bac6-3b1fecf855f5\n",
      "                    type: RemoteDiskStorage\n",
      "                    _rev: 1\n",
      "                }\n",
      "            }\n",
      "            contentSize:\n",
      "            {\n",
      "                unitCode: bytes\n",
      "                value: 3674404\n",
      "            }\n",
      "            contentUrl: https://bbp.epfl.ch/nexus/v1/files/bbp/atlas/https%3A%2F%2Fbbp.epfl.ch%2Fdata%2Fbbp%2Fatlas%2Fff1022a2-92c4-426f-8ca5-5a329d0eb620\n",
      "            digest:\n",
      "            {\n",
      "                algorithm: SHA-256\n",
      "                value: 0ca0e3cc0a4b621a903e61ec900b20b978f35d7f92c9e4282c920c32ba926e32\n",
      "            }\n",
      "            encodingFormat: application/json\n",
      "            name: mba_hierarchy.json\n",
      "        }\n",
      "        {\n",
      "            type: DataDownload\n",
      "            atLocation:\n",
      "            {\n",
      "                type: Location\n",
      "                location: file:///gpfs/bbp.cscs.ch/data/project/proj39/nexus/bbp/atlas/a/e/9/d/e/2/8/4/mba_hierarchy_ld.json\n",
      "                store:\n",
      "                {\n",
      "                    id: https://bbp.epfl.ch/neurosciencegraph/data/3806a8d9-0130-4535-bac6-3b1fecf855f5\n",
      "                    type: RemoteDiskStorage\n",
      "                    _rev: 1\n",
      "                }\n",
      "            }\n",
      "            contentSize:\n",
      "            {\n",
      "                unitCode: bytes\n",
      "                value: 3564589\n",
      "            }\n",
      "            contentUrl: https://bbp.epfl.ch/nexus/v1/files/bbp/atlas/https%3A%2F%2Fbbp.epfl.ch%2Fdata%2Fbbp%2Fatlas%2F20e6255b-ac12-4813-b2c8-594df55b4440\n",
      "            digest:\n",
      "            {\n",
      "                algorithm: SHA-256\n",
      "                value: c0d7f03148c3853884c4ce1f81ed5e88a8af4c6626e83b53ffc2e66e55a59d1d\n",
      "            }\n",
      "            encodingFormat: application/ld+json\n",
      "            name: mba_hierarchy_ld.json\n",
      "        }\n",
      "    ]\n",
      "    name: BBP Mouse Brain region ontology\n",
      "    subject:\n",
      "    {\n",
      "        type: Subject\n",
      "        species:\n",
      "        {\n",
      "            id: http://purl.obolibrary.org/obo/NCBITaxon_10090\n",
      "            label: Mus musculus\n",
      "        }\n",
      "    }\n",
      "}\n"
     ]
    }
   ],
   "source": [
    "print(parcellation_ontology)"
   ]
  },
  {
   "cell_type": "code",
   "execution_count": 11,
   "metadata": {},
   "outputs": [],
   "source": [
    "parcellation_ontology_copy = Dataset.from_resource(forge, parcellation_ontology, store_metadata=True)\n",
    "parcellation_ontology_copy.distribution = [d for d in parcellation_ontology.distribution if d.encodingFormat == \"application/json\"]\n",
    "\n",
    "forge.download(parcellation_ontology_copy, \"distribution.contentUrl\", \".\", overwrite=True, cross_bucket=True)"
   ]
  },
  {
   "cell_type": "markdown",
   "metadata": {},
   "source": [
    "## Get a brain region metadata from its name or acronym"
   ]
  },
  {
   "cell_type": "code",
   "execution_count": 13,
   "metadata": {},
   "outputs": [
    {
     "name": "stdout",
     "output_type": "stream",
     "text": [
      "{\n",
      "    id: http://api.brain-map.org/api/v2/data/Structure/564\n",
      "    type: Class\n",
      "    label: Medial septal nucleus\n",
      "    altLabel: MS\n",
      "    isDefinedBy: http://bbp.epfl.ch/neurosciencegraph/ontologies/core/brainregion\n",
      "    notation: MS\n",
      "    prefLabel: Medial septal nucleus\n",
      "    subClassOf: nsg:BrainRegion\n",
      "}\n"
     ]
    }
   ],
   "source": [
    "region_label = \"Medial septal nucleus\"\n",
    "brain_region = forge.resolve(region_label, scope=\"ontology\", target=\"terms\", strategy=ResolvingStrategy.EXACT_CASEINSENSITIVE_MATCH)\n",
    "print(brain_region)"
   ]
  },
  {
   "cell_type": "code",
   "execution_count": 14,
   "metadata": {},
   "outputs": [
    {
     "data": {
      "text/plain": "'MS'"
     },
     "execution_count": 14,
     "metadata": {},
     "output_type": "execute_result"
    }
   ],
   "source": [
    "# Get acronym\n",
    "brain_region.notation"
   ]
  },
  {
   "attachments": {},
   "cell_type": "markdown",
   "metadata": {},
   "source": [
    "## Get hierarchy relations directly from the ontology"
   ]
  },
  {
   "attachments": {},
   "cell_type": "markdown",
   "metadata": {},
   "source": [
    "Each brain region in the ontology has their children listed in the `hasPart` property, and all the leaf nodes as `hasLeafRegionPart`"
   ]
  },
  {
   "attachments": {},
   "cell_type": "markdown",
   "metadata": {},
   "source": [
    "#### Get all leaf nodes from a region"
   ]
  },
  {
   "cell_type": "code",
   "execution_count": 15,
   "metadata": {},
   "outputs": [],
   "source": [
    "target = 'FRP'\n",
    "query_leaf = \"\"\"\n",
    "SELECT DISTINCT ?id ?acronym ?leaf\n",
    "WHERE{\n",
    "    ?id subClassOf* BrainRegion ;\n",
    "    notation ?acronym ;\n",
    "    hasLeafRegionPart ?leaf.\n",
    "\"\"\"\n",
    "query_leaf += f\"FILTER (?acronym = \\\"{target}\\\") \\n\" + \"}\""
   ]
  },
  {
   "cell_type": "code",
   "execution_count": 16,
   "metadata": {},
   "outputs": [],
   "source": [
    "brs_leaves = forge.sparql(query_leaf, cross_bucket=True)"
   ]
  },
  {
   "cell_type": "code",
   "execution_count": 17,
   "metadata": {},
   "outputs": [
    {
     "data": {
      "text/plain": "                                                  id acronym   \n0  http://api.brain-map.org/api/v2/data/Structure...     FRP  \\\n1  http://api.brain-map.org/api/v2/data/Structure...     FRP   \n2  http://api.brain-map.org/api/v2/data/Structure...     FRP   \n3  http://api.brain-map.org/api/v2/data/Structure...     FRP   \n4  http://api.brain-map.org/api/v2/data/Structure...     FRP   \n5  http://api.brain-map.org/api/v2/data/Structure...     FRP   \n\n                                                leaf  \n0  http://api.brain-map.org/api/v2/data/Structure...  \n1  http://api.brain-map.org/api/v2/data/Structure/68  \n2  http://api.brain-map.org/api/v2/data/Structure...  \n3  http://api.brain-map.org/api/v2/data/Structure...  \n4  http://api.brain-map.org/api/v2/data/Structure...  \n5  http://api.brain-map.org/api/v2/data/Structure...  ",
      "text/html": "<div>\n<style scoped>\n    .dataframe tbody tr th:only-of-type {\n        vertical-align: middle;\n    }\n\n    .dataframe tbody tr th {\n        vertical-align: top;\n    }\n\n    .dataframe thead th {\n        text-align: right;\n    }\n</style>\n<table border=\"1\" class=\"dataframe\">\n  <thead>\n    <tr style=\"text-align: right;\">\n      <th></th>\n      <th>id</th>\n      <th>acronym</th>\n      <th>leaf</th>\n    </tr>\n  </thead>\n  <tbody>\n    <tr>\n      <th>0</th>\n      <td>http://api.brain-map.org/api/v2/data/Structure...</td>\n      <td>FRP</td>\n      <td>http://api.brain-map.org/api/v2/data/Structure...</td>\n    </tr>\n    <tr>\n      <th>1</th>\n      <td>http://api.brain-map.org/api/v2/data/Structure...</td>\n      <td>FRP</td>\n      <td>http://api.brain-map.org/api/v2/data/Structure/68</td>\n    </tr>\n    <tr>\n      <th>2</th>\n      <td>http://api.brain-map.org/api/v2/data/Structure...</td>\n      <td>FRP</td>\n      <td>http://api.brain-map.org/api/v2/data/Structure...</td>\n    </tr>\n    <tr>\n      <th>3</th>\n      <td>http://api.brain-map.org/api/v2/data/Structure...</td>\n      <td>FRP</td>\n      <td>http://api.brain-map.org/api/v2/data/Structure...</td>\n    </tr>\n    <tr>\n      <th>4</th>\n      <td>http://api.brain-map.org/api/v2/data/Structure...</td>\n      <td>FRP</td>\n      <td>http://api.brain-map.org/api/v2/data/Structure...</td>\n    </tr>\n    <tr>\n      <th>5</th>\n      <td>http://api.brain-map.org/api/v2/data/Structure...</td>\n      <td>FRP</td>\n      <td>http://api.brain-map.org/api/v2/data/Structure...</td>\n    </tr>\n  </tbody>\n</table>\n</div>"
     },
     "execution_count": 17,
     "metadata": {},
     "output_type": "execute_result"
    }
   ],
   "source": [
    "forge.as_dataframe(brs_leaves)"
   ]
  },
  {
   "attachments": {},
   "cell_type": "markdown",
   "metadata": {},
   "source": [
    "### Return only leaves that are represented in the atlas annotation"
   ]
  },
  {
   "cell_type": "code",
   "execution_count": 18,
   "metadata": {},
   "outputs": [],
   "source": [
    "target = 'FRP'\n",
    "query_leaf2 = \"\"\"\n",
    "SELECT DISTINCT ?id ?acronym ?leaf\n",
    "WHERE{\n",
    "    ?id subClassOf* BrainRegion ;\n",
    "    notation ?acronym ;\n",
    "    hasLeafRegionPart ?leaf.\n",
    "    ?leaf representedInAnnotation true .\n",
    "\"\"\"\n",
    "query_leaf2 += f\"FILTER (?acronym = \\\"{target}\\\") \\n\" + \"}\""
   ]
  },
  {
   "cell_type": "code",
   "execution_count": 19,
   "metadata": {},
   "outputs": [],
   "source": [
    "brs_leaves2 = forge.sparql(query_leaf2, cross_bucket=True)"
   ]
  },
  {
   "cell_type": "code",
   "execution_count": 20,
   "metadata": {},
   "outputs": [
    {
     "data": {
      "text/plain": "                                                  id acronym   \n0  http://api.brain-map.org/api/v2/data/Structure...     FRP  \\\n1  http://api.brain-map.org/api/v2/data/Structure...     FRP   \n2  http://api.brain-map.org/api/v2/data/Structure...     FRP   \n3  http://api.brain-map.org/api/v2/data/Structure...     FRP   \n4  http://api.brain-map.org/api/v2/data/Structure...     FRP   \n5  http://api.brain-map.org/api/v2/data/Structure...     FRP   \n\n                                                leaf  \n0  http://api.brain-map.org/api/v2/data/Structure...  \n1  http://api.brain-map.org/api/v2/data/Structure/68  \n2  http://api.brain-map.org/api/v2/data/Structure...  \n3  http://api.brain-map.org/api/v2/data/Structure...  \n4  http://api.brain-map.org/api/v2/data/Structure...  \n5  http://api.brain-map.org/api/v2/data/Structure...  ",
      "text/html": "<div>\n<style scoped>\n    .dataframe tbody tr th:only-of-type {\n        vertical-align: middle;\n    }\n\n    .dataframe tbody tr th {\n        vertical-align: top;\n    }\n\n    .dataframe thead th {\n        text-align: right;\n    }\n</style>\n<table border=\"1\" class=\"dataframe\">\n  <thead>\n    <tr style=\"text-align: right;\">\n      <th></th>\n      <th>id</th>\n      <th>acronym</th>\n      <th>leaf</th>\n    </tr>\n  </thead>\n  <tbody>\n    <tr>\n      <th>0</th>\n      <td>http://api.brain-map.org/api/v2/data/Structure...</td>\n      <td>FRP</td>\n      <td>http://api.brain-map.org/api/v2/data/Structure...</td>\n    </tr>\n    <tr>\n      <th>1</th>\n      <td>http://api.brain-map.org/api/v2/data/Structure...</td>\n      <td>FRP</td>\n      <td>http://api.brain-map.org/api/v2/data/Structure/68</td>\n    </tr>\n    <tr>\n      <th>2</th>\n      <td>http://api.brain-map.org/api/v2/data/Structure...</td>\n      <td>FRP</td>\n      <td>http://api.brain-map.org/api/v2/data/Structure...</td>\n    </tr>\n    <tr>\n      <th>3</th>\n      <td>http://api.brain-map.org/api/v2/data/Structure...</td>\n      <td>FRP</td>\n      <td>http://api.brain-map.org/api/v2/data/Structure...</td>\n    </tr>\n    <tr>\n      <th>4</th>\n      <td>http://api.brain-map.org/api/v2/data/Structure...</td>\n      <td>FRP</td>\n      <td>http://api.brain-map.org/api/v2/data/Structure...</td>\n    </tr>\n    <tr>\n      <th>5</th>\n      <td>http://api.brain-map.org/api/v2/data/Structure...</td>\n      <td>FRP</td>\n      <td>http://api.brain-map.org/api/v2/data/Structure...</td>\n    </tr>\n  </tbody>\n</table>\n</div>"
     },
     "execution_count": 20,
     "metadata": {},
     "output_type": "execute_result"
    }
   ],
   "source": [
    "forge.as_dataframe(brs_leaves2)"
   ]
  },
  {
   "attachments": {},
   "cell_type": "markdown",
   "metadata": {},
   "source": [
    "We can inspect the brain region \"FRP\""
   ]
  },
  {
   "cell_type": "code",
   "execution_count": 21,
   "metadata": {},
   "outputs": [],
   "source": [
    "FRP = forge.retrieve(brs_leaves[0].leaf, cross_bucket=True)"
   ]
  },
  {
   "cell_type": "code",
   "execution_count": 22,
   "metadata": {},
   "outputs": [
    {
     "name": "stdout",
     "output_type": "stream",
     "text": [
      "{\n",
      "    context: https://neuroshapes.org\n",
      "    id: http://api.brain-map.org/api/v2/data/Structure/614454278\n",
      "    type: Class\n",
      "    label: Frontal pole, layer 2\n",
      "    altLabel: FRP2\n",
      "    atlasRelease:\n",
      "    {\n",
      "        id: https://bbp.epfl.ch/neurosciencegraph/data/4906ab85-694f-469d-962f-c0174e901885\n",
      "        type: BrainAtlasRelease\n",
      "        _rev: 8\n",
      "    }\n",
      "    color_hex_triplet: 268F45\n",
      "    hasHierarchyView:\n",
      "    [\n",
      "        https://neuroshapes.org/BrainRegion\n",
      "    ]\n",
      "    hasLayerLocationPhenotype:\n",
      "    [\n",
      "        http://purl.obolibrary.org/obo/UBERON_0005391\n",
      "    ]\n",
      "    hemisphere_id: 3\n",
      "    identifier: \"614454278\"\n",
      "    isPartOf:\n",
      "    [\n",
      "        http://api.brain-map.org/api/v2/data/Structure/667\n",
      "    ]\n",
      "    notation: FRP2\n",
      "    prefLabel: Frontal pole, layer 2\n",
      "    regionVolume:\n",
      "    {\n",
      "        unitCode: cubic micrometer\n",
      "        value: 93343750.0\n",
      "    }\n",
      "    regionVolumeRatioToWholeBrain:\n",
      "    {\n",
      "        unitCode: cubic micrometer\n",
      "        value: 0.00018445453376368608\n",
      "    }\n",
      "    representedInAnnotation: true\n",
      "    subClassOf:\n",
      "    [\n",
      "        https://neuroshapes.org/BrainRegion\n",
      "    ]\n",
      "}\n"
     ]
    }
   ],
   "source": [
    "print(FRP)"
   ]
  },
  {
   "attachments": {},
   "cell_type": "markdown",
   "metadata": {},
   "source": [
    "Similarly to the nodes, we can get the direct children of a brain region, present in the annotation, by querying using the `hasPart` property"
   ]
  },
  {
   "cell_type": "code",
   "execution_count": 23,
   "metadata": {},
   "outputs": [],
   "source": [
    "target = 'MOp'\n",
    "query_child = \"\"\"\n",
    "SELECT DISTINCT ?id ?acronym ?child\n",
    "WHERE{\n",
    "    ?id subClassOf* BrainRegion ;\n",
    "    notation ?acronym ;\n",
    "    hasPart ?child.\n",
    "    ?child representedInAnnotation true.\n",
    "\"\"\"\n",
    "query_child += f\"FILTER (?acronym = \\\"{target}\\\") \\n\" + \"}\""
   ]
  },
  {
   "cell_type": "code",
   "execution_count": 24,
   "metadata": {},
   "outputs": [],
   "source": [
    "brs_children = forge.sparql(query_child)"
   ]
  },
  {
   "cell_type": "code",
   "execution_count": 25,
   "metadata": {},
   "outputs": [
    {
     "data": {
      "text/plain": "                                                  id acronym   \n0  http://api.brain-map.org/api/v2/data/Structure...     MOp  \\\n1  http://api.brain-map.org/api/v2/data/Structure...     MOp   \n2  http://api.brain-map.org/api/v2/data/Structure...     MOp   \n3  http://api.brain-map.org/api/v2/data/Structure...     MOp   \n4  http://api.brain-map.org/api/v2/data/Structure...     MOp   \n\n                                               child  \n0  http://api.brain-map.org/api/v2/data/Structure...  \n1  http://api.brain-map.org/api/v2/data/Structure...  \n2  http://api.brain-map.org/api/v2/data/Structure...  \n3  http://api.brain-map.org/api/v2/data/Structure...  \n4  http://api.brain-map.org/api/v2/data/Structure...  ",
      "text/html": "<div>\n<style scoped>\n    .dataframe tbody tr th:only-of-type {\n        vertical-align: middle;\n    }\n\n    .dataframe tbody tr th {\n        vertical-align: top;\n    }\n\n    .dataframe thead th {\n        text-align: right;\n    }\n</style>\n<table border=\"1\" class=\"dataframe\">\n  <thead>\n    <tr style=\"text-align: right;\">\n      <th></th>\n      <th>id</th>\n      <th>acronym</th>\n      <th>child</th>\n    </tr>\n  </thead>\n  <tbody>\n    <tr>\n      <th>0</th>\n      <td>http://api.brain-map.org/api/v2/data/Structure...</td>\n      <td>MOp</td>\n      <td>http://api.brain-map.org/api/v2/data/Structure...</td>\n    </tr>\n    <tr>\n      <th>1</th>\n      <td>http://api.brain-map.org/api/v2/data/Structure...</td>\n      <td>MOp</td>\n      <td>http://api.brain-map.org/api/v2/data/Structure...</td>\n    </tr>\n    <tr>\n      <th>2</th>\n      <td>http://api.brain-map.org/api/v2/data/Structure...</td>\n      <td>MOp</td>\n      <td>http://api.brain-map.org/api/v2/data/Structure...</td>\n    </tr>\n    <tr>\n      <th>3</th>\n      <td>http://api.brain-map.org/api/v2/data/Structure...</td>\n      <td>MOp</td>\n      <td>http://api.brain-map.org/api/v2/data/Structure...</td>\n    </tr>\n    <tr>\n      <th>4</th>\n      <td>http://api.brain-map.org/api/v2/data/Structure...</td>\n      <td>MOp</td>\n      <td>http://api.brain-map.org/api/v2/data/Structure...</td>\n    </tr>\n  </tbody>\n</table>\n</div>"
     },
     "execution_count": 25,
     "metadata": {},
     "output_type": "execute_result"
    }
   ],
   "source": [
    "forge.as_dataframe(brs_children)"
   ]
  },
  {
   "attachments": {},
   "cell_type": "markdown",
   "metadata": {},
   "source": [
    "If we know the exact brain region, instead of using sparql one can simply resolve teh brain region and get the children directly from the attribute `hasPart`"
   ]
  },
  {
   "cell_type": "code",
   "execution_count": 26,
   "metadata": {},
   "outputs": [],
   "source": [
    "mop = forge.resolve('MOp', scope='ontology', strategy='EXACT_MATCH')"
   ]
  },
  {
   "cell_type": "code",
   "execution_count": 27,
   "metadata": {},
   "outputs": [
    {
     "name": "stdout",
     "output_type": "stream",
     "text": [
      "{\n",
      "    id: http://api.brain-map.org/api/v2/data/Structure/985\n",
      "    type: Class\n",
      "    label: Primary motor area\n",
      "    altLabel: MOp\n",
      "    isDefinedBy: http://bbp.epfl.ch/neurosciencegraph/ontologies/core/brainregion\n",
      "    notation: MOp\n",
      "    prefLabel: Primary motor area\n",
      "    subClassOf: nsg:BrainRegion\n",
      "}\n"
     ]
    }
   ],
   "source": [
    "print(mop)"
   ]
  },
  {
   "cell_type": "code",
   "execution_count": 28,
   "metadata": {},
   "outputs": [],
   "source": [
    "full_mop = forge.retrieve(mop.id, cross_bucket=True)"
   ]
  },
  {
   "cell_type": "markdown",
   "metadata": {},
   "source": [
    "## Get parcellation (annotation) volume"
   ]
  },
  {
   "cell_type": "code",
   "execution_count": 29,
   "metadata": {},
   "outputs": [],
   "source": [
    "parcellation_volume = forge.retrieve(atlas_release.parcellationVolume.id, version=resources_tag)"
   ]
  },
  {
   "cell_type": "code",
   "execution_count": 30,
   "metadata": {},
   "outputs": [
    {
     "name": "stdout",
     "output_type": "stream",
     "text": [
      "{\n",
      "    context: https://bbp.neuroshapes.org\n",
      "    id: https://bbp.epfl.ch/neurosciencegraph/data/231f6e2e-6366-4ddc-94b6-35ab50c076c0\n",
      "    type:\n",
      "    [\n",
      "        BrainParcellationDataLayer\n",
      "        VolumetricDataLayer\n",
      "        Dataset\n",
      "    ]\n",
      "    atlasRelease:\n",
      "    {\n",
      "        id: https://bbp.epfl.ch/neurosciencegraph/data/4906ab85-694f-469d-962f-c0174e901885\n",
      "        type:\n",
      "        [\n",
      "            BrainAtlasRelease\n",
      "            AtlasRelease\n",
      "            Entity\n",
      "        ]\n",
      "        _rev: 8\n",
      "    }\n",
      "    brainLocation:\n",
      "    {\n",
      "        atlasSpatialReferenceSystem:\n",
      "        {\n",
      "            id: https://bbp.epfl.ch/neurosciencegraph/data/allen_ccfv3_spatial_reference_system\n",
      "            type:\n",
      "            [\n",
      "                AtlasSpatialReferenceSystem\n",
      "                BrainAtlasSpatialReferenceSystem\n",
      "            ]\n",
      "        }\n",
      "        brainRegion:\n",
      "        {\n",
      "            id: http://api.brain-map.org/api/v2/data/Structure/997\n",
      "            label: root\n",
      "        }\n",
      "    }\n",
      "    bufferEncoding: gzip\n",
      "    componentEncoding: uint32\n",
      "    contribution:\n",
      "    [\n",
      "        {\n",
      "            type: Contribution\n",
      "            agent:\n",
      "            {\n",
      "                id: https://bbp.epfl.ch/nexus/v1/realms/bbp/users/lcristel\n",
      "                type:\n",
      "                [\n",
      "                    Agent\n",
      "                    Person\n",
      "                ]\n",
      "            }\n",
      "            hadRole:\n",
      "            {\n",
      "                id: https://neuroshapes.org/BrainAtlasPipelineExecutionRole\n",
      "                label: Brain Atlas Pipeline Executor role\n",
      "            }\n",
      "        }\n",
      "        {\n",
      "            type: Contribution\n",
      "            agent:\n",
      "            {\n",
      "                id: https://www.grid.ac/institutes/grid.5333.6\n",
      "                type:\n",
      "                [\n",
      "                    Agent\n",
      "                    Organization\n",
      "                ]\n",
      "            }\n",
      "        }\n",
      "    ]\n",
      "    dataSampleModality: parcellationId\n",
      "    derivation:\n",
      "    [\n",
      "        {\n",
      "            type: Derivation\n",
      "            entity:\n",
      "            {\n",
      "                id: https://bbp.epfl.ch/neurosciencegraph/data/4906ab85-694f-469d-962f-c0174e901885\n",
      "                type: Entity\n",
      "            }\n",
      "        }\n",
      "    ]\n",
      "    description: annotation_ccfv3_l23split_barrelsplit raster volume for brain region annotation as IDs, including the separation of cortical layers 2 and 3..\n",
      "    dimension:\n",
      "    [\n",
      "        {\n",
      "            type: ComponentDimension\n",
      "            name: parcellationId\n",
      "            size: 1\n",
      "        }\n",
      "        {\n",
      "            type: SpaceDimension\n",
      "            size: 528\n",
      "            unitCode: voxel\n",
      "        }\n",
      "        {\n",
      "            type: SpaceDimension\n",
      "            size: 320\n",
      "            unitCode: voxel\n",
      "        }\n",
      "        {\n",
      "            type: SpaceDimension\n",
      "            size: 456\n",
      "            unitCode: voxel\n",
      "        }\n",
      "    ]\n",
      "    distribution:\n",
      "    {\n",
      "        type: DataDownload\n",
      "        atLocation:\n",
      "        {\n",
      "            type: Location\n",
      "            location: file:///gpfs/bbp.cscs.ch/data/project/proj39/nexus/bbp/atlas/f/9/b/b/f/d/3/9/annotation_ccfv3_l23split_barrelsplit.nrrd\n",
      "            store:\n",
      "            {\n",
      "                id: https://bbp.epfl.ch/neurosciencegraph/data/3806a8d9-0130-4535-bac6-3b1fecf855f5\n",
      "                type: RemoteDiskStorage\n",
      "                _rev: 1\n",
      "            }\n",
      "        }\n",
      "        contentSize:\n",
      "        {\n",
      "            unitCode: bytes\n",
      "            value: 3980665\n",
      "        }\n",
      "        contentUrl: https://bbp.epfl.ch/nexus/v1/files/bbp/atlas/https%3A%2F%2Fbbp.epfl.ch%2Fdata%2Fbbp%2Fatlas%2Ff1ce4913-f2ff-45a6-9159-2c09bfdbfba7\n",
      "        digest:\n",
      "        {\n",
      "            algorithm: SHA-256\n",
      "            value: b53d096404069c6579dcc2b2cef145c9b33b2372f912cd6f4b784069d5f9d87d\n",
      "        }\n",
      "        encodingFormat: application/nrrd\n",
      "        name: annotation_ccfv3_l23split_barrelsplit.nrrd\n",
      "    }\n",
      "    endianness: little\n",
      "    fileExtension: nrrd\n",
      "    isRegisteredIn:\n",
      "    {\n",
      "        id: https://bbp.epfl.ch/neurosciencegraph/data/allen_ccfv3_spatial_reference_system\n",
      "        type:\n",
      "        [\n",
      "            AtlasSpatialReferenceSystem\n",
      "            BrainAtlasSpatialReferenceSystem\n",
      "        ]\n",
      "    }\n",
      "    name: BBP Mouse Brain Annotation Volume\n",
      "    resolution:\n",
      "    {\n",
      "        unitCode: um\n",
      "        value: 25.0\n",
      "    }\n",
      "    sampleType: label\n",
      "    subject:\n",
      "    {\n",
      "        type: Subject\n",
      "        species:\n",
      "        {\n",
      "            id: http://purl.obolibrary.org/obo/NCBITaxon_10090\n",
      "            label: Mus musculus\n",
      "        }\n",
      "    }\n",
      "    worldMatrix:\n",
      "    [\n",
      "        25.0\n",
      "        0.0\n",
      "        0.0\n",
      "        0.0\n",
      "        0.0\n",
      "        25.0\n",
      "        0.0\n",
      "        0.0\n",
      "        0.0\n",
      "        0.0\n",
      "        25.0\n",
      "        0.0\n",
      "        0.0\n",
      "        0.0\n",
      "        0.0\n",
      "        1.0\n",
      "    ]\n",
      "}\n"
     ]
    }
   ],
   "source": [
    "print(parcellation_volume)"
   ]
  },
  {
   "cell_type": "code",
   "execution_count": 31,
   "metadata": {},
   "outputs": [],
   "source": [
    "forge.download(parcellation_volume, \"distribution.contentUrl\", \".\", overwrite=True)"
   ]
  },
  {
   "cell_type": "markdown",
   "metadata": {},
   "source": [
    "## Get orientation field and Direction vectors volumes"
   ]
  },
  {
   "cell_type": "code",
   "execution_count": 30,
   "metadata": {
    "ExecuteTime": {
     "end_time": "2024-06-23T20:03:50.671328Z",
     "start_time": "2024-06-23T20:03:49.831341Z"
    }
   },
   "outputs": [],
   "source": [
    "direction_vectors = forge.retrieve(atlas_release.directionVector.id, version=resources_tag)\n",
    "cell_orientation_field = forge.retrieve(atlas_release.cellOrientationField.id, version=resources_tag)"
   ]
  },
  {
   "cell_type": "code",
   "execution_count": 31,
   "metadata": {
    "ExecuteTime": {
     "end_time": "2024-06-23T20:08:26.207224Z",
     "start_time": "2024-06-23T20:03:50.673528Z"
    }
   },
   "outputs": [],
   "source": [
    "forge.download(direction_vectors, \"distribution.contentUrl\", \".\", overwrite=True)\n",
    "forge.download(cell_orientation_field, \"distribution.contentUrl\", \".\", overwrite=True)"
   ]
  },
  {
   "cell_type": "markdown",
   "source": [
    "## Get the CellCompositionSummary\n",
    "A summary of the M-E type density values by brain region is provided in the `CellCompositionSummary` property of the CellComposition:"
   ],
   "metadata": {
    "collapsed": false
   }
  },
  {
   "cell_type": "code",
   "execution_count": 33,
   "outputs": [],
   "source": [
    "cell_composition = forge.retrieve(id=cell_composition_id, version=resources_tag, cross_bucket=True)\n",
    "cell_composition_summary = forge.retrieve(id=cell_composition.cellCompositionSummary.id, version=resources_tag,cross_bucket=True)\n",
    "forge.download(cell_composition_summary, path=\".\", follow=\"distribution.contentUrl\", cross_bucket=True, overwrite=True)"
   ],
   "metadata": {
    "collapsed": false,
    "ExecuteTime": {
     "end_time": "2024-06-23T20:21:11.585077Z",
     "start_time": "2024-06-23T20:21:07.907071Z"
    }
   }
  },
  {
   "cell_type": "code",
   "execution_count": 41,
   "outputs": [
    {
     "name": "stdout",
     "output_type": "stream",
     "text": [
      "The CellCompositionSummary contains 824 M types:\n",
      "dict_keys(['http://api.brain-map.org/api/v2/data/Structure/23', 'http://api.brain-map.org/api/v2/data/Structure/935', 'http://api.brain-map.org/api/v2/data/Structure/614454342', 'http://api.brain-map.org/api/v2/data/Structure/614454343', 'http://api.brain-map.org/api/v2/data/Structure/1015', 'http://api.brain-map.org/api/v2/data/Structure/919', 'http://api.brain-map.org/api/v2/data/Structure/927', 'http://api.brain-map.org/api/v2/data/Structure/588', 'http://api.brain-map.org/api/v2/data/Structure/614454344', 'http://api.brain-map.org/api/v2/data/Structure/614454345', 'http://api.brain-map.org/api/v2/data/Structure/772', 'http://api.brain-map.org/api/v2/data/Structure/810', 'http://api.brain-map.org/api/v2/data/Structure/819', 'http://api.brain-map.org/api/v2/data/Structure/56', 'http://api.brain-map.org/api/v2/data/Structure/576', 'http://api.brain-map.org/api/v2/data/Structure/64', 'http://api.brain-map.org/api/v2/data/Structure/72', 'http://api.brain-map.org/api/v2/data/Structure/996', 'http://api.brain-map.org/api/v2/data/Structure/614454355', 'http://api.brain-map.org/api/v2/data/Structure/614454356', 'http://api.brain-map.org/api/v2/data/Structure/1101', 'http://api.brain-map.org/api/v2/data/Structure/783', 'http://api.brain-map.org/api/v2/data/Structure/831', 'http://api.brain-map.org/api/v2/data/Structure/120', 'http://api.brain-map.org/api/v2/data/Structure/614454357', 'http://api.brain-map.org/api/v2/data/Structure/614454358', 'http://api.brain-map.org/api/v2/data/Structure/344', 'http://api.brain-map.org/api/v2/data/Structure/314', 'http://api.brain-map.org/api/v2/data/Structure/355', 'http://api.brain-map.org/api/v2/data/Structure/704', 'http://api.brain-map.org/api/v2/data/Structure/614454359', 'http://api.brain-map.org/api/v2/data/Structure/614454360', 'http://api.brain-map.org/api/v2/data/Structure/800', 'http://api.brain-map.org/api/v2/data/Structure/675', 'http://api.brain-map.org/api/v2/data/Structure/699', 'http://api.brain-map.org/api/v2/data/Structure/939', 'http://api.brain-map.org/api/v2/data/Structure/143', 'http://api.brain-map.org/api/v2/data/Structure/1096', 'http://api.brain-map.org/api/v2/data/Structure/1104', 'http://api.brain-map.org/api/v2/data/Structure/614454447', 'http://api.brain-map.org/api/v2/data/Structure/614454448', 'http://api.brain-map.org/api/v2/data/Structure/188', 'http://api.brain-map.org/api/v2/data/Structure/196', 'http://api.brain-map.org/api/v2/data/Structure/204', 'http://api.brain-map.org/api/v2/data/Structure/614454385', 'http://api.brain-map.org/api/v2/data/Structure/207', 'http://api.brain-map.org/api/v2/data/Structure/215', 'http://api.brain-map.org/api/v2/data/Structure/484682508', 'http://api.brain-map.org/api/v2/data/Structure/223', 'http://api.brain-map.org/api/v2/data/Structure/231', 'http://api.brain-map.org/api/v2/data/Structure/527', 'http://api.brain-map.org/api/v2/data/Structure/614454312', 'http://api.brain-map.org/api/v2/data/Structure/614454313', 'http://api.brain-map.org/api/v2/data/Structure/678', 'http://api.brain-map.org/api/v2/data/Structure/252', 'http://api.brain-map.org/api/v2/data/Structure/156', 'http://api.brain-map.org/api/v2/data/Structure/243', 'http://api.brain-map.org/api/v2/data/Structure/735', 'http://api.brain-map.org/api/v2/data/Structure/614454316', 'http://api.brain-map.org/api/v2/data/Structure/614454317', 'http://api.brain-map.org/api/v2/data/Structure/816', 'http://api.brain-map.org/api/v2/data/Structure/847', 'http://api.brain-map.org/api/v2/data/Structure/954', 'http://api.brain-map.org/api/v2/data/Structure/1005', 'http://api.brain-map.org/api/v2/data/Structure/696', 'http://api.brain-map.org/api/v2/data/Structure/614454318', 'http://api.brain-map.org/api/v2/data/Structure/614454319', 'http://api.brain-map.org/api/v2/data/Structure/759', 'http://api.brain-map.org/api/v2/data/Structure/791', 'http://api.brain-map.org/api/v2/data/Structure/249', 'http://api.brain-map.org/api/v2/data/Structure/456', 'http://api.brain-map.org/api/v2/data/Structure/959', 'http://api.brain-map.org/api/v2/data/Structure/614454320', 'http://api.brain-map.org/api/v2/data/Structure/614454321', 'http://api.brain-map.org/api/v2/data/Structure/990', 'http://api.brain-map.org/api/v2/data/Structure/1023', 'http://api.brain-map.org/api/v2/data/Structure/520', 'http://api.brain-map.org/api/v2/data/Structure/598', 'http://api.brain-map.org/api/v2/data/Structure/255', 'http://api.brain-map.org/api/v2/data/Structure/263', 'http://api.brain-map.org/api/v2/data/Structure/272', 'http://api.brain-map.org/api/v2/data/Structure/549009219', 'http://api.brain-map.org/api/v2/data/Structure/280', 'http://api.brain-map.org/api/v2/data/Structure/292', 'http://api.brain-map.org/api/v2/data/Structure/287', 'http://api.brain-map.org/api/v2/data/Structure/303', 'http://api.brain-map.org/api/v2/data/Structure/311', 'http://api.brain-map.org/api/v2/data/Structure/451', 'http://api.brain-map.org/api/v2/data/Structure/327', 'http://api.brain-map.org/api/v2/data/Structure/334', 'http://api.brain-map.org/api/v2/data/Structure/614454396', 'http://api.brain-map.org/api/v2/data/Structure/614454397', 'http://api.brain-map.org/api/v2/data/Structure/614454398', 'http://api.brain-map.org/api/v2/data/Structure/614454453', 'http://api.brain-map.org/api/v2/data/Structure/544', 'http://api.brain-map.org/api/v2/data/Structure/551', 'http://api.brain-map.org/api/v2/data/Structure/559', 'http://api.brain-map.org/api/v2/data/Structure/614454439', 'http://api.brain-map.org/api/v2/data/Structure/575', 'http://api.brain-map.org/api/v2/data/Structure/583', 'http://api.brain-map.org/api/v2/data/Structure/591', 'http://api.brain-map.org/api/v2/data/Structure/599', 'http://api.brain-map.org/api/v2/data/Structure/614454390', 'http://api.brain-map.org/api/v2/data/Structure/614454391', 'http://api.brain-map.org/api/v2/data/Structure/614454392', 'http://api.brain-map.org/api/v2/data/Structure/614454450', 'http://api.brain-map.org/api/v2/data/Structure/672', 'http://api.brain-map.org/api/v2/data/Structure/614454431', 'http://api.brain-map.org/api/v2/data/Structure/614454405', 'http://api.brain-map.org/api/v2/data/Structure/711', 'http://api.brain-map.org/api/v2/data/Structure/614454440', 'http://api.brain-map.org/api/v2/data/Structure/616', 'http://api.brain-map.org/api/v2/data/Structure/96', 'http://api.brain-map.org/api/v2/data/Structure/614454441', 'http://api.brain-map.org/api/v2/data/Structure/10703', 'http://api.brain-map.org/api/v2/data/Structure/10704', 'http://api.brain-map.org/api/v2/data/Structure/632', 'http://api.brain-map.org/api/v2/data/Structure/839', 'http://api.brain-map.org/api/v2/data/Structure/846', 'http://api.brain-map.org/api/v2/data/Structure/614454388', 'http://api.brain-map.org/api/v2/data/Structure/872', 'http://api.brain-map.org/api/v2/data/Structure/75', 'http://api.brain-map.org/api/v2/data/Structure/880', 'http://api.brain-map.org/api/v2/data/Structure/836', 'http://api.brain-map.org/api/v2/data/Structure/614454382', 'http://api.brain-map.org/api/v2/data/Structure/614454383', 'http://api.brain-map.org/api/v2/data/Structure/988', 'http://api.brain-map.org/api/v2/data/Structure/977', 'http://api.brain-map.org/api/v2/data/Structure/1045', 'http://api.brain-map.org/api/v2/data/Structure/903', 'http://api.brain-map.org/api/v2/data/Structure/1121', 'http://api.brain-map.org/api/v2/data/Structure/20', 'http://api.brain-map.org/api/v2/data/Structure/52', 'http://api.brain-map.org/api/v2/data/Structure/139', 'http://api.brain-map.org/api/v2/data/Structure/28', 'http://api.brain-map.org/api/v2/data/Structure/526', 'http://api.brain-map.org/api/v2/data/Structure/543', 'http://api.brain-map.org/api/v2/data/Structure/664', 'http://api.brain-map.org/api/v2/data/Structure/727', 'http://api.brain-map.org/api/v2/data/Structure/743', 'http://api.brain-map.org/api/v2/data/Structure/952', 'http://api.brain-map.org/api/v2/data/Structure/966', 'http://api.brain-map.org/api/v2/data/Structure/975', 'http://api.brain-map.org/api/v2/data/Structure/560581551', 'http://api.brain-map.org/api/v2/data/Structure/982', 'http://api.brain-map.org/api/v2/data/Structure/804', 'http://api.brain-map.org/api/v2/data/Structure/614454452', 'http://api.brain-map.org/api/v2/data/Structure/989', 'http://api.brain-map.org/api/v2/data/Structure/68', 'http://api.brain-map.org/api/v2/data/Structure/614454278', 'http://api.brain-map.org/api/v2/data/Structure/614454279', 'http://api.brain-map.org/api/v2/data/Structure/526157192', 'http://api.brain-map.org/api/v2/data/Structure/526157196', 'http://api.brain-map.org/api/v2/data/Structure/526322264', 'http://api.brain-map.org/api/v2/data/Structure/998', 'http://api.brain-map.org/api/v2/data/Structure/1022', 'http://api.brain-map.org/api/v2/data/Structure/1031', 'http://api.brain-map.org/api/v2/data/Structure/1039', 'http://api.brain-map.org/api/v2/data/Structure/1048', 'http://api.brain-map.org/api/v2/data/Structure/36', 'http://api.brain-map.org/api/v2/data/Structure/614454308', 'http://api.brain-map.org/api/v2/data/Structure/614454309', 'http://api.brain-map.org/api/v2/data/Structure/148', 'http://api.brain-map.org/api/v2/data/Structure/187', 'http://api.brain-map.org/api/v2/data/Structure/638', 'http://api.brain-map.org/api/v2/data/Structure/662', 'http://api.brain-map.org/api/v2/data/Structure/589508447', 'http://api.brain-map.org/api/v2/data/Structure/614454404', 'http://api.brain-map.org/api/v2/data/Structure/614454423', 'http://api.brain-map.org/api/v2/data/Structure/549009227', 'http://api.brain-map.org/api/v2/data/Structure/1105', 'http://api.brain-map.org/api/v2/data/Structure/1113', 'http://api.brain-map.org/api/v2/data/Structure/1120', 'http://api.brain-map.org/api/v2/data/Structure/372', 'http://api.brain-map.org/api/v2/data/Structure/811', 'http://api.brain-map.org/api/v2/data/Structure/820', 'http://api.brain-map.org/api/v2/data/Structure/828', 'http://api.brain-map.org/api/v2/data/Structure/12', 'http://api.brain-map.org/api/v2/data/Structure/19', 'http://api.brain-map.org/api/v2/data/Structure/27', 'http://api.brain-map.org/api/v2/data/Structure/35', 'http://api.brain-map.org/api/v2/data/Structure/614454455', 'http://api.brain-map.org/api/v2/data/Structure/614454454', 'http://api.brain-map.org/api/v2/data/Structure/707', 'http://api.brain-map.org/api/v2/data/Structure/747', 'http://api.brain-map.org/api/v2/data/Structure/614454347', 'http://api.brain-map.org/api/v2/data/Structure/827', 'http://api.brain-map.org/api/v2/data/Structure/1054', 'http://api.brain-map.org/api/v2/data/Structure/1081', 'http://api.brain-map.org/api/v2/data/Structure/59', 'http://api.brain-map.org/api/v2/data/Structure/67', 'http://api.brain-map.org/api/v2/data/Structure/83', 'http://api.brain-map.org/api/v2/data/Structure/91', 'http://api.brain-map.org/api/v2/data/Structure/607344842', 'http://api.brain-map.org/api/v2/data/Structure/607344838', 'http://api.brain-map.org/api/v2/data/Structure/607344858', 'http://api.brain-map.org/api/v2/data/Structure/607344854', 'http://api.brain-map.org/api/v2/data/Structure/607344850', 'http://api.brain-map.org/api/v2/data/Structure/607344846', 'http://api.brain-map.org/api/v2/data/Structure/614454427', 'http://api.brain-map.org/api/v2/data/Structure/607344834', 'http://api.brain-map.org/api/v2/data/Structure/607344862', 'http://api.brain-map.org/api/v2/data/Structure/136', 'http://api.brain-map.org/api/v2/data/Structure/106', 'http://api.brain-map.org/api/v2/data/Structure/115', 'http://api.brain-map.org/api/v2/data/Structure/614454456', 'http://api.brain-map.org/api/v2/data/Structure/563807439', 'http://api.brain-map.org/api/v2/data/Structure/123', 'http://api.brain-map.org/api/v2/data/Structure/131', 'http://api.brain-map.org/api/v2/data/Structure/209', 'http://api.brain-map.org/api/v2/data/Structure/147', 'http://api.brain-map.org/api/v2/data/Structure/155', 'http://api.brain-map.org/api/v2/data/Structure/162', 'http://api.brain-map.org/api/v2/data/Structure/496345668', 'http://api.brain-map.org/api/v2/data/Structure/496345672', 'http://api.brain-map.org/api/v2/data/Structure/496345664', 'http://api.brain-map.org/api/v2/data/Structure/186', 'http://api.brain-map.org/api/v2/data/Structure/194', 'http://api.brain-map.org/api/v2/data/Structure/203', 'http://api.brain-map.org/api/v2/data/Structure/614454437', 'http://api.brain-map.org/api/v2/data/Structure/210', 'http://api.brain-map.org/api/v2/data/Structure/218', 'http://api.brain-map.org/api/v2/data/Structure/226', 'http://api.brain-map.org/api/v2/data/Structure/955', 'http://api.brain-map.org/api/v2/data/Structure/963', 'http://api.brain-map.org/api/v2/data/Structure/250', 'http://api.brain-map.org/api/v2/data/Structure/258', 'http://api.brain-map.org/api/v2/data/Structure/266', 'http://api.brain-map.org/api/v2/data/Structure/66', 'http://api.brain-map.org/api/v2/data/Structure/298', 'http://api.brain-map.org/api/v2/data/Structure/549009211', 'http://api.brain-map.org/api/v2/data/Structure/307', 'http://api.brain-map.org/api/v2/data/Structure/614454428', 'http://api.brain-map.org/api/v2/data/Structure/1098', 'http://api.brain-map.org/api/v2/data/Structure/1107', 'http://api.brain-map.org/api/v2/data/Structure/10671', 'http://api.brain-map.org/api/v2/data/Structure/614454407', 'http://api.brain-map.org/api/v2/data/Structure/452', 'http://api.brain-map.org/api/v2/data/Structure/460', 'http://api.brain-map.org/api/v2/data/Structure/1072', 'http://api.brain-map.org/api/v2/data/Structure/1088', 'http://api.brain-map.org/api/v2/data/Structure/1079', 'http://api.brain-map.org/api/v2/data/Structure/483', 'http://api.brain-map.org/api/v2/data/Structure/606826659', 'http://api.brain-map.org/api/v2/data/Structure/606826647', 'http://api.brain-map.org/api/v2/data/Structure/606826651', 'http://api.brain-map.org/api/v2/data/Structure/732', 'http://api.brain-map.org/api/v2/data/Structure/606826655', 'http://api.brain-map.org/api/v2/data/Structure/614454384', 'http://api.brain-map.org/api/v2/data/Structure/320', 'http://api.brain-map.org/api/v2/data/Structure/614454282', 'http://api.brain-map.org/api/v2/data/Structure/614454283', 'http://api.brain-map.org/api/v2/data/Structure/648', 'http://api.brain-map.org/api/v2/data/Structure/844', 'http://api.brain-map.org/api/v2/data/Structure/882', 'http://api.brain-map.org/api/v2/data/Structure/656', 'http://api.brain-map.org/api/v2/data/Structure/614454284', 'http://api.brain-map.org/api/v2/data/Structure/614454285', 'http://api.brain-map.org/api/v2/data/Structure/767', 'http://api.brain-map.org/api/v2/data/Structure/1021', 'http://api.brain-map.org/api/v2/data/Structure/1085', 'http://api.brain-map.org/api/v2/data/Structure/523', 'http://api.brain-map.org/api/v2/data/Structure/531', 'http://api.brain-map.org/api/v2/data/Structure/614454424', 'http://api.brain-map.org/api/v2/data/Structure/564', 'http://api.brain-map.org/api/v2/data/Structure/58', 'http://api.brain-map.org/api/v2/data/Structure/202', 'http://api.brain-map.org/api/v2/data/Structure/614454436', 'http://api.brain-map.org/api/v2/data/Structure/580', 'http://api.brain-map.org/api/v2/data/Structure/587', 'http://api.brain-map.org/api/v2/data/Structure/596', 'http://api.brain-map.org/api/v2/data/Structure/604', 'http://api.brain-map.org/api/v2/data/Structure/614454429', 'http://api.brain-map.org/api/v2/data/Structure/260', 'http://api.brain-map.org/api/v2/data/Structure/268', 'http://api.brain-map.org/api/v2/data/Structure/1139', 'http://api.brain-map.org/api/v2/data/Structure/614454445', 'http://api.brain-map.org/api/v2/data/Structure/628', 'http://api.brain-map.org/api/v2/data/Structure/634', 'http://api.brain-map.org/api/v2/data/Structure/177', 'http://api.brain-map.org/api/v2/data/Structure/642', 'http://api.brain-map.org/api/v2/data/Structure/614454395', 'http://api.brain-map.org/api/v2/data/Structure/706', 'http://api.brain-map.org/api/v2/data/Structure/448', 'http://api.brain-map.org/api/v2/data/Structure/614454350', 'http://api.brain-map.org/api/v2/data/Structure/614454351', 'http://api.brain-map.org/api/v2/data/Structure/630', 'http://api.brain-map.org/api/v2/data/Structure/440', 'http://api.brain-map.org/api/v2/data/Structure/488', 'http://api.brain-map.org/api/v2/data/Structure/484', 'http://api.brain-map.org/api/v2/data/Structure/524', 'http://api.brain-map.org/api/v2/data/Structure/614454352', 'http://api.brain-map.org/api/v2/data/Structure/620', 'http://api.brain-map.org/api/v2/data/Structure/910', 'http://api.brain-map.org/api/v2/data/Structure/527696977', 'http://api.brain-map.org/api/v2/data/Structure/969', 'http://api.brain-map.org/api/v2/data/Structure/614454353', 'http://api.brain-map.org/api/v2/data/Structure/614454354', 'http://api.brain-map.org/api/v2/data/Structure/1125', 'http://api.brain-map.org/api/v2/data/Structure/608', 'http://api.brain-map.org/api/v2/data/Structure/680', 'http://api.brain-map.org/api/v2/data/Structure/614454406', 'http://api.brain-map.org/api/v2/data/Structure/763', 'http://api.brain-map.org/api/v2/data/Structure/549009215', 'http://api.brain-map.org/api/v2/data/Structure/780', 'http://api.brain-map.org/api/v2/data/Structure/614454393', 'http://api.brain-map.org/api/v2/data/Structure/614454426', 'http://api.brain-map.org/api/v2/data/Structure/852', 'http://api.brain-map.org/api/v2/data/Structure/614454399', 'http://api.brain-map.org/api/v2/data/Structure/859', 'http://api.brain-map.org/api/v2/data/Structure/874', 'http://api.brain-map.org/api/v2/data/Structure/614454430', 'http://api.brain-map.org/api/v2/data/Structure/549009223', 'http://api.brain-map.org/api/v2/data/Structure/898', 'http://api.brain-map.org/api/v2/data/Structure/907', 'http://api.brain-map.org/api/v2/data/Structure/914', 'http://api.brain-map.org/api/v2/data/Structure/599626927', 'http://api.brain-map.org/api/v2/data/Structure/540', 'http://api.brain-map.org/api/v2/data/Structure/614454380', 'http://api.brain-map.org/api/v2/data/Structure/614454381', 'http://api.brain-map.org/api/v2/data/Structure/692', 'http://api.brain-map.org/api/v2/data/Structure/335', 'http://api.brain-map.org/api/v2/data/Structure/368', 'http://api.brain-map.org/api/v2/data/Structure/930', 'http://api.brain-map.org/api/v2/data/Structure/614454451', 'http://api.brain-map.org/api/v2/data/Structure/931', 'http://api.brain-map.org/api/v2/data/Structure/970', 'http://api.brain-map.org/api/v2/data/Structure/978', 'http://api.brain-map.org/api/v2/data/Structure/946', 'http://api.brain-map.org/api/v2/data/Structure/560581563', 'http://api.brain-map.org/api/v2/data/Structure/614454389', 'http://api.brain-map.org/api/v2/data/Structure/171', 'http://api.brain-map.org/api/v2/data/Structure/195', 'http://api.brain-map.org/api/v2/data/Structure/614454346', 'http://api.brain-map.org/api/v2/data/Structure/363', 'http://api.brain-map.org/api/v2/data/Structure/84', 'http://api.brain-map.org/api/v2/data/Structure/132', 'http://api.brain-map.org/api/v2/data/Structure/980', 'http://api.brain-map.org/api/v2/data/Structure/1004', 'http://api.brain-map.org/api/v2/data/Structure/607344830', 'http://api.brain-map.org/api/v2/data/Structure/1020', 'http://api.brain-map.org/api/v2/data/Structure/1029', 'http://api.brain-map.org/api/v2/data/Structure/122', 'http://api.brain-map.org/api/v2/data/Structure/614454400', 'http://api.brain-map.org/api/v2/data/Structure/1044', 'http://api.brain-map.org/api/v2/data/Structure/1052', 'http://api.brain-map.org/api/v2/data/Structure/1061', 'http://api.brain-map.org/api/v2/data/Structure/614454435', 'http://api.brain-map.org/api/v2/data/Structure/1077', 'http://api.brain-map.org/api/v2/data/Structure/50', 'http://api.brain-map.org/api/v2/data/Structure/614454401', 'http://api.brain-map.org/api/v2/data/Structure/614454449', 'http://api.brain-map.org/api/v2/data/Structure/1093', 'http://api.brain-map.org/api/v2/data/Structure/146', 'http://api.brain-map.org/api/v2/data/Structure/169', 'http://api.brain-map.org/api/v2/data/Structure/1109', 'http://api.brain-map.org/api/v2/data/Structure/356', 'http://api.brain-map.org/api/v2/data/Structure/364', 'http://api.brain-map.org/api/v2/data/Structure/7', 'http://api.brain-map.org/api/v2/data/Structure/15', 'http://api.brain-map.org/api/v2/data/Structure/149', 'http://api.brain-map.org/api/v2/data/Structure/30', 'http://api.brain-map.org/api/v2/data/Structure/118', 'http://api.brain-map.org/api/v2/data/Structure/126', 'http://api.brain-map.org/api/v2/data/Structure/133', 'http://api.brain-map.org/api/v2/data/Structure/614454443', 'http://api.brain-map.org/api/v2/data/Structure/614454432', 'http://api.brain-map.org/api/v2/data/Structure/606826663', 'http://api.brain-map.org/api/v2/data/Structure/589508451', 'http://api.brain-map.org/api/v2/data/Structure/576073704', 'http://api.brain-map.org/api/v2/data/Structure/563807435', 'http://api.brain-map.org/api/v2/data/Structure/614454403', 'http://api.brain-map.org/api/v2/data/Structure/173', 'http://api.brain-map.org/api/v2/data/Structure/181', 'http://api.brain-map.org/api/v2/data/Structure/189', 'http://api.brain-map.org/api/v2/data/Structure/197', 'http://api.brain-map.org/api/v2/data/Structure/206', 'http://api.brain-map.org/api/v2/data/Structure/214', 'http://api.brain-map.org/api/v2/data/Structure/222', 'http://api.brain-map.org/api/v2/data/Structure/230', 'http://api.brain-map.org/api/v2/data/Structure/549009203', 'http://api.brain-map.org/api/v2/data/Structure/238', 'http://api.brain-map.org/api/v2/data/Structure/246', 'http://api.brain-map.org/api/v2/data/Structure/671', 'http://api.brain-map.org/api/v2/data/Structure/614454361', 'http://api.brain-map.org/api/v2/data/Structure/614454362', 'http://api.brain-map.org/api/v2/data/Structure/774', 'http://api.brain-map.org/api/v2/data/Structure/906', 'http://api.brain-map.org/api/v2/data/Structure/279', 'http://api.brain-map.org/api/v2/data/Structure/442', 'http://api.brain-map.org/api/v2/data/Structure/614454369', 'http://api.brain-map.org/api/v2/data/Structure/614454370', 'http://api.brain-map.org/api/v2/data/Structure/610', 'http://api.brain-map.org/api/v2/data/Structure/274', 'http://api.brain-map.org/api/v2/data/Structure/330', 'http://api.brain-map.org/api/v2/data/Structure/542', 'http://api.brain-map.org/api/v2/data/Structure/606', 'http://api.brain-map.org/api/v2/data/Structure/614454371', 'http://api.brain-map.org/api/v2/data/Structure/687', 'http://api.brain-map.org/api/v2/data/Structure/590', 'http://api.brain-map.org/api/v2/data/Structure/622', 'http://api.brain-map.org/api/v2/data/Structure/262', 'http://api.brain-map.org/api/v2/data/Structure/271', 'http://api.brain-map.org/api/v2/data/Structure/347', 'http://api.brain-map.org/api/v2/data/Structure/286', 'http://api.brain-map.org/api/v2/data/Structure/599626923', 'http://api.brain-map.org/api/v2/data/Structure/26', 'http://api.brain-map.org/api/v2/data/Structure/42', 'http://api.brain-map.org/api/v2/data/Structure/614454425', 'http://api.brain-map.org/api/v2/data/Structure/17', 'http://api.brain-map.org/api/v2/data/Structure/851', 'http://api.brain-map.org/api/v2/data/Structure/842', 'http://api.brain-map.org/api/v2/data/Structure/834', 'http://api.brain-map.org/api/v2/data/Structure/98', 'http://api.brain-map.org/api/v2/data/Structure/310', 'http://api.brain-map.org/api/v2/data/Structure/338', 'http://api.brain-map.org/api/v2/data/Structure/318', 'http://api.brain-map.org/api/v2/data/Structure/325', 'http://api.brain-map.org/api/v2/data/Structure/333', 'http://api.brain-map.org/api/v2/data/Structure/342', 'http://api.brain-map.org/api/v2/data/Structure/614454446', 'http://api.brain-map.org/api/v2/data/Structure/350', 'http://api.brain-map.org/api/v2/data/Structure/358', 'http://api.brain-map.org/api/v2/data/Structure/366', 'http://api.brain-map.org/api/v2/data/Structure/374', 'http://api.brain-map.org/api/v2/data/Structure/381', 'http://api.brain-map.org/api/v2/data/Structure/390', 'http://api.brain-map.org/api/v2/data/Structure/114', 'http://api.brain-map.org/api/v2/data/Structure/105', 'http://api.brain-map.org/api/v2/data/Structure/609', 'http://api.brain-map.org/api/v2/data/Structure/414', 'http://api.brain-map.org/api/v2/data/Structure/422', 'http://api.brain-map.org/api/v2/data/Structure/225', 'http://api.brain-map.org/api/v2/data/Structure/429', 'http://api.brain-map.org/api/v2/data/Structure/437', 'http://api.brain-map.org/api/v2/data/Structure/614454434', 'http://api.brain-map.org/api/v2/data/Structure/614454472', 'http://api.brain-map.org/api/v2/data/Structure/614454475', 'http://api.brain-map.org/api/v2/data/Structure/614454476', 'http://api.brain-map.org/api/v2/data/Structure/614454477', 'http://api.brain-map.org/api/v2/data/Structure/614454479', 'http://api.brain-map.org/api/v2/data/Structure/614454481', 'http://api.brain-map.org/api/v2/data/Structure/614454484', 'http://api.brain-map.org/api/v2/data/Structure/614454485', 'http://api.brain-map.org/api/v2/data/Structure/614454486', 'http://api.brain-map.org/api/v2/data/Structure/614454488', 'http://api.brain-map.org/api/v2/data/Structure/614454490', 'http://api.brain-map.org/api/v2/data/Structure/614454492', 'http://api.brain-map.org/api/v2/data/Structure/614454493', 'http://api.brain-map.org/api/v2/data/Structure/614454495', 'http://api.brain-map.org/api/v2/data/Structure/614454497', 'http://api.brain-map.org/api/v2/data/Structure/614454499', 'http://api.brain-map.org/api/v2/data/Structure/614454501', 'http://api.brain-map.org/api/v2/data/Structure/614454502', 'http://api.brain-map.org/api/v2/data/Structure/614454503', 'http://api.brain-map.org/api/v2/data/Structure/614454504', 'http://api.brain-map.org/api/v2/data/Structure/614454506', 'http://api.brain-map.org/api/v2/data/Structure/614454508', 'http://api.brain-map.org/api/v2/data/Structure/614454510', 'http://api.brain-map.org/api/v2/data/Structure/614454511', 'http://api.brain-map.org/api/v2/data/Structure/614454512', 'http://api.brain-map.org/api/v2/data/Structure/614454513', 'http://api.brain-map.org/api/v2/data/Structure/614454515', 'http://api.brain-map.org/api/v2/data/Structure/614454517', 'http://api.brain-map.org/api/v2/data/Structure/614454520', 'http://api.brain-map.org/api/v2/data/Structure/614454521', 'http://api.brain-map.org/api/v2/data/Structure/614454522', 'http://api.brain-map.org/api/v2/data/Structure/614454524', 'http://api.brain-map.org/api/v2/data/Structure/614454526', 'http://api.brain-map.org/api/v2/data/Structure/614454529', 'http://api.brain-map.org/api/v2/data/Structure/614454531', 'http://api.brain-map.org/api/v2/data/Structure/614454533', 'http://api.brain-map.org/api/v2/data/Structure/614454535', 'http://api.brain-map.org/api/v2/data/Structure/614454537', 'http://api.brain-map.org/api/v2/data/Structure/614454538', 'http://api.brain-map.org/api/v2/data/Structure/614454540', 'http://api.brain-map.org/api/v2/data/Structure/614454542', 'http://api.brain-map.org/api/v2/data/Structure/614454544', 'http://api.brain-map.org/api/v2/data/Structure/614454546', 'http://api.brain-map.org/api/v2/data/Structure/614454547', 'http://api.brain-map.org/api/v2/data/Structure/614454549', 'http://api.brain-map.org/api/v2/data/Structure/614454551', 'http://api.brain-map.org/api/v2/data/Structure/614454553', 'http://api.brain-map.org/api/v2/data/Structure/614454555', 'http://api.brain-map.org/api/v2/data/Structure/614454556', 'http://api.brain-map.org/api/v2/data/Structure/614454557', 'http://api.brain-map.org/api/v2/data/Structure/614454558', 'http://api.brain-map.org/api/v2/data/Structure/614454560', 'http://api.brain-map.org/api/v2/data/Structure/614454562', 'http://api.brain-map.org/api/v2/data/Structure/614454564', 'http://api.brain-map.org/api/v2/data/Structure/614454565', 'http://api.brain-map.org/api/v2/data/Structure/614454566', 'http://api.brain-map.org/api/v2/data/Structure/614454567', 'http://api.brain-map.org/api/v2/data/Structure/614454569', 'http://api.brain-map.org/api/v2/data/Structure/614454571', 'http://api.brain-map.org/api/v2/data/Structure/614454575', 'http://api.brain-map.org/api/v2/data/Structure/614454576', 'http://api.brain-map.org/api/v2/data/Structure/614454578', 'http://api.brain-map.org/api/v2/data/Structure/614454580', 'http://api.brain-map.org/api/v2/data/Structure/614454582', 'http://api.brain-map.org/api/v2/data/Structure/614454583', 'http://api.brain-map.org/api/v2/data/Structure/614454585', 'http://api.brain-map.org/api/v2/data/Structure/614454587', 'http://api.brain-map.org/api/v2/data/Structure/614454589', 'http://api.brain-map.org/api/v2/data/Structure/614454591', 'http://api.brain-map.org/api/v2/data/Structure/614454592', 'http://api.brain-map.org/api/v2/data/Structure/614454593', 'http://api.brain-map.org/api/v2/data/Structure/614454594', 'http://api.brain-map.org/api/v2/data/Structure/614454596', 'http://api.brain-map.org/api/v2/data/Structure/614454598', 'http://api.brain-map.org/api/v2/data/Structure/614454600', 'http://api.brain-map.org/api/v2/data/Structure/614454601', 'http://api.brain-map.org/api/v2/data/Structure/614454603', 'http://api.brain-map.org/api/v2/data/Structure/614454605', 'http://api.brain-map.org/api/v2/data/Structure/614454607', 'http://api.brain-map.org/api/v2/data/Structure/614454609', 'http://api.brain-map.org/api/v2/data/Structure/614454610', 'http://api.brain-map.org/api/v2/data/Structure/614454611', 'http://api.brain-map.org/api/v2/data/Structure/614454612', 'http://api.brain-map.org/api/v2/data/Structure/614454614', 'http://api.brain-map.org/api/v2/data/Structure/614454616', 'http://api.brain-map.org/api/v2/data/Structure/614454618', 'http://api.brain-map.org/api/v2/data/Structure/614454619', 'http://api.brain-map.org/api/v2/data/Structure/614454621', 'http://api.brain-map.org/api/v2/data/Structure/614454623', 'http://api.brain-map.org/api/v2/data/Structure/614454625', 'http://api.brain-map.org/api/v2/data/Structure/614454628', 'http://api.brain-map.org/api/v2/data/Structure/614454629', 'http://api.brain-map.org/api/v2/data/Structure/614454630', 'http://api.brain-map.org/api/v2/data/Structure/614454632', 'http://api.brain-map.org/api/v2/data/Structure/614454634', 'http://api.brain-map.org/api/v2/data/Structure/614454636', 'http://api.brain-map.org/api/v2/data/Structure/614454637', 'http://api.brain-map.org/api/v2/data/Structure/614454638', 'http://api.brain-map.org/api/v2/data/Structure/614454639', 'http://api.brain-map.org/api/v2/data/Structure/614454640', 'http://api.brain-map.org/api/v2/data/Structure/614454641', 'http://api.brain-map.org/api/v2/data/Structure/614454643', 'http://api.brain-map.org/api/v2/data/Structure/614454646', 'http://api.brain-map.org/api/v2/data/Structure/614454648', 'http://api.brain-map.org/api/v2/data/Structure/614454650', 'http://api.brain-map.org/api/v2/data/Structure/614454652', 'http://api.brain-map.org/api/v2/data/Structure/614454654', 'http://api.brain-map.org/api/v2/data/Structure/614454655', 'http://api.brain-map.org/api/v2/data/Structure/614454657', 'http://api.brain-map.org/api/v2/data/Structure/614454659', 'http://api.brain-map.org/api/v2/data/Structure/614454661', 'http://api.brain-map.org/api/v2/data/Structure/614454663', 'http://api.brain-map.org/api/v2/data/Structure/614454664', 'http://api.brain-map.org/api/v2/data/Structure/614454665', 'http://api.brain-map.org/api/v2/data/Structure/614454666', 'http://api.brain-map.org/api/v2/data/Structure/614454668', 'http://api.brain-map.org/api/v2/data/Structure/614454670', 'http://api.brain-map.org/api/v2/data/Structure/614454672', 'http://api.brain-map.org/api/v2/data/Structure/614454673', 'http://api.brain-map.org/api/v2/data/Structure/614454675', 'http://api.brain-map.org/api/v2/data/Structure/614454677', 'http://api.brain-map.org/api/v2/data/Structure/614454679', 'http://api.brain-map.org/api/v2/data/Structure/614454681', 'http://api.brain-map.org/api/v2/data/Structure/614454682', 'http://api.brain-map.org/api/v2/data/Structure/614454684', 'http://api.brain-map.org/api/v2/data/Structure/614454686', 'http://api.brain-map.org/api/v2/data/Structure/614454688', 'http://api.brain-map.org/api/v2/data/Structure/614454690', 'http://api.brain-map.org/api/v2/data/Structure/614454691', 'http://api.brain-map.org/api/v2/data/Structure/614454693', 'http://api.brain-map.org/api/v2/data/Structure/614454695', 'http://api.brain-map.org/api/v2/data/Structure/614454697', 'http://api.brain-map.org/api/v2/data/Structure/614454699', 'http://api.brain-map.org/api/v2/data/Structure/614454700', 'http://api.brain-map.org/api/v2/data/Structure/614454702', 'http://api.brain-map.org/api/v2/data/Structure/614454704', 'http://api.brain-map.org/api/v2/data/Structure/614454706', 'http://api.brain-map.org/api/v2/data/Structure/614454708', 'http://api.brain-map.org/api/v2/data/Structure/614454709', 'http://api.brain-map.org/api/v2/data/Structure/614454710', 'http://api.brain-map.org/api/v2/data/Structure/614454711', 'http://api.brain-map.org/api/v2/data/Structure/614454713', 'http://api.brain-map.org/api/v2/data/Structure/614454715', 'http://api.brain-map.org/api/v2/data/Structure/614454717', 'http://api.brain-map.org/api/v2/data/Structure/614454718', 'http://api.brain-map.org/api/v2/data/Structure/614454719', 'http://api.brain-map.org/api/v2/data/Structure/614454720', 'http://api.brain-map.org/api/v2/data/Structure/614454721', 'http://api.brain-map.org/api/v2/data/Structure/614454722', 'http://api.brain-map.org/api/v2/data/Structure/614454724', 'http://api.brain-map.org/api/v2/data/Structure/614454726', 'http://api.brain-map.org/api/v2/data/Structure/614454727', 'http://api.brain-map.org/api/v2/data/Structure/614454728', 'http://api.brain-map.org/api/v2/data/Structure/614454729', 'http://api.brain-map.org/api/v2/data/Structure/614454730', 'http://api.brain-map.org/api/v2/data/Structure/614454731', 'http://api.brain-map.org/api/v2/data/Structure/614454733', 'http://api.brain-map.org/api/v2/data/Structure/614454735', 'http://api.brain-map.org/api/v2/data/Structure/614454736', 'http://api.brain-map.org/api/v2/data/Structure/614454737', 'http://api.brain-map.org/api/v2/data/Structure/614454738', 'http://api.brain-map.org/api/v2/data/Structure/614454739', 'http://api.brain-map.org/api/v2/data/Structure/614454740', 'http://api.brain-map.org/api/v2/data/Structure/614454742', 'http://api.brain-map.org/api/v2/data/Structure/614454744', 'http://api.brain-map.org/api/v2/data/Structure/614454745', 'http://api.brain-map.org/api/v2/data/Structure/614454746', 'http://api.brain-map.org/api/v2/data/Structure/614454747', 'http://api.brain-map.org/api/v2/data/Structure/614454748', 'http://api.brain-map.org/api/v2/data/Structure/614454749', 'http://api.brain-map.org/api/v2/data/Structure/614454751', 'http://api.brain-map.org/api/v2/data/Structure/614454753', 'http://api.brain-map.org/api/v2/data/Structure/614454754', 'http://api.brain-map.org/api/v2/data/Structure/614454755', 'http://api.brain-map.org/api/v2/data/Structure/614454756', 'http://api.brain-map.org/api/v2/data/Structure/614454757', 'http://api.brain-map.org/api/v2/data/Structure/614454758', 'http://api.brain-map.org/api/v2/data/Structure/614454760', 'http://api.brain-map.org/api/v2/data/Structure/614454762', 'http://api.brain-map.org/api/v2/data/Structure/614454763', 'http://api.brain-map.org/api/v2/data/Structure/614454764', 'http://api.brain-map.org/api/v2/data/Structure/614454765', 'http://api.brain-map.org/api/v2/data/Structure/614454766', 'http://api.brain-map.org/api/v2/data/Structure/614454767', 'http://api.brain-map.org/api/v2/data/Structure/981', 'http://api.brain-map.org/api/v2/data/Structure/614454292', 'http://api.brain-map.org/api/v2/data/Structure/614454293', 'http://api.brain-map.org/api/v2/data/Structure/1047', 'http://api.brain-map.org/api/v2/data/Structure/1070', 'http://api.brain-map.org/api/v2/data/Structure/1038', 'http://api.brain-map.org/api/v2/data/Structure/1062', 'http://api.brain-map.org/api/v2/data/Structure/1030', 'http://api.brain-map.org/api/v2/data/Structure/614454296', 'http://api.brain-map.org/api/v2/data/Structure/614454297', 'http://api.brain-map.org/api/v2/data/Structure/1094', 'http://api.brain-map.org/api/v2/data/Structure/1128', 'http://api.brain-map.org/api/v2/data/Structure/478', 'http://api.brain-map.org/api/v2/data/Structure/510', 'http://api.brain-map.org/api/v2/data/Structure/878', 'http://api.brain-map.org/api/v2/data/Structure/614454298', 'http://api.brain-map.org/api/v2/data/Structure/614454299', 'http://api.brain-map.org/api/v2/data/Structure/950', 'http://api.brain-map.org/api/v2/data/Structure/974', 'http://api.brain-map.org/api/v2/data/Structure/1102', 'http://api.brain-map.org/api/v2/data/Structure/2', 'http://api.brain-map.org/api/v2/data/Structure/558', 'http://api.brain-map.org/api/v2/data/Structure/614454290', 'http://api.brain-map.org/api/v2/data/Structure/614454291', 'http://api.brain-map.org/api/v2/data/Structure/654', 'http://api.brain-map.org/api/v2/data/Structure/702', 'http://api.brain-map.org/api/v2/data/Structure/889', 'http://api.brain-map.org/api/v2/data/Structure/929', 'http://api.brain-map.org/api/v2/data/Structure/1006', 'http://api.brain-map.org/api/v2/data/Structure/614454302', 'http://api.brain-map.org/api/v2/data/Structure/614454303', 'http://api.brain-map.org/api/v2/data/Structure/1086', 'http://api.brain-map.org/api/v2/data/Structure/1111', 'http://api.brain-map.org/api/v2/data/Structure/9', 'http://api.brain-map.org/api/v2/data/Structure/461', 'http://api.brain-map.org/api/v2/data/Structure/450', 'http://api.brain-map.org/api/v2/data/Structure/614454300', 'http://api.brain-map.org/api/v2/data/Structure/614454301', 'http://api.brain-map.org/api/v2/data/Structure/577', 'http://api.brain-map.org/api/v2/data/Structure/625', 'http://api.brain-map.org/api/v2/data/Structure/945', 'http://api.brain-map.org/api/v2/data/Structure/1026', 'http://api.brain-map.org/api/v2/data/Structure/182305693', 'http://api.brain-map.org/api/v2/data/Structure/614454304', 'http://api.brain-map.org/api/v2/data/Structure/614454305', 'http://api.brain-map.org/api/v2/data/Structure/182305701', 'http://api.brain-map.org/api/v2/data/Structure/182305705', 'http://api.brain-map.org/api/v2/data/Structure/182305709', 'http://api.brain-map.org/api/v2/data/Structure/182305713', 'http://api.brain-map.org/api/v2/data/Structure/873', 'http://api.brain-map.org/api/v2/data/Structure/614454306', 'http://api.brain-map.org/api/v2/data/Structure/614454307', 'http://api.brain-map.org/api/v2/data/Structure/1035', 'http://api.brain-map.org/api/v2/data/Structure/1090', 'http://api.brain-map.org/api/v2/data/Structure/862', 'http://api.brain-map.org/api/v2/data/Structure/893', 'http://api.brain-map.org/api/v2/data/Structure/470', 'http://api.brain-map.org/api/v2/data/Structure/614454408', 'http://api.brain-map.org/api/v2/data/Structure/614454402', 'http://api.brain-map.org/api/v2/data/Structure/534', 'http://api.brain-map.org/api/v2/data/Structure/217', 'http://api.brain-map.org/api/v2/data/Structure/614454277', 'http://api.brain-map.org/api/v2/data/Structure/321', 'http://api.brain-map.org/api/v2/data/Structure/97', 'http://api.brain-map.org/api/v2/data/Structure/614454378', 'http://api.brain-map.org/api/v2/data/Structure/614454379', 'http://api.brain-map.org/api/v2/data/Structure/234', 'http://api.brain-map.org/api/v2/data/Structure/289', 'http://api.brain-map.org/api/v2/data/Structure/729', 'http://api.brain-map.org/api/v2/data/Structure/786', 'http://api.brain-map.org/api/v2/data/Structure/1126', 'http://api.brain-map.org/api/v2/data/Structure/1', 'http://api.brain-map.org/api/v2/data/Structure/574', 'http://api.brain-map.org/api/v2/data/Structure/581', 'http://api.brain-map.org/api/v2/data/Structure/614454394', 'http://api.brain-map.org/api/v2/data/Structure/614454386', 'http://api.brain-map.org/api/v2/data/Structure/614454387', 'http://api.brain-map.org/api/v2/data/Structure/614', 'http://api.brain-map.org/api/v2/data/Structure/614454444', 'http://api.brain-map.org/api/v2/data/Structure/621', 'http://api.brain-map.org/api/v2/data/Structure/629', 'http://api.brain-map.org/api/v2/data/Structure/101', 'http://api.brain-map.org/api/v2/data/Structure/653', 'http://api.brain-map.org/api/v2/data/Structure/661', 'http://api.brain-map.org/api/v2/data/Structure/614454458', 'http://api.brain-map.org/api/v2/data/Structure/897', 'http://api.brain-map.org/api/v2/data/Structure/614454310', 'http://api.brain-map.org/api/v2/data/Structure/614454311', 'http://api.brain-map.org/api/v2/data/Structure/1010', 'http://api.brain-map.org/api/v2/data/Structure/1058', 'http://api.brain-map.org/api/v2/data/Structure/857', 'http://api.brain-map.org/api/v2/data/Structure/849', 'http://api.brain-map.org/api/v2/data/Structure/312782550', 'http://api.brain-map.org/api/v2/data/Structure/614454374', 'http://api.brain-map.org/api/v2/data/Structure/614454375', 'http://api.brain-map.org/api/v2/data/Structure/312782558', 'http://api.brain-map.org/api/v2/data/Structure/312782562', 'http://api.brain-map.org/api/v2/data/Structure/312782566', 'http://api.brain-map.org/api/v2/data/Structure/312782570', 'http://api.brain-map.org/api/v2/data/Structure/1074', 'http://api.brain-map.org/api/v2/data/Structure/614454324', 'http://api.brain-map.org/api/v2/data/Structure/614454325', 'http://api.brain-map.org/api/v2/data/Structure/1114', 'http://api.brain-map.org/api/v2/data/Structure/233', 'http://api.brain-map.org/api/v2/data/Structure/601', 'http://api.brain-map.org/api/v2/data/Structure/649', 'http://api.brain-map.org/api/v2/data/Structure/281', 'http://api.brain-map.org/api/v2/data/Structure/614454326', 'http://api.brain-map.org/api/v2/data/Structure/614454327', 'http://api.brain-map.org/api/v2/data/Structure/401', 'http://api.brain-map.org/api/v2/data/Structure/433', 'http://api.brain-map.org/api/v2/data/Structure/1046', 'http://api.brain-map.org/api/v2/data/Structure/441', 'http://api.brain-map.org/api/v2/data/Structure/421', 'http://api.brain-map.org/api/v2/data/Structure/614454328', 'http://api.brain-map.org/api/v2/data/Structure/614454329', 'http://api.brain-map.org/api/v2/data/Structure/573', 'http://api.brain-map.org/api/v2/data/Structure/613', 'http://api.brain-map.org/api/v2/data/Structure/74', 'http://api.brain-map.org/api/v2/data/Structure/121', 'http://api.brain-map.org/api/v2/data/Structure/312782578', 'http://api.brain-map.org/api/v2/data/Structure/614454336', 'http://api.brain-map.org/api/v2/data/Structure/614454337', 'http://api.brain-map.org/api/v2/data/Structure/312782586', 'http://api.brain-map.org/api/v2/data/Structure/312782590', 'http://api.brain-map.org/api/v2/data/Structure/312782594', 'http://api.brain-map.org/api/v2/data/Structure/312782598', 'http://api.brain-map.org/api/v2/data/Structure/593', 'http://api.brain-map.org/api/v2/data/Structure/614454330', 'http://api.brain-map.org/api/v2/data/Structure/614454331', 'http://api.brain-map.org/api/v2/data/Structure/721', 'http://api.brain-map.org/api/v2/data/Structure/778', 'http://api.brain-map.org/api/v2/data/Structure/33', 'http://api.brain-map.org/api/v2/data/Structure/305', 'http://api.brain-map.org/api/v2/data/Structure/750', 'http://api.brain-map.org/api/v2/data/Structure/614454332', 'http://api.brain-map.org/api/v2/data/Structure/614454333', 'http://api.brain-map.org/api/v2/data/Structure/869', 'http://api.brain-map.org/api/v2/data/Structure/902', 'http://api.brain-map.org/api/v2/data/Structure/377', 'http://api.brain-map.org/api/v2/data/Structure/393', 'http://api.brain-map.org/api/v2/data/Structure/805', 'http://api.brain-map.org/api/v2/data/Structure/614454334', 'http://api.brain-map.org/api/v2/data/Structure/614454335', 'http://api.brain-map.org/api/v2/data/Structure/501', 'http://api.brain-map.org/api/v2/data/Structure/565', 'http://api.brain-map.org/api/v2/data/Structure/257', 'http://api.brain-map.org/api/v2/data/Structure/469', 'http://api.brain-map.org/api/v2/data/Structure/312782632', 'http://api.brain-map.org/api/v2/data/Structure/614454338', 'http://api.brain-map.org/api/v2/data/Structure/614454339', 'http://api.brain-map.org/api/v2/data/Structure/312782640', 'http://api.brain-map.org/api/v2/data/Structure/312782644', 'http://api.brain-map.org/api/v2/data/Structure/312782648', 'http://api.brain-map.org/api/v2/data/Structure/312782652', 'http://api.brain-map.org/api/v2/data/Structure/312782604', 'http://api.brain-map.org/api/v2/data/Structure/614454376', 'http://api.brain-map.org/api/v2/data/Structure/614454377', 'http://api.brain-map.org/api/v2/data/Structure/312782612', 'http://api.brain-map.org/api/v2/data/Structure/312782616', 'http://api.brain-map.org/api/v2/data/Structure/312782620', 'http://api.brain-map.org/api/v2/data/Structure/312782624', 'http://api.brain-map.org/api/v2/data/Structure/689', 'http://api.brain-map.org/api/v2/data/Structure/614454468', 'http://api.brain-map.org/api/v2/data/Structure/685', 'http://api.brain-map.org/api/v2/data/Structure/576073699', 'http://api.brain-map.org/api/v2/data/Structure/718', 'http://api.brain-map.org/api/v2/data/Structure/725', 'http://api.brain-map.org/api/v2/data/Structure/733', 'http://api.brain-map.org/api/v2/data/Structure/741', 'http://api.brain-map.org/api/v2/data/Structure/749', 'http://api.brain-map.org/api/v2/data/Structure/757', 'http://api.brain-map.org/api/v2/data/Structure/589508455', 'http://api.brain-map.org/api/v2/data/Structure/773', 'http://api.brain-map.org/api/v2/data/Structure/560581559', 'http://api.brain-map.org/api/v2/data/Structure/484682524', 'http://api.brain-map.org/api/v2/data/Structure/164', 'http://api.brain-map.org/api/v2/data/Structure/484682516', 'http://api.brain-map.org/api/v2/data/Structure/108', 'http://api.brain-map.org/api/v2/data/Structure/614454463', 'http://api.brain-map.org/api/v2/data/Structure/506', 'http://api.brain-map.org/api/v2/data/Structure/614454459', 'http://api.brain-map.org/api/v2/data/Structure/964', 'http://api.brain-map.org/api/v2/data/Structure/614454462', 'http://api.brain-map.org/api/v2/data/Structure/614454467', 'http://api.brain-map.org/api/v2/data/Structure/614454461', 'http://api.brain-map.org/api/v2/data/Structure/428', 'http://api.brain-map.org/api/v2/data/Structure/54', 'http://api.brain-map.org/api/v2/data/Structure/102', 'http://api.brain-map.org/api/v2/data/Structure/484682520', 'http://api.brain-map.org/api/v2/data/Structure/198', 'http://api.brain-map.org/api/v2/data/Structure/614454470', 'http://api.brain-map.org/api/v2/data/Structure/614454464', 'http://api.brain-map.org/api/v2/data/Structure/614454457', 'http://api.brain-map.org/api/v2/data/Structure/553', 'http://api.brain-map.org/api/v2/data/Structure/484682512', 'http://api.brain-map.org/api/v2/data/Structure/614454465', 'http://api.brain-map.org/api/v2/data/Structure/484682528', 'http://api.brain-map.org/api/v2/data/Structure/614454466', 'http://api.brain-map.org/api/v2/data/Structure/1043', 'http://api.brain-map.org/api/v2/data/Structure/1051', 'http://api.brain-map.org/api/v2/data/Structure/850', 'http://api.brain-map.org/api/v2/data/Structure/765', 'http://api.brain-map.org/api/v2/data/Structure/781'])\n"
     ]
    }
   ],
   "source": [
    "with open(f\"./{cell_composition_summary.distribution.name}\", \"r\") as f:\n",
    "    cell_composition_summary_json = json.load(f)\n",
    "brain_regions = cell_composition_summary_json['hasPart']\n",
    "print(f\"The CellCompositionSummary contains {len(brain_regions)} M types:\\n{brain_regions.keys()}\")"
   ],
   "metadata": {
    "collapsed": false,
    "ExecuteTime": {
     "end_time": "2024-06-23T21:07:13.064097Z",
     "start_time": "2024-06-23T21:07:12.382162Z"
    }
   }
  },
  {
   "cell_type": "code",
   "execution_count": 47,
   "outputs": [
    {
     "name": "stdout",
     "output_type": "stream",
     "text": [
      "The brain region 'Anterior amygdalar area' has 2 M-type densities\n",
      "Theis composition in E-types is:\n",
      "{'https://bbp.epfl.ch/ontologies/core/bmo/GenericExcitatoryNeuronMType': {'label': 'GEN_mtype', 'about': 'MType', 'hasPart': {'https://bbp.epfl.ch/ontologies/core/bmo/GenericExcitatoryNeuronEType': {'label': 'GEN_etype', 'about': 'EType', 'composition': {'neuron': {'density': 11167.27060111258, 'count': 5523}}}}}, 'https://bbp.epfl.ch/ontologies/core/bmo/GenericInhibitoryNeuronMType': {'label': 'GIN_mtype', 'about': 'MType', 'hasPart': {'https://bbp.epfl.ch/ontologies/core/bmo/GenericInhibitoryNeuronEType': {'label': 'GIN_etype', 'about': 'EType', 'composition': {'neuron': {'density': 22588.589061799536, 'count': 11171}}}}}}\n"
     ]
    }
   ],
   "source": [
    "first_brain_region = list(brain_regions.keys())[0]\n",
    "m_types = brain_regions[first_brain_region]['hasPart']\n",
    "print(f\"The brain region '{brain_regions[first_brain_region]['label']}' has {len(m_types)} M-type densities.\")\n",
    "print(f\"Their composition in E-types is:\\n{m_types}\")"
   ],
   "metadata": {
    "collapsed": false,
    "ExecuteTime": {
     "end_time": "2024-06-23T21:12:41.188856Z",
     "start_time": "2024-06-23T21:12:40.256637Z"
    }
   }
  },
  {
   "cell_type": "markdown",
   "source": [
    "## Get the released M-E type densities\n",
    "Each M-E type is registered in Nexus with its corresponding metadata. The list of the M-E type densities annotated in the parcellation volume is provided in the `CellCompositionVolume` property of the CellComposition:"
   ],
   "metadata": {
    "collapsed": false
   }
  },
  {
   "cell_type": "code",
   "execution_count": 35,
   "metadata": {},
   "outputs": [],
   "source": [
    "cell_composition_volume = forge.retrieve(id=cell_composition.cellCompositionVolume.id, version=resources_tag,cross_bucket=True)\n",
    "forge.download(cell_composition_volume, path=\".\", follow=\"distribution.contentUrl\", cross_bucket=True, overwrite=True)"
   ],
   "metadata": {
    "collapsed": false,
    "ExecuteTime": {
     "end_time": "2024-06-23T20:21:12.477973Z",
     "start_time": "2024-06-23T20:21:11.582251Z"
    }
   }
  },
  {
   "cell_type": "code",
   "execution_count": 36,
   "metadata": {},
   "outputs": [],
   "source": [
    "with open(f\"./{cell_composition_volume.distribution.name}\", \"r\") as f:\n",
    "    metype_density_release_json = json.load(f)"
   ]
  },
  {
   "cell_type": "code",
   "execution_count": 37,
   "metadata": {},
   "outputs": [],
   "source": [
    "# Install dependencies\n",
    "!pip install jsonpath_ng"
   ],
   "metadata": {
    "collapsed": false,
    "ExecuteTime": {
     "end_time": "2024-06-23T20:21:14.548174Z",
     "start_time": "2024-06-23T20:21:12.510884Z"
    }
   }
  },
  {
   "cell_type": "code",
   "execution_count": 38,
   "metadata": {},
   "outputs": [
    {
     "data": {
      "text/plain": [
       "245"
      ]
     },
     "execution_count": 38,
     "metadata": {},
     "output_type": "execute_result"
    }
   ],
   "source": [
    "from jsonpath_ng import parse\n",
    "\n",
    "jsonpath_expr = parse('hasPart[*].hasPart[*].hasPart[*].@id')\n",
    "metype_density_release_volume_ids = [(match.value, match.context.value[\"_rev\"]) for match in jsonpath_expr.find(metype_density_release_json)] # yields [(metype volume id, revision)]\n",
    "metype_density_release_volumes = [forge.retrieve(id=volume_id[0], version=volume_id[1], cross_bucket=True) for volume_id in metype_density_release_volume_ids] # metype density volumes\n",
    "\n",
    "len(metype_density_release_volumes)"
   ]
  },
  {
   "cell_type": "code",
   "execution_count": 39,
   "metadata": {},
   "outputs": [
    {
     "data": {
      "text/html": [
       "<div>\n",
       "<style scoped>\n",
       "    .dataframe tbody tr th:only-of-type {\n",
       "        vertical-align: middle;\n",
       "    }\n",
       "\n",
       "    .dataframe tbody tr th {\n",
       "        vertical-align: top;\n",
       "    }\n",
       "\n",
       "    .dataframe thead th {\n",
       "        text-align: right;\n",
       "    }\n",
       "</style>\n",
       "<table border=\"1\" class=\"dataframe\">\n",
       "  <thead>\n",
       "    <tr style=\"text-align: right;\">\n",
       "      <th></th>\n",
       "      <th>type</th>\n",
       "      <th>mtype</th>\n",
       "      <th>etype</th>\n",
       "      <th>id</th>\n",
       "      <th>annotation</th>\n",
       "      <th>brainLocation.brainRegion.id</th>\n",
       "      <th>brainLocation.brainRegion.label</th>\n",
       "      <th>distribution.atLocation.location</th>\n",
       "    </tr>\n",
       "  </thead>\n",
       "  <tbody>\n",
       "    <tr>\n",
       "      <th>0</th>\n",
       "      <td>[NeuronDensity, VolumetricDataLayer, CellDensi...</td>\n",
       "      <td>(L23_BP, http://uri.interlex.org/base/ilx_0383...</td>\n",
       "      <td>(dSTUT, http://uri.interlex.org/base/ilx_0738202)</td>\n",
       "      <td>https://bbp.epfl.ch/neurosciencegraph/data/88e...</td>\n",
       "      <td>[{'hasBody': {'id': 'http://uri.interlex.org/b...</td>\n",
       "      <td>http://api.brain-map.org/api/v2/data/Structure...</td>\n",
       "      <td>root</td>\n",
       "      <td>file:///gpfs/bbp.cscs.ch/data/project/proj39/n...</td>\n",
       "    </tr>\n",
       "    <tr>\n",
       "      <th>1</th>\n",
       "      <td>[NeuronDensity, VolumetricDataLayer, CellDensi...</td>\n",
       "      <td>(L23_BP, http://uri.interlex.org/base/ilx_0383...</td>\n",
       "      <td>(cNAC, http://uri.interlex.org/base/ilx_0738201)</td>\n",
       "      <td>https://bbp.epfl.ch/neurosciencegraph/data/9ab...</td>\n",
       "      <td>[{'hasBody': {'id': 'http://uri.interlex.org/b...</td>\n",
       "      <td>http://api.brain-map.org/api/v2/data/Structure...</td>\n",
       "      <td>root</td>\n",
       "      <td>file:///gpfs/bbp.cscs.ch/data/project/proj39/n...</td>\n",
       "    </tr>\n",
       "    <tr>\n",
       "      <th>2</th>\n",
       "      <td>[NeuronDensity, VolumetricDataLayer, CellDensi...</td>\n",
       "      <td>(L23_BP, http://uri.interlex.org/base/ilx_0383...</td>\n",
       "      <td>(bAC, http://uri.interlex.org/base/ilx_0738199)</td>\n",
       "      <td>https://bbp.epfl.ch/neurosciencegraph/data/2df...</td>\n",
       "      <td>[{'hasBody': {'id': 'http://uri.interlex.org/b...</td>\n",
       "      <td>http://api.brain-map.org/api/v2/data/Structure...</td>\n",
       "      <td>root</td>\n",
       "      <td>file:///gpfs/bbp.cscs.ch/data/project/proj39/n...</td>\n",
       "    </tr>\n",
       "    <tr>\n",
       "      <th>3</th>\n",
       "      <td>[NeuronDensity, VolumetricDataLayer, CellDensi...</td>\n",
       "      <td>(L23_BP, http://uri.interlex.org/base/ilx_0383...</td>\n",
       "      <td>(bIR, http://uri.interlex.org/base/ilx_0738206)</td>\n",
       "      <td>https://bbp.epfl.ch/neurosciencegraph/data/6e2...</td>\n",
       "      <td>[{'hasBody': {'id': 'http://uri.interlex.org/b...</td>\n",
       "      <td>http://api.brain-map.org/api/v2/data/Structure...</td>\n",
       "      <td>root</td>\n",
       "      <td>file:///gpfs/bbp.cscs.ch/data/project/proj39/n...</td>\n",
       "    </tr>\n",
       "    <tr>\n",
       "      <th>4</th>\n",
       "      <td>[NeuronDensity, VolumetricDataLayer, CellDensi...</td>\n",
       "      <td>(L23_BP, http://uri.interlex.org/base/ilx_0383...</td>\n",
       "      <td>(bNAC, http://uri.interlex.org/base/ilx_0738203)</td>\n",
       "      <td>https://bbp.epfl.ch/neurosciencegraph/data/a40...</td>\n",
       "      <td>[{'hasBody': {'id': 'http://uri.interlex.org/b...</td>\n",
       "      <td>http://api.brain-map.org/api/v2/data/Structure...</td>\n",
       "      <td>root</td>\n",
       "      <td>file:///gpfs/bbp.cscs.ch/data/project/proj39/n...</td>\n",
       "    </tr>\n",
       "    <tr>\n",
       "      <th>...</th>\n",
       "      <td>...</td>\n",
       "      <td>...</td>\n",
       "      <td>...</td>\n",
       "      <td>...</td>\n",
       "      <td>...</td>\n",
       "      <td>...</td>\n",
       "      <td>...</td>\n",
       "      <td>...</td>\n",
       "    </tr>\n",
       "    <tr>\n",
       "      <th>95</th>\n",
       "      <td>[NeuronDensity, VolumetricDataLayer, CellDensi...</td>\n",
       "      <td>(L4_LBC, http://uri.interlex.org/base/ilx_0383...</td>\n",
       "      <td>(bAC, http://uri.interlex.org/base/ilx_0738199)</td>\n",
       "      <td>https://bbp.epfl.ch/neurosciencegraph/data/104...</td>\n",
       "      <td>[{'hasBody': {'id': 'http://uri.interlex.org/b...</td>\n",
       "      <td>http://api.brain-map.org/api/v2/data/Structure...</td>\n",
       "      <td>root</td>\n",
       "      <td>file:///gpfs/bbp.cscs.ch/data/project/proj39/n...</td>\n",
       "    </tr>\n",
       "    <tr>\n",
       "      <th>96</th>\n",
       "      <td>[NeuronDensity, VolumetricDataLayer, CellDensi...</td>\n",
       "      <td>(L4_LBC, http://uri.interlex.org/base/ilx_0383...</td>\n",
       "      <td>(cNAC, http://uri.interlex.org/base/ilx_0738201)</td>\n",
       "      <td>https://bbp.epfl.ch/neurosciencegraph/data/699...</td>\n",
       "      <td>[{'hasBody': {'id': 'http://uri.interlex.org/b...</td>\n",
       "      <td>http://api.brain-map.org/api/v2/data/Structure...</td>\n",
       "      <td>root</td>\n",
       "      <td>file:///gpfs/bbp.cscs.ch/data/project/proj39/n...</td>\n",
       "    </tr>\n",
       "    <tr>\n",
       "      <th>97</th>\n",
       "      <td>[NeuronDensity, VolumetricDataLayer, CellDensi...</td>\n",
       "      <td>(L4_LBC, http://uri.interlex.org/base/ilx_0383...</td>\n",
       "      <td>(cAC, http://uri.interlex.org/base/ilx_0738197)</td>\n",
       "      <td>https://bbp.epfl.ch/neurosciencegraph/data/045...</td>\n",
       "      <td>[{'hasBody': {'id': 'http://uri.interlex.org/b...</td>\n",
       "      <td>http://api.brain-map.org/api/v2/data/Structure...</td>\n",
       "      <td>root</td>\n",
       "      <td>file:///gpfs/bbp.cscs.ch/data/project/proj39/n...</td>\n",
       "    </tr>\n",
       "    <tr>\n",
       "      <th>98</th>\n",
       "      <td>[NeuronDensity, VolumetricDataLayer, CellDensi...</td>\n",
       "      <td>(L4_LBC, http://uri.interlex.org/base/ilx_0383...</td>\n",
       "      <td>(bSTUT, http://uri.interlex.org/base/ilx_0738200)</td>\n",
       "      <td>https://bbp.epfl.ch/neurosciencegraph/data/0cb...</td>\n",
       "      <td>[{'hasBody': {'id': 'http://uri.interlex.org/b...</td>\n",
       "      <td>http://api.brain-map.org/api/v2/data/Structure...</td>\n",
       "      <td>root</td>\n",
       "      <td>file:///gpfs/bbp.cscs.ch/data/project/proj39/n...</td>\n",
       "    </tr>\n",
       "    <tr>\n",
       "      <th>99</th>\n",
       "      <td>[NeuronDensity, VolumetricDataLayer, CellDensi...</td>\n",
       "      <td>(L6_MC, http://uri.interlex.org/base/ilx_0381374)</td>\n",
       "      <td>(bNAC, http://uri.interlex.org/base/ilx_0738203)</td>\n",
       "      <td>https://bbp.epfl.ch/neurosciencegraph/data/46c...</td>\n",
       "      <td>[{'hasBody': {'id': 'http://uri.interlex.org/b...</td>\n",
       "      <td>http://api.brain-map.org/api/v2/data/Structure...</td>\n",
       "      <td>root</td>\n",
       "      <td>file:///gpfs/bbp.cscs.ch/data/project/proj39/n...</td>\n",
       "    </tr>\n",
       "  </tbody>\n",
       "</table>\n",
       "<p>100 rows × 8 columns</p>\n",
       "</div>"
      ],
      "text/plain": [
       "                                                 type  \\\n",
       "0   [NeuronDensity, VolumetricDataLayer, CellDensi...   \n",
       "1   [NeuronDensity, VolumetricDataLayer, CellDensi...   \n",
       "2   [NeuronDensity, VolumetricDataLayer, CellDensi...   \n",
       "3   [NeuronDensity, VolumetricDataLayer, CellDensi...   \n",
       "4   [NeuronDensity, VolumetricDataLayer, CellDensi...   \n",
       "..                                                ...   \n",
       "95  [NeuronDensity, VolumetricDataLayer, CellDensi...   \n",
       "96  [NeuronDensity, VolumetricDataLayer, CellDensi...   \n",
       "97  [NeuronDensity, VolumetricDataLayer, CellDensi...   \n",
       "98  [NeuronDensity, VolumetricDataLayer, CellDensi...   \n",
       "99  [NeuronDensity, VolumetricDataLayer, CellDensi...   \n",
       "\n",
       "                                                mtype  \\\n",
       "0   (L23_BP, http://uri.interlex.org/base/ilx_0383...   \n",
       "1   (L23_BP, http://uri.interlex.org/base/ilx_0383...   \n",
       "2   (L23_BP, http://uri.interlex.org/base/ilx_0383...   \n",
       "3   (L23_BP, http://uri.interlex.org/base/ilx_0383...   \n",
       "4   (L23_BP, http://uri.interlex.org/base/ilx_0383...   \n",
       "..                                                ...   \n",
       "95  (L4_LBC, http://uri.interlex.org/base/ilx_0383...   \n",
       "96  (L4_LBC, http://uri.interlex.org/base/ilx_0383...   \n",
       "97  (L4_LBC, http://uri.interlex.org/base/ilx_0383...   \n",
       "98  (L4_LBC, http://uri.interlex.org/base/ilx_0383...   \n",
       "99  (L6_MC, http://uri.interlex.org/base/ilx_0381374)   \n",
       "\n",
       "                                                etype  \\\n",
       "0   (dSTUT, http://uri.interlex.org/base/ilx_0738202)   \n",
       "1    (cNAC, http://uri.interlex.org/base/ilx_0738201)   \n",
       "2     (bAC, http://uri.interlex.org/base/ilx_0738199)   \n",
       "3     (bIR, http://uri.interlex.org/base/ilx_0738206)   \n",
       "4    (bNAC, http://uri.interlex.org/base/ilx_0738203)   \n",
       "..                                                ...   \n",
       "95    (bAC, http://uri.interlex.org/base/ilx_0738199)   \n",
       "96   (cNAC, http://uri.interlex.org/base/ilx_0738201)   \n",
       "97    (cAC, http://uri.interlex.org/base/ilx_0738197)   \n",
       "98  (bSTUT, http://uri.interlex.org/base/ilx_0738200)   \n",
       "99   (bNAC, http://uri.interlex.org/base/ilx_0738203)   \n",
       "\n",
       "                                                   id  \\\n",
       "0   https://bbp.epfl.ch/neurosciencegraph/data/88e...   \n",
       "1   https://bbp.epfl.ch/neurosciencegraph/data/9ab...   \n",
       "2   https://bbp.epfl.ch/neurosciencegraph/data/2df...   \n",
       "3   https://bbp.epfl.ch/neurosciencegraph/data/6e2...   \n",
       "4   https://bbp.epfl.ch/neurosciencegraph/data/a40...   \n",
       "..                                                ...   \n",
       "95  https://bbp.epfl.ch/neurosciencegraph/data/104...   \n",
       "96  https://bbp.epfl.ch/neurosciencegraph/data/699...   \n",
       "97  https://bbp.epfl.ch/neurosciencegraph/data/045...   \n",
       "98  https://bbp.epfl.ch/neurosciencegraph/data/0cb...   \n",
       "99  https://bbp.epfl.ch/neurosciencegraph/data/46c...   \n",
       "\n",
       "                                           annotation  \\\n",
       "0   [{'hasBody': {'id': 'http://uri.interlex.org/b...   \n",
       "1   [{'hasBody': {'id': 'http://uri.interlex.org/b...   \n",
       "2   [{'hasBody': {'id': 'http://uri.interlex.org/b...   \n",
       "3   [{'hasBody': {'id': 'http://uri.interlex.org/b...   \n",
       "4   [{'hasBody': {'id': 'http://uri.interlex.org/b...   \n",
       "..                                                ...   \n",
       "95  [{'hasBody': {'id': 'http://uri.interlex.org/b...   \n",
       "96  [{'hasBody': {'id': 'http://uri.interlex.org/b...   \n",
       "97  [{'hasBody': {'id': 'http://uri.interlex.org/b...   \n",
       "98  [{'hasBody': {'id': 'http://uri.interlex.org/b...   \n",
       "99  [{'hasBody': {'id': 'http://uri.interlex.org/b...   \n",
       "\n",
       "                         brainLocation.brainRegion.id  \\\n",
       "0   http://api.brain-map.org/api/v2/data/Structure...   \n",
       "1   http://api.brain-map.org/api/v2/data/Structure...   \n",
       "2   http://api.brain-map.org/api/v2/data/Structure...   \n",
       "3   http://api.brain-map.org/api/v2/data/Structure...   \n",
       "4   http://api.brain-map.org/api/v2/data/Structure...   \n",
       "..                                                ...   \n",
       "95  http://api.brain-map.org/api/v2/data/Structure...   \n",
       "96  http://api.brain-map.org/api/v2/data/Structure...   \n",
       "97  http://api.brain-map.org/api/v2/data/Structure...   \n",
       "98  http://api.brain-map.org/api/v2/data/Structure...   \n",
       "99  http://api.brain-map.org/api/v2/data/Structure...   \n",
       "\n",
       "   brainLocation.brainRegion.label  \\\n",
       "0                             root   \n",
       "1                             root   \n",
       "2                             root   \n",
       "3                             root   \n",
       "4                             root   \n",
       "..                             ...   \n",
       "95                            root   \n",
       "96                            root   \n",
       "97                            root   \n",
       "98                            root   \n",
       "99                            root   \n",
       "\n",
       "                     distribution.atLocation.location  \n",
       "0   file:///gpfs/bbp.cscs.ch/data/project/proj39/n...  \n",
       "1   file:///gpfs/bbp.cscs.ch/data/project/proj39/n...  \n",
       "2   file:///gpfs/bbp.cscs.ch/data/project/proj39/n...  \n",
       "3   file:///gpfs/bbp.cscs.ch/data/project/proj39/n...  \n",
       "4   file:///gpfs/bbp.cscs.ch/data/project/proj39/n...  \n",
       "..                                                ...  \n",
       "95  file:///gpfs/bbp.cscs.ch/data/project/proj39/n...  \n",
       "96  file:///gpfs/bbp.cscs.ch/data/project/proj39/n...  \n",
       "97  file:///gpfs/bbp.cscs.ch/data/project/proj39/n...  \n",
       "98  file:///gpfs/bbp.cscs.ch/data/project/proj39/n...  \n",
       "99  file:///gpfs/bbp.cscs.ch/data/project/proj39/n...  \n",
       "\n",
       "[100 rows x 8 columns]"
      ]
     },
     "execution_count": 39,
     "metadata": {},
     "output_type": "execute_result"
    }
   ],
   "source": [
    "# Collect metadata as pandas dataframe \n",
    "reshaped_resources = forge.reshape(metype_density_release_volumes, keep=[\"id\",\"type\", \"annotation.hasBody.id\", \"annotation.hasBody.label\",\n",
    "                     \"brainLocation.brainRegion.id\", \"brainLocation.brainRegion.label\", \"distribution.atLocation.location\"])\n",
    "df = forge.as_dataframe(reshaped_resources, nesting=\".\")\n",
    "\n",
    "df[\"mtype\"] = df.apply(lambda row: (row.annotation[0][\"hasBody\"][\"label\"],row.annotation[0][\"hasBody\"][\"id\"]) , axis=1) \n",
    "df[\"etype\"] = df.apply(lambda row: (row.annotation[1][\"hasBody\"][\"label\"],row.annotation[1][\"hasBody\"][\"id\"]) , axis=1) \n",
    "type_column = df.pop('type')\n",
    "mtype_column = df.pop('mtype')\n",
    "etype_column = df.pop('etype')\n",
    "\n",
    "df.insert(0, 'type', type_column)\n",
    "df.insert(1, 'mtype', mtype_column)\n",
    "df.insert(2, 'etype', etype_column)\n",
    "df.drop(columns=\"annotation\")\n",
    "\n",
    "df.head(100)"
   ]
  },
  {
   "cell_type": "code",
   "execution_count": 40,
   "metadata": {},
   "outputs": [],
   "source": [
    "forge.download(metype_density_release_volumes, path=\"./test\", follow=\"distribution.contentUrl\", cross_bucket=True, overwrite=True)"
   ]
  }
 ],
 "metadata": {
  "kernelspec": {
   "display_name": "kgforge",
   "language": "python",
   "name": "python3"
  },
  "language_info": {
   "codemirror_mode": {
    "name": "ipython",
    "version": 3
   },
   "file_extension": ".py",
   "mimetype": "text/x-python",
   "name": "python",
   "nbconvert_exporter": "python",
   "pygments_lexer": "ipython3",
   "version": "3.7.13"
  }
 },
 "nbformat": 4,
 "nbformat_minor": 4
}
