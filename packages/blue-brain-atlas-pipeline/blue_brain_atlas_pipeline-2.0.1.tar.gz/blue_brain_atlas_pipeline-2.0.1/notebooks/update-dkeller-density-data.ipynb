{
 "cells": [
  {
   "cell_type": "markdown",
   "metadata": {},
   "source": [
    "# Context"
   ]
  },
  {
   "cell_type": "markdown",
   "metadata": {},
   "source": [
    "This notebook is was taken from this [notebook](https://bbpgitlab.epfl.ch/dke/users/annakristinkaufmann/data-integration/-/blob/main/notebooks/202210-update-density-data-in-atlas.ipynb). It only contains the section on updating METypeDensity resources created by Dan Keller both in staging in production."
   ]
  },
  {
   "cell_type": "markdown",
   "metadata": {},
   "source": [
    "# Imports"
   ]
  },
  {
   "cell_type": "code",
   "execution_count": null,
   "metadata": {},
   "outputs": [],
   "source": [
    "import getpass\n",
    "from kgforge.core import KnowledgeGraphForge"
   ]
  },
  {
   "cell_type": "markdown",
   "metadata": {},
   "source": [
    "# Setup"
   ]
  },
  {
   "cell_type": "markdown",
   "metadata": {},
   "source": [
    "Get your TOKEN from Nexus Web: https://bbp.epfl.ch/nexus/web :\n",
    "* log in using your Gaspar user name and password\n",
    "* click on \"Copy token\" in the top right corner\n",
    "* paste copied token into the cell below"
   ]
  },
  {
   "cell_type": "code",
   "execution_count": null,
   "metadata": {},
   "outputs": [],
   "source": [
    "TOKEN = getpass.getpass()"
   ]
  },
  {
   "cell_type": "code",
   "execution_count": null,
   "metadata": {},
   "outputs": [],
   "source": [
    "CONFIG = \"https://raw.githubusercontent.com/BlueBrain/nexus-forge/master/examples/notebooks/use-cases/prod-forge-nexus.yml\""
   ]
  },
  {
   "cell_type": "code",
   "execution_count": null,
   "metadata": {},
   "outputs": [],
   "source": [
    "BUCKET = \"bbp/atlas\""
   ]
  },
  {
   "cell_type": "code",
   "execution_count": null,
   "metadata": {},
   "outputs": [],
   "source": [
    "forge_staging = KnowledgeGraphForge(CONFIG,\n",
    "                            endpoint=\"https://staging.nise.bbp.epfl.ch/nexus/v1\",\n",
    "                            bucket=BUCKET,\n",
    "                            token=TOKEN)"
   ]
  },
  {
   "cell_type": "code",
   "execution_count": null,
   "metadata": {},
   "outputs": [],
   "source": [
    "forge_prod = KnowledgeGraphForge(CONFIG,\n",
    "                            bucket=BUCKET,\n",
    "                            token=TOKEN)"
   ]
  },
  {
   "cell_type": "markdown",
   "metadata": {},
   "source": [
    "# Update Dan Keller densities"
   ]
  },
  {
   "cell_type": "code",
   "execution_count": null,
   "metadata": {},
   "outputs": [],
   "source": [
    "forges = [forge_prod, forge_staging]"
   ]
  },
  {
   "cell_type": "code",
   "execution_count": null,
   "metadata": {},
   "outputs": [],
   "source": [
    "DK = \"https://bbp.epfl.ch/nexus/v1/realms/bbp/users/dakeller\""
   ]
  },
  {
   "cell_type": "code",
   "execution_count": null,
   "metadata": {},
   "outputs": [],
   "source": [
    "for forge in forges:\n",
    "    resources = forge.search({\"type\": \"METypeDensity\", \"contribution\": {\"agent\": {\"id\": DK}}})\n",
    "    print(len(resources))\n",
    "    for r in resources:\n",
    "        r.distribution = forge.attach(f\"./output/{r.distribution.name}\", \"application/nrrd\")\n",
    "        forge.update(r)"
   ]
  }
 ],
 "metadata": {
  "kernelspec": {
   "display_name": "Python (20210819)",
   "language": "python",
   "name": "20210819"
  },
  "language_info": {
   "codemirror_mode": {
    "name": "ipython",
    "version": 3
   },
   "file_extension": ".py",
   "mimetype": "text/x-python",
   "name": "python",
   "nbconvert_exporter": "python",
   "pygments_lexer": "ipython3",
   "version": "3.7.11"
  }
 },
 "nbformat": 4,
 "nbformat_minor": 4
}
