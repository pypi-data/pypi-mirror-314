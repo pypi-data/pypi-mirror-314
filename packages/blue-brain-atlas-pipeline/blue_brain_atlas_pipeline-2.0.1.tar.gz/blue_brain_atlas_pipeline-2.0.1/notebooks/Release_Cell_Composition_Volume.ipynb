{
 "cells": [
  {
   "cell_type": "markdown",
   "metadata": {},
   "source": [
    "# Release METype Densities"
   ]
  },
  {
   "cell_type": "markdown",
   "metadata": {},
   "source": [
    "## Imports"
   ]
  },
  {
   "cell_type": "code",
   "execution_count": 78,
   "metadata": {},
   "outputs": [],
   "source": [
    "import json\n",
    "import rdflib\n",
    "import getpass\n",
    "import pandas as pd\n",
    "from rdflib import RDF, RDFS, XSD, OWL, URIRef, BNode, SKOS\n",
    "import pprint\n",
    "from kgforge.core import KnowledgeGraphForge"
   ]
  },
  {
   "cell_type": "markdown",
   "metadata": {},
   "source": [
    "## Setup\n",
    "Get an authentication token"
   ]
  },
  {
   "cell_type": "markdown",
   "metadata": {},
   "source": [
    "For now, the [Nexus web application](https://bbp.epfl.ch/nexus/web) can be used to get a token. We are looking for other simpler alternatives.\n",
    "\n",
    "- Step 1: From the opened web page, click on the login button on the right corner and follow the instructions.\n",
    "\n",
    "![login-ui](./login-ui.png)\n",
    "\n",
    "- Step 2: At the end you’ll see a token button on the right corner. Click on it to copy the token.\n",
    "\n",
    "![login-ui](./copy-token.png)\n"
   ]
  },
  {
   "cell_type": "code",
   "execution_count": 79,
   "metadata": {},
   "outputs": [],
   "source": [
    "TOKEN = \"\""
   ]
  },
  {
   "cell_type": "code",
   "execution_count": 80,
   "metadata": {},
   "outputs": [],
   "source": [
    "endpoint_staging = \"https://staging.nise.bbp.epfl.ch/nexus/v1\"\n",
    "endpoint_prod = \"https://bbp.epfl.ch/nexus/v1\"\n",
    "endpoint = endpoint_staging"
   ]
  },
  {
   "cell_type": "code",
   "execution_count": 81,
   "metadata": {},
   "outputs": [],
   "source": [
    "# To query the metype density nrrd files\n",
    "forge = KnowledgeGraphForge(\"../forge-config.yml\",\n",
    "                            token = TOKEN,\n",
    "                            endpoint = endpoint,\n",
    "                            bucket = \"bbp/atlas\")"
   ]
  },
  {
   "cell_type": "code",
   "execution_count": 82,
   "metadata": {},
   "outputs": [],
   "source": [
    "# To write in the bbp/atlasdatasetrelease project\n",
    "forge_atlas_release = KnowledgeGraphForge(\"../forge-config.yml\",\n",
    "                            token = TOKEN,\n",
    "                            endpoint = endpoint,\n",
    "                            bucket = \"bbp/atlasdatasetrelease\")"
   ]
  },
  {
   "cell_type": "markdown",
   "metadata": {},
   "source": [
    "## Set the atlas release id\n",
    "These atlas releases can be explored through the atlas web app:\n",
    "\n",
    "* dev: https://bluebrainatlas.kcpdev.bbp.epfl.ch/atlas\n",
    "* prod: https://bbp.epfl.ch/atlas\n"
   ]
  },
  {
   "cell_type": "code",
   "execution_count": 83,
   "metadata": {},
   "outputs": [],
   "source": [
    "\n",
    "# Prod\n",
    "Prod_BBP_Mouse_Brain_Atlas_Release = \"https://bbp.epfl.ch/neurosciencegraph/data/4906ab85-694f-469d-962f-c0174e901885\" \n",
    "Prod_Cell_Compostion_Volume_Release_Id = \"https://bbp.epfl.ch/neurosciencegraph/data/27652d4d-3a6f-42c7-9833-64396104c445\"\n",
    "Prod_Cell_Compostion_Volume_Release_Version = \"v0.3.2\"\n",
    "# Staging\n",
    "Staging_BBP_Mouse_Brain_Atlas_Release = \"https://bbp.epfl.ch/neurosciencegraph/data/brainatlasrelease/c96c71a8-4c0d-4bc1-8a1a-141d9ed6693d\" \n",
    "Staging_Cell_Compostion_Volume_Release_Id = \"https://bbp.epfl.ch/neurosciencegraph/data/celldensities/760b887c-759a-4ded-98e6-5d2712349eb2\"\n",
    "Staging_Cell_Compostion_Volume_Release_Version = 1\n",
    "\n",
    "atlas_release_id = Staging_BBP_Mouse_Brain_Atlas_Release\n",
    "cell_compostion_volume_release_id = Staging_Cell_Compostion_Volume_Release_Id\n",
    "cell_compostion_volume_release_version = Staging_Cell_Compostion_Volume_Release_Version\n"
   ]
  },
  {
   "cell_type": "markdown",
   "metadata": {},
   "source": [
    "## Get the atlas release high level metadata"
   ]
  },
  {
   "cell_type": "code",
   "execution_count": 84,
   "metadata": {},
   "outputs": [],
   "source": [
    "atlas_release = forge.retrieve(atlas_release_id)"
   ]
  },
  {
   "cell_type": "code",
   "execution_count": null,
   "metadata": {},
   "outputs": [],
   "source": [
    "print(atlas_release)"
   ]
  },
  {
   "cell_type": "code",
   "execution_count": 85,
   "metadata": {},
   "outputs": [
    {
     "data": {
      "text/plain": [
       "7"
      ]
     },
     "execution_count": 85,
     "metadata": {},
     "output_type": "execute_result"
    }
   ],
   "source": [
    "atlas_release._store_metadata[\"_rev\"]"
   ]
  },
  {
   "cell_type": "markdown",
   "metadata": {},
   "source": [
    "## Get the metype density nrrd files"
   ]
  },
  {
   "cell_type": "markdown",
   "metadata": {},
   "source": [
    "### Get the metype density nrrd files annotated with Mtypes with layers"
   ]
  },
  {
   "cell_type": "code",
   "execution_count": 86,
   "metadata": {
    "tags": []
   },
   "outputs": [],
   "source": [
    "# Density resources annotated with Mtypes without layers are note released\n",
    "query = f\"\"\"\n",
    "SELECT DISTINCT ?s\n",
    "WHERE {{\n",
    "        ?s a METypeDensity ;\n",
    "            atlasRelease <{atlas_release_id}>; \n",
    "            annotation / hasBody / label ?mtype_label ;\n",
    "            brainLocation / brainRegion ?brainRegion ;  \n",
    "            brainLocation / layer ?layer;\n",
    "            distribution ?distribution .\n",
    "        ?distribution name ?nrrd_file ;\n",
    "        contentUrl ?contentUrl .\n",
    "}}\n",
    "\"\"\""
   ]
  },
  {
   "cell_type": "code",
   "execution_count": 87,
   "metadata": {},
   "outputs": [
    {
     "data": {
      "application/vnd.jupyter.widget-view+json": {
       "model_id": "d99b0cb9c23d4ddc8fbdd02653a2de09",
       "version_major": 2,
       "version_minor": 0
      },
      "text/plain": [
       "  0%|          | 0/243 [00:00<?, ?it/s]"
      ]
     },
     "metadata": {},
     "output_type": "display_data"
    },
    {
     "name": "stdout",
     "output_type": "stream",
     "text": [
      "243 metype dentisities found\n"
     ]
    }
   ],
   "source": [
    "from tqdm.notebook import tqdm\n",
    "all_resources_with_layer = forge.sparql(query, limit=1000, debug=False)\n",
    "resources = [forge.retrieve(id = r.s) for r in tqdm(all_resources_with_layer)]\n",
    "print(f\"{len(resources)} ME-type dentisities with layer found\")"
   ]
  },
  {
   "cell_type": "markdown",
   "metadata": {},
   "source": [
    "### Some sanity check of the results of the previous query"
   ]
  },
  {
   "cell_type": "code",
   "execution_count": 88,
   "metadata": {},
   "outputs": [
    {
     "data": {
      "text/plain": [
       "318"
      ]
     },
     "execution_count": 88,
     "metadata": {},
     "output_type": "execute_result"
    }
   ],
   "source": [
    "# Get all metype densities\n",
    "all_resources = forge.search({\"type\":\"METypeDensity\", \"atlasRelease\":{\"@id\":atlas_release_id}}, limit=1000, debug=False)\n",
    "len(all_resources)"
   ]
  },
  {
   "cell_type": "code",
   "execution_count": null,
   "metadata": {},
   "outputs": [],
   "source": [
    "# So 318 - 243 = 75 without layer\n",
    "# 75 without layers = -3 SAC -1 LAC -3 HAC -2 DAC -4 NGC-DA - 7 (dbc) - 3 (chc) - 10 (nestbc) - 10 (lbc) - 3 (sbc) - 7 (btc) - 6 (bc) - 9 (mc) - 5 (neurogliaform Cell) - 1 (GenericExc) -  1 (GenericInh)\n",
    "# 1 (GenericExc) and  1 (GenericInh) will be included in the final dataset"
   ]
  },
  {
   "cell_type": "code",
   "execution_count": 90,
   "metadata": {},
   "outputs": [],
   "source": [
    "mtype_ids_to_exclude_list = [\"http://uri.interlex.org/base/ilx_0784350\", \"http://uri.interlex.org/base/ilx_0107356\", \n",
    "            \"http://uri.interlex.org/base/ilx_0777217\", \"http://uri.interlex.org/base/ilx_0777215\", \"http://uri.interlex.org/base/ilx_0777219\",\n",
    "            \"http://uri.interlex.org/base/ilx_0777212\", \"https://bbp.epfl.ch/ontologies/core/mtypes/BipolarCell\",\n",
    "            \"http://uri.interlex.org/base/ilx_0107375\",\"http://uri.interlex.org/base/ilx_0777218\",\n",
    "             \"https://bbp.epfl.ch/ontologies/core/bmo/GenericExcitatoryNeuronMType\",\n",
    "              \"https://bbp.epfl.ch/ontologies/core/bmo/GenericInhibitoryNeuronMType\",\n",
    "              'https://bbp.epfl.ch/ontologies/core/bmo/NGC-DA',\n",
    " 'https://bbp.epfl.ch/ontologies/core/bmo/DAC',\n",
    " 'https://bbp.epfl.ch/ontologies/core/bmo/HAC',\n",
    " 'https://bbp.epfl.ch/ontologies/core/bmo/LAC',\n",
    " 'https://bbp.epfl.ch/ontologies/core/bmo/SAC']"
   ]
  },
  {
   "cell_type": "code",
   "execution_count": 91,
   "metadata": {},
   "outputs": [],
   "source": [
    "check_all_resources_without_layer = [r for r in all_resources if not hasattr(r.brainLocation,\"layer\") ]\n",
    "\n",
    "all_annotations = [r.annotation for r in check_all_resources_without_layer]\n",
    "all_annotations = [a  for a_list in all_annotations for a in a_list]\n",
    "all_annotations_mtype = [a for a in all_annotations if \"MType\" in a.hasBody.type and a.hasBody.id not in mtype_ids_to_exclude_list]\n",
    "assert len(all_annotations_mtype) == 0"
   ]
  },
  {
   "cell_type": "markdown",
   "metadata": {},
   "source": [
    "### Add to the release density for the generic types\n",
    "* GenericExcitatoryNeuronMType\n",
    "* GenericExcitatoryNeuronEType\n",
    "* GenericInhibitoryNeuronMType\n",
    "* GenericInhibitoryNeuronEType"
   ]
  },
  {
   "cell_type": "code",
   "execution_count": 92,
   "metadata": {},
   "outputs": [],
   "source": [
    "# Get GenericExcitatoryNeuron\n",
    "query = f\"\"\"\n",
    "\n",
    "SELECT DISTINCT ?s\n",
    "\n",
    "WHERE {{\n",
    "        ?s a METypeDensity ;\n",
    "            atlasRelease <{atlas_release_id}>; \n",
    "            annotation / hasBody <https://bbp.epfl.ch/ontologies/core/bmo/GenericExcitatoryNeuronMType> ;\n",
    "            annotation / hasBody <https://bbp.epfl.ch/ontologies/core/bmo/GenericExcitatoryNeuronEType> ;\n",
    "            brainLocation / brainRegion ?brainRegion ;\n",
    "            distribution ?distribution .\n",
    "        ?distribution name ?nrrd_file ;\n",
    "            contentUrl ?contentUrl .\n",
    "}}\n",
    "\"\"\"\n",
    "generic_exc_resources = forge.sparql(query, limit=1000, debug=False)\n",
    "assert len(generic_exc_resources) == 1\n",
    "generic_exc_resource = forge.retrieve(id=generic_exc_resources[0].s)"
   ]
  },
  {
   "cell_type": "code",
   "execution_count": 93,
   "metadata": {},
   "outputs": [],
   "source": [
    "# Get GenericInhibitoryNeuron\n",
    "\n",
    "query = f\"\"\"\n",
    "\n",
    "SELECT DISTINCT ?s\n",
    "\n",
    "WHERE {{\n",
    "        ?s a METypeDensity ;\n",
    "            atlasRelease <{atlas_release_id}>; \n",
    "            annotation / hasBody <https://bbp.epfl.ch/ontologies/core/bmo/GenericInhibitoryNeuronMType> ;\n",
    "            annotation / hasBody <https://bbp.epfl.ch/ontologies/core/bmo/GenericInhibitoryNeuronEType> ;\n",
    "            brainLocation / brainRegion ?brainRegion ;\n",
    "            distribution ?distribution .\n",
    "        ?distribution name ?nrrd_file ;\n",
    "            contentUrl ?contentUrl .\n",
    "}}\n",
    "\"\"\"\n",
    "generic_inh_resources = forge.sparql(query, limit=1000, debug=False)#forge.search({\"type\":\"METypeDensity\",\"atlasRelease\":{\"@id\":atlas_release_id}}, limit=1000, debug=False)\n",
    "assert len(generic_inh_resources) == 1\n",
    "generic_inh_resource = forge.retrieve(id=generic_inh_resources[0].s)"
   ]
  },
  {
   "cell_type": "code",
   "execution_count": 94,
   "metadata": {},
   "outputs": [
    {
     "name": "stdout",
     "output_type": "stream",
     "text": [
      "245 metype dentisities will be released including generic ones\n"
     ]
    }
   ],
   "source": [
    "# Add the generic densities to the release set\n",
    "resources.append(generic_exc_resource)\n",
    "resources.append(generic_inh_resource)\n",
    "print(f\"{len(resources)} metype densities will be released, including generic ones\")"
   ]
  },
  {
   "cell_type": "markdown",
   "metadata": {},
   "source": [
    "### Display the densities to release as dataframe"
   ]
  },
  {
   "cell_type": "code",
   "execution_count": 95,
   "metadata": {},
   "outputs": [
    {
     "data": {
      "text/html": [
       "<div>\n",
       "<style scoped>\n",
       "    .dataframe tbody tr th:only-of-type {\n",
       "        vertical-align: middle;\n",
       "    }\n",
       "\n",
       "    .dataframe tbody tr th {\n",
       "        vertical-align: top;\n",
       "    }\n",
       "\n",
       "    .dataframe thead th {\n",
       "        text-align: right;\n",
       "    }\n",
       "</style>\n",
       "<table border=\"1\" class=\"dataframe\">\n",
       "  <thead>\n",
       "    <tr style=\"text-align: right;\">\n",
       "      <th></th>\n",
       "      <th>type</th>\n",
       "      <th>mtype</th>\n",
       "      <th>etype</th>\n",
       "      <th>id</th>\n",
       "      <th>annotation</th>\n",
       "      <th>brainLocation.brainRegion.id</th>\n",
       "      <th>brainLocation.brainRegion.label</th>\n",
       "      <th>distribution.atLocation</th>\n",
       "      <th>_constrainedBy</th>\n",
       "      <th>_createdAt</th>\n",
       "      <th>_createdBy</th>\n",
       "      <th>_deprecated</th>\n",
       "      <th>_incoming</th>\n",
       "      <th>_outgoing</th>\n",
       "      <th>_project</th>\n",
       "      <th>_rev</th>\n",
       "      <th>_schemaProject</th>\n",
       "      <th>_self</th>\n",
       "      <th>_updatedAt</th>\n",
       "      <th>_updatedBy</th>\n",
       "    </tr>\n",
       "  </thead>\n",
       "  <tbody>\n",
       "    <tr>\n",
       "      <th>0</th>\n",
       "      <td>[NeuronDensity, VolumetricDataLayer, CellDensi...</td>\n",
       "      <td>(L6_TPC:A, http://uri.interlex.org/base/ilx_03...</td>\n",
       "      <td>(cADpyr, http://bbp.epfl.ch/neurosciencegraph/...</td>\n",
       "      <td>https://bbp.epfl.ch/neurosciencegraph/data/den...</td>\n",
       "      <td>[{'hasBody': {'id': 'http://uri.interlex.org/b...</td>\n",
       "      <td>http://api.brain-map.org/api/v2/data/Structure...</td>\n",
       "      <td>root</td>\n",
       "      <td>NaN</td>\n",
       "      <td>https://neuroshapes.org/dash/volumetricdatalayer</td>\n",
       "      <td>2022-10-24T17:44:55.865Z</td>\n",
       "      <td>https://staging.nise.bbp.epfl.ch/nexus/v1/real...</td>\n",
       "      <td>False</td>\n",
       "      <td>https://staging.nise.bbp.epfl.ch/nexus/v1/reso...</td>\n",
       "      <td>https://staging.nise.bbp.epfl.ch/nexus/v1/reso...</td>\n",
       "      <td>https://staging.nise.bbp.epfl.ch/nexus/v1/proj...</td>\n",
       "      <td>10</td>\n",
       "      <td>https://staging.nise.bbp.epfl.ch/nexus/v1/proj...</td>\n",
       "      <td>https://staging.nise.bbp.epfl.ch/nexus/v1/reso...</td>\n",
       "      <td>2022-11-11T08:21:05.839Z</td>\n",
       "      <td>https://staging.nise.bbp.epfl.ch/nexus/v1/real...</td>\n",
       "    </tr>\n",
       "    <tr>\n",
       "      <th>1</th>\n",
       "      <td>[NeuronDensity, VolumetricDataLayer, CellDensi...</td>\n",
       "      <td>(L3_TPC:B, http://uri.interlex.org/base/ilx_03...</td>\n",
       "      <td>(cADpyr, http://bbp.epfl.ch/neurosciencegraph/...</td>\n",
       "      <td>https://bbp.epfl.ch/neurosciencegraph/data/den...</td>\n",
       "      <td>[{'hasBody': {'id': 'http://uri.interlex.org/b...</td>\n",
       "      <td>http://api.brain-map.org/api/v2/data/Structure...</td>\n",
       "      <td>root</td>\n",
       "      <td>NaN</td>\n",
       "      <td>https://neuroshapes.org/dash/volumetricdatalayer</td>\n",
       "      <td>2022-10-24T17:44:56.714Z</td>\n",
       "      <td>https://staging.nise.bbp.epfl.ch/nexus/v1/real...</td>\n",
       "      <td>False</td>\n",
       "      <td>https://staging.nise.bbp.epfl.ch/nexus/v1/reso...</td>\n",
       "      <td>https://staging.nise.bbp.epfl.ch/nexus/v1/reso...</td>\n",
       "      <td>https://staging.nise.bbp.epfl.ch/nexus/v1/proj...</td>\n",
       "      <td>10</td>\n",
       "      <td>https://staging.nise.bbp.epfl.ch/nexus/v1/proj...</td>\n",
       "      <td>https://staging.nise.bbp.epfl.ch/nexus/v1/reso...</td>\n",
       "      <td>2022-11-11T08:21:07.047Z</td>\n",
       "      <td>https://staging.nise.bbp.epfl.ch/nexus/v1/real...</td>\n",
       "    </tr>\n",
       "    <tr>\n",
       "      <th>2</th>\n",
       "      <td>[NeuronDensity, VolumetricDataLayer, CellDensi...</td>\n",
       "      <td>(L5_TPC:A, http://uri.interlex.org/base/ilx_03...</td>\n",
       "      <td>(cADpyr, http://bbp.epfl.ch/neurosciencegraph/...</td>\n",
       "      <td>https://bbp.epfl.ch/neurosciencegraph/data/den...</td>\n",
       "      <td>[{'hasBody': {'id': 'http://uri.interlex.org/b...</td>\n",
       "      <td>http://api.brain-map.org/api/v2/data/Structure...</td>\n",
       "      <td>root</td>\n",
       "      <td>NaN</td>\n",
       "      <td>https://neuroshapes.org/dash/volumetricdatalayer</td>\n",
       "      <td>2022-10-24T17:44:57.604Z</td>\n",
       "      <td>https://staging.nise.bbp.epfl.ch/nexus/v1/real...</td>\n",
       "      <td>False</td>\n",
       "      <td>https://staging.nise.bbp.epfl.ch/nexus/v1/reso...</td>\n",
       "      <td>https://staging.nise.bbp.epfl.ch/nexus/v1/reso...</td>\n",
       "      <td>https://staging.nise.bbp.epfl.ch/nexus/v1/proj...</td>\n",
       "      <td>10</td>\n",
       "      <td>https://staging.nise.bbp.epfl.ch/nexus/v1/proj...</td>\n",
       "      <td>https://staging.nise.bbp.epfl.ch/nexus/v1/reso...</td>\n",
       "      <td>2022-11-11T08:21:07.983Z</td>\n",
       "      <td>https://staging.nise.bbp.epfl.ch/nexus/v1/real...</td>\n",
       "    </tr>\n",
       "    <tr>\n",
       "      <th>3</th>\n",
       "      <td>[NeuronDensity, VolumetricDataLayer, CellDensi...</td>\n",
       "      <td>(L2_TPC:B, http://uri.interlex.org/base/ilx_03...</td>\n",
       "      <td>(cADpyr, http://bbp.epfl.ch/neurosciencegraph/...</td>\n",
       "      <td>https://bbp.epfl.ch/neurosciencegraph/data/den...</td>\n",
       "      <td>[{'hasBody': {'id': 'http://uri.interlex.org/b...</td>\n",
       "      <td>http://api.brain-map.org/api/v2/data/Structure...</td>\n",
       "      <td>root</td>\n",
       "      <td>NaN</td>\n",
       "      <td>https://neuroshapes.org/dash/volumetricdatalayer</td>\n",
       "      <td>2022-10-24T17:44:58.461Z</td>\n",
       "      <td>https://staging.nise.bbp.epfl.ch/nexus/v1/real...</td>\n",
       "      <td>False</td>\n",
       "      <td>https://staging.nise.bbp.epfl.ch/nexus/v1/reso...</td>\n",
       "      <td>https://staging.nise.bbp.epfl.ch/nexus/v1/reso...</td>\n",
       "      <td>https://staging.nise.bbp.epfl.ch/nexus/v1/proj...</td>\n",
       "      <td>10</td>\n",
       "      <td>https://staging.nise.bbp.epfl.ch/nexus/v1/proj...</td>\n",
       "      <td>https://staging.nise.bbp.epfl.ch/nexus/v1/reso...</td>\n",
       "      <td>2022-11-11T08:21:09.023Z</td>\n",
       "      <td>https://staging.nise.bbp.epfl.ch/nexus/v1/real...</td>\n",
       "    </tr>\n",
       "    <tr>\n",
       "      <th>4</th>\n",
       "      <td>[NeuronDensity, VolumetricDataLayer, CellDensi...</td>\n",
       "      <td>(L3_TPC:A, http://uri.interlex.org/base/ilx_03...</td>\n",
       "      <td>(cADpyr, http://bbp.epfl.ch/neurosciencegraph/...</td>\n",
       "      <td>https://bbp.epfl.ch/neurosciencegraph/data/den...</td>\n",
       "      <td>[{'hasBody': {'id': 'http://uri.interlex.org/b...</td>\n",
       "      <td>http://api.brain-map.org/api/v2/data/Structure...</td>\n",
       "      <td>root</td>\n",
       "      <td>NaN</td>\n",
       "      <td>https://neuroshapes.org/dash/volumetricdatalayer</td>\n",
       "      <td>2022-10-24T17:44:59.301Z</td>\n",
       "      <td>https://staging.nise.bbp.epfl.ch/nexus/v1/real...</td>\n",
       "      <td>False</td>\n",
       "      <td>https://staging.nise.bbp.epfl.ch/nexus/v1/reso...</td>\n",
       "      <td>https://staging.nise.bbp.epfl.ch/nexus/v1/reso...</td>\n",
       "      <td>https://staging.nise.bbp.epfl.ch/nexus/v1/proj...</td>\n",
       "      <td>10</td>\n",
       "      <td>https://staging.nise.bbp.epfl.ch/nexus/v1/proj...</td>\n",
       "      <td>https://staging.nise.bbp.epfl.ch/nexus/v1/reso...</td>\n",
       "      <td>2022-11-11T08:21:10.288Z</td>\n",
       "      <td>https://staging.nise.bbp.epfl.ch/nexus/v1/real...</td>\n",
       "    </tr>\n",
       "    <tr>\n",
       "      <th>...</th>\n",
       "      <td>...</td>\n",
       "      <td>...</td>\n",
       "      <td>...</td>\n",
       "      <td>...</td>\n",
       "      <td>...</td>\n",
       "      <td>...</td>\n",
       "      <td>...</td>\n",
       "      <td>...</td>\n",
       "      <td>...</td>\n",
       "      <td>...</td>\n",
       "      <td>...</td>\n",
       "      <td>...</td>\n",
       "      <td>...</td>\n",
       "      <td>...</td>\n",
       "      <td>...</td>\n",
       "      <td>...</td>\n",
       "      <td>...</td>\n",
       "      <td>...</td>\n",
       "      <td>...</td>\n",
       "      <td>...</td>\n",
       "    </tr>\n",
       "    <tr>\n",
       "      <th>95</th>\n",
       "      <td>[NeuronDensity, VolumetricDataLayer, CellDensi...</td>\n",
       "      <td>(L6_ChC, http://uri.interlex.org/base/ilx_0383...</td>\n",
       "      <td>(cNAC, http://uri.interlex.org/base/ilx_0738201)</td>\n",
       "      <td>https://bbp.epfl.ch/neurosciencegraph/data/88a...</td>\n",
       "      <td>[{'hasBody': {'id': 'http://uri.interlex.org/b...</td>\n",
       "      <td>http://api.brain-map.org/api/v2/data/Structure...</td>\n",
       "      <td>root</td>\n",
       "      <td>NaN</td>\n",
       "      <td>https://neuroshapes.org/dash/volumetricdatalayer</td>\n",
       "      <td>2022-10-16T21:45:27.426Z</td>\n",
       "      <td>https://staging.nise.bbp.epfl.ch/nexus/v1/real...</td>\n",
       "      <td>False</td>\n",
       "      <td>https://staging.nise.bbp.epfl.ch/nexus/v1/reso...</td>\n",
       "      <td>https://staging.nise.bbp.epfl.ch/nexus/v1/reso...</td>\n",
       "      <td>https://staging.nise.bbp.epfl.ch/nexus/v1/proj...</td>\n",
       "      <td>12</td>\n",
       "      <td>https://staging.nise.bbp.epfl.ch/nexus/v1/proj...</td>\n",
       "      <td>https://staging.nise.bbp.epfl.ch/nexus/v1/reso...</td>\n",
       "      <td>2022-11-03T10:58:44.317Z</td>\n",
       "      <td>https://staging.nise.bbp.epfl.ch/nexus/v1/real...</td>\n",
       "    </tr>\n",
       "    <tr>\n",
       "      <th>96</th>\n",
       "      <td>[NeuronDensity, VolumetricDataLayer, CellDensi...</td>\n",
       "      <td>(L5_DBC, http://uri.interlex.org/base/ilx_0383...</td>\n",
       "      <td>(cAC, http://uri.interlex.org/base/ilx_0738197)</td>\n",
       "      <td>https://bbp.epfl.ch/neurosciencegraph/data/26d...</td>\n",
       "      <td>[{'hasBody': {'id': 'http://uri.interlex.org/b...</td>\n",
       "      <td>http://api.brain-map.org/api/v2/data/Structure...</td>\n",
       "      <td>root</td>\n",
       "      <td>NaN</td>\n",
       "      <td>https://neuroshapes.org/dash/volumetricdatalayer</td>\n",
       "      <td>2022-10-17T12:28:44.340Z</td>\n",
       "      <td>https://staging.nise.bbp.epfl.ch/nexus/v1/real...</td>\n",
       "      <td>False</td>\n",
       "      <td>https://staging.nise.bbp.epfl.ch/nexus/v1/reso...</td>\n",
       "      <td>https://staging.nise.bbp.epfl.ch/nexus/v1/reso...</td>\n",
       "      <td>https://staging.nise.bbp.epfl.ch/nexus/v1/proj...</td>\n",
       "      <td>10</td>\n",
       "      <td>https://staging.nise.bbp.epfl.ch/nexus/v1/proj...</td>\n",
       "      <td>https://staging.nise.bbp.epfl.ch/nexus/v1/reso...</td>\n",
       "      <td>2022-11-03T10:58:48.133Z</td>\n",
       "      <td>https://staging.nise.bbp.epfl.ch/nexus/v1/real...</td>\n",
       "    </tr>\n",
       "    <tr>\n",
       "      <th>97</th>\n",
       "      <td>[NeuronDensity, VolumetricDataLayer, CellDensi...</td>\n",
       "      <td>(L6_LBC, http://uri.interlex.org/base/ilx_0383...</td>\n",
       "      <td>(bNAC, http://uri.interlex.org/base/ilx_0738203)</td>\n",
       "      <td>https://bbp.epfl.ch/neurosciencegraph/data/f0e...</td>\n",
       "      <td>[{'hasBody': {'id': 'http://uri.interlex.org/b...</td>\n",
       "      <td>http://api.brain-map.org/api/v2/data/Structure...</td>\n",
       "      <td>root</td>\n",
       "      <td>NaN</td>\n",
       "      <td>https://neuroshapes.org/dash/volumetricdatalayer</td>\n",
       "      <td>2022-10-16T21:45:26.650Z</td>\n",
       "      <td>https://staging.nise.bbp.epfl.ch/nexus/v1/real...</td>\n",
       "      <td>False</td>\n",
       "      <td>https://staging.nise.bbp.epfl.ch/nexus/v1/reso...</td>\n",
       "      <td>https://staging.nise.bbp.epfl.ch/nexus/v1/reso...</td>\n",
       "      <td>https://staging.nise.bbp.epfl.ch/nexus/v1/proj...</td>\n",
       "      <td>12</td>\n",
       "      <td>https://staging.nise.bbp.epfl.ch/nexus/v1/proj...</td>\n",
       "      <td>https://staging.nise.bbp.epfl.ch/nexus/v1/reso...</td>\n",
       "      <td>2022-11-03T10:59:01.652Z</td>\n",
       "      <td>https://staging.nise.bbp.epfl.ch/nexus/v1/real...</td>\n",
       "    </tr>\n",
       "    <tr>\n",
       "      <th>98</th>\n",
       "      <td>[NeuronDensity, VolumetricDataLayer, CellDensi...</td>\n",
       "      <td>(L5_NBC, http://uri.interlex.org/base/ilx_0383...</td>\n",
       "      <td>(dSTUT, http://uri.interlex.org/base/ilx_0738202)</td>\n",
       "      <td>https://bbp.epfl.ch/neurosciencegraph/data/483...</td>\n",
       "      <td>[{'hasBody': {'id': 'http://uri.interlex.org/b...</td>\n",
       "      <td>http://api.brain-map.org/api/v2/data/Structure...</td>\n",
       "      <td>root</td>\n",
       "      <td>NaN</td>\n",
       "      <td>https://neuroshapes.org/dash/volumetricdatalayer</td>\n",
       "      <td>2022-10-17T12:28:44.578Z</td>\n",
       "      <td>https://staging.nise.bbp.epfl.ch/nexus/v1/real...</td>\n",
       "      <td>False</td>\n",
       "      <td>https://staging.nise.bbp.epfl.ch/nexus/v1/reso...</td>\n",
       "      <td>https://staging.nise.bbp.epfl.ch/nexus/v1/reso...</td>\n",
       "      <td>https://staging.nise.bbp.epfl.ch/nexus/v1/proj...</td>\n",
       "      <td>10</td>\n",
       "      <td>https://staging.nise.bbp.epfl.ch/nexus/v1/proj...</td>\n",
       "      <td>https://staging.nise.bbp.epfl.ch/nexus/v1/reso...</td>\n",
       "      <td>2022-11-03T10:59:05.750Z</td>\n",
       "      <td>https://staging.nise.bbp.epfl.ch/nexus/v1/real...</td>\n",
       "    </tr>\n",
       "    <tr>\n",
       "      <th>99</th>\n",
       "      <td>[NeuronDensity, VolumetricDataLayer, CellDensi...</td>\n",
       "      <td>(L5_LBC, http://uri.interlex.org/base/ilx_0383...</td>\n",
       "      <td>(cAC, http://uri.interlex.org/base/ilx_0738197)</td>\n",
       "      <td>https://bbp.epfl.ch/neurosciencegraph/data/c4e...</td>\n",
       "      <td>[{'hasBody': {'id': 'http://uri.interlex.org/b...</td>\n",
       "      <td>http://api.brain-map.org/api/v2/data/Structure...</td>\n",
       "      <td>root</td>\n",
       "      <td>NaN</td>\n",
       "      <td>https://neuroshapes.org/dash/volumetricdatalayer</td>\n",
       "      <td>2022-10-16T21:45:25.927Z</td>\n",
       "      <td>https://staging.nise.bbp.epfl.ch/nexus/v1/real...</td>\n",
       "      <td>False</td>\n",
       "      <td>https://staging.nise.bbp.epfl.ch/nexus/v1/reso...</td>\n",
       "      <td>https://staging.nise.bbp.epfl.ch/nexus/v1/reso...</td>\n",
       "      <td>https://staging.nise.bbp.epfl.ch/nexus/v1/proj...</td>\n",
       "      <td>12</td>\n",
       "      <td>https://staging.nise.bbp.epfl.ch/nexus/v1/proj...</td>\n",
       "      <td>https://staging.nise.bbp.epfl.ch/nexus/v1/reso...</td>\n",
       "      <td>2022-11-03T10:59:08.011Z</td>\n",
       "      <td>https://staging.nise.bbp.epfl.ch/nexus/v1/real...</td>\n",
       "    </tr>\n",
       "  </tbody>\n",
       "</table>\n",
       "<p>100 rows × 20 columns</p>\n",
       "</div>"
      ],
      "text/plain": [
       "                                                 type  \\\n",
       "0   [NeuronDensity, VolumetricDataLayer, CellDensi...   \n",
       "1   [NeuronDensity, VolumetricDataLayer, CellDensi...   \n",
       "2   [NeuronDensity, VolumetricDataLayer, CellDensi...   \n",
       "3   [NeuronDensity, VolumetricDataLayer, CellDensi...   \n",
       "4   [NeuronDensity, VolumetricDataLayer, CellDensi...   \n",
       "..                                                ...   \n",
       "95  [NeuronDensity, VolumetricDataLayer, CellDensi...   \n",
       "96  [NeuronDensity, VolumetricDataLayer, CellDensi...   \n",
       "97  [NeuronDensity, VolumetricDataLayer, CellDensi...   \n",
       "98  [NeuronDensity, VolumetricDataLayer, CellDensi...   \n",
       "99  [NeuronDensity, VolumetricDataLayer, CellDensi...   \n",
       "\n",
       "                                                mtype  \\\n",
       "0   (L6_TPC:A, http://uri.interlex.org/base/ilx_03...   \n",
       "1   (L3_TPC:B, http://uri.interlex.org/base/ilx_03...   \n",
       "2   (L5_TPC:A, http://uri.interlex.org/base/ilx_03...   \n",
       "3   (L2_TPC:B, http://uri.interlex.org/base/ilx_03...   \n",
       "4   (L3_TPC:A, http://uri.interlex.org/base/ilx_03...   \n",
       "..                                                ...   \n",
       "95  (L6_ChC, http://uri.interlex.org/base/ilx_0383...   \n",
       "96  (L5_DBC, http://uri.interlex.org/base/ilx_0383...   \n",
       "97  (L6_LBC, http://uri.interlex.org/base/ilx_0383...   \n",
       "98  (L5_NBC, http://uri.interlex.org/base/ilx_0383...   \n",
       "99  (L5_LBC, http://uri.interlex.org/base/ilx_0383...   \n",
       "\n",
       "                                                etype  \\\n",
       "0   (cADpyr, http://bbp.epfl.ch/neurosciencegraph/...   \n",
       "1   (cADpyr, http://bbp.epfl.ch/neurosciencegraph/...   \n",
       "2   (cADpyr, http://bbp.epfl.ch/neurosciencegraph/...   \n",
       "3   (cADpyr, http://bbp.epfl.ch/neurosciencegraph/...   \n",
       "4   (cADpyr, http://bbp.epfl.ch/neurosciencegraph/...   \n",
       "..                                                ...   \n",
       "95   (cNAC, http://uri.interlex.org/base/ilx_0738201)   \n",
       "96    (cAC, http://uri.interlex.org/base/ilx_0738197)   \n",
       "97   (bNAC, http://uri.interlex.org/base/ilx_0738203)   \n",
       "98  (dSTUT, http://uri.interlex.org/base/ilx_0738202)   \n",
       "99    (cAC, http://uri.interlex.org/base/ilx_0738197)   \n",
       "\n",
       "                                                   id  \\\n",
       "0   https://bbp.epfl.ch/neurosciencegraph/data/den...   \n",
       "1   https://bbp.epfl.ch/neurosciencegraph/data/den...   \n",
       "2   https://bbp.epfl.ch/neurosciencegraph/data/den...   \n",
       "3   https://bbp.epfl.ch/neurosciencegraph/data/den...   \n",
       "4   https://bbp.epfl.ch/neurosciencegraph/data/den...   \n",
       "..                                                ...   \n",
       "95  https://bbp.epfl.ch/neurosciencegraph/data/88a...   \n",
       "96  https://bbp.epfl.ch/neurosciencegraph/data/26d...   \n",
       "97  https://bbp.epfl.ch/neurosciencegraph/data/f0e...   \n",
       "98  https://bbp.epfl.ch/neurosciencegraph/data/483...   \n",
       "99  https://bbp.epfl.ch/neurosciencegraph/data/c4e...   \n",
       "\n",
       "                                           annotation  \\\n",
       "0   [{'hasBody': {'id': 'http://uri.interlex.org/b...   \n",
       "1   [{'hasBody': {'id': 'http://uri.interlex.org/b...   \n",
       "2   [{'hasBody': {'id': 'http://uri.interlex.org/b...   \n",
       "3   [{'hasBody': {'id': 'http://uri.interlex.org/b...   \n",
       "4   [{'hasBody': {'id': 'http://uri.interlex.org/b...   \n",
       "..                                                ...   \n",
       "95  [{'hasBody': {'id': 'http://uri.interlex.org/b...   \n",
       "96  [{'hasBody': {'id': 'http://uri.interlex.org/b...   \n",
       "97  [{'hasBody': {'id': 'http://uri.interlex.org/b...   \n",
       "98  [{'hasBody': {'id': 'http://uri.interlex.org/b...   \n",
       "99  [{'hasBody': {'id': 'http://uri.interlex.org/b...   \n",
       "\n",
       "                         brainLocation.brainRegion.id  \\\n",
       "0   http://api.brain-map.org/api/v2/data/Structure...   \n",
       "1   http://api.brain-map.org/api/v2/data/Structure...   \n",
       "2   http://api.brain-map.org/api/v2/data/Structure...   \n",
       "3   http://api.brain-map.org/api/v2/data/Structure...   \n",
       "4   http://api.brain-map.org/api/v2/data/Structure...   \n",
       "..                                                ...   \n",
       "95  http://api.brain-map.org/api/v2/data/Structure...   \n",
       "96  http://api.brain-map.org/api/v2/data/Structure...   \n",
       "97  http://api.brain-map.org/api/v2/data/Structure...   \n",
       "98  http://api.brain-map.org/api/v2/data/Structure...   \n",
       "99  http://api.brain-map.org/api/v2/data/Structure...   \n",
       "\n",
       "   brainLocation.brainRegion.label  distribution.atLocation  \\\n",
       "0                             root                      NaN   \n",
       "1                             root                      NaN   \n",
       "2                             root                      NaN   \n",
       "3                             root                      NaN   \n",
       "4                             root                      NaN   \n",
       "..                             ...                      ...   \n",
       "95                            root                      NaN   \n",
       "96                            root                      NaN   \n",
       "97                            root                      NaN   \n",
       "98                            root                      NaN   \n",
       "99                            root                      NaN   \n",
       "\n",
       "                                      _constrainedBy  \\\n",
       "0   https://neuroshapes.org/dash/volumetricdatalayer   \n",
       "1   https://neuroshapes.org/dash/volumetricdatalayer   \n",
       "2   https://neuroshapes.org/dash/volumetricdatalayer   \n",
       "3   https://neuroshapes.org/dash/volumetricdatalayer   \n",
       "4   https://neuroshapes.org/dash/volumetricdatalayer   \n",
       "..                                               ...   \n",
       "95  https://neuroshapes.org/dash/volumetricdatalayer   \n",
       "96  https://neuroshapes.org/dash/volumetricdatalayer   \n",
       "97  https://neuroshapes.org/dash/volumetricdatalayer   \n",
       "98  https://neuroshapes.org/dash/volumetricdatalayer   \n",
       "99  https://neuroshapes.org/dash/volumetricdatalayer   \n",
       "\n",
       "                  _createdAt  \\\n",
       "0   2022-10-24T17:44:55.865Z   \n",
       "1   2022-10-24T17:44:56.714Z   \n",
       "2   2022-10-24T17:44:57.604Z   \n",
       "3   2022-10-24T17:44:58.461Z   \n",
       "4   2022-10-24T17:44:59.301Z   \n",
       "..                       ...   \n",
       "95  2022-10-16T21:45:27.426Z   \n",
       "96  2022-10-17T12:28:44.340Z   \n",
       "97  2022-10-16T21:45:26.650Z   \n",
       "98  2022-10-17T12:28:44.578Z   \n",
       "99  2022-10-16T21:45:25.927Z   \n",
       "\n",
       "                                           _createdBy  _deprecated  \\\n",
       "0   https://staging.nise.bbp.epfl.ch/nexus/v1/real...        False   \n",
       "1   https://staging.nise.bbp.epfl.ch/nexus/v1/real...        False   \n",
       "2   https://staging.nise.bbp.epfl.ch/nexus/v1/real...        False   \n",
       "3   https://staging.nise.bbp.epfl.ch/nexus/v1/real...        False   \n",
       "4   https://staging.nise.bbp.epfl.ch/nexus/v1/real...        False   \n",
       "..                                                ...          ...   \n",
       "95  https://staging.nise.bbp.epfl.ch/nexus/v1/real...        False   \n",
       "96  https://staging.nise.bbp.epfl.ch/nexus/v1/real...        False   \n",
       "97  https://staging.nise.bbp.epfl.ch/nexus/v1/real...        False   \n",
       "98  https://staging.nise.bbp.epfl.ch/nexus/v1/real...        False   \n",
       "99  https://staging.nise.bbp.epfl.ch/nexus/v1/real...        False   \n",
       "\n",
       "                                            _incoming  \\\n",
       "0   https://staging.nise.bbp.epfl.ch/nexus/v1/reso...   \n",
       "1   https://staging.nise.bbp.epfl.ch/nexus/v1/reso...   \n",
       "2   https://staging.nise.bbp.epfl.ch/nexus/v1/reso...   \n",
       "3   https://staging.nise.bbp.epfl.ch/nexus/v1/reso...   \n",
       "4   https://staging.nise.bbp.epfl.ch/nexus/v1/reso...   \n",
       "..                                                ...   \n",
       "95  https://staging.nise.bbp.epfl.ch/nexus/v1/reso...   \n",
       "96  https://staging.nise.bbp.epfl.ch/nexus/v1/reso...   \n",
       "97  https://staging.nise.bbp.epfl.ch/nexus/v1/reso...   \n",
       "98  https://staging.nise.bbp.epfl.ch/nexus/v1/reso...   \n",
       "99  https://staging.nise.bbp.epfl.ch/nexus/v1/reso...   \n",
       "\n",
       "                                            _outgoing  \\\n",
       "0   https://staging.nise.bbp.epfl.ch/nexus/v1/reso...   \n",
       "1   https://staging.nise.bbp.epfl.ch/nexus/v1/reso...   \n",
       "2   https://staging.nise.bbp.epfl.ch/nexus/v1/reso...   \n",
       "3   https://staging.nise.bbp.epfl.ch/nexus/v1/reso...   \n",
       "4   https://staging.nise.bbp.epfl.ch/nexus/v1/reso...   \n",
       "..                                                ...   \n",
       "95  https://staging.nise.bbp.epfl.ch/nexus/v1/reso...   \n",
       "96  https://staging.nise.bbp.epfl.ch/nexus/v1/reso...   \n",
       "97  https://staging.nise.bbp.epfl.ch/nexus/v1/reso...   \n",
       "98  https://staging.nise.bbp.epfl.ch/nexus/v1/reso...   \n",
       "99  https://staging.nise.bbp.epfl.ch/nexus/v1/reso...   \n",
       "\n",
       "                                             _project  _rev  \\\n",
       "0   https://staging.nise.bbp.epfl.ch/nexus/v1/proj...    10   \n",
       "1   https://staging.nise.bbp.epfl.ch/nexus/v1/proj...    10   \n",
       "2   https://staging.nise.bbp.epfl.ch/nexus/v1/proj...    10   \n",
       "3   https://staging.nise.bbp.epfl.ch/nexus/v1/proj...    10   \n",
       "4   https://staging.nise.bbp.epfl.ch/nexus/v1/proj...    10   \n",
       "..                                                ...   ...   \n",
       "95  https://staging.nise.bbp.epfl.ch/nexus/v1/proj...    12   \n",
       "96  https://staging.nise.bbp.epfl.ch/nexus/v1/proj...    10   \n",
       "97  https://staging.nise.bbp.epfl.ch/nexus/v1/proj...    12   \n",
       "98  https://staging.nise.bbp.epfl.ch/nexus/v1/proj...    10   \n",
       "99  https://staging.nise.bbp.epfl.ch/nexus/v1/proj...    12   \n",
       "\n",
       "                                       _schemaProject  \\\n",
       "0   https://staging.nise.bbp.epfl.ch/nexus/v1/proj...   \n",
       "1   https://staging.nise.bbp.epfl.ch/nexus/v1/proj...   \n",
       "2   https://staging.nise.bbp.epfl.ch/nexus/v1/proj...   \n",
       "3   https://staging.nise.bbp.epfl.ch/nexus/v1/proj...   \n",
       "4   https://staging.nise.bbp.epfl.ch/nexus/v1/proj...   \n",
       "..                                                ...   \n",
       "95  https://staging.nise.bbp.epfl.ch/nexus/v1/proj...   \n",
       "96  https://staging.nise.bbp.epfl.ch/nexus/v1/proj...   \n",
       "97  https://staging.nise.bbp.epfl.ch/nexus/v1/proj...   \n",
       "98  https://staging.nise.bbp.epfl.ch/nexus/v1/proj...   \n",
       "99  https://staging.nise.bbp.epfl.ch/nexus/v1/proj...   \n",
       "\n",
       "                                                _self  \\\n",
       "0   https://staging.nise.bbp.epfl.ch/nexus/v1/reso...   \n",
       "1   https://staging.nise.bbp.epfl.ch/nexus/v1/reso...   \n",
       "2   https://staging.nise.bbp.epfl.ch/nexus/v1/reso...   \n",
       "3   https://staging.nise.bbp.epfl.ch/nexus/v1/reso...   \n",
       "4   https://staging.nise.bbp.epfl.ch/nexus/v1/reso...   \n",
       "..                                                ...   \n",
       "95  https://staging.nise.bbp.epfl.ch/nexus/v1/reso...   \n",
       "96  https://staging.nise.bbp.epfl.ch/nexus/v1/reso...   \n",
       "97  https://staging.nise.bbp.epfl.ch/nexus/v1/reso...   \n",
       "98  https://staging.nise.bbp.epfl.ch/nexus/v1/reso...   \n",
       "99  https://staging.nise.bbp.epfl.ch/nexus/v1/reso...   \n",
       "\n",
       "                  _updatedAt  \\\n",
       "0   2022-11-11T08:21:05.839Z   \n",
       "1   2022-11-11T08:21:07.047Z   \n",
       "2   2022-11-11T08:21:07.983Z   \n",
       "3   2022-11-11T08:21:09.023Z   \n",
       "4   2022-11-11T08:21:10.288Z   \n",
       "..                       ...   \n",
       "95  2022-11-03T10:58:44.317Z   \n",
       "96  2022-11-03T10:58:48.133Z   \n",
       "97  2022-11-03T10:59:01.652Z   \n",
       "98  2022-11-03T10:59:05.750Z   \n",
       "99  2022-11-03T10:59:08.011Z   \n",
       "\n",
       "                                           _updatedBy  \n",
       "0   https://staging.nise.bbp.epfl.ch/nexus/v1/real...  \n",
       "1   https://staging.nise.bbp.epfl.ch/nexus/v1/real...  \n",
       "2   https://staging.nise.bbp.epfl.ch/nexus/v1/real...  \n",
       "3   https://staging.nise.bbp.epfl.ch/nexus/v1/real...  \n",
       "4   https://staging.nise.bbp.epfl.ch/nexus/v1/real...  \n",
       "..                                                ...  \n",
       "95  https://staging.nise.bbp.epfl.ch/nexus/v1/real...  \n",
       "96  https://staging.nise.bbp.epfl.ch/nexus/v1/real...  \n",
       "97  https://staging.nise.bbp.epfl.ch/nexus/v1/real...  \n",
       "98  https://staging.nise.bbp.epfl.ch/nexus/v1/real...  \n",
       "99  https://staging.nise.bbp.epfl.ch/nexus/v1/real...  \n",
       "\n",
       "[100 rows x 20 columns]"
      ]
     },
     "execution_count": 95,
     "metadata": {},
     "output_type": "execute_result"
    }
   ],
   "source": [
    "# Collect metadata as pandas dataframe \n",
    "reshaped_resources = forge.reshape(resources, keep=[\"id\",\"_store_metadata._self\",\"type\", \"annotation.hasBody.id\", \"annotation.hasBody.label\",\n",
    "                     \"brainLocation.brainRegion.id\", \"brainLocation.brainRegion.label\", \"distribution.atLocation.location\", \"_store_metadata._rev\"])\n",
    "df = forge.as_dataframe(reshaped_resources, store_metadata = True, nesting=\".\")\n",
    "\n",
    "df[\"mtype\"] = df.apply(lambda row: (row.annotation[0][\"hasBody\"][\"label\"],row.annotation[0][\"hasBody\"][\"id\"]) , axis=1) \n",
    "df[\"etype\"] = df.apply(lambda row: (row.annotation[1][\"hasBody\"][\"label\"],row.annotation[1][\"hasBody\"][\"id\"]) , axis=1) \n",
    "type_column = df.pop('type')\n",
    "mtype_column = df.pop('mtype')\n",
    "etype_column = df.pop('etype')\n",
    "\n",
    "df.insert(0, 'type', type_column)\n",
    "df.insert(1, 'mtype', mtype_column)\n",
    "df.insert(2, 'etype', etype_column)\n",
    "\n",
    "df.drop(columns=\"annotation\")\n",
    "\n",
    "df.head(100)"
   ]
  },
  {
   "cell_type": "markdown",
   "metadata": {},
   "source": [
    "### Locally download the density files"
   ]
  },
  {
   "cell_type": "code",
   "execution_count": 97,
   "metadata": {},
   "outputs": [],
   "source": [
    "forge.download(resources, path=\"./test\", follow=\"distribution.contentUrl\", cross_bucket=True, overwrite=True)"
   ]
  },
  {
   "cell_type": "markdown",
   "metadata": {},
   "source": [
    "## Release the densities as CellCompostionVolume entity"
   ]
  },
  {
   "cell_type": "markdown",
   "metadata": {},
   "source": [
    "### Prepare the density release as a json file to be attached as a distribution"
   ]
  },
  {
   "cell_type": "code",
   "execution_count": 101,
   "metadata": {},
   "outputs": [],
   "source": [
    "local_file_name=\"./cellcompositionvolume_release_dataset.json\""
   ]
  },
  {
   "cell_type": "code",
   "execution_count": 102,
   "metadata": {},
   "outputs": [],
   "source": [
    "grouped_by_metype = {}\n",
    "\n",
    "metype_annotations = [(a.hasBody for a in r.annotation) for r in resources] \n",
    "etype_annotations = [a.hasBody for r in resources for a in r.annotation if \"ETypeAnnotation\" in a.type]\n",
    "\n",
    "mtype_to_etype = {}\n",
    "for i, metype_annotation_gen in enumerate(metype_annotations):\n",
    "    metype_annotation_gen_list = list(metype_annotation_gen)\n",
    "\n",
    "    if \"MType\" in metype_annotation_gen_list[0].type:\n",
    "        if metype_annotation_gen_list[0].id not in mtype_to_etype:\n",
    "            mtype_to_etype[metype_annotation_gen_list[0].id] = {\"label\":metype_annotation_gen_list[0].label}\n",
    "        if \"EType\" in metype_annotation_gen_list[1].type and metype_annotation_gen_list[1].id not in mtype_to_etype[metype_annotation_gen_list[0].id]:\n",
    "            mtype_to_etype[metype_annotation_gen_list[0].id][metype_annotation_gen_list[1].id]={\"label\":metype_annotation_gen_list[1].label}\n",
    "        if resources[i].id not in mtype_to_etype[metype_annotation_gen_list[0].id][metype_annotation_gen_list[1].id]:\n",
    "            mtype_to_etype[metype_annotation_gen_list[0].id][metype_annotation_gen_list[1].id][resources[i].id]={\"type\":resources[i].type, \"_rev\":resources[i]._store_metadata._rev}\n",
    "\n",
    "for k, v in mtype_to_etype.items():\n",
    "    if \"hasPart\" not in grouped_by_metype:\n",
    "        grouped_by_metype[\"hasPart\"] = []\n",
    "    k_content ={\"@id\":k, \"label\":v[\"label\"], \"about\":[\"https://neuroshapes.org/MType\"]}    \n",
    "    for kv, vv in v.items():\n",
    "        if  kv!=\"label\":\n",
    "            if 'hasPart' not in k_content:\n",
    "                k_content[\"hasPart\"] = []\n",
    "            kv_content = {\"@id\":kv, \"label\":vv[\"label\"], \"about\":[\"https://neuroshapes.org/EType\"]}\n",
    "            for kvv, vvv in vv.items():\n",
    "                if  kvv!=\"label\":\n",
    "                    if 'hasPart' not in kv_content:\n",
    "                        kv_content[\"hasPart\"] = []\n",
    "                    kv_content[\"hasPart\"].append({\"@id\":kvv, \"@type\":vvv[\"type\"], \"_rev\":vvv[\"_rev\"]})\n",
    "                    k_content[\"hasPart\"].append(kv_content)\n",
    "    grouped_by_metype[\"hasPart\"].append(k_content)\n",
    "\n",
    "with open(local_file_name, \"w\") as f:\n",
    "    json.dump(grouped_by_metype, f)\n"
   ]
  },
  {
   "cell_type": "markdown",
   "metadata": {},
   "source": [
    "### Create and register a new CellCompostionVolume entity\n",
    "* The type AtlasDatasetRelease will be kept for backward compatiblity"
   ]
  },
  {
   "cell_type": "code",
   "execution_count": 105,
   "metadata": {},
   "outputs": [],
   "source": [
    "## Create AtlasDatasetRelease\n",
    "from kgforge.core import Resource\n",
    "from kgforge.specializations.resources import Dataset\n",
    "\n",
    "cell_compostion_volume_release = Dataset(forge_atlas_release, type=[\"Dataset\",\"AtlasDatasetRelease\", \"CellCompositionVolume\"])\n",
    "\n",
    "cell_compostion_volume_release.about = [\"https://bbp.epfl.ch/ontologies/core/bmo/METypeDensity\"]\n",
    "\n",
    "cell_compostion_volume_release.atlasRelease = Resource(id=atlas_release.id, type=atlas_release.type, _rev=atlas_release._store_metadata._rev)\n",
    "\n",
    "brainRegion = Resource(id=\"http://api.brain-map.org/api/v2/data/Structure/997\", label=\"root\")\n",
    "\n",
    "cell_compostion_volume_release.brainLocation= Resource(type=\"BrainLocation\", brainRegion=brainRegion)\n",
    "\n",
    "cell_compostion_volume_release.atlasSpatialReferenceSystem = Resource(id=atlas_release.spatialReferenceSystem.id, \n",
    "                                                            type=atlas_release.spatialReferenceSystem.type,\n",
    "                                                             _rev=atlas_release._store_metadata._rev)\n",
    "\n",
    "subject = Resource.from_json({\n",
    "    \"@type\": \"Subject\",\n",
    "    \"species\": {\n",
    "      \"@id\": \"http://purl.obolibrary.org/obo/NCBITaxon_10090\",\n",
    "      \"label\": \"Mus musculus\"\n",
    "    }\n",
    "  })\n",
    "\n",
    "cell_compostion_volume_release.subject = subject\n",
    "\n",
    "# \n",
    "contribution = [\n",
    "  Resource.from_json({ # Always add EPFL\n",
    "    \"@type\": \"Contribution\",\n",
    "    \"agent\": {\n",
    "      \"@id\": \"https://www.grid.ac/institutes/grid.5333.6\",\n",
    "      \"@type\": [\n",
    "        \"Agent\",\n",
    "        \"Organization\"\n",
    "      ],\n",
    "      \"name\": \"École Polytechnique Fédérale de Lausanne\"\n",
    "    }\n",
    "  }),\n",
    "  Resource.from_json({ # To be changed. The connected user can also be added (info from the token)\n",
    "    \"@type\": \"Contribution\",\n",
    "    \"agent\": {\n",
    "      \"@id\": \"https://bbp.epfl.ch/nexus/v1/realms/bbp/users/sy\",\n",
    "      \"@type\": [\n",
    "        \"Agent\",\n",
    "        \"Person\"\n",
    "      ],\n",
    "      \"name\": \"Mohameth François Sy\"\n",
    "    }\n",
    "  })\n",
    "  \n",
    "  ]\n",
    "cell_compostion_volume_release.contribution = contribution\n",
    "cell_compostion_volume_release.name = \"Transplanted whole brain mouse METypeDensities generated from the atlas pipeline grouped by MType and EType\"\n",
    "\n",
    "cell_compostion_volume_release.description = \"Transplanted whole brain mouse METypeDensities generated from the atlas pipeline grouped by MType and EType\""
   ]
  },
  {
   "cell_type": "code",
   "execution_count": 106,
   "metadata": {},
   "outputs": [
    {
     "name": "stdout",
     "output_type": "stream",
     "text": [
      "{\n",
      "    type:\n",
      "    [\n",
      "        Dataset\n",
      "        AtlasDatasetRelease\n",
      "        CellCompositionVolume\n",
      "    ]\n",
      "    about:\n",
      "    [\n",
      "        https://bbp.epfl.ch/ontologies/core/bmo/METypeDensity\n",
      "    ]\n",
      "    atlasRelease:\n",
      "    {\n",
      "        id: https://bbp.epfl.ch/neurosciencegraph/data/brainatlasrelease/c96c71a8-4c0d-4bc1-8a1a-141d9ed6693d\n",
      "        type:\n",
      "        [\n",
      "            AtlasRelease\n",
      "            BrainAtlasRelease\n",
      "            Entity\n",
      "        ]\n",
      "        _rev: 7\n",
      "    }\n",
      "    atlasSpatialReferenceSystem:\n",
      "    {\n",
      "        id: https://bbp.epfl.ch/neurosciencegraph/data/allen_ccfv3_spatial_reference_system\n",
      "        type: AtlasSpatialReferenceSystem\n",
      "        _rev: 7\n",
      "    }\n",
      "    brainLocation:\n",
      "    {\n",
      "        type: BrainLocation\n",
      "        brainRegion:\n",
      "        {\n",
      "            id: http://api.brain-map.org/api/v2/data/Structure/997\n",
      "            label: root\n",
      "        }\n",
      "    }\n",
      "    contribution:\n",
      "    [\n",
      "        {\n",
      "            @type: Contribution\n",
      "            agent:\n",
      "            {\n",
      "                @id: https://www.grid.ac/institutes/grid.5333.6\n",
      "                @type:\n",
      "                [\n",
      "                    Agent\n",
      "                    Organization\n",
      "                ]\n",
      "                name: École Polytechnique Fédérale de Lausanne\n",
      "            }\n",
      "        }\n",
      "        {\n",
      "            @type: Contribution\n",
      "            agent:\n",
      "            {\n",
      "                @id: https://bbp.epfl.ch/nexus/v1/realms/bbp/users/sy\n",
      "                @type:\n",
      "                [\n",
      "                    Agent\n",
      "                    Person\n",
      "                ]\n",
      "                name: Mohameth François Sy\n",
      "            }\n",
      "        }\n",
      "    ]\n",
      "    description: Transplanted whole brain mouse METypeDensities generated from the atlas pipeline grouped by MType and EType\n",
      "    name: Transplanted whole brain mouse METypeDensities generated from the atlas pipeline grouped by MType and EType\n",
      "    subject:\n",
      "    {\n",
      "        @type: Subject\n",
      "        species:\n",
      "        {\n",
      "            label: Mus musculus\n",
      "            @id: http://purl.obolibrary.org/obo/NCBITaxon_10090\n",
      "        }\n",
      "    }\n",
      "}\n"
     ]
    }
   ],
   "source": [
    "print(cell_compostion_volume_release)"
   ]
  },
  {
   "cell_type": "code",
   "execution_count": 107,
   "metadata": {},
   "outputs": [],
   "source": [
    "cell_compostion_volume_release.distribution = forge_atlas_release.attach(local_file_name,\n",
    "                                                                content_type=\"application/json\")"
   ]
  },
  {
   "cell_type": "code",
   "execution_count": 109,
   "metadata": {},
   "outputs": [
    {
     "data": {
      "text/plain": [
       "'https://neuroshapes.org/dash/cellcompositionvolume'"
      ]
     },
     "execution_count": 109,
     "metadata": {},
     "output_type": "execute_result"
    }
   ],
   "source": [
    "schema_id = forge_atlas_release._model.schema_id(type=\"CellCompositionVolume\")\n",
    "schema_id"
   ]
  },
  {
   "cell_type": "code",
   "execution_count": 110,
   "metadata": {},
   "outputs": [
    {
     "name": "stdout",
     "output_type": "stream",
     "text": [
      "<action> _register_one\n",
      "<succeeded> True\n"
     ]
    }
   ],
   "source": [
    "forge_atlas_release.register(cell_compostion_volume_release, schema_id=schema_id)"
   ]
  },
  {
   "cell_type": "code",
   "execution_count": 111,
   "metadata": {},
   "outputs": [
    {
     "data": {
      "text/plain": [
       "'https://staging.nise.bbp.epfl.ch/nexus/v1/resources/bbp/atlasdatasetrelease/datashapes:cellcompositionvolume/56f57d4f-ca64-40cc-938c-5017ef4f4091'"
      ]
     },
     "execution_count": 111,
     "metadata": {},
     "output_type": "execute_result"
    }
   ],
   "source": [
    "# Address in Nexus Fusion\n",
    "cell_compostion_volume_release._store_metadata._self"
   ]
  },
  {
   "cell_type": "markdown",
   "metadata": {},
   "source": [
    "### Update an existing CellCompostionVolume entity\n"
   ]
  },
  {
   "cell_type": "code",
   "execution_count": 112,
   "metadata": {},
   "outputs": [],
   "source": [
    "cell_compostion_volume_release = forge.retrieve(cell_compostion_volume_release_id,\n",
    "                                                version = cell_compostion_volume_release_version,\n",
    "                                                cross_bucket=True)"
   ]
  },
  {
   "cell_type": "code",
   "execution_count": 113,
   "metadata": {},
   "outputs": [
    {
     "name": "stdout",
     "output_type": "stream",
     "text": [
      "{\n",
      "    context: https://bbp.neuroshapes.org\n",
      "    id: https://bbp.epfl.ch/neurosciencegraph/data/celldensities/760b887c-759a-4ded-98e6-5d2712349eb2\n",
      "    type:\n",
      "    [\n",
      "        CellCompositionVolume\n",
      "        Entity\n",
      "    ]\n",
      "    about:\n",
      "    [\n",
      "        nsg:Neuron\n",
      "        nsg:Glia\n",
      "    ]\n",
      "    atlasRelease:\n",
      "    {\n",
      "        id: https://bbp.epfl.ch/neurosciencegraph/data/831a626a-c0ae-4691-8ce8-cfb7491345d9\n",
      "        type:\n",
      "        [\n",
      "            AtlasRelease\n",
      "            BrainAtlasRelease\n",
      "        ]\n",
      "        _rev: 2\n",
      "    }\n",
      "    brainLocation:\n",
      "    {\n",
      "        type: BrainLocation\n",
      "        brainRegion:\n",
      "        {\n",
      "            id: http://api.brain-map.org/api/v2/data/Structure/997\n",
      "            label: Whole mouse brain\n",
      "        }\n",
      "    }\n",
      "    contribution:\n",
      "    {\n",
      "        type: Contribution\n",
      "        agent:\n",
      "        {\n",
      "            id: https://www.grid.ac/institutes/grid.5333.6\n",
      "            type:\n",
      "            [\n",
      "                Agent\n",
      "                Organization\n",
      "            ]\n",
      "        }\n",
      "    }\n",
      "    description: The cell composition METypeDensities.\n",
      "    distribution:\n",
      "    {\n",
      "        type: DataDownload\n",
      "        atLocation:\n",
      "        {\n",
      "            type: Location\n",
      "            store:\n",
      "            {\n",
      "                id: https://bluebrain.github.io/nexus/vocabulary/diskStorageDefault\n",
      "                type: DiskStorage\n",
      "                _rev: 1\n",
      "            }\n",
      "        }\n",
      "        contentSize:\n",
      "        {\n",
      "            unitCode: bytes\n",
      "            value: 210646\n",
      "        }\n",
      "        contentUrl: https://staging.nise.bbp.epfl.ch/nexus/v1/files/bbp/atlasdatasetrelease/44099f53-2a70-4990-bc3b-25f6d7468ec1\n",
      "        digest:\n",
      "        {\n",
      "            algorithm: SHA-256\n",
      "            value: 2873a9ff62bc1ffcf5a17e8d111b103192dc2048ff2bde8ee0117b52a4e8de27\n",
      "        }\n",
      "        encodingFormat: application/json\n",
      "        name: full_composition_densities.json\n",
      "    }\n",
      "    name: Cell composition densities\n",
      "    subject:\n",
      "    {\n",
      "        type: Subject\n",
      "        species:\n",
      "        {\n",
      "            id: http://purl.obolibrary.org/obo/NCBITaxon_10090\n",
      "            label: Mus musculus\n",
      "        }\n",
      "    }\n",
      "}\n"
     ]
    }
   ],
   "source": [
    "print(cell_compostion_volume_release)"
   ]
  },
  {
   "cell_type": "code",
   "execution_count": 114,
   "metadata": {},
   "outputs": [],
   "source": [
    "cell_compostion_volume_release.distribution = forge_atlas_release.attach(local_file_name,\n",
    "                                                                content_type=\"application/json\")"
   ]
  },
  {
   "cell_type": "code",
   "execution_count": 115,
   "metadata": {},
   "outputs": [
    {
     "name": "stdout",
     "output_type": "stream",
     "text": [
      "<action> _update_one\n",
      "<succeeded> True\n"
     ]
    }
   ],
   "source": [
    "forge_atlas_release.update(cell_compostion_volume_release)"
   ]
  },
  {
   "cell_type": "markdown",
   "metadata": {},
   "source": [
    "### Tag the CellCompostionVolume entity\n"
   ]
  },
  {
   "cell_type": "code",
   "execution_count": 116,
   "metadata": {},
   "outputs": [],
   "source": [
    "new_version = \"v0.3.2\" # add a new version text here (use semantic versioning)"
   ]
  },
  {
   "cell_type": "code",
   "execution_count": 117,
   "metadata": {},
   "outputs": [
    {
     "name": "stdout",
     "output_type": "stream",
     "text": [
      "<action> _tag_one\n",
      "<succeeded> True\n"
     ]
    }
   ],
   "source": [
    "forge_atlas_release.tag(cell_compostion_volume_release, value=new_version)"
   ]
  }
 ],
 "metadata": {
  "kernelspec": {
   "display_name": "Python 3 (ipykernel)",
   "language": "python",
   "name": "python3"
  },
  "language_info": {
   "codemirror_mode": {
    "name": "ipython",
    "version": 3
   },
   "file_extension": ".py",
   "mimetype": "text/x-python",
   "name": "python",
   "nbconvert_exporter": "python",
   "pygments_lexer": "ipython3",
   "version": "3.7.13"
  }
 },
 "nbformat": 4,
 "nbformat_minor": 4
}
