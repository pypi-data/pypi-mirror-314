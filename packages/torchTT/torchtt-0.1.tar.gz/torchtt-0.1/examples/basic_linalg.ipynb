{
 "cells": [
  {
   "cell_type": "markdown",
   "metadata": {},
   "source": [
    "\n",
    "# Basic linear algebra in torchTT\n",
    "\n",
    "\n",
    "This notebook is an introduction into the basic linar algebra operations that can be perfromed using the `torchtt` package.\n",
    "The basic operations such as +,-,*,@,norm,dot product can be performed between `torchtt.TT` instances without computing the full format by computing the TT cores of the result.\n",
    "One exception is the elementwise division between TT objects. For this, no explicit form of the resulting TT cores can be derived and therefore optimization techniques have to be employed (see the notebook `fast_tt_operations.ipynb`).\n",
    "\n",
    "Imports"
   ]
  },
  {
   "cell_type": "code",
   "execution_count": null,
   "metadata": {},
   "outputs": [],
   "source": [
    "import torch as tn\n",
    "try:\n",
    "    import torchtt as tntt\n",
    "except:\n",
    "    print('Installing torchTT...')\n",
    "    %pip install git+https://github.com/ion-g-ion/torchTT\n",
    "    import torchtt as tntt"
   ]
  },
  {
   "cell_type": "markdown",
   "metadata": {},
   "source": [
    "We will create a couple of tensors for the opperations that follow"
   ]
  },
  {
   "cell_type": "code",
   "execution_count": null,
   "metadata": {},
   "outputs": [],
   "source": [
    "N = [10,10,10,10]\n",
    "o = tntt.ones(N)\n",
    "x = tntt.randn(N,[1,4,4,4,1])\n",
    "y = tntt.TT(tn.reshape(tn.arange(N[0]*N[1]*N[2]*N[3], dtype = tn.float64),N))\n",
    "A = tntt.randn([(n,n) for n in N],[1,2,3,4,1])\n",
    "B = tntt.randn([(n,n) for n in N],[1,2,3,4,1])"
   ]
  },
  {
   "cell_type": "markdown",
   "metadata": {},
   "source": [
    "### Addition\n",
    "\n",
    "The TT class has the \"+\" operator implemeted. It performs the addition between TT objects (must have compatible shape and type) and it returns a TT object. \n",
    "One can also add scalars to a TT object (float/int/torch.tensor with 1d).\n",
    "\n",
    "The TT rank of the result is the sum of the ranks of the inputs. This is usually an overshoot and rounding can decrease the rank while maintaining the accuracy.\n",
    "\n",
    "Here are a few examples:"
   ]
  },
  {
   "cell_type": "code",
   "execution_count": null,
   "metadata": {},
   "outputs": [],
   "source": [
    "z = x+y \n",
    "print(z)\n",
    "# adding scalars is also possible\n",
    "z = 1+x+1.0\n",
    "z = z+tn.tensor(1.0)\n",
    "# it works for the TT amtrices too\n",
    "M = A+A+1 \n",
    "print(M)"
   ]
  },
  {
   "attachments": {},
   "cell_type": "markdown",
   "metadata": {},
   "source": [
    "Broadcasting is also available and is similar to the `PyTorch` [broadcasting](https://pytorch.org/docs/stable/notes/broadcasting.html). Tensors in the TT-format can be added even if their shapes are different. The rule is that the number of dimensions of the first operand must be greater or equal to the number of dimensions of the second operand. In the following example a `(4,5)` tensor is added to a `(2,3,4,5)` tensor:"
   ]
  },
  {
   "cell_type": "code",
   "execution_count": null,
   "metadata": {},
   "outputs": [],
   "source": [
    "xx = tntt.random([2,3,4,5],[1,2,3,4,1])\n",
    "yy = tntt.random([4,5],[1,2,1])\n",
    "print(xx+yy)"
   ]
  },
  {
   "attachments": {},
   "cell_type": "markdown",
   "metadata": {},
   "source": [
    "The mode sizes should match starting from the end or the mode size of the second tensor can be 1:"
   ]
  },
  {
   "cell_type": "code",
   "execution_count": null,
   "metadata": {},
   "outputs": [],
   "source": [
    "xx = tntt.random([2,3,4,5],[1,2,3,4,1])\n",
    "yy = tntt.random([1,1,4,5],[1,2,2,2,1])\n",
    "print(xx+yy)"
   ]
  },
  {
   "cell_type": "markdown",
   "metadata": {},
   "source": [
    "### Subtraction\n",
    "\n",
    "The \"-\" operator is also implemented in  the `torchtt.TT` class. It can be used similarily to \"+\" between 2 `torchtt.TT` objects and between a `torchtt.TT` and a scalar.\n",
    "It can also be used as a negation.\n",
    "\n"
   ]
  },
  {
   "cell_type": "code",
   "execution_count": null,
   "metadata": {},
   "outputs": [],
   "source": [
    "v = x-y-1-0.5\n",
    "C = A-B-3.14\n",
    "w = -x+x\n",
    "print(tn.linalg.norm(w.full()))"
   ]
  },
  {
   "attachments": {},
   "cell_type": "markdown",
   "metadata": {},
   "source": [
    "Broadcasting is available for the \"-\" operation as well."
   ]
  },
  {
   "cell_type": "markdown",
   "metadata": {},
   "source": [
    "### Multiplication (elementwise)\n",
    "\n",
    "One can perform the elementwise multiplication $\\mathsf{u}_{i_1...i_d} = \\mathsf{x}_{i_1...i_d} \\mathsf{y}_{i_1...i_d}$ between 2 tensors in the TT format without goin to full format.\n",
    "The main issues of this is that the rank of the result is the product of the ranks of the input TT tensors."
   ]
  },
  {
   "cell_type": "code",
   "execution_count": null,
   "metadata": {},
   "outputs": [],
   "source": [
    "u = x*y\n",
    "print(u)\n",
    "\n",
    "M2 = A*A"
   ]
  },
  {
   "attachments": {},
   "cell_type": "markdown",
   "metadata": {},
   "source": [
    "Broadcasting is available for the \"*\" operation as well."
   ]
  },
  {
   "cell_type": "markdown",
   "metadata": {},
   "source": [
    "### Matrix vector product and matrix matrix product\n",
    "\n",
    "* TT matrix and TT tensor: $(\\mathsf{Ax})_{i_1...i_d} = \\sum\\limits_{j_1...j_d}\\mathsf{A}_{i_1...i_d,j_1...j_d} \\mathsf{x}_{j_1...j_d}$\n",
    "* TT matrix and TT matrix: $(\\mathsf{AB})_{i_1...i_d,k_1...k_d} = \\sum\\limits_{j_1...j_d}\\mathsf{A}_{i_1...i_d,j_1...j_d} \\mathsf{B}_{j_1...j_d,k_1...k_d}$"
   ]
  },
  {
   "cell_type": "code",
   "execution_count": null,
   "metadata": {},
   "outputs": [],
   "source": [
    "print(A@x)\n",
    "print(A@B)\n",
    "print(A@B@x)"
   ]
  },
  {
   "cell_type": "markdown",
   "metadata": {},
   "source": [
    "Multiplication can be performed between a TT operator and a full tensor (in torch.tensor format) the result in this case is a full tn.tensor"
   ]
  },
  {
   "cell_type": "code",
   "execution_count": null,
   "metadata": {},
   "outputs": [],
   "source": [
    "print(A@tn.rand(A.N, dtype = tn.float64))"
   ]
  },
  {
   "cell_type": "markdown",
   "metadata": {},
   "source": [
    "### Kronecker product\n",
    "\n",
    "\n",
    "For computing the Kronecker product one can either use the \"**\" operator or the method `torchtt.kron()`."
   ]
  },
  {
   "cell_type": "code",
   "execution_count": null,
   "metadata": {},
   "outputs": [],
   "source": [
    "print(x**y)\n",
    "print(A**A)"
   ]
  },
  {
   "cell_type": "markdown",
   "metadata": {},
   "source": [
    "### Norm\n",
    "\n",
    "Frobenius norm of a tensor $||\\mathsf{x}||_F^2 = \\sum\\limits_{i_1,...,i_d} \\mathsf{x}_{i_1...i_d}$ can be directly domputed from a TT decomposition."
   ]
  },
  {
   "cell_type": "code",
   "execution_count": null,
   "metadata": {},
   "outputs": [],
   "source": [
    "print(y.norm())\n",
    "print(A.norm())"
   ]
  },
  {
   "cell_type": "markdown",
   "metadata": {},
   "source": [
    "### Dot product and summing along modes\n",
    "\n",
    "One can sum alonf dimensions in `torchtt`. The function is `torchtt.TT.sum()` and can be used without arguments to sum along all dimensions, returning a scalar:"
   ]
  },
  {
   "cell_type": "code",
   "execution_count": null,
   "metadata": {},
   "outputs": [],
   "source": [
    "print('sum() result ', y.sum())\n",
    "print('Must be equal to ', tn.sum(y.full()))"
   ]
  },
  {
   "cell_type": "markdown",
   "metadata": {},
   "source": [
    "If a list of modes is additionally provided, the summing will be performed along the given modes and a `torchtt.TT` object is returned."
   ]
  },
  {
   "cell_type": "code",
   "execution_count": null,
   "metadata": {},
   "outputs": [],
   "source": [
    "print(x.sum(1))\n",
    "print(x.sum([0,1,3]))\n",
    "print(A.sum([1,2]))"
   ]
  },
  {
   "cell_type": "markdown",
   "metadata": {},
   "source": [
    "Dot product between 2 tensors is also possible using the function `tortchtt.dot()`."
   ]
  },
  {
   "cell_type": "code",
   "execution_count": null,
   "metadata": {},
   "outputs": [],
   "source": [
    "print(tntt.dot(y,y))"
   ]
  },
  {
   "cell_type": "markdown",
   "metadata": {},
   "source": [
    "Dot product can be performed between 2 tensors of different mode lengths.\n",
    "The modes alonnd the dot product is performed must be equal.\n",
    "And they are given as a list of integers as an additional argument.\n",
    "The modes given are relative to the first tensor.\n",
    "The returned value is a `torchtt.TT` instance."
   ]
  },
  {
   "cell_type": "code",
   "execution_count": null,
   "metadata": {},
   "outputs": [],
   "source": [
    "t1 = tntt.randn([4,5,6,7,8,9],[1,2,4,4,4,4,1])\n",
    "t2 = tntt.randn([5,7,9],[1,3,3,1])\n",
    "print(tntt.dot(t1,t2,[1,3,5]))"
   ]
  },
  {
   "cell_type": "markdown",
   "metadata": {},
   "source": [
    "### Reshaping\n",
    "\n",
    "Given a tensor in the TT format, one can reshape it similarily as in pytorch or numpy.\n",
    "The method is `torchtt.reshape()` and it taks as argument a `torchtt.TT` object, the new shape, the relative accuracy epsilon and a maximum rank. The last 2 are optional.\n",
    "The method also performs rounding up to the desired accuracy.\n"
   ]
  },
  {
   "cell_type": "code",
   "execution_count": null,
   "metadata": {},
   "outputs": [],
   "source": [
    "q = tntt.TT(tn.reshape(tn.arange(2*3*4*5*7*3, dtype = tn.float64),[2,3,4,5,7,3]))\n",
    "# perform a series of reshapes\n",
    "w = tntt.reshape(q,[12,10,21])\n",
    "print(w)\n",
    "w = tntt.reshape(w,[360,7])\n",
    "print(w)\n",
    "w = tntt.reshape(w,[2,3,4,5,7,3])\n",
    "print('Error ',(w-q).norm()/q.norm())\n"
   ]
  },
  {
   "cell_type": "markdown",
   "metadata": {},
   "source": [
    "Reshape works also for TT matrices. However there are some restrictions such as the merging or spliting of the dimensions must happen within the same core for both row/column indices."
   ]
  },
  {
   "cell_type": "code",
   "execution_count": null,
   "metadata": {},
   "outputs": [],
   "source": [
    "A = tntt.randn([(4,8),(6,4),(5,6),(8,8)],[1,2,3,2,1])\n",
    "B = tntt.reshape(A,[(2,4),(6,4),(10,12),(8,8)])\n",
    "print(B)\n",
    "B = tntt.reshape(B,[(60,32),(16,48)])\n",
    "print(B)\n",
    "B = tntt.reshape(B,[(4,8),(6,4),(5,6),(8,8)])\n",
    "print('Error ',(B-A).norm()/A.norm())\n",
    "\n",
    "# this will not work: tntt.reshape(A,[(24,4),(5,16),(8,24)])"
   ]
  }
 ],
 "metadata": {
  "interpreter": {
   "hash": "df6fc3a9b7a9c6f4b0308ab6eb361a4cabbf6b5db181383d07014ff4304e5cb3"
  },
  "kernelspec": {
   "display_name": "Python 3 (ipykernel)",
   "language": "python",
   "name": "python3"
  },
  "language_info": {
   "codemirror_mode": {
    "name": "ipython",
    "version": 3
   },
   "file_extension": ".py",
   "mimetype": "text/x-python",
   "name": "python",
   "nbconvert_exporter": "python",
   "pygments_lexer": "ipython3",
   "version": "3.10.9"
  }
 },
 "nbformat": 4,
 "nbformat_minor": 2
}
