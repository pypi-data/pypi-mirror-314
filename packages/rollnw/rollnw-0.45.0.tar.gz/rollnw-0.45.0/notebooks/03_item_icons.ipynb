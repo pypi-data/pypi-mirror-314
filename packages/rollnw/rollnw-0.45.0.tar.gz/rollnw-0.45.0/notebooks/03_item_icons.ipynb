{
 "cells": [
  {
   "cell_type": "markdown",
   "metadata": {},
   "source": [
    "### First Things First\n",
    "\n",
    "This notebook is to demonstrate how to create an item icon for the handful of item model types in NWN.  The examples here load objects from the resource manager, but they could be loaded from files.  \n",
    "\n",
    "Notes: \n",
    "\n",
    "1. A full NWN:EE install is required to run this notebook, the docker distro won't work because it strips textures.\n",
    "2. At the end of all these examples the image is flipped, this is because when NWN was created all textures were pre-flipped to be in the format OpenGL expects, rather then to flip them on load as is common today. "
   ]
  },
  {
   "cell_type": "code",
   "execution_count": null,
   "metadata": {},
   "outputs": [],
   "source": [
    "import rollnw\n",
    "from PIL import Image\n",
    "from IPython.display import display\n",
    "\n",
    "rollnw.kernel.start()\n",
    "\n",
    "# If one wanted to load all your modules and haks, one could do so here:\n",
    "mod = rollnw.kernel.load_module(\"../tests/test_data/user/modules/DockerDemo.mod\")"
   ]
  },
  {
   "cell_type": "markdown",
   "metadata": {},
   "source": [
    "#### Simple Items\n",
    "\n",
    "Simple items are just single images, color variaties are explicit.  In the below example, we'll use a small shield:"
   ]
  },
  {
   "cell_type": "code",
   "execution_count": 2,
   "metadata": {},
   "outputs": [
    {
     "data": {
      "image/png": "[encoded data removed]",
      "text/plain": [
       "<PIL.Image.Image image mode=RGBA size=64x64>"
      ]
     },
     "metadata": {},
     "output_type": "display_data"
    }
   ],
   "source": [
    "simple = rollnw.kernel.objects().item(\"x2_smchaosshield\")\n",
    "simple_icon = simple.get_icon_by_part()\n",
    "simple_image = Image.frombytes(\"RGBA\" if simple_icon.channels() == 4 else \"RGB\", (simple_icon.width(), simple_icon.height()), simple_icon.data())\n",
    "mirrored_image = simple_image.transpose(Image.Transpose.FLIP_TOP_BOTTOM)\n",
    "display(mirrored_image)"
   ]
  },
  {
   "cell_type": "markdown",
   "metadata": {},
   "source": [
    "#### Layered Items\n",
    "\n",
    "Layered item icons are single images in the PLT format. Examples: Helmets, Cloaks.  In this example, we'll use a cloak.  The ``Item.get_icon_by_part`` function does all the work of decoding PLT textures and coloring them into RGBA formatted images.\n"
   ]
  },
  {
   "cell_type": "code",
   "execution_count": 3,
   "metadata": {},
   "outputs": [
    {
     "data": {
      "image/png": "[encoded data removed]",
      "text/plain": [
       "<PIL.Image.Image image mode=RGBA size=64x128>"
      ]
     },
     "metadata": {},
     "output_type": "display_data"
    }
   ],
   "source": [
    "layered = rollnw.kernel.objects().item(\"x2_it_drowcl001\")\n",
    "layered_icon = layered.get_icon_by_part()\n",
    "layered_image = Image.frombytes(\"RGBA\" if layered_icon.channels() == 4 else \"RGB\", (layered_icon.width(), layered_icon.height()), layered_icon.data())\n",
    "mirrored_image = layered_image.transpose(Image.Transpose.FLIP_TOP_BOTTOM)\n",
    "display(mirrored_image)"
   ]
  },
  {
   "cell_type": "markdown",
   "metadata": {},
   "source": [
    "#### Compound Items\n",
    "\n",
    "Compound items combine 3 seperate images to produce the final icon.  Examples of this type are weapons and boots.  Below we'll use a Bastard Sword.\n",
    "\n",
    "When combining the images this will draw the bottom first, then the middle, then the top onto to the final image."
   ]
  },
  {
   "cell_type": "code",
   "execution_count": 4,
   "metadata": {},
   "outputs": [
    {
     "data": {
      "image/png": "[encoded data removed]",
      "text/plain": [
       "<PIL.Image.Image image mode=RGBA size=64x128>"
      ]
     },
     "metadata": {},
     "output_type": "display_data"
    }
   ],
   "source": [
    "compound = rollnw.kernel.objects().item(\"nw_wswbs001\")\n",
    "\n",
    "bottom = compound.get_icon_by_part(rollnw.ItemModelParts.model1)\n",
    "bottom_image = Image.frombytes(\"RGBA\" if bottom.channels() == 4 else \"RGB\", (bottom.width(), bottom.height()), bottom.data())\n",
    "\n",
    "middle = compound.get_icon_by_part(rollnw.ItemModelParts.model2)\n",
    "middle_image = Image.frombytes(\"RGBA\" if middle.channels() == 4 else \"RGB\", (middle.width(), middle.height()), middle.data())\n",
    "\n",
    "top = compound.get_icon_by_part(rollnw.ItemModelParts.model3)\n",
    "top_image = Image.frombytes(\"RGBA\" if top.channels() == 4 else \"RGB\", (top.width(), top.height()), top.data())\n",
    "\n",
    "bottom_image.paste(middle_image, (0, 0), middle_image)\n",
    "bottom_image.paste(top_image, (0, 0), top_image)\n",
    "\n",
    "mirrored_image = bottom_image.transpose(Image.Transpose.FLIP_TOP_BOTTOM)\n",
    "display(mirrored_image)"
   ]
  },
  {
   "cell_type": "markdown",
   "metadata": {},
   "source": [
    "#### Armor\n",
    "\n",
    "The last item model type is armor.  Here we combine up 5 images: chest, pelvis, belt, right and left shoulder, and a robe.\n",
    "I haven't investigated the order in which these are drawn by the toolset by default, so this example will go with pelvis, belt, chest, shoulders, and then finally robe. "
   ]
  },
  {
   "cell_type": "code",
   "execution_count": null,
   "metadata": {},
   "outputs": [
    {
     "data": {
      "image/png": "[encoded data removed]",
      "text/plain": [
       "<PIL.Image.Image image mode=RGBA size=64x128>"
      ]
     },
     "metadata": {},
     "output_type": "display_data"
    }
   ],
   "source": [
    "armor = rollnw.kernel.objects().item(\"x2_it_adaplate\")\n",
    "base_image = None\n",
    "\n",
    "parts = [rollnw.ItemModelParts.armor_pelvis,\n",
    "         rollnw.ItemModelParts.armor_belt,\n",
    "         rollnw.ItemModelParts.armor_torso,\n",
    "         rollnw.ItemModelParts.armor_lshoul,\n",
    "         rollnw.ItemModelParts.armor_rshoul,\n",
    "         rollnw.ItemModelParts.armor_robe]\n",
    "\n",
    "for part in parts:\n",
    "    texture = armor.get_icon_by_part(part)\n",
    "    if texture.valid():\n",
    "        image = Image.frombytes(\"RGBA\" if texture.channels() == 4 else \"RGB\", (texture.width(), texture.height()), texture.data())\n",
    "        if base_image is None:\n",
    "            base_image = image\n",
    "        else:\n",
    "            base_image.paste(image, (0, 0), image)\n",
    "\n",
    "if base_image is not None:\n",
    "    mirrored_image = base_image.transpose(Image.Transpose.FLIP_TOP_BOTTOM)\n",
    "    display(mirrored_image)"
   ]
  }
 ],
 "metadata": {
  "kernelspec": {
   "display_name": "venv-arclight",
   "language": "python",
   "name": "python3"
  },
  "language_info": {
   "codemirror_mode": {
    "name": "ipython",
    "version": 3
   },
   "file_extension": ".py",
   "mimetype": "text/x-python",
   "name": "python",
   "nbconvert_exporter": "python",
   "pygments_lexer": "ipython3",
   "version": "3.12.6"
  }
 },
 "nbformat": 4,
 "nbformat_minor": 2
}
