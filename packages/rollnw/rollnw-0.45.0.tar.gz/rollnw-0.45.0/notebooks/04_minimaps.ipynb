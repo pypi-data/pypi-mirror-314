{
 "cells": [
  {
   "cell_type": "markdown",
   "metadata": {},
   "source": [
    "### First Things First\n",
    "\n",
    "This notebook is to demonstrate how to create a minimap from an area.\n",
    "\n",
    "Notes: \n",
    "\n",
    "1. A full NWN:EE install is required to run this notebook, the docker distro won't work because it strips textures."
   ]
  },
  {
   "cell_type": "code",
   "execution_count": 1,
   "metadata": {},
   "outputs": [],
   "source": [
    "import rollnw\n",
    "from rollnw import kernel as nwk\n",
    "from PIL import Image\n",
    "from IPython.display import display\n",
    "import configparser\n",
    "import  sys\n",
    "\n",
    "nwk.start()\n",
    "mod = nwk.load_module(\"../tests/test_data/user/modules/DockerDemo.mod\")\n"
   ]
  },
  {
   "cell_type": "markdown",
   "metadata": {},
   "source": [
    "### Loading an Area \n",
    "\n",
    "Once a module is loaded getting areas is super simple, they're all instantiated like the game, creatures, and all.  *Not* like the toolset that instantiates an area on demand."
   ]
  },
  {
   "cell_type": "code",
   "execution_count": 2,
   "metadata": {},
   "outputs": [
    {
     "name": "stdout",
     "output_type": "stream",
     "text": [
      "Area Size: 4x4\n",
      "Tile Count: 16\n"
     ]
    }
   ],
   "source": [
    "area = mod.get_area(0)\n",
    "print(f\"Area Size: {area.width}x{area.height}\")\n",
    "print(f\"Tile Count: {len(area.tiles)}\")"
   ]
  },
  {
   "cell_type": "markdown",
   "metadata": {},
   "source": [
    "### The Functions\n",
    "\n",
    "``chunks`` is a helper that creates a 2-dimensional list out of a 1-dimensional list by some value ``n``\n",
    "\n",
    "``texture_to_image`` just a simple wrapper to create PIL Images from rollnw Images\n",
    "\n",
    "``area_to_map`` creates the minimap"
   ]
  },
  {
   "cell_type": "code",
   "execution_count": 9,
   "metadata": {},
   "outputs": [],
   "source": [
    "def chunks(l, n):\n",
    "    \"\"\"Cut a slicable object into N length pieces.\n",
    "    \"\"\"\n",
    "    return [l[i:i + n] for i in range(0, len(l), n)]\n",
    "\n",
    "\n",
    "def texture_to_image(resref: str):\n",
    "    image = nwk.resman().texture(resref)\n",
    "    if image.channels() == 4:\n",
    "        return Image.frombytes(\"RGBA\", (image.width(), image.height()), image.data())\n",
    "    else:\n",
    "        return Image.frombytes(\"RGB\", (image.width(), image.height()), image.data())\n",
    "\n",
    "\n",
    "def area_to_map(area: rollnw.Area):\n",
    "    scale    = 1\n",
    "    minimum  = 32\n",
    "    texture_map = {}\n",
    "    config = configparser.ConfigParser()\n",
    "    textures = []\n",
    "    texture_size  = sys.maxsize\n",
    "\n",
    "    set_file = rollnw.kernel.resman().demand(area.tileset_resref + \".set\")\n",
    "    config.read_string(set_file.bytes.decode())\n",
    "\n",
    "    for tile in area.tiles:\n",
    "        texture_name = config.get(f'TILE{tile.id}', 'ImageMap2D').lower()\n",
    "\n",
    "        if not texture_name in texture_map:\n",
    "            texture_map[texture_name] = texture_to_image(texture_name)\n",
    "\n",
    "        image = texture_map[texture_name]\n",
    "\n",
    "        # I chose here to scale all the minimap images to the smallest size so if one is 8x8\n",
    "        # they will all be scaled to 8x8.\n",
    "        texture_size = min(texture_size, image.width)\n",
    "        textures.append((image, tile.orientation))\n",
    "\n",
    "    # Note: The tile list begins in the bottom left corner  so I'm going to reverse so that it\n",
    "    # starts in the top left and draw down rather than up.\n",
    "    textures = chunks(textures, area.width)[::-1]\n",
    "\n",
    "    # minimum minimap tile size 16x16, just so some of the smaller 8x8s are a little larger.\n",
    "    texture_size = max(minimum, texture_size * scale)\n",
    "\n",
    "    image = Image.new('RGBA', (area.width * texture_size,\n",
    "                                 area.height * texture_size))\n",
    "\n",
    "    for h in range(area.height):\n",
    "        for w in range(area.width):\n",
    "            im, rot = textures[h][w]\n",
    "            location = (w * texture_size, h * texture_size)\n",
    "\n",
    "            if im.size[0] != texture_size:\n",
    "                im = im.resize((texture_size, texture_size))\n",
    "\n",
    "            # Note: tile orientation is 0, 1, 2, 3 corresponding to 0, 90, 180, 240, etc\n",
    "            # degrees of rotation, i,e tile.orientation * 90 == rotation in degrees.\n",
    "            image.paste(im.rotate(rot*90), location)\n",
    "\n",
    "    return image\n"
   ]
  },
  {
   "cell_type": "markdown",
   "metadata": {},
   "source": [
    "### Finally\n",
    "\n",
    "Pick an area, make the minimap, and display the image. (This might need to be flipped.)"
   ]
  },
  {
   "cell_type": "code",
   "execution_count": 10,
   "metadata": {},
   "outputs": [
    {
     "data": {
      "image/png": "[encoded data removed]",
      "text/plain": [
       "<PIL.Image.Image image mode=RGBA size=128x128>"
      ]
     },
     "metadata": {},
     "output_type": "display_data"
    }
   ],
   "source": [
    "image = area_to_map(mod.get_area(0))\n",
    "display(image)"
   ]
  }
 ],
 "metadata": {
  "kernelspec": {
   "display_name": "nwscript-lsp-venv",
   "language": "python",
   "name": "python3"
  },
  "language_info": {
   "codemirror_mode": {
    "name": "ipython",
    "version": 3
   },
   "file_extension": ".py",
   "mimetype": "text/x-python",
   "name": "python",
   "nbconvert_exporter": "python",
   "pygments_lexer": "ipython3",
   "version": "3.12.0"
  }
 },
 "nbformat": 4,
 "nbformat_minor": 2
}
