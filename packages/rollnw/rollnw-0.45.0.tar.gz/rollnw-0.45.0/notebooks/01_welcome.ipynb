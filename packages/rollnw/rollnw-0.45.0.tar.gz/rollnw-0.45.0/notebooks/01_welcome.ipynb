{
 "cells": [
  {
   "cell_type": "markdown",
   "id": "d3e4182f-89d8-4b6f-8d53-8d41684fc7e9",
   "metadata": {},
   "source": [
    "# First Things First\n",
    "\n",
    "After `rollnw` is imported it's necessary to start the basic kernel services, i.e. resman, object manager, etc.  In the typical case if you're using NWN:EE, not a lot of configuration is needed and the library should find your installation easily enough.\n",
    "\n",
    "Note: the library does not currently support Path Aliases from nwn.ini, it did once but it seemed not particularly useful."
   ]
  },
  {
   "cell_type": "code",
   "execution_count": null,
   "id": "2b1d2ea8-9cc8-46ba-bddb-1d586aabcd87",
   "metadata": {},
   "outputs": [],
   "source": [
    "import rollnw\n",
    "rollnw.kernel.start()"
   ]
  },
  {
   "cell_type": "markdown",
   "id": "53566207",
   "metadata": {},
   "source": [
    "# Load a module\n",
    "\n",
    "For testing purposes, we'll use the module that's in the tests and comes with official Docker image.  Not much exciting can be done with it."
   ]
  },
  {
   "cell_type": "code",
   "execution_count": null,
   "id": "29168a15",
   "metadata": {},
   "outputs": [],
   "source": [
    "mod = rollnw.kernel.load_module(\"../tests/test_data/user/modules/DockerDemo.mod\")\n",
    "print (f\"This module has {len(mod)} areas\")"
   ]
  },
  {
   "cell_type": "markdown",
   "id": "30b1b7dd",
   "metadata": {},
   "source": [
    "# Interact with an Area"
   ]
  },
  {
   "cell_type": "code",
   "execution_count": null,
   "id": "927b38bb",
   "metadata": {},
   "outputs": [],
   "source": [
    "area = mod.get_area(0)\n",
    "print(f\"Area Size: {area.width}x{area.height}\")\n",
    "print(f\"Tile Count: {len(area.tiles)}\")\n",
    "\n",
    "for tile in area.tiles:\n",
    "    print(f\"  {tile.id}\")"
   ]
  }
 ],
 "metadata": {
  "kernelspec": {
   "display_name": "Python 3 (ipykernel)",
   "language": "python",
   "name": "python3"
  },
  "language_info": {
   "codemirror_mode": {
    "name": "ipython",
    "version": 3
   },
   "file_extension": ".py",
   "mimetype": "text/x-python",
   "name": "python",
   "nbconvert_exporter": "python",
   "pygments_lexer": "ipython3",
   "version": "3.12.0"
  }
 },
 "nbformat": 4,
 "nbformat_minor": 5
}
