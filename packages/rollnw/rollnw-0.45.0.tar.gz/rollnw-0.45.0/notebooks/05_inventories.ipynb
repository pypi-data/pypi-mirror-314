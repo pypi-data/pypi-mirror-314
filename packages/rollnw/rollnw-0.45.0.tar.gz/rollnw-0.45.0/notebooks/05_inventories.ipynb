{
 "cells": [
  {
   "cell_type": "markdown",
   "metadata": {},
   "source": [
    "### First Things First\n",
    "\n",
    "This notebook is to explore inventories, first import `rollnw` and start kernel services."
   ]
  },
  {
   "cell_type": "code",
   "execution_count": null,
   "metadata": {},
   "outputs": [],
   "source": [
    "import rollnw\n",
    "rollnw.kernel.start()"
   ]
  },
  {
   "cell_type": "markdown",
   "metadata": {},
   "source": [
    "#### Creatures\n",
    "\n",
    "In this example the creature is a PC character, but for the purposes of inventories they are the same as a `Creature`.\n",
    "\n",
    "To get a simple frame of reference, `Inventory.debug` generates a textual visualization of where items are located in the inventory. (The for loop is only necessary when working in a notebook.)"
   ]
  },
  {
   "cell_type": "code",
   "execution_count": 4,
   "metadata": {},
   "outputs": [
    {
     "name": "stdout",
     "output_type": "stream",
     "text": [
      "NW_IT_TORCH001\n",
      "Page 1:\n",
      ". . . . . . . . . . \n",
      ". . . . . . . . . . \n",
      ". . . . . . . . . . \n",
      ". . . X . . . . . . \n",
      "X . . X X . . . . . \n",
      "X . . X X . . . . . \n",
      "\n",
      "Page 2:\n",
      "X X . . . . . . . . \n",
      "X X . . . . . . . . \n",
      "X X . . . . . . . . \n",
      ". . . . . . . . . . \n",
      ". . . . . . . . . . \n",
      ". . . . . . . . . . \n",
      "\n"
     ]
    },
    {
     "name": "stderr",
     "output_type": "stream",
     "text": [
      "\u001b[0m\u001b[31m2024-11-06 21:36:27.138 (  13.168s) [        4D6B4B80]                Gff.hpp:157    ERR| gff missing field 'PortraitId'\u001b[0m\n",
      "\u001b[0m\u001b[31m2024-11-06 21:36:27.138 (  13.168s) [        4D6B4B80]                Gff.hpp:157    ERR| gff missing field 'CRAdjust'\u001b[0m\n",
      "\u001b[0m\u001b[31m2024-11-06 21:36:27.138 (  13.168s) [        4D6B4B80]                Gff.hpp:157    ERR| gff missing field 'WalkRate'\u001b[0m\n",
      "\u001b[0m\u001b[31m2024-11-06 21:36:27.138 (  13.168s) [        4D6B4B80]                Gff.hpp:157    ERR| gff missing field 'PerceptionRange'\u001b[0m\n"
     ]
    }
   ],
   "source": [
    "cre = rollnw.Player.from_file(\"../tests/test_data/user/servervault/CDKEY/daeris1.bic\")\n",
    "cre.instantiate() # Make sure the creature is fully loaded.\n",
    "\n",
    "print(cre.inventory.items()[0].common.tag)\n",
    "\n",
    "for line in cre.inventory.debug().splitlines():\n",
    "    print(line)"
   ]
  },
  {
   "cell_type": "markdown",
   "metadata": {},
   "source": [
    "To add an item to an inventory, use `Inventory.add_item`. To check if there is availabe space first, use `Inventory.can_add_item`."
   ]
  },
  {
   "cell_type": "code",
   "execution_count": 5,
   "metadata": {},
   "outputs": [
    {
     "name": "stdout",
     "output_type": "stream",
     "text": [
      "False\n",
      "True\n",
      "Page 1:\n",
      ". . . . . . . . . . \n",
      ". . . . . . . . . . \n",
      ". . . . . . . . . . \n",
      ". X X X . . . . . . \n",
      "X X X X X . . . . . \n",
      "X X X X X . . . . . \n",
      "\n",
      "Page 2:\n",
      "X X . . . . . . . . \n",
      "X X . . . . . . . . \n",
      "X X . . . . . . . . \n",
      ". . . . . . . . . . \n",
      ". . . . . . . . . . \n",
      ". . . . . . . . . . \n",
      "\n"
     ]
    }
   ],
   "source": [
    "item = rollnw.Item.from_file('../tests/test_data/user/development/cloth028.uti')\n",
    "item.instantiate()\n",
    "\n",
    "print(cre.inventory.has_item(item))\n",
    "print(cre.inventory.add_item(item))\n",
    "\n",
    "for line in cre.inventory.debug().splitlines():\n",
    "    print(line)\n"
   ]
  },
  {
   "cell_type": "markdown",
   "metadata": {},
   "source": [
    "There is now a set of armor occupying the columns 2 and 3.  To remove an item, use `Iventory.remove_item`. Note this does not destroy or in anyway change the item, it only removes it from the inventory."
   ]
  },
  {
   "cell_type": "code",
   "execution_count": 6,
   "metadata": {},
   "outputs": [
    {
     "name": "stdout",
     "output_type": "stream",
     "text": [
      "True\n",
      "Page 1:\n",
      ". . . . . . . . . . \n",
      ". . . . . . . . . . \n",
      ". . . . . . . . . . \n",
      ". . . X . . . . . . \n",
      "X . . X X . . . . . \n",
      "X . . X X . . . . . \n",
      "\n",
      "Page 2:\n",
      "X X . . . . . . . . \n",
      "X X . . . . . . . . \n",
      "X X . . . . . . . . \n",
      ". . . . . . . . . . \n",
      ". . . . . . . . . . \n",
      ". . . . . . . . . . \n",
      "\n"
     ]
    }
   ],
   "source": [
    "print(cre.inventory.remove_item(item))\n",
    "\n",
    "for line in cre.inventory.debug().splitlines():\n",
    "    print(line)"
   ]
  }
 ],
 "metadata": {
  "kernelspec": {
   "display_name": "venv-arclight",
   "language": "python",
   "name": "python3"
  },
  "language_info": {
   "codemirror_mode": {
    "name": "ipython",
    "version": 3
   },
   "file_extension": ".py",
   "mimetype": "text/x-python",
   "name": "python",
   "nbconvert_exporter": "python",
   "pygments_lexer": "ipython3",
   "version": "3.12.6"
  }
 },
 "nbformat": 4,
 "nbformat_minor": 2
}
