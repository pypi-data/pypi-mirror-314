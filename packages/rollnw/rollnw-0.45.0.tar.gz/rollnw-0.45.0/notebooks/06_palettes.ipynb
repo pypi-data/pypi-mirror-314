{
 "cells": [
  {
   "cell_type": "markdown",
   "metadata": {},
   "source": [
    "### First Things First\n",
    "\n",
    "This notebook is to explore inventories, first import `rollnw` and start kernel services."
   ]
  },
  {
   "cell_type": "code",
   "execution_count": null,
   "metadata": {},
   "outputs": [],
   "source": [
    "import rollnw\n",
    "import pprint\n",
    "rollnw.kernel.start()"
   ]
  },
  {
   "cell_type": "markdown",
   "metadata": {},
   "source": [
    "### Loading a Palette\n",
    "\n",
    "Palettes are easiest loaded with `rollnw.Palette.from_file` this will transparently load either a gff or a json file. If you have dict representing the palette already you can also call `rollnw.Palette.from_dict`. This would come in more handy if you stored assets in some json database (Python dicts are implicitly convertible to rollnw json and vice verse)\n",
    "\n",
    "The below example below will load a skeleton palette from a json file and will print the resource type that the palette is for."
   ]
  },
  {
   "cell_type": "code",
   "execution_count": 2,
   "metadata": {},
   "outputs": [
    {
     "name": "stdout",
     "output_type": "stream",
     "text": [
      "ResourceType.utc\n"
     ]
    }
   ],
   "source": [
    "palette = rollnw.Palette.from_file(\"../tests/test_data/user/scratch/creaturepal1.itp\")\n",
    "print (palette.resource_type)"
   ]
  },
  {
   "cell_type": "markdown",
   "metadata": {},
   "source": [
    "### Working with Palettes\n",
    "\n",
    "Now its possible to inspect more things about the palette. To get a brief overview dump the whole thing to a string. From there the palette is a very simple tree structure easily walkable by iterating over a nodes `children`\n",
    "\n",
    "Note: currently it is read-only.\n"
   ]
  },
  {
   "cell_type": "code",
   "execution_count": 3,
   "metadata": {},
   "outputs": [
    {
     "name": "stdout",
     "output_type": "stream",
     "text": [
      "{'$type': 'ITP',\n",
      " '$version': 1,\n",
      " 'next_available_id': 3,\n",
      " 'resource_type': 'utc',\n",
      " 'root': [{'name': 'The Office',\n",
      "           'strref': 1,\n",
      "           '|children': [{'id': 0, 'name': 'Bears', 'strref': 2},\n",
      "                         {'id': 1, 'name': 'Beets', 'strref': 3},\n",
      "                         {'id': 2,\n",
      "                          'name': 'Battlestar Galactica',\n",
      "                          'strref': 4}]}]}\n",
      "1\n"
     ]
    }
   ],
   "source": [
    "pprint.pprint(palette.to_dict())\n",
    "print(len(palette.children))"
   ]
  },
  {
   "cell_type": "markdown",
   "metadata": {},
   "source": [
    "### Saving the Palette\n",
    "\n",
    "Palette supports being saved in two formats GFF and JSON. The below lines are commented out solely not to produce files in the note book."
   ]
  },
  {
   "cell_type": "code",
   "execution_count": null,
   "metadata": {},
   "outputs": [],
   "source": [
    "# palette.save(\"creaturepal.itp\", \"gff\")\n",
    "# palette.save(\"creaturepal1.itp\")"
   ]
  }
 ],
 "metadata": {
  "kernelspec": {
   "display_name": "venv-arclight",
   "language": "python",
   "name": "python3"
  },
  "language_info": {
   "codemirror_mode": {
    "name": "ipython",
    "version": 3
   },
   "file_extension": ".py",
   "mimetype": "text/x-python",
   "name": "python",
   "nbconvert_exporter": "python",
   "pygments_lexer": "ipython3",
   "version": "3.12.7"
  }
 },
 "nbformat": 4,
 "nbformat_minor": 2
}
