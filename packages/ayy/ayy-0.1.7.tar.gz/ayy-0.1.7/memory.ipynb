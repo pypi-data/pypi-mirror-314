{
 "cells": [
  {
   "cell_type": "markdown",
   "metadata": {},
   "source": [
    "## Imports"
   ]
  },
  {
   "cell_type": "code",
   "execution_count": 1,
   "metadata": {},
   "outputs": [],
   "source": [
    "from enum import StrEnum\n",
    "from typing import Literal\n",
    "\n",
    "from pydantic import BaseModel, Field\n",
    "\n",
    "from ayy.dialog import (\n",
    "    Dialog,\n",
    "    ModelName,\n",
    "    assistant_message,\n",
    "    create_creator,\n",
    "    dialog_to_kwargs,\n",
    "    user_message,\n",
    ")\n"
   ]
  },
  {
   "cell_type": "markdown",
   "metadata": {},
   "source": [
    "## Memory"
   ]
  },
  {
   "cell_type": "code",
   "execution_count": 2,
   "metadata": {},
   "outputs": [],
   "source": [
    "class MemoryType(StrEnum):\n",
    "    SEMANTIC = \"semantic\"\n",
    "    EPISODIC = \"episodic\"\n",
    "\n",
    "\n",
    "class Memory(BaseModel):\n",
    "    name: str\n",
    "    content: str\n",
    "    confidence: float = Field(default=1.0, ge=0.0, le=1.0)\n",
    "\n",
    "\n",
    "class SemanticCategory(StrEnum):\n",
    "    IDENTITY = \"identity\"\n",
    "    PREFERENCES = \"preferences\"\n",
    "    RELATIONSHIPS = \"relationships\"\n",
    "    SKILLS = \"skills\"\n",
    "    BELIEFS = \"beliefs\"\n",
    "    BACKGROUND = \"background\"\n",
    "    HEALTH = \"health\"\n",
    "    LOCATION = \"location\"\n",
    "    SCHEDULE = \"schedule\"\n",
    "    GOALS = \"goals\"\n",
    "    OTHER = \"other\"\n",
    "\n",
    "\n",
    "class SemanticMemory(Memory):\n",
    "    \"\"\"Facts and knowledge that persist across conversations\"\"\"\n",
    "\n",
    "    type: Literal[MemoryType.SEMANTIC] = MemoryType.SEMANTIC\n",
    "    category: SemanticCategory\n",
    "\n",
    "\n",
    "class EpisodicMemory(Memory):\n",
    "    \"\"\"Experiences and events tied to specific contexts\"\"\"\n",
    "\n",
    "    type: Literal[MemoryType.EPISODIC] = MemoryType.EPISODIC\n",
    "    context: str = Field(description=\"Context this memory is relevant to\")\n",
    "\n",
    "\n",
    "class Summary(BaseModel):\n",
    "    bullet_points: list[str]\n",
    "    semantic_memories: list[SemanticMemory] = Field(default_factory=list)\n",
    "    episodic_memories: list[EpisodicMemory] = Field(default_factory=list)"
   ]
  },
  {
   "cell_type": "markdown",
   "metadata": {},
   "source": [
    "## Prompt"
   ]
  },
  {
   "cell_type": "code",
   "execution_count": 3,
   "metadata": {},
   "outputs": [],
   "source": [
    "SUMMARIZE_MESSAGES = f\"\"\"\n",
    "You are a skilled conversation summarizer. Your task is to analyze a conversation and create a concise, high-level summary that significantly reduces the message volume while preserving essential information.\n",
    "\n",
    "The main purpose of summarization is to condense lengthy conversations into a brief, digestible format. Your summary should be much shorter than the original conversation - aim to capture key points and outcomes rather than listing every exchange. The conversation might already have a summary message at the start with a <summary_of_our_previous_conversation(s)> tag, that means that it was summarized before and has once again gotten too long. Make sure to incorporate that existing summary message into your summary.\n",
    "\n",
    "Create a structured summary that includes:\n",
    "\n",
    "1. Key bullet points that capture the essential flow and important moments of the conversation:\n",
    "   - Focus on outcomes and decisions rather than back-and-forth exchanges\n",
    "   - Combine related exchanges into single points\n",
    "   - Skip pleasantries and redundant information\n",
    "   - Highlight major state changes or decisions\n",
    "\n",
    "2. Semantic memories that should be remembered long-term, such as:\n",
    "   - Permanent facts about participants\n",
    "   - Personal information\n",
    "   - Long-term preferences and traits\n",
    "   - Important rules or instructions\n",
    "   - User feedback for improvement\n",
    "   - Any other unchanging, crucial information\n",
    "\n",
    "3. Episodic memories relevant to ongoing tasks:\n",
    "   - Current context and parameters\n",
    "   - Intermediate steps or results\n",
    "   - Short-term preferences or needs\n",
    "   - Time-sensitive details\n",
    "   - Recent interactions or decisions\n",
    "\n",
    "Focus on extracting meaningful insights while distinguishing between permanent and temporary information. Be concise but comprehensive.\n",
    "\n",
    "Format your response as a structured Summary object with bullet_points, semantic_memories, and episodic_memories fields.\n",
    "\n",
    "Available categories for semantic memories: {SemanticCategory._member_names_}\n",
    "\n",
    "Example conversation:\n",
    "\n",
    "    User: My name is Hamza\n",
    "    Assistant: Hey Hamza, how can I help you today?\n",
    "    User: I'm planning a trip to visit my family in New York. How's the weather there?\n",
    "    Assistant: Let me check the weather for you. It looks like it's currently sunny in New York with temperatures around 75°F (24°C). The forecast shows similar weather for the next few days.\n",
    "    User: I love sunny days! That's perfect for my trip.\n",
    "    Assistant: That's great that the weather aligns with your preferences! Would you like me to help you book a flight to New York?\n",
    "    User: Yes please, I'd prefer a morning flight if possible.\n",
    "    Assistant: I'll look for morning flights. Do you have any specific dates in mind for your travel?\n",
    "    User: Next weekend would be ideal.\n",
    "    Assistant: I found several morning flights for next weekend. There's a direct flight on Saturday at 8:30 AM, arriving at 11:45 AM. Would that work for you?\n",
    "    User: That sounds perfect.\n",
    "    Assistant: Great! I've booked the flight for you. Here are the details:\n",
    "    - Flight AA1234\n",
    "    - Saturday, 8:30 AM departure\n",
    "    - Direct flight to JFK\n",
    "    - Confirmation code: XYZ789\n",
    "    User: Thanks! Could you remind me what time I arrive?\n",
    "    Assistant: Your flight arrives at JFK at 11:45 AM. Would you like me to help arrange transportation from the airport?\n",
    "    User: No thanks, my family will pick me up.\n",
    "    Assistant: Perfect! Let me know if you need anything else regarding your trip.\n",
    "    User: Summarize the conversation so far.\n",
    "    Assistant:\n",
    "      \"bullet_points\": [\n",
    "         \"Trip planning initiated to visit family in New York\",\n",
    "         \"Flight booked: Saturday morning direct flight to JFK\",\n",
    "         \"Airport pickup arranged with family\"\n",
    "      ],\n",
    "      \"semantic_memories\": [\n",
    "         \"name\": \"personal_info\",\n",
    "         \"content\": \"User's name is Hamza\",\n",
    "         \"category\": \"identity\",\n",
    "         \"confidence\": 1.0,\n",
    "         ---\n",
    "         \"name\": \"family_location\",\n",
    "         \"content\": \"Has family in New York\",\n",
    "         \"category\": \"relationships\",\n",
    "         \"confidence\": 1.0,\n",
    "         ---\n",
    "         \"name\": \"travel_preferences\",\n",
    "         \"content\": \"Prefers sunny weather and morning flights\",\n",
    "         \"category\": \"preferences\",\n",
    "         \"confidence\": 0.8,\n",
    "      ],\n",
    "      \"episodic_memories\": [\n",
    "         \"name\": \"flight_booking\",\n",
    "         \"content\":\n",
    "            \"flight_number\": \"AA1234\",\n",
    "            \"departure\": \"8:30 AM Saturday\",\n",
    "            \"arrival\": \"11:45 AM\",\n",
    "            \"confirmation\": \"XYZ789\"\n",
    "         \"context\": \"current_trip\",\n",
    "         \"confidence\": 1.0,\n",
    "         ---\n",
    "         \"name\": \"airport_pickup\",\n",
    "         \"content\": \"Family will provide airport pickup\",\n",
    "         \"context\": \"current_trip\",\n",
    "         \"confidence\": 1.0,\n",
    "      ]\n",
    "\"\"\""
   ]
  },
  {
   "cell_type": "markdown",
   "metadata": {},
   "source": [
    "## Dialog"
   ]
  },
  {
   "cell_type": "code",
   "execution_count": 10,
   "metadata": {},
   "outputs": [],
   "source": [
    "summarizer_dialog = Dialog(\n",
    "    model_name=ModelName.GEMINI_FLASH,\n",
    "    system=SUMMARIZE_MESSAGES,\n",
    "    creation_config={\"temperature\": 0.6},\n",
    "    name=\"summarizer_dialog\",\n",
    ")"
   ]
  },
  {
   "cell_type": "markdown",
   "metadata": {},
   "source": [
    "## Run"
   ]
  },
  {
   "cell_type": "markdown",
   "metadata": {},
   "source": [
    "The `Memory`, `Prompt`, and `Dialog` sections above are already defined in our framework. I've just copied them here for clarity."
   ]
  },
  {
   "cell_type": "code",
   "execution_count": 15,
   "metadata": {},
   "outputs": [],
   "source": [
    "messages = [\n",
    "    user_message(\"I am a barcelona fan, what happened vs bayern?\"),\n",
    "    assistant_message(\"Barcelona won 4-1. Raphinha scored a hat-trick!\"),\n",
    "    user_message(\"wow that's great\"),\n",
    "]\n",
    "creator = create_creator(model_name=summarizer_dialog.model_name)\n",
    "summary: Summary = creator.create(\n",
    "    **dialog_to_kwargs(\n",
    "        dialog=summarizer_dialog, messages=messages + [user_message(\"Summarize the conversation so far.\")]\n",
    "    ),\n",
    "    response_model=Summary,\n",
    ")  # type: ignore"
   ]
  },
  {
   "cell_type": "code",
   "execution_count": 16,
   "metadata": {},
   "outputs": [
    {
     "data": {
      "text/plain": [
       "{'bullet_points': ['User is a Barcelona fan.',\n",
       "  'Inquired about the outcome of Barcelona vs. Bayern match.',\n",
       "  'Match result: Barcelona won 4-1, Raphinha scored a hat-trick.'],\n",
       " 'semantic_memories': [{'name': 'user_football_preference',\n",
       "   'content': 'User is a Barcelona fan',\n",
       "   'confidence': 1.0,\n",
       "   'type': <MemoryType.SEMANTIC: 'semantic'>,\n",
       "   'category': <SemanticCategory.PREFERENCES: 'preferences'>}],\n",
       " 'episodic_memories': [{'name': 'barcelona_bayern_result',\n",
       "   'content': 'Barcelona won 4-1 against Bayern. Raphinha scored a hat-trick.',\n",
       "   'confidence': 1.0,\n",
       "   'type': <MemoryType.EPISODIC: 'episodic'>,\n",
       "   'context': 'football_match_result'}]}"
      ]
     },
     "execution_count": 16,
     "metadata": {},
     "output_type": "execute_result"
    }
   ],
   "source": [
    "summary.model_dump()"
   ]
  },
  {
   "cell_type": "code",
   "execution_count": null,
   "metadata": {},
   "outputs": [],
   "source": []
  },
  {
   "cell_type": "code",
   "execution_count": null,
   "metadata": {},
   "outputs": [],
   "source": []
  }
 ],
 "metadata": {
  "kernelspec": {
   "display_name": ".venv",
   "language": "python",
   "name": "python3"
  },
  "language_info": {
   "codemirror_mode": {
    "name": "ipython",
    "version": 3
   },
   "file_extension": ".py",
   "mimetype": "text/x-python",
   "name": "python",
   "nbconvert_exporter": "python",
   "pygments_lexer": "ipython3",
   "version": "3.12.7"
  }
 },
 "nbformat": 4,
 "nbformat_minor": 2
}
