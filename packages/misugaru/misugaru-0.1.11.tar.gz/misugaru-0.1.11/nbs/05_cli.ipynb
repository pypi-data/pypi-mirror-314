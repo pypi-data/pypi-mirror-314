{
 "cells": [
  {
   "cell_type": "markdown",
   "metadata": {},
   "source": [
    "# cli\n",
    "\n",
    "> Fill in a module description here"
   ]
  },
  {
   "cell_type": "code",
   "execution_count": null,
   "metadata": {},
   "outputs": [],
   "source": [
    "#| default_exp cli"
   ]
  },
  {
   "cell_type": "code",
   "execution_count": null,
   "metadata": {},
   "outputs": [],
   "source": [
    "%load_ext autoreload\n",
    "\n",
    "%autoreload 2"
   ]
  },
  {
   "cell_type": "code",
   "execution_count": null,
   "metadata": {},
   "outputs": [],
   "source": [
    "#| hide\n",
    "from nbdev.showdoc import *\n"
   ]
  },
  {
   "cell_type": "code",
   "execution_count": null,
   "metadata": {},
   "outputs": [],
   "source": [
    "#| export\n",
    "\n",
    "from pathlib import Path\n",
    "\n",
    "from misugaru.data import Data\n",
    "from misugaru.train import train_models\n",
    "from misugaru.score import score\n",
    "from misugaru.confidence import confidence\n",
    "from misugaru.core import *"
   ]
  },
  {
   "cell_type": "code",
   "execution_count": null,
   "metadata": {},
   "outputs": [],
   "source": [
    "#| export\n",
    "\n",
    "def main(path_psm: Path, out_dir: Path, test_fdr: float=0.01, subset_max_train: int=10000):\n",
    "    data = Data(path_psm)\n",
    "    models = train_models(data, test_fdr=test_fdr, subset_max_train=subset_max_train)\n",
    "    scores = score(data, models)\n",
    "    confidence(scores, data, out_dir)\n",
    "\n"
   ]
  },
  {
   "cell_type": "code",
   "execution_count": null,
   "metadata": {},
   "outputs": [
    {
     "name": "stderr",
     "output_type": "stream",
     "text": [
      "Caught exception while deleting temp files: [Errno 2] No such file or directory: '~/repos/misugaru/data/scores_metadata_0.parquet'\n"
     ]
    }
   ],
   "source": [
    "path = Path(\"~/repos/misugaru/data/10k_psms_test.parquet\")\n",
    "out_dir = Path(\"~/repos/misugaru/data/\")\n",
    "misugaru(path, out_dir)"
   ]
  },
  {
   "cell_type": "code",
   "execution_count": null,
   "metadata": {},
   "outputs": [
    {
     "name": "stderr",
     "output_type": "stream",
     "text": [
      "Caught exception while deleting temp files: [Errno 2] No such file or directory: '~/repos/misugaru/data/scores_metadata_0.parquet'\n",
      "Caught exception while deleting temp files: [Errno 2] No such file or directory: '~/repos/misugaru/data/scores_metadata_0.parquet'\n",
      "Caught exception while deleting temp files: [Errno 2] No such file or directory: '~/repos/misugaru/data/scores_metadata_0.parquet'\n",
      "Caught exception while deleting temp files: [Errno 2] No such file or directory: '~/repos/misugaru/data/scores_metadata_0.parquet'\n",
      "Caught exception while deleting temp files: [Errno 2] No such file or directory: '~/repos/misugaru/data/scores_metadata_0.parquet'\n",
      "Caught exception while deleting temp files: [Errno 2] No such file or directory: '~/repos/misugaru/data/scores_metadata_0.parquet'\n",
      "Caught exception while deleting temp files: [Errno 2] No such file or directory: '~/repos/misugaru/data/scores_metadata_0.parquet'\n",
      "Caught exception while deleting temp files: [Errno 2] No such file or directory: '~/repos/misugaru/data/scores_metadata_0.parquet'\n"
     ]
    },
    {
     "name": "stdout",
     "output_type": "stream",
     "text": [
      "566 ms ± 8.91 ms per loop (mean ± std. dev. of 7 runs, 1 loop each)\n"
     ]
    }
   ],
   "source": [
    "%%timeit\n",
    "\n",
    "main(path, out_dir)"
   ]
  },
  {
   "cell_type": "code",
   "execution_count": null,
   "metadata": {},
   "outputs": [],
   "source": [
    "#| hide\n",
    "import nbdev; nbdev.nbdev_export()"
   ]
  },
  {
   "cell_type": "code",
   "execution_count": null,
   "metadata": {},
   "outputs": [],
   "source": []
  }
 ],
 "metadata": {
  "kernelspec": {
   "display_name": "python3",
   "language": "python",
   "name": "python3"
  }
 },
 "nbformat": 4,
 "nbformat_minor": 4
}
