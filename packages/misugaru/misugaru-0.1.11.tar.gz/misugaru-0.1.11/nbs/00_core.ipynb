{
 "cells": [
  {
   "cell_type": "markdown",
   "metadata": {},
   "source": [
    "# core\n",
    "\n",
    "> Fill in a module description here"
   ]
  },
  {
   "cell_type": "markdown",
   "metadata": {},
   "source": [
    "# Chimerys calling Mokapot\n",
    "\n",
    "```sh\n",
    "  python -m mokapot.mokapot --max_workers \"${MS8_CHIMERYS_CORES}\" --init_weights \"${MOKAPOT_MODEL_FOLDER}\" \\\n",
    "       --test_fdr 0.01 --verbosity 2 \\\n",
    "       --dest_dir \"${TMP_FOLDER}\" \\\n",
    "       --rescale \\\n",
    "       --ensemble \\\n",
    "       --peps_algorithm hist_nnls \\\n",
    "       --suppress_warnings \\\n",
    "       --keep_decoys ${SKIP_DEDUPLICATION_FLAG} \\\n",
    "       --sqlite_db_path ${FINAL_FDR_ASSIGNMENT_DB} \\\n",
    "       \"${TMP_FOLDER}\"/percolator-noSplit.parquet\n",
    "```"
   ]
  },
  {
   "cell_type": "code",
   "execution_count": null,
   "metadata": {},
   "outputs": [],
   "source": [
    "import numpy as np"
   ]
  },
  {
   "cell_type": "code",
   "execution_count": null,
   "metadata": {},
   "outputs": [],
   "source": [
    "N_FOLDS = 3\n",
    "MAX_WORKERS = 8\n",
    "RNG = np.random.default_rng(42)\n",
    "TEST_FDR = 0.01"
   ]
  }
 ],
 "metadata": {
  "kernelspec": {
   "display_name": "Python 3 (ipykernel)",
   "language": "python",
   "name": "python3"
  },
  "language_info": {
   "codemirror_mode": {
    "name": "ipython",
    "version": 3
   },
   "file_extension": ".py",
   "mimetype": "text/x-python",
   "name": "python",
   "nbconvert_exporter": "python",
   "pygments_lexer": "ipython3",
   "version": "3.12.5"
  }
 },
 "nbformat": 4,
 "nbformat_minor": 4
}
