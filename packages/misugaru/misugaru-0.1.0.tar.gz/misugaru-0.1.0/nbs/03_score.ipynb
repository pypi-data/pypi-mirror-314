{
 "cells": [
  {
   "cell_type": "markdown",
   "metadata": {},
   "source": [
    "# score\n",
    "\n",
    "> Fill in a module description here"
   ]
  },
  {
   "cell_type": "code",
   "execution_count": null,
   "metadata": {},
   "outputs": [],
   "source": [
    "#| default_exp score"
   ]
  },
  {
   "cell_type": "code",
   "execution_count": null,
   "metadata": {},
   "outputs": [],
   "source": [
    "%load_ext autoreload\n",
    "\n",
    "%autoreload 2"
   ]
  },
  {
   "cell_type": "code",
   "execution_count": null,
   "metadata": {},
   "outputs": [],
   "source": [
    "#| hide\n",
    "from nbdev.showdoc import *"
   ]
  },
  {
   "cell_type": "code",
   "execution_count": 1,
   "metadata": {},
   "outputs": [],
   "source": [
    "#| export\n",
    "\n",
    "from pathlib import Path\n",
    "\n",
    "from mokapot.model import PercolatorModel\n",
    "from mokapot.brew import _predict_with_ensemble\n",
    "\n",
    "from misugaru.data import Data\n",
    "from misugaru.train import train_models\n",
    "from misugaru.core import *"
   ]
  },
  {
   "cell_type": "code",
   "execution_count": 2,
   "metadata": {},
   "outputs": [],
   "source": [
    "#| export\n",
    "\n",
    "def score(data: Data, models: [PercolatorModel, PercolatorModel, PercolatorModel]):          \n",
    "    scores = _predict_with_ensemble(\n",
    "        dataset=data.psms,\n",
    "        models=models,\n",
    "        max_workers=MAX_WORKERS,\n",
    "    )\n",
    "    return scores"
   ]
  },
  {
   "cell_type": "code",
   "execution_count": 4,
   "metadata": {},
   "outputs": [
    {
     "data": {
      "text/plain": [
       "A trained mokapot.model.Model object:\n",
       "\testimator: LinearSVC(class_weight={0: 1, 1: 1}, dual=False, random_state=7)\n",
       "\tscaler: StandardScaler()\n",
       "\tfeatures: ['Mass', 'MS8_feature_5', 'missedCleavages', 'MS8_feature_7', 'MS8_feature_13', 'MS8_feature_20', 'MS8_feature_21', 'MS8_feature_22', 'MS8_feature_24', 'MS8_feature_29', 'MS8_feature_30', 'MS8_feature_32']"
      ]
     },
     "execution_count": 4,
     "metadata": {},
     "output_type": "execute_result"
    }
   ],
   "source": [
    "# Usage\n",
    "path = Path(\"~/repos/matcha/data/10k_psms_test.parquet\")\n",
    "data = Data(path)\n",
    "models = train_models(data, subset_max_train=10000)\n",
    "models[0]"
   ]
  },
  {
   "cell_type": "code",
   "execution_count": 5,
   "metadata": {},
   "outputs": [
    {
     "data": {
      "text/plain": [
       "array([-4.59757239, -5.8030606 , -2.87458003, -3.29725841, -4.0470926 ,\n",
       "       -2.51672027, -2.43632371, -2.77665253,  3.46575702, -2.88929626])"
      ]
     },
     "execution_count": 5,
     "metadata": {},
     "output_type": "execute_result"
    }
   ],
   "source": [
    "x = score(data, models)\n",
    "x[:10]"
   ]
  },
  {
   "cell_type": "code",
   "execution_count": null,
   "metadata": {},
   "outputs": [
    {
     "data": {
      "text/plain": [
       "True"
      ]
     },
     "execution_count": null,
     "metadata": {},
     "output_type": "execute_result"
    }
   ],
   "source": [
    "x.shape[0] == data.size"
   ]
  },
  {
   "cell_type": "code",
   "execution_count": null,
   "metadata": {},
   "outputs": [],
   "source": [
    "#| hide\n",
    "import nbdev; nbdev.nbdev_export()"
   ]
  },
  {
   "cell_type": "code",
   "execution_count": null,
   "metadata": {},
   "outputs": [],
   "source": []
  }
 ],
 "metadata": {
  "kernelspec": {
   "display_name": "Python 3 (ipykernel)",
   "language": "python",
   "name": "python3"
  },
  "language_info": {
   "codemirror_mode": {
    "name": "ipython",
    "version": 3
   },
   "file_extension": ".py",
   "mimetype": "text/x-python",
   "name": "python",
   "nbconvert_exporter": "python",
   "pygments_lexer": "ipython3",
   "version": "3.12.5"
  }
 },
 "nbformat": 4,
 "nbformat_minor": 4
}
