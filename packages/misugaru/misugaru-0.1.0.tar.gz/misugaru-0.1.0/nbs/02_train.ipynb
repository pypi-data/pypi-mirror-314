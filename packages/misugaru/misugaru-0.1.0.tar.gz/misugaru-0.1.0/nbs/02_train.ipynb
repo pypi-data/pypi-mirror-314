{
 "cells": [
  {
   "cell_type": "markdown",
   "metadata": {},
   "source": [
    "# train\n",
    "\n",
    "> Fill in a module description here"
   ]
  },
  {
   "cell_type": "code",
   "execution_count": 1,
   "metadata": {},
   "outputs": [],
   "source": [
    "#| export\n",
    "from pathlib import Path\n",
    "from joblib import Parallel, delayed\n",
    "import copy\n",
    "import numpy as np\n",
    "\n",
    "from mokapot.model import PercolatorModel\n",
    "from mokapot.brew import _fit_model\n",
    "\n",
    "from misugaru.core import *\n",
    "from misugaru.data import Data"
   ]
  },
  {
   "cell_type": "code",
   "execution_count": 2,
   "metadata": {},
   "outputs": [],
   "source": [
    "RNG = np.random.default_rng(42)\n",
    "N_FOLDS = 3\n",
    "\n",
    "def train_models(\n",
    "    data: Data,\n",
    "    subset_max_train: int,\n",
    ") -> [PercolatorModel, PercolatorModel, PercolatorModel]:  \n",
    "    \n",
    "    model = PercolatorModel()\n",
    "    model.rng = RNG\n",
    "    psm_folds = data.get_train_psms_splits(n_subset=subset_max_train)\n",
    "    \n",
    "    # fitted looks like so:\n",
    "    # `[(model_a: PercolatorModel, reset_a: bool), (model_b, reset_b), (model_c, reset_c)]`\n",
    "    fitted = Parallel(n_jobs=N_FOLDS, require=\"sharedmem\")(\n",
    "        delayed(_fit_model)(x, [data.psms], copy.deepcopy(model), i)\n",
    "        for i, x in enumerate(psm_folds)\n",
    "    )\n",
    "    # sort by fold for a deterministic order\n",
    "    models, needs_reset = zip(*sorted(fitted, key=lambda x: x[0].fold))\n",
    "    if any(needs_reset):\n",
    "        # TODO: create specific exception\n",
    "        raise ValueError(\"Model training failed\")\n",
    "    return models"
   ]
  },
  {
   "cell_type": "code",
   "execution_count": 3,
   "metadata": {},
   "outputs": [],
   "source": [
    "# Usage\n",
    "path = Path(\"~/repos/matcha/data/10k_psms_test.parquet\")\n",
    "data = Data(path)\n",
    "\n",
    "models = train_models(data, subset_max_train=10000)"
   ]
  },
  {
   "cell_type": "code",
   "execution_count": 4,
   "metadata": {},
   "outputs": [],
   "source": [
    "assert len(models) == N_FOLDS"
   ]
  },
  {
   "cell_type": "code",
   "execution_count": 5,
   "metadata": {},
   "outputs": [
    {
     "data": {
      "text/plain": [
       "A trained mokapot.model.Model object:\n",
       "\testimator: LinearSVC(class_weight={0: 10, 1: 10}, dual=False, random_state=7)\n",
       "\tscaler: StandardScaler()\n",
       "\tfeatures: ['Mass', 'MS8_feature_5', 'missedCleavages', 'MS8_feature_7', 'MS8_feature_13', 'MS8_feature_20', 'MS8_feature_21', 'MS8_feature_22', 'MS8_feature_24', 'MS8_feature_29', 'MS8_feature_30', 'MS8_feature_32']"
      ]
     },
     "execution_count": 5,
     "metadata": {},
     "output_type": "execute_result"
    }
   ],
   "source": [
    "models[0]"
   ]
  },
  {
   "cell_type": "code",
   "execution_count": null,
   "metadata": {},
   "outputs": [],
   "source": []
  }
 ],
 "metadata": {
  "kernelspec": {
   "display_name": "Python 3 (ipykernel)",
   "language": "python",
   "name": "python3"
  },
  "language_info": {
   "codemirror_mode": {
    "name": "ipython",
    "version": 3
   },
   "file_extension": ".py",
   "mimetype": "text/x-python",
   "name": "python",
   "nbconvert_exporter": "python",
   "pygments_lexer": "ipython3",
   "version": "3.12.5"
  }
 },
 "nbformat": 4,
 "nbformat_minor": 4
}
