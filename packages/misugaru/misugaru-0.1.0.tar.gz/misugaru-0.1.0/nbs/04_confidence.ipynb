{
 "cells": [
  {
   "cell_type": "markdown",
   "metadata": {},
   "source": [
    "# confidence\n",
    "\n",
    "> Fill in a module description here"
   ]
  },
  {
   "cell_type": "code",
   "execution_count": 1,
   "metadata": {},
   "outputs": [],
   "source": [
    "from pathlib import Path\n",
    "from mokapot.confidence import assign_confidence\n",
    "\n",
    "from misugaru.data import Data\n",
    "from misugaru.train import train_models\n",
    "from misugaru.score import score\n",
    "from misugaru.core import *"
   ]
  },
  {
   "cell_type": "code",
   "execution_count": 2,
   "metadata": {},
   "outputs": [],
   "source": [
    "def confidence(scores, data, dest_dir, eval_fdr=0.01):\n",
    "    assign_confidence(\n",
    "        datasets=[data.psms],\n",
    "        scores_list=[scores],\n",
    "        max_workers=MAX_WORKERS,\n",
    "        eval_fdr=eval_fdr,\n",
    "        dest_dir=dest_dir,\n",
    "        write_decoys=True,\n",
    "        deduplication=False,\n",
    "        do_rollup=True,\n",
    "        prefixes=[\"\"],\n",
    "        rng=RNG,\n",
    "        peps_error=False,\n",
    "        peps_algorithm=\"hist_nnls\",\n",
    "        qvalue_algorithm=\"tdc\",\n",
    "        stream_confidence=True\n",
    "    )"
   ]
  },
  {
   "cell_type": "code",
   "execution_count": 4,
   "metadata": {},
   "outputs": [
    {
     "name": "stderr",
     "output_type": "stream",
     "text": [
      "Caught exception while deleting temp files: [Errno 2] No such file or directory: '~/repos/misugaru/data/scores_metadata_0.parquet'\n"
     ]
    }
   ],
   "source": [
    "# Usage\n",
    "path = Path(\"~/repos/misugaru/data/10k_psms_test.parquet\")\n",
    "data = Data(path)\n",
    "models = train_models(data, subset_max_train=10000)\n",
    "scores = score(data, models)\n",
    "out_dir = Path(\"~/repos/misugaru/data/\")\n",
    "confidence(scores, data, out_dir)"
   ]
  },
  {
   "cell_type": "code",
   "execution_count": null,
   "metadata": {},
   "outputs": [],
   "source": []
  }
 ],
 "metadata": {
  "kernelspec": {
   "display_name": "Python 3 (ipykernel)",
   "language": "python",
   "name": "python3"
  },
  "language_info": {
   "codemirror_mode": {
    "name": "ipython",
    "version": 3
   },
   "file_extension": ".py",
   "mimetype": "text/x-python",
   "name": "python",
   "nbconvert_exporter": "python",
   "pygments_lexer": "ipython3",
   "version": "3.12.5"
  }
 },
 "nbformat": 4,
 "nbformat_minor": 4
}
