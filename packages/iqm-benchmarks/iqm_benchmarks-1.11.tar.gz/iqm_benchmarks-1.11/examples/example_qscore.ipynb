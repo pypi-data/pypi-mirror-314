{
 "cells": [
  {
   "cell_type": "code",
   "execution_count": null,
   "id": "716a840b",
   "metadata": {},
   "outputs": [],
   "source": [
    "%load_ext autoreload\n",
    "%autoreload 2\n",
    "\n",
    "# Optimization\n",
    "from iqm.benchmarks.optimization.qscore import QScoreConfiguration\n",
    "\n",
    "# General BenchmarkExperiment\n",
    "from iqm.benchmarks.benchmark_experiment import BenchmarkExperiment"
   ]
  },
  {
   "cell_type": "markdown",
   "id": "4851640a-b939-491e-b63c-0153c6102bb0",
   "metadata": {},
   "source": [
    "# Choose (or define) a backend"
   ]
  },
  {
   "cell_type": "code",
   "execution_count": null,
   "id": "38a4239d",
   "metadata": {},
   "outputs": [],
   "source": [
    "backend = \"IQMFakeAdonis\"\n",
    "#backend = \"IQMFakeApollo\"\n",
    "#backend = \"garnet\"\n",
    "#backend = \"deneb\""
   ]
  },
  {
   "cell_type": "markdown",
   "id": "3dafe516",
   "metadata": {},
   "source": [
    "# -- Benchmark configuration --"
   ]
  },
  {
   "cell_type": "markdown",
   "id": "e0d29ef2",
   "metadata": {},
   "source": [
    "### Q-Score"
   ]
  },
  {
   "cell_type": "code",
   "execution_count": null,
   "id": "48d47021",
   "metadata": {},
   "outputs": [],
   "source": [
    "EXAMPLE_QSCORE = QScoreConfiguration(\n",
    "    num_instances = 100,\n",
    "    num_qaoa_layers= 1,\n",
    "    shots = 20_000,\n",
    "    calset_id=None, # calibration set ID, default is None\n",
    "    min_num_nodes =  2,\n",
    "    max_num_nodes = 5,\n",
    "    use_virtual_node = True,\n",
    "    use_classically_optimized_angles = True,\n",
    "    choose_qubits_routine = \"custom\",\n",
    "    custom_qubits_array=[[2],\n",
    "                    [2, 0],\n",
    "                    [2, 0, 1],\n",
    "                    [2, 0, 1, 3],\n",
    "                    [2, 0, 1, 3, 4]],\n",
    "    seed = 1\n",
    "    )"
   ]
  },
  {
   "cell_type": "markdown",
   "id": "78dba9d7",
   "metadata": {},
   "source": [
    "# -- Running the experiment --"
   ]
  },
  {
   "cell_type": "code",
   "execution_count": null,
   "id": "c1d20d57-1781-4798-9bb3-81a8103b2e61",
   "metadata": {},
   "outputs": [],
   "source": [
    "benchmark_list = [ EXAMPLE_QSCORE]"
   ]
  },
  {
   "cell_type": "code",
   "execution_count": null,
   "id": "2996e29d",
   "metadata": {},
   "outputs": [],
   "source": [
    "EXAMPLE_EXPERIMENT = BenchmarkExperiment(backend, benchmark_list)\n",
    "EXAMPLE_EXPERIMENT.run_experiment()"
   ]
  },
  {
   "cell_type": "code",
   "execution_count": null,
   "id": "c296eaea",
   "metadata": {},
   "outputs": [],
   "source": []
  }
 ],
 "metadata": {
  "kernelspec": {
   "display_name": "Python 3 (ipykernel)",
   "language": "python",
   "name": "python3"
  },
  "language_info": {
   "codemirror_mode": {
    "name": "ipython",
    "version": 3
   },
   "file_extension": ".py",
   "mimetype": "text/x-python",
   "name": "python",
   "nbconvert_exporter": "python",
   "pygments_lexer": "ipython3",
   "version": "3.11.2"
  }
 },
 "nbformat": 4,
 "nbformat_minor": 5
}
