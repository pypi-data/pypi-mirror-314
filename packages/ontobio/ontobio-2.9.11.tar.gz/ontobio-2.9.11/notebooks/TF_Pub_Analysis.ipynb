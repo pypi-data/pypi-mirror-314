{
 "cells": [
  {
   "cell_type": "markdown",
   "metadata": {},
   "source": [
    "## Distribution of publication count for Dmel TF genes\n",
    "\n",
    "For each TF gene, count the number of *curated* publications, using data from GO and Monarch"
   ]
  },
  {
   "cell_type": "code",
   "execution_count": 28,
   "metadata": {},
   "outputs": [],
   "source": [
    "import ontobio.golr.golr_associations as ga"
   ]
  },
  {
   "cell_type": "code",
   "execution_count": 5,
   "metadata": {},
   "outputs": [
    {
     "data": {
      "text/plain": [
       "478"
      ]
     },
     "execution_count": 5,
     "metadata": {},
     "output_type": "execute_result"
    }
   ],
   "source": [
    "# Fetch all Dmel TF genes\n",
    "DNA_BINDING_TF = 'GO:0003700'\n",
    "DMEL = 'NCBITaxon:7227'\n",
    "tf_genes = ga.get_subjects_for_object(object=DNA_BINDING_TF, subject_taxon=DMEL)\n",
    "len(tf_genes)"
   ]
  },
  {
   "cell_type": "code",
   "execution_count": 33,
   "metadata": {},
   "outputs": [
    {
     "data": {
      "text/plain": [
       "140"
      ]
     },
     "execution_count": 33,
     "metadata": {},
     "output_type": "execute_result"
    }
   ],
   "source": [
    "# Routine to go to GO and Monarch to fetch all annotations for a gene\n",
    "def get_pubs_for_gene(g):\n",
    "    \n",
    "    # Monarch\n",
    "    r = ga.search_associations(subject=g, rows=-1)\n",
    "    pubs = set()\n",
    "    for a in r['associations']:\n",
    "        pl = a['publications']\n",
    "        if pl is not None:\n",
    "            pubs.update([p['id'] for p in pl if p['id'].startswith('PMID')])\n",
    "    \n",
    "    # GO\n",
    "    r = ga.search_associations(subject=g, rows=-1, object_category='function')\n",
    "    for a in r['associations']:\n",
    "        pl = a['reference']\n",
    "        if pl is not None:\n",
    "            pubs.update([p for p in pl if p.startswith('PMID')])\n",
    "   \n",
    "    return pubs\n",
    "    \n",
    "len(get_pubs_for_gene(tf_genes[0]))"
   ]
  },
  {
   "cell_type": "code",
   "execution_count": 15,
   "metadata": {},
   "outputs": [],
   "source": [
    "# find all gene,numberOfPub pairs\n",
    "pairs = []\n",
    "for g in tf_genes:\n",
    "    np = len(get_pubs_for_gene(g))\n",
    "    pairs.append((g,np))\n",
    "    "
   ]
  },
  {
   "cell_type": "code",
   "execution_count": 16,
   "metadata": {},
   "outputs": [
    {
     "data": {
      "text/plain": [
       "[140, 97, 34, 107, 110]"
      ]
     },
     "execution_count": 16,
     "metadata": {},
     "output_type": "execute_result"
    }
   ],
   "source": [
    "# Check\n",
    "vals = [np for _,np in pairs]\n",
    "vals[0:5]"
   ]
  },
  {
   "cell_type": "code",
   "execution_count": 20,
   "metadata": {},
   "outputs": [
    {
     "data": {
      "text/plain": [
       "['FB:FBgn0085253']"
      ]
     },
     "execution_count": 20,
     "metadata": {},
     "output_type": "execute_result"
    }
   ],
   "source": [
    "# Check\n",
    "tf_genes_with_no_pubs = [g for g,np in pairs if np==0]\n",
    "tf_genes_with_no_pubs"
   ]
  },
  {
   "cell_type": "code",
   "execution_count": 21,
   "metadata": {},
   "outputs": [
    {
     "data": {
      "text/plain": [
       "['FB:FBgn0038626',\n",
       " 'UniProtKB:A0A0B4LH09',\n",
       " 'FB:FBgn0024975',\n",
       " 'FB:FBgn0025185',\n",
       " 'FB:FBgn0028647',\n",
       " 'FB:FBgn0029173',\n",
       " 'FB:FBgn0029928',\n",
       " 'FB:FBgn0030008',\n",
       " 'FB:FBgn0030012',\n",
       " 'FB:FBgn0032694',\n",
       " 'FB:FBgn0033449',\n",
       " 'FB:FBgn0033627',\n",
       " 'FB:FBgn0037317',\n",
       " 'FB:FBgn0039078',\n",
       " 'FB:FBgn0039329',\n",
       " 'FB:FBgn0039937',\n",
       " 'FB:FBgn0052006',\n",
       " 'FB:FBgn0053213',\n",
       " 'FB:FBgn0053557',\n",
       " 'FB:FBgn0085253',\n",
       " 'FB:FBgn0263511',\n",
       " 'UniProtKB:A0A0B4K653',\n",
       " 'UniProtKB:A0A0B4KGA3',\n",
       " 'UniProtKB:A0A0B4KGM5',\n",
       " 'UniProtKB:A0A0B4KGW2',\n",
       " 'UniProtKB:A0A0B4KGW6',\n",
       " 'UniProtKB:A0A0B4KHC8',\n",
       " 'UniProtKB:A0A0B4LGG8']"
      ]
     },
     "execution_count": 21,
     "metadata": {},
     "output_type": "execute_result"
    }
   ],
   "source": [
    "# genes with fewer than 5 pubs\n",
    "[g for g,np in pairs if np < 5]"
   ]
  },
  {
   "cell_type": "code",
   "execution_count": 23,
   "metadata": {},
   "outputs": [],
   "source": [
    "import matplotlib.pyplot as plt\n",
    "%matplotlib inline\n"
   ]
  },
  {
   "cell_type": "code",
   "execution_count": 24,
   "metadata": {},
   "outputs": [
    {
     "data": {
      "image/png": "[encoded data removed]",
      "text/plain": [
       "<matplotlib.figure.Figure at 0x112a4b978>"
      ]
     },
     "metadata": {},
     "output_type": "display_data"
    }
   ],
   "source": [
    "# Histogram\n",
    "plt.hist(vals, bins=40)\n",
    "plt.ylabel('No of genes')\n",
    "plt.xlabel('No of pubs')\n",
    "plt.show()"
   ]
  },
  {
   "cell_type": "code",
   "execution_count": 27,
   "metadata": {},
   "outputs": [],
   "source": [
    "# Save results\n",
    "import csv\n",
    "with open('gene-pubs.csv', 'w', newline='') as csvfile:\n",
    "    w = csv.writer(csvfile, delimiter=',')\n",
    "    for g,np in pairs:\n",
    "        w.writerow([g,np])\n",
    " "
   ]
  },
  {
   "cell_type": "code",
   "execution_count": null,
   "metadata": {},
   "outputs": [],
   "source": []
  }
 ],
 "metadata": {
  "kernelspec": {
   "display_name": "Python 3",
   "language": "python",
   "name": "python3"
  },
  "language_info": {
   "codemirror_mode": {
    "name": "ipython",
    "version": 3
   },
   "file_extension": ".py",
   "mimetype": "text/x-python",
   "name": "python",
   "nbconvert_exporter": "python",
   "pygments_lexer": "ipython3",
   "version": "3.7.0"
  }
 },
 "nbformat": 4,
 "nbformat_minor": 2
}
