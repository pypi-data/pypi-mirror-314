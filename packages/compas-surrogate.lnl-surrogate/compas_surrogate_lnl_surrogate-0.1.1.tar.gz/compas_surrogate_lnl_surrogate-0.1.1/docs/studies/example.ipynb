{
 "cells": [
  {
   "cell_type": "markdown",
   "source": [
    "# Example\n",
    "\n"
   ],
   "metadata": {
    "collapsed": false
   }
  },
  {
   "cell_type": "code",
   "outputs": [],
   "source": [
    "from trieste.acquisition.function import PredictiveVariance, ExpectedImprovement\n",
    "\n",
    "import numpy as np\n",
    "from lnl_surrogate.surrogate import train\n",
    "from scipy.stats import norm\n",
    "from lnl_surrogate.surrogate.setup_optimizer import McZGrid\n",
    "from lnl_computer.mock_data import generate_mock_data\n",
    "from typing import Dict\n",
    "import matplotlib.pyplot as plt\n",
    "import os\n",
    "\n",
    "np.random.seed(0)\n",
    "OUTDIR = 'outdir'\n",
    "os.makedirs(OUTDIR, exist_ok=True)"
   ],
   "metadata": {
    "collapsed": false
   },
   "execution_count": null
  },
  {
   "cell_type": "markdown",
   "source": [
    "## Single Mode Guassian"
   ],
   "metadata": {
    "collapsed": false
   }
  },
  {
   "cell_type": "code",
   "execution_count": null,
   "outputs": [],
   "source": [
    "MINX, MAXX = 0.005, 0.015\n",
    "MIDX = (MINX + MAXX) / 2\n",
    "NORM = norm(MIDX, 0.003)\n",
    "\n",
    "\n",
    "def mock_lnl(*args, **kwargs):\n",
    "    sf_sample: Dict = kwargs.get('sf_sample')\n",
    "    sf_sample = np.array(list(sf_sample.values()))\n",
    "    return NORM.logpdf(sf_sample), 0\n",
    "\n",
    "\n",
    "def plot_true():\n",
    "    x = np.linspace(MINX, MAXX, 100).reshape(-1, 1)\n",
    "    true_y = NORM.logpdf(x) * -1.0\n",
    "    plt.plot(x, true_y, label='True', color='black')\n",
    "    plt.xlabel('aSF')\n",
    "    plt.ylabel('lnL')\n",
    "    return plt.gcf()\n",
    "\n",
    "\n",
    "def plot_res(model, data, search_space):\n",
    "    x = np.linspace(MINX, MAXX, 100).reshape(-1, 1)\n",
    "    model_y, model_yunc = model.predict(x)\n",
    "    x_obs = data.query_points\n",
    "    y_obs = data.observations\n",
    "\n",
    "    tf_to_np = lambda x: x.numpy().flatten() if hasattr(x, 'numpy') else x\n",
    "    # make new fig\n",
    "    plt.figure()\n",
    "    plot_true()\n",
    "    plt.plot(x, model_y, label='Model', color=\"tab:orange\")\n",
    "    plt.scatter(x_obs, y_obs, label='Observed', color='black')\n",
    "    yup, ydown = tf_to_np(model_y + model_yunc), tf_to_np(model_y - model_yunc)\n",
    "    plt.fill_between(x.flatten(), yup.flatten(), ydown.flatten(), alpha=0.2, color=\"tab:orange\")\n",
    "    plt.legend(loc='upper right')\n",
    "    return plt.gcf()\n",
    "\n",
    "\n",
    "McZGrid.lnl = mock_lnl\n",
    "mock_data = generate_mock_data(OUTDIR)\n",
    "\n",
    "fig = plot_true()\n",
    "_ = fig.suptitle('True LnL')"
   ],
   "metadata": {
    "collapsed": false,
    "pycharm": {
     "is_executing": true
    }
   }
  },
  {
   "cell_type": "code",
   "outputs": [],
   "source": [
    "## Exploratory Acquisition Function \n",
    "\n",
    "res = train(\n",
    "    model_type='gp',\n",
    "    mcz_obs=mock_data.observations.mcz,\n",
    "    compas_h5_filename=mock_data.compas_filename,\n",
    "    acquisition_fns=[PredictiveVariance()],\n",
    "    params=['aSF'],\n",
    "    n_init=2,\n",
    "    n_rounds=10,\n",
    "    n_pts_per_round=1,\n",
    "    outdir=f\"{OUTDIR}/gp\",\n",
    "    truth=dict(\n",
    "        aSF=MIDX,\n",
    "        lnl=mock_lnl(sf_sample={'aSF': MIDX})[0] * -1.0\n",
    "    ),\n",
    "    model_plotter=plot_res,\n",
    "    noise_level=1e-3\n",
    ")"
   ],
   "metadata": {
    "collapsed": false
   },
   "execution_count": null
  },
  {
   "cell_type": "code",
   "outputs": [],
   "source": [
    "## Explotative Acquisition Function\n",
    "\n",
    "res = train(\n",
    "    model_type='gp',\n",
    "    mcz_obs=mock_data.observations.mcz,\n",
    "    compas_h5_filename=mock_data.compas_filename,\n",
    "    acquisition_fns=[ExpectedImprovement()],\n",
    "    params=['aSF'],\n",
    "    n_init=2,\n",
    "    n_rounds=10,\n",
    "    n_pts_per_round=1,\n",
    "    outdir=f\"{OUTDIR}/gp\",\n",
    "    truth=dict(\n",
    "        aSF=MIDX,\n",
    "        lnl=mock_lnl(sf_sample={'aSF': MIDX})[0] * -1.0\n",
    "    ),\n",
    "    model_plotter=plot_res,\n",
    "    noise_level=1e-3\n",
    ")"
   ],
   "metadata": {
    "collapsed": false
   },
   "execution_count": null
  },
  {
   "cell_type": "markdown",
   "source": [
    "| Exploratory Acquisition | Exploitative Acquisition |\n",
    "|-------------------------|--------------------------|\n",
    "| ![Exploratory][explore_gif] | ![Exploitative][exploit_gif] |\n",
    "\n",
    "![Regret][regret]\n",
    "\n",
    "[regret]: regret.png\n",
    "[exploit_gif]: train_exploit.gif\n",
    "[explore_gif]: train_explore.gif\n"
   ],
   "metadata": {
    "collapsed": false
   }
  },
  {
   "cell_type": "markdown",
   "source": [
    "## Bimodal Gaussian"
   ],
   "metadata": {
    "collapsed": false
   }
  },
  {
   "cell_type": "code",
   "outputs": [
    {
     "ename": "NameError",
     "evalue": "name 'McZGrid' is not defined",
     "output_type": "error",
     "traceback": [
      "\u001B[0;31m---------------------------------------------------------------------------\u001B[0m",
      "\u001B[0;31mNameError\u001B[0m                                 Traceback (most recent call last)",
      "Cell \u001B[0;32mIn[1], line 38\u001B[0m\n\u001B[1;32m     34\u001B[0m     sf_sample \u001B[38;5;241m=\u001B[39m np\u001B[38;5;241m.\u001B[39marray(\u001B[38;5;28mlist\u001B[39m(sf_sample\u001B[38;5;241m.\u001B[39mvalues()))\n\u001B[1;32m     35\u001B[0m     \u001B[38;5;28;01mreturn\u001B[39;00m NORM\u001B[38;5;241m.\u001B[39mlogpdf(sf_sample), \u001B[38;5;241m0\u001B[39m\n\u001B[0;32m---> 38\u001B[0m \u001B[43mMcZGrid\u001B[49m\u001B[38;5;241m.\u001B[39mlnl \u001B[38;5;241m=\u001B[39m mock_lnl\n\u001B[1;32m     39\u001B[0m mock_data \u001B[38;5;241m=\u001B[39m generate_mock_data(OUTDIR)\n\u001B[1;32m     41\u001B[0m fig \u001B[38;5;241m=\u001B[39m plot_true()\n",
      "\u001B[0;31mNameError\u001B[0m: name 'McZGrid' is not defined"
     ]
    }
   ],
   "source": [
    "from scipy.stats import gaussian_kde\n",
    "from scipy.integrate import quad\n",
    "import numpy as np\n",
    "\n",
    "MINX, MAXX = 0.005, 0.015\n",
    "MUS = [0.008, 0.012]\n",
    "SIGMAS = [0.0009, 0.0005]\n",
    "\n",
    "\n",
    "def generate_data(mus, sigmas, N: int):\n",
    "    \"\"\"Generate some data.\"\"\"\n",
    "    data = [np.random.normal(mus[i], sigmas[i], N) for i in range(len(mus))]\n",
    "    x = np.random.choice([0, 1], N)\n",
    "    return data[0] * (1 - x) + data[1] * x\n",
    "\n",
    "\n",
    "class MockLnLFunc():\n",
    "    def __init__(self):\n",
    "        np.random.seed(0)\n",
    "        data = generate_data(MUS, SIGMAS, 1000)\n",
    "        in_range = np.logical_and(data >= MINX, data <= MAXX)\n",
    "        assert np.all(in_range), f\"{100 * len(data[~in_range]) / len(data)}% outside range. {data[~in_range]}\"\n",
    "        self.kde = gaussian_kde(data)\n",
    "\n",
    "    def logpdf(self, x):\n",
    "        return np.log(self.kde(x.flatten()))\n",
    "\n",
    "\n",
    "NORM = MockLnLFunc()\n",
    "\n",
    "\n",
    "def mock_lnl(*args, **kwargs):\n",
    "    sf_sample: Dict = kwargs.get('sf_sample')\n",
    "    sf_sample = np.array(list(sf_sample.values()))\n",
    "    return NORM.logpdf(sf_sample), 0\n",
    "\n",
    "\n",
    "McZGrid.lnl = mock_lnl\n",
    "mock_data = generate_mock_data(OUTDIR)\n",
    "\n",
    "fig = plot_true()\n",
    "_ = fig.suptitle('True LnL')"
   ],
   "metadata": {
    "collapsed": false,
    "ExecuteTime": {
     "end_time": "2024-03-03T23:20:10.912929393Z",
     "start_time": "2024-03-03T23:20:10.419370999Z"
    }
   },
   "execution_count": 1
  },
  {
   "cell_type": "code",
   "outputs": [],
   "source": [
    "## Exploratory Acquisition Function \n",
    "\n",
    "res = train(\n",
    "    model_type='gp',\n",
    "    mcz_obs=mock_data.observations.mcz,\n",
    "    compas_h5_filename=mock_data.compas_filename,\n",
    "    acquisition_fns=[PredictiveVariance()],\n",
    "    params=['aSF'],\n",
    "    n_init=2,\n",
    "    n_rounds=10,\n",
    "    n_pts_per_round=1,\n",
    "    outdir=f\"{OUTDIR}/multi_explore\",\n",
    "    truth=dict(\n",
    "        aSF=MIDX,\n",
    "        lnl=mock_lnl(sf_sample={'aSF': MIDX})[0] * -1.0\n",
    "    ),\n",
    "    model_plotter=plot_res,\n",
    "    noise_level=1e-3\n",
    ")\n",
    "\n",
    "## Explotative Acquisition Function\n",
    "\n",
    "res = train(\n",
    "    model_type='gp',\n",
    "    mcz_obs=mock_data.observations.mcz,\n",
    "    compas_h5_filename=mock_data.compas_filename,\n",
    "    acquisition_fns=[ExpectedImprovement()],\n",
    "    params=['aSF'],\n",
    "    n_init=2,\n",
    "    n_rounds=10,\n",
    "    n_pts_per_round=1,\n",
    "    outdir=f\"{OUTDIR}/multi_exploit\",\n",
    "    truth=dict(\n",
    "        aSF=MIDX,\n",
    "        lnl=mock_lnl(sf_sample={'aSF': MIDX})[0] * -1.0\n",
    "    ),\n",
    "    model_plotter=plot_res,\n",
    "    noise_level=1e-3\n",
    ")\n",
    "\n",
    "\n",
    "## Both Acquisition Function\n",
    "\n",
    "res = train(\n",
    "    model_type='gp',\n",
    "    mcz_obs=mock_data.observations.mcz,\n",
    "    compas_h5_filename=mock_data.compas_filename,\n",
    "    acquisition_fns=[PredictiveVariance(), ExpectedImprovement()],\n",
    "    params=['aSF'],\n",
    "    n_init=2,\n",
    "    n_rounds=10,\n",
    "    n_pts_per_round=1,\n",
    "    outdir=f\"{OUTDIR}/multi_combined\",\n",
    "    truth=dict(\n",
    "        aSF=MIDX,\n",
    "        lnl=mock_lnl(sf_sample={'aSF': MIDX})[0] * -1.0\n",
    "    ),\n",
    "    model_plotter=plot_res,\n",
    "    noise_level=1e-3\n",
    ")"
   ],
   "metadata": {
    "collapsed": false,
    "ExecuteTime": {
     "start_time": "2024-03-03T23:20:10.912391168Z"
    }
   },
   "execution_count": null
  },
  {
   "cell_type": "markdown",
   "source": [
    "| Exploratory Acquisition | Exploitative Acquisition | Combined Acquisition |\n",
    "|-------------------------|--------------------------|----------------------|\n",
    "| ![Exploratory][multi_explore_gif] | ![Exploitative][multi_exploit_gif] | ![Combined][multi_combined_gif] |\n",
    "\n",
    "[multi_exploit_gif]: train_multi_exploit.gif\n",
    "[multi_explore_gif]: train_multi_explore.gif\n",
    "[multi_combined_gif]: train_multi_both.gif\n",
    "\n",
    "![](regret_multi.png)"
   ],
   "metadata": {
    "collapsed": false
   }
  },
  {
   "cell_type": "code",
   "outputs": [],
   "source": [],
   "metadata": {
    "collapsed": false
   },
   "execution_count": null
  }
 ],
 "metadata": {
  "kernelspec": {
   "display_name": "Python 3 (ipykernel)",
   "language": "python",
   "name": "python3"
  },
  "language_info": {
   "codemirror_mode": {
    "name": "ipython",
    "version": 3
   },
   "file_extension": ".py",
   "mimetype": "text/x-python",
   "name": "python",
   "nbconvert_exporter": "python",
   "pygments_lexer": "ipython3",
   "version": "3.9.17"
  },
  "toc": {
   "base_numbering": 1,
   "nav_menu": {},
   "number_sections": true,
   "sideBar": true,
   "skip_h1_title": false,
   "title_cell": "Table of Contents",
   "title_sidebar": "Contents",
   "toc_cell": false,
   "toc_position": {},
   "toc_section_display": true,
   "toc_window_display": true
  },
  "varInspector": {
   "cols": {
    "lenName": 16,
    "lenType": 16,
    "lenVar": 40
   },
   "kernels_config": {
    "python": {
     "delete_cmd_postfix": "",
     "delete_cmd_prefix": "del ",
     "library": "var_list.py",
     "varRefreshCmd": "print(var_dic_list())"
    },
    "r": {
     "delete_cmd_postfix": ") ",
     "delete_cmd_prefix": "rm(",
     "library": "var_list.r",
     "varRefreshCmd": "cat(var_dic_list()) "
    }
   },
   "types_to_exclude": [
    "module",
    "function",
    "builtin_function_or_method",
    "instance",
    "_Feature"
   ],
   "window_display": false
  }
 },
 "nbformat": 4,
 "nbformat_minor": 1
}
