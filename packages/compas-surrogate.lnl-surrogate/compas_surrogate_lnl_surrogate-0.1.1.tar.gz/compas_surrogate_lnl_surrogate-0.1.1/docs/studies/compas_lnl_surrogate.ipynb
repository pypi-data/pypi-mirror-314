{
 "cells": [
  {
   "metadata": {},
   "cell_type": "markdown",
   "source": "# COMPAS Surrogate\n",
   "id": "1498c0cf9649b27a"
  },
  {
   "metadata": {},
   "cell_type": "code",
   "outputs": [],
   "execution_count": null,
   "source": "from lnl_surrogate import LnLSurrogate",
   "id": "e14f6aafc15f0e51"
  },
  {
   "metadata": {},
   "cell_type": "markdown",
   "source": "## Simulation",
   "id": "56e377ea498d6f83"
  },
  {
   "metadata": {},
   "cell_type": "code",
   "outputs": [],
   "execution_count": null,
   "source": "",
   "id": "5e39a7c8f1cb127"
  },
  {
   "metadata": {},
   "cell_type": "markdown",
   "source": "## OGC4 Data",
   "id": "8a71bf3c6877065b"
  },
  {
   "metadata": {},
   "cell_type": "code",
   "outputs": [],
   "execution_count": null,
   "source": "",
   "id": "fef4b52bab77e394"
  }
 ],
 "metadata": {
  "kernelspec": {
   "display_name": "Python 3",
   "language": "python",
   "name": "python3"
  },
  "language_info": {
   "codemirror_mode": {
    "name": "ipython",
    "version": 2
   },
   "file_extension": ".py",
   "mimetype": "text/x-python",
   "name": "python",
   "nbconvert_exporter": "python",
   "pygments_lexer": "ipython2",
   "version": "2.7.6"
  }
 },
 "nbformat": 4,
 "nbformat_minor": 5
}
