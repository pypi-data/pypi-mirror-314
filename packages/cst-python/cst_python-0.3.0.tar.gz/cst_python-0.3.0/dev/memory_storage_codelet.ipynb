{
 "cells": [
  {
   "cell_type": "code",
   "execution_count": 1,
   "metadata": {},
   "outputs": [],
   "source": [
    "import time\n",
    "\n",
    "import redis\n",
    "\n",
    "import cst_python as cst\n",
    "from cst_python.memory_storage import MemoryStorageCodelet"
   ]
  },
  {
   "cell_type": "code",
   "execution_count": 2,
   "metadata": {},
   "outputs": [],
   "source": [
    "import logging\n",
    "import sys\n",
    "\n",
    "ch = logging.StreamHandler(sys.stdout)\n",
    "ch.setLevel(logging.INFO)\n",
    "\n",
    "logging.getLogger(\"MemoryStorageCodelet\").addHandler(ch)"
   ]
  },
  {
   "cell_type": "code",
   "execution_count": 3,
   "metadata": {},
   "outputs": [
    {
     "data": {
      "text/plain": [
       "True"
      ]
     },
     "execution_count": 3,
     "metadata": {},
     "output_type": "execute_result"
    }
   ],
   "source": [
    "client = redis.Redis(decode_responses=True)\n",
    "client.flushall()"
   ]
  },
  {
   "cell_type": "markdown",
   "metadata": {},
   "source": [
    "```mermaid\n",
    "flowchart LR\n",
    "\n",
    "update[Update Memory]\n",
    "send[Send Memory]\n",
    "retrieve[Retrieve Memory]\n",
    "request[Request Memory]\n",
    "handler_notify_transfer[Handler: Notify Transfer]\n",
    "handler_transfer_memory[Handler: Transfer Memory]\n",
    "\n",
    "\n",
    "update --> |\"timestamp(MS) < timestamp(local)\"| send\n",
    "update --> |\"timestamp(MS) > timestamp(local)\"| retrieve\n",
    "\n",
    "\n",
    "\n",
    "\n",
    "\n",
    "handler_transfer_memory --> send\n",
    "\n",
    "subgraph retrieveContext\n",
    "retrieve --> |owner is not empty| request\n",
    "\n",
    "request -.->|Wait transfer event| handler_notify_transfer\n",
    "\n",
    "end\n",
    "\n",
    "```"
   ]
  },
  {
   "cell_type": "code",
   "execution_count": 4,
   "metadata": {},
   "outputs": [],
   "source": [
    "mind = cst.Mind()\n",
    "memory1 = mind.create_memory_object(\"Memory1\", \"\")"
   ]
  },
  {
   "cell_type": "code",
   "execution_count": null,
   "metadata": {},
   "outputs": [],
   "source": [
    "ms_codelet = MemoryStorageCodelet(mind)\n",
    "ms_codelet.time_step = 100\n",
    "\n",
    "mind.insert_codelet(ms_codelet)\n",
    "mind.start()"
   ]
  },
  {
   "cell_type": "code",
   "execution_count": 6,
   "metadata": {},
   "outputs": [
    {
     "data": {
      "text/plain": [
       "MemoryObject [idmemoryobject=0, timestamp=1733073393528, evaluation=0.0, I=, name=Memory1]"
      ]
     },
     "execution_count": 6,
     "metadata": {},
     "output_type": "execute_result"
    }
   ],
   "source": [
    "memory1"
   ]
  },
  {
   "cell_type": "code",
   "execution_count": 7,
   "metadata": {},
   "outputs": [
    {
     "data": {
      "text/plain": [
       "-1"
      ]
     },
     "execution_count": 7,
     "metadata": {},
     "output_type": "execute_result"
    }
   ],
   "source": [
    "memory1.set_info([1,1,1])"
   ]
  },
  {
   "cell_type": "code",
   "execution_count": 8,
   "metadata": {},
   "outputs": [],
   "source": [
    "time.sleep(1)"
   ]
  },
  {
   "cell_type": "code",
   "execution_count": 9,
   "metadata": {},
   "outputs": [
    {
     "data": {
      "text/plain": [
       "{'node0'}"
      ]
     },
     "execution_count": 9,
     "metadata": {},
     "output_type": "execute_result"
    }
   ],
   "source": [
    "client.smembers(\"default_mind:nodes\")"
   ]
  },
  {
   "cell_type": "code",
   "execution_count": 10,
   "metadata": {},
   "outputs": [
    {
     "data": {
      "text/plain": [
       "{'name': 'Memory1',\n",
       " 'evaluation': '0.0',\n",
       " 'I': '',\n",
       " 'id': '0',\n",
       " 'owner': 'node0',\n",
       " 'logical_time': '0'}"
      ]
     },
     "execution_count": 10,
     "metadata": {},
     "output_type": "execute_result"
    }
   ],
   "source": [
    "client.hgetall(\"default_mind:memories:Memory1\")"
   ]
  },
  {
   "cell_type": "code",
   "execution_count": 11,
   "metadata": {},
   "outputs": [
    {
     "name": "stdout",
     "output_type": "stream",
     "text": [
      "1\n"
     ]
    }
   ],
   "source": [
    "print(ms_codelet._current_time)"
   ]
  },
  {
   "cell_type": "code",
   "execution_count": 12,
   "metadata": {},
   "outputs": [],
   "source": [
    "mind2 = cst.Mind()\n",
    "mind2_memory1 = mind2.create_memory_object(\"Memory1\", \"\")\n",
    "mind2_ms_codelet = MemoryStorageCodelet(mind2)\n",
    "mind2_ms_codelet.time_step = 100\n",
    "mind2.insert_codelet(mind2_ms_codelet)\n",
    "mind2.start()"
   ]
  },
  {
   "cell_type": "code",
   "execution_count": null,
   "metadata": {},
   "outputs": [
    {
     "name": "stdout",
     "output_type": "stream",
     "text": [
      "Retrieving memory [Memory1@node]\n"
     ]
    },
    {
     "data": {
      "text/plain": [
       "MemoryObject [idmemoryobject=0, timestamp=1733073334814, evaluation=0.0, I=, name=Memory1]"
      ]
     },
     "execution_count": 13,
     "metadata": {},
     "output_type": "execute_result"
    },
    {
     "name": "stdout",
     "output_type": "stream",
     "text": [
      "Retrieving memory [Memory1@node]\n"
     ]
    },
    {
     "name": "stdout",
     "output_type": "stream",
     "text": [
      "Transfering memory to server [Memory1@node0]\n",
      "Sending memory [Memory1@node0]\n",
      "Updating memory [Memory1@node]\n",
      "Updating memory [Memory1@node]\n",
      "Updating memory [Memory1@node0]\n",
      "Updating memory [Memory1@node0]\n",
      "Updating memory [Memory1@node]\n",
      "Updating memory [Memory1@node0]\n",
      "Retrieving memory [Memory1@node]\n",
      "Retrieving memory [Memory1@node0]\n",
      "Updating memory [Memory1@node]\n",
      "Updating memory [Memory1@node0]\n",
      "Retrieving memory [Memory1@node]\n",
      "Retrieving memory [Memory1@node0]\n",
      "Updating memory [Memory1@node]\n",
      "Updating memory [Memory1@node0]\n",
      "Retrieving memory [Memory1@node]\n",
      "Retrieving memory [Memory1@node0]\n",
      "Updating memory [Memory1@node0]\n",
      "Updating memory [Memory1@node]\n",
      "Retrieving memory [Memory1@node0]\n",
      "Retrieving memory [Memory1@node]\n",
      "Updating memory [Memory1@node]\n",
      "Updating memory [Memory1@node0]\n",
      "Retrieving memory [Memory1@node]\n",
      "Retrieving memory [Memory1@node0]\n",
      "Updating memory [Memory1@node0]\n",
      "Updating memory [Memory1@node]\n",
      "Retrieving memory [Memory1@node0]\n",
      "Retrieving memory [Memory1@node]\n",
      "Transfering memory to server [Memory1@node0]\n",
      "Updating memory [Memory1@node]\n",
      "Sending memory [Memory1@node0]\n",
      "Sending memory [Memory1@node]\n",
      "Updating memory [Memory1@node]\n",
      "Updating memory [Memory1@node0]\n",
      "Updating memory [Memory1@node]\n",
      "Updating memory [Memory1@node0]\n",
      "Updating memory [Memory1@node0]\n",
      "Updating memory [Memory1@node0]\n",
      "Updating memory [Memory1@node]\n",
      "Retrieving memory [Memory1@node0]\n",
      "Retrieving memory [Memory1@node]\n",
      "Updating memory [Memory1@node0]\n",
      "Updating memory [Memory1@node]\n",
      "Retrieving memory [Memory1@node0]\n",
      "Retrieving memory [Memory1@node]\n",
      "Updating memory [Memory1@node0]\n",
      "Updating memory [Memory1@node]\n",
      "Retrieving memory [Memory1@node0]\n",
      "Retrieving memory [Memory1@node]\n",
      "Updating memory [Memory1@node0]\n",
      "Updating memory [Memory1@node]\n",
      "Retrieving memory [Memory1@node0]\n",
      "Retrieving memory [Memory1@node]\n",
      "Updating memory [Memory1@node]\n",
      "Updating memory [Memory1@node0]\n",
      "Retrieving memory [Memory1@node]\n",
      "Retrieving memory [Memory1@node0]\n",
      "Updating memory [Memory1@node0]\n",
      "Updating memory [Memory1@node]\n",
      "Retrieving memory [Memory1@node0]\n",
      "Retrieving memory [Memory1@node]\n",
      "Transfering memory to server [Memory1@node0]\n",
      "Sending memory [Memory1@node0]\n",
      "Updating memory [Memory1@node]\n",
      "Updating memory [Memory1@node0]\n",
      "Updating memory [Memory1@node]\n",
      "Updating memory [Memory1@node0]\n",
      "Updating memory [Memory1@node0]\n",
      "Updating memory [Memory1@node]\n",
      "Retrieving memory [Memory1@node0]\n",
      "Retrieving memory [Memory1@node]\n",
      "Updating memory [Memory1@node0]\n",
      "Updating memory [Memory1@node]\n",
      "Retrieving memory [Memory1@node0]\n",
      "Retrieving memory [Memory1@node]\n",
      "Updating memory [Memory1@node0]\n",
      "Updating memory [Memory1@node]\n",
      "Retrieving memory [Memory1@node0]\n",
      "Retrieving memory [Memory1@node]\n",
      "Updating memory [Memory1@node]\n",
      "Updating memory [Memory1@node0]\n",
      "Retrieving memory [Memory1@node0]\n",
      "Retrieving memory [Memory1@node]\n",
      "Updating memory [Memory1@node]\n",
      "Updating memory [Memory1@node0]\n",
      "Retrieving memory [Memory1@node]\n",
      "Retrieving memory [Memory1@node0]\n",
      "Updating memory [Memory1@node]\n",
      "Updating memory [Memory1@node0]\n",
      "Retrieving memory [Memory1@node]\n",
      "Retrieving memory [Memory1@node0]\n",
      "Transfering memory to server [Memory1@node0]\n",
      "Updating memory [Memory1@node]\n",
      "Sending memory [Memory1@node0]\n",
      "Sending memory [Memory1@node]\n",
      "Updating memory [Memory1@node]\n",
      "Updating memory [Memory1@node0]\n",
      "Updating memory [Memory1@node]\n",
      "Updating memory [Memory1@node0]\n",
      "Updating memory [Memory1@node0]\n",
      "Updating memory [Memory1@node]\n",
      "Updating memory [Memory1@node0]\n",
      "Retrieving memory [Memory1@node]\n",
      "Retrieving memory [Memory1@node0]\n",
      "Transfering memory to server [Memory1@node0]\n",
      "Sending memory [Memory1@node0]\n",
      "Updating memory [Memory1@node]\n",
      "Updating memory [Memory1@node0]\n",
      "Updating memory [Memory1@node]\n",
      "Updating memory [Memory1@node0]\n",
      "Updating memory [Memory1@node]\n",
      "Updating memory [Memory1@node0]\n",
      "Retrieving memory [Memory1@node]\n",
      "Retrieving memory [Memory1@node0]\n",
      "Updating memory [Memory1@node0]\n",
      "Updating memory [Memory1@node]\n",
      "Retrieving memory [Memory1@node0]\n",
      "Retrieving memory [Memory1@node]\n",
      "Updating memory [Memory1@node0]\n",
      "Updating memory [Memory1@node]\n",
      "Retrieving memory [Memory1@node0]\n",
      "Retrieving memory [Memory1@node]\n",
      "Updating memory [Memory1@node]\n",
      "Updating memory [Memory1@node0]\n",
      "Retrieving memory [Memory1@node]\n",
      "Retrieving memory [Memory1@node0]\n",
      "Updating memory [Memory1@node0]\n",
      "Updating memory [Memory1@node]\n",
      "Retrieving memory [Memory1@node0]\n",
      "Retrieving memory [Memory1@node]\n",
      "Updating memory [Memory1@node]\n",
      "Updating memory [Memory1@node0]\n",
      "Retrieving memory [Memory1@node]\n",
      "Retrieving memory [Memory1@node0]\n",
      "Transfering memory to server [Memory1@node0]\n",
      "Sending memory [Memory1@node0]\n",
      "Updating memory [Memory1@node]\n",
      "Updating memory [Memory1@node0]\n",
      "Updating memory [Memory1@node0]\n",
      "Updating memory [Memory1@node]\n",
      "Updating memory [Memory1@node]\n",
      "Updating memory [Memory1@node0]\n",
      "Retrieving memory [Memory1@node]\n",
      "Retrieving memory [Memory1@node0]\n",
      "Updating memory [Memory1@node0]\n",
      "Retrieving memory [Memory1@node0]\n",
      "Updating memory [Memory1@node]\n",
      "Retrieving memory [Memory1@node]\n",
      "Updating memory [Memory1@node0]\n",
      "Updating memory [Memory1@node]\n",
      "Retrieving memory [Memory1@node0]\n",
      "Retrieving memory [Memory1@node]\n",
      "Updating memory [Memory1@node0]\n",
      "Updating memory [Memory1@node]\n",
      "Retrieving memory [Memory1@node0]\n",
      "Retrieving memory [Memory1@node]\n",
      "Updating memory [Memory1@node]\n",
      "Updating memory [Memory1@node0]\n",
      "Retrieving memory [Memory1@node]\n",
      "Retrieving memory [Memory1@node0]\n",
      "Updating memory [Memory1@node]\n",
      "Updating memory [Memory1@node0]\n",
      "Retrieving memory [Memory1@node]\n",
      "Retrieving memory [Memory1@node0]\n",
      "Transfering memory to server [Memory1@node0]\n",
      "Sending memory [Memory1@node0]\n",
      "Updating memory [Memory1@node]\n",
      "Updating memory [Memory1@node0]\n",
      "Sending memory [Memory1@node]\n",
      "Sending memory [Memory1@node0]\n",
      "Updating memory [Memory1@node0]\n",
      "Updating memory [Memory1@node]\n",
      "Updating memory [Memory1@node0]\n",
      "Updating memory [Memory1@node]\n",
      "Updating memory [Memory1@node]\n",
      "Updating memory [Memory1@node0]\n",
      "Transfering memory to server [Memory1@node0]\n",
      "Sending memory [Memory1@node0]\n",
      "Updating memory [Memory1@node]\n",
      "Updating memory [Memory1@node0]\n",
      "Sending memory [Memory1@node0]\n",
      "Sending memory [Memory1@node]\n",
      "Updating memory [Memory1@node0]\n",
      "Updating memory [Memory1@node]\n",
      "Updating memory [Memory1@node0]\n",
      "Updating memory [Memory1@node]\n",
      "Updating memory [Memory1@node0]\n",
      "Updating memory [Memory1@node]\n",
      "Updating memory [Memory1@node]\n",
      "Updating memory [Memory1@node0]\n",
      "Retrieving memory [Memory1@node]\n",
      "Retrieving memory [Memory1@node0]\n",
      "Updating memory [Memory1@node]\n",
      "Updating memory [Memory1@node0]\n",
      "Retrieving memory [Memory1@node]\n",
      "Retrieving memory [Memory1@node0]\n",
      "Updating memory [Memory1@node]\n",
      "Updating memory [Memory1@node0]\n",
      "Retrieving memory [Memory1@node]\n",
      "Retrieving memory [Memory1@node0]\n",
      "Updating memory [Memory1@node]\n",
      "Updating memory [Memory1@node0]\n",
      "Retrieving memory [Memory1@node]\n",
      "Retrieving memory [Memory1@node0]\n",
      "Updating memory [Memory1@node]\n",
      "Updating memory [Memory1@node0]\n",
      "Retrieving memory [Memory1@node]\n",
      "Retrieving memory [Memory1@node0]\n",
      "Updating memory [Memory1@node]\n",
      "Updating memory [Memory1@node0]\n",
      "Retrieving memory [Memory1@node]\n",
      "Retrieving memory [Memory1@node0]\n",
      "Transfering memory to server [Memory1@node0]\n",
      "Sending memory [Memory1@node0]\n",
      "Updating memory [Memory1@node]\n",
      "Updating memory [Memory1@node0]\n",
      "Sending memory [Memory1@node]\n",
      "Sending memory [Memory1@node0]\n",
      "Updating memory [Memory1@node]\n",
      "Updating memory [Memory1@node0]\n",
      "Updating memory [Memory1@node]\n",
      "Updating memory [Memory1@node0]\n",
      "Updating memory [Memory1@node]\n",
      "Updating memory [Memory1@node0]\n"
     ]
    }
   ],
   "source": [
    "mind2_memory1"
   ]
  },
  {
   "cell_type": "code",
   "execution_count": null,
   "metadata": {},
   "outputs": [
    {
     "name": "stdout",
     "output_type": "stream",
     "text": [
      "Requesting memory [Memory1@node0 to node]\n",
      "Transfering memory to server [Memory1@node0]\n",
      "Sending memory [Memory1@node0]\n"
     ]
    },
    {
     "data": {
      "text/plain": [
       "'node'"
      ]
     },
     "execution_count": 14,
     "metadata": {},
     "output_type": "execute_result"
    }
   ],
   "source": [
    "mind2_ms_codelet._node_name"
   ]
  },
  {
   "cell_type": "code",
   "execution_count": null,
   "metadata": {},
   "outputs": [
    {
     "data": {
      "text/plain": [
       "{'node', 'node0'}"
      ]
     },
     "execution_count": 16,
     "metadata": {},
     "output_type": "execute_result"
    }
   ],
   "source": [
    "client.smembers(\"default_mind:nodes\")"
   ]
  },
  {
   "cell_type": "code",
   "execution_count": null,
   "metadata": {},
   "outputs": [],
   "source": [
    "time.sleep(1)"
   ]
  },
  {
   "cell_type": "code",
   "execution_count": null,
   "metadata": {},
   "outputs": [
    {
     "data": {
      "text/plain": [
       "MemoryObject [idmemoryobject=0, timestamp=1733073335060, evaluation=0.0, I=[1, 1, 1], name=Memory1]"
      ]
     },
     "execution_count": 18,
     "metadata": {},
     "output_type": "execute_result"
    }
   ],
   "source": [
    "mind2_memory1"
   ]
  },
  {
   "cell_type": "code",
   "execution_count": null,
   "metadata": {},
   "outputs": [
    {
     "data": {
      "text/plain": [
       "{'name': 'Memory1',\n",
       " 'evaluation': '0.0',\n",
       " 'I': '[1, 1, 1]',\n",
       " 'id': '0',\n",
       " 'owner': '',\n",
       " 'logical_time': '0',\n",
       " 'timestamp': '1733073333720'}"
      ]
     },
     "execution_count": 19,
     "metadata": {},
     "output_type": "execute_result"
    }
   ],
   "source": [
    "client.hgetall(\"default_mind:memories:Memory1\")"
   ]
  },
  {
   "cell_type": "code",
   "execution_count": null,
   "metadata": {},
   "outputs": [
    {
     "data": {
      "text/plain": [
       "-1"
      ]
     },
     "execution_count": 20,
     "metadata": {},
     "output_type": "execute_result"
    },
    {
     "name": "stdout",
     "output_type": "stream",
     "text": [
      "Updating memory [Memory1@node0]\n"
     ]
    }
   ],
   "source": [
    "memory1.set_info(\"INFO\")"
   ]
  },
  {
   "cell_type": "code",
   "execution_count": null,
   "metadata": {},
   "outputs": [],
   "source": [
    "time.sleep(1)"
   ]
  },
  {
   "cell_type": "code",
   "execution_count": null,
   "metadata": {},
   "outputs": [
    {
     "data": {
      "text/plain": [
       "{'name': 'Memory1',\n",
       " 'evaluation': '0.0',\n",
       " 'I': '\"INFO\"',\n",
       " 'id': '0',\n",
       " 'owner': '',\n",
       " 'logical_time': '3',\n",
       " 'timestamp': '1733073340798'}"
      ]
     },
     "execution_count": 23,
     "metadata": {},
     "output_type": "execute_result"
    }
   ],
   "source": [
    "client.hgetall(\"default_mind:memories:Memory1\")"
   ]
  },
  {
   "cell_type": "code",
   "execution_count": null,
   "metadata": {},
   "outputs": [
    {
     "data": {
      "text/plain": [
       "MemoryObject [idmemoryobject=0, timestamp=1733073340830, evaluation=0.0, I=INFO, name=Memory1]"
      ]
     },
     "execution_count": 24,
     "metadata": {},
     "output_type": "execute_result"
    }
   ],
   "source": [
    "mind2_memory1"
   ]
  },
  {
   "cell_type": "code",
   "execution_count": null,
   "metadata": {},
   "outputs": [],
   "source": [
    "time.sleep(1)"
   ]
  },
  {
   "cell_type": "code",
   "execution_count": null,
   "metadata": {},
   "outputs": [
    {
     "data": {
      "text/plain": [
       "{'name': 'Memory1',\n",
       " 'evaluation': '0.0',\n",
       " 'I': '\"INFO\"',\n",
       " 'id': '0',\n",
       " 'owner': '',\n",
       " 'logical_time': '3',\n",
       " 'timestamp': '1733073340798'}"
      ]
     },
     "execution_count": 26,
     "metadata": {},
     "output_type": "execute_result"
    }
   ],
   "source": [
    "client.hgetall(\"default_mind:memories:Memory1\")"
   ]
  },
  {
   "cell_type": "code",
   "execution_count": null,
   "metadata": {},
   "outputs": [
    {
     "name": "stdout",
     "output_type": "stream",
     "text": [
      "Updating memory [Memory1@node]\n",
      "\n",
      "PRINT Updating memory [Memory1@node]\n",
      "\n",
      "Sending memory [Memory1@node]\n",
      "Updating memory [Memory1@node0]\n",
      "\n",
      "PRINT Updating memory [Memory1@node0]\n",
      "Updating memory [Memory1@node]\n",
      "\n",
      "\n",
      "PRINT Updating memory [Memory1@node]\n",
      "\n",
      "Retrieving memory [Memory1@node0]\n"
     ]
    }
   ],
   "source": [
    "mind2_memory1.set_info(\"INFO2\")\n",
    "time.sleep(1)"
   ]
  },
  {
   "cell_type": "code",
   "execution_count": null,
   "metadata": {},
   "outputs": [
    {
     "data": {
      "text/plain": [
       "{'name': 'Memory1',\n",
       " 'evaluation': '0.0',\n",
       " 'I': '\"INFO2\"',\n",
       " 'id': '0',\n",
       " 'owner': '',\n",
       " 'logical_time': '6',\n",
       " 'timestamp': '1733073348658'}"
      ]
     },
     "execution_count": 28,
     "metadata": {},
     "output_type": "execute_result"
    }
   ],
   "source": [
    "client.hgetall(\"default_mind:memories:Memory1\")"
   ]
  },
  {
   "cell_type": "code",
   "execution_count": null,
   "metadata": {},
   "outputs": [
    {
     "data": {
      "text/plain": [
       "MemoryObject [idmemoryobject=0, timestamp=1733073348735, evaluation=0.0, I=INFO2, name=Memory1]"
      ]
     },
     "execution_count": 29,
     "metadata": {},
     "output_type": "execute_result"
    }
   ],
   "source": [
    "memory1"
   ]
  },
  {
   "cell_type": "code",
   "execution_count": null,
   "metadata": {},
   "outputs": [
    {
     "name": "stdout",
     "output_type": "stream",
     "text": [
      "Updating memory [Memory1@node0]\n",
      "\n",
      "PRINT Updating memory [Memory1@node0]\n",
      "\n",
      "Sending memory [Memory1@node0]\n",
      "Updating memory [Memory1@node]\n",
      "\n",
      "PRINT Updating memory [Memory1@node]\n",
      "\n",
      "Updating memory [Memory1@node0]\n",
      "\n",
      "PRINT Updating memory [Memory1@node0]\n",
      "\n",
      "Retrieving memory [Memory1@node]\n"
     ]
    }
   ],
   "source": [
    "memory1.set_info(1)\n",
    "time.sleep(1)"
   ]
  },
  {
   "cell_type": "code",
   "execution_count": null,
   "metadata": {},
   "outputs": [
    {
     "data": {
      "text/plain": [
       "{'default_mind:nodes:node:transfer_memory': <bound method MemoryStorageCodelet._handler_transfer_memory of <cst_python.memory_storage.memory_storage.MemoryStorageCodelet object at 0x00000128877E7450>>,\n",
       " 'default_mind:nodes:node:transfer_done': <bound method MemoryStorageCodelet._handler_notify_transfer of <cst_python.memory_storage.memory_storage.MemoryStorageCodelet object at 0x00000128877E7450>>,\n",
       " 'default_mind:memories:Memory1:update': functools.partial(<function MemoryStorageCodelet.proc.<locals>.<lambda> at 0x00000128877A7CE0>, name='Memory1')}"
      ]
     },
     "execution_count": 31,
     "metadata": {},
     "output_type": "execute_result"
    }
   ],
   "source": [
    "mind2_ms_codelet._pubsub.channels"
   ]
  },
  {
   "cell_type": "code",
   "execution_count": null,
   "metadata": {},
   "outputs": [
    {
     "data": {
      "text/plain": [
       "1"
      ]
     },
     "execution_count": 32,
     "metadata": {},
     "output_type": "execute_result"
    }
   ],
   "source": [
    "mind2_memory1.get_info()"
   ]
  },
  {
   "cell_type": "code",
   "execution_count": null,
   "metadata": {},
   "outputs": [
    {
     "name": "stdout",
     "output_type": "stream",
     "text": [
      "Updating memory [Memory1@node0]\n",
      "\n",
      "PRINT Updating memory [Memory1@node0]\n",
      "\n",
      "Sending memory [Memory1@node0]\n",
      "Updating memory [Memory1@node0]\n",
      "\n",
      "PRINT Updating memory [Memory1@node0]\n",
      "Updating memory [Memory1@node]\n",
      "\n",
      "\n",
      "PRINT Updating memory [Memory1@node]\n",
      "\n",
      "Retrieving memory [Memory1@node]\n"
     ]
    }
   ],
   "source": [
    "memory1.set_info(\"1\")\n",
    "time.sleep(1)"
   ]
  },
  {
   "cell_type": "code",
   "execution_count": null,
   "metadata": {},
   "outputs": [
    {
     "data": {
      "text/plain": [
       "'1'"
      ]
     },
     "execution_count": 34,
     "metadata": {},
     "output_type": "execute_result"
    }
   ],
   "source": [
    "mind2_memory1.get_info()"
   ]
  },
  {
   "cell_type": "code",
   "execution_count": null,
   "metadata": {},
   "outputs": [
    {
     "name": "stdout",
     "output_type": "stream",
     "text": [
      "Updating memory [Memory1@node0]\n",
      "\n",
      "PRINT Updating memory [Memory1@node0]\n",
      "\n",
      "Sending memory [Memory1@node0]\n",
      "Updating memory [Memory1@node0]\n",
      "\n",
      "PRINT Updating memory [Memory1@node0]\n",
      "\n",
      "Updating memory [Memory1@node]\n",
      "\n",
      "PRINT Updating memory [Memory1@node]\n",
      "\n",
      "Retrieving memory [Memory1@node]\n"
     ]
    }
   ],
   "source": [
    "memory1.set_info(True)\n",
    "time.sleep(1)\n"
   ]
  },
  {
   "cell_type": "code",
   "execution_count": null,
   "metadata": {},
   "outputs": [
    {
     "data": {
      "text/plain": [
       "(True, bool)"
      ]
     },
     "execution_count": 36,
     "metadata": {},
     "output_type": "execute_result"
    }
   ],
   "source": [
    "mind2_memory1.get_info(), type(mind2_memory1.get_info())"
   ]
  },
  {
   "cell_type": "code",
   "execution_count": null,
   "metadata": {},
   "outputs": [
    {
     "name": "stdout",
     "output_type": "stream",
     "text": [
      "Updating memory [Memory1@node0]\n",
      "\n",
      "PRINT Updating memory [Memory1@node0]\n",
      "\n",
      "Sending memory [Memory1@node0]\n",
      "Updating memory [Memory1@node]\n",
      "\n",
      "PRINT Updating memory [Memory1@node]\n",
      "\n",
      "Updating memory [Memory1@node0]\n",
      "\n",
      "PRINT Updating memory [Memory1@node0]\n",
      "\n",
      "Retrieving memory [Memory1@node]\n"
     ]
    },
    {
     "data": {
      "text/plain": [
       "([1, 2, 3], list)"
      ]
     },
     "execution_count": 37,
     "metadata": {},
     "output_type": "execute_result"
    }
   ],
   "source": [
    "memory1.set_info([1,2,3])\n",
    "time.sleep(1)\n",
    "mind2_memory1.get_info(), type(mind2_memory1.get_info())"
   ]
  },
  {
   "cell_type": "code",
   "execution_count": null,
   "metadata": {},
   "outputs": [],
   "source": []
  }
 ],
 "metadata": {
  "kernelspec": {
   "display_name": "Python 3",
   "language": "python",
   "name": "python3"
  },
  "language_info": {
   "codemirror_mode": {
    "name": "ipython",
    "version": 3
   },
   "file_extension": ".py",
   "mimetype": "text/x-python",
   "name": "python",
   "nbconvert_exporter": "python",
   "pygments_lexer": "ipython3",
   "version": "3.11.9"
  }
 },
 "nbformat": 4,
 "nbformat_minor": 2
}
