{
 "cells": [
  {
   "cell_type": "code",
   "execution_count": 22,
   "metadata": {},
   "outputs": [],
   "source": [
    "import redis\n",
    "import cst_python as cst\n",
    "import json"
   ]
  },
  {
   "cell_type": "code",
   "execution_count": 23,
   "metadata": {},
   "outputs": [],
   "source": [
    "mind_name = \"default_mind\""
   ]
  },
  {
   "cell_type": "code",
   "execution_count": 24,
   "metadata": {},
   "outputs": [],
   "source": [
    "client = redis.Redis(decode_responses=True)\n",
    "pubsub = client.pubsub()"
   ]
  },
  {
   "cell_type": "code",
   "execution_count": 25,
   "metadata": {},
   "outputs": [
    {
     "data": {
      "text/plain": [
       "True"
      ]
     },
     "execution_count": 25,
     "metadata": {},
     "output_type": "execute_result"
    }
   ],
   "source": [
    "client.flushall()"
   ]
  },
  {
   "cell_type": "markdown",
   "metadata": {},
   "source": [
    "Node1 publica que existe"
   ]
  },
  {
   "cell_type": "code",
   "execution_count": 26,
   "metadata": {},
   "outputs": [
    {
     "data": {
      "text/plain": [
       "1"
      ]
     },
     "execution_count": 26,
     "metadata": {},
     "output_type": "execute_result"
    }
   ],
   "source": [
    "client.lpush(f\"{mind_name}:nodes\", \"node1\")"
   ]
  },
  {
   "cell_type": "code",
   "execution_count": 27,
   "metadata": {},
   "outputs": [],
   "source": [
    "class MemoryEncoder(json.JSONEncoder):\n",
    "    def default(self, memory:cst.core.entities.Memory):\n",
    "        return MemoryEncoder.to_dict(memory)\n",
    "    \n",
    "    @staticmethod\n",
    "    def to_dict(memory:cst.core.entities.Memory):\n",
    "        data = {\n",
    "            \"timestamp\": memory.get_timestamp(),\n",
    "            \"evaluation\": memory.get_evaluation(),\n",
    "            \"I\": memory.get_info(),\n",
    "            \"name\": memory.get_name(),\n",
    "            \"id\": memory.get_id()\n",
    "        }\n",
    "\n",
    "        return data"
   ]
  },
  {
   "cell_type": "markdown",
   "metadata": {},
   "source": [
    "Node1 checa se memória com id \"memory1\" existe. Como não, publica key:"
   ]
  },
  {
   "cell_type": "code",
   "execution_count": 28,
   "metadata": {},
   "outputs": [],
   "source": [
    "def update_memory(memory_name, memory_object:cst.MemoryObject, client:redis.Redis):\n",
    "    timestamp = float(client.hget(f\"{mind_name}:memories:{memory_name}\", \"timestamp\"))\n",
    "    \n",
    "    if memory_object.timestamp < timestamp:\n",
    "        print(\"Retrieve update\")\n",
    "        memory_dict = client.hgetall(f\"{mind_name}:memories:{memory_name}\")\n",
    "\n",
    "        memory_object.set_evaluation(float(memory_dict[\"evaluation\"]))\n",
    "        memory_object.set_name(memory_dict[\"name\"])\n",
    "        memory_object.set_id(float(memory_dict[\"id\"]))\n",
    "\n",
    "        info_json = memory_dict[\"I\"]\n",
    "        info = json.loads(info_json)\n",
    "\n",
    "        memory_object.set_info(info)\n",
    "\n",
    "        memory_object.timestamp = float(memory_dict[\"timestamp\"])\n",
    "    elif memory_object.timestamp > timestamp:\n",
    "        print(\"Send update\")\n",
    "        memory_dict = MemoryEncoder.to_dict(memory_object)\n",
    "        memory_dict[\"I\"] = json.dumps(memory_dict[\"I\"])\n",
    "\n",
    "        client.hset(f\"{mind_name}:memories:{memory_name}\", mapping=memory_dict)\n",
    "        client.publish(f\"{mind_name}:memories:{memory_name}:update\", \"\")"
   ]
  },
  {
   "cell_type": "code",
   "execution_count": 29,
   "metadata": {},
   "outputs": [],
   "source": [
    "def create_memory(node, memory_name, client:redis.Redis, pubsub:redis.client.PubSub) -> cst.MemoryObject:\n",
    "    memory = cst.MemoryObject()\n",
    "\n",
    "    if client.exists(f\"{mind_name}:memories:{memory_name}\"):\n",
    "        memory_dict = client.hgetall(f\"{mind_name}:memories:{memory_name}\")\n",
    "\n",
    "        if memory_dict[\"owner\"] != \"\":\n",
    "            #Solicita memória\n",
    "            pass\n",
    "\n",
    "\n",
    "        #Copia memória\n",
    "        print(\"Copia\")\n",
    "\n",
    "        memory_dict = client.hgetall(f\"{mind_name}:memories:{memory_name}\")\n",
    "\n",
    "        memory.set_evaluation(float(memory_dict[\"evaluation\"]))\n",
    "        memory.set_name(memory_dict[\"name\"])\n",
    "        memory.set_id(float(memory_dict[\"id\"]))\n",
    "\n",
    "        info_json = memory_dict[\"I\"]\n",
    "        info = json.loads(info_json)\n",
    "\n",
    "        memory.set_info(info)\n",
    "\n",
    "        memory.timestamp = float(memory_dict[\"timestamp\"])\n",
    "    else:\n",
    "        #Indica que memória existe\n",
    "        print(\"Cria\")\n",
    "        client.lpush(f\"{node}:memories\", memory_name)\n",
    "\n",
    "        memory_dict = MemoryEncoder.to_dict(memory)\n",
    "        memory_dict[\"I\"] = json.dumps(memory_dict[\"I\"])\n",
    "        memory_dict[\"owner\"] = \"\" #node\n",
    "\n",
    "        client.hset(f\"{mind_name}:memories:{memory_name}\", mapping=memory_dict)\n",
    "\n",
    "    subscribe_func = lambda message : update_memory(memory_name, memory, client)\n",
    "    pubsub.subscribe(**{f\"{mind_name}:memories:{memory_name}:update\":subscribe_func})\n",
    "\n",
    "    return memory"
   ]
  },
  {
   "cell_type": "code",
   "execution_count": 30,
   "metadata": {},
   "outputs": [
    {
     "name": "stdout",
     "output_type": "stream",
     "text": [
      "Cria\n"
     ]
    }
   ],
   "source": [
    "memory1 = create_memory(\"node1\", \"memory1\", client, pubsub)"
   ]
  },
  {
   "cell_type": "code",
   "execution_count": 31,
   "metadata": {},
   "outputs": [
    {
     "data": {
      "text/plain": [
       "MemoryObject [idmemoryobject=0.0, timestamp=0.0, evaluation=0.0, I=None, name=]"
      ]
     },
     "execution_count": 31,
     "metadata": {},
     "output_type": "execute_result"
    }
   ],
   "source": [
    "memory1"
   ]
  },
  {
   "cell_type": "markdown",
   "metadata": {},
   "source": [
    "node2 entra no jogo"
   ]
  },
  {
   "cell_type": "code",
   "execution_count": 32,
   "metadata": {},
   "outputs": [],
   "source": [
    "client2 = redis.Redis(decode_responses=True)\n",
    "pubsub2 = client2.pubsub()"
   ]
  },
  {
   "cell_type": "code",
   "execution_count": 33,
   "metadata": {},
   "outputs": [
    {
     "data": {
      "text/plain": [
       "2"
      ]
     },
     "execution_count": 33,
     "metadata": {},
     "output_type": "execute_result"
    }
   ],
   "source": [
    "client2.lpush(f\"{mind_name}:nodes\", \"node2\")"
   ]
  },
  {
   "cell_type": "code",
   "execution_count": 34,
   "metadata": {},
   "outputs": [
    {
     "data": {
      "text/plain": [
       "['node2', 'node1']"
      ]
     },
     "execution_count": 34,
     "metadata": {},
     "output_type": "execute_result"
    }
   ],
   "source": [
    "nodes = client2.lrange(f\"{mind_name}:nodes\", 0, -1)\n",
    "nodes"
   ]
  },
  {
   "cell_type": "markdown",
   "metadata": {},
   "source": [
    "node2 tenta criar memória, percebe que existe e sincroniza"
   ]
  },
  {
   "cell_type": "code",
   "execution_count": 35,
   "metadata": {},
   "outputs": [
    {
     "data": {
      "text/plain": [
       "{'timestamp': '0.0',\n",
       " 'evaluation': '0.0',\n",
       " 'I': 'null',\n",
       " 'name': '',\n",
       " 'id': '0.0',\n",
       " 'owner': ''}"
      ]
     },
     "execution_count": 35,
     "metadata": {},
     "output_type": "execute_result"
    }
   ],
   "source": [
    "client.hgetall(f\"{mind_name}:memories:memory1\")"
   ]
  },
  {
   "cell_type": "code",
   "execution_count": 36,
   "metadata": {},
   "outputs": [
    {
     "name": "stdout",
     "output_type": "stream",
     "text": [
      "Copia\n"
     ]
    },
    {
     "data": {
      "text/plain": [
       "MemoryObject [idmemoryobject=0.0, timestamp=0.0, evaluation=0.0, I=None, name=]"
      ]
     },
     "execution_count": 36,
     "metadata": {},
     "output_type": "execute_result"
    }
   ],
   "source": [
    "node2_memory1 = create_memory(\"node2\", \"memory1\", client2, pubsub2)\n",
    "\n",
    "node2_memory1"
   ]
  },
  {
   "cell_type": "code",
   "execution_count": 37,
   "metadata": {},
   "outputs": [
    {
     "name": "stdout",
     "output_type": "stream",
     "text": [
      "Cria\n"
     ]
    },
    {
     "data": {
      "text/plain": [
       "MemoryObject [idmemoryobject=0.0, timestamp=0.0, evaluation=0.0, I=None, name=]"
      ]
     },
     "execution_count": 37,
     "metadata": {},
     "output_type": "execute_result"
    }
   ],
   "source": [
    "memory2 = create_memory(\"node2\", \"memory2\", client2, pubsub2)\n",
    "\n",
    "memory2"
   ]
  },
  {
   "cell_type": "code",
   "execution_count": 38,
   "metadata": {},
   "outputs": [
    {
     "name": "stdout",
     "output_type": "stream",
     "text": [
      "Send update\n"
     ]
    }
   ],
   "source": [
    "node2_memory1.set_info(\"INFO\")\n",
    "update_memory(\"memory1\", node2_memory1, client2)"
   ]
  },
  {
   "cell_type": "code",
   "execution_count": 39,
   "metadata": {},
   "outputs": [
    {
     "name": "stdout",
     "output_type": "stream",
     "text": [
      "{'type': 'subscribe', 'pattern': None, 'channel': 'default_mind:memories:memory1:update', 'data': 1}\n",
      "Retrieve update\n",
      "{'type': 'subscribe', 'pattern': None, 'channel': 'default_mind:memories:memory1:update', 'data': 1}\n",
      "{'type': 'subscribe', 'pattern': None, 'channel': 'default_mind:memories:memory2:update', 'data': 2}\n"
     ]
    }
   ],
   "source": [
    "for _pubsub in [pubsub, pubsub2]:\n",
    "    msg = _pubsub.get_message()\n",
    "    while msg is not None:\n",
    "        print(msg)\n",
    "        msg = _pubsub.get_message()"
   ]
  },
  {
   "cell_type": "code",
   "execution_count": 40,
   "metadata": {},
   "outputs": [
    {
     "data": {
      "text/plain": [
       "{'timestamp': '1725638895.8791993',\n",
       " 'evaluation': '0.0',\n",
       " 'I': '\"INFO\"',\n",
       " 'name': '',\n",
       " 'id': '0.0',\n",
       " 'owner': ''}"
      ]
     },
     "execution_count": 40,
     "metadata": {},
     "output_type": "execute_result"
    }
   ],
   "source": [
    "client.hgetall(f\"{mind_name}:memories:memory1\")"
   ]
  },
  {
   "cell_type": "code",
   "execution_count": 42,
   "metadata": {},
   "outputs": [],
   "source": []
  }
 ],
 "metadata": {
  "kernelspec": {
   "display_name": "Python 3",
   "language": "python",
   "name": "python3"
  },
  "language_info": {
   "codemirror_mode": {
    "name": "ipython",
    "version": 3
   },
   "file_extension": ".py",
   "mimetype": "text/x-python",
   "name": "python",
   "nbconvert_exporter": "python",
   "pygments_lexer": "ipython3",
   "version": "3.11.9"
  }
 },
 "nbformat": 4,
 "nbformat_minor": 2
}
