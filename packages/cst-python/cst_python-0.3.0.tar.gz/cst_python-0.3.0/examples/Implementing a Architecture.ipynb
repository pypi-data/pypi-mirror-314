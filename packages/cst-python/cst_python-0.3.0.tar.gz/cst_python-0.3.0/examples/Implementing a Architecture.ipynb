{
 "cells": [
  {
   "cell_type": "markdown",
   "metadata": {},
   "source": [
    "# Implementing a Architecture\n",
    "\n",
    "[![Open in Colab](https://img.shields.io/badge/Open%20in%20Colab-F9AB00?style=for-the-badge&logo=googlecolab&color=525252)](https://colab.research.google.com/github/H-IAAC/CST-Python/blob/main/examples/Implementing%20a%20Architecture.ipynb) [![Open in Github](https://img.shields.io/badge/Open%20in%20Github-100000?style=for-the-badge&logo=github&logoColor=white)](https://github.com/H-IAAC/CST-Python/blob/main/examples/Implementing%20a%20Architecture.ipynb)\n",
    "\n",
    "A cognitive architecture in the CST is implemented using a combination of Codelets and Memories inside a Mind. Each Codelet will communicate with the others using only the Memories."
   ]
  },
  {
   "cell_type": "markdown",
   "metadata": {},
   "source": [
    "## Diagrams\n",
    "\n",
    "Before implementing the code, it is common to prepare a diagram describing all the elements of the architecture.\n",
    "\n",
    "For that, it is defined a visual language:"
   ]
  },
  {
   "cell_type": "markdown",
   "metadata": {},
   "source": [
    "The **Codelet** symbol:\n",
    "\n",
    "![](./Implementing%20a%20Architecture/Codelet.png)\n",
    "\n",
    "The string inside the symbol is the Codelet name. The left ports are its inputs, the _local input (LI)_ and the _global input (GI)_, and the right ports its outputs, the _standard output (O)_ and the _activation level (A)_. The LI and A ports will be discussed in later examples."
   ]
  },
  {
   "cell_type": "markdown",
   "metadata": {},
   "source": [
    "The Memory Object symbol:\n",
    "\n",
    "![](./Implementing%20a%20Architecture/MemoryObject.png)"
   ]
  },
  {
   "cell_type": "markdown",
   "metadata": {},
   "source": [
    "So, if we have a Codelet \"My Codelet\", that reads from \"Input Memory\" and writes to \"Output Memory\", the diagram is going to be:\n",
    "\n",
    "![](./Implementing%20a%20Architecture/SimpleDiagram.png)"
   ]
  },
  {
   "cell_type": "markdown",
   "metadata": {},
   "source": [
    "Its also possible to group memories in a _Memory Group_:\n",
    "\n",
    "![](./Implementing%20a%20Architecture/MemoryGroup.png)"
   ]
  },
  {
   "cell_type": "markdown",
   "metadata": {},
   "source": [
    "For creating a diagram, a [draw.io](https://www.drawio.com/) shape library is provided: [shape library](https://github.com/H-IAAC/CST-Python/blob/2065cb3f29931867de37ec39b40839d82c1331fc/resources/CST-Library.xml)."
   ]
  },
  {
   "cell_type": "markdown",
   "metadata": {},
   "source": [
    "## Example architecture"
   ]
  },
  {
   "cell_type": "markdown",
   "metadata": {},
   "source": [
    "Our example architecture is going to solve a simple quadratic equation in the form $ax^2+bx+c=0$.\n",
    "\n",
    "For that, the equation parameters $a$, $b$ and $c$ will be stored in Memory Objects, two \"SolveEquation\" will solve the equation computing the two different solutions, and a final \"JoinResults\" codelet will join each result to a final memory:"
   ]
  },
  {
   "cell_type": "markdown",
   "metadata": {},
   "source": [
    "![](./Implementing%20a%20Architecture/diagram.png)"
   ]
  },
  {
   "cell_type": "markdown",
   "metadata": {},
   "source": [
    "For that, we start importing the necessary modules:"
   ]
  },
  {
   "cell_type": "code",
   "execution_count": 1,
   "metadata": {},
   "outputs": [],
   "source": [
    "try:\n",
    "    import cst_python\n",
    "except:\n",
    "    !python3 -m pip install cst_python"
   ]
  },
  {
   "cell_type": "code",
   "execution_count": 2,
   "metadata": {},
   "outputs": [],
   "source": [
    "import math # Math operations\n",
    "import time # Sleep\n",
    "\n",
    "import cst_python as cst # CST-Python module"
   ]
  },
  {
   "cell_type": "markdown",
   "metadata": {},
   "source": [
    "And we can implement the `SolveEquationCodelet` using the quadratic formula. Note that the codelet can receive two parameters: if should compute the second solution (`negative`), and the output memory name `output_name`:"
   ]
  },
  {
   "cell_type": "code",
   "execution_count": 3,
   "metadata": {},
   "outputs": [],
   "source": [
    "class SolveEquationCodelet(cst.Codelet):\n",
    "\n",
    "    def __init__(self, negative:bool=False, output_name:str=\"x\"):\n",
    "        super().__init__()\n",
    "\n",
    "        self._negative = negative\n",
    "        self._output_name = output_name\n",
    "\n",
    "        self._a_mo : None | cst.MemoryObject = None\n",
    "        self._b_mo : None | cst.MemoryObject = None\n",
    "        self._c_mo : None | cst.MemoryObject = None\n",
    "        self._x_mo : None | cst.MemoryObject = None\n",
    "\n",
    "    def access_memory_objects(self):\n",
    "        self._a_mo = self.get_input(name=\"a\")\n",
    "        self._b_mo = self.get_input(name=\"b\")\n",
    "        self._c_mo = self.get_input(name=\"c\")\n",
    "\n",
    "        self._x_mo = self.get_output(name=self._output_name)\n",
    "\n",
    "    def calculate_activation(self):\n",
    "        pass\n",
    "\n",
    "    def proc(self):\n",
    "        a = self._a_mo.get_info()\n",
    "        b = self._b_mo.get_info()\n",
    "        c = self._c_mo.get_info()\n",
    "\n",
    "        delta = math.pow(b, 2) - (4*a*c)\n",
    "        delta_sqrt = math.sqrt(delta)\n",
    "\n",
    "        if self._negative:\n",
    "            delta_sqrt *= -1\n",
    "        \n",
    "        if a == 0:\n",
    "            if b == 0:\n",
    "                x = float(\"nan\")\n",
    "            else:\n",
    "                x = -c/b\n",
    "        else:  \n",
    "            x = (-b + delta_sqrt)/(2*a)\n",
    "\n",
    "        self._x_mo.set_info(x)\n",
    "    "
   ]
  },
  {
   "cell_type": "markdown",
   "metadata": {},
   "source": [
    "The `JoinResultsCodelet` is going to get all its inputs and send to a unified result:"
   ]
  },
  {
   "cell_type": "code",
   "execution_count": 4,
   "metadata": {},
   "outputs": [],
   "source": [
    "class JoinResultsCodelet(cst.Codelet):\n",
    "    def __init__(self):\n",
    "        super().__init__()\n",
    "        self._result_mo : None | cst.MemoryObject = None\n",
    "\n",
    "    def access_memory_objects(self):\n",
    "        self._result_mo = self.get_output(name=\"result\")\n",
    "\n",
    "    def calculate_activation(self):\n",
    "        pass\n",
    "\n",
    "    def proc(self):\n",
    "        result = []\n",
    "\n",
    "        for input_mo in self.inputs:\n",
    "            result.append(input_mo.get_info())\n",
    "\n",
    "        self._result_mo.set_info(result)\n"
   ]
  },
  {
   "cell_type": "markdown",
   "metadata": {},
   "source": [
    "Now that we have all the codelets defined, we can start creating the agent mind:"
   ]
  },
  {
   "cell_type": "code",
   "execution_count": 5,
   "metadata": {},
   "outputs": [],
   "source": [
    "mind = cst.Mind()"
   ]
  },
  {
   "cell_type": "markdown",
   "metadata": {},
   "source": [
    "Starting with the memories, observe that the Memory Groups defined in the diagram is created using a `mind.create_memory_group`, and each memory is assigned to the group using `register_memory`, and that each memory starting info is defined (instead of `None`) to avoid exceptions inside the codelets:"
   ]
  },
  {
   "cell_type": "code",
   "execution_count": 6,
   "metadata": {},
   "outputs": [],
   "source": [
    "# Input\n",
    "\n",
    "mind.create_memory_group(\"Input\")\n",
    "\n",
    "a_mo = mind.create_memory_object(\"a\", 0)\n",
    "b_mo = mind.create_memory_object(\"b\", 0)\n",
    "c_mo = mind.create_memory_object(\"c\", 0)\n",
    "\n",
    "mind.register_memory(a_mo, \"Input\")\n",
    "mind.register_memory(b_mo, \"Input\")\n",
    "mind.register_memory(c_mo, \"Input\")\n",
    "\n",
    "# Working Memory\n",
    "\n",
    "mind.create_memory_group(\"Working Memory\")\n",
    "\n",
    "x1_mo = mind.create_memory_object(\"x1\", 0)\n",
    "x2_mo = mind.create_memory_object(\"x2\", 0)\n",
    "\n",
    "mind.register_memory(x1_mo, \"Working Memory\")\n",
    "mind.register_memory(x2_mo, \"Working Memory\")\n",
    "\n",
    "# Output\n",
    "\n",
    "mind.create_memory_group(\"Output\")\n",
    "\n",
    "result_mo = mind.create_memory_object(\"result\")\n",
    "\n",
    "mind.register_memory(result_mo, \"Output\")\n"
   ]
  },
  {
   "cell_type": "markdown",
   "metadata": {},
   "source": [
    "We than create the SolveEquationCodelets:"
   ]
  },
  {
   "cell_type": "code",
   "execution_count": 7,
   "metadata": {},
   "outputs": [],
   "source": [
    "solve_equation1 = SolveEquationCodelet(output_name=\"x1\")\n",
    "solve_equation2 = SolveEquationCodelet(output_name=\"x2\", negative=True)\n",
    "\n",
    "solve_equation1.add_inputs([a_mo, b_mo, c_mo])\n",
    "solve_equation2.add_inputs([a_mo, b_mo, c_mo])\n",
    "\n",
    "solve_equation1.add_output(x1_mo)\n",
    "solve_equation2.add_output(x2_mo)"
   ]
  },
  {
   "cell_type": "markdown",
   "metadata": {},
   "source": [
    "And the JoinResultsCodelet:"
   ]
  },
  {
   "cell_type": "code",
   "execution_count": 8,
   "metadata": {},
   "outputs": [],
   "source": [
    "join_results = JoinResultsCodelet()\n",
    "\n",
    "join_results.add_inputs([x1_mo, x2_mo])\n",
    "join_results.add_output(result_mo)"
   ]
  },
  {
   "cell_type": "markdown",
   "metadata": {},
   "source": [
    "Finally, we can add the codelets to the mind and start it. Before that, we change the time step of each codelet to 10 ms:"
   ]
  },
  {
   "cell_type": "code",
   "execution_count": 9,
   "metadata": {},
   "outputs": [],
   "source": [
    "solve_equation1.time_step = 10\n",
    "solve_equation2.time_step = 10\n",
    "join_results.time_step = 10\n",
    "\n",
    "mind.insert_codelet(solve_equation1)\n",
    "mind.insert_codelet(solve_equation2)\n",
    "mind.insert_codelet(join_results)\n",
    "\n",
    "mind.start()"
   ]
  },
  {
   "cell_type": "markdown",
   "metadata": {},
   "source": [
    "We can check the initial result for the equation $0x^2+0x+c = 0$, that is unsovable equation: "
   ]
  },
  {
   "cell_type": "code",
   "execution_count": 10,
   "metadata": {
    "tags": [
     "equation1"
    ]
   },
   "outputs": [
    {
     "data": {
      "text/plain": [
       "[nan, nan]"
      ]
     },
     "execution_count": 10,
     "metadata": {},
     "output_type": "execute_result"
    }
   ],
   "source": [
    "result_mo.get_info()"
   ]
  },
  {
   "cell_type": "markdown",
   "metadata": {},
   "source": [
    "We can than change the input values to solve different equations:"
   ]
  },
  {
   "cell_type": "markdown",
   "metadata": {},
   "source": [
    "$1x^2 = 0$"
   ]
  },
  {
   "cell_type": "code",
   "execution_count": 11,
   "metadata": {
    "tags": [
     "equation2"
    ]
   },
   "outputs": [
    {
     "data": {
      "text/plain": [
       "[0.0, 0.0]"
      ]
     },
     "execution_count": 11,
     "metadata": {},
     "output_type": "execute_result"
    }
   ],
   "source": [
    "a_mo.set_info(1)\n",
    "\n",
    "time.sleep(0.1)\n",
    "\n",
    "result_mo.get_info()"
   ]
  },
  {
   "cell_type": "markdown",
   "metadata": {},
   "source": [
    "$-4x^2+8x+0=0$"
   ]
  },
  {
   "cell_type": "code",
   "execution_count": 12,
   "metadata": {
    "tags": [
     "equation3"
    ]
   },
   "outputs": [
    {
     "data": {
      "text/plain": [
       "[-0.0, 2.0]"
      ]
     },
     "execution_count": 12,
     "metadata": {},
     "output_type": "execute_result"
    }
   ],
   "source": [
    "a_mo.set_info(-4)\n",
    "b_mo.set_info(8)\n",
    "c_mo.set_info(0)\n",
    "\n",
    "time.sleep(0.1)\n",
    "\n",
    "result_mo.get_info()"
   ]
  },
  {
   "cell_type": "markdown",
   "metadata": {},
   "source": [
    "$5x^2-6x+9=0$"
   ]
  },
  {
   "cell_type": "code",
   "execution_count": 13,
   "metadata": {
    "tags": [
     "equation4"
    ]
   },
   "outputs": [
    {
     "data": {
      "text/plain": [
       "[3.0, 3.0]"
      ]
     },
     "execution_count": 13,
     "metadata": {},
     "output_type": "execute_result"
    }
   ],
   "source": [
    "a_mo.set_info(1)\n",
    "b_mo.set_info(-6)\n",
    "c_mo.set_info(9)\n",
    "\n",
    "time.sleep(0.1)\n",
    "\n",
    "result_mo.get_info()"
   ]
  },
  {
   "cell_type": "markdown",
   "metadata": {},
   "source": [
    "In the end, we stop the agent mind:"
   ]
  },
  {
   "cell_type": "code",
   "execution_count": 14,
   "metadata": {},
   "outputs": [],
   "source": [
    "mind.shutdown()"
   ]
  }
 ],
 "metadata": {
  "kernelspec": {
   "display_name": "Python 3",
   "language": "python",
   "name": "python3"
  },
  "language_info": {
   "codemirror_mode": {
    "name": "ipython",
    "version": 3
   },
   "file_extension": ".py",
   "mimetype": "text/x-python",
   "name": "python",
   "nbconvert_exporter": "python",
   "pygments_lexer": "ipython3",
   "version": "3.11.9"
  }
 },
 "nbformat": 4,
 "nbformat_minor": 2
}
