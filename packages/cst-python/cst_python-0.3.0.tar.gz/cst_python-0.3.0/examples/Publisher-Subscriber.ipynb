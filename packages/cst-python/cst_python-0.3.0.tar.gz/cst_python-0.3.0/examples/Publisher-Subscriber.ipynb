{
 "cells": [
  {
   "cell_type": "markdown",
   "metadata": {},
   "source": [
    "# Publish-Subscribe\n",
    "\n",
    "[![Open in Colab](https://img.shields.io/badge/Open%20in%20Colab-F9AB00?style=for-the-badge&logo=googlecolab&color=525252)](https://colab.research.google.com/github/H-IAAC/CST-Python/blob/main/examples/Publisher-Subscriber.ipynb) [![Open in Github](https://img.shields.io/badge/Open%20in%20Github-100000?style=for-the-badge&logo=github&logoColor=white)](https://github.com/H-IAAC/CST-Python/blob/main/examples/Publisher-Subscriber.ipynb)\n",
    "\n",
    "Sometimes we wish that a codelet is only executed when its input value is changed. For that, we can use the publish-subscribe mechanism."
   ]
  },
  {
   "cell_type": "markdown",
   "metadata": {},
   "source": [
    "For exemplify that, we are going to implement a agent that computes the average of its input values:\n",
    "\n",
    "![](./Publisher-Subscriber/diagram.png)"
   ]
  },
  {
   "cell_type": "markdown",
   "metadata": {},
   "source": [
    "Lets start by importing the necessary modules:"
   ]
  },
  {
   "cell_type": "code",
   "execution_count": null,
   "metadata": {},
   "outputs": [],
   "source": [
    "try:\n",
    "    import cst_python\n",
    "except:\n",
    "    !python3 -m pip install cst_python"
   ]
  },
  {
   "cell_type": "code",
   "execution_count": 1,
   "metadata": {},
   "outputs": [],
   "source": [
    "import time # Sleep\n",
    "\n",
    "import cst_python as cst # CST-Python Module"
   ]
  },
  {
   "cell_type": "markdown",
   "metadata": {},
   "source": [
    "## Naive"
   ]
  },
  {
   "cell_type": "markdown",
   "metadata": {},
   "source": [
    "The first implementation is going to be a naive aproach: we are going to store the last timestamp the input value was changed, and only compute the average when the timestamp increases:"
   ]
  },
  {
   "cell_type": "code",
   "execution_count": 2,
   "metadata": {},
   "outputs": [],
   "source": [
    "class NaiveAverageCodelet(cst.Codelet):\n",
    "    def __init__(self):\n",
    "        super().__init__()\n",
    "\n",
    "        self._value_mo : cst.Codelet | None = None\n",
    "\n",
    "        self._counter_mo : cst.Codelet | None = None\n",
    "        self._avg_mo : cst.Codelet | None = None\n",
    "\n",
    "        self.last_timestamp = 0\n",
    "\n",
    "    def access_memory_objects(self):\n",
    "        self._value_mo = self.get_input(name=\"Value\")\n",
    "\n",
    "        self._counter_mo = self.get_output(name=\"Counter\")\n",
    "        self._avg_mo = self.get_output(name=\"Average\")\n",
    "\n",
    "    def calculate_activation(self):\n",
    "        pass\n",
    "\n",
    "    def proc(self):\n",
    "        \n",
    "        # Check if have a new value\n",
    "        if self._value_mo.get_timestamp() != 0 and self._value_mo.get_timestamp() <= self.last_timestamp:\n",
    "            return\n",
    "        self.last_timestamp = self._value_mo.get_timestamp()\n",
    "\n",
    "        counter : int = self._counter_mo.get_info()\n",
    "        avg : float = self._avg_mo.get_info()\n",
    "\n",
    "        # Retrieve the previous sum\n",
    "        avg *= counter\n",
    "\n",
    "        # Update the values\n",
    "        avg += self._value_mo.get_info()\n",
    "        counter += 1\n",
    "        avg /= counter\n",
    "        \n",
    "        self._avg_mo.set_info(avg)\n",
    "        self._counter_mo.set_info(counter)"
   ]
  },
  {
   "cell_type": "markdown",
   "metadata": {},
   "source": [
    "The `prepare_mind` function creates a new mind with all the necessary memories:"
   ]
  },
  {
   "cell_type": "code",
   "execution_count": 3,
   "metadata": {},
   "outputs": [],
   "source": [
    "def prepare_mind(average_codelet:cst.Codelet):\n",
    "    mind = cst.Mind()\n",
    "\n",
    "    avg_mo = mind.create_memory_object(\"Average\", 0.0)\n",
    "    counter_mo = mind.create_memory_object(\"Counter\", 0)\n",
    "    value_mo = mind.create_memory_object(\"Value\", 0.0)\n",
    "    \n",
    "    average_codelet.add_input(value_mo)\n",
    "\n",
    "    average_codelet.add_output(avg_mo)\n",
    "    average_codelet.add_output(counter_mo)\n",
    "\n",
    "    # Avoid the naive codelet using the first value in the computation\n",
    "    average_codelet.last_timestamp = value_mo.get_timestamp() \n",
    "    \n",
    "    average_codelet.time_step = 10\n",
    "    mind.insert_codelet(average_codelet)\n",
    "\n",
    "    return mind, value_mo, avg_mo"
   ]
  },
  {
   "cell_type": "markdown",
   "metadata": {},
   "source": [
    "We than create the codelet, prepare and start the mind:"
   ]
  },
  {
   "cell_type": "code",
   "execution_count": 4,
   "metadata": {},
   "outputs": [],
   "source": [
    "naive_codelet = NaiveAverageCodelet()\n",
    "\n",
    "mind, value_mo, avg_mo = prepare_mind(naive_codelet)\n",
    "\n",
    "mind.start()"
   ]
  },
  {
   "cell_type": "markdown",
   "metadata": {},
   "source": [
    "For testing, we can set the \"Value\" memory info and check the current average:"
   ]
  },
  {
   "cell_type": "code",
   "execution_count": 5,
   "metadata": {
    "tags": [
     "check_average0"
    ]
   },
   "outputs": [
    {
     "data": {
      "text/plain": [
       "10.0"
      ]
     },
     "execution_count": 5,
     "metadata": {},
     "output_type": "execute_result"
    }
   ],
   "source": [
    "value_mo.set_info(10)\n",
    "\n",
    "time.sleep(0.020)\n",
    "\n",
    "avg_mo.get_info()"
   ]
  },
  {
   "cell_type": "code",
   "execution_count": 6,
   "metadata": {
    "tags": [
     "check_average1"
    ]
   },
   "outputs": [
    {
     "data": {
      "text/plain": [
       "15.0"
      ]
     },
     "execution_count": 6,
     "metadata": {},
     "output_type": "execute_result"
    }
   ],
   "source": [
    "value_mo.set_info(20)\n",
    "\n",
    "time.sleep(0.020)\n",
    "\n",
    "avg_mo.get_info()"
   ]
  },
  {
   "cell_type": "markdown",
   "metadata": {},
   "source": [
    "We then stops the executing mind:"
   ]
  },
  {
   "cell_type": "code",
   "execution_count": 7,
   "metadata": {},
   "outputs": [],
   "source": [
    "mind.shutdown()"
   ]
  },
  {
   "cell_type": "markdown",
   "metadata": {},
   "source": [
    "## Memory Observer"
   ]
  },
  {
   "cell_type": "markdown",
   "metadata": {},
   "source": [
    "In this case, the codelet are not going to check if the input value changed, the `proc` method is more clean and really peforms only the codelet operation. Also, the codelet becomes stateless:"
   ]
  },
  {
   "cell_type": "code",
   "execution_count": 8,
   "metadata": {},
   "outputs": [],
   "source": [
    "class PubSubAverageCodelet(cst.Codelet):\n",
    "    def __init__(self):\n",
    "        super().__init__()\n",
    "\n",
    "        self._value_mo : cst.Codelet | None = None\n",
    "\n",
    "        self._counter_mo : cst.Codelet | None = None\n",
    "        self._avg_mo : cst.Codelet | None = None\n",
    "        \n",
    "\n",
    "    def access_memory_objects(self):\n",
    "        self._value_mo = self.get_input(name=\"Value\")\n",
    "\n",
    "        self._counter_mo = self.get_output(name=\"Counter\")\n",
    "        self._avg_mo = self.get_output(name=\"Average\")\n",
    "\n",
    "    def calculate_activation(self):\n",
    "        pass\n",
    "\n",
    "    def proc(self):\n",
    "        counter : int = self._counter_mo.get_info()\n",
    "        avg : float = self._avg_mo.get_info()\n",
    "\n",
    "        # Retrieve the previous sum\n",
    "        avg *= counter\n",
    "\n",
    "        # Update the values\n",
    "        avg += self._value_mo.get_info()\n",
    "        counter += 1\n",
    "        avg /= counter\n",
    "        \n",
    "        self._avg_mo.set_info(avg)\n",
    "        self._counter_mo.set_info(counter)"
   ]
  },
  {
   "cell_type": "markdown",
   "metadata": {},
   "source": [
    "We than create the codelet and mind as before:"
   ]
  },
  {
   "cell_type": "code",
   "execution_count": 9,
   "metadata": {},
   "outputs": [],
   "source": [
    "average_codelet = PubSubAverageCodelet()\n",
    "\n",
    "mind, value_mo, avg_mo = prepare_mind(average_codelet)"
   ]
  },
  {
   "cell_type": "markdown",
   "metadata": {},
   "source": [
    "In this case, we configure the codelet as a \"memory observer\": it is going to execute the `proc` method only when the observed memory is changed. Than we set the codelet as a observer of the \"Value\" memory and starts the mind:"
   ]
  },
  {
   "cell_type": "code",
   "execution_count": 10,
   "metadata": {},
   "outputs": [],
   "source": [
    "average_codelet.is_memory_observer = True\n",
    "value_mo.add_memory_observer(average_codelet)\n",
    "\n",
    "mind.start()"
   ]
  },
  {
   "cell_type": "markdown",
   "metadata": {},
   "source": [
    "We test the codelet with the same example as before:"
   ]
  },
  {
   "cell_type": "code",
   "execution_count": 11,
   "metadata": {
    "tags": [
     "check_average2"
    ]
   },
   "outputs": [
    {
     "data": {
      "text/plain": [
       "10.0"
      ]
     },
     "execution_count": 11,
     "metadata": {},
     "output_type": "execute_result"
    }
   ],
   "source": [
    "value_mo.set_info(10)\n",
    "\n",
    "time.sleep(0.020)\n",
    "\n",
    "avg_mo.get_info()"
   ]
  },
  {
   "cell_type": "code",
   "execution_count": 12,
   "metadata": {
    "tags": [
     "check_average3"
    ]
   },
   "outputs": [
    {
     "data": {
      "text/plain": [
       "15.0"
      ]
     },
     "execution_count": 12,
     "metadata": {},
     "output_type": "execute_result"
    }
   ],
   "source": [
    "value_mo.set_info(20)\n",
    "\n",
    "time.sleep(0.020)\n",
    "\n",
    "avg_mo.get_info()"
   ]
  },
  {
   "cell_type": "code",
   "execution_count": 13,
   "metadata": {},
   "outputs": [],
   "source": [
    "mind.shutdown()"
   ]
  },
  {
   "cell_type": "markdown",
   "metadata": {},
   "source": [
    "## Publisher-Subscriber\n",
    "\n",
    "The previous example shows how to create a codelet that that selectively waits for some input to change.\n",
    "\n",
    "Sometimes, we wanna the codelet to run when any input (or the only input) changes. In this case, we can use a \"publish-subscriber\" codelet:"
   ]
  },
  {
   "cell_type": "code",
   "execution_count": 14,
   "metadata": {},
   "outputs": [],
   "source": [
    "average_codelet = PubSubAverageCodelet()\n",
    "\n",
    "mind, value_mo, avg_mo = prepare_mind(average_codelet)\n",
    "\n",
    "average_codelet.set_publish_subscribe(True)\n",
    "\n",
    "mind.start()"
   ]
  },
  {
   "cell_type": "code",
   "execution_count": 15,
   "metadata": {
    "tags": [
     "check_average4"
    ]
   },
   "outputs": [
    {
     "data": {
      "text/plain": [
       "10.0"
      ]
     },
     "execution_count": 15,
     "metadata": {},
     "output_type": "execute_result"
    }
   ],
   "source": [
    "value_mo.set_info(10)\n",
    "\n",
    "time.sleep(0.020)\n",
    "\n",
    "avg_mo.get_info()"
   ]
  },
  {
   "cell_type": "code",
   "execution_count": 16,
   "metadata": {
    "tags": [
     "check_average5"
    ]
   },
   "outputs": [
    {
     "data": {
      "text/plain": [
       "15.0"
      ]
     },
     "execution_count": 16,
     "metadata": {},
     "output_type": "execute_result"
    }
   ],
   "source": [
    "value_mo.set_info(20)\n",
    "\n",
    "time.sleep(0.020)\n",
    "\n",
    "avg_mo.get_info()"
   ]
  }
 ],
 "metadata": {
  "kernelspec": {
   "display_name": "Python 3",
   "language": "python",
   "name": "python3"
  },
  "language_info": {
   "codemirror_mode": {
    "name": "ipython",
    "version": 3
   },
   "file_extension": ".py",
   "mimetype": "text/x-python",
   "name": "python",
   "nbconvert_exporter": "python",
   "pygments_lexer": "ipython3",
   "version": "3.11.9"
  }
 },
 "nbformat": 4,
 "nbformat_minor": 2
}
