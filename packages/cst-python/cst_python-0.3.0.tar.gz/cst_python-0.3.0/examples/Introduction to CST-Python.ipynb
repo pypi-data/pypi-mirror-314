{
 "cells": [
  {
   "cell_type": "markdown",
   "metadata": {},
   "source": [
    "# Introduction to CST-Python\n",
    "\n",
    "[![Open in Colab](https://img.shields.io/badge/Open%20in%20Colab-F9AB00?style=for-the-badge&logo=googlecolab&color=525252)](https://colab.research.google.com/github/H-IAAC/CST-Python/blob/main/examples/Introduction%20to%20CST-Python.ipynb) [![Open in Github](https://img.shields.io/badge/Open%20in%20Github-100000?style=for-the-badge&logo=github&logoColor=white)](https://github.com/H-IAAC/CST-Python/blob/main/examples/Introduction%20to%20CST-Python.ipynb)\n",
    "\n",
    "The CST (Cognitive Systems Toolkit) is a code toolkit for creating agents that implements Cognitive Architectures, that is, computational models of cognitive process in the mind of living beings. The core toolkit is the [Java CST](https://cst.fee.unicamp.br/), and CST-Python is a compatible implementation in Python.\n",
    "\n",
    "For building architectures, the CST defines three basic elements: Memory, Codelet and Mind, that will be presented in this tutorial."
   ]
  },
  {
   "cell_type": "markdown",
   "metadata": {},
   "source": [
    "Lets start by importing the CST-Python and other required modules:"
   ]
  },
  {
   "cell_type": "code",
   "execution_count": null,
   "metadata": {},
   "outputs": [],
   "source": [
    "try:\n",
    "    import cst_python\n",
    "except:\n",
    "    !python3 -m pip install cst_python"
   ]
  },
  {
   "cell_type": "code",
   "execution_count": 1,
   "metadata": {},
   "outputs": [],
   "source": [
    "import time\n",
    "\n",
    "import cst_python as cst"
   ]
  },
  {
   "cell_type": "markdown",
   "metadata": {},
   "source": [
    "## Memories: storing data"
   ]
  },
  {
   "cell_type": "markdown",
   "metadata": {},
   "source": [
    "The first element is the `Memory`. Memories are used to store data that are processed by the agent. That are many classes that implements the basic `Memory` class, but the most simple and used is the `MemoryObject`.\n",
    "\n",
    "Lets create one, and set it's name:"
   ]
  },
  {
   "cell_type": "code",
   "execution_count": 2,
   "metadata": {},
   "outputs": [],
   "source": [
    "memory = cst.MemoryObject()\n",
    "\n",
    "memory.set_name(\"My Memory\")"
   ]
  },
  {
   "cell_type": "markdown",
   "metadata": {},
   "source": [
    "We can check that the MemoryObject is a type of Memory:"
   ]
  },
  {
   "cell_type": "code",
   "execution_count": 3,
   "metadata": {
    "tags": [
     "check_interface"
    ]
   },
   "outputs": [
    {
     "data": {
      "text/plain": [
       "True"
      ]
     },
     "execution_count": 3,
     "metadata": {},
     "output_type": "execute_result"
    }
   ],
   "source": [
    "isinstance(memory, cst.core.entities.Memory)"
   ]
  },
  {
   "cell_type": "markdown",
   "metadata": {},
   "source": [
    "Each Memory has a integer id, a unique identifier (that are some details about when the 'id' is really unique), and a name:"
   ]
  },
  {
   "cell_type": "code",
   "execution_count": 4,
   "metadata": {
    "tags": [
     "basic_memory_members"
    ]
   },
   "outputs": [
    {
     "data": {
      "text/plain": [
       "(0, 'My Memory')"
      ]
     },
     "execution_count": 4,
     "metadata": {},
     "output_type": "execute_result"
    }
   ],
   "source": [
    "memory.get_id(), memory.get_name()"
   ]
  },
  {
   "cell_type": "markdown",
   "metadata": {},
   "source": [
    "And a `info`, the information that memory is actually storing. Because we didn't set any info, the current is `None`:"
   ]
  },
  {
   "cell_type": "code",
   "execution_count": 5,
   "metadata": {
    "tags": [
     "check_empty_memory"
    ]
   },
   "outputs": [
    {
     "data": {
      "text/plain": [
       "True"
      ]
     },
     "execution_count": 5,
     "metadata": {},
     "output_type": "execute_result"
    }
   ],
   "source": [
    "memory.get_info() is None"
   ]
  },
  {
   "cell_type": "markdown",
   "metadata": {},
   "source": [
    "Let's set a info. They can be any variable of any type:"
   ]
  },
  {
   "cell_type": "code",
   "execution_count": 6,
   "metadata": {
    "tags": [
     "set_info"
    ]
   },
   "outputs": [
    {
     "data": {
      "text/plain": [
       "-1"
      ]
     },
     "execution_count": 6,
     "metadata": {},
     "output_type": "execute_result"
    }
   ],
   "source": [
    "memory.set_info(\"My Memory's data\")"
   ]
  },
  {
   "cell_type": "markdown",
   "metadata": {},
   "source": [
    "We can now see that the stored info changed. Also, each Memory has a `timestamp`, they store the time when the memory's info have changed:"
   ]
  },
  {
   "cell_type": "code",
   "execution_count": 7,
   "metadata": {
    "tags": [
     "check_info_change"
    ]
   },
   "outputs": [
    {
     "data": {
      "text/plain": [
       "(\"My Memory's data\", 1729269027698)"
      ]
     },
     "execution_count": 7,
     "metadata": {},
     "output_type": "execute_result"
    }
   ],
   "source": [
    "memory.get_info(), memory.get_timestamp()"
   ]
  },
  {
   "cell_type": "markdown",
   "metadata": {},
   "source": [
    "## Codelets: cognitive processes"
   ]
  },
  {
   "cell_type": "markdown",
   "metadata": {},
   "source": [
    "But, a agent can't do nothing with only data. `Codelets` are elements of the architecture that process data, executing the agent's cognitive processes.\n",
    "\n",
    "Each Codelet can have any number of inputs and outputs memories. They can also be local or global, we will only use local inputs/outputs in this example."
   ]
  },
  {
   "cell_type": "markdown",
   "metadata": {},
   "source": [
    "For creating a codelet, we need to define the methods:\n",
    "- `access_memory_objects`: gets all the memories the codelet is going to use, localizable by name.\n",
    "- `calculate_activation`: computes the codelet's activation. We are not going to use this now.\n",
    "- `proc`: the actual function that the codelet performs, reading from the inputs, processing and setting the outputs.\n",
    "\n",
    "It is important to note that the codelet should only get inputs in the `access_memory_objects`, not in `proc`. The content of the memories (info) can be accessed everywhere.\n",
    "\n",
    "Also, the Codelet should be stateless. Any data necessary for its operation should be in the inputs."
   ]
  },
  {
   "cell_type": "markdown",
   "metadata": {},
   "source": [
    "Our first codelet is going to read a input value, adding one and sending this value to other memory:"
   ]
  },
  {
   "cell_type": "code",
   "execution_count": 8,
   "metadata": {},
   "outputs": [],
   "source": [
    "class MyFirstCodelet(cst.Codelet):\n",
    "\n",
    "    def __init__(self):\n",
    "        super().__init__()\n",
    "\n",
    "        self._input_mo : cst.MemoryObject | None = None\n",
    "        self._output_mo : cst.MemoryObject | None = None\n",
    "\n",
    "\n",
    "    def access_memory_objects(self):\n",
    "        self._input_mo = self.get_input(name=\"InputMemory\")\n",
    "        self._output_mo = self.get_output(name=\"OutputMemory\")\n",
    "\n",
    "    def calculate_activation(self):\n",
    "        pass\n",
    "\n",
    "    def proc(self):\n",
    "        read_value : float = self._input_mo.get_info()\n",
    "        \n",
    "        output_value = read_value + 1\n",
    "\n",
    "        self._output_mo.set_info(output_value)\n",
    "\n",
    "my_first_codelet = MyFirstCodelet()"
   ]
  },
  {
   "cell_type": "markdown",
   "metadata": {},
   "source": [
    "Before we can use the codelet, we need to create and add it's input and output, and execute `access_memory_objects`:"
   ]
  },
  {
   "cell_type": "code",
   "execution_count": 9,
   "metadata": {},
   "outputs": [],
   "source": [
    "input_memory = cst.MemoryObject()\n",
    "input_memory.set_name(\"InputMemory\")\n",
    "\n",
    "output_memory = cst.MemoryObject()\n",
    "output_memory.set_name(\"OutputMemory\")\n",
    "\n",
    "my_first_codelet.add_input(input_memory)\n",
    "my_first_codelet.add_output(output_memory)\n",
    "\n",
    "my_first_codelet.access_memory_objects()"
   ]
  },
  {
   "cell_type": "markdown",
   "metadata": {},
   "source": [
    "Lets test it by setting the info, running the `proc` and checking if the output value is correct:"
   ]
  },
  {
   "cell_type": "code",
   "execution_count": 10,
   "metadata": {
    "tags": [
     "check_codelet_working"
    ]
   },
   "outputs": [
    {
     "data": {
      "text/plain": [
       "1"
      ]
     },
     "execution_count": 10,
     "metadata": {},
     "output_type": "execute_result"
    }
   ],
   "source": [
    "input_memory.set_info(0)\n",
    "\n",
    "my_first_codelet.proc()\n",
    "\n",
    "output_memory.get_info()"
   ]
  },
  {
   "cell_type": "markdown",
   "metadata": {},
   "source": [
    "## Mind: organizing everything"
   ]
  },
  {
   "cell_type": "markdown",
   "metadata": {},
   "source": [
    "Now we can create all the data and cognitive process of the agent, but they need to be manually managed.\n",
    "\n",
    "The `Mind` element contains all the memories in its `RawMemory` and all the codelets in its `Coderack`. It also manage the execution of all the codelets and  is the expected way to create an agent with CST."
   ]
  },
  {
   "cell_type": "markdown",
   "metadata": {},
   "source": [
    "Lets create a Mind:"
   ]
  },
  {
   "cell_type": "code",
   "execution_count": 11,
   "metadata": {},
   "outputs": [],
   "source": [
    "mind = cst.Mind()"
   ]
  },
  {
   "cell_type": "markdown",
   "metadata": {},
   "source": [
    "Using a Mind, all the MemoryObjects need to be create by it (now each memory is guaranteed to have a unique id). We can also pass a default value, in this case `0` to the \"InputMemory\":"
   ]
  },
  {
   "cell_type": "code",
   "execution_count": 12,
   "metadata": {},
   "outputs": [],
   "source": [
    "input_memory = mind.create_memory_object(\"InputMemory\", 0)\n",
    "output_memory = mind.create_memory_object(\"OutputMemory\")"
   ]
  },
  {
   "cell_type": "markdown",
   "metadata": {},
   "source": [
    "We create the codelet and add it's inputs and outputs as before:"
   ]
  },
  {
   "cell_type": "code",
   "execution_count": 13,
   "metadata": {},
   "outputs": [],
   "source": [
    "my_first_codelet = MyFirstCodelet()\n",
    "my_first_codelet.add_input(input_memory)\n",
    "my_first_codelet.add_output(output_memory)"
   ]
  },
  {
   "cell_type": "markdown",
   "metadata": {},
   "source": [
    "But now insert it into the Mind:"
   ]
  },
  {
   "cell_type": "code",
   "execution_count": 14,
   "metadata": {},
   "outputs": [
    {
     "data": {
      "text/plain": [
       "<__main__.MyFirstCodelet at 0x1a3cef18f10>"
      ]
     },
     "execution_count": 14,
     "metadata": {},
     "output_type": "execute_result"
    }
   ],
   "source": [
    "mind.insert_codelet(my_first_codelet)"
   ]
  },
  {
   "cell_type": "markdown",
   "metadata": {},
   "source": [
    "When running using a Mind, it will run each codelet in a separated thread at a fixed rate. The default `time step` is 300 ms. Lets change it to 100 ms for a faster execution:"
   ]
  },
  {
   "cell_type": "code",
   "execution_count": 15,
   "metadata": {},
   "outputs": [],
   "source": [
    "my_first_codelet.time_step = 100"
   ]
  },
  {
   "cell_type": "markdown",
   "metadata": {},
   "source": [
    "The `start` method start the Mind and the execution of all the codelets:"
   ]
  },
  {
   "cell_type": "code",
   "execution_count": 16,
   "metadata": {},
   "outputs": [],
   "source": [
    "mind.start()"
   ]
  },
  {
   "cell_type": "markdown",
   "metadata": {},
   "source": [
    "After waiting our codelet run by 110 ms, we can check the added value in the ouput memory: "
   ]
  },
  {
   "cell_type": "code",
   "execution_count": 17,
   "metadata": {
    "tags": [
     "check_mind_scheduling"
    ]
   },
   "outputs": [
    {
     "data": {
      "text/plain": [
       "1"
      ]
     },
     "execution_count": 17,
     "metadata": {},
     "output_type": "execute_result"
    }
   ],
   "source": [
    "time.sleep(0.110)\n",
    "\n",
    "output_memory.get_info()"
   ]
  },
  {
   "cell_type": "markdown",
   "metadata": {},
   "source": [
    "We can also change the input memory, wait and check the modified value in the output:"
   ]
  },
  {
   "cell_type": "code",
   "execution_count": 18,
   "metadata": {
    "tags": [
     "example_change_memory"
    ]
   },
   "outputs": [
    {
     "data": {
      "text/plain": [
       "124"
      ]
     },
     "execution_count": 18,
     "metadata": {},
     "output_type": "execute_result"
    }
   ],
   "source": [
    "input_memory.set_info(123)\n",
    "\n",
    "time.sleep(0.110)\n",
    "\n",
    "output_memory.get_info()"
   ]
  },
  {
   "cell_type": "markdown",
   "metadata": {},
   "source": [
    "The `shutdown` method stops the execution of the Mind:"
   ]
  },
  {
   "cell_type": "code",
   "execution_count": 19,
   "metadata": {},
   "outputs": [],
   "source": [
    "mind.shutdown()"
   ]
  }
 ],
 "metadata": {
  "kernelspec": {
   "display_name": "Python 3",
   "language": "python",
   "name": "python3"
  },
  "language_info": {
   "codemirror_mode": {
    "name": "ipython",
    "version": 3
   },
   "file_extension": ".py",
   "mimetype": "text/x-python",
   "name": "python",
   "nbconvert_exporter": "python",
   "pygments_lexer": "ipython3",
   "version": "3.11.9"
  }
 },
 "nbformat": 4,
 "nbformat_minor": 2
}
